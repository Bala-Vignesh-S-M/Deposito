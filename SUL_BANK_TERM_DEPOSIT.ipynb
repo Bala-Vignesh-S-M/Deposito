{
  "nbformat": 4,
  "nbformat_minor": 0,
  "metadata": {
    "colab": {
      "name": "SUL_BANK-TERM-DEPOSIT.ipynb",
      "provenance": [],
      "collapsed_sections": [
        "6RKXwVk5_Brq",
        "OdwzgHwh6GYI"
      ]
    },
    "kernelspec": {
      "name": "python3",
      "display_name": "Python 3"
    },
    "language_info": {
      "name": "python"
    }
  },
  "cells": [
    {
      "cell_type": "markdown",
      "metadata": {
        "id": "8HSNlSKpt5vM"
      },
      "source": [
        "# **SUPERVISED LEARNING PACKAGE**"
      ]
    },
    {
      "cell_type": "markdown",
      "metadata": {
        "id": "gP9V0csNuCdq"
      },
      "source": [
        "# **DONE BY:** \n",
        "             19PD07 - BALA VIGNESH S M\n",
        "             19PD20 - VIJAYALAKSHMI M S"
      ]
    },
    {
      "cell_type": "markdown",
      "metadata": {
        "id": "x9VlTWpYGlzp"
      },
      "source": [
        "# **Importing the necessary Libraries**"
      ]
    },
    {
      "cell_type": "code",
      "metadata": {
        "id": "WJtYSg9Ajw6j"
      },
      "source": [
        "import pandas as pd\n",
        "import numpy as np \n",
        "from sklearn.metrics import roc_curve\n",
        "from sklearn import preprocessing\n",
        "from sklearn.naive_bayes import GaussianNB\n",
        "from sklearn.naive_bayes import BernoulliNB\n",
        "from sklearn.naive_bayes import MultinomialNB\n",
        "from sklearn.tree import DecisionTreeClassifier\n",
        "from sklearn.ensemble import RandomForestRegressor\n",
        "from sklearn.metrics import classification_report, confusion_matrix, accuracy_score\n",
        "from sklearn import svm\n",
        "from sklearn import metrics\n",
        "from sklearn.linear_model import Perceptron, LogisticRegression\n",
        "from sklearn.model_selection import LeaveOneOut\n",
        "from sklearn.model_selection import cross_val_score\n",
        "from sklearn.neighbors import KNeighborsClassifier\n",
        "import seaborn as sns\n",
        "from sklearn.svm import SVC \n",
        "import matplotlib.pyplot as plt\n",
        "from sklearn.metrics import roc_auc_score\n",
        "from sklearn import datasets\n",
        "from sklearn.tree import DecisionTreeClassifier \n",
        "from sklearn import tree\n",
        "%matplotlib inline"
      ],
      "execution_count": null,
      "outputs": []
    },
    {
      "cell_type": "markdown",
      "metadata": {
        "id": "TyW7G0gJuXSK"
      },
      "source": [
        "## **READING THE DATASET**"
      ]
    },
    {
      "cell_type": "code",
      "metadata": {
        "colab": {
          "base_uri": "https://localhost:8080/",
          "height": 478
        },
        "id": "Yy74UjfumykO",
        "outputId": "c4a59140-a2bf-471b-c423-7e6bf2968f68"
      },
      "source": [
        "data = pd.read_csv('/content/bank_term_deposit.csv')\n",
        "df = data.copy()\n",
        "df = df.dropna()\n",
        "df"
      ],
      "execution_count": null,
      "outputs": [
        {
          "output_type": "execute_result",
          "data": {
            "text/html": [
              "<div>\n",
              "<style scoped>\n",
              "    .dataframe tbody tr th:only-of-type {\n",
              "        vertical-align: middle;\n",
              "    }\n",
              "\n",
              "    .dataframe tbody tr th {\n",
              "        vertical-align: top;\n",
              "    }\n",
              "\n",
              "    .dataframe thead th {\n",
              "        text-align: right;\n",
              "    }\n",
              "</style>\n",
              "<table border=\"1\" class=\"dataframe\">\n",
              "  <thead>\n",
              "    <tr style=\"text-align: right;\">\n",
              "      <th></th>\n",
              "      <th>age</th>\n",
              "      <th>job</th>\n",
              "      <th>marital</th>\n",
              "      <th>education</th>\n",
              "      <th>default</th>\n",
              "      <th>balance</th>\n",
              "      <th>housing</th>\n",
              "      <th>loan</th>\n",
              "      <th>contact</th>\n",
              "      <th>day</th>\n",
              "      <th>month</th>\n",
              "      <th>duration</th>\n",
              "      <th>campaign</th>\n",
              "      <th>pdays</th>\n",
              "      <th>previous</th>\n",
              "      <th>poutcome</th>\n",
              "      <th>y</th>\n",
              "    </tr>\n",
              "  </thead>\n",
              "  <tbody>\n",
              "    <tr>\n",
              "      <th>0</th>\n",
              "      <td>30.0</td>\n",
              "      <td>unemployed</td>\n",
              "      <td>married</td>\n",
              "      <td>primary</td>\n",
              "      <td>no</td>\n",
              "      <td>1787.0</td>\n",
              "      <td>no</td>\n",
              "      <td>no</td>\n",
              "      <td>cellular</td>\n",
              "      <td>19</td>\n",
              "      <td>oct</td>\n",
              "      <td>79</td>\n",
              "      <td>1</td>\n",
              "      <td>-1</td>\n",
              "      <td>0</td>\n",
              "      <td>unknown</td>\n",
              "      <td>no</td>\n",
              "    </tr>\n",
              "    <tr>\n",
              "      <th>1</th>\n",
              "      <td>33.0</td>\n",
              "      <td>services</td>\n",
              "      <td>married</td>\n",
              "      <td>secondary</td>\n",
              "      <td>no</td>\n",
              "      <td>4789.0</td>\n",
              "      <td>yes</td>\n",
              "      <td>yes</td>\n",
              "      <td>cellular</td>\n",
              "      <td>11</td>\n",
              "      <td>may</td>\n",
              "      <td>220</td>\n",
              "      <td>1</td>\n",
              "      <td>339</td>\n",
              "      <td>4</td>\n",
              "      <td>failure</td>\n",
              "      <td>no</td>\n",
              "    </tr>\n",
              "    <tr>\n",
              "      <th>3</th>\n",
              "      <td>30.0</td>\n",
              "      <td>management</td>\n",
              "      <td>married</td>\n",
              "      <td>tertiary</td>\n",
              "      <td>no</td>\n",
              "      <td>1476.0</td>\n",
              "      <td>yes</td>\n",
              "      <td>yes</td>\n",
              "      <td>unknown</td>\n",
              "      <td>3</td>\n",
              "      <td>jun</td>\n",
              "      <td>199</td>\n",
              "      <td>4</td>\n",
              "      <td>-1</td>\n",
              "      <td>0</td>\n",
              "      <td>unknown</td>\n",
              "      <td>no</td>\n",
              "    </tr>\n",
              "    <tr>\n",
              "      <th>6</th>\n",
              "      <td>36.0</td>\n",
              "      <td>self-employed</td>\n",
              "      <td>married</td>\n",
              "      <td>tertiary</td>\n",
              "      <td>no</td>\n",
              "      <td>37.0</td>\n",
              "      <td>yes</td>\n",
              "      <td>no</td>\n",
              "      <td>cellular</td>\n",
              "      <td>14</td>\n",
              "      <td>may</td>\n",
              "      <td>341</td>\n",
              "      <td>1</td>\n",
              "      <td>330</td>\n",
              "      <td>2</td>\n",
              "      <td>other</td>\n",
              "      <td>no</td>\n",
              "    </tr>\n",
              "    <tr>\n",
              "      <th>7</th>\n",
              "      <td>39.0</td>\n",
              "      <td>technician</td>\n",
              "      <td>married</td>\n",
              "      <td>secondary</td>\n",
              "      <td>no</td>\n",
              "      <td>147.0</td>\n",
              "      <td>yes</td>\n",
              "      <td>no</td>\n",
              "      <td>cellular</td>\n",
              "      <td>6</td>\n",
              "      <td>may</td>\n",
              "      <td>151</td>\n",
              "      <td>2</td>\n",
              "      <td>-1</td>\n",
              "      <td>0</td>\n",
              "      <td>unknown</td>\n",
              "      <td>no</td>\n",
              "    </tr>\n",
              "    <tr>\n",
              "      <th>...</th>\n",
              "      <td>...</td>\n",
              "      <td>...</td>\n",
              "      <td>...</td>\n",
              "      <td>...</td>\n",
              "      <td>...</td>\n",
              "      <td>...</td>\n",
              "      <td>...</td>\n",
              "      <td>...</td>\n",
              "      <td>...</td>\n",
              "      <td>...</td>\n",
              "      <td>...</td>\n",
              "      <td>...</td>\n",
              "      <td>...</td>\n",
              "      <td>...</td>\n",
              "      <td>...</td>\n",
              "      <td>...</td>\n",
              "      <td>...</td>\n",
              "    </tr>\n",
              "    <tr>\n",
              "      <th>4516</th>\n",
              "      <td>33.0</td>\n",
              "      <td>services</td>\n",
              "      <td>married</td>\n",
              "      <td>secondary</td>\n",
              "      <td>no</td>\n",
              "      <td>-333.0</td>\n",
              "      <td>yes</td>\n",
              "      <td>no</td>\n",
              "      <td>cellular</td>\n",
              "      <td>30</td>\n",
              "      <td>jul</td>\n",
              "      <td>329</td>\n",
              "      <td>5</td>\n",
              "      <td>-1</td>\n",
              "      <td>0</td>\n",
              "      <td>unknown</td>\n",
              "      <td>no</td>\n",
              "    </tr>\n",
              "    <tr>\n",
              "      <th>4517</th>\n",
              "      <td>57.0</td>\n",
              "      <td>self-employed</td>\n",
              "      <td>married</td>\n",
              "      <td>tertiary</td>\n",
              "      <td>yes</td>\n",
              "      <td>-3313.0</td>\n",
              "      <td>yes</td>\n",
              "      <td>yes</td>\n",
              "      <td>unknown</td>\n",
              "      <td>9</td>\n",
              "      <td>may</td>\n",
              "      <td>153</td>\n",
              "      <td>1</td>\n",
              "      <td>-1</td>\n",
              "      <td>0</td>\n",
              "      <td>unknown</td>\n",
              "      <td>no</td>\n",
              "    </tr>\n",
              "    <tr>\n",
              "      <th>4518</th>\n",
              "      <td>57.0</td>\n",
              "      <td>technician</td>\n",
              "      <td>married</td>\n",
              "      <td>secondary</td>\n",
              "      <td>no</td>\n",
              "      <td>295.0</td>\n",
              "      <td>no</td>\n",
              "      <td>no</td>\n",
              "      <td>cellular</td>\n",
              "      <td>19</td>\n",
              "      <td>aug</td>\n",
              "      <td>151</td>\n",
              "      <td>11</td>\n",
              "      <td>-1</td>\n",
              "      <td>0</td>\n",
              "      <td>unknown</td>\n",
              "      <td>no</td>\n",
              "    </tr>\n",
              "    <tr>\n",
              "      <th>4519</th>\n",
              "      <td>28.0</td>\n",
              "      <td>blue-collar</td>\n",
              "      <td>married</td>\n",
              "      <td>secondary</td>\n",
              "      <td>no</td>\n",
              "      <td>1137.0</td>\n",
              "      <td>no</td>\n",
              "      <td>no</td>\n",
              "      <td>cellular</td>\n",
              "      <td>6</td>\n",
              "      <td>feb</td>\n",
              "      <td>129</td>\n",
              "      <td>4</td>\n",
              "      <td>211</td>\n",
              "      <td>3</td>\n",
              "      <td>other</td>\n",
              "      <td>no</td>\n",
              "    </tr>\n",
              "    <tr>\n",
              "      <th>4520</th>\n",
              "      <td>44.0</td>\n",
              "      <td>entrepreneur</td>\n",
              "      <td>single</td>\n",
              "      <td>tertiary</td>\n",
              "      <td>no</td>\n",
              "      <td>1136.0</td>\n",
              "      <td>yes</td>\n",
              "      <td>yes</td>\n",
              "      <td>cellular</td>\n",
              "      <td>3</td>\n",
              "      <td>apr</td>\n",
              "      <td>345</td>\n",
              "      <td>2</td>\n",
              "      <td>249</td>\n",
              "      <td>7</td>\n",
              "      <td>other</td>\n",
              "      <td>no</td>\n",
              "    </tr>\n",
              "  </tbody>\n",
              "</table>\n",
              "<p>3682 rows × 17 columns</p>\n",
              "</div>"
            ],
            "text/plain": [
              "       age            job  marital  education  ... pdays  previous poutcome   y\n",
              "0     30.0     unemployed  married    primary  ...    -1         0  unknown  no\n",
              "1     33.0       services  married  secondary  ...   339         4  failure  no\n",
              "3     30.0     management  married   tertiary  ...    -1         0  unknown  no\n",
              "6     36.0  self-employed  married   tertiary  ...   330         2    other  no\n",
              "7     39.0     technician  married  secondary  ...    -1         0  unknown  no\n",
              "...    ...            ...      ...        ...  ...   ...       ...      ...  ..\n",
              "4516  33.0       services  married  secondary  ...    -1         0  unknown  no\n",
              "4517  57.0  self-employed  married   tertiary  ...    -1         0  unknown  no\n",
              "4518  57.0     technician  married  secondary  ...    -1         0  unknown  no\n",
              "4519  28.0    blue-collar  married  secondary  ...   211         3    other  no\n",
              "4520  44.0   entrepreneur   single   tertiary  ...   249         7    other  no\n",
              "\n",
              "[3682 rows x 17 columns]"
            ]
          },
          "metadata": {},
          "execution_count": 2
        }
      ]
    },
    {
      "cell_type": "markdown",
      "metadata": {
        "id": "zrQxSAmpu4_H"
      },
      "source": [
        "### **We read the dataset and removed the rows with Nan values**"
      ]
    },
    {
      "cell_type": "code",
      "metadata": {
        "colab": {
          "base_uri": "https://localhost:8080/",
          "height": 300
        },
        "id": "vV8Mz_IZTOD8",
        "outputId": "e6fb319d-e687-47da-bf8d-54277ed6f175"
      },
      "source": [
        "df.describe()"
      ],
      "execution_count": null,
      "outputs": [
        {
          "output_type": "execute_result",
          "data": {
            "text/html": [
              "<div>\n",
              "<style scoped>\n",
              "    .dataframe tbody tr th:only-of-type {\n",
              "        vertical-align: middle;\n",
              "    }\n",
              "\n",
              "    .dataframe tbody tr th {\n",
              "        vertical-align: top;\n",
              "    }\n",
              "\n",
              "    .dataframe thead th {\n",
              "        text-align: right;\n",
              "    }\n",
              "</style>\n",
              "<table border=\"1\" class=\"dataframe\">\n",
              "  <thead>\n",
              "    <tr style=\"text-align: right;\">\n",
              "      <th></th>\n",
              "      <th>age</th>\n",
              "      <th>balance</th>\n",
              "      <th>day</th>\n",
              "      <th>duration</th>\n",
              "      <th>campaign</th>\n",
              "      <th>pdays</th>\n",
              "      <th>previous</th>\n",
              "    </tr>\n",
              "  </thead>\n",
              "  <tbody>\n",
              "    <tr>\n",
              "      <th>count</th>\n",
              "      <td>3682.000000</td>\n",
              "      <td>3682.000000</td>\n",
              "      <td>3682.000000</td>\n",
              "      <td>3682.000000</td>\n",
              "      <td>3682.000000</td>\n",
              "      <td>3682.000000</td>\n",
              "      <td>3682.000000</td>\n",
              "    </tr>\n",
              "    <tr>\n",
              "      <th>mean</th>\n",
              "      <td>41.555133</td>\n",
              "      <td>1155.146659</td>\n",
              "      <td>15.780554</td>\n",
              "      <td>265.297664</td>\n",
              "      <td>2.731668</td>\n",
              "      <td>41.074144</td>\n",
              "      <td>0.531233</td>\n",
              "    </tr>\n",
              "    <tr>\n",
              "      <th>std</th>\n",
              "      <td>10.713621</td>\n",
              "      <td>2823.072567</td>\n",
              "      <td>8.256166</td>\n",
              "      <td>259.800412</td>\n",
              "      <td>2.938882</td>\n",
              "      <td>102.164428</td>\n",
              "      <td>1.647313</td>\n",
              "    </tr>\n",
              "    <tr>\n",
              "      <th>min</th>\n",
              "      <td>19.000000</td>\n",
              "      <td>-3313.000000</td>\n",
              "      <td>1.000000</td>\n",
              "      <td>4.000000</td>\n",
              "      <td>1.000000</td>\n",
              "      <td>-1.000000</td>\n",
              "      <td>0.000000</td>\n",
              "    </tr>\n",
              "    <tr>\n",
              "      <th>25%</th>\n",
              "      <td>32.000000</td>\n",
              "      <td>58.000000</td>\n",
              "      <td>8.000000</td>\n",
              "      <td>105.000000</td>\n",
              "      <td>1.000000</td>\n",
              "      <td>-1.000000</td>\n",
              "      <td>0.000000</td>\n",
              "    </tr>\n",
              "    <tr>\n",
              "      <th>50%</th>\n",
              "      <td>40.000000</td>\n",
              "      <td>314.500000</td>\n",
              "      <td>16.000000</td>\n",
              "      <td>188.000000</td>\n",
              "      <td>2.000000</td>\n",
              "      <td>-1.000000</td>\n",
              "      <td>0.000000</td>\n",
              "    </tr>\n",
              "    <tr>\n",
              "      <th>75%</th>\n",
              "      <td>49.000000</td>\n",
              "      <td>996.250000</td>\n",
              "      <td>21.000000</td>\n",
              "      <td>329.000000</td>\n",
              "      <td>3.000000</td>\n",
              "      <td>-1.000000</td>\n",
              "      <td>0.000000</td>\n",
              "    </tr>\n",
              "    <tr>\n",
              "      <th>max</th>\n",
              "      <td>87.000000</td>\n",
              "      <td>71188.000000</td>\n",
              "      <td>31.000000</td>\n",
              "      <td>2769.000000</td>\n",
              "      <td>44.000000</td>\n",
              "      <td>871.000000</td>\n",
              "      <td>24.000000</td>\n",
              "    </tr>\n",
              "  </tbody>\n",
              "</table>\n",
              "</div>"
            ],
            "text/plain": [
              "               age       balance  ...        pdays     previous\n",
              "count  3682.000000   3682.000000  ...  3682.000000  3682.000000\n",
              "mean     41.555133   1155.146659  ...    41.074144     0.531233\n",
              "std      10.713621   2823.072567  ...   102.164428     1.647313\n",
              "min      19.000000  -3313.000000  ...    -1.000000     0.000000\n",
              "25%      32.000000     58.000000  ...    -1.000000     0.000000\n",
              "50%      40.000000    314.500000  ...    -1.000000     0.000000\n",
              "75%      49.000000    996.250000  ...    -1.000000     0.000000\n",
              "max      87.000000  71188.000000  ...   871.000000    24.000000\n",
              "\n",
              "[8 rows x 7 columns]"
            ]
          },
          "metadata": {},
          "execution_count": 3
        }
      ]
    },
    {
      "cell_type": "markdown",
      "metadata": {
        "id": "33N0bqu-ufO0"
      },
      "source": [
        "### **We can see the mean, standard deviation, maximum values, etc of the individual feautures of the dataset in above table.**"
      ]
    },
    {
      "cell_type": "code",
      "metadata": {
        "id": "uPWZbr2L5NYC",
        "colab": {
          "base_uri": "https://localhost:8080/"
        },
        "outputId": "a03a41e0-6995-497c-bd49-ad64e0f97c54"
      },
      "source": [
        "df.info()"
      ],
      "execution_count": null,
      "outputs": [
        {
          "output_type": "stream",
          "name": "stdout",
          "text": [
            "<class 'pandas.core.frame.DataFrame'>\n",
            "Int64Index: 3682 entries, 0 to 4520\n",
            "Data columns (total 17 columns):\n",
            " #   Column     Non-Null Count  Dtype  \n",
            "---  ------     --------------  -----  \n",
            " 0   age        3682 non-null   float64\n",
            " 1   job        3682 non-null   object \n",
            " 2   marital    3682 non-null   object \n",
            " 3   education  3682 non-null   object \n",
            " 4   default    3682 non-null   object \n",
            " 5   balance    3682 non-null   float64\n",
            " 6   housing    3682 non-null   object \n",
            " 7   loan       3682 non-null   object \n",
            " 8   contact    3682 non-null   object \n",
            " 9   day        3682 non-null   int64  \n",
            " 10  month      3682 non-null   object \n",
            " 11  duration   3682 non-null   int64  \n",
            " 12  campaign   3682 non-null   int64  \n",
            " 13  pdays      3682 non-null   int64  \n",
            " 14  previous   3682 non-null   int64  \n",
            " 15  poutcome   3682 non-null   object \n",
            " 16  y          3682 non-null   object \n",
            "dtypes: float64(2), int64(5), object(10)\n",
            "memory usage: 517.8+ KB\n"
          ]
        }
      ]
    },
    {
      "cell_type": "markdown",
      "metadata": {
        "id": "pyxRYy9FvI7n"
      },
      "source": [
        "# **DATA VISUALISATION**"
      ]
    },
    {
      "cell_type": "markdown",
      "metadata": {
        "id": "MUL_ne2PvUEA"
      },
      "source": [
        "## **Bar graph of percentage job categories**"
      ]
    },
    {
      "cell_type": "code",
      "metadata": {
        "colab": {
          "base_uri": "https://localhost:8080/",
          "height": 265
        },
        "id": "nq7YyalMUNhu",
        "outputId": "e50c7213-4f51-4f2f-d46d-5b015f498a6a"
      },
      "source": [
        "data.job.value_counts(normalize=True)\n",
        "data.job.value_counts(normalize=True).plot.barh()\n",
        "plt.show()"
      ],
      "execution_count": null,
      "outputs": [
        {
          "output_type": "display_data",
          "data": {
            "image/png": "[encoded data removed]",
            "text/plain": [
              "<Figure size 432x288 with 1 Axes>"
            ]
          },
          "metadata": {
            "needs_background": "light"
          }
        }
      ]
    },
    {
      "cell_type": "markdown",
      "metadata": {
        "id": "sEAG6J0FvgGv"
      },
      "source": [
        "### **We can see that there are more people in job management followed with Blue-collar and Technician**"
      ]
    },
    {
      "cell_type": "markdown",
      "metadata": {
        "id": "50IO4Y05vyTa"
      },
      "source": [
        "## **Bar graph of percentage education categories**"
      ]
    },
    {
      "cell_type": "code",
      "metadata": {
        "colab": {
          "base_uri": "https://localhost:8080/",
          "height": 265
        },
        "id": "_6RCSmCCUNeP",
        "outputId": "5bc69b84-daf5-4f66-9ed8-6359816fd342"
      },
      "source": [
        "data.education.value_counts(normalize=True)\n",
        "data.education.value_counts(normalize=True).plot.barh()\n",
        "plt.show()"
      ],
      "execution_count": null,
      "outputs": [
        {
          "output_type": "display_data",
          "data": {
            "image/png": "[encoded data removed]",
            "text/plain": [
              "<Figure size 432x288 with 1 Axes>"
            ]
          },
          "metadata": {
            "needs_background": "light"
          }
        }
      ]
    },
    {
      "cell_type": "markdown",
      "metadata": {
        "id": "bTxkjLwzv9Z7"
      },
      "source": [
        "### **We can see that there are more people with secondary Education**"
      ]
    },
    {
      "cell_type": "markdown",
      "metadata": {
        "id": "LLtxhdlrwGM2"
      },
      "source": [
        "## **Bar graph of percentage poutcome categories**"
      ]
    },
    {
      "cell_type": "code",
      "metadata": {
        "colab": {
          "base_uri": "https://localhost:8080/",
          "height": 265
        },
        "id": "e7PXKVXXUNb4",
        "outputId": "caf96586-de0d-4bd4-817b-5e1c71564c03"
      },
      "source": [
        "data.poutcome.value_counts(normalize=True)\n",
        "data.poutcome.value_counts(normalize=True).plot.barh()\n",
        "plt.show()"
      ],
      "execution_count": null,
      "outputs": [
        {
          "output_type": "display_data",
          "data": {
            "image/png": "[encoded data removed]",
            "text/plain": [
              "<Figure size 432x288 with 1 Axes>"
            ]
          },
          "metadata": {
            "needs_background": "light"
          }
        }
      ]
    },
    {
      "cell_type": "markdown",
      "metadata": {
        "id": "wgkIlS93wMpI"
      },
      "source": [
        "### **We can see that more than 75 percentage of peoples has unknown poutcome**"
      ]
    },
    {
      "cell_type": "markdown",
      "metadata": {
        "id": "CkwWNkDtwWFK"
      },
      "source": [
        "## **Pie chart of Contact categories**"
      ]
    },
    {
      "cell_type": "code",
      "metadata": {
        "colab": {
          "base_uri": "https://localhost:8080/",
          "height": 248
        },
        "id": "DsNnUBmhWLxY",
        "outputId": "168980dd-e6db-4ec4-dacb-4371ea9eacb6"
      },
      "source": [
        "data.contact.value_counts(normalize=True)\n",
        "data.contact.value_counts(normalize=True).plot.pie()\n",
        "plt.show()"
      ],
      "execution_count": null,
      "outputs": [
        {
          "output_type": "display_data",
          "data": {
            "image/png": "[encoded data removed]",
            "text/plain": [
              "<Figure size 432x288 with 1 Axes>"
            ]
          },
          "metadata": {}
        }
      ]
    },
    {
      "cell_type": "markdown",
      "metadata": {
        "id": "LCEE4x6yweCy"
      },
      "source": [
        "### **We can see that many peoples are there with cellular contact**"
      ]
    },
    {
      "cell_type": "markdown",
      "metadata": {
        "id": "PxVtpcTOw1mt"
      },
      "source": [
        "## **Pie chart of output variable**"
      ]
    },
    {
      "cell_type": "code",
      "metadata": {
        "colab": {
          "base_uri": "https://localhost:8080/",
          "height": 248
        },
        "id": "4fn85rpmWLt3",
        "outputId": "f5462ab4-8ce7-4b0c-f322-cca695b2987c"
      },
      "source": [
        "data.y.value_counts(normalize=True)\n",
        "data.y.value_counts(normalize=True).plot.pie()\n",
        "plt.show()"
      ],
      "execution_count": null,
      "outputs": [
        {
          "output_type": "display_data",
          "data": {
            "image/png": "[encoded data removed]",
            "text/plain": [
              "<Figure size 432x288 with 1 Axes>"
            ]
          },
          "metadata": {}
        }
      ]
    },
    {
      "cell_type": "markdown",
      "metadata": {
        "id": "d2gr7wnTxDT5"
      },
      "source": [
        "### **We can clearly see that \"no\" is more dominant than \"yes\"**"
      ]
    },
    {
      "cell_type": "code",
      "metadata": {
        "id": "B_4ZyunzWLr4"
      },
      "source": [
        ""
      ],
      "execution_count": null,
      "outputs": []
    },
    {
      "cell_type": "markdown",
      "metadata": {
        "id": "mkWiCtesxMcK"
      },
      "source": [
        "## **Scatter plot between age and balance**"
      ]
    },
    {
      "cell_type": "code",
      "metadata": {
        "colab": {
          "base_uri": "https://localhost:8080/",
          "height": 265
        },
        "id": "D-N4xG_1WLpf",
        "outputId": "ceb5b6da-756a-43ab-8c83-7cb08c0fe0ca"
      },
      "source": [
        "plt.scatter(data.age,data.balance)\n",
        "plt.show()"
      ],
      "execution_count": null,
      "outputs": [
        {
          "output_type": "display_data",
          "data": {
            "image/png": "[encoded data removed]",
            "text/plain": [
              "<Figure size 432x288 with 1 Axes>"
            ]
          },
          "metadata": {
            "needs_background": "light"
          }
        }
      ]
    },
    {
      "cell_type": "markdown",
      "metadata": {
        "id": "uBzcFU92xTYJ"
      },
      "source": [
        "### **We can infer that age and balance is slightly left skewed**"
      ]
    },
    {
      "cell_type": "markdown",
      "metadata": {
        "id": "5JXc9p33xTUn"
      },
      "source": [
        "## **Scatter plot between duration and balance**"
      ]
    },
    {
      "cell_type": "code",
      "metadata": {
        "colab": {
          "base_uri": "https://localhost:8080/",
          "height": 265
        },
        "id": "bg5qaGmhWLne",
        "outputId": "77aa922a-a0c8-41bd-e0ae-6c29ea4a5d5b"
      },
      "source": [
        "plt.scatter(data.duration,data.pdays)\n",
        "plt.show()"
      ],
      "execution_count": null,
      "outputs": [
        {
          "output_type": "display_data",
          "data": {
            "image/png": "[encoded data removed]",
            "text/plain": [
              "<Figure size 432x288 with 1 Axes>"
            ]
          },
          "metadata": {
            "needs_background": "light"
          }
        }
      ]
    },
    {
      "cell_type": "markdown",
      "metadata": {
        "id": "KQW_aQ4lx5WL"
      },
      "source": [
        "### **Its clear that we dont see any collinearity here between the two feautures duration and pdays**"
      ]
    },
    {
      "cell_type": "markdown",
      "metadata": {
        "id": "2m16I9PCyHZc"
      },
      "source": [
        "## **Pair plot between duration, balance and age**"
      ]
    },
    {
      "cell_type": "code",
      "metadata": {
        "colab": {
          "base_uri": "https://localhost:8080/",
          "height": 550
        },
        "id": "pjlSizidWLix",
        "outputId": "322bcc90-dcd4-43c6-af3c-14089d7161a9"
      },
      "source": [
        "sns.pairplot(data = data, vars=['duration','balance','age'])\n",
        "plt.show()"
      ],
      "execution_count": null,
      "outputs": [
        {
          "output_type": "display_data",
          "data": {
            "image/png": "[encoded data removed]",
            "text/plain": [
              "<Figure size 540x540 with 12 Axes>"
            ]
          },
          "metadata": {
            "needs_background": "light"
          }
        }
      ]
    },
    {
      "cell_type": "markdown",
      "metadata": {
        "id": "lLQtEcPNlAsH"
      },
      "source": [
        "### **Above plot is the scatter plots of every pair of feautures(duration balance, age)**"
      ]
    },
    {
      "cell_type": "code",
      "metadata": {
        "id": "klIqKf9SWLgU"
      },
      "source": [
        ""
      ],
      "execution_count": null,
      "outputs": []
    },
    {
      "cell_type": "markdown",
      "metadata": {
        "id": "vgcKludnyxlW"
      },
      "source": [
        "## **Correlation matrix of salary, balance and age.**"
      ]
    },
    {
      "cell_type": "code",
      "metadata": {
        "colab": {
          "base_uri": "https://localhost:8080/",
          "height": 269
        },
        "id": "7MqyMr_pYmSP",
        "outputId": "26646f25-56e1-4404-e8a1-188fa658488e"
      },
      "source": [
        "data[['age','duration','balance']].corr()\n",
        "sns.heatmap(data[['age','duration','balance']].corr(), annot=True, cmap = 'Reds')\n",
        "plt.show()"
      ],
      "execution_count": null,
      "outputs": [
        {
          "output_type": "display_data",
          "data": {
            "image/png": "[encoded data removed]",
            "text/plain": [
              "<Figure size 432x288 with 2 Axes>"
            ]
          },
          "metadata": {
            "needs_background": "light"
          }
        }
      ]
    },
    {
      "cell_type": "markdown",
      "metadata": {
        "id": "R2IOHjkPy6yk"
      },
      "source": [
        "### **We can see that no two distict feautures have correlation coefficient more than 0.1. So there isn't a problem of multicollinearity and problem of overfitting**"
      ]
    },
    {
      "cell_type": "code",
      "metadata": {
        "id": "ngCBINmaYmO6"
      },
      "source": [
        ""
      ],
      "execution_count": null,
      "outputs": []
    },
    {
      "cell_type": "code",
      "metadata": {
        "colab": {
          "base_uri": "https://localhost:8080/",
          "height": 334
        },
        "id": "7ErfSvR-YmKz",
        "outputId": "51520d1b-ecbb-4ad6-86d4-4642f8ec001c"
      },
      "source": [
        "sns.boxplot(data.y, data.duration)\n",
        "plt.show()"
      ],
      "execution_count": null,
      "outputs": [
        {
          "output_type": "stream",
          "name": "stderr",
          "text": [
            "/usr/local/lib/python3.7/dist-packages/seaborn/_decorators.py:43: FutureWarning: Pass the following variables as keyword args: x, y. From version 0.12, the only valid positional argument will be `data`, and passing other arguments without an explicit keyword will result in an error or misinterpretation.\n",
            "  FutureWarning\n"
          ]
        },
        {
          "output_type": "display_data",
          "data": {
            "image/png": "[encoded data removed]",
            "text/plain": [
              "<Figure size 432x288 with 1 Axes>"
            ]
          },
          "metadata": {
            "needs_background": "light"
          }
        }
      ]
    },
    {
      "cell_type": "markdown",
      "metadata": {
        "id": "kWIvHoqJm9Nm"
      },
      "source": [
        "### **Above is the box plot between output variable and duration which visually represents the outlier**"
      ]
    },
    {
      "cell_type": "code",
      "metadata": {
        "colab": {
          "base_uri": "https://localhost:8080/",
          "height": 337
        },
        "id": "ocYFQYAfYmIe",
        "outputId": "b2008cb5-563d-4b8e-9514-d9cae00a6f4c"
      },
      "source": [
        "sns.boxplot(data.y, data.age)\n",
        "plt.show()"
      ],
      "execution_count": null,
      "outputs": [
        {
          "output_type": "stream",
          "name": "stderr",
          "text": [
            "/usr/local/lib/python3.7/dist-packages/seaborn/_decorators.py:43: FutureWarning: Pass the following variables as keyword args: x, y. From version 0.12, the only valid positional argument will be `data`, and passing other arguments without an explicit keyword will result in an error or misinterpretation.\n",
            "  FutureWarning\n"
          ]
        },
        {
          "output_type": "display_data",
          "data": {
            "image/png": "[encoded data removed]",
            "text/plain": [
              "<Figure size 432x288 with 1 Axes>"
            ]
          },
          "metadata": {
            "needs_background": "light"
          }
        }
      ]
    },
    {
      "cell_type": "markdown",
      "metadata": {
        "id": "Hob2m8HunHoC"
      },
      "source": [
        "### **Above is the box plot between age and duration which visually represents the outlier**"
      ]
    },
    {
      "cell_type": "code",
      "metadata": {
        "id": "chsTGclwUNUp"
      },
      "source": [
        ""
      ],
      "execution_count": null,
      "outputs": []
    },
    {
      "cell_type": "markdown",
      "metadata": {
        "id": "a_T--iSOnQGb"
      },
      "source": [
        "# **PREPROCESSING THE DATASET**"
      ]
    },
    {
      "cell_type": "code",
      "metadata": {
        "id": "oyaSeZtOUNQb"
      },
      "source": [
        ""
      ],
      "execution_count": null,
      "outputs": []
    },
    {
      "cell_type": "markdown",
      "metadata": {
        "id": "JPVMIK9ynWYH"
      },
      "source": [
        "## **We can't model the algorithms with catagorical feautures. So use the preprocessing library and LabelEncoder function to convert the feautures with catagorical values to integers or floats.**"
      ]
    },
    {
      "cell_type": "code",
      "metadata": {
        "id": "XEbDyfCHnJJ6"
      },
      "source": [
        "le = preprocessing.LabelEncoder()\n",
        "job_encoded=le.fit_transform(df['job'])"
      ],
      "execution_count": null,
      "outputs": []
    },
    {
      "cell_type": "code",
      "metadata": {
        "id": "AAlUyej0n8Bq"
      },
      "source": [
        "marital_encoded=le.fit_transform(df['marital'])"
      ],
      "execution_count": null,
      "outputs": []
    },
    {
      "cell_type": "code",
      "metadata": {
        "id": "wMIW6IkPo6Jz"
      },
      "source": [
        "education_encoded=le.fit_transform(df['education'])"
      ],
      "execution_count": null,
      "outputs": []
    },
    {
      "cell_type": "code",
      "metadata": {
        "id": "y3jCuM3ApJ7I"
      },
      "source": [
        "default_encoded=le.fit_transform(df['default'])"
      ],
      "execution_count": null,
      "outputs": []
    },
    {
      "cell_type": "code",
      "metadata": {
        "id": "pQlReFJZpWzn"
      },
      "source": [
        "housing_encoded=le.fit_transform(df['housing'])"
      ],
      "execution_count": null,
      "outputs": []
    },
    {
      "cell_type": "code",
      "metadata": {
        "id": "vGp3LPaxpXnh"
      },
      "source": [
        "loan_encoded=le.fit_transform(df['loan'])"
      ],
      "execution_count": null,
      "outputs": []
    },
    {
      "cell_type": "code",
      "metadata": {
        "id": "RYBPRjpfpXj9"
      },
      "source": [
        "contact_encoded=le.fit_transform(df['contact'])"
      ],
      "execution_count": null,
      "outputs": []
    },
    {
      "cell_type": "code",
      "metadata": {
        "id": "GoSSpAqhpXiB"
      },
      "source": [
        "month_encoded=le.fit_transform(df['month'])"
      ],
      "execution_count": null,
      "outputs": []
    },
    {
      "cell_type": "code",
      "metadata": {
        "id": "C8-OCDaJpXgR"
      },
      "source": [
        "poutcome_encoded=le.fit_transform(df['poutcome'])"
      ],
      "execution_count": null,
      "outputs": []
    },
    {
      "cell_type": "code",
      "metadata": {
        "id": "kJgIbhqvsQl1"
      },
      "source": [
        "y_encoded = le.fit_transform(df['y'])"
      ],
      "execution_count": null,
      "outputs": []
    },
    {
      "cell_type": "markdown",
      "metadata": {
        "id": "GrwcqFCfqyj1"
      },
      "source": [
        "# **swapping the columns**"
      ]
    },
    {
      "cell_type": "code",
      "metadata": {
        "colab": {
          "base_uri": "https://localhost:8080/",
          "height": 423
        },
        "id": "KcTGQ6qDpXeL",
        "outputId": "efc92807-2ed0-430c-dd5b-0599dbfda2e7"
      },
      "source": [
        "#df = df.drop(['job', 'marital', 'poutcome', 'month', 'contact', 'loan', 'housing', 'default', 'education'], axis = 1)\n",
        "df['job'] = list(job_encoded)\n",
        "df['marital'] = list(marital_encoded)\n",
        "df['poutcome'] = list(poutcome_encoded)\n",
        "df['month'] = list(month_encoded)\n",
        "df['contact'] = list(contact_encoded)\n",
        "df['loan'] = list(loan_encoded)\n",
        "df['housing'] = list(housing_encoded)\n",
        "df['default'] = list(default_encoded)\n",
        "df['education'] = list(education_encoded)\n",
        "df['y'] = list(y_encoded)\n",
        "df"
      ],
      "execution_count": null,
      "outputs": [
        {
          "output_type": "execute_result",
          "data": {
            "text/html": [
              "<div>\n",
              "<style scoped>\n",
              "    .dataframe tbody tr th:only-of-type {\n",
              "        vertical-align: middle;\n",
              "    }\n",
              "\n",
              "    .dataframe tbody tr th {\n",
              "        vertical-align: top;\n",
              "    }\n",
              "\n",
              "    .dataframe thead th {\n",
              "        text-align: right;\n",
              "    }\n",
              "</style>\n",
              "<table border=\"1\" class=\"dataframe\">\n",
              "  <thead>\n",
              "    <tr style=\"text-align: right;\">\n",
              "      <th></th>\n",
              "      <th>age</th>\n",
              "      <th>job</th>\n",
              "      <th>marital</th>\n",
              "      <th>education</th>\n",
              "      <th>default</th>\n",
              "      <th>balance</th>\n",
              "      <th>housing</th>\n",
              "      <th>loan</th>\n",
              "      <th>contact</th>\n",
              "      <th>day</th>\n",
              "      <th>month</th>\n",
              "      <th>duration</th>\n",
              "      <th>campaign</th>\n",
              "      <th>pdays</th>\n",
              "      <th>previous</th>\n",
              "      <th>poutcome</th>\n",
              "      <th>y</th>\n",
              "    </tr>\n",
              "  </thead>\n",
              "  <tbody>\n",
              "    <tr>\n",
              "      <th>0</th>\n",
              "      <td>30.0</td>\n",
              "      <td>10</td>\n",
              "      <td>1</td>\n",
              "      <td>0</td>\n",
              "      <td>0</td>\n",
              "      <td>1787.0</td>\n",
              "      <td>0</td>\n",
              "      <td>0</td>\n",
              "      <td>0</td>\n",
              "      <td>19</td>\n",
              "      <td>10</td>\n",
              "      <td>79</td>\n",
              "      <td>1</td>\n",
              "      <td>-1</td>\n",
              "      <td>0</td>\n",
              "      <td>3</td>\n",
              "      <td>0</td>\n",
              "    </tr>\n",
              "    <tr>\n",
              "      <th>1</th>\n",
              "      <td>33.0</td>\n",
              "      <td>7</td>\n",
              "      <td>1</td>\n",
              "      <td>1</td>\n",
              "      <td>0</td>\n",
              "      <td>4789.0</td>\n",
              "      <td>1</td>\n",
              "      <td>1</td>\n",
              "      <td>0</td>\n",
              "      <td>11</td>\n",
              "      <td>8</td>\n",
              "      <td>220</td>\n",
              "      <td>1</td>\n",
              "      <td>339</td>\n",
              "      <td>4</td>\n",
              "      <td>0</td>\n",
              "      <td>0</td>\n",
              "    </tr>\n",
              "    <tr>\n",
              "      <th>3</th>\n",
              "      <td>30.0</td>\n",
              "      <td>4</td>\n",
              "      <td>1</td>\n",
              "      <td>2</td>\n",
              "      <td>0</td>\n",
              "      <td>1476.0</td>\n",
              "      <td>1</td>\n",
              "      <td>1</td>\n",
              "      <td>2</td>\n",
              "      <td>3</td>\n",
              "      <td>6</td>\n",
              "      <td>199</td>\n",
              "      <td>4</td>\n",
              "      <td>-1</td>\n",
              "      <td>0</td>\n",
              "      <td>3</td>\n",
              "      <td>0</td>\n",
              "    </tr>\n",
              "    <tr>\n",
              "      <th>6</th>\n",
              "      <td>36.0</td>\n",
              "      <td>6</td>\n",
              "      <td>1</td>\n",
              "      <td>2</td>\n",
              "      <td>0</td>\n",
              "      <td>37.0</td>\n",
              "      <td>1</td>\n",
              "      <td>0</td>\n",
              "      <td>0</td>\n",
              "      <td>14</td>\n",
              "      <td>8</td>\n",
              "      <td>341</td>\n",
              "      <td>1</td>\n",
              "      <td>330</td>\n",
              "      <td>2</td>\n",
              "      <td>1</td>\n",
              "      <td>0</td>\n",
              "    </tr>\n",
              "    <tr>\n",
              "      <th>7</th>\n",
              "      <td>39.0</td>\n",
              "      <td>9</td>\n",
              "      <td>1</td>\n",
              "      <td>1</td>\n",
              "      <td>0</td>\n",
              "      <td>147.0</td>\n",
              "      <td>1</td>\n",
              "      <td>0</td>\n",
              "      <td>0</td>\n",
              "      <td>6</td>\n",
              "      <td>8</td>\n",
              "      <td>151</td>\n",
              "      <td>2</td>\n",
              "      <td>-1</td>\n",
              "      <td>0</td>\n",
              "      <td>3</td>\n",
              "      <td>0</td>\n",
              "    </tr>\n",
              "    <tr>\n",
              "      <th>...</th>\n",
              "      <td>...</td>\n",
              "      <td>...</td>\n",
              "      <td>...</td>\n",
              "      <td>...</td>\n",
              "      <td>...</td>\n",
              "      <td>...</td>\n",
              "      <td>...</td>\n",
              "      <td>...</td>\n",
              "      <td>...</td>\n",
              "      <td>...</td>\n",
              "      <td>...</td>\n",
              "      <td>...</td>\n",
              "      <td>...</td>\n",
              "      <td>...</td>\n",
              "      <td>...</td>\n",
              "      <td>...</td>\n",
              "      <td>...</td>\n",
              "    </tr>\n",
              "    <tr>\n",
              "      <th>4516</th>\n",
              "      <td>33.0</td>\n",
              "      <td>7</td>\n",
              "      <td>1</td>\n",
              "      <td>1</td>\n",
              "      <td>0</td>\n",
              "      <td>-333.0</td>\n",
              "      <td>1</td>\n",
              "      <td>0</td>\n",
              "      <td>0</td>\n",
              "      <td>30</td>\n",
              "      <td>5</td>\n",
              "      <td>329</td>\n",
              "      <td>5</td>\n",
              "      <td>-1</td>\n",
              "      <td>0</td>\n",
              "      <td>3</td>\n",
              "      <td>0</td>\n",
              "    </tr>\n",
              "    <tr>\n",
              "      <th>4517</th>\n",
              "      <td>57.0</td>\n",
              "      <td>6</td>\n",
              "      <td>1</td>\n",
              "      <td>2</td>\n",
              "      <td>1</td>\n",
              "      <td>-3313.0</td>\n",
              "      <td>1</td>\n",
              "      <td>1</td>\n",
              "      <td>2</td>\n",
              "      <td>9</td>\n",
              "      <td>8</td>\n",
              "      <td>153</td>\n",
              "      <td>1</td>\n",
              "      <td>-1</td>\n",
              "      <td>0</td>\n",
              "      <td>3</td>\n",
              "      <td>0</td>\n",
              "    </tr>\n",
              "    <tr>\n",
              "      <th>4518</th>\n",
              "      <td>57.0</td>\n",
              "      <td>9</td>\n",
              "      <td>1</td>\n",
              "      <td>1</td>\n",
              "      <td>0</td>\n",
              "      <td>295.0</td>\n",
              "      <td>0</td>\n",
              "      <td>0</td>\n",
              "      <td>0</td>\n",
              "      <td>19</td>\n",
              "      <td>1</td>\n",
              "      <td>151</td>\n",
              "      <td>11</td>\n",
              "      <td>-1</td>\n",
              "      <td>0</td>\n",
              "      <td>3</td>\n",
              "      <td>0</td>\n",
              "    </tr>\n",
              "    <tr>\n",
              "      <th>4519</th>\n",
              "      <td>28.0</td>\n",
              "      <td>1</td>\n",
              "      <td>1</td>\n",
              "      <td>1</td>\n",
              "      <td>0</td>\n",
              "      <td>1137.0</td>\n",
              "      <td>0</td>\n",
              "      <td>0</td>\n",
              "      <td>0</td>\n",
              "      <td>6</td>\n",
              "      <td>3</td>\n",
              "      <td>129</td>\n",
              "      <td>4</td>\n",
              "      <td>211</td>\n",
              "      <td>3</td>\n",
              "      <td>1</td>\n",
              "      <td>0</td>\n",
              "    </tr>\n",
              "    <tr>\n",
              "      <th>4520</th>\n",
              "      <td>44.0</td>\n",
              "      <td>2</td>\n",
              "      <td>2</td>\n",
              "      <td>2</td>\n",
              "      <td>0</td>\n",
              "      <td>1136.0</td>\n",
              "      <td>1</td>\n",
              "      <td>1</td>\n",
              "      <td>0</td>\n",
              "      <td>3</td>\n",
              "      <td>0</td>\n",
              "      <td>345</td>\n",
              "      <td>2</td>\n",
              "      <td>249</td>\n",
              "      <td>7</td>\n",
              "      <td>1</td>\n",
              "      <td>0</td>\n",
              "    </tr>\n",
              "  </tbody>\n",
              "</table>\n",
              "<p>3682 rows × 17 columns</p>\n",
              "</div>"
            ],
            "text/plain": [
              "       age  job  marital  education  ...  pdays  previous  poutcome  y\n",
              "0     30.0   10        1          0  ...     -1         0         3  0\n",
              "1     33.0    7        1          1  ...    339         4         0  0\n",
              "3     30.0    4        1          2  ...     -1         0         3  0\n",
              "6     36.0    6        1          2  ...    330         2         1  0\n",
              "7     39.0    9        1          1  ...     -1         0         3  0\n",
              "...    ...  ...      ...        ...  ...    ...       ...       ... ..\n",
              "4516  33.0    7        1          1  ...     -1         0         3  0\n",
              "4517  57.0    6        1          2  ...     -1         0         3  0\n",
              "4518  57.0    9        1          1  ...     -1         0         3  0\n",
              "4519  28.0    1        1          1  ...    211         3         1  0\n",
              "4520  44.0    2        2          2  ...    249         7         1  0\n",
              "\n",
              "[3682 rows x 17 columns]"
            ]
          },
          "metadata": {},
          "execution_count": 26
        }
      ]
    },
    {
      "cell_type": "markdown",
      "metadata": {
        "id": "4mJq9BhQIeR-"
      },
      "source": [
        "## **Lets initialize a empty dictionary to have track of models, its AUC score and its accuracy**"
      ]
    },
    {
      "cell_type": "code",
      "metadata": {
        "id": "4-4Zt0wvx1Vb"
      },
      "source": [
        "models = {}\n",
        "AUC = {}"
      ],
      "execution_count": null,
      "outputs": []
    },
    {
      "cell_type": "markdown",
      "metadata": {
        "id": "PkdVoR_MszIz"
      },
      "source": [
        "# **Gaussian Naive Bayes**"
      ]
    },
    {
      "cell_type": "code",
      "metadata": {
        "id": "3NVavYVVsiff"
      },
      "source": [
        "x = df.drop(['y'], axis = 1)\n",
        "y = df['y']\n",
        "#x = (x - np.min(x)) / (np.max(x) - np.min(x))"
      ],
      "execution_count": null,
      "outputs": []
    },
    {
      "cell_type": "markdown",
      "metadata": {
        "id": "KzYT2REmwIpP"
      },
      "source": [
        "## **We are using hold-out method for splitting the dataset with 70% for training set and 30% for testing**"
      ]
    },
    {
      "cell_type": "code",
      "metadata": {
        "id": "QvJRRvgDsoEv"
      },
      "source": [
        "from sklearn.model_selection import train_test_split\n",
        "\n",
        "x_train, x_test, y_train, y_test = train_test_split(x, y, test_size = 0.3, random_state = 42)"
      ],
      "execution_count": null,
      "outputs": []
    },
    {
      "cell_type": "code",
      "metadata": {
        "id": "FLn2_5NosoBS"
      },
      "source": [
        "nb = GaussianNB()\n",
        "nb.fit(x_train, y_train)\n",
        "pred_gau=nb.predict(x_test)"
      ],
      "execution_count": null,
      "outputs": []
    },
    {
      "cell_type": "code",
      "metadata": {
        "colab": {
          "base_uri": "https://localhost:8080/"
        },
        "id": "kc_sER8Ysn-p",
        "outputId": "6a8c55d3-4248-4f15-8acd-c8f953f6a06b"
      },
      "source": [
        "print(\"Gaussian Naive Bayes score: \",nb.score(x_test, y_test))"
      ],
      "execution_count": null,
      "outputs": [
        {
          "output_type": "stream",
          "name": "stdout",
          "text": [
            "Gaussian Naive Bayes score:  0.8506787330316742\n"
          ]
        }
      ]
    },
    {
      "cell_type": "code",
      "metadata": {
        "id": "2xy_95-fpRwM"
      },
      "source": [
        "fpr1, tpr1, thresh1 = roc_curve(y_test, pred_gau, pos_label=1)"
      ],
      "execution_count": null,
      "outputs": []
    },
    {
      "cell_type": "code",
      "metadata": {
        "colab": {
          "base_uri": "https://localhost:8080/"
        },
        "id": "NK7-DdWY13d2",
        "outputId": "f9433aae-2109-4e87-c7c9-48c483c939c0"
      },
      "source": [
        "auc_score1 = roc_auc_score(y_test, pred_gau)\n",
        "print(auc_score1)"
      ],
      "execution_count": null,
      "outputs": [
        {
          "output_type": "stream",
          "name": "stdout",
          "text": [
            "0.6651831785345718\n"
          ]
        }
      ]
    },
    {
      "cell_type": "code",
      "metadata": {
        "colab": {
          "base_uri": "https://localhost:8080/"
        },
        "id": "48rmBWpLLSVp",
        "outputId": "d00ce160-047e-4c03-b11c-e6a8d0992131"
      },
      "source": [
        "print(classification_report(y_test,pred_gau))"
      ],
      "execution_count": null,
      "outputs": [
        {
          "output_type": "stream",
          "name": "stdout",
          "text": [
            "              precision    recall  f1-score   support\n",
            "\n",
            "           0       0.92      0.91      0.91       969\n",
            "           1       0.40      0.42      0.41       136\n",
            "\n",
            "    accuracy                           0.85      1105\n",
            "   macro avg       0.66      0.67      0.66      1105\n",
            "weighted avg       0.85      0.85      0.85      1105\n",
            "\n"
          ]
        }
      ]
    },
    {
      "cell_type": "code",
      "metadata": {
        "colab": {
          "base_uri": "https://localhost:8080/"
        },
        "id": "bDJHpX9Mx-YO",
        "outputId": "33e1011e-2d8b-4ca9-cc1b-2853efeb0563"
      },
      "source": [
        "models[1] =['Gaussian Naive Bayes', nb.score(x_test, y_test)] \n",
        "models"
      ],
      "execution_count": null,
      "outputs": [
        {
          "output_type": "execute_result",
          "data": {
            "text/plain": [
              "{1: ['Gaussian Naive Bayes', 0.8624434389140272],\n",
              " 2: ['Multinomial Naive Bayes', 0.49411764705882355],\n",
              " 3: ['Decision Tree Classifier', 0.8624434389140272],\n",
              " 4: ['Random Forest Regressor', 0.885972850678733],\n",
              " 5: ['svclassifier rbf', 0.8769230769230769],\n",
              " 6: ['svclassifier lin', 0.8751131221719457],\n",
              " 7: ['svclassifier poly', 0.8769230769230769],\n",
              " 8: ['svclassifier sigmoid', 0.8705882352941177],\n",
              " 9: ['logisticRegr', 0.8778280542986425],\n",
              " 10: ['Perceptron', 0.6742081447963801],\n",
              " 11: ['K nearest neighbour', 0.8733031674208145],\n",
              " 12: ['Bernoulli Naive Bayes', 0.8624434389140272]}"
            ]
          },
          "metadata": {},
          "execution_count": 118
        }
      ]
    },
    {
      "cell_type": "code",
      "metadata": {
        "colab": {
          "base_uri": "https://localhost:8080/"
        },
        "id": "oFRdR1Af3tws",
        "outputId": "7c81814d-169a-4ccd-ba14-d66865573575"
      },
      "source": [
        "AUC[1] =['Gaussian Naive Bayes', auc_score1] \n",
        "AUC"
      ],
      "execution_count": null,
      "outputs": [
        {
          "output_type": "execute_result",
          "data": {
            "text/plain": [
              "{1: ['Gaussian Naive Bayes', 0.6651831785345718]}"
            ]
          },
          "metadata": {},
          "execution_count": 131
        }
      ]
    },
    {
      "cell_type": "markdown",
      "metadata": {
        "id": "SaiPeGZs4pa8"
      },
      "source": [
        "# **Multinomial Naive Bayes**"
      ]
    },
    {
      "cell_type": "code",
      "metadata": {
        "id": "bFd2bWI19EFe"
      },
      "source": [
        "mul_df = df.copy()"
      ],
      "execution_count": null,
      "outputs": []
    },
    {
      "cell_type": "markdown",
      "metadata": {
        "id": "a87rT2h4wpIo"
      },
      "source": [
        "## **We can't have negative values to model Multinomial naive bayes. So we change all the negative values to zero for calculation purpose.**"
      ]
    },
    {
      "cell_type": "code",
      "metadata": {
        "colab": {
          "base_uri": "https://localhost:8080/",
          "height": 597
        },
        "id": "5-e2TbLJ-M9D",
        "outputId": "69709352-37d4-4bd6-a388-f81262aa57ff"
      },
      "source": [
        "for ind in mul_df.index:\n",
        "  if mul_df['balance'][ind] < 0:\n",
        "    mul_df['balance'][ind] = 0\n",
        "  if mul_df['pdays'][ind] < 0:\n",
        "    mul_df['pdays'][ind] = 0\n",
        "mul_df"
      ],
      "execution_count": null,
      "outputs": [
        {
          "output_type": "stream",
          "name": "stderr",
          "text": [
            "/usr/local/lib/python3.7/dist-packages/ipykernel_launcher.py:5: SettingWithCopyWarning: \n",
            "A value is trying to be set on a copy of a slice from a DataFrame\n",
            "\n",
            "See the caveats in the documentation: https://pandas.pydata.org/pandas-docs/stable/user_guide/indexing.html#returning-a-view-versus-a-copy\n",
            "  \"\"\"\n",
            "/usr/local/lib/python3.7/dist-packages/ipykernel_launcher.py:3: SettingWithCopyWarning: \n",
            "A value is trying to be set on a copy of a slice from a DataFrame\n",
            "\n",
            "See the caveats in the documentation: https://pandas.pydata.org/pandas-docs/stable/user_guide/indexing.html#returning-a-view-versus-a-copy\n",
            "  This is separate from the ipykernel package so we can avoid doing imports until\n"
          ]
        },
        {
          "output_type": "execute_result",
          "data": {
            "text/html": [
              "<div>\n",
              "<style scoped>\n",
              "    .dataframe tbody tr th:only-of-type {\n",
              "        vertical-align: middle;\n",
              "    }\n",
              "\n",
              "    .dataframe tbody tr th {\n",
              "        vertical-align: top;\n",
              "    }\n",
              "\n",
              "    .dataframe thead th {\n",
              "        text-align: right;\n",
              "    }\n",
              "</style>\n",
              "<table border=\"1\" class=\"dataframe\">\n",
              "  <thead>\n",
              "    <tr style=\"text-align: right;\">\n",
              "      <th></th>\n",
              "      <th>age</th>\n",
              "      <th>job</th>\n",
              "      <th>marital</th>\n",
              "      <th>education</th>\n",
              "      <th>default</th>\n",
              "      <th>balance</th>\n",
              "      <th>housing</th>\n",
              "      <th>loan</th>\n",
              "      <th>contact</th>\n",
              "      <th>day</th>\n",
              "      <th>month</th>\n",
              "      <th>duration</th>\n",
              "      <th>campaign</th>\n",
              "      <th>pdays</th>\n",
              "      <th>previous</th>\n",
              "      <th>poutcome</th>\n",
              "      <th>y</th>\n",
              "    </tr>\n",
              "  </thead>\n",
              "  <tbody>\n",
              "    <tr>\n",
              "      <th>0</th>\n",
              "      <td>30.0</td>\n",
              "      <td>10</td>\n",
              "      <td>1</td>\n",
              "      <td>0</td>\n",
              "      <td>0</td>\n",
              "      <td>1787.0</td>\n",
              "      <td>0</td>\n",
              "      <td>0</td>\n",
              "      <td>0</td>\n",
              "      <td>19</td>\n",
              "      <td>10</td>\n",
              "      <td>79</td>\n",
              "      <td>1</td>\n",
              "      <td>0</td>\n",
              "      <td>0</td>\n",
              "      <td>3</td>\n",
              "      <td>0</td>\n",
              "    </tr>\n",
              "    <tr>\n",
              "      <th>1</th>\n",
              "      <td>33.0</td>\n",
              "      <td>7</td>\n",
              "      <td>1</td>\n",
              "      <td>1</td>\n",
              "      <td>0</td>\n",
              "      <td>4789.0</td>\n",
              "      <td>1</td>\n",
              "      <td>1</td>\n",
              "      <td>0</td>\n",
              "      <td>11</td>\n",
              "      <td>8</td>\n",
              "      <td>220</td>\n",
              "      <td>1</td>\n",
              "      <td>339</td>\n",
              "      <td>4</td>\n",
              "      <td>0</td>\n",
              "      <td>0</td>\n",
              "    </tr>\n",
              "    <tr>\n",
              "      <th>3</th>\n",
              "      <td>30.0</td>\n",
              "      <td>4</td>\n",
              "      <td>1</td>\n",
              "      <td>2</td>\n",
              "      <td>0</td>\n",
              "      <td>1476.0</td>\n",
              "      <td>1</td>\n",
              "      <td>1</td>\n",
              "      <td>2</td>\n",
              "      <td>3</td>\n",
              "      <td>6</td>\n",
              "      <td>199</td>\n",
              "      <td>4</td>\n",
              "      <td>0</td>\n",
              "      <td>0</td>\n",
              "      <td>3</td>\n",
              "      <td>0</td>\n",
              "    </tr>\n",
              "    <tr>\n",
              "      <th>6</th>\n",
              "      <td>36.0</td>\n",
              "      <td>6</td>\n",
              "      <td>1</td>\n",
              "      <td>2</td>\n",
              "      <td>0</td>\n",
              "      <td>37.0</td>\n",
              "      <td>1</td>\n",
              "      <td>0</td>\n",
              "      <td>0</td>\n",
              "      <td>14</td>\n",
              "      <td>8</td>\n",
              "      <td>341</td>\n",
              "      <td>1</td>\n",
              "      <td>330</td>\n",
              "      <td>2</td>\n",
              "      <td>1</td>\n",
              "      <td>0</td>\n",
              "    </tr>\n",
              "    <tr>\n",
              "      <th>7</th>\n",
              "      <td>39.0</td>\n",
              "      <td>9</td>\n",
              "      <td>1</td>\n",
              "      <td>1</td>\n",
              "      <td>0</td>\n",
              "      <td>147.0</td>\n",
              "      <td>1</td>\n",
              "      <td>0</td>\n",
              "      <td>0</td>\n",
              "      <td>6</td>\n",
              "      <td>8</td>\n",
              "      <td>151</td>\n",
              "      <td>2</td>\n",
              "      <td>0</td>\n",
              "      <td>0</td>\n",
              "      <td>3</td>\n",
              "      <td>0</td>\n",
              "    </tr>\n",
              "    <tr>\n",
              "      <th>...</th>\n",
              "      <td>...</td>\n",
              "      <td>...</td>\n",
              "      <td>...</td>\n",
              "      <td>...</td>\n",
              "      <td>...</td>\n",
              "      <td>...</td>\n",
              "      <td>...</td>\n",
              "      <td>...</td>\n",
              "      <td>...</td>\n",
              "      <td>...</td>\n",
              "      <td>...</td>\n",
              "      <td>...</td>\n",
              "      <td>...</td>\n",
              "      <td>...</td>\n",
              "      <td>...</td>\n",
              "      <td>...</td>\n",
              "      <td>...</td>\n",
              "    </tr>\n",
              "    <tr>\n",
              "      <th>4516</th>\n",
              "      <td>33.0</td>\n",
              "      <td>7</td>\n",
              "      <td>1</td>\n",
              "      <td>1</td>\n",
              "      <td>0</td>\n",
              "      <td>0.0</td>\n",
              "      <td>1</td>\n",
              "      <td>0</td>\n",
              "      <td>0</td>\n",
              "      <td>30</td>\n",
              "      <td>5</td>\n",
              "      <td>329</td>\n",
              "      <td>5</td>\n",
              "      <td>0</td>\n",
              "      <td>0</td>\n",
              "      <td>3</td>\n",
              "      <td>0</td>\n",
              "    </tr>\n",
              "    <tr>\n",
              "      <th>4517</th>\n",
              "      <td>57.0</td>\n",
              "      <td>6</td>\n",
              "      <td>1</td>\n",
              "      <td>2</td>\n",
              "      <td>1</td>\n",
              "      <td>0.0</td>\n",
              "      <td>1</td>\n",
              "      <td>1</td>\n",
              "      <td>2</td>\n",
              "      <td>9</td>\n",
              "      <td>8</td>\n",
              "      <td>153</td>\n",
              "      <td>1</td>\n",
              "      <td>0</td>\n",
              "      <td>0</td>\n",
              "      <td>3</td>\n",
              "      <td>0</td>\n",
              "    </tr>\n",
              "    <tr>\n",
              "      <th>4518</th>\n",
              "      <td>57.0</td>\n",
              "      <td>9</td>\n",
              "      <td>1</td>\n",
              "      <td>1</td>\n",
              "      <td>0</td>\n",
              "      <td>295.0</td>\n",
              "      <td>0</td>\n",
              "      <td>0</td>\n",
              "      <td>0</td>\n",
              "      <td>19</td>\n",
              "      <td>1</td>\n",
              "      <td>151</td>\n",
              "      <td>11</td>\n",
              "      <td>0</td>\n",
              "      <td>0</td>\n",
              "      <td>3</td>\n",
              "      <td>0</td>\n",
              "    </tr>\n",
              "    <tr>\n",
              "      <th>4519</th>\n",
              "      <td>28.0</td>\n",
              "      <td>1</td>\n",
              "      <td>1</td>\n",
              "      <td>1</td>\n",
              "      <td>0</td>\n",
              "      <td>1137.0</td>\n",
              "      <td>0</td>\n",
              "      <td>0</td>\n",
              "      <td>0</td>\n",
              "      <td>6</td>\n",
              "      <td>3</td>\n",
              "      <td>129</td>\n",
              "      <td>4</td>\n",
              "      <td>211</td>\n",
              "      <td>3</td>\n",
              "      <td>1</td>\n",
              "      <td>0</td>\n",
              "    </tr>\n",
              "    <tr>\n",
              "      <th>4520</th>\n",
              "      <td>44.0</td>\n",
              "      <td>2</td>\n",
              "      <td>2</td>\n",
              "      <td>2</td>\n",
              "      <td>0</td>\n",
              "      <td>1136.0</td>\n",
              "      <td>1</td>\n",
              "      <td>1</td>\n",
              "      <td>0</td>\n",
              "      <td>3</td>\n",
              "      <td>0</td>\n",
              "      <td>345</td>\n",
              "      <td>2</td>\n",
              "      <td>249</td>\n",
              "      <td>7</td>\n",
              "      <td>1</td>\n",
              "      <td>0</td>\n",
              "    </tr>\n",
              "  </tbody>\n",
              "</table>\n",
              "<p>3682 rows × 17 columns</p>\n",
              "</div>"
            ],
            "text/plain": [
              "       age  job  marital  education  ...  pdays  previous  poutcome  y\n",
              "0     30.0   10        1          0  ...      0         0         3  0\n",
              "1     33.0    7        1          1  ...    339         4         0  0\n",
              "3     30.0    4        1          2  ...      0         0         3  0\n",
              "6     36.0    6        1          2  ...    330         2         1  0\n",
              "7     39.0    9        1          1  ...      0         0         3  0\n",
              "...    ...  ...      ...        ...  ...    ...       ...       ... ..\n",
              "4516  33.0    7        1          1  ...      0         0         3  0\n",
              "4517  57.0    6        1          2  ...      0         0         3  0\n",
              "4518  57.0    9        1          1  ...      0         0         3  0\n",
              "4519  28.0    1        1          1  ...    211         3         1  0\n",
              "4520  44.0    2        2          2  ...    249         7         1  0\n",
              "\n",
              "[3682 rows x 17 columns]"
            ]
          },
          "metadata": {},
          "execution_count": 36
        }
      ]
    },
    {
      "cell_type": "code",
      "metadata": {
        "id": "39bdrd9z97_b"
      },
      "source": [
        "x = mul_df.drop(['y'], axis = 1)\n",
        "y = mul_df['y']"
      ],
      "execution_count": null,
      "outputs": []
    },
    {
      "cell_type": "code",
      "metadata": {
        "id": "XgNAZKxm93zM"
      },
      "source": [
        "x_train, x_test, y_train, y_test = train_test_split(x, y, test_size = 0.3, random_state = 42)"
      ],
      "execution_count": null,
      "outputs": []
    },
    {
      "cell_type": "code",
      "metadata": {
        "colab": {
          "base_uri": "https://localhost:8080/"
        },
        "id": "SnBVjysb4zc0",
        "outputId": "cfda4bc6-d3d7-45c8-d379-b9ec777b1172"
      },
      "source": [
        "nb = MultinomialNB()\n",
        "nb.fit(x_train, y_train)"
      ],
      "execution_count": null,
      "outputs": [
        {
          "output_type": "execute_result",
          "data": {
            "text/plain": [
              "MultinomialNB()"
            ]
          },
          "metadata": {},
          "execution_count": 39
        }
      ]
    },
    {
      "cell_type": "code",
      "metadata": {
        "colab": {
          "base_uri": "https://localhost:8080/"
        },
        "id": "M65ocz9H4zJn",
        "outputId": "3ba3537a-ead7-4a0a-90db-8d5ad923a204"
      },
      "source": [
        "print(\"Multinomial Naive Bayes score: \",nb.score(x_test, y_test))"
      ],
      "execution_count": null,
      "outputs": [
        {
          "output_type": "stream",
          "name": "stdout",
          "text": [
            "Multinomial Naive Bayes score:  0.49411764705882355\n"
          ]
        }
      ]
    },
    {
      "cell_type": "code",
      "metadata": {
        "colab": {
          "base_uri": "https://localhost:8080/"
        },
        "id": "Xpd1tKt6Lfli",
        "outputId": "2b015f22-407b-4dd6-81be-fb78ebd29ad9"
      },
      "source": [
        "pred_mul=nb.predict(x_test)\n",
        "print(classification_report(y_test,pred_mul))"
      ],
      "execution_count": null,
      "outputs": [
        {
          "output_type": "stream",
          "name": "stdout",
          "text": [
            "              precision    recall  f1-score   support\n",
            "\n",
            "           0       0.92      0.46      0.62       969\n",
            "           1       0.16      0.72      0.26       136\n",
            "\n",
            "    accuracy                           0.49      1105\n",
            "   macro avg       0.54      0.59      0.44      1105\n",
            "weighted avg       0.83      0.49      0.57      1105\n",
            "\n"
          ]
        }
      ]
    },
    {
      "cell_type": "code",
      "metadata": {
        "id": "bOW_xwpTpevF"
      },
      "source": [
        "fpr2, tpr2, thresh2 = roc_curve(y_test, pred_mul, pos_label=1)"
      ],
      "execution_count": null,
      "outputs": []
    },
    {
      "cell_type": "code",
      "metadata": {
        "colab": {
          "base_uri": "https://localhost:8080/"
        },
        "id": "_7S3srsN2A3Q",
        "outputId": "9f9240e5-e201-4b6d-a43d-532de4627a6d"
      },
      "source": [
        "auc_score2 = roc_auc_score(y_test, pred_mul)\n",
        "print(auc_score2)"
      ],
      "execution_count": null,
      "outputs": [
        {
          "output_type": "stream",
          "name": "stdout",
          "text": [
            "0.5914602683178535\n"
          ]
        }
      ]
    },
    {
      "cell_type": "code",
      "metadata": {
        "colab": {
          "base_uri": "https://localhost:8080/"
        },
        "id": "ftFFPSr-yeNz",
        "outputId": "9944dda0-3d6a-4882-cd81-9bbd4e722411"
      },
      "source": [
        "models[2] =['Multinomial Naive Bayes', nb.score(x_test, y_test)] \n",
        "models"
      ],
      "execution_count": null,
      "outputs": [
        {
          "output_type": "execute_result",
          "data": {
            "text/plain": [
              "{1: ['Gaussian Naive Bayes', 0.8506787330316742],\n",
              " 2: ['Multinomial Naive Bayes', 0.49411764705882355]}"
            ]
          },
          "metadata": {},
          "execution_count": 43
        }
      ]
    },
    {
      "cell_type": "code",
      "metadata": {
        "colab": {
          "base_uri": "https://localhost:8080/"
        },
        "id": "Q_AU7Crx37_q",
        "outputId": "a912893e-c3d7-46f6-d13e-c279b4de4434"
      },
      "source": [
        "AUC[2] =['Multinomial Naive Bayes', auc_score2] \n",
        "AUC"
      ],
      "execution_count": null,
      "outputs": [
        {
          "output_type": "execute_result",
          "data": {
            "text/plain": [
              "{1: ['Gaussian Naive Bayes', 0.6651831785345718],\n",
              " 2: ['Multinomial Naive Bayes', 0.5914602683178535]}"
            ]
          },
          "metadata": {},
          "execution_count": 132
        }
      ]
    },
    {
      "cell_type": "markdown",
      "metadata": {
        "id": "6RKXwVk5_Brq"
      },
      "source": [
        "### **Here we have made all the values as positive as multinomial naive bayes classifier doesn't support negative values. This affects the data and gives us very less accuracy**"
      ]
    },
    {
      "cell_type": "markdown",
      "metadata": {
        "id": "2rRZLrDp4Q2a"
      },
      "source": [
        "# **Decision Tree Classifier**"
      ]
    },
    {
      "cell_type": "code",
      "metadata": {
        "id": "ChG7xjDpAENk"
      },
      "source": [
        "x = df.drop(['y'], axis = 1)\n",
        "y = df['y']"
      ],
      "execution_count": null,
      "outputs": []
    },
    {
      "cell_type": "code",
      "metadata": {
        "id": "S2ouhhA7AIhf"
      },
      "source": [
        "x_train, x_test, y_train, y_test = train_test_split(x, y, test_size = 0.3, random_state = 42)"
      ],
      "execution_count": null,
      "outputs": []
    },
    {
      "cell_type": "code",
      "metadata": {
        "colab": {
          "base_uri": "https://localhost:8080/"
        },
        "id": "HcEUPtCKsn5Z",
        "outputId": "bbcacd9d-6d5b-4e99-c736-8be603921809"
      },
      "source": [
        "dclf = DecisionTreeClassifier()\n",
        "dclf.fit(x_train, y_train)"
      ],
      "execution_count": null,
      "outputs": [
        {
          "output_type": "execute_result",
          "data": {
            "text/plain": [
              "DecisionTreeClassifier()"
            ]
          },
          "metadata": {},
          "execution_count": 46
        }
      ]
    },
    {
      "cell_type": "code",
      "metadata": {
        "colab": {
          "base_uri": "https://localhost:8080/"
        },
        "id": "8rfCrq63sn0R",
        "outputId": "aa438f69-2d4d-47aa-e17c-9566f8e63500"
      },
      "source": [
        "print(dclf.score(x_test, y_test))"
      ],
      "execution_count": null,
      "outputs": [
        {
          "output_type": "stream",
          "name": "stdout",
          "text": [
            "0.8624434389140272\n"
          ]
        }
      ]
    },
    {
      "cell_type": "code",
      "metadata": {
        "id": "04C7xI1kNZg0",
        "colab": {
          "base_uri": "https://localhost:8080/"
        },
        "outputId": "a93c5176-df5e-4535-9845-eb19e92a4fbb"
      },
      "source": [
        "pred_dc=dclf.predict(x_test)\n",
        "print(classification_report(y_test,pred_dc))"
      ],
      "execution_count": null,
      "outputs": [
        {
          "output_type": "stream",
          "name": "stdout",
          "text": [
            "              precision    recall  f1-score   support\n",
            "\n",
            "           0       0.91      0.93      0.92       969\n",
            "           1       0.43      0.38      0.40       136\n",
            "\n",
            "    accuracy                           0.86      1105\n",
            "   macro avg       0.67      0.65      0.66      1105\n",
            "weighted avg       0.85      0.86      0.86      1105\n",
            "\n"
          ]
        }
      ]
    },
    {
      "cell_type": "code",
      "metadata": {
        "id": "1uHXGAQEp3-o"
      },
      "source": [
        "fpr3, tpr3, thresh3 = roc_curve(y_test, pred_dc, pos_label=1)"
      ],
      "execution_count": null,
      "outputs": []
    },
    {
      "cell_type": "code",
      "metadata": {
        "colab": {
          "base_uri": "https://localhost:8080/"
        },
        "id": "ChkgSi0m2vgS",
        "outputId": "bd78f6a1-babf-4a1b-8aeb-4fbbb71a23ce"
      },
      "source": [
        "auc_score3 = roc_auc_score(y_test, pred_dc)\n",
        "print(auc_score3)"
      ],
      "execution_count": null,
      "outputs": [
        {
          "output_type": "stream",
          "name": "stdout",
          "text": [
            "0.6529282765737874\n"
          ]
        }
      ]
    },
    {
      "cell_type": "code",
      "metadata": {
        "id": "R72LafVY4afB",
        "colab": {
          "base_uri": "https://localhost:8080/"
        },
        "outputId": "51266f16-2a4f-4208-895e-a2a7d0fc8e9d"
      },
      "source": [
        "models[3] =['Decision Tree Classifier', dclf.score(x_test, y_test)] \n",
        "models"
      ],
      "execution_count": null,
      "outputs": [
        {
          "output_type": "execute_result",
          "data": {
            "text/plain": [
              "{1: ['Gaussian Naive Bayes', 0.8506787330316742],\n",
              " 2: ['Multinomial Naive Bayes', 0.49411764705882355],\n",
              " 3: ['Decision Tree Classifier', 0.8624434389140272]}"
            ]
          },
          "metadata": {},
          "execution_count": 50
        }
      ]
    },
    {
      "cell_type": "code",
      "metadata": {
        "colab": {
          "base_uri": "https://localhost:8080/"
        },
        "id": "rrey4ZTH4DC9",
        "outputId": "a8399d82-dcd1-4b6f-f50d-b628e1d37425"
      },
      "source": [
        "AUC[3] =['Decision Tree Classifier', auc_score3] \n",
        "AUC"
      ],
      "execution_count": null,
      "outputs": [
        {
          "output_type": "execute_result",
          "data": {
            "text/plain": [
              "{1: ['Gaussian Naive Bayes', 0.6651831785345718],\n",
              " 2: ['Multinomial Naive Bayes', 0.5914602683178535],\n",
              " 3: ['Decision Tree Classifier', 0.6529282765737874]}"
            ]
          },
          "metadata": {},
          "execution_count": 133
        }
      ]
    },
    {
      "cell_type": "code",
      "metadata": {
        "colab": {
          "base_uri": "https://localhost:8080/"
        },
        "id": "mD9ZhgEvRn81",
        "outputId": "caac6804-d08d-4da2-b5d5-0d67fb99bfc8"
      },
      "source": [
        "text_representation = tree.export_text(dclf)\n",
        "print(text_representation)"
      ],
      "execution_count": null,
      "outputs": [
        {
          "output_type": "stream",
          "name": "stdout",
          "text": [
            "|--- feature_11 <= 645.50\n",
            "|   |--- feature_11 <= 211.50\n",
            "|   |   |--- feature_0 <= 19.50\n",
            "|   |   |   |--- class: 1\n",
            "|   |   |--- feature_0 >  19.50\n",
            "|   |   |   |--- feature_0 <= 70.50\n",
            "|   |   |   |   |--- feature_15 <= 2.50\n",
            "|   |   |   |   |   |--- feature_13 <= 99.50\n",
            "|   |   |   |   |   |   |--- feature_15 <= 1.50\n",
            "|   |   |   |   |   |   |   |--- feature_5 <= 4019.00\n",
            "|   |   |   |   |   |   |   |   |--- feature_1 <= 10.50\n",
            "|   |   |   |   |   |   |   |   |   |--- feature_10 <= 2.00\n",
            "|   |   |   |   |   |   |   |   |   |   |--- feature_3 <= 1.50\n",
            "|   |   |   |   |   |   |   |   |   |   |   |--- class: 1\n",
            "|   |   |   |   |   |   |   |   |   |   |--- feature_3 >  1.50\n",
            "|   |   |   |   |   |   |   |   |   |   |   |--- class: 0\n",
            "|   |   |   |   |   |   |   |   |   |--- feature_10 >  2.00\n",
            "|   |   |   |   |   |   |   |   |   |   |--- class: 0\n",
            "|   |   |   |   |   |   |   |   |--- feature_1 >  10.50\n",
            "|   |   |   |   |   |   |   |   |   |--- class: 1\n",
            "|   |   |   |   |   |   |   |--- feature_5 >  4019.00\n",
            "|   |   |   |   |   |   |   |   |--- class: 1\n",
            "|   |   |   |   |   |   |--- feature_15 >  1.50\n",
            "|   |   |   |   |   |   |   |--- feature_11 <= 147.00\n",
            "|   |   |   |   |   |   |   |   |--- feature_0 <= 33.00\n",
            "|   |   |   |   |   |   |   |   |   |--- class: 1\n",
            "|   |   |   |   |   |   |   |   |--- feature_0 >  33.00\n",
            "|   |   |   |   |   |   |   |   |   |--- class: 0\n",
            "|   |   |   |   |   |   |   |--- feature_11 >  147.00\n",
            "|   |   |   |   |   |   |   |   |--- feature_9 <= 27.50\n",
            "|   |   |   |   |   |   |   |   |   |--- class: 1\n",
            "|   |   |   |   |   |   |   |   |--- feature_9 >  27.50\n",
            "|   |   |   |   |   |   |   |   |   |--- class: 0\n",
            "|   |   |   |   |   |--- feature_13 >  99.50\n",
            "|   |   |   |   |   |   |--- feature_0 <= 58.50\n",
            "|   |   |   |   |   |   |   |--- feature_8 <= 1.50\n",
            "|   |   |   |   |   |   |   |   |--- feature_13 <= 130.50\n",
            "|   |   |   |   |   |   |   |   |   |--- feature_9 <= 26.00\n",
            "|   |   |   |   |   |   |   |   |   |   |--- class: 0\n",
            "|   |   |   |   |   |   |   |   |   |--- feature_9 >  26.00\n",
            "|   |   |   |   |   |   |   |   |   |   |--- feature_9 <= 28.50\n",
            "|   |   |   |   |   |   |   |   |   |   |   |--- class: 1\n",
            "|   |   |   |   |   |   |   |   |   |   |--- feature_9 >  28.50\n",
            "|   |   |   |   |   |   |   |   |   |   |   |--- class: 0\n",
            "|   |   |   |   |   |   |   |   |--- feature_13 >  130.50\n",
            "|   |   |   |   |   |   |   |   |   |--- class: 0\n",
            "|   |   |   |   |   |   |   |--- feature_8 >  1.50\n",
            "|   |   |   |   |   |   |   |   |--- feature_5 <= 96.50\n",
            "|   |   |   |   |   |   |   |   |   |--- class: 1\n",
            "|   |   |   |   |   |   |   |   |--- feature_5 >  96.50\n",
            "|   |   |   |   |   |   |   |   |   |--- class: 0\n",
            "|   |   |   |   |   |   |--- feature_0 >  58.50\n",
            "|   |   |   |   |   |   |   |--- feature_13 <= 187.00\n",
            "|   |   |   |   |   |   |   |   |--- class: 0\n",
            "|   |   |   |   |   |   |   |--- feature_13 >  187.00\n",
            "|   |   |   |   |   |   |   |   |--- feature_9 <= 25.50\n",
            "|   |   |   |   |   |   |   |   |   |--- class: 1\n",
            "|   |   |   |   |   |   |   |   |--- feature_9 >  25.50\n",
            "|   |   |   |   |   |   |   |   |   |--- class: 0\n",
            "|   |   |   |   |--- feature_15 >  2.50\n",
            "|   |   |   |   |   |--- feature_10 <= 9.50\n",
            "|   |   |   |   |   |   |--- feature_10 <= 0.50\n",
            "|   |   |   |   |   |   |   |--- feature_9 <= 21.50\n",
            "|   |   |   |   |   |   |   |   |--- feature_11 <= 164.50\n",
            "|   |   |   |   |   |   |   |   |   |--- class: 0\n",
            "|   |   |   |   |   |   |   |   |--- feature_11 >  164.50\n",
            "|   |   |   |   |   |   |   |   |   |--- feature_3 <= 1.50\n",
            "|   |   |   |   |   |   |   |   |   |   |--- class: 1\n",
            "|   |   |   |   |   |   |   |   |   |--- feature_3 >  1.50\n",
            "|   |   |   |   |   |   |   |   |   |   |--- class: 0\n",
            "|   |   |   |   |   |   |   |--- feature_9 >  21.50\n",
            "|   |   |   |   |   |   |   |   |--- feature_9 <= 28.00\n",
            "|   |   |   |   |   |   |   |   |   |--- feature_12 <= 2.50\n",
            "|   |   |   |   |   |   |   |   |   |   |--- class: 1\n",
            "|   |   |   |   |   |   |   |   |   |--- feature_12 >  2.50\n",
            "|   |   |   |   |   |   |   |   |   |   |--- class: 0\n",
            "|   |   |   |   |   |   |   |   |--- feature_9 >  28.00\n",
            "|   |   |   |   |   |   |   |   |   |--- class: 0\n",
            "|   |   |   |   |   |   |--- feature_10 >  0.50\n",
            "|   |   |   |   |   |   |   |--- feature_0 <= 29.50\n",
            "|   |   |   |   |   |   |   |   |--- feature_6 <= 0.50\n",
            "|   |   |   |   |   |   |   |   |   |--- feature_11 <= 119.00\n",
            "|   |   |   |   |   |   |   |   |   |   |--- class: 0\n",
            "|   |   |   |   |   |   |   |   |   |--- feature_11 >  119.00\n",
            "|   |   |   |   |   |   |   |   |   |   |--- feature_11 <= 131.50\n",
            "|   |   |   |   |   |   |   |   |   |   |   |--- class: 1\n",
            "|   |   |   |   |   |   |   |   |   |   |--- feature_11 >  131.50\n",
            "|   |   |   |   |   |   |   |   |   |   |   |--- truncated branch of depth 3\n",
            "|   |   |   |   |   |   |   |   |--- feature_6 >  0.50\n",
            "|   |   |   |   |   |   |   |   |   |--- class: 0\n",
            "|   |   |   |   |   |   |   |--- feature_0 >  29.50\n",
            "|   |   |   |   |   |   |   |   |--- feature_0 <= 60.50\n",
            "|   |   |   |   |   |   |   |   |   |--- feature_3 <= 1.50\n",
            "|   |   |   |   |   |   |   |   |   |   |--- class: 0\n",
            "|   |   |   |   |   |   |   |   |   |--- feature_3 >  1.50\n",
            "|   |   |   |   |   |   |   |   |   |   |--- feature_11 <= 206.00\n",
            "|   |   |   |   |   |   |   |   |   |   |   |--- truncated branch of depth 8\n",
            "|   |   |   |   |   |   |   |   |   |   |--- feature_11 >  206.00\n",
            "|   |   |   |   |   |   |   |   |   |   |   |--- truncated branch of depth 2\n",
            "|   |   |   |   |   |   |   |   |--- feature_0 >  60.50\n",
            "|   |   |   |   |   |   |   |   |   |--- feature_9 <= 11.00\n",
            "|   |   |   |   |   |   |   |   |   |   |--- feature_5 <= 846.50\n",
            "|   |   |   |   |   |   |   |   |   |   |   |--- class: 0\n",
            "|   |   |   |   |   |   |   |   |   |   |--- feature_5 >  846.50\n",
            "|   |   |   |   |   |   |   |   |   |   |   |--- class: 1\n",
            "|   |   |   |   |   |   |   |   |   |--- feature_9 >  11.00\n",
            "|   |   |   |   |   |   |   |   |   |   |--- class: 0\n",
            "|   |   |   |   |   |--- feature_10 >  9.50\n",
            "|   |   |   |   |   |   |--- feature_7 <= 0.50\n",
            "|   |   |   |   |   |   |   |--- feature_5 <= 16.50\n",
            "|   |   |   |   |   |   |   |   |--- feature_3 <= 1.00\n",
            "|   |   |   |   |   |   |   |   |   |--- class: 0\n",
            "|   |   |   |   |   |   |   |   |--- feature_3 >  1.00\n",
            "|   |   |   |   |   |   |   |   |   |--- class: 1\n",
            "|   |   |   |   |   |   |   |--- feature_5 >  16.50\n",
            "|   |   |   |   |   |   |   |   |--- class: 0\n",
            "|   |   |   |   |   |   |--- feature_7 >  0.50\n",
            "|   |   |   |   |   |   |   |--- class: 1\n",
            "|   |   |   |--- feature_0 >  70.50\n",
            "|   |   |   |   |--- feature_11 <= 177.00\n",
            "|   |   |   |   |   |--- feature_0 <= 71.50\n",
            "|   |   |   |   |   |   |--- class: 1\n",
            "|   |   |   |   |   |--- feature_0 >  71.50\n",
            "|   |   |   |   |   |   |--- class: 0\n",
            "|   |   |   |   |--- feature_11 >  177.00\n",
            "|   |   |   |   |   |--- feature_1 <= 8.00\n",
            "|   |   |   |   |   |   |--- class: 1\n",
            "|   |   |   |   |   |--- feature_1 >  8.00\n",
            "|   |   |   |   |   |   |--- class: 0\n",
            "|   |--- feature_11 >  211.50\n",
            "|   |   |--- feature_13 <= 20.00\n",
            "|   |   |   |--- feature_0 <= 60.50\n",
            "|   |   |   |   |--- feature_9 <= 2.50\n",
            "|   |   |   |   |   |--- feature_8 <= 0.50\n",
            "|   |   |   |   |   |   |--- feature_10 <= 5.50\n",
            "|   |   |   |   |   |   |   |--- feature_2 <= 0.50\n",
            "|   |   |   |   |   |   |   |   |--- class: 1\n",
            "|   |   |   |   |   |   |   |--- feature_2 >  0.50\n",
            "|   |   |   |   |   |   |   |   |--- feature_12 <= 1.50\n",
            "|   |   |   |   |   |   |   |   |   |--- feature_5 <= 1828.00\n",
            "|   |   |   |   |   |   |   |   |   |   |--- class: 0\n",
            "|   |   |   |   |   |   |   |   |   |--- feature_5 >  1828.00\n",
            "|   |   |   |   |   |   |   |   |   |   |--- class: 1\n",
            "|   |   |   |   |   |   |   |   |--- feature_12 >  1.50\n",
            "|   |   |   |   |   |   |   |   |   |--- class: 0\n",
            "|   |   |   |   |   |   |--- feature_10 >  5.50\n",
            "|   |   |   |   |   |   |   |--- class: 1\n",
            "|   |   |   |   |   |--- feature_8 >  0.50\n",
            "|   |   |   |   |   |   |--- feature_11 <= 440.50\n",
            "|   |   |   |   |   |   |   |--- class: 0\n",
            "|   |   |   |   |   |   |--- feature_11 >  440.50\n",
            "|   |   |   |   |   |   |   |--- feature_0 <= 32.50\n",
            "|   |   |   |   |   |   |   |   |--- class: 0\n",
            "|   |   |   |   |   |   |   |--- feature_0 >  32.50\n",
            "|   |   |   |   |   |   |   |   |--- class: 1\n",
            "|   |   |   |   |--- feature_9 >  2.50\n",
            "|   |   |   |   |   |--- feature_8 <= 1.50\n",
            "|   |   |   |   |   |   |--- feature_0 <= 25.50\n",
            "|   |   |   |   |   |   |   |--- feature_9 <= 16.00\n",
            "|   |   |   |   |   |   |   |   |--- class: 0\n",
            "|   |   |   |   |   |   |   |--- feature_9 >  16.00\n",
            "|   |   |   |   |   |   |   |   |--- feature_6 <= 0.50\n",
            "|   |   |   |   |   |   |   |   |   |--- class: 1\n",
            "|   |   |   |   |   |   |   |   |--- feature_6 >  0.50\n",
            "|   |   |   |   |   |   |   |   |   |--- class: 0\n",
            "|   |   |   |   |   |   |--- feature_0 >  25.50\n",
            "|   |   |   |   |   |   |   |--- feature_11 <= 557.50\n",
            "|   |   |   |   |   |   |   |   |--- feature_7 <= 0.50\n",
            "|   |   |   |   |   |   |   |   |   |--- feature_9 <= 12.50\n",
            "|   |   |   |   |   |   |   |   |   |   |--- feature_10 <= 8.50\n",
            "|   |   |   |   |   |   |   |   |   |   |   |--- truncated branch of depth 10\n",
            "|   |   |   |   |   |   |   |   |   |   |--- feature_10 >  8.50\n",
            "|   |   |   |   |   |   |   |   |   |   |   |--- truncated branch of depth 3\n",
            "|   |   |   |   |   |   |   |   |   |--- feature_9 >  12.50\n",
            "|   |   |   |   |   |   |   |   |   |   |--- feature_10 <= 0.50\n",
            "|   |   |   |   |   |   |   |   |   |   |   |--- truncated branch of depth 4\n",
            "|   |   |   |   |   |   |   |   |   |   |--- feature_10 >  0.50\n",
            "|   |   |   |   |   |   |   |   |   |   |   |--- truncated branch of depth 10\n",
            "|   |   |   |   |   |   |   |   |--- feature_7 >  0.50\n",
            "|   |   |   |   |   |   |   |   |   |--- feature_5 <= -278.00\n",
            "|   |   |   |   |   |   |   |   |   |   |--- feature_1 <= 6.50\n",
            "|   |   |   |   |   |   |   |   |   |   |   |--- class: 0\n",
            "|   |   |   |   |   |   |   |   |   |   |--- feature_1 >  6.50\n",
            "|   |   |   |   |   |   |   |   |   |   |   |--- class: 1\n",
            "|   |   |   |   |   |   |   |   |   |--- feature_5 >  -278.00\n",
            "|   |   |   |   |   |   |   |   |   |   |--- class: 0\n",
            "|   |   |   |   |   |   |   |--- feature_11 >  557.50\n",
            "|   |   |   |   |   |   |   |   |--- feature_10 <= 5.50\n",
            "|   |   |   |   |   |   |   |   |   |--- feature_5 <= 17.50\n",
            "|   |   |   |   |   |   |   |   |   |   |--- feature_5 <= -27.50\n",
            "|   |   |   |   |   |   |   |   |   |   |   |--- class: 0\n",
            "|   |   |   |   |   |   |   |   |   |   |--- feature_5 >  -27.50\n",
            "|   |   |   |   |   |   |   |   |   |   |   |--- class: 1\n",
            "|   |   |   |   |   |   |   |   |   |--- feature_5 >  17.50\n",
            "|   |   |   |   |   |   |   |   |   |   |--- class: 0\n",
            "|   |   |   |   |   |   |   |   |--- feature_10 >  5.50\n",
            "|   |   |   |   |   |   |   |   |   |--- feature_9 <= 15.50\n",
            "|   |   |   |   |   |   |   |   |   |   |--- class: 1\n",
            "|   |   |   |   |   |   |   |   |   |--- feature_9 >  15.50\n",
            "|   |   |   |   |   |   |   |   |   |   |--- feature_1 <= 7.50\n",
            "|   |   |   |   |   |   |   |   |   |   |   |--- truncated branch of depth 2\n",
            "|   |   |   |   |   |   |   |   |   |   |--- feature_1 >  7.50\n",
            "|   |   |   |   |   |   |   |   |   |   |   |--- class: 1\n",
            "|   |   |   |   |   |--- feature_8 >  1.50\n",
            "|   |   |   |   |   |   |--- feature_10 <= 8.50\n",
            "|   |   |   |   |   |   |   |--- feature_11 <= 393.00\n",
            "|   |   |   |   |   |   |   |   |--- class: 0\n",
            "|   |   |   |   |   |   |   |--- feature_11 >  393.00\n",
            "|   |   |   |   |   |   |   |   |--- feature_11 <= 395.50\n",
            "|   |   |   |   |   |   |   |   |   |--- class: 1\n",
            "|   |   |   |   |   |   |   |   |--- feature_11 >  395.50\n",
            "|   |   |   |   |   |   |   |   |   |--- feature_4 <= 0.50\n",
            "|   |   |   |   |   |   |   |   |   |   |--- feature_5 <= 150.00\n",
            "|   |   |   |   |   |   |   |   |   |   |   |--- truncated branch of depth 5\n",
            "|   |   |   |   |   |   |   |   |   |   |--- feature_5 >  150.00\n",
            "|   |   |   |   |   |   |   |   |   |   |   |--- class: 0\n",
            "|   |   |   |   |   |   |   |   |   |--- feature_4 >  0.50\n",
            "|   |   |   |   |   |   |   |   |   |   |--- class: 1\n",
            "|   |   |   |   |   |   |--- feature_10 >  8.50\n",
            "|   |   |   |   |   |   |   |--- class: 1\n",
            "|   |   |   |--- feature_0 >  60.50\n",
            "|   |   |   |   |--- feature_0 <= 63.50\n",
            "|   |   |   |   |   |--- class: 1\n",
            "|   |   |   |   |--- feature_0 >  63.50\n",
            "|   |   |   |   |   |--- feature_10 <= 4.00\n",
            "|   |   |   |   |   |   |--- feature_11 <= 247.00\n",
            "|   |   |   |   |   |   |   |--- class: 0\n",
            "|   |   |   |   |   |   |--- feature_11 >  247.00\n",
            "|   |   |   |   |   |   |   |--- feature_2 <= 1.50\n",
            "|   |   |   |   |   |   |   |   |--- class: 1\n",
            "|   |   |   |   |   |   |   |--- feature_2 >  1.50\n",
            "|   |   |   |   |   |   |   |   |--- class: 0\n",
            "|   |   |   |   |   |--- feature_10 >  4.00\n",
            "|   |   |   |   |   |   |--- feature_9 <= 18.50\n",
            "|   |   |   |   |   |   |   |--- class: 0\n",
            "|   |   |   |   |   |   |--- feature_9 >  18.50\n",
            "|   |   |   |   |   |   |   |--- class: 1\n",
            "|   |   |--- feature_13 >  20.00\n",
            "|   |   |   |--- feature_15 <= 1.50\n",
            "|   |   |   |   |--- feature_9 <= 20.50\n",
            "|   |   |   |   |   |--- feature_13 <= 93.50\n",
            "|   |   |   |   |   |   |--- feature_10 <= 5.50\n",
            "|   |   |   |   |   |   |   |--- feature_9 <= 19.00\n",
            "|   |   |   |   |   |   |   |   |--- class: 0\n",
            "|   |   |   |   |   |   |   |--- feature_9 >  19.00\n",
            "|   |   |   |   |   |   |   |   |--- class: 1\n",
            "|   |   |   |   |   |   |--- feature_10 >  5.50\n",
            "|   |   |   |   |   |   |   |--- feature_10 <= 10.50\n",
            "|   |   |   |   |   |   |   |   |--- class: 1\n",
            "|   |   |   |   |   |   |   |--- feature_10 >  10.50\n",
            "|   |   |   |   |   |   |   |   |--- class: 0\n",
            "|   |   |   |   |   |--- feature_13 >  93.50\n",
            "|   |   |   |   |   |   |--- feature_0 <= 25.50\n",
            "|   |   |   |   |   |   |   |--- feature_13 <= 104.50\n",
            "|   |   |   |   |   |   |   |   |--- class: 0\n",
            "|   |   |   |   |   |   |   |--- feature_13 >  104.50\n",
            "|   |   |   |   |   |   |   |   |--- class: 1\n",
            "|   |   |   |   |   |   |--- feature_0 >  25.50\n",
            "|   |   |   |   |   |   |   |--- feature_13 <= 455.00\n",
            "|   |   |   |   |   |   |   |   |--- feature_9 <= 4.50\n",
            "|   |   |   |   |   |   |   |   |   |--- feature_13 <= 184.50\n",
            "|   |   |   |   |   |   |   |   |   |   |--- class: 1\n",
            "|   |   |   |   |   |   |   |   |   |--- feature_13 >  184.50\n",
            "|   |   |   |   |   |   |   |   |   |   |--- feature_5 <= 1374.50\n",
            "|   |   |   |   |   |   |   |   |   |   |   |--- class: 0\n",
            "|   |   |   |   |   |   |   |   |   |   |--- feature_5 >  1374.50\n",
            "|   |   |   |   |   |   |   |   |   |   |   |--- class: 1\n",
            "|   |   |   |   |   |   |   |   |--- feature_9 >  4.50\n",
            "|   |   |   |   |   |   |   |   |   |--- feature_0 <= 48.00\n",
            "|   |   |   |   |   |   |   |   |   |   |--- feature_11 <= 560.00\n",
            "|   |   |   |   |   |   |   |   |   |   |   |--- class: 0\n",
            "|   |   |   |   |   |   |   |   |   |   |--- feature_11 >  560.00\n",
            "|   |   |   |   |   |   |   |   |   |   |   |--- truncated branch of depth 2\n",
            "|   |   |   |   |   |   |   |   |   |--- feature_0 >  48.00\n",
            "|   |   |   |   |   |   |   |   |   |   |--- feature_10 <= 2.50\n",
            "|   |   |   |   |   |   |   |   |   |   |   |--- truncated branch of depth 2\n",
            "|   |   |   |   |   |   |   |   |   |   |--- feature_10 >  2.50\n",
            "|   |   |   |   |   |   |   |   |   |   |   |--- class: 0\n",
            "|   |   |   |   |   |   |   |--- feature_13 >  455.00\n",
            "|   |   |   |   |   |   |   |   |--- class: 1\n",
            "|   |   |   |   |--- feature_9 >  20.50\n",
            "|   |   |   |   |   |--- feature_11 <= 295.00\n",
            "|   |   |   |   |   |   |--- feature_3 <= 1.50\n",
            "|   |   |   |   |   |   |   |--- class: 0\n",
            "|   |   |   |   |   |   |--- feature_3 >  1.50\n",
            "|   |   |   |   |   |   |   |--- feature_0 <= 49.00\n",
            "|   |   |   |   |   |   |   |   |--- class: 1\n",
            "|   |   |   |   |   |   |   |--- feature_0 >  49.00\n",
            "|   |   |   |   |   |   |   |   |--- class: 0\n",
            "|   |   |   |   |   |--- feature_11 >  295.00\n",
            "|   |   |   |   |   |   |--- feature_11 <= 522.50\n",
            "|   |   |   |   |   |   |   |--- class: 1\n",
            "|   |   |   |   |   |   |--- feature_11 >  522.50\n",
            "|   |   |   |   |   |   |   |--- class: 0\n",
            "|   |   |   |--- feature_15 >  1.50\n",
            "|   |   |   |   |--- feature_5 <= 11133.50\n",
            "|   |   |   |   |   |--- feature_13 <= 98.50\n",
            "|   |   |   |   |   |   |--- class: 1\n",
            "|   |   |   |   |   |--- feature_13 >  98.50\n",
            "|   |   |   |   |   |   |--- feature_13 <= 105.50\n",
            "|   |   |   |   |   |   |   |--- class: 0\n",
            "|   |   |   |   |   |   |--- feature_13 >  105.50\n",
            "|   |   |   |   |   |   |   |--- feature_1 <= 3.50\n",
            "|   |   |   |   |   |   |   |   |--- feature_13 <= 181.50\n",
            "|   |   |   |   |   |   |   |   |   |--- class: 1\n",
            "|   |   |   |   |   |   |   |   |--- feature_13 >  181.50\n",
            "|   |   |   |   |   |   |   |   |   |--- feature_10 <= 2.00\n",
            "|   |   |   |   |   |   |   |   |   |   |--- feature_9 <= 16.00\n",
            "|   |   |   |   |   |   |   |   |   |   |   |--- class: 1\n",
            "|   |   |   |   |   |   |   |   |   |   |--- feature_9 >  16.00\n",
            "|   |   |   |   |   |   |   |   |   |   |   |--- class: 0\n",
            "|   |   |   |   |   |   |   |   |   |--- feature_10 >  2.00\n",
            "|   |   |   |   |   |   |   |   |   |   |--- class: 0\n",
            "|   |   |   |   |   |   |   |--- feature_1 >  3.50\n",
            "|   |   |   |   |   |   |   |   |--- feature_5 <= 421.00\n",
            "|   |   |   |   |   |   |   |   |   |--- feature_1 <= 8.00\n",
            "|   |   |   |   |   |   |   |   |   |   |--- class: 1\n",
            "|   |   |   |   |   |   |   |   |   |--- feature_1 >  8.00\n",
            "|   |   |   |   |   |   |   |   |   |   |--- feature_11 <= 245.50\n",
            "|   |   |   |   |   |   |   |   |   |   |   |--- class: 1\n",
            "|   |   |   |   |   |   |   |   |   |   |--- feature_11 >  245.50\n",
            "|   |   |   |   |   |   |   |   |   |   |   |--- class: 0\n",
            "|   |   |   |   |   |   |   |   |--- feature_5 >  421.00\n",
            "|   |   |   |   |   |   |   |   |   |--- class: 1\n",
            "|   |   |   |   |--- feature_5 >  11133.50\n",
            "|   |   |   |   |   |--- class: 0\n",
            "|--- feature_11 >  645.50\n",
            "|   |--- feature_8 <= 1.50\n",
            "|   |   |--- feature_11 <= 779.50\n",
            "|   |   |   |--- feature_11 <= 727.50\n",
            "|   |   |   |   |--- feature_12 <= 3.50\n",
            "|   |   |   |   |   |--- feature_13 <= 235.00\n",
            "|   |   |   |   |   |   |--- feature_11 <= 723.00\n",
            "|   |   |   |   |   |   |   |--- feature_3 <= 1.50\n",
            "|   |   |   |   |   |   |   |   |--- feature_5 <= 1505.00\n",
            "|   |   |   |   |   |   |   |   |   |--- feature_15 <= 1.00\n",
            "|   |   |   |   |   |   |   |   |   |   |--- class: 1\n",
            "|   |   |   |   |   |   |   |   |   |--- feature_15 >  1.00\n",
            "|   |   |   |   |   |   |   |   |   |   |--- feature_11 <= 659.50\n",
            "|   |   |   |   |   |   |   |   |   |   |   |--- class: 1\n",
            "|   |   |   |   |   |   |   |   |   |   |--- feature_11 >  659.50\n",
            "|   |   |   |   |   |   |   |   |   |   |   |--- truncated branch of depth 4\n",
            "|   |   |   |   |   |   |   |   |--- feature_5 >  1505.00\n",
            "|   |   |   |   |   |   |   |   |   |--- class: 1\n",
            "|   |   |   |   |   |   |   |--- feature_3 >  1.50\n",
            "|   |   |   |   |   |   |   |   |--- feature_9 <= 9.00\n",
            "|   |   |   |   |   |   |   |   |   |--- class: 1\n",
            "|   |   |   |   |   |   |   |   |--- feature_9 >  9.00\n",
            "|   |   |   |   |   |   |   |   |   |--- class: 0\n",
            "|   |   |   |   |   |   |--- feature_11 >  723.00\n",
            "|   |   |   |   |   |   |   |--- class: 1\n",
            "|   |   |   |   |   |--- feature_13 >  235.00\n",
            "|   |   |   |   |   |   |--- class: 1\n",
            "|   |   |   |   |--- feature_12 >  3.50\n",
            "|   |   |   |   |   |--- feature_11 <= 715.50\n",
            "|   |   |   |   |   |   |--- class: 1\n",
            "|   |   |   |   |   |--- feature_11 >  715.50\n",
            "|   |   |   |   |   |   |--- class: 0\n",
            "|   |   |   |--- feature_11 >  727.50\n",
            "|   |   |   |   |--- feature_1 <= 9.50\n",
            "|   |   |   |   |   |--- class: 0\n",
            "|   |   |   |   |--- feature_1 >  9.50\n",
            "|   |   |   |   |   |--- class: 1\n",
            "|   |   |--- feature_11 >  779.50\n",
            "|   |   |   |--- feature_13 <= 316.50\n",
            "|   |   |   |   |--- feature_10 <= 8.50\n",
            "|   |   |   |   |   |--- feature_1 <= 10.50\n",
            "|   |   |   |   |   |   |--- feature_1 <= 1.50\n",
            "|   |   |   |   |   |   |   |--- feature_2 <= 1.50\n",
            "|   |   |   |   |   |   |   |   |--- feature_0 <= 32.50\n",
            "|   |   |   |   |   |   |   |   |   |--- class: 0\n",
            "|   |   |   |   |   |   |   |   |--- feature_0 >  32.50\n",
            "|   |   |   |   |   |   |   |   |   |--- feature_14 <= 0.50\n",
            "|   |   |   |   |   |   |   |   |   |   |--- feature_10 <= 6.50\n",
            "|   |   |   |   |   |   |   |   |   |   |   |--- class: 1\n",
            "|   |   |   |   |   |   |   |   |   |   |--- feature_10 >  6.50\n",
            "|   |   |   |   |   |   |   |   |   |   |   |--- class: 0\n",
            "|   |   |   |   |   |   |   |   |   |--- feature_14 >  0.50\n",
            "|   |   |   |   |   |   |   |   |   |   |--- class: 0\n",
            "|   |   |   |   |   |   |   |--- feature_2 >  1.50\n",
            "|   |   |   |   |   |   |   |   |--- class: 1\n",
            "|   |   |   |   |   |   |--- feature_1 >  1.50\n",
            "|   |   |   |   |   |   |   |--- feature_1 <= 8.50\n",
            "|   |   |   |   |   |   |   |   |--- feature_0 <= 63.00\n",
            "|   |   |   |   |   |   |   |   |   |--- feature_0 <= 29.50\n",
            "|   |   |   |   |   |   |   |   |   |   |--- feature_5 <= 257.00\n",
            "|   |   |   |   |   |   |   |   |   |   |   |--- class: 1\n",
            "|   |   |   |   |   |   |   |   |   |   |--- feature_5 >  257.00\n",
            "|   |   |   |   |   |   |   |   |   |   |   |--- class: 0\n",
            "|   |   |   |   |   |   |   |   |   |--- feature_0 >  29.50\n",
            "|   |   |   |   |   |   |   |   |   |   |--- class: 1\n",
            "|   |   |   |   |   |   |   |   |--- feature_0 >  63.00\n",
            "|   |   |   |   |   |   |   |   |   |--- feature_5 <= 286.50\n",
            "|   |   |   |   |   |   |   |   |   |   |--- class: 0\n",
            "|   |   |   |   |   |   |   |   |   |--- feature_5 >  286.50\n",
            "|   |   |   |   |   |   |   |   |   |   |--- class: 1\n",
            "|   |   |   |   |   |   |   |--- feature_1 >  8.50\n",
            "|   |   |   |   |   |   |   |   |--- feature_9 <= 16.50\n",
            "|   |   |   |   |   |   |   |   |   |--- feature_0 <= 42.50\n",
            "|   |   |   |   |   |   |   |   |   |   |--- class: 0\n",
            "|   |   |   |   |   |   |   |   |   |--- feature_0 >  42.50\n",
            "|   |   |   |   |   |   |   |   |   |   |--- feature_2 <= 0.50\n",
            "|   |   |   |   |   |   |   |   |   |   |   |--- class: 0\n",
            "|   |   |   |   |   |   |   |   |   |   |--- feature_2 >  0.50\n",
            "|   |   |   |   |   |   |   |   |   |   |   |--- class: 1\n",
            "|   |   |   |   |   |   |   |   |--- feature_9 >  16.50\n",
            "|   |   |   |   |   |   |   |   |   |--- class: 1\n",
            "|   |   |   |   |   |--- feature_1 >  10.50\n",
            "|   |   |   |   |   |   |--- class: 0\n",
            "|   |   |   |   |--- feature_10 >  8.50\n",
            "|   |   |   |   |   |--- feature_6 <= 0.50\n",
            "|   |   |   |   |   |   |--- class: 0\n",
            "|   |   |   |   |   |--- feature_6 >  0.50\n",
            "|   |   |   |   |   |   |--- feature_0 <= 40.50\n",
            "|   |   |   |   |   |   |   |--- class: 0\n",
            "|   |   |   |   |   |   |--- feature_0 >  40.50\n",
            "|   |   |   |   |   |   |   |--- class: 1\n",
            "|   |   |   |--- feature_13 >  316.50\n",
            "|   |   |   |   |--- feature_0 <= 47.50\n",
            "|   |   |   |   |   |--- feature_12 <= 2.50\n",
            "|   |   |   |   |   |   |--- class: 0\n",
            "|   |   |   |   |   |--- feature_12 >  2.50\n",
            "|   |   |   |   |   |   |--- feature_15 <= 0.50\n",
            "|   |   |   |   |   |   |   |--- class: 1\n",
            "|   |   |   |   |   |   |--- feature_15 >  0.50\n",
            "|   |   |   |   |   |   |   |--- class: 0\n",
            "|   |   |   |   |--- feature_0 >  47.50\n",
            "|   |   |   |   |   |--- class: 1\n",
            "|   |--- feature_8 >  1.50\n",
            "|   |   |--- feature_0 <= 55.50\n",
            "|   |   |   |--- feature_11 <= 2225.00\n",
            "|   |   |   |   |--- feature_2 <= 1.50\n",
            "|   |   |   |   |   |--- feature_11 <= 648.00\n",
            "|   |   |   |   |   |   |--- class: 1\n",
            "|   |   |   |   |   |--- feature_11 >  648.00\n",
            "|   |   |   |   |   |   |--- feature_9 <= 2.50\n",
            "|   |   |   |   |   |   |   |--- class: 1\n",
            "|   |   |   |   |   |   |--- feature_9 >  2.50\n",
            "|   |   |   |   |   |   |   |--- feature_9 <= 14.50\n",
            "|   |   |   |   |   |   |   |   |--- class: 0\n",
            "|   |   |   |   |   |   |   |--- feature_9 >  14.50\n",
            "|   |   |   |   |   |   |   |   |--- feature_9 <= 17.50\n",
            "|   |   |   |   |   |   |   |   |   |--- feature_1 <= 2.50\n",
            "|   |   |   |   |   |   |   |   |   |   |--- class: 1\n",
            "|   |   |   |   |   |   |   |   |   |--- feature_1 >  2.50\n",
            "|   |   |   |   |   |   |   |   |   |   |--- feature_0 <= 36.50\n",
            "|   |   |   |   |   |   |   |   |   |   |   |--- class: 1\n",
            "|   |   |   |   |   |   |   |   |   |   |--- feature_0 >  36.50\n",
            "|   |   |   |   |   |   |   |   |   |   |   |--- class: 0\n",
            "|   |   |   |   |   |   |   |   |--- feature_9 >  17.50\n",
            "|   |   |   |   |   |   |   |   |   |--- feature_6 <= 0.50\n",
            "|   |   |   |   |   |   |   |   |   |   |--- class: 1\n",
            "|   |   |   |   |   |   |   |   |   |--- feature_6 >  0.50\n",
            "|   |   |   |   |   |   |   |   |   |   |--- class: 0\n",
            "|   |   |   |   |--- feature_2 >  1.50\n",
            "|   |   |   |   |   |--- feature_9 <= 11.50\n",
            "|   |   |   |   |   |   |--- feature_9 <= 1.50\n",
            "|   |   |   |   |   |   |   |--- class: 1\n",
            "|   |   |   |   |   |   |--- feature_9 >  1.50\n",
            "|   |   |   |   |   |   |   |--- class: 0\n",
            "|   |   |   |   |   |--- feature_9 >  11.50\n",
            "|   |   |   |   |   |   |--- feature_0 <= 31.00\n",
            "|   |   |   |   |   |   |   |--- class: 0\n",
            "|   |   |   |   |   |   |--- feature_0 >  31.00\n",
            "|   |   |   |   |   |   |   |--- feature_5 <= -420.00\n",
            "|   |   |   |   |   |   |   |   |--- class: 0\n",
            "|   |   |   |   |   |   |   |--- feature_5 >  -420.00\n",
            "|   |   |   |   |   |   |   |   |--- class: 1\n",
            "|   |   |   |--- feature_11 >  2225.00\n",
            "|   |   |   |   |--- class: 1\n",
            "|   |   |--- feature_0 >  55.50\n",
            "|   |   |   |--- feature_12 <= 2.50\n",
            "|   |   |   |   |--- class: 1\n",
            "|   |   |   |--- feature_12 >  2.50\n",
            "|   |   |   |   |--- feature_5 <= 434.00\n",
            "|   |   |   |   |   |--- class: 1\n",
            "|   |   |   |   |--- feature_5 >  434.00\n",
            "|   |   |   |   |   |--- class: 0\n",
            "\n"
          ]
        }
      ]
    },
    {
      "cell_type": "code",
      "metadata": {
        "colab": {
          "base_uri": "https://localhost:8080/",
          "height": 1000
        },
        "id": "5m8WM-vRRn5R",
        "outputId": "719c2edb-0bb1-4706-847f-d7ca97958677"
      },
      "source": [
        "tree.plot_tree(dclf)"
      ],
      "execution_count": null,
      "outputs": [
        {
          "output_type": "execute_result",
          "data": {
            "text/plain": [
              "[Text(224.96862404006845, 212.26285714285714, 'X[11] <= 645.5\\ngini = 0.204\\nsamples = 2577\\nvalue = [2280, 297]'),\n",
              " Text(141.32763483805508, 201.90857142857143, 'X[11] <= 211.5\\ngini = 0.147\\nsamples = 2373\\nvalue = [2184, 189]'),\n",
              " Text(76.06668788795162, 191.5542857142857, 'X[0] <= 19.5\\ngini = 0.054\\nsamples = 1440\\nvalue = [1400, 40]'),\n",
              " Text(74.36151519974536, 181.2, 'gini = 0.0\\nsamples = 2\\nvalue = [0, 2]'),\n",
              " Text(77.77186057615789, 181.2, 'X[0] <= 70.5\\ngini = 0.051\\nsamples = 1438\\nvalue = [1400, 38]'),\n",
              " Text(51.52818717173325, 170.84571428571428, 'X[15] <= 2.5\\ngini = 0.047\\nsamples = 1425\\nvalue = [1391, 34]'),\n",
              " Text(23.872417634887793, 160.49142857142857, 'X[13] <= 99.5\\ngini = 0.129\\nsamples = 260\\nvalue = [242, 18]'),\n",
              " Text(12.788795161547032, 150.13714285714286, 'X[15] <= 1.5\\ngini = 0.455\\nsamples = 40\\nvalue = [26, 14]'),\n",
              " Text(8.525863441031355, 139.78285714285715, 'X[5] <= 4019.0\\ngini = 0.269\\nsamples = 25\\nvalue = [21, 4]'),\n",
              " Text(6.820690752825084, 129.42857142857144, 'X[1] <= 10.5\\ngini = 0.159\\nsamples = 23\\nvalue = [21, 2]'),\n",
              " Text(5.115518064618813, 119.07428571428571, 'X[10] <= 2.0\\ngini = 0.087\\nsamples = 22\\nvalue = [21, 1]'),\n",
              " Text(3.410345376412542, 108.72, 'X[3] <= 1.5\\ngini = 0.5\\nsamples = 2\\nvalue = [1, 1]'),\n",
              " Text(1.705172688206271, 98.36571428571429, 'gini = 0.0\\nsamples = 1\\nvalue = [0, 1]'),\n",
              " Text(5.115518064618813, 98.36571428571429, 'gini = 0.0\\nsamples = 1\\nvalue = [1, 0]'),\n",
              " Text(6.820690752825084, 108.72, 'gini = 0.0\\nsamples = 20\\nvalue = [20, 0]'),\n",
              " Text(8.525863441031355, 119.07428571428571, 'gini = 0.0\\nsamples = 1\\nvalue = [0, 1]'),\n",
              " Text(10.231036129237626, 129.42857142857144, 'gini = 0.0\\nsamples = 2\\nvalue = [0, 2]'),\n",
              " Text(17.05172688206271, 139.78285714285715, 'X[11] <= 147.0\\ngini = 0.444\\nsamples = 15\\nvalue = [5, 10]'),\n",
              " Text(13.641381505650168, 129.42857142857144, 'X[0] <= 33.0\\ngini = 0.444\\nsamples = 6\\nvalue = [4, 2]'),\n",
              " Text(11.936208817443896, 119.07428571428571, 'gini = 0.0\\nsamples = 2\\nvalue = [0, 2]'),\n",
              " Text(15.34655419385644, 119.07428571428571, 'gini = 0.0\\nsamples = 4\\nvalue = [4, 0]'),\n",
              " Text(20.462072258475253, 129.42857142857144, 'X[9] <= 27.5\\ngini = 0.198\\nsamples = 9\\nvalue = [1, 8]'),\n",
              " Text(18.75689957026898, 119.07428571428571, 'gini = 0.0\\nsamples = 8\\nvalue = [0, 8]'),\n",
              " Text(22.167244946681524, 119.07428571428571, 'gini = 0.0\\nsamples = 1\\nvalue = [1, 0]'),\n",
              " Text(34.95604010822856, 150.13714285714286, 'X[0] <= 58.5\\ngini = 0.036\\nsamples = 220\\nvalue = [216, 4]'),\n",
              " Text(30.69310838771288, 139.78285714285715, 'X[8] <= 1.5\\ngini = 0.019\\nsamples = 209\\nvalue = [207, 2]'),\n",
              " Text(27.282763011300336, 129.42857142857144, 'X[13] <= 130.5\\ngini = 0.01\\nsamples = 203\\nvalue = [202, 1]'),\n",
              " Text(25.577590323094064, 119.07428571428571, 'X[9] <= 26.0\\ngini = 0.124\\nsamples = 15\\nvalue = [14, 1]'),\n",
              " Text(23.872417634887793, 108.72, 'gini = 0.0\\nsamples = 13\\nvalue = [13, 0]'),\n",
              " Text(27.282763011300336, 108.72, 'X[9] <= 28.5\\ngini = 0.5\\nsamples = 2\\nvalue = [1, 1]'),\n",
              " Text(25.577590323094064, 98.36571428571429, 'gini = 0.0\\nsamples = 1\\nvalue = [0, 1]'),\n",
              " Text(28.987935699506608, 98.36571428571429, 'gini = 0.0\\nsamples = 1\\nvalue = [1, 0]'),\n",
              " Text(28.987935699506608, 119.07428571428571, 'gini = 0.0\\nsamples = 188\\nvalue = [188, 0]'),\n",
              " Text(34.10345376412542, 129.42857142857144, 'X[5] <= 96.5\\ngini = 0.278\\nsamples = 6\\nvalue = [5, 1]'),\n",
              " Text(32.39828107591915, 119.07428571428571, 'gini = 0.0\\nsamples = 1\\nvalue = [0, 1]'),\n",
              " Text(35.808626452331694, 119.07428571428571, 'gini = 0.0\\nsamples = 5\\nvalue = [5, 0]'),\n",
              " Text(39.21897182874423, 139.78285714285715, 'X[13] <= 187.0\\ngini = 0.298\\nsamples = 11\\nvalue = [9, 2]'),\n",
              " Text(37.51379914053796, 129.42857142857144, 'gini = 0.0\\nsamples = 8\\nvalue = [8, 0]'),\n",
              " Text(40.924144516950506, 129.42857142857144, 'X[9] <= 25.5\\ngini = 0.444\\nsamples = 3\\nvalue = [1, 2]'),\n",
              " Text(39.21897182874423, 119.07428571428571, 'gini = 0.0\\nsamples = 2\\nvalue = [0, 2]'),\n",
              " Text(42.629317205156774, 119.07428571428571, 'gini = 0.0\\nsamples = 1\\nvalue = [1, 0]'),\n",
              " Text(79.1839567085787, 160.49142857142857, 'X[10] <= 9.5\\ngini = 0.027\\nsamples = 1165\\nvalue = [1149, 16]'),\n",
              " Text(62.87824287760624, 150.13714285714286, 'X[10] <= 0.5\\ngini = 0.022\\nsamples = 1144\\nvalue = [1131, 13]'),\n",
              " Text(52.860353334394404, 139.78285714285715, 'X[9] <= 21.5\\ngini = 0.145\\nsamples = 38\\nvalue = [35, 3]'),\n",
              " Text(47.744835269775585, 129.42857142857144, 'X[11] <= 164.5\\ngini = 0.061\\nsamples = 32\\nvalue = [31, 1]'),\n",
              " Text(46.03966258156932, 119.07428571428571, 'gini = 0.0\\nsamples = 28\\nvalue = [28, 0]'),\n",
              " Text(49.45000795798186, 119.07428571428571, 'X[3] <= 1.5\\ngini = 0.375\\nsamples = 4\\nvalue = [3, 1]'),\n",
              " Text(47.744835269775585, 108.72, 'gini = 0.0\\nsamples = 1\\nvalue = [0, 1]'),\n",
              " Text(51.15518064618813, 108.72, 'gini = 0.0\\nsamples = 3\\nvalue = [3, 0]'),\n",
              " Text(57.975871399013215, 129.42857142857144, 'X[9] <= 28.0\\ngini = 0.444\\nsamples = 6\\nvalue = [4, 2]'),\n",
              " Text(56.27069871080694, 119.07428571428571, 'X[12] <= 2.5\\ngini = 0.444\\nsamples = 3\\nvalue = [1, 2]'),\n",
              " Text(54.56552602260067, 108.72, 'gini = 0.0\\nsamples = 2\\nvalue = [0, 2]'),\n",
              " Text(57.975871399013215, 108.72, 'gini = 0.0\\nsamples = 1\\nvalue = [1, 0]'),\n",
              " Text(59.68104408721948, 119.07428571428571, 'gini = 0.0\\nsamples = 3\\nvalue = [3, 0]'),\n",
              " Text(72.89613242081809, 139.78285714285715, 'X[0] <= 29.5\\ngini = 0.018\\nsamples = 1106\\nvalue = [1096, 10]'),\n",
              " Text(64.7965621518383, 129.42857142857144, 'X[6] <= 0.5\\ngini = 0.069\\nsamples = 111\\nvalue = [107, 4]'),\n",
              " Text(63.09138946363203, 119.07428571428571, 'X[11] <= 119.0\\ngini = 0.193\\nsamples = 37\\nvalue = [33, 4]'),\n",
              " Text(61.38621677542576, 108.72, 'gini = 0.0\\nsamples = 17\\nvalue = [17, 0]'),\n",
              " Text(64.7965621518383, 108.72, 'X[11] <= 131.5\\ngini = 0.32\\nsamples = 20\\nvalue = [16, 4]'),\n",
              " Text(63.09138946363203, 98.36571428571429, 'gini = 0.0\\nsamples = 3\\nvalue = [0, 3]'),\n",
              " Text(66.50173484004456, 98.36571428571429, 'X[10] <= 2.0\\ngini = 0.111\\nsamples = 17\\nvalue = [16, 1]'),\n",
              " Text(64.7965621518383, 88.01142857142858, 'X[8] <= 0.5\\ngini = 0.5\\nsamples = 2\\nvalue = [1, 1]'),\n",
              " Text(63.09138946363203, 77.65714285714284, 'gini = 0.0\\nsamples = 1\\nvalue = [1, 0]'),\n",
              " Text(66.50173484004456, 77.65714285714284, 'gini = 0.0\\nsamples = 1\\nvalue = [0, 1]'),\n",
              " Text(68.20690752825084, 88.01142857142858, 'gini = 0.0\\nsamples = 15\\nvalue = [15, 0]'),\n",
              " Text(66.50173484004456, 119.07428571428571, 'gini = 0.0\\nsamples = 74\\nvalue = [74, 0]'),\n",
              " Text(80.99570268979787, 129.42857142857144, 'X[0] <= 60.5\\ngini = 0.012\\nsamples = 995\\nvalue = [989, 6]'),\n",
              " Text(75.02759828107592, 119.07428571428571, 'X[3] <= 1.5\\ngini = 0.01\\nsamples = 985\\nvalue = [980, 5]'),\n",
              " Text(73.32242559286965, 108.72, 'gini = 0.0\\nsamples = 645\\nvalue = [645, 0]'),\n",
              " Text(76.7327709692822, 108.72, 'X[11] <= 206.0\\ngini = 0.029\\nsamples = 340\\nvalue = [335, 5]'),\n",
              " Text(73.32242559286965, 98.36571428571429, 'X[9] <= 16.5\\ngini = 0.024\\nsamples = 333\\nvalue = [329, 4]'),\n",
              " Text(71.61725290466339, 88.01142857142858, 'X[0] <= 41.5\\ngini = 0.048\\nsamples = 162\\nvalue = [158, 4]'),\n",
              " Text(69.91208021645711, 77.65714285714284, 'gini = 0.0\\nsamples = 79\\nvalue = [79, 0]'),\n",
              " Text(73.32242559286965, 77.65714285714284, 'X[0] <= 49.5\\ngini = 0.092\\nsamples = 83\\nvalue = [79, 4]'),\n",
              " Text(71.61725290466339, 67.30285714285714, 'X[0] <= 48.5\\ngini = 0.159\\nsamples = 46\\nvalue = [42, 4]'),\n",
              " Text(67.35432118414771, 56.94857142857143, 'X[2] <= 0.5\\ngini = 0.093\\nsamples = 41\\nvalue = [39, 2]'),\n",
              " Text(63.943975807735164, 46.59428571428572, 'X[9] <= 15.5\\ngini = 0.444\\nsamples = 3\\nvalue = [2, 1]'),\n",
              " Text(62.23880311952889, 36.24000000000001, 'gini = 0.0\\nsamples = 2\\nvalue = [2, 0]'),\n",
              " Text(65.64914849594143, 36.24000000000001, 'gini = 0.0\\nsamples = 1\\nvalue = [0, 1]'),\n",
              " Text(70.76466656056024, 46.59428571428572, 'X[11] <= 183.0\\ngini = 0.051\\nsamples = 38\\nvalue = [37, 1]'),\n",
              " Text(69.05949387235397, 36.24000000000001, 'gini = 0.0\\nsamples = 31\\nvalue = [31, 0]'),\n",
              " Text(72.46983924876652, 36.24000000000001, 'X[11] <= 188.5\\ngini = 0.245\\nsamples = 7\\nvalue = [6, 1]'),\n",
              " Text(70.76466656056024, 25.8857142857143, 'gini = 0.0\\nsamples = 1\\nvalue = [0, 1]'),\n",
              " Text(74.1750119369728, 25.8857142857143, 'gini = 0.0\\nsamples = 6\\nvalue = [6, 0]'),\n",
              " Text(75.88018462517906, 56.94857142857143, 'X[1] <= 3.5\\ngini = 0.48\\nsamples = 5\\nvalue = [3, 2]'),\n",
              " Text(74.1750119369728, 46.59428571428572, 'gini = 0.0\\nsamples = 3\\nvalue = [3, 0]'),\n",
              " Text(77.58535731338533, 46.59428571428572, 'gini = 0.0\\nsamples = 2\\nvalue = [0, 2]'),\n",
              " Text(75.02759828107592, 67.30285714285714, 'gini = 0.0\\nsamples = 37\\nvalue = [37, 0]'),\n",
              " Text(75.02759828107592, 88.01142857142858, 'gini = 0.0\\nsamples = 171\\nvalue = [171, 0]'),\n",
              " Text(80.14311634569474, 98.36571428571429, 'X[5] <= 6117.0\\ngini = 0.245\\nsamples = 7\\nvalue = [6, 1]'),\n",
              " Text(78.43794365748846, 88.01142857142858, 'gini = 0.0\\nsamples = 6\\nvalue = [6, 0]'),\n",
              " Text(81.84828903390101, 88.01142857142858, 'gini = 0.0\\nsamples = 1\\nvalue = [0, 1]'),\n",
              " Text(86.96380709851982, 119.07428571428571, 'X[9] <= 11.0\\ngini = 0.18\\nsamples = 10\\nvalue = [9, 1]'),\n",
              " Text(85.25863441031355, 108.72, 'X[5] <= 846.5\\ngini = 0.444\\nsamples = 3\\nvalue = [2, 1]'),\n",
              " Text(83.55346172210727, 98.36571428571429, 'gini = 0.0\\nsamples = 2\\nvalue = [2, 0]'),\n",
              " Text(86.96380709851982, 98.36571428571429, 'gini = 0.0\\nsamples = 1\\nvalue = [0, 1]'),\n",
              " Text(88.6689797867261, 108.72, 'gini = 0.0\\nsamples = 7\\nvalue = [7, 0]'),\n",
              " Text(95.48967053955117, 150.13714285714286, 'X[7] <= 0.5\\ngini = 0.245\\nsamples = 21\\nvalue = [18, 3]'),\n",
              " Text(93.78449785134491, 139.78285714285715, 'X[5] <= 16.5\\ngini = 0.1\\nsamples = 19\\nvalue = [18, 1]'),\n",
              " Text(92.07932516313863, 129.42857142857144, 'X[3] <= 1.0\\ngini = 0.5\\nsamples = 2\\nvalue = [1, 1]'),\n",
              " Text(90.37415247493236, 119.07428571428571, 'gini = 0.0\\nsamples = 1\\nvalue = [1, 0]'),\n",
              " Text(93.78449785134491, 119.07428571428571, 'gini = 0.0\\nsamples = 1\\nvalue = [0, 1]'),\n",
              " Text(95.48967053955117, 129.42857142857144, 'gini = 0.0\\nsamples = 17\\nvalue = [17, 0]'),\n",
              " Text(97.19484322775745, 139.78285714285715, 'gini = 0.0\\nsamples = 2\\nvalue = [0, 2]'),\n",
              " Text(104.01553398058253, 170.84571428571428, 'X[11] <= 177.0\\ngini = 0.426\\nsamples = 13\\nvalue = [9, 4]'),\n",
              " Text(100.60518860416998, 160.49142857142857, 'X[0] <= 71.5\\ngini = 0.198\\nsamples = 9\\nvalue = [8, 1]'),\n",
              " Text(98.90001591596372, 150.13714285714286, 'gini = 0.0\\nsamples = 1\\nvalue = [0, 1]'),\n",
              " Text(102.31036129237626, 150.13714285714286, 'gini = 0.0\\nsamples = 8\\nvalue = [8, 0]'),\n",
              " Text(107.42587935699507, 160.49142857142857, 'X[1] <= 8.0\\ngini = 0.375\\nsamples = 4\\nvalue = [1, 3]'),\n",
              " Text(105.72070666878881, 150.13714285714286, 'gini = 0.0\\nsamples = 3\\nvalue = [0, 3]'),\n",
              " Text(109.13105204520134, 150.13714285714286, 'gini = 0.0\\nsamples = 1\\nvalue = [1, 0]'),\n",
              " Text(206.58858178815854, 191.5542857142857, 'X[13] <= 20.0\\ngini = 0.268\\nsamples = 933\\nvalue = [784, 149]'),\n",
              " Text(171.73536825561038, 181.2, 'X[0] <= 60.5\\ngini = 0.198\\nsamples = 745\\nvalue = [662, 83]'),\n",
              " Text(142.52679253541302, 170.84571428571428, 'X[9] <= 2.5\\ngini = 0.177\\nsamples = 722\\nvalue = [651, 71]'),\n",
              " Text(115.95174279802643, 160.49142857142857, 'X[8] <= 0.5\\ngini = 0.499\\nsamples = 19\\nvalue = [10, 9]'),\n",
              " Text(112.54139742161388, 150.13714285714286, 'X[10] <= 5.5\\ngini = 0.463\\nsamples = 11\\nvalue = [4, 7]'),\n",
              " Text(110.83622473340762, 139.78285714285715, 'X[2] <= 0.5\\ngini = 0.444\\nsamples = 6\\nvalue = [4, 2]'),\n",
              " Text(109.13105204520134, 129.42857142857144, 'gini = 0.0\\nsamples = 1\\nvalue = [0, 1]'),\n",
              " Text(112.54139742161388, 129.42857142857144, 'X[12] <= 1.5\\ngini = 0.32\\nsamples = 5\\nvalue = [4, 1]'),\n",
              " Text(110.83622473340762, 119.07428571428571, 'X[5] <= 1828.0\\ngini = 0.5\\nsamples = 2\\nvalue = [1, 1]'),\n",
              " Text(109.13105204520134, 108.72, 'gini = 0.0\\nsamples = 1\\nvalue = [1, 0]'),\n",
              " Text(112.54139742161388, 108.72, 'gini = 0.0\\nsamples = 1\\nvalue = [0, 1]'),\n",
              " Text(114.24657010982015, 119.07428571428571, 'gini = 0.0\\nsamples = 3\\nvalue = [3, 0]'),\n",
              " Text(114.24657010982015, 139.78285714285715, 'gini = 0.0\\nsamples = 5\\nvalue = [0, 5]'),\n",
              " Text(119.36208817443897, 150.13714285714286, 'X[11] <= 440.5\\ngini = 0.375\\nsamples = 8\\nvalue = [6, 2]'),\n",
              " Text(117.6569154862327, 139.78285714285715, 'gini = 0.0\\nsamples = 5\\nvalue = [5, 0]'),\n",
              " Text(121.06726086264524, 139.78285714285715, 'X[0] <= 32.5\\ngini = 0.444\\nsamples = 3\\nvalue = [1, 2]'),\n",
              " Text(119.36208817443897, 129.42857142857144, 'gini = 0.0\\nsamples = 1\\nvalue = [1, 0]'),\n",
              " Text(122.77243355085152, 129.42857142857144, 'gini = 0.0\\nsamples = 2\\nvalue = [0, 2]'),\n",
              " Text(169.10184227279962, 160.49142857142857, 'X[8] <= 1.5\\ngini = 0.161\\nsamples = 703\\nvalue = [641, 62]'),\n",
              " Text(145.78560401082285, 150.13714285714286, 'X[0] <= 25.5\\ngini = 0.225\\nsamples = 434\\nvalue = [378, 56]'),\n",
              " Text(127.88795161547033, 139.78285714285715, 'X[9] <= 16.0\\ngini = 0.496\\nsamples = 11\\nvalue = [6, 5]'),\n",
              " Text(126.18277892726405, 129.42857142857144, 'gini = 0.0\\nsamples = 5\\nvalue = [5, 0]'),\n",
              " Text(129.5931243036766, 129.42857142857144, 'X[6] <= 0.5\\ngini = 0.278\\nsamples = 6\\nvalue = [1, 5]'),\n",
              " Text(127.88795161547033, 119.07428571428571, 'gini = 0.0\\nsamples = 5\\nvalue = [0, 5]'),\n",
              " Text(131.29829699188286, 119.07428571428571, 'gini = 0.0\\nsamples = 1\\nvalue = [1, 0]'),\n",
              " Text(163.68325640617542, 139.78285714285715, 'X[11] <= 557.5\\ngini = 0.212\\nsamples = 423\\nvalue = [372, 51]'),\n",
              " Text(150.61470635046953, 129.42857142857144, 'X[7] <= 0.5\\ngini = 0.192\\nsamples = 391\\nvalue = [349, 42]'),\n",
              " Text(134.70864236829541, 119.07428571428571, 'X[9] <= 12.5\\ngini = 0.215\\nsamples = 335\\nvalue = [294, 41]'),\n",
              " Text(121.06726086264524, 108.72, 'X[10] <= 8.5\\ngini = 0.295\\nsamples = 111\\nvalue = [91, 20]'),\n",
              " Text(113.66041699824925, 98.36571428571429, 'X[1] <= 1.5\\ngini = 0.26\\nsamples = 104\\nvalue = [88, 16]'),\n",
              " Text(111.95524431004299, 88.01142857142858, 'gini = 0.0\\nsamples = 31\\nvalue = [31, 0]'),\n",
              " Text(115.36558968645552, 88.01142857142858, 'X[11] <= 481.0\\ngini = 0.342\\nsamples = 73\\nvalue = [57, 16]'),\n",
              " Text(109.0777653986949, 77.65714285714284, 'X[12] <= 3.5\\ngini = 0.306\\nsamples = 69\\nvalue = [56, 13]'),\n",
              " Text(101.61763488779246, 67.30285714285714, 'X[5] <= -601.5\\ngini = 0.249\\nsamples = 55\\nvalue = [47, 8]'),\n",
              " Text(99.91246219958619, 56.94857142857143, 'gini = 0.0\\nsamples = 1\\nvalue = [0, 1]'),\n",
              " Text(103.32280757599874, 56.94857142857143, 'X[1] <= 6.5\\ngini = 0.226\\nsamples = 54\\nvalue = [47, 7]'),\n",
              " Text(96.92840999522522, 46.59428571428572, 'X[5] <= 1492.0\\ngini = 0.337\\nsamples = 28\\nvalue = [22, 6]'),\n",
              " Text(92.66547827470954, 36.24000000000001, 'X[10] <= 1.5\\ngini = 0.227\\nsamples = 23\\nvalue = [20, 3]'),\n",
              " Text(89.25513289829699, 25.8857142857143, 'X[5] <= 613.0\\ngini = 0.48\\nsamples = 5\\nvalue = [3, 2]'),\n",
              " Text(87.54996021009073, 15.531428571428563, 'X[5] <= 177.5\\ngini = 0.444\\nsamples = 3\\nvalue = [1, 2]'),\n",
              " Text(85.84478752188446, 5.177142857142854, 'gini = 0.0\\nsamples = 1\\nvalue = [1, 0]'),\n",
              " Text(89.25513289829699, 5.177142857142854, 'gini = 0.0\\nsamples = 2\\nvalue = [0, 2]'),\n",
              " Text(90.96030558650327, 15.531428571428563, 'gini = 0.0\\nsamples = 2\\nvalue = [2, 0]'),\n",
              " Text(96.07582365112208, 25.8857142857143, 'X[3] <= 0.5\\ngini = 0.105\\nsamples = 18\\nvalue = [17, 1]'),\n",
              " Text(94.3706509629158, 15.531428571428563, 'X[1] <= 4.0\\ngini = 0.5\\nsamples = 2\\nvalue = [1, 1]'),\n",
              " Text(92.66547827470954, 5.177142857142854, 'gini = 0.0\\nsamples = 1\\nvalue = [0, 1]'),\n",
              " Text(96.07582365112208, 5.177142857142854, 'gini = 0.0\\nsamples = 1\\nvalue = [1, 0]'),\n",
              " Text(97.78099633932835, 15.531428571428563, 'gini = 0.0\\nsamples = 16\\nvalue = [16, 0]'),\n",
              " Text(101.19134171574089, 36.24000000000001, 'X[11] <= 418.5\\ngini = 0.48\\nsamples = 5\\nvalue = [2, 3]'),\n",
              " Text(99.48616902753463, 25.8857142857143, 'gini = 0.0\\nsamples = 3\\nvalue = [0, 3]'),\n",
              " Text(102.89651440394717, 25.8857142857143, 'gini = 0.0\\nsamples = 2\\nvalue = [2, 0]'),\n",
              " Text(109.71720515677225, 46.59428571428572, 'X[11] <= 220.0\\ngini = 0.074\\nsamples = 26\\nvalue = [25, 1]'),\n",
              " Text(108.01203246856598, 36.24000000000001, 'X[5] <= 99.5\\ngini = 0.5\\nsamples = 2\\nvalue = [1, 1]'),\n",
              " Text(106.3068597803597, 25.8857142857143, 'gini = 0.0\\nsamples = 1\\nvalue = [1, 0]'),\n",
              " Text(109.71720515677225, 25.8857142857143, 'gini = 0.0\\nsamples = 1\\nvalue = [0, 1]'),\n",
              " Text(111.42237784497853, 36.24000000000001, 'gini = 0.0\\nsamples = 24\\nvalue = [24, 0]'),\n",
              " Text(116.53789590959734, 67.30285714285714, 'X[0] <= 51.5\\ngini = 0.459\\nsamples = 14\\nvalue = [9, 5]'),\n",
              " Text(114.83272322139106, 56.94857142857143, 'X[5] <= 383.5\\ngini = 0.5\\nsamples = 10\\nvalue = [5, 5]'),\n",
              " Text(113.12755053318479, 46.59428571428572, 'gini = 0.0\\nsamples = 4\\nvalue = [0, 4]'),\n",
              " Text(116.53789590959734, 46.59428571428572, 'X[1] <= 9.5\\ngini = 0.278\\nsamples = 6\\nvalue = [5, 1]'),\n",
              " Text(114.83272322139106, 36.24000000000001, 'gini = 0.0\\nsamples = 5\\nvalue = [5, 0]'),\n",
              " Text(118.2430685978036, 36.24000000000001, 'gini = 0.0\\nsamples = 1\\nvalue = [0, 1]'),\n",
              " Text(118.2430685978036, 56.94857142857143, 'gini = 0.0\\nsamples = 4\\nvalue = [4, 0]'),\n",
              " Text(121.65341397421615, 77.65714285714284, 'X[0] <= 32.5\\ngini = 0.375\\nsamples = 4\\nvalue = [1, 3]'),\n",
              " Text(119.94824128600987, 67.30285714285714, 'gini = 0.0\\nsamples = 1\\nvalue = [1, 0]'),\n",
              " Text(123.35858666242241, 67.30285714285714, 'gini = 0.0\\nsamples = 3\\nvalue = [0, 3]'),\n",
              " Text(128.47410472704124, 98.36571428571429, 'X[5] <= 3968.0\\ngini = 0.49\\nsamples = 7\\nvalue = [3, 4]'),\n",
              " Text(126.76893203883496, 88.01142857142858, 'X[12] <= 3.5\\ngini = 0.32\\nsamples = 5\\nvalue = [1, 4]'),\n",
              " Text(125.06375935062869, 77.65714285714284, 'gini = 0.0\\nsamples = 4\\nvalue = [0, 4]'),\n",
              " Text(128.47410472704124, 77.65714285714284, 'gini = 0.0\\nsamples = 1\\nvalue = [1, 0]'),\n",
              " Text(130.1792774152475, 88.01142857142858, 'gini = 0.0\\nsamples = 2\\nvalue = [2, 0]'),\n",
              " Text(148.3500238739456, 108.72, 'X[10] <= 0.5\\ngini = 0.17\\nsamples = 224\\nvalue = [203, 21]'),\n",
              " Text(136.9999681680726, 98.36571428571429, 'X[9] <= 20.5\\ngini = 0.346\\nsamples = 27\\nvalue = [21, 6]'),\n",
              " Text(133.58962279166005, 88.01142857142858, 'X[12] <= 3.5\\ngini = 0.095\\nsamples = 20\\nvalue = [19, 1]'),\n",
              " Text(131.88445010345376, 77.65714285714284, 'gini = 0.0\\nsamples = 18\\nvalue = [18, 0]'),\n",
              " Text(135.2947954798663, 77.65714285714284, 'X[1] <= 2.5\\ngini = 0.5\\nsamples = 2\\nvalue = [1, 1]'),\n",
              " Text(133.58962279166005, 67.30285714285714, 'gini = 0.0\\nsamples = 1\\nvalue = [1, 0]'),\n",
              " Text(136.9999681680726, 67.30285714285714, 'gini = 0.0\\nsamples = 1\\nvalue = [0, 1]'),\n",
              " Text(140.41031354448512, 88.01142857142858, 'X[11] <= 238.5\\ngini = 0.408\\nsamples = 7\\nvalue = [2, 5]'),\n",
              " Text(138.70514085627886, 77.65714285714284, 'gini = 0.0\\nsamples = 2\\nvalue = [2, 0]'),\n",
              " Text(142.1154862326914, 77.65714285714284, 'gini = 0.0\\nsamples = 5\\nvalue = [0, 5]'),\n",
              " Text(159.70007957981858, 98.36571428571429, 'X[10] <= 5.5\\ngini = 0.141\\nsamples = 197\\nvalue = [182, 15]'),\n",
              " Text(148.93617698551648, 88.01142857142858, 'X[12] <= 3.5\\ngini = 0.081\\nsamples = 119\\nvalue = [114, 5]'),\n",
              " Text(145.52583160910393, 77.65714285714284, 'X[11] <= 245.5\\ngini = 0.025\\nsamples = 80\\nvalue = [79, 1]'),\n",
              " Text(143.82065892089767, 67.30285714285714, 'X[11] <= 244.0\\ngini = 0.142\\nsamples = 13\\nvalue = [12, 1]'),\n",
              " Text(142.1154862326914, 56.94857142857143, 'gini = 0.0\\nsamples = 12\\nvalue = [12, 0]'),\n",
              " Text(145.52583160910393, 56.94857142857143, 'gini = 0.0\\nsamples = 1\\nvalue = [0, 1]'),\n",
              " Text(147.23100429731022, 67.30285714285714, 'gini = 0.0\\nsamples = 67\\nvalue = [67, 0]'),\n",
              " Text(152.34652236192903, 77.65714285714284, 'X[0] <= 27.5\\ngini = 0.184\\nsamples = 39\\nvalue = [35, 4]'),\n",
              " Text(150.64134967372274, 67.30285714285714, 'gini = 0.0\\nsamples = 1\\nvalue = [0, 1]'),\n",
              " Text(154.0516950501353, 67.30285714285714, 'X[5] <= 4134.5\\ngini = 0.145\\nsamples = 38\\nvalue = [35, 3]'),\n",
              " Text(149.78876332961963, 56.94857142857143, 'X[1] <= 0.5\\ngini = 0.105\\nsamples = 36\\nvalue = [34, 2]'),\n",
              " Text(146.37841795320708, 46.59428571428572, 'X[12] <= 5.5\\ngini = 0.444\\nsamples = 3\\nvalue = [2, 1]'),\n",
              " Text(144.67324526500082, 36.24000000000001, 'gini = 0.0\\nsamples = 2\\nvalue = [2, 0]'),\n",
              " Text(148.08359064141334, 36.24000000000001, 'gini = 0.0\\nsamples = 1\\nvalue = [0, 1]'),\n",
              " Text(153.19910870603215, 46.59428571428572, 'X[1] <= 8.0\\ngini = 0.059\\nsamples = 33\\nvalue = [32, 1]'),\n",
              " Text(151.4939360178259, 36.24000000000001, 'gini = 0.0\\nsamples = 25\\nvalue = [25, 0]'),\n",
              " Text(154.90428139423844, 36.24000000000001, 'X[5] <= 191.5\\ngini = 0.219\\nsamples = 8\\nvalue = [7, 1]'),\n",
              " Text(153.19910870603215, 25.8857142857143, 'X[9] <= 19.5\\ngini = 0.5\\nsamples = 2\\nvalue = [1, 1]'),\n",
              " Text(151.4939360178259, 15.531428571428563, 'gini = 0.0\\nsamples = 1\\nvalue = [1, 0]'),\n",
              " Text(154.90428139423844, 15.531428571428563, 'gini = 0.0\\nsamples = 1\\nvalue = [0, 1]'),\n",
              " Text(156.6094540824447, 25.8857142857143, 'gini = 0.0\\nsamples = 6\\nvalue = [6, 0]'),\n",
              " Text(158.31462677065096, 56.94857142857143, 'X[12] <= 5.0\\ngini = 0.5\\nsamples = 2\\nvalue = [1, 1]'),\n",
              " Text(156.6094540824447, 46.59428571428572, 'gini = 0.0\\nsamples = 1\\nvalue = [0, 1]'),\n",
              " Text(160.01979945885725, 46.59428571428572, 'gini = 0.0\\nsamples = 1\\nvalue = [1, 0]'),\n",
              " Text(170.46398217412064, 88.01142857142858, 'X[10] <= 7.5\\ngini = 0.224\\nsamples = 78\\nvalue = [68, 10]'),\n",
              " Text(167.05363679770812, 77.65714285714284, 'X[12] <= 1.5\\ngini = 0.32\\nsamples = 5\\nvalue = [1, 4]'),\n",
              " Text(165.34846410950183, 67.30285714285714, 'gini = 0.0\\nsamples = 1\\nvalue = [1, 0]'),\n",
              " Text(168.75880948591438, 67.30285714285714, 'gini = 0.0\\nsamples = 4\\nvalue = [0, 4]'),\n",
              " Text(173.8743275505332, 77.65714285714284, 'X[5] <= -178.5\\ngini = 0.151\\nsamples = 73\\nvalue = [67, 6]'),\n",
              " Text(172.16915486232693, 67.30285714285714, 'gini = 0.0\\nsamples = 1\\nvalue = [0, 1]'),\n",
              " Text(175.57950023873946, 67.30285714285714, 'X[11] <= 524.0\\ngini = 0.129\\nsamples = 72\\nvalue = [67, 5]'),\n",
              " Text(170.67712876014645, 56.94857142857143, 'X[3] <= 2.5\\ngini = 0.108\\nsamples = 70\\nvalue = [66, 4]'),\n",
              " Text(165.9879038675792, 46.59428571428572, 'X[11] <= 227.0\\ngini = 0.087\\nsamples = 66\\nvalue = [63, 3]'),\n",
              " Text(161.7249721470635, 36.24000000000001, 'X[9] <= 16.0\\ngini = 0.5\\nsamples = 2\\nvalue = [1, 1]'),\n",
              " Text(160.01979945885725, 25.8857142857143, 'gini = 0.0\\nsamples = 1\\nvalue = [0, 1]'),\n",
              " Text(163.43014483526977, 25.8857142857143, 'gini = 0.0\\nsamples = 1\\nvalue = [1, 0]'),\n",
              " Text(170.25083558809487, 36.24000000000001, 'X[5] <= 20.0\\ngini = 0.061\\nsamples = 64\\nvalue = [62, 2]'),\n",
              " Text(166.84049021168232, 25.8857142857143, 'X[5] <= 11.5\\ngini = 0.245\\nsamples = 7\\nvalue = [6, 1]'),\n",
              " Text(165.13531752347606, 15.531428571428563, 'gini = 0.0\\nsamples = 6\\nvalue = [6, 0]'),\n",
              " Text(168.5456628998886, 15.531428571428563, 'gini = 0.0\\nsamples = 1\\nvalue = [0, 1]'),\n",
              " Text(173.66118096450742, 25.8857142857143, 'X[11] <= 273.5\\ngini = 0.034\\nsamples = 57\\nvalue = [56, 1]'),\n",
              " Text(171.95600827630113, 15.531428571428563, 'X[11] <= 269.5\\ngini = 0.18\\nsamples = 10\\nvalue = [9, 1]'),\n",
              " Text(170.25083558809487, 5.177142857142854, 'gini = 0.0\\nsamples = 9\\nvalue = [9, 0]'),\n",
              " Text(173.66118096450742, 5.177142857142854, 'gini = 0.0\\nsamples = 1\\nvalue = [0, 1]'),\n",
              " Text(175.36635365271368, 15.531428571428563, 'gini = 0.0\\nsamples = 47\\nvalue = [47, 0]'),\n",
              " Text(175.36635365271368, 46.59428571428572, 'X[11] <= 314.0\\ngini = 0.375\\nsamples = 4\\nvalue = [3, 1]'),\n",
              " Text(173.66118096450742, 36.24000000000001, 'gini = 0.0\\nsamples = 3\\nvalue = [3, 0]'),\n",
              " Text(177.07152634091995, 36.24000000000001, 'gini = 0.0\\nsamples = 1\\nvalue = [0, 1]'),\n",
              " Text(180.4818717173325, 56.94857142857143, 'X[5] <= 2054.5\\ngini = 0.5\\nsamples = 2\\nvalue = [1, 1]'),\n",
              " Text(178.77669902912623, 46.59428571428572, 'gini = 0.0\\nsamples = 1\\nvalue = [1, 0]'),\n",
              " Text(182.18704440553876, 46.59428571428572, 'gini = 0.0\\nsamples = 1\\nvalue = [0, 1]'),\n",
              " Text(166.52077033264365, 119.07428571428571, 'X[5] <= -278.0\\ngini = 0.035\\nsamples = 56\\nvalue = [55, 1]'),\n",
              " Text(164.8155976444374, 108.72, 'X[1] <= 6.5\\ngini = 0.444\\nsamples = 3\\nvalue = [2, 1]'),\n",
              " Text(163.1104249562311, 98.36571428571429, 'gini = 0.0\\nsamples = 2\\nvalue = [2, 0]'),\n",
              " Text(166.52077033264365, 98.36571428571429, 'gini = 0.0\\nsamples = 1\\nvalue = [0, 1]'),\n",
              " Text(168.2259430208499, 108.72, 'gini = 0.0\\nsamples = 53\\nvalue = [53, 0]'),\n",
              " Text(176.75180646188127, 129.42857142857144, 'X[10] <= 5.5\\ngini = 0.404\\nsamples = 32\\nvalue = [23, 9]'),\n",
              " Text(173.34146108546872, 119.07428571428571, 'X[5] <= 17.5\\ngini = 0.236\\nsamples = 22\\nvalue = [19, 3]'),\n",
              " Text(171.63628839726246, 108.72, 'X[5] <= -27.5\\ngini = 0.5\\nsamples = 6\\nvalue = [3, 3]'),\n",
              " Text(169.9311157090562, 98.36571428571429, 'gini = 0.0\\nsamples = 3\\nvalue = [3, 0]'),\n",
              " Text(173.34146108546872, 98.36571428571429, 'gini = 0.0\\nsamples = 3\\nvalue = [0, 3]'),\n",
              " Text(175.046633773675, 108.72, 'gini = 0.0\\nsamples = 16\\nvalue = [16, 0]'),\n",
              " Text(180.16215183829382, 119.07428571428571, 'X[9] <= 15.5\\ngini = 0.48\\nsamples = 10\\nvalue = [4, 6]'),\n",
              " Text(178.45697915008756, 108.72, 'gini = 0.0\\nsamples = 4\\nvalue = [0, 4]'),\n",
              " Text(181.86732452650008, 108.72, 'X[1] <= 7.5\\ngini = 0.444\\nsamples = 6\\nvalue = [4, 2]'),\n",
              " Text(180.16215183829382, 98.36571428571429, 'X[0] <= 30.0\\ngini = 0.32\\nsamples = 5\\nvalue = [4, 1]'),\n",
              " Text(178.45697915008756, 88.01142857142858, 'gini = 0.0\\nsamples = 1\\nvalue = [0, 1]'),\n",
              " Text(181.86732452650008, 88.01142857142858, 'gini = 0.0\\nsamples = 4\\nvalue = [4, 0]'),\n",
              " Text(183.57249721470637, 98.36571428571429, 'gini = 0.0\\nsamples = 1\\nvalue = [0, 1]'),\n",
              " Text(192.41808053477638, 150.13714285714286, 'X[10] <= 8.5\\ngini = 0.044\\nsamples = 269\\nvalue = [263, 6]'),\n",
              " Text(190.71290784657012, 139.78285714285715, 'X[11] <= 393.0\\ngini = 0.037\\nsamples = 268\\nvalue = [263, 5]'),\n",
              " Text(189.00773515836386, 129.42857142857144, 'gini = 0.0\\nsamples = 190\\nvalue = [190, 0]'),\n",
              " Text(192.41808053477638, 129.42857142857144, 'X[11] <= 395.5\\ngini = 0.12\\nsamples = 78\\nvalue = [73, 5]'),\n",
              " Text(190.71290784657012, 119.07428571428571, 'gini = 0.0\\nsamples = 1\\nvalue = [0, 1]'),\n",
              " Text(194.12325322298267, 119.07428571428571, 'X[4] <= 0.5\\ngini = 0.098\\nsamples = 77\\nvalue = [73, 4]'),\n",
              " Text(192.41808053477638, 108.72, 'X[5] <= 150.0\\ngini = 0.076\\nsamples = 76\\nvalue = [73, 3]'),\n",
              " Text(190.71290784657012, 98.36571428571429, 'X[9] <= 27.5\\ngini = 0.211\\nsamples = 25\\nvalue = [22, 3]'),\n",
              " Text(189.00773515836386, 88.01142857142858, 'X[5] <= 131.5\\ngini = 0.153\\nsamples = 24\\nvalue = [22, 2]'),\n",
              " Text(187.30256247015757, 77.65714285714284, 'X[3] <= 0.5\\ngini = 0.083\\nsamples = 23\\nvalue = [22, 1]'),\n",
              " Text(185.5973897819513, 67.30285714285714, 'X[12] <= 1.5\\ngini = 0.444\\nsamples = 3\\nvalue = [2, 1]'),\n",
              " Text(183.89221709374505, 56.94857142857143, 'gini = 0.0\\nsamples = 1\\nvalue = [0, 1]'),\n",
              " Text(187.30256247015757, 56.94857142857143, 'gini = 0.0\\nsamples = 2\\nvalue = [2, 0]'),\n",
              " Text(189.00773515836386, 67.30285714285714, 'gini = 0.0\\nsamples = 20\\nvalue = [20, 0]'),\n",
              " Text(190.71290784657012, 77.65714285714284, 'gini = 0.0\\nsamples = 1\\nvalue = [0, 1]'),\n",
              " Text(192.41808053477638, 88.01142857142858, 'gini = 0.0\\nsamples = 1\\nvalue = [0, 1]'),\n",
              " Text(194.12325322298267, 98.36571428571429, 'gini = 0.0\\nsamples = 51\\nvalue = [51, 0]'),\n",
              " Text(195.82842591118893, 108.72, 'gini = 0.0\\nsamples = 1\\nvalue = [0, 1]'),\n",
              " Text(194.12325322298267, 139.78285714285715, 'gini = 0.0\\nsamples = 1\\nvalue = [0, 1]'),\n",
              " Text(200.94394397580774, 170.84571428571428, 'X[0] <= 63.5\\ngini = 0.499\\nsamples = 23\\nvalue = [11, 12]'),\n",
              " Text(199.23877128760148, 160.49142857142857, 'gini = 0.0\\nsamples = 5\\nvalue = [0, 5]'),\n",
              " Text(202.64911666401403, 160.49142857142857, 'X[10] <= 4.0\\ngini = 0.475\\nsamples = 18\\nvalue = [11, 7]'),\n",
              " Text(199.23877128760148, 150.13714285714286, 'X[11] <= 247.0\\ngini = 0.444\\nsamples = 9\\nvalue = [3, 6]'),\n",
              " Text(197.53359859939522, 139.78285714285715, 'gini = 0.0\\nsamples = 2\\nvalue = [2, 0]'),\n",
              " Text(200.94394397580774, 139.78285714285715, 'X[2] <= 1.5\\ngini = 0.245\\nsamples = 7\\nvalue = [1, 6]'),\n",
              " Text(199.23877128760148, 129.42857142857144, 'gini = 0.0\\nsamples = 6\\nvalue = [0, 6]'),\n",
              " Text(202.64911666401403, 129.42857142857144, 'gini = 0.0\\nsamples = 1\\nvalue = [1, 0]'),\n",
              " Text(206.05946204042655, 150.13714285714286, 'X[9] <= 18.5\\ngini = 0.198\\nsamples = 9\\nvalue = [8, 1]'),\n",
              " Text(204.3542893522203, 139.78285714285715, 'gini = 0.0\\nsamples = 8\\nvalue = [8, 0]'),\n",
              " Text(207.76463472863284, 139.78285714285715, 'gini = 0.0\\nsamples = 1\\nvalue = [0, 1]'),\n",
              " Text(241.4417953207067, 181.2, 'X[15] <= 1.5\\ngini = 0.456\\nsamples = 188\\nvalue = [122, 66]'),\n",
              " Text(230.7844660194175, 170.84571428571428, 'X[9] <= 20.5\\ngini = 0.341\\nsamples = 142\\nvalue = [111, 31]'),\n",
              " Text(221.406016234283, 160.49142857142857, 'X[13] <= 93.5\\ngini = 0.248\\nsamples = 117\\nvalue = [100, 17]'),\n",
              " Text(214.58532548145791, 150.13714285714286, 'X[10] <= 5.5\\ngini = 0.48\\nsamples = 10\\nvalue = [4, 6]'),\n",
              " Text(211.17498010504536, 139.78285714285715, 'X[9] <= 19.0\\ngini = 0.375\\nsamples = 4\\nvalue = [3, 1]'),\n",
              " Text(209.4698074168391, 129.42857142857144, 'gini = 0.0\\nsamples = 3\\nvalue = [3, 0]'),\n",
              " Text(212.88015279325165, 129.42857142857144, 'gini = 0.0\\nsamples = 1\\nvalue = [0, 1]'),\n",
              " Text(217.99567085787046, 139.78285714285715, 'X[10] <= 10.5\\ngini = 0.278\\nsamples = 6\\nvalue = [1, 5]'),\n",
              " Text(216.29049816966418, 129.42857142857144, 'gini = 0.0\\nsamples = 5\\nvalue = [0, 5]'),\n",
              " Text(219.70084354607673, 129.42857142857144, 'gini = 0.0\\nsamples = 1\\nvalue = [1, 0]'),\n",
              " Text(228.2267069871081, 150.13714285714286, 'X[0] <= 25.5\\ngini = 0.184\\nsamples = 107\\nvalue = [96, 11]'),\n",
              " Text(224.81636161069554, 139.78285714285715, 'X[13] <= 104.5\\ngini = 0.375\\nsamples = 4\\nvalue = [1, 3]'),\n",
              " Text(223.11118892248928, 129.42857142857144, 'gini = 0.0\\nsamples = 1\\nvalue = [1, 0]'),\n",
              " Text(226.5215342989018, 129.42857142857144, 'gini = 0.0\\nsamples = 3\\nvalue = [0, 3]'),\n",
              " Text(231.63705236352064, 139.78285714285715, 'X[13] <= 455.0\\ngini = 0.143\\nsamples = 103\\nvalue = [95, 8]'),\n",
              " Text(229.93187967531435, 129.42857142857144, 'X[9] <= 4.5\\ngini = 0.112\\nsamples = 101\\nvalue = [95, 6]'),\n",
              " Text(223.11118892248928, 119.07428571428571, 'X[13] <= 184.5\\ngini = 0.397\\nsamples = 11\\nvalue = [8, 3]'),\n",
              " Text(221.406016234283, 108.72, 'gini = 0.0\\nsamples = 2\\nvalue = [0, 2]'),\n",
              " Text(224.81636161069554, 108.72, 'X[5] <= 1374.5\\ngini = 0.198\\nsamples = 9\\nvalue = [8, 1]'),\n",
              " Text(223.11118892248928, 98.36571428571429, 'gini = 0.0\\nsamples = 8\\nvalue = [8, 0]'),\n",
              " Text(226.5215342989018, 98.36571428571429, 'gini = 0.0\\nsamples = 1\\nvalue = [0, 1]'),\n",
              " Text(236.75257042813945, 119.07428571428571, 'X[0] <= 48.0\\ngini = 0.064\\nsamples = 90\\nvalue = [87, 3]'),\n",
              " Text(231.63705236352064, 108.72, 'X[11] <= 560.0\\ngini = 0.028\\nsamples = 71\\nvalue = [70, 1]'),\n",
              " Text(229.93187967531435, 98.36571428571429, 'gini = 0.0\\nsamples = 64\\nvalue = [64, 0]'),\n",
              " Text(233.3422250517269, 98.36571428571429, 'X[12] <= 2.5\\ngini = 0.245\\nsamples = 7\\nvalue = [6, 1]'),\n",
              " Text(231.63705236352064, 88.01142857142858, 'gini = 0.0\\nsamples = 6\\nvalue = [6, 0]'),\n",
              " Text(235.04739773993316, 88.01142857142858, 'gini = 0.0\\nsamples = 1\\nvalue = [0, 1]'),\n",
              " Text(241.86808849275826, 108.72, 'X[10] <= 2.5\\ngini = 0.188\\nsamples = 19\\nvalue = [17, 2]'),\n",
              " Text(240.16291580455197, 98.36571428571429, 'X[0] <= 51.5\\ngini = 0.444\\nsamples = 3\\nvalue = [1, 2]'),\n",
              " Text(238.4577431163457, 88.01142857142858, 'gini = 0.0\\nsamples = 2\\nvalue = [0, 2]'),\n",
              " Text(241.86808849275826, 88.01142857142858, 'gini = 0.0\\nsamples = 1\\nvalue = [1, 0]'),\n",
              " Text(243.57326118096452, 98.36571428571429, 'gini = 0.0\\nsamples = 16\\nvalue = [16, 0]'),\n",
              " Text(233.3422250517269, 129.42857142857144, 'gini = 0.0\\nsamples = 2\\nvalue = [0, 2]'),\n",
              " Text(240.16291580455197, 160.49142857142857, 'X[11] <= 295.0\\ngini = 0.493\\nsamples = 25\\nvalue = [11, 14]'),\n",
              " Text(236.75257042813945, 150.13714285714286, 'X[3] <= 1.5\\ngini = 0.426\\nsamples = 13\\nvalue = [9, 4]'),\n",
              " Text(235.04739773993316, 139.78285714285715, 'gini = 0.0\\nsamples = 7\\nvalue = [7, 0]'),\n",
              " Text(238.4577431163457, 139.78285714285715, 'X[0] <= 49.0\\ngini = 0.444\\nsamples = 6\\nvalue = [2, 4]'),\n",
              " Text(236.75257042813945, 129.42857142857144, 'gini = 0.0\\nsamples = 4\\nvalue = [0, 4]'),\n",
              " Text(240.16291580455197, 129.42857142857144, 'gini = 0.0\\nsamples = 2\\nvalue = [2, 0]'),\n",
              " Text(243.57326118096452, 150.13714285714286, 'X[11] <= 522.5\\ngini = 0.278\\nsamples = 12\\nvalue = [2, 10]'),\n",
              " Text(241.86808849275826, 139.78285714285715, 'gini = 0.0\\nsamples = 10\\nvalue = [0, 10]'),\n",
              " Text(245.27843386917078, 139.78285714285715, 'gini = 0.0\\nsamples = 2\\nvalue = [2, 0]'),\n",
              " Text(252.09912462199588, 170.84571428571428, 'X[5] <= 11133.5\\ngini = 0.364\\nsamples = 46\\nvalue = [11, 35]'),\n",
              " Text(250.3939519337896, 160.49142857142857, 'X[13] <= 98.5\\ngini = 0.325\\nsamples = 44\\nvalue = [9, 35]'),\n",
              " Text(248.68877924558333, 150.13714285714286, 'gini = 0.0\\nsamples = 14\\nvalue = [0, 14]'),\n",
              " Text(252.09912462199588, 150.13714285714286, 'X[13] <= 105.5\\ngini = 0.42\\nsamples = 30\\nvalue = [9, 21]'),\n",
              " Text(250.3939519337896, 139.78285714285715, 'gini = 0.0\\nsamples = 2\\nvalue = [2, 0]'),\n",
              " Text(253.80429731020214, 139.78285714285715, 'X[1] <= 3.5\\ngini = 0.375\\nsamples = 28\\nvalue = [7, 21]'),\n",
              " Text(248.68877924558333, 129.42857142857144, 'X[13] <= 181.5\\ngini = 0.496\\nsamples = 11\\nvalue = [5, 6]'),\n",
              " Text(246.98360655737707, 119.07428571428571, 'gini = 0.0\\nsamples = 3\\nvalue = [0, 3]'),\n",
              " Text(250.3939519337896, 119.07428571428571, 'X[10] <= 2.0\\ngini = 0.469\\nsamples = 8\\nvalue = [5, 3]'),\n",
              " Text(248.68877924558333, 108.72, 'X[9] <= 16.0\\ngini = 0.375\\nsamples = 4\\nvalue = [1, 3]'),\n",
              " Text(246.98360655737707, 98.36571428571429, 'gini = 0.0\\nsamples = 3\\nvalue = [0, 3]'),\n",
              " Text(250.3939519337896, 98.36571428571429, 'gini = 0.0\\nsamples = 1\\nvalue = [1, 0]'),\n",
              " Text(252.09912462199588, 108.72, 'gini = 0.0\\nsamples = 4\\nvalue = [4, 0]'),\n",
              " Text(258.919815374821, 129.42857142857144, 'X[5] <= 421.0\\ngini = 0.208\\nsamples = 17\\nvalue = [2, 15]'),\n",
              " Text(257.2146426866147, 119.07428571428571, 'X[1] <= 8.0\\ngini = 0.444\\nsamples = 6\\nvalue = [2, 4]'),\n",
              " Text(255.5094699984084, 108.72, 'gini = 0.0\\nsamples = 3\\nvalue = [0, 3]'),\n",
              " Text(258.919815374821, 108.72, 'X[11] <= 245.5\\ngini = 0.444\\nsamples = 3\\nvalue = [2, 1]'),\n",
              " Text(257.2146426866147, 98.36571428571429, 'gini = 0.0\\nsamples = 1\\nvalue = [0, 1]'),\n",
              " Text(260.6249880630272, 98.36571428571429, 'gini = 0.0\\nsamples = 2\\nvalue = [2, 0]'),\n",
              " Text(260.6249880630272, 119.07428571428571, 'gini = 0.0\\nsamples = 11\\nvalue = [0, 11]'),\n",
              " Text(253.80429731020214, 160.49142857142857, 'gini = 0.0\\nsamples = 2\\nvalue = [2, 0]'),\n",
              " Text(308.6096132420818, 201.90857142857143, 'X[8] <= 1.5\\ngini = 0.498\\nsamples = 204\\nvalue = [96, 108]'),\n",
              " Text(291.37138309724656, 191.5542857142857, 'X[11] <= 779.5\\ngini = 0.479\\nsamples = 141\\nvalue = [56, 85]'),\n",
              " Text(280.2344739773994, 181.2, 'X[11] <= 727.5\\ngini = 0.496\\nsamples = 57\\nvalue = [31, 26]'),\n",
              " Text(275.97154225688365, 170.84571428571428, 'X[12] <= 3.5\\ngini = 0.496\\nsamples = 46\\nvalue = [21, 25]'),\n",
              " Text(272.56119688047113, 160.49142857142857, 'X[13] <= 235.0\\ngini = 0.494\\nsamples = 36\\nvalue = [20, 16]'),\n",
              " Text(270.85602419226484, 150.13714285714286, 'X[11] <= 723.0\\ngini = 0.469\\nsamples = 32\\nvalue = [20, 12]'),\n",
              " Text(269.1508515040586, 139.78285714285715, 'X[3] <= 1.5\\ngini = 0.428\\nsamples = 29\\nvalue = [20, 9]'),\n",
              " Text(265.74050612764603, 129.42857142857144, 'X[5] <= 1505.0\\ngini = 0.488\\nsamples = 19\\nvalue = [11, 8]'),\n",
              " Text(264.0353334394398, 119.07428571428571, 'X[15] <= 1.0\\ngini = 0.43\\nsamples = 16\\nvalue = [11, 5]'),\n",
              " Text(262.3301607512335, 108.72, 'gini = 0.0\\nsamples = 2\\nvalue = [0, 2]'),\n",
              " Text(265.74050612764603, 108.72, 'X[11] <= 659.5\\ngini = 0.337\\nsamples = 14\\nvalue = [11, 3]'),\n",
              " Text(264.0353334394398, 98.36571428571429, 'gini = 0.0\\nsamples = 1\\nvalue = [0, 1]'),\n",
              " Text(267.4456788158523, 98.36571428571429, 'X[0] <= 29.0\\ngini = 0.26\\nsamples = 13\\nvalue = [11, 2]'),\n",
              " Text(265.74050612764603, 88.01142857142858, 'gini = 0.0\\nsamples = 1\\nvalue = [0, 1]'),\n",
              " Text(269.1508515040586, 88.01142857142858, 'X[13] <= 91.0\\ngini = 0.153\\nsamples = 12\\nvalue = [11, 1]'),\n",
              " Text(267.4456788158523, 77.65714285714284, 'gini = 0.0\\nsamples = 10\\nvalue = [10, 0]'),\n",
              " Text(270.85602419226484, 77.65714285714284, 'X[6] <= 0.5\\ngini = 0.5\\nsamples = 2\\nvalue = [1, 1]'),\n",
              " Text(269.1508515040586, 67.30285714285714, 'gini = 0.0\\nsamples = 1\\nvalue = [1, 0]'),\n",
              " Text(272.56119688047113, 67.30285714285714, 'gini = 0.0\\nsamples = 1\\nvalue = [0, 1]'),\n",
              " Text(267.4456788158523, 119.07428571428571, 'gini = 0.0\\nsamples = 3\\nvalue = [0, 3]'),\n",
              " Text(272.56119688047113, 129.42857142857144, 'X[9] <= 9.0\\ngini = 0.18\\nsamples = 10\\nvalue = [9, 1]'),\n",
              " Text(270.85602419226484, 119.07428571428571, 'gini = 0.0\\nsamples = 1\\nvalue = [0, 1]'),\n",
              " Text(274.2663695686774, 119.07428571428571, 'gini = 0.0\\nsamples = 9\\nvalue = [9, 0]'),\n",
              " Text(272.56119688047113, 139.78285714285715, 'gini = 0.0\\nsamples = 3\\nvalue = [0, 3]'),\n",
              " Text(274.2663695686774, 150.13714285714286, 'gini = 0.0\\nsamples = 4\\nvalue = [0, 4]'),\n",
              " Text(279.38188763329623, 160.49142857142857, 'X[11] <= 715.5\\ngini = 0.18\\nsamples = 10\\nvalue = [1, 9]'),\n",
              " Text(277.67671494508994, 150.13714285714286, 'gini = 0.0\\nsamples = 9\\nvalue = [0, 9]'),\n",
              " Text(281.08706032150246, 150.13714285714286, 'gini = 0.0\\nsamples = 1\\nvalue = [1, 0]'),\n",
              " Text(284.49740569791504, 170.84571428571428, 'X[1] <= 9.5\\ngini = 0.165\\nsamples = 11\\nvalue = [10, 1]'),\n",
              " Text(282.79223300970875, 160.49142857142857, 'gini = 0.0\\nsamples = 10\\nvalue = [10, 0]'),\n",
              " Text(286.2025783861213, 160.49142857142857, 'gini = 0.0\\nsamples = 1\\nvalue = [0, 1]'),\n",
              " Text(302.50829221709375, 181.2, 'X[13] <= 316.5\\ngini = 0.418\\nsamples = 84\\nvalue = [25, 59]'),\n",
              " Text(295.79417475728155, 170.84571428571428, 'X[10] <= 8.5\\ngini = 0.378\\nsamples = 75\\nvalue = [19, 56]'),\n",
              " Text(290.89180327868854, 160.49142857142857, 'X[1] <= 10.5\\ngini = 0.32\\nsamples = 65\\nvalue = [13, 52]'),\n",
              " Text(289.18663059048225, 150.13714285714286, 'X[1] <= 1.5\\ngini = 0.305\\nsamples = 64\\nvalue = [12, 52]'),\n",
              " Text(281.08706032150246, 139.78285714285715, 'X[2] <= 1.5\\ngini = 0.457\\nsamples = 17\\nvalue = [6, 11]'),\n",
              " Text(279.38188763329623, 129.42857142857144, 'X[0] <= 32.5\\ngini = 0.497\\nsamples = 13\\nvalue = [6, 7]'),\n",
              " Text(277.67671494508994, 119.07428571428571, 'gini = 0.0\\nsamples = 3\\nvalue = [3, 0]'),\n",
              " Text(281.08706032150246, 119.07428571428571, 'X[14] <= 0.5\\ngini = 0.42\\nsamples = 10\\nvalue = [3, 7]'),\n",
              " Text(279.38188763329623, 108.72, 'X[10] <= 6.5\\ngini = 0.219\\nsamples = 8\\nvalue = [1, 7]'),\n",
              " Text(277.67671494508994, 98.36571428571429, 'gini = 0.0\\nsamples = 7\\nvalue = [0, 7]'),\n",
              " Text(281.08706032150246, 98.36571428571429, 'gini = 0.0\\nsamples = 1\\nvalue = [1, 0]'),\n",
              " Text(282.79223300970875, 108.72, 'gini = 0.0\\nsamples = 2\\nvalue = [2, 0]'),\n",
              " Text(282.79223300970875, 129.42857142857144, 'gini = 0.0\\nsamples = 4\\nvalue = [0, 4]'),\n",
              " Text(297.28620085946204, 139.78285714285715, 'X[1] <= 8.5\\ngini = 0.223\\nsamples = 47\\nvalue = [6, 41]'),\n",
              " Text(291.3180964507401, 129.42857142857144, 'X[0] <= 63.0\\ngini = 0.114\\nsamples = 33\\nvalue = [2, 31]'),\n",
              " Text(287.90775107432756, 119.07428571428571, 'X[0] <= 29.5\\ngini = 0.064\\nsamples = 30\\nvalue = [1, 29]'),\n",
              " Text(286.2025783861213, 108.72, 'X[5] <= 257.0\\ngini = 0.375\\nsamples = 4\\nvalue = [1, 3]'),\n",
              " Text(284.49740569791504, 98.36571428571429, 'gini = 0.0\\nsamples = 3\\nvalue = [0, 3]'),\n",
              " Text(287.90775107432756, 98.36571428571429, 'gini = 0.0\\nsamples = 1\\nvalue = [1, 0]'),\n",
              " Text(289.61292376253385, 108.72, 'gini = 0.0\\nsamples = 26\\nvalue = [0, 26]'),\n",
              " Text(294.72844182715266, 119.07428571428571, 'X[5] <= 286.5\\ngini = 0.444\\nsamples = 3\\nvalue = [1, 2]'),\n",
              " Text(293.0232691389464, 108.72, 'gini = 0.0\\nsamples = 1\\nvalue = [1, 0]'),\n",
              " Text(296.4336145153589, 108.72, 'gini = 0.0\\nsamples = 2\\nvalue = [0, 2]'),\n",
              " Text(303.254305268184, 129.42857142857144, 'X[9] <= 16.5\\ngini = 0.408\\nsamples = 14\\nvalue = [4, 10]'),\n",
              " Text(301.5491325799777, 119.07428571428571, 'X[0] <= 42.5\\ngini = 0.5\\nsamples = 8\\nvalue = [4, 4]'),\n",
              " Text(299.8439598917715, 108.72, 'gini = 0.0\\nsamples = 3\\nvalue = [3, 0]'),\n",
              " Text(303.254305268184, 108.72, 'X[2] <= 0.5\\ngini = 0.32\\nsamples = 5\\nvalue = [1, 4]'),\n",
              " Text(301.5491325799777, 98.36571428571429, 'gini = 0.0\\nsamples = 1\\nvalue = [1, 0]'),\n",
              " Text(304.9594779563903, 98.36571428571429, 'gini = 0.0\\nsamples = 4\\nvalue = [0, 4]'),\n",
              " Text(304.9594779563903, 119.07428571428571, 'gini = 0.0\\nsamples = 6\\nvalue = [0, 6]'),\n",
              " Text(292.59697596689483, 150.13714285714286, 'gini = 0.0\\nsamples = 1\\nvalue = [1, 0]'),\n",
              " Text(300.6965462358746, 160.49142857142857, 'X[6] <= 0.5\\ngini = 0.48\\nsamples = 10\\nvalue = [6, 4]'),\n",
              " Text(298.99137354766833, 150.13714285714286, 'gini = 0.0\\nsamples = 4\\nvalue = [4, 0]'),\n",
              " Text(302.40171892408085, 150.13714285714286, 'X[0] <= 40.5\\ngini = 0.444\\nsamples = 6\\nvalue = [2, 4]'),\n",
              " Text(300.6965462358746, 139.78285714285715, 'gini = 0.0\\nsamples = 2\\nvalue = [2, 0]'),\n",
              " Text(304.10689161228714, 139.78285714285715, 'gini = 0.0\\nsamples = 4\\nvalue = [0, 4]'),\n",
              " Text(309.22240967690595, 170.84571428571428, 'X[0] <= 47.5\\ngini = 0.444\\nsamples = 9\\nvalue = [6, 3]'),\n",
              " Text(307.51723698869966, 160.49142857142857, 'X[12] <= 2.5\\ngini = 0.245\\nsamples = 7\\nvalue = [6, 1]'),\n",
              " Text(305.81206430049343, 150.13714285714286, 'gini = 0.0\\nsamples = 5\\nvalue = [5, 0]'),\n",
              " Text(309.22240967690595, 150.13714285714286, 'X[15] <= 0.5\\ngini = 0.5\\nsamples = 2\\nvalue = [1, 1]'),\n",
              " Text(307.51723698869966, 139.78285714285715, 'gini = 0.0\\nsamples = 1\\nvalue = [0, 1]'),\n",
              " Text(310.92758236511224, 139.78285714285715, 'gini = 0.0\\nsamples = 1\\nvalue = [1, 0]'),\n",
              " Text(310.92758236511224, 160.49142857142857, 'gini = 0.0\\nsamples = 2\\nvalue = [0, 2]'),\n",
              " Text(325.8478433869171, 191.5542857142857, 'X[0] <= 55.5\\ngini = 0.464\\nsamples = 63\\nvalue = [40, 23]'),\n",
              " Text(322.011204838453, 181.2, 'X[11] <= 2225.0\\ngini = 0.427\\nsamples = 55\\nvalue = [38, 17]'),\n",
              " Text(320.3060321502467, 170.84571428571428, 'X[2] <= 1.5\\ngini = 0.406\\nsamples = 53\\nvalue = [38, 15]'),\n",
              " Text(314.33792774152477, 160.49142857142857, 'X[11] <= 648.0\\ngini = 0.307\\nsamples = 37\\nvalue = [30, 7]'),\n",
              " Text(312.6327550533185, 150.13714285714286, 'gini = 0.0\\nsamples = 1\\nvalue = [0, 1]'),\n",
              " Text(316.04310042973106, 150.13714285714286, 'X[9] <= 2.5\\ngini = 0.278\\nsamples = 36\\nvalue = [30, 6]'),\n",
              " Text(314.33792774152477, 139.78285714285715, 'gini = 0.0\\nsamples = 1\\nvalue = [0, 1]'),\n",
              " Text(317.7482731179373, 139.78285714285715, 'X[9] <= 14.5\\ngini = 0.245\\nsamples = 35\\nvalue = [30, 5]'),\n",
              " Text(316.04310042973106, 129.42857142857144, 'gini = 0.0\\nsamples = 17\\nvalue = [17, 0]'),\n",
              " Text(319.4534458061436, 129.42857142857144, 'X[9] <= 17.5\\ngini = 0.401\\nsamples = 18\\nvalue = [13, 5]'),\n",
              " Text(316.04310042973106, 119.07428571428571, 'X[1] <= 2.5\\ngini = 0.5\\nsamples = 8\\nvalue = [4, 4]'),\n",
              " Text(314.33792774152477, 108.72, 'gini = 0.0\\nsamples = 3\\nvalue = [0, 3]'),\n",
              " Text(317.7482731179373, 108.72, 'X[0] <= 36.5\\ngini = 0.32\\nsamples = 5\\nvalue = [4, 1]'),\n",
              " Text(316.04310042973106, 98.36571428571429, 'gini = 0.0\\nsamples = 1\\nvalue = [0, 1]'),\n",
              " Text(319.4534458061436, 98.36571428571429, 'gini = 0.0\\nsamples = 4\\nvalue = [4, 0]'),\n",
              " Text(322.8637911825561, 119.07428571428571, 'X[6] <= 0.5\\ngini = 0.18\\nsamples = 10\\nvalue = [9, 1]'),\n",
              " Text(321.15861849434987, 108.72, 'gini = 0.0\\nsamples = 1\\nvalue = [0, 1]'),\n",
              " Text(324.5689638707624, 108.72, 'gini = 0.0\\nsamples = 9\\nvalue = [9, 0]'),\n",
              " Text(326.2741365589687, 160.49142857142857, 'X[9] <= 11.5\\ngini = 0.5\\nsamples = 16\\nvalue = [8, 8]'),\n",
              " Text(322.8637911825561, 150.13714285714286, 'X[9] <= 1.5\\ngini = 0.278\\nsamples = 6\\nvalue = [5, 1]'),\n",
              " Text(321.15861849434987, 139.78285714285715, 'gini = 0.0\\nsamples = 1\\nvalue = [0, 1]'),\n",
              " Text(324.5689638707624, 139.78285714285715, 'gini = 0.0\\nsamples = 5\\nvalue = [5, 0]'),\n",
              " Text(329.6844819353812, 150.13714285714286, 'X[0] <= 31.0\\ngini = 0.42\\nsamples = 10\\nvalue = [3, 7]'),\n",
              " Text(327.9793092471749, 139.78285714285715, 'gini = 0.0\\nsamples = 2\\nvalue = [2, 0]'),\n",
              " Text(331.3896546235875, 139.78285714285715, 'X[5] <= -420.0\\ngini = 0.219\\nsamples = 8\\nvalue = [1, 7]'),\n",
              " Text(329.6844819353812, 129.42857142857144, 'gini = 0.0\\nsamples = 1\\nvalue = [1, 0]'),\n",
              " Text(333.0948273117937, 129.42857142857144, 'gini = 0.0\\nsamples = 7\\nvalue = [0, 7]'),\n",
              " Text(323.71637752665924, 170.84571428571428, 'gini = 0.0\\nsamples = 2\\nvalue = [0, 2]'),\n",
              " Text(329.6844819353812, 181.2, 'X[12] <= 2.5\\ngini = 0.375\\nsamples = 8\\nvalue = [2, 6]'),\n",
              " Text(327.9793092471749, 170.84571428571428, 'gini = 0.0\\nsamples = 5\\nvalue = [0, 5]'),\n",
              " Text(331.3896546235875, 170.84571428571428, 'X[5] <= 434.0\\ngini = 0.444\\nsamples = 3\\nvalue = [2, 1]'),\n",
              " Text(329.6844819353812, 160.49142857142857, 'gini = 0.0\\nsamples = 1\\nvalue = [0, 1]'),\n",
              " Text(333.0948273117937, 160.49142857142857, 'gini = 0.0\\nsamples = 2\\nvalue = [2, 0]')]"
            ]
          },
          "metadata": {},
          "execution_count": 52
        },
        {
          "output_type": "display_data",
          "data": {
            "image/png": "[encoded data removed]",
            "text/plain": [
              "<Figure size 432x288 with 1 Axes>"
            ]
          },
          "metadata": {
            "needs_background": "light"
          }
        }
      ]
    },
    {
      "cell_type": "markdown",
      "metadata": {
        "id": "HHRuMkzDLNqT"
      },
      "source": [
        "### **As we have many features(16 features) it's hard to visualize the above decision tree which we got from the model Decision tree classifier.**"
      ]
    },
    {
      "cell_type": "markdown",
      "metadata": {
        "id": "CcxgWy_Y4XXz"
      },
      "source": [
        "# **Random Forest**"
      ]
    },
    {
      "cell_type": "code",
      "metadata": {
        "id": "CmmjBEMisnyy"
      },
      "source": [
        "regressor = RandomForestRegressor(n_estimators = 20, random_state = 0)"
      ],
      "execution_count": null,
      "outputs": []
    },
    {
      "cell_type": "code",
      "metadata": {
        "colab": {
          "base_uri": "https://localhost:8080/"
        },
        "id": "InR9OMJRsnwp",
        "outputId": "3a55f213-726f-4ecb-e487-35022cb5a7ac"
      },
      "source": [
        "regressor.fit(x_train, y_train)"
      ],
      "execution_count": null,
      "outputs": [
        {
          "output_type": "execute_result",
          "data": {
            "text/plain": [
              "RandomForestRegressor(n_estimators=20, random_state=0)"
            ]
          },
          "metadata": {},
          "execution_count": 54
        }
      ]
    },
    {
      "cell_type": "code",
      "metadata": {
        "id": "fvy36hmFsnuX",
        "colab": {
          "base_uri": "https://localhost:8080/"
        },
        "outputId": "c64a5d19-d21c-45e1-8a12-b9e7523c4111"
      },
      "source": [
        "y_pred = regressor.predict(x_test)\n",
        "print(y_pred)\n",
        "for i in range(len(y_pred)):\n",
        "  if y_pred[i]>0.5:\n",
        "    y_pred[i]=1\n",
        "  else:\n",
        "    y_pred[i]=0\n"
      ],
      "execution_count": null,
      "outputs": [
        {
          "output_type": "stream",
          "name": "stdout",
          "text": [
            "[0.  0.  0.  ... 0.4 0.1 0. ]\n"
          ]
        }
      ]
    },
    {
      "cell_type": "code",
      "metadata": {
        "colab": {
          "base_uri": "https://localhost:8080/"
        },
        "id": "bk0UKdGqsnq0",
        "outputId": "e5d3bef4-114c-4122-89ac-f6e7f37e1161"
      },
      "source": [
        "print(accuracy_score(y_test, y_pred))"
      ],
      "execution_count": null,
      "outputs": [
        {
          "output_type": "stream",
          "name": "stdout",
          "text": [
            "0.885972850678733\n"
          ]
        }
      ]
    },
    {
      "cell_type": "code",
      "metadata": {
        "id": "i5FoRgJDqAwD"
      },
      "source": [
        "fpr4, tpr4, thresh4 = roc_curve(y_test, y_pred, pos_label=1)"
      ],
      "execution_count": null,
      "outputs": []
    },
    {
      "cell_type": "code",
      "metadata": {
        "colab": {
          "base_uri": "https://localhost:8080/"
        },
        "id": "9NtraGtD20cA",
        "outputId": "82974e59-d2ca-4c2d-9cb1-6fb8f9f1c849"
      },
      "source": [
        "auc_score4 = roc_auc_score(y_test, y_pred)\n",
        "print(auc_score4)"
      ],
      "execution_count": null,
      "outputs": [
        {
          "output_type": "stream",
          "name": "stdout",
          "text": [
            "0.6410603715170279\n"
          ]
        }
      ]
    },
    {
      "cell_type": "code",
      "metadata": {
        "id": "2XuiIW_bsnoe",
        "colab": {
          "base_uri": "https://localhost:8080/"
        },
        "outputId": "4539b86d-f3b7-45d9-86f1-86604c130731"
      },
      "source": [
        "target_names = ['yes', 'no']\n",
        "print(classification_report(y_test, y_pred, target_names=target_names))"
      ],
      "execution_count": null,
      "outputs": [
        {
          "output_type": "stream",
          "name": "stdout",
          "text": [
            "              precision    recall  f1-score   support\n",
            "\n",
            "         yes       0.91      0.97      0.94       969\n",
            "          no       0.57      0.32      0.41       136\n",
            "\n",
            "    accuracy                           0.89      1105\n",
            "   macro avg       0.74      0.64      0.67      1105\n",
            "weighted avg       0.87      0.89      0.87      1105\n",
            "\n"
          ]
        }
      ]
    },
    {
      "cell_type": "code",
      "metadata": {
        "colab": {
          "base_uri": "https://localhost:8080/"
        },
        "id": "z4FRx09QzJnM",
        "outputId": "e1fa80de-4e77-466a-dd2e-0b19928c6d48"
      },
      "source": [
        "models[4] =['Random Forest Regressor', accuracy_score(y_test, y_pred)] \n",
        "models"
      ],
      "execution_count": null,
      "outputs": [
        {
          "output_type": "execute_result",
          "data": {
            "text/plain": [
              "{1: ['Gaussian Naive Bayes', 0.8506787330316742],\n",
              " 2: ['Multinomial Naive Bayes', 0.49411764705882355],\n",
              " 3: ['Decision Tree Classifier', 0.8624434389140272],\n",
              " 4: ['Random Forest Regressor', 0.885972850678733]}"
            ]
          },
          "metadata": {},
          "execution_count": 59
        }
      ]
    },
    {
      "cell_type": "code",
      "metadata": {
        "colab": {
          "base_uri": "https://localhost:8080/"
        },
        "id": "6qOl4iBu4OCN",
        "outputId": "4681b973-c554-41e2-f9e8-d8ebd8c513c0"
      },
      "source": [
        "AUC[4] =['Random Forest Regressor', auc_score4] \n",
        "AUC"
      ],
      "execution_count": null,
      "outputs": [
        {
          "output_type": "execute_result",
          "data": {
            "text/plain": [
              "{1: ['Gaussian Naive Bayes', 0.6651831785345718],\n",
              " 2: ['Multinomial Naive Bayes', 0.5914602683178535],\n",
              " 3: ['Decision Tree Classifier', 0.6529282765737874],\n",
              " 4: ['Random Forest Regressor', 0.6410603715170279]}"
            ]
          },
          "metadata": {},
          "execution_count": 134
        }
      ]
    },
    {
      "cell_type": "markdown",
      "metadata": {
        "id": "OdwzgHwh6GYI"
      },
      "source": [
        "# **Support Vector Machines**"
      ]
    },
    {
      "cell_type": "markdown",
      "metadata": {
        "id": "NYAw5G9qAeA6"
      },
      "source": [
        "# **Radial kernel**"
      ]
    },
    {
      "cell_type": "code",
      "metadata": {
        "id": "JC27Xt6NsnmY"
      },
      "source": [
        "cls = svm.SVC(C = 0.8, kernel='rbf', gamma = 0.005, decision_function_shape ='ovr')"
      ],
      "execution_count": null,
      "outputs": []
    },
    {
      "cell_type": "code",
      "metadata": {
        "colab": {
          "base_uri": "https://localhost:8080/"
        },
        "id": "lCdnHcV7snj8",
        "outputId": "7d14ccc2-12fc-44c9-ce21-f8420829b627"
      },
      "source": [
        "cls.fit(x_train, y_train)"
      ],
      "execution_count": null,
      "outputs": [
        {
          "output_type": "execute_result",
          "data": {
            "text/plain": [
              "SVC(C=0.8, gamma=0.005)"
            ]
          },
          "metadata": {},
          "execution_count": 61
        }
      ]
    },
    {
      "cell_type": "code",
      "metadata": {
        "colab": {
          "base_uri": "https://localhost:8080/"
        },
        "id": "wVdD4iTJsnhS",
        "outputId": "9bd265fe-5c4f-4c4e-d601-8cff358f5008"
      },
      "source": [
        "pred_rbf = cls.predict(x_test)\n",
        "pred_rbf"
      ],
      "execution_count": null,
      "outputs": [
        {
          "output_type": "execute_result",
          "data": {
            "text/plain": [
              "array([0, 0, 0, ..., 0, 0, 0])"
            ]
          },
          "metadata": {},
          "execution_count": 62
        }
      ]
    },
    {
      "cell_type": "code",
      "metadata": {
        "colab": {
          "base_uri": "https://localhost:8080/"
        },
        "id": "Q8mp_Q5ksncM",
        "outputId": "7875162e-6142-4285-c57b-8ddaac9842bb"
      },
      "source": [
        "print(metrics.accuracy_score(y_test,y_pred=pred_rbf))"
      ],
      "execution_count": null,
      "outputs": [
        {
          "output_type": "stream",
          "name": "stdout",
          "text": [
            "0.8769230769230769\n"
          ]
        }
      ]
    },
    {
      "cell_type": "code",
      "metadata": {
        "id": "a26rUaFaqJ5j"
      },
      "source": [
        "fpr5, tpr5, thresh5 = roc_curve(y_test, pred_rbf, pos_label=1)"
      ],
      "execution_count": null,
      "outputs": []
    },
    {
      "cell_type": "code",
      "metadata": {
        "colab": {
          "base_uri": "https://localhost:8080/"
        },
        "id": "d4qvefMk29WW",
        "outputId": "ca0efe68-0ba5-41a2-c5df-188b53fbaf4a"
      },
      "source": [
        "auc_score5 = roc_auc_score(y_test, pred_rbf)\n",
        "print(auc_score5)"
      ],
      "execution_count": null,
      "outputs": [
        {
          "output_type": "stream",
          "name": "stdout",
          "text": [
            "0.5\n"
          ]
        }
      ]
    },
    {
      "cell_type": "code",
      "metadata": {
        "colab": {
          "base_uri": "https://localhost:8080/"
        },
        "id": "Z60wSSZ5cQq-",
        "outputId": "7db95859-972e-4475-d221-3beedf6be423"
      },
      "source": [
        "target_names = ['yes', 'no']\n",
        "print(classification_report(y_test, pred_rbf, target_names=target_names))"
      ],
      "execution_count": null,
      "outputs": [
        {
          "output_type": "stream",
          "name": "stdout",
          "text": [
            "              precision    recall  f1-score   support\n",
            "\n",
            "         yes       0.88      1.00      0.93       969\n",
            "          no       0.00      0.00      0.00       136\n",
            "\n",
            "    accuracy                           0.88      1105\n",
            "   macro avg       0.44      0.50      0.47      1105\n",
            "weighted avg       0.77      0.88      0.82      1105\n",
            "\n"
          ]
        },
        {
          "output_type": "stream",
          "name": "stderr",
          "text": [
            "/usr/local/lib/python3.7/dist-packages/sklearn/metrics/_classification.py:1308: UndefinedMetricWarning: Precision and F-score are ill-defined and being set to 0.0 in labels with no predicted samples. Use `zero_division` parameter to control this behavior.\n",
            "  _warn_prf(average, modifier, msg_start, len(result))\n",
            "/usr/local/lib/python3.7/dist-packages/sklearn/metrics/_classification.py:1308: UndefinedMetricWarning: Precision and F-score are ill-defined and being set to 0.0 in labels with no predicted samples. Use `zero_division` parameter to control this behavior.\n",
            "  _warn_prf(average, modifier, msg_start, len(result))\n",
            "/usr/local/lib/python3.7/dist-packages/sklearn/metrics/_classification.py:1308: UndefinedMetricWarning: Precision and F-score are ill-defined and being set to 0.0 in labels with no predicted samples. Use `zero_division` parameter to control this behavior.\n",
            "  _warn_prf(average, modifier, msg_start, len(result))\n"
          ]
        }
      ]
    },
    {
      "cell_type": "code",
      "metadata": {
        "colab": {
          "base_uri": "https://localhost:8080/"
        },
        "id": "56PQHzUfzXk0",
        "outputId": "fb9aa0d2-9d67-4775-c69b-ccbceb73cc18"
      },
      "source": [
        "models[5] =['svclassifier rbf', metrics.accuracy_score(y_test, pred_rbf)] \n",
        "models"
      ],
      "execution_count": null,
      "outputs": [
        {
          "output_type": "execute_result",
          "data": {
            "text/plain": [
              "{1: ['Gaussian Naive Bayes', 0.8506787330316742],\n",
              " 2: ['Multinomial Naive Bayes', 0.49411764705882355],\n",
              " 3: ['Decision Tree Classifier', 0.8624434389140272],\n",
              " 4: ['Random Forest Regressor', 0.885972850678733],\n",
              " 5: ['svclassifier rbf', 0.8769230769230769]}"
            ]
          },
          "metadata": {},
          "execution_count": 66
        }
      ]
    },
    {
      "cell_type": "code",
      "metadata": {
        "colab": {
          "base_uri": "https://localhost:8080/"
        },
        "id": "h66XbD4o4bD3",
        "outputId": "f72f3120-81d8-4298-b1f5-3bd1c9e71d55"
      },
      "source": [
        "AUC[5] =['svclassifier rbf', auc_score5] \n",
        "AUC"
      ],
      "execution_count": null,
      "outputs": [
        {
          "output_type": "execute_result",
          "data": {
            "text/plain": [
              "{1: ['Gaussian Naive Bayes', 0.6651831785345718],\n",
              " 2: ['Multinomial Naive Bayes', 0.5914602683178535],\n",
              " 3: ['Decision Tree Classifier', 0.6529282765737874],\n",
              " 4: ['Random Forest Regressor', 0.6410603715170279],\n",
              " 5: ['svclassifier rbf', 0.5]}"
            ]
          },
          "metadata": {},
          "execution_count": 135
        }
      ]
    },
    {
      "cell_type": "markdown",
      "metadata": {
        "id": "ScdIxAbS0RTu"
      },
      "source": [
        "## **Linear kernel**"
      ]
    },
    {
      "cell_type": "code",
      "metadata": {
        "id": "eeL_K0iWa9Jy",
        "colab": {
          "base_uri": "https://localhost:8080/"
        },
        "outputId": "613fee49-a63f-4fc7-ec4f-3aa1d9918eee"
      },
      "source": [
        "svclassifier = SVC(kernel='linear')\n",
        "svclassifier.fit(x_train, y_train)\n",
        "pred_lin = svclassifier.predict(x_test)\n",
        "print(metrics.accuracy_score(y_test,y_pred=pred_lin))"
      ],
      "execution_count": null,
      "outputs": [
        {
          "output_type": "stream",
          "name": "stdout",
          "text": [
            "0.8751131221719457\n"
          ]
        }
      ]
    },
    {
      "cell_type": "code",
      "metadata": {
        "colab": {
          "base_uri": "https://localhost:8080/"
        },
        "id": "JH-Jc0_90WO2",
        "outputId": "7ed551a2-8f68-4dee-84bd-1a206731e146"
      },
      "source": [
        "target_names = ['yes', 'no']\n",
        "print(classification_report(y_test, pred_lin, target_names=target_names))"
      ],
      "execution_count": null,
      "outputs": [
        {
          "output_type": "stream",
          "name": "stdout",
          "text": [
            "              precision    recall  f1-score   support\n",
            "\n",
            "         yes       0.90      0.97      0.93       969\n",
            "          no       0.48      0.22      0.30       136\n",
            "\n",
            "    accuracy                           0.88      1105\n",
            "   macro avg       0.69      0.59      0.62      1105\n",
            "weighted avg       0.85      0.88      0.85      1105\n",
            "\n"
          ]
        }
      ]
    },
    {
      "cell_type": "code",
      "metadata": {
        "id": "1xOHoFZhqV7F"
      },
      "source": [
        "fpr6, tpr6, thresh6 = roc_curve(y_test, pred_lin, pos_label=1)"
      ],
      "execution_count": null,
      "outputs": []
    },
    {
      "cell_type": "code",
      "metadata": {
        "colab": {
          "base_uri": "https://localhost:8080/"
        },
        "id": "EbxtS9W83Cca",
        "outputId": "c329420b-5548-4a1f-afeb-c74873bc1846"
      },
      "source": [
        "auc_score6 = roc_auc_score(y_test, pred_lin)\n",
        "print(auc_score6)"
      ],
      "execution_count": null,
      "outputs": [
        {
          "output_type": "stream",
          "name": "stdout",
          "text": [
            "0.5937822497420021\n"
          ]
        }
      ]
    },
    {
      "cell_type": "code",
      "metadata": {
        "colab": {
          "base_uri": "https://localhost:8080/"
        },
        "id": "RldH-Int0WSa",
        "outputId": "e173eff7-83b0-4350-b1dc-f0e6ad2ec987"
      },
      "source": [
        "models[6] =['svclassifier lin', metrics.accuracy_score(y_test, pred_lin)] \n",
        "models"
      ],
      "execution_count": null,
      "outputs": [
        {
          "output_type": "execute_result",
          "data": {
            "text/plain": [
              "{1: ['Gaussian Naive Bayes', 0.8506787330316742],\n",
              " 2: ['Multinomial Naive Bayes', 0.49411764705882355],\n",
              " 3: ['Decision Tree Classifier', 0.8624434389140272],\n",
              " 4: ['Random Forest Regressor', 0.885972850678733],\n",
              " 5: ['svclassifier rbf', 0.8769230769230769],\n",
              " 6: ['svclassifier lin', 0.8751131221719457]}"
            ]
          },
          "metadata": {},
          "execution_count": 70
        }
      ]
    },
    {
      "cell_type": "code",
      "metadata": {
        "colab": {
          "base_uri": "https://localhost:8080/"
        },
        "id": "_xcaGvwZ4gQ3",
        "outputId": "5738cab5-f786-46b2-ab0c-7126a182f226"
      },
      "source": [
        "AUC[6] =['svclassifier lin', auc_score6] \n",
        "AUC"
      ],
      "execution_count": null,
      "outputs": [
        {
          "output_type": "execute_result",
          "data": {
            "text/plain": [
              "{1: ['Gaussian Naive Bayes', 0.6651831785345718],\n",
              " 2: ['Multinomial Naive Bayes', 0.5914602683178535],\n",
              " 3: ['Decision Tree Classifier', 0.6529282765737874],\n",
              " 4: ['Random Forest Regressor', 0.6410603715170279],\n",
              " 5: ['svclassifier rbf', 0.5],\n",
              " 6: ['svclassifier lin', 0.5937822497420021]}"
            ]
          },
          "metadata": {},
          "execution_count": 136
        }
      ]
    },
    {
      "cell_type": "markdown",
      "metadata": {
        "id": "PfOisvLi0Vcm"
      },
      "source": [
        "## **Polynomial kernel**"
      ]
    },
    {
      "cell_type": "code",
      "metadata": {
        "colab": {
          "base_uri": "https://localhost:8080/"
        },
        "id": "fCwBxp3Oc_0X",
        "outputId": "496e741e-466f-4d55-c390-3cdf504e0cb5"
      },
      "source": [
        "svclassifier = SVC(kernel='poly', degree=4)\n",
        "svclassifier.fit(x_train, y_train)"
      ],
      "execution_count": null,
      "outputs": [
        {
          "output_type": "execute_result",
          "data": {
            "text/plain": [
              "SVC(degree=4, kernel='poly')"
            ]
          },
          "metadata": {},
          "execution_count": 71
        }
      ]
    },
    {
      "cell_type": "code",
      "metadata": {
        "id": "dNAjavGKc_Kn"
      },
      "source": [
        "pred_poly = svclassifier.predict(x_test)"
      ],
      "execution_count": null,
      "outputs": []
    },
    {
      "cell_type": "code",
      "metadata": {
        "colab": {
          "base_uri": "https://localhost:8080/"
        },
        "id": "CGJeK3WsdE0v",
        "outputId": "edba83e6-3581-48ae-a21f-cf6dcdaea60a"
      },
      "source": [
        "print(metrics.accuracy_score(y_test,y_pred=pred_poly))"
      ],
      "execution_count": null,
      "outputs": [
        {
          "output_type": "stream",
          "name": "stdout",
          "text": [
            "0.8769230769230769\n"
          ]
        }
      ]
    },
    {
      "cell_type": "code",
      "metadata": {
        "id": "jIT0g-AQqd0b"
      },
      "source": [
        "fpr7, tpr7, thresh7 = roc_curve(y_test, pred_poly, pos_label=1)"
      ],
      "execution_count": null,
      "outputs": []
    },
    {
      "cell_type": "code",
      "metadata": {
        "colab": {
          "base_uri": "https://localhost:8080/"
        },
        "id": "yZxge9oq3MAE",
        "outputId": "56d41401-372a-40e5-8355-497db8d12ee5"
      },
      "source": [
        "auc_score7 = roc_auc_score(y_test, pred_poly)\n",
        "print(auc_score7)"
      ],
      "execution_count": null,
      "outputs": [
        {
          "output_type": "stream",
          "name": "stdout",
          "text": [
            "0.5\n"
          ]
        }
      ]
    },
    {
      "cell_type": "code",
      "metadata": {
        "id": "VqNDrjcfED47",
        "colab": {
          "base_uri": "https://localhost:8080/"
        },
        "outputId": "eae651cf-e9ca-43b5-81bc-9d0bdbf1918f"
      },
      "source": [
        "target_names = ['yes', 'no']\n",
        "print(classification_report(y_test, pred_poly, target_names=target_names))"
      ],
      "execution_count": null,
      "outputs": [
        {
          "output_type": "stream",
          "name": "stdout",
          "text": [
            "              precision    recall  f1-score   support\n",
            "\n",
            "         yes       0.88      1.00      0.93       969\n",
            "          no       0.00      0.00      0.00       136\n",
            "\n",
            "    accuracy                           0.88      1105\n",
            "   macro avg       0.44      0.50      0.47      1105\n",
            "weighted avg       0.77      0.88      0.82      1105\n",
            "\n"
          ]
        },
        {
          "output_type": "stream",
          "name": "stderr",
          "text": [
            "/usr/local/lib/python3.7/dist-packages/sklearn/metrics/_classification.py:1308: UndefinedMetricWarning: Precision and F-score are ill-defined and being set to 0.0 in labels with no predicted samples. Use `zero_division` parameter to control this behavior.\n",
            "  _warn_prf(average, modifier, msg_start, len(result))\n",
            "/usr/local/lib/python3.7/dist-packages/sklearn/metrics/_classification.py:1308: UndefinedMetricWarning: Precision and F-score are ill-defined and being set to 0.0 in labels with no predicted samples. Use `zero_division` parameter to control this behavior.\n",
            "  _warn_prf(average, modifier, msg_start, len(result))\n",
            "/usr/local/lib/python3.7/dist-packages/sklearn/metrics/_classification.py:1308: UndefinedMetricWarning: Precision and F-score are ill-defined and being set to 0.0 in labels with no predicted samples. Use `zero_division` parameter to control this behavior.\n",
            "  _warn_prf(average, modifier, msg_start, len(result))\n"
          ]
        }
      ]
    },
    {
      "cell_type": "code",
      "metadata": {
        "colab": {
          "base_uri": "https://localhost:8080/"
        },
        "id": "M-UB10jE06kb",
        "outputId": "2fdbf67d-a476-47a0-b85a-562acbaf2838"
      },
      "source": [
        "models[7] =['svclassifier poly', metrics.accuracy_score(y_test, pred_poly)] \n",
        "models"
      ],
      "execution_count": null,
      "outputs": [
        {
          "output_type": "execute_result",
          "data": {
            "text/plain": [
              "{1: ['Gaussian Naive Bayes', 0.8506787330316742],\n",
              " 2: ['Multinomial Naive Bayes', 0.49411764705882355],\n",
              " 3: ['Decision Tree Classifier', 0.8624434389140272],\n",
              " 4: ['Random Forest Regressor', 0.885972850678733],\n",
              " 5: ['svclassifier rbf', 0.8769230769230769],\n",
              " 6: ['svclassifier lin', 0.8751131221719457],\n",
              " 7: ['svclassifier poly', 0.8769230769230769]}"
            ]
          },
          "metadata": {},
          "execution_count": 76
        }
      ]
    },
    {
      "cell_type": "code",
      "metadata": {
        "colab": {
          "base_uri": "https://localhost:8080/"
        },
        "id": "BTNR21Cx4l3D",
        "outputId": "08ac1b20-2843-4b38-e5eb-1d0bfc3ad269"
      },
      "source": [
        "AUC[7] =['svclassifier poly', auc_score7] \n",
        "AUC"
      ],
      "execution_count": null,
      "outputs": [
        {
          "output_type": "execute_result",
          "data": {
            "text/plain": [
              "{1: ['Gaussian Naive Bayes', 0.6651831785345718],\n",
              " 2: ['Multinomial Naive Bayes', 0.5914602683178535],\n",
              " 3: ['Decision Tree Classifier', 0.6529282765737874],\n",
              " 4: ['Random Forest Regressor', 0.6410603715170279],\n",
              " 5: ['svclassifier rbf', 0.5],\n",
              " 6: ['svclassifier lin', 0.5937822497420021],\n",
              " 7: ['svclassifier poly', 0.5]}"
            ]
          },
          "metadata": {},
          "execution_count": 137
        }
      ]
    },
    {
      "cell_type": "markdown",
      "metadata": {
        "id": "rizNCD39tOM9"
      },
      "source": [
        "## **Sigmoid Kernel**"
      ]
    },
    {
      "cell_type": "code",
      "metadata": {
        "colab": {
          "base_uri": "https://localhost:8080/"
        },
        "id": "gTxeWG6rtLPM",
        "outputId": "131d01a7-0530-4d9d-d3c0-30425980a6f2"
      },
      "source": [
        "svclassifier = SVC(kernel='sigmoid', degree=4)\n",
        "svclassifier.fit(x_train, y_train)"
      ],
      "execution_count": null,
      "outputs": [
        {
          "output_type": "execute_result",
          "data": {
            "text/plain": [
              "SVC(degree=4, kernel='sigmoid')"
            ]
          },
          "metadata": {},
          "execution_count": 77
        }
      ]
    },
    {
      "cell_type": "code",
      "metadata": {
        "id": "FFgOsn1ltT3M"
      },
      "source": [
        "pred_sig = svclassifier.predict(x_test)"
      ],
      "execution_count": null,
      "outputs": []
    },
    {
      "cell_type": "code",
      "metadata": {
        "colab": {
          "base_uri": "https://localhost:8080/"
        },
        "id": "fzK_GYwptTzt",
        "outputId": "dbab8aaf-a22a-41f7-b954-2992c9d66cf2"
      },
      "source": [
        "print(metrics.accuracy_score(y_test,y_pred=pred_sig))"
      ],
      "execution_count": null,
      "outputs": [
        {
          "output_type": "stream",
          "name": "stdout",
          "text": [
            "0.8705882352941177\n"
          ]
        }
      ]
    },
    {
      "cell_type": "code",
      "metadata": {
        "id": "7yal7CiHtaUa"
      },
      "source": [
        "fpr8, tpr8, thresh8 = roc_curve(y_test, pred_sig, pos_label=1)"
      ],
      "execution_count": null,
      "outputs": []
    },
    {
      "cell_type": "code",
      "metadata": {
        "colab": {
          "base_uri": "https://localhost:8080/"
        },
        "id": "q91WLGol3ROy",
        "outputId": "a28c16eb-5fcd-48db-e91b-51de5608ada2"
      },
      "source": [
        "auc_score8 = roc_auc_score(y_test, pred_sig)\n",
        "print(auc_score8)"
      ],
      "execution_count": null,
      "outputs": [
        {
          "output_type": "stream",
          "name": "stdout",
          "text": [
            "0.5501160990712075\n"
          ]
        }
      ]
    },
    {
      "cell_type": "code",
      "metadata": {
        "colab": {
          "base_uri": "https://localhost:8080/"
        },
        "id": "xq-h0WgptaQ1",
        "outputId": "e971cb36-3020-4e6c-82a2-e08039265999"
      },
      "source": [
        "print(classification_report(y_test,pred_sig))"
      ],
      "execution_count": null,
      "outputs": [
        {
          "output_type": "stream",
          "name": "stdout",
          "text": [
            "              precision    recall  f1-score   support\n",
            "\n",
            "           0       0.89      0.98      0.93       969\n",
            "           1       0.41      0.12      0.19       136\n",
            "\n",
            "    accuracy                           0.87      1105\n",
            "   macro avg       0.65      0.55      0.56      1105\n",
            "weighted avg       0.83      0.87      0.84      1105\n",
            "\n"
          ]
        }
      ]
    },
    {
      "cell_type": "code",
      "metadata": {
        "colab": {
          "base_uri": "https://localhost:8080/"
        },
        "id": "_L71Vp6htTxn",
        "outputId": "e630ac94-3ce3-45ef-ef62-2819284c72b2"
      },
      "source": [
        "models[8] =['svclassifier sigmoid', metrics.accuracy_score(y_test, pred_sig)] \n",
        "models"
      ],
      "execution_count": null,
      "outputs": [
        {
          "output_type": "execute_result",
          "data": {
            "text/plain": [
              "{1: ['Gaussian Naive Bayes', 0.8506787330316742],\n",
              " 2: ['Multinomial Naive Bayes', 0.49411764705882355],\n",
              " 3: ['Decision Tree Classifier', 0.8624434389140272],\n",
              " 4: ['Random Forest Regressor', 0.885972850678733],\n",
              " 5: ['svclassifier rbf', 0.8769230769230769],\n",
              " 6: ['svclassifier lin', 0.8751131221719457],\n",
              " 7: ['svclassifier poly', 0.8769230769230769],\n",
              " 8: ['svclassifier sigmoid', 0.8705882352941177]}"
            ]
          },
          "metadata": {},
          "execution_count": 82
        }
      ]
    },
    {
      "cell_type": "code",
      "metadata": {
        "colab": {
          "base_uri": "https://localhost:8080/"
        },
        "id": "Xxo9Di3z4rEi",
        "outputId": "ff10aa60-3d85-4136-8718-8b2e31c2ed44"
      },
      "source": [
        "AUC[8] =['svclassifier sigmoid', auc_score8] \n",
        "AUC"
      ],
      "execution_count": null,
      "outputs": [
        {
          "output_type": "execute_result",
          "data": {
            "text/plain": [
              "{1: ['Gaussian Naive Bayes', 0.6651831785345718],\n",
              " 2: ['Multinomial Naive Bayes', 0.5914602683178535],\n",
              " 3: ['Decision Tree Classifier', 0.6529282765737874],\n",
              " 4: ['Random Forest Regressor', 0.6410603715170279],\n",
              " 5: ['svclassifier rbf', 0.5],\n",
              " 6: ['svclassifier lin', 0.5937822497420021],\n",
              " 7: ['svclassifier poly', 0.5],\n",
              " 8: ['svclassifier sigmoid', 0.5501160990712075]}"
            ]
          },
          "metadata": {},
          "execution_count": 138
        }
      ]
    },
    {
      "cell_type": "markdown",
      "metadata": {
        "id": "onQHSOhhIfaR"
      },
      "source": [
        "# **Logistic Regression**"
      ]
    },
    {
      "cell_type": "code",
      "metadata": {
        "id": "p_YyMpeDEDzk"
      },
      "source": [
        "logisticRegr = LogisticRegression()"
      ],
      "execution_count": null,
      "outputs": []
    },
    {
      "cell_type": "code",
      "metadata": {
        "colab": {
          "base_uri": "https://localhost:8080/"
        },
        "id": "dRQId0ZqEDw6",
        "outputId": "a355e56d-28bf-46f3-81b6-b622eef87138"
      },
      "source": [
        "logisticRegr.fit(x_train, y_train)\n",
        "predictions = logisticRegr.predict(x_test)"
      ],
      "execution_count": null,
      "outputs": [
        {
          "output_type": "stream",
          "name": "stderr",
          "text": [
            "/usr/local/lib/python3.7/dist-packages/sklearn/linear_model/_logistic.py:818: ConvergenceWarning: lbfgs failed to converge (status=1):\n",
            "STOP: TOTAL NO. of ITERATIONS REACHED LIMIT.\n",
            "\n",
            "Increase the number of iterations (max_iter) or scale the data as shown in:\n",
            "    https://scikit-learn.org/stable/modules/preprocessing.html\n",
            "Please also refer to the documentation for alternative solver options:\n",
            "    https://scikit-learn.org/stable/modules/linear_model.html#logistic-regression\n",
            "  extra_warning_msg=_LOGISTIC_SOLVER_CONVERGENCE_MSG,\n"
          ]
        }
      ]
    },
    {
      "cell_type": "code",
      "metadata": {
        "colab": {
          "base_uri": "https://localhost:8080/"
        },
        "id": "xuT8IUtREDqu",
        "outputId": "d39a4205-a21a-4a3a-e9e3-8c094580be30"
      },
      "source": [
        "score = logisticRegr.score(x_test, y_test)\n",
        "print(score)\n"
      ],
      "execution_count": null,
      "outputs": [
        {
          "output_type": "stream",
          "name": "stdout",
          "text": [
            "0.8778280542986425\n"
          ]
        }
      ]
    },
    {
      "cell_type": "code",
      "metadata": {
        "id": "pOkQuZcbqlN5"
      },
      "source": [
        "fpr9, tpr9, thresh9 = roc_curve(y_test, predictions, pos_label=1)"
      ],
      "execution_count": null,
      "outputs": []
    },
    {
      "cell_type": "code",
      "metadata": {
        "colab": {
          "base_uri": "https://localhost:8080/"
        },
        "id": "4P_eEEtE3XPD",
        "outputId": "65661f69-2757-4594-8e01-d19796579f5f"
      },
      "source": [
        "auc_score9 = roc_auc_score(y_test, predictions)\n",
        "print(auc_score9)"
      ],
      "execution_count": null,
      "outputs": [
        {
          "output_type": "stream",
          "name": "stdout",
          "text": [
            "0.5858488132094942\n"
          ]
        }
      ]
    },
    {
      "cell_type": "code",
      "metadata": {
        "colab": {
          "base_uri": "https://localhost:8080/"
        },
        "id": "_zJFMOw5LwEV",
        "outputId": "47b69abc-4043-4acf-d5e9-2509c87fcbfb"
      },
      "source": [
        "print(classification_report(y_test,predictions))"
      ],
      "execution_count": null,
      "outputs": [
        {
          "output_type": "stream",
          "name": "stdout",
          "text": [
            "              precision    recall  f1-score   support\n",
            "\n",
            "           0       0.90      0.97      0.93       969\n",
            "           1       0.51      0.20      0.29       136\n",
            "\n",
            "    accuracy                           0.88      1105\n",
            "   macro avg       0.70      0.59      0.61      1105\n",
            "weighted avg       0.85      0.88      0.85      1105\n",
            "\n"
          ]
        }
      ]
    },
    {
      "cell_type": "code",
      "metadata": {
        "colab": {
          "base_uri": "https://localhost:8080/"
        },
        "id": "f8k9t06dz1dn",
        "outputId": "8721aca0-7f3e-47c7-93d3-d74c287e9a3b"
      },
      "source": [
        "models[9] =['logisticRegr', score] \n",
        "models"
      ],
      "execution_count": null,
      "outputs": [
        {
          "output_type": "execute_result",
          "data": {
            "text/plain": [
              "{1: ['Gaussian Naive Bayes', 0.8506787330316742],\n",
              " 2: ['Multinomial Naive Bayes', 0.49411764705882355],\n",
              " 3: ['Decision Tree Classifier', 0.8624434389140272],\n",
              " 4: ['Random Forest Regressor', 0.885972850678733],\n",
              " 5: ['svclassifier rbf', 0.8769230769230769],\n",
              " 6: ['svclassifier lin', 0.8751131221719457],\n",
              " 7: ['svclassifier poly', 0.8769230769230769],\n",
              " 8: ['svclassifier sigmoid', 0.8705882352941177],\n",
              " 9: ['logisticRegr', 0.8778280542986425]}"
            ]
          },
          "metadata": {},
          "execution_count": 88
        }
      ]
    },
    {
      "cell_type": "code",
      "metadata": {
        "colab": {
          "base_uri": "https://localhost:8080/"
        },
        "id": "JFMEzkOS4y3s",
        "outputId": "52404776-e8e8-4896-f33e-d429ac177e65"
      },
      "source": [
        "AUC[9] =['logisticRegr', auc_score9] \n",
        "AUC"
      ],
      "execution_count": null,
      "outputs": [
        {
          "output_type": "execute_result",
          "data": {
            "text/plain": [
              "{1: ['Gaussian Naive Bayes', 0.6651831785345718],\n",
              " 2: ['Multinomial Naive Bayes', 0.5914602683178535],\n",
              " 3: ['Decision Tree Classifier', 0.6529282765737874],\n",
              " 4: ['Random Forest Regressor', 0.6410603715170279],\n",
              " 5: ['svclassifier rbf', 0.5],\n",
              " 6: ['svclassifier lin', 0.5937822497420021],\n",
              " 7: ['svclassifier poly', 0.5],\n",
              " 8: ['svclassifier sigmoid', 0.5501160990712075],\n",
              " 9: ['logisticRegr', 0.5858488132094942]}"
            ]
          },
          "metadata": {},
          "execution_count": 139
        }
      ]
    },
    {
      "cell_type": "markdown",
      "metadata": {
        "id": "dn3SU5JNsiuI"
      },
      "source": [
        "# **PERCEPTRON**"
      ]
    },
    {
      "cell_type": "code",
      "metadata": {
        "id": "J_bDlAoLsiBb"
      },
      "source": [
        "perceptron=Perceptron()\n",
        "perceptron.fit(x_train,y_train)\n",
        "pred=perceptron.predict(x_test)"
      ],
      "execution_count": null,
      "outputs": []
    },
    {
      "cell_type": "code",
      "metadata": {
        "colab": {
          "base_uri": "https://localhost:8080/"
        },
        "id": "_xswYUJOsmQR",
        "outputId": "96dd80bd-111f-4ca0-8098-65db1d6057f9"
      },
      "source": [
        "print(perceptron.score(x_test, y_test))"
      ],
      "execution_count": null,
      "outputs": [
        {
          "output_type": "stream",
          "name": "stdout",
          "text": [
            "0.6742081447963801\n"
          ]
        }
      ]
    },
    {
      "cell_type": "code",
      "metadata": {
        "colab": {
          "base_uri": "https://localhost:8080/"
        },
        "id": "RN9Q8QDusmPD",
        "outputId": "4ebba0aa-22e1-4982-be91-472ec37712e0"
      },
      "source": [
        "print(classification_report(y_test,pred))"
      ],
      "execution_count": null,
      "outputs": [
        {
          "output_type": "stream",
          "name": "stdout",
          "text": [
            "              precision    recall  f1-score   support\n",
            "\n",
            "           0       0.95      0.67      0.78       969\n",
            "           1       0.23      0.73      0.35       136\n",
            "\n",
            "    accuracy                           0.67      1105\n",
            "   macro avg       0.59      0.70      0.57      1105\n",
            "weighted avg       0.86      0.67      0.73      1105\n",
            "\n"
          ]
        }
      ]
    },
    {
      "cell_type": "code",
      "metadata": {
        "id": "1lUC-VLIsmTq"
      },
      "source": [
        "fpr10, tpr10, thresh10 = roc_curve(y_test, pred, pos_label=1)"
      ],
      "execution_count": null,
      "outputs": []
    },
    {
      "cell_type": "code",
      "metadata": {
        "colab": {
          "base_uri": "https://localhost:8080/"
        },
        "id": "YpwHr1MS3cxA",
        "outputId": "efaef234-826a-498c-d312-6e74ad677ab5"
      },
      "source": [
        "auc_score10 = roc_auc_score(y_test, pred)\n",
        "print(auc_score10)"
      ],
      "execution_count": null,
      "outputs": [
        {
          "output_type": "stream",
          "name": "stdout",
          "text": [
            "0.6973039215686275\n"
          ]
        }
      ]
    },
    {
      "cell_type": "code",
      "metadata": {
        "colab": {
          "base_uri": "https://localhost:8080/"
        },
        "id": "BvraXlzwsmNS",
        "outputId": "66d4e3fa-8782-4e21-f55a-0d8ede36e737"
      },
      "source": [
        "models[10] =['Perceptron', perceptron.score(x_test, y_test)] \n",
        "models"
      ],
      "execution_count": null,
      "outputs": [
        {
          "output_type": "execute_result",
          "data": {
            "text/plain": [
              "{1: ['Gaussian Naive Bayes', 0.8506787330316742],\n",
              " 2: ['Multinomial Naive Bayes', 0.49411764705882355],\n",
              " 3: ['Decision Tree Classifier', 0.8624434389140272],\n",
              " 4: ['Random Forest Regressor', 0.885972850678733],\n",
              " 5: ['svclassifier rbf', 0.8769230769230769],\n",
              " 6: ['svclassifier lin', 0.8751131221719457],\n",
              " 7: ['svclassifier poly', 0.8769230769230769],\n",
              " 8: ['svclassifier sigmoid', 0.8705882352941177],\n",
              " 9: ['logisticRegr', 0.8778280542986425],\n",
              " 10: ['Perceptron', 0.6742081447963801]}"
            ]
          },
          "metadata": {},
          "execution_count": 93
        }
      ]
    },
    {
      "cell_type": "code",
      "metadata": {
        "colab": {
          "base_uri": "https://localhost:8080/"
        },
        "id": "YZ-VmcDSsmLf",
        "outputId": "cb5c4a5d-1d96-482d-c5da-3976ff17b51b"
      },
      "source": [
        "AUC[10] =['Perceptron', auc_score10] \n",
        "AUC"
      ],
      "execution_count": null,
      "outputs": [
        {
          "output_type": "execute_result",
          "data": {
            "text/plain": [
              "{1: ['Gaussian Naive Bayes', 0.6651831785345718],\n",
              " 2: ['Multinomial Naive Bayes', 0.5914602683178535],\n",
              " 3: ['Decision Tree Classifier', 0.6529282765737874],\n",
              " 4: ['Random Forest Regressor', 0.6410603715170279],\n",
              " 5: ['svclassifier rbf', 0.5],\n",
              " 6: ['svclassifier lin', 0.5937822497420021],\n",
              " 7: ['svclassifier poly', 0.5],\n",
              " 8: ['svclassifier sigmoid', 0.5501160990712075],\n",
              " 9: ['logisticRegr', 0.5858488132094942],\n",
              " 10: ['Perceptron', 0.6973039215686275]}"
            ]
          },
          "metadata": {},
          "execution_count": 140
        }
      ]
    },
    {
      "cell_type": "markdown",
      "metadata": {
        "id": "N3z4cCdMLrV1"
      },
      "source": [
        "# **KNN**"
      ]
    },
    {
      "cell_type": "code",
      "metadata": {
        "colab": {
          "base_uri": "https://localhost:8080/"
        },
        "id": "WvqIrg3Xr3eK",
        "outputId": "14aab543-a6de-4bd9-cd00-d94396295505"
      },
      "source": [
        "from sklearn.neighbors import KNeighborsClassifier\n",
        "maxacc=[]\n",
        "for i in range(1,20,2):\n",
        "  model = KNeighborsClassifier(n_neighbors=i)  \n",
        "  # Fitting the model\n",
        "  model.fit(x_train, y_train)\n",
        "\n",
        "  # Accuracy\n",
        "  prediction = model.predict(x_test)\n",
        "  maxacc.append(round(accuracy_score(y_test, prediction)*100,2))\n",
        "\n",
        "print(\"accuracy: {}%\".format(maxacc))"
      ],
      "execution_count": null,
      "outputs": [
        {
          "output_type": "stream",
          "name": "stdout",
          "text": [
            "accuracy: [83.71, 86.7, 86.79, 87.15, 86.79, 86.7, 87.15, 87.24, 87.24, 87.33]%\n"
          ]
        }
      ]
    },
    {
      "cell_type": "code",
      "metadata": {
        "colab": {
          "base_uri": "https://localhost:8080/"
        },
        "id": "9BA_DqhCr4g0",
        "outputId": "03f9c3fd-8475-4148-f78a-339e5b16a357"
      },
      "source": [
        "print(\"Best hyperparameter(K-value)\",((np.argmax(maxacc)*2)+1))"
      ],
      "execution_count": null,
      "outputs": [
        {
          "output_type": "stream",
          "name": "stdout",
          "text": [
            "Best hyperparameter(K-value) 19\n"
          ]
        }
      ]
    },
    {
      "cell_type": "code",
      "metadata": {
        "colab": {
          "base_uri": "https://localhost:8080/"
        },
        "id": "hux7Fed9r6i5",
        "outputId": "87978aa1-bf3e-49ea-cb82-bb23f677b8db"
      },
      "source": [
        "print(\"Accuracy:\",metrics.accuracy_score(y_test, prediction))"
      ],
      "execution_count": null,
      "outputs": [
        {
          "output_type": "stream",
          "name": "stdout",
          "text": [
            "Accuracy: 0.8733031674208145\n"
          ]
        }
      ]
    },
    {
      "cell_type": "code",
      "metadata": {
        "id": "JOPfichNr6bm"
      },
      "source": [
        "fpr11, tpr11, thresh11 = roc_curve(y_test, prediction, pos_label=1)"
      ],
      "execution_count": null,
      "outputs": []
    },
    {
      "cell_type": "code",
      "metadata": {
        "colab": {
          "base_uri": "https://localhost:8080/"
        },
        "id": "vnaE4lHa3hlh",
        "outputId": "e00e06e7-4fac-4a2b-977a-7a4057f9af7f"
      },
      "source": [
        "auc_score11 = roc_auc_score(y_test, prediction)\n",
        "print(auc_score11)"
      ],
      "execution_count": null,
      "outputs": [
        {
          "output_type": "stream",
          "name": "stdout",
          "text": [
            "0.5516640866873065\n"
          ]
        }
      ]
    },
    {
      "cell_type": "code",
      "metadata": {
        "colab": {
          "base_uri": "https://localhost:8080/"
        },
        "id": "8LfV7pMir6U8",
        "outputId": "0222236e-1851-4931-f558-f05fc0e1d626"
      },
      "source": [
        "print(classification_report(y_test,prediction))"
      ],
      "execution_count": null,
      "outputs": [
        {
          "output_type": "stream",
          "name": "stdout",
          "text": [
            "              precision    recall  f1-score   support\n",
            "\n",
            "           0       0.89      0.98      0.93       969\n",
            "           1       0.45      0.12      0.20       136\n",
            "\n",
            "    accuracy                           0.87      1105\n",
            "   macro avg       0.67      0.55      0.56      1105\n",
            "weighted avg       0.83      0.87      0.84      1105\n",
            "\n"
          ]
        }
      ]
    },
    {
      "cell_type": "code",
      "metadata": {
        "colab": {
          "base_uri": "https://localhost:8080/"
        },
        "id": "VRXlnTFXsQRm",
        "outputId": "1b985091-da52-4d7e-f3cf-b2bcb40d74dd"
      },
      "source": [
        "models[11] =['K nearest neighbour', metrics.accuracy_score(y_test,prediction)] \n",
        "models"
      ],
      "execution_count": null,
      "outputs": [
        {
          "output_type": "execute_result",
          "data": {
            "text/plain": [
              "{1: ['Gaussian Naive Bayes', 0.8506787330316742],\n",
              " 2: ['Multinomial Naive Bayes', 0.49411764705882355],\n",
              " 3: ['Decision Tree Classifier', 0.8624434389140272],\n",
              " 4: ['Random Forest Regressor', 0.885972850678733],\n",
              " 5: ['svclassifier rbf', 0.8769230769230769],\n",
              " 6: ['svclassifier lin', 0.8751131221719457],\n",
              " 7: ['svclassifier poly', 0.8769230769230769],\n",
              " 8: ['svclassifier sigmoid', 0.8705882352941177],\n",
              " 9: ['logisticRegr', 0.8778280542986425],\n",
              " 10: ['Perceptron', 0.6742081447963801],\n",
              " 11: ['K nearest neighbour', 0.8733031674208145]}"
            ]
          },
          "metadata": {},
          "execution_count": 99
        }
      ]
    },
    {
      "cell_type": "code",
      "metadata": {
        "colab": {
          "base_uri": "https://localhost:8080/"
        },
        "id": "Di1dWIQ94-YX",
        "outputId": "2c647e8d-3ba8-4773-ade4-d15b50c2a1d5"
      },
      "source": [
        "AUC[11] =['K nearest neighbour', auc_score11] \n",
        "AUC"
      ],
      "execution_count": null,
      "outputs": [
        {
          "output_type": "execute_result",
          "data": {
            "text/plain": [
              "{1: ['Gaussian Naive Bayes', 0.6651831785345718],\n",
              " 2: ['Multinomial Naive Bayes', 0.5914602683178535],\n",
              " 3: ['Decision Tree Classifier', 0.6529282765737874],\n",
              " 4: ['Random Forest Regressor', 0.6410603715170279],\n",
              " 5: ['svclassifier rbf', 0.5],\n",
              " 6: ['svclassifier lin', 0.5937822497420021],\n",
              " 7: ['svclassifier poly', 0.5],\n",
              " 8: ['svclassifier sigmoid', 0.5501160990712075],\n",
              " 9: ['logisticRegr', 0.5858488132094942],\n",
              " 10: ['Perceptron', 0.6973039215686275],\n",
              " 11: ['K nearest neighbour', 0.5516640866873065]}"
            ]
          },
          "metadata": {},
          "execution_count": 141
        }
      ]
    },
    {
      "cell_type": "markdown",
      "metadata": {
        "id": "EhECBXIquEUg"
      },
      "source": [
        "# **Bernoulli Naive Bayes**"
      ]
    },
    {
      "cell_type": "code",
      "metadata": {
        "colab": {
          "base_uri": "https://localhost:8080/"
        },
        "id": "z2QCqKdTuKcb",
        "outputId": "d9d2eeaa-c3f0-4b77-bdf1-facc931338f5"
      },
      "source": [
        "nb = BernoulliNB()\n",
        "nb.fit(x_train, y_train)"
      ],
      "execution_count": null,
      "outputs": [
        {
          "output_type": "execute_result",
          "data": {
            "text/plain": [
              "BernoulliNB()"
            ]
          },
          "metadata": {},
          "execution_count": 100
        }
      ]
    },
    {
      "cell_type": "code",
      "metadata": {
        "colab": {
          "base_uri": "https://localhost:8080/"
        },
        "id": "o66UWJkSuK7J",
        "outputId": "354a8e0b-766b-4901-d842-e568756b19ae"
      },
      "source": [
        "pred_ber = nb.predict(x_test)\n",
        "pred_ber"
      ],
      "execution_count": null,
      "outputs": [
        {
          "output_type": "execute_result",
          "data": {
            "text/plain": [
              "array([1, 0, 0, ..., 0, 0, 0])"
            ]
          },
          "metadata": {},
          "execution_count": 101
        }
      ]
    },
    {
      "cell_type": "code",
      "metadata": {
        "colab": {
          "base_uri": "https://localhost:8080/"
        },
        "id": "9i_16B2xuK3t",
        "outputId": "fd0868c2-d971-48e3-eaaa-56e591f2640b"
      },
      "source": [
        "print(metrics.accuracy_score(y_test,y_pred=pred_ber))"
      ],
      "execution_count": null,
      "outputs": [
        {
          "output_type": "stream",
          "name": "stdout",
          "text": [
            "0.8624434389140272\n"
          ]
        }
      ]
    },
    {
      "cell_type": "code",
      "metadata": {
        "id": "9Z-RTAKUuK15"
      },
      "source": [
        "fpr12, tpr12, thresh12 = roc_curve(y_test, pred_ber, pos_label=1)"
      ],
      "execution_count": null,
      "outputs": []
    },
    {
      "cell_type": "code",
      "metadata": {
        "colab": {
          "base_uri": "https://localhost:8080/"
        },
        "id": "8DaM7Jxj3my6",
        "outputId": "6d872bbd-3ebf-4387-fc01-ed8d9a0c5ad1"
      },
      "source": [
        "auc_score12 = roc_auc_score(y_test, pred_ber)\n",
        "print(auc_score12)"
      ],
      "execution_count": null,
      "outputs": [
        {
          "output_type": "stream",
          "name": "stdout",
          "text": [
            "0.5707559339525284\n"
          ]
        }
      ]
    },
    {
      "cell_type": "code",
      "metadata": {
        "colab": {
          "base_uri": "https://localhost:8080/"
        },
        "id": "kQtb1CetuK0n",
        "outputId": "5045a146-50dc-4d5a-f162-23ee902eafd6"
      },
      "source": [
        "print(classification_report(y_test,pred_ber))"
      ],
      "execution_count": null,
      "outputs": [
        {
          "output_type": "stream",
          "name": "stdout",
          "text": [
            "              precision    recall  f1-score   support\n",
            "\n",
            "           0       0.89      0.96      0.92       969\n",
            "           1       0.38      0.18      0.25       136\n",
            "\n",
            "    accuracy                           0.86      1105\n",
            "   macro avg       0.64      0.57      0.59      1105\n",
            "weighted avg       0.83      0.86      0.84      1105\n",
            "\n"
          ]
        }
      ]
    },
    {
      "cell_type": "code",
      "metadata": {
        "colab": {
          "base_uri": "https://localhost:8080/"
        },
        "id": "w7_jxaweuKzB",
        "outputId": "a88dbf0c-889d-41e4-c304-4e79548393ef"
      },
      "source": [
        "models[12] =['Bernoulli Naive Bayes', metrics.accuracy_score(y_test,y_pred=pred_ber)] \n",
        "models"
      ],
      "execution_count": null,
      "outputs": [
        {
          "output_type": "execute_result",
          "data": {
            "text/plain": [
              "{1: ['Gaussian Naive Bayes', 0.8506787330316742],\n",
              " 2: ['Multinomial Naive Bayes', 0.49411764705882355],\n",
              " 3: ['Decision Tree Classifier', 0.8624434389140272],\n",
              " 4: ['Random Forest Regressor', 0.885972850678733],\n",
              " 5: ['svclassifier rbf', 0.8769230769230769],\n",
              " 6: ['svclassifier lin', 0.8751131221719457],\n",
              " 7: ['svclassifier poly', 0.8769230769230769],\n",
              " 8: ['svclassifier sigmoid', 0.8705882352941177],\n",
              " 9: ['logisticRegr', 0.8778280542986425],\n",
              " 10: ['Perceptron', 0.6742081447963801],\n",
              " 11: ['K nearest neighbour', 0.8733031674208145],\n",
              " 12: ['Bernoulli Naive Bayes', 0.8624434389140272]}"
            ]
          },
          "metadata": {},
          "execution_count": 105
        }
      ]
    },
    {
      "cell_type": "code",
      "metadata": {
        "colab": {
          "base_uri": "https://localhost:8080/"
        },
        "id": "8iiba9jP5HCc",
        "outputId": "a87d9e4e-5a40-422b-bab2-e4f84636cc38"
      },
      "source": [
        "AUC[12] =['bernoulli Naive Bayes', auc_score12] \n",
        "AUC"
      ],
      "execution_count": null,
      "outputs": [
        {
          "output_type": "execute_result",
          "data": {
            "text/plain": [
              "{1: ['Gaussian Naive Bayes', 0.6651831785345718],\n",
              " 2: ['Multinomial Naive Bayes', 0.5914602683178535],\n",
              " 3: ['Decision Tree Classifier', 0.6529282765737874],\n",
              " 4: ['Random Forest Regressor', 0.6410603715170279],\n",
              " 5: ['svclassifier rbf', 0.5],\n",
              " 6: ['svclassifier lin', 0.5937822497420021],\n",
              " 7: ['svclassifier poly', 0.5],\n",
              " 8: ['svclassifier sigmoid', 0.5501160990712075],\n",
              " 9: ['logisticRegr', 0.5858488132094942],\n",
              " 10: ['Perceptron', 0.6973039215686275],\n",
              " 11: ['K nearest neighbour', 0.5516640866873065],\n",
              " 12: ['bernoulli Naive Bayes', 0.5707559339525284]}"
            ]
          },
          "metadata": {},
          "execution_count": 142
        }
      ]
    },
    {
      "cell_type": "markdown",
      "metadata": {
        "id": "MpnzRpXoo8Zn"
      },
      "source": [
        "# **ROC curve**"
      ]
    },
    {
      "cell_type": "code",
      "metadata": {
        "id": "PP_JGrxv0ybD"
      },
      "source": [
        "random_probs = [0 for i in range(len(y_test))]\n",
        "p_fpr, p_tpr, _ = roc_curve(y_test, random_probs, pos_label=1)"
      ],
      "execution_count": null,
      "outputs": []
    },
    {
      "cell_type": "code",
      "metadata": {
        "colab": {
          "base_uri": "https://localhost:8080/",
          "height": 1000
        },
        "id": "OhENHaeIpAUQ",
        "outputId": "96f5042e-83ce-4c95-ead6-a016a7391628"
      },
      "source": [
        "plt.style.use('seaborn')\n",
        "\n",
        "fig = plt.figure(figsize=(17, 17))\n",
        "\n",
        "# plot roc curves\n",
        "plt.plot(fpr1, tpr1, linestyle='--',color='orange', label='Gaussian Naive Bayes')\n",
        "plt.plot(fpr2, tpr2, linestyle='--',color='green', label='Multinomial Naive Bayes')\n",
        "plt.plot(fpr3, tpr3, linestyle='--',color='blue', label='Decision Tree Classifier')\n",
        "plt.plot(fpr4, tpr4, linestyle='--',color='purple', label='Random Forest Regressor')\n",
        "plt.plot(fpr5, tpr5, linestyle='--',color='pink', label='svclassifier rbf')\n",
        "plt.plot(fpr6, tpr6, linestyle='--',color='yellow', label='svclassifier linear')\n",
        "plt.plot(fpr7, tpr7, linestyle='--',color='black', label='svclassifier polynomial')\n",
        "plt.plot(fpr8, tpr8, linestyle='--',color='brown', label='svclassifier sigmoid')\n",
        "plt.plot(fpr9, tpr9, linestyle='--',color='grey', label='Logistic Regression')\n",
        "plt.plot(fpr10, tpr10, linestyle='--',color='red', label='Perceptron')\n",
        "plt.plot(fpr11, tpr11, linestyle='--',color='maroon', label='K Nearest Neighbour')\n",
        "plt.plot(fpr12, tpr12, linestyle='--',color='beige', label='Bernoulli Naive Bayes')\n",
        "plt.plot(p_fpr, p_tpr, linestyle='--', color='black')\n",
        "# title\n",
        "plt.title('ROC curve')\n",
        "# x label\n",
        "plt.xlabel('False Positive Rate')\n",
        "# y label\n",
        "plt.ylabel('True Positive rate')\n",
        "\n",
        "plt.legend(loc='best')\n",
        "\n",
        "plt.show();"
      ],
      "execution_count": null,
      "outputs": [
        {
          "output_type": "display_data",
          "data": {
            "image/png": "[encoded data removed]",
            "text/plain": [
              "<Figure size 1224x1224 with 1 Axes>"
            ]
          },
          "metadata": {}
        }
      ]
    },
    {
      "cell_type": "markdown",
      "metadata": {
        "id": "nbKc7N-Z1VfW"
      },
      "source": [
        "# **Area under the Curve**"
      ]
    },
    {
      "cell_type": "code",
      "metadata": {
        "colab": {
          "base_uri": "https://localhost:8080/"
        },
        "id": "v66GT_t61Ufu",
        "outputId": "1774c219-6adc-43fc-d18a-b57598197268"
      },
      "source": [
        "print (\"{:<8} {:<30} {:<10}\".format('Pos','Model','Area under curve'))\n",
        "for k, v in AUC.items():\n",
        "    Model, Auc = v\n",
        "    print (\"{:<8} {:<30} {:<10}\".format(k, Model, Auc))"
      ],
      "execution_count": null,
      "outputs": [
        {
          "output_type": "stream",
          "name": "stdout",
          "text": [
            "Pos      Model                          Area under curve\n",
            "1        Gaussian Naive Bayes           0.6651831785345718\n",
            "2        Multinomial Naive Bayes        0.5914602683178535\n",
            "3        Decision Tree Classifier       0.6529282765737874\n",
            "4        Random Forest Regressor        0.6410603715170279\n",
            "5        svclassifier rbf               0.5       \n",
            "6        svclassifier lin               0.5937822497420021\n",
            "7        svclassifier poly              0.5       \n",
            "8        svclassifier sigmoid           0.5501160990712075\n",
            "9        logisticRegr                   0.5858488132094942\n",
            "10       Perceptron                     0.6973039215686275\n",
            "11       K nearest neighbour            0.5516640866873065\n",
            "12       bernoulli Naive Bayes          0.5707559339525284\n"
          ]
        }
      ]
    },
    {
      "cell_type": "markdown",
      "metadata": {
        "id": "nh5fVc2L6GXz"
      },
      "source": [
        "### **We can see that Perceptron has the highest Area under the curve value of 0.697. Even though Perceptron model fails to give us high accuracy, it does well in predicting positive class in the Dataset**"
      ]
    },
    {
      "cell_type": "code",
      "metadata": {
        "id": "sW5huIUI6slx"
      },
      "source": [
        ""
      ],
      "execution_count": null,
      "outputs": []
    },
    {
      "cell_type": "markdown",
      "metadata": {
        "id": "ECOWSPo0FQnx"
      },
      "source": [
        "# **Models and their Accuracy**"
      ]
    },
    {
      "cell_type": "code",
      "metadata": {
        "colab": {
          "base_uri": "https://localhost:8080/"
        },
        "id": "rI6kkN8Z0PmO",
        "outputId": "95a14cf0-a1af-476f-aaba-658f619139f2"
      },
      "source": [
        "print (\"{:<8} {:<30} {:<10}\".format('Pos','Model','Accuracy'))\n",
        "for k, v in models.items():\n",
        "    Model, Acc = v\n",
        "    print (\"{:<8} {:<30} {:<10}\".format(k, Model, Acc))"
      ],
      "execution_count": null,
      "outputs": [
        {
          "output_type": "stream",
          "name": "stdout",
          "text": [
            "Pos      Model                          Accuracy  \n",
            "1        Gaussian Naive Bayes           0.8506787330316742\n",
            "2        Multinomial Naive Bayes        0.49411764705882355\n",
            "3        Decision Tree Classifier       0.8624434389140272\n",
            "4        Random Forest Regressor        0.885972850678733\n",
            "5        svclassifier rbf               0.8769230769230769\n",
            "6        svclassifier lin               0.8751131221719457\n",
            "7        svclassifier poly              0.8769230769230769\n",
            "8        svclassifier sigmoid           0.8705882352941177\n",
            "9        logisticRegr                   0.8778280542986425\n",
            "10       Perceptron                     0.6742081447963801\n",
            "11       K nearest neighbour            0.8733031674208145\n",
            "12       Bernoulli Naive Bayes          0.8624434389140272\n"
          ]
        }
      ]
    },
    {
      "cell_type": "markdown",
      "metadata": {
        "id": "dv-Qy3az8d1q"
      },
      "source": [
        "## **As we know that the model with high accuracy will be the best model, lets find the model with high accuracy.            So we can clearly see that the model Random forest Regressor gives the high accuracy of 88.6%**"
      ]
    },
    {
      "cell_type": "markdown",
      "metadata": {
        "id": "uvXVi1k3GTP-"
      },
      "source": [
        "# **So we prefer the Model *RANDOM FOREST REGRESSOR* for this Dataset.**"
      ]
    },
    {
      "cell_type": "markdown",
      "metadata": {
        "id": "MLM7VrwPJnqd"
      },
      "source": [
        "![image.png](data:image/png;base64,iVBORw0KGgoAAAANSUhEUgAABQAAAALQCAIAAABAH0oBAAAgAElEQVR4nOy93YKruK4u+kmmRvfad/t9z0Oclz2r5+xg6VzIFsJAKkmRQFL+Zs8ahBCwjSTrzzL93//n/8XPQAoAqkpEDLEDIlLVUYSZleqVRHalXTO7Sf2oOjsfL1DV5j4ASGX1ehEhImZmZmtP+a2QiIwqAGLDsioAfmgEXoky2muDpKqJeBiGL07hB9P45Jwvl4v1lBKjjqEQpjei7RjYNcxsL266MRHeYcRux4ySSFQ1CZj5K6WUUqLS15zzJY85ZwHABHBDgu81Jp1/X4nOv69ErsPi5PfZ/X09SL+/JmJDPLwNorTi2bERmABIldgEEAGYnAhR+bGjo6Oj41gMO96LiBInqlBVEhERhTZC39WRoDcr5lpyg6g9L/Xv5uYAUkqmQHt7yrcgAKwQmeay3zMnERFUsejyt+PZHE/K9PYP3x2saIjHUU6qkr69Sufo/Ht+dP69EZHMrgxOR8cuqAylAKTypgLMySeI63Kvo6Ojo+OV2M0AZuaU0jDpz6SqELlcLibyl4GjW45Rf9tc4Pqfa94Rq2fKb0EASJSIFEGV/AUzUxwcnZ0EPFK09eMmtPfpw2UUQphssGjCWTxNRFQVBG6ix2+Izr/nR+ffu0BEbNQFAFAbol/Q8VfiY9x/P0QUU7PIMCcpsnPFb9XR0dHRcRR2M4BTSsxMNM+TVE0pQSVm3zWadKMuL332npOJqjovox8UsiWZGUHnXt6/Vam3w1afgTgUTd/tWw3HzcESzYv77KHjCqqRN5hiTQwgF8XmE/z6nX9Pi86/P0S3PTqeDZOf5gh1A1gAgKGScz6sZR0dHR0da9jNAHbdLOrHRMREpJNKraqiIqrs6lejl2yoZau6HRGx5UpWHdp1xClDcn4rb5uqKtS0bVjq0kejsRPiWkTWGohDGS4OFkv8rb9Ee9MxEvUBmEXP1hag1m/IqNeIR/AJayk7/54cnX/vhbtaPsA/1XFyuPhSVXaSUwVYpLBep8OOjo6O82A3A3ip8poiG+W+qrpe28SI/C8BSq2WjIUCbfPNwGlgNDdchphmP1yc//gIEkIUzl9K/MoObAAttunTeQl+1lEVWxRaR1hVVwb0IxBjvw3lqJbFwSklABDI+9tfnX/PjM6/92KVnj+eTjqOgohYBo2qimpIY1m5uBvDHR0dHYdjTwNYVU1tRlBnl1E1AbSuovQfGrJqqVYaFweWP+WepoITUeKUUmJaSW9bnWCqUzY0GEEp/wUTUgxmFnVQlPw8ExElGmLxJ3+bogIiJBYS16Tz+xt+Wxg4EVEKVhlhZvIR0eCVdbOA35t+Ov+eH51/70VxCqB6DYg+wFfVcUKUehBzf5IbwNFL1b0wHR0dHWfAsyLArhzH+I8pZKYiD8MQVWdTi1lVif2k/4SIhmFAjUGVi5mZWWVcNsY1v6ZVRFSjd2386vdgdQ62F5OIv7iQRDRvpmuIUkoej7K38ZF1UCKRbKkvZiGbFfHu5aA7/74LOv/eAh8ld8GUM7+MWjpeg+hycp+UeQ9/m4Dq6OjoeAs8bgBTrWdDoJTSMAxEFNfiNaZC1Ik9fISgVZtSO4rYxKGqVjqCCMykmm1uSako0wBExtW1l/Hm8YyIQDnnnCXHbz8GIpJzHohNzRUR1/4AqCoz/yFS1X/++1+fr+NiV0Ut11HHZmZr1K84gRMz+HLJWcXDevW6t0nxsp1CkxMz0cBpGIZEM+oFoIBiljJq4/nXkOTr659//iGiGAe2XOHTrg3u/HtCdP7dC6SQLOapGb4GZs45j+PM2+Kj+nb9XTpBlg6jeKZhqFUfyo3PtYPoWMGGu3AVbzfUt8OFZGIGkHOOvOcumOsj4DL2ypmOjo5XQkNVlO7Puh0+XKcV+48YwE1ngt9zhuYMbSxda87EW9lCmuXNl6r56vnlUyhEkIjok9a/0VR1Y2UV5XJkvr6+0Pit7ydQBphtq5G2eNIPunIY7hqHOKSsMItFRZXO3v3OvydE59/dQXPXgH0UmerxnnZWvo7G1KSwsiBes6QZxy46HC0KBCy51clSK95xwPfCLcP+rRzu6OjoeBfEaeKE7oO7DeDGo4yr3l8KeWjNZLl1/xRqDnmJ1y1sac/LpjYav5krWeVs7+Nh+AibniEiqxOnE+Jfi7Et18sdA6KElBKUiCjn7CrOCQl9C64+EhGDmHggpnYx1/f44jRaJE1VcV49r/PvOdH59zFcybMw6zellGDVrgkp5bqnV/SwnJZblyAFlZIEJV3DEm51LWyoqvvWJnASLY0hYgQfvzcyeBx8nEVEob9wDfYDDHXFefFLsHSArrpEOzqeCvrO79+xiqWv85xy7G4DuFGFm/PxI7ZDPVcQHclXdJSlF7x5Ys7Zr4kHpigwETPnLJPCd1Pv3wOmPdcxWVkuGD82FsgDROoVL9/RzR/J0tTlUrTpZkXNOjsMA8bxQm0Y5Gzo/Ht+dP7dBVMhdxSvAQEMkhJrf9duNo4hszNLRfr6Hn2l/e4WfuNBc+psvF22u1k0gIsAmW8q/hvQCLfr72JVPr+RQ2ovbPlDOzqegS2ujIrKm84XR+EtGPYRA7g5s+yni3tVNQ89hSs9iLH6Q7pz1MRu6G5m8zSrqqpvBMK1zTVB9QMpOao7Cp3r0LN3tEqX08k7h0ZVUReFah38rfjVmeHqWlGXwyBtVQkq19hfJmZmqOqpt5bp/HtOdP7dC8aVxEREA7GHKFF5vBL1W6J5+0RkpmY0gBtawm2m12NtUNWEKdV8OsmpCAqUWHXilKGS1U3o96Wxu0DFW5e/v7Re/9T2vBGWPtmOjmfgz58/q+cvl8uLW/J5aCIip8KPqkCveulm2vN8ZZKHa6IO28zNq7Gp5aObJU/R7W25fHbS1ILlXPsWzom7YD3isB7M5l3c1tPHSDO+A48A2Fs4Ia2vooybxX6NLG8YsEI/Ohs3N4Dzm2jYnX/Pg86/+2JpkgFgkKV8O429NTz860Xp3Dk17UNbDeAd++tPAcBZPdV8GeeMzy2tBenCd/bZxnB0Y33bzWaj9TPrjk+FzzXLk0c1qeODcT0C/Nt8drvglljL4dhhGySTU8u+FXV2PvX6hO3X2IHO9o6fVg3F+0dtxm6uqpSSU6fDL7MrY3aW3cpiLAiT042K5pnhxlsMAvBcX3nq032cT0joWzDCq7mSlU5E7yrfTEQqCipWhGRb8PYeWkvn35Og8++OKP6smoxBRKTQWvTLLPx37ObS8WSIHiU/qaqJSSqiNfVw32kOpk2n2I13e8e3cC9uZ95mJLG38+K9EH0Hv3YQOg7ELxFQu8MLoJ589B4pgtU4m2cOzvmV43wlEgDzyuscCCMlqgQwkKsamIjAnIiknofIKKI5jyKp3sHvU4yQ+lzXoeOkUpTvN9+7NcJfh6pmKFQHgRC+lGwMy0h+l0J5l57NgDILykgyCMw22ienewcDZmMwCAA/2mpVBdFAfCFlFFo9IXF1/j0nOv/ui2LMLzpBRKxkHPqO8GT1xkxa9ZIYN2Uz/knLEgKF1je+/LuFRmgUjyGKz4YCZTb+suY+5uV5d+q6EexLPObQ7VDSX19/wMQgMJFCoBAV6OW//971vt4dS69KR8dr8Bv469lYevFwSnv4bgPY9k21SAFDmWhgJFJVScyqJCLggYiVVCQTJQ37lSgwikIyxoy51ksqzPz19SUiYzYVWZWQVZVk4KQEmwzsL8F0cQJIqVgbWnUeSoOq5pxF5CulaSUhac5Z82j7YRDIgn3LgJ+tJTsbD1xvj0BBoMQARKEq+V/lISknHljKcizTnywnEAgxugeokzRTVdCZoCKJwEyXixCRluDcWVJHyvrA4FROjMQ0JE4EVbElc5S+KapUulO0P1EAqaxjHRiUiIhFRFWU7gklPx+df49F5999YZxabEIFMw9fQ0qJNAPwOsn2j7H9wJS+EmdcLpeyWiGx5GDdAThrGNwaTEyqqjICTEqJSKwjpSoBw3stIwEDgzlRYiViQMm4qLiiLKeCiUTBzF5Ay9PIzbunqjCJkbimewgnG9TJn8DcnokorqvgdEO16p80Ys9AlDZFzkBtB28GSwYzJ3AWYRYRMHRguqiqChGlxDFin6o/gYgSQaAMFYEJRavh9ud//hpFIHLJGSqWoiSKOL+4NF5VNM8pD92bCnev1CwYBTilP19/AIzjmEVAELGi9RPxXHELnhAZeZIz1mRp/VnFkUSo8+MOa6FpY5RUM+Y5I+5xji/FWphSyvk9xvkWaNGFrOdBgtUUQNtRIatm2yWEWea0+nOcSzt8AAkiYpTMmFL/iIbEKaUkIpfLRXImIk7p1kIIr8IORbAagUu1ImvhnA06obWNVWyw1AvhQGsRD+S6gYJakSFzz3y3YpPmGZvx5BcwypuGAW5CUV4JahvGZFhdHYZVgpnth2kHj3F1taZKxqaeVVd2xP4OTEwzI/Vh0RZva7Nyxun8iJ1/3wWdf2/EpPfXDAUi2kyJFzXDouyBnFUJonrKdI1NuN3o6w6uXMyA2lsmojpQSIlVpdY/q19WB1mtP2eZ5E2uh7dh1eNyvTHxVp8KHyJSqCoTGecm4gxx8WiEysxmAKcqh50fMefNRCREXykJEdVKgbQmot9oeLeaqnVpEqJ5JoKqZJ/WJXcdc/YBULcxU13tVDPPPoytcY7tievPzRHmF7hh/F5y8l7w4mB15K+8jnXf0/kin3sh9muuV3NibhbM6Pnm2UfWALuriqZDYI3HXJneuo//xCfFuFQpQu5UdqM3dKni27wu99/27WAd9xmXmYm4GZCfo/FQFh103oZzzlhL+wo/FlhTEu8ppV7n3zdC59/riIaZr+X//ich2T6rmCn4iub+GP7eqW4GtkUJGZaYUn61vI+/5dnPw4tOKcVl4bf7WW6hltNS1GMoBgyTGzMK+CbMttZAzZVliSzB9B3m6zuuwA1CAMuy0v5orL2jU/lhHVtERXPXp2f+Q0FGOar8VrHfiNmbwuSEMsRZlWgzeHvvE1dv4mw40WytadeUhKjFEdNPmvGmaGbDby9u5tNnNesEaOjW5hTPZzHnjqQE1wxPNhqPGMBaE6JWuxKVZiqVRzZusnamEd9+0BT5uKWRzctwH5urPlTXGX42jSJIN9WSM0VUZhH8OILkj4iKs3kQfWzPM8Kxs9WioCW9PXxn1yyZGac0zzr/vh06/34Lc4t4LeIbryci35jHoEvKPh8iI2y5J+qLK9cv79BcaRhSch+Wn1fVyQL5LipynR+ZWWrO542dfQs0DgIfqBLlI0qAMgNgVUGpb59o2icZV4fO3zhCxriKqCL+kHb1i70MM+JB6aPZYG6VwTZIf0+LN6Kxppg4Sq1Fybo9OxvHuTnvYmQpRVU150zzSnu/BFE5vJHwGkXo82TdKlyfjK4rZ14Tj2LrOs6ER4pguZDVgOYyX0d05T74Tq+Kc8PPaShOS07WJ/RJPBUikhUiMgxhnRiAPWy/OA03Ut4XlZ1k9oqmbySzHe9PJY9ox7vugM6/b43Ovw3KFAtKZcfomiFp31q0TdufaOBQVlbVh6vfHQJSkE6vqVGzoumL7SJVqwTD1fdRPpvXCbDFiB6ZAjB9XIuQbNFJSkmqkyEKokdG4RyopAZVHVUSp0hLDKJKgLZfs50vpqz91EbD9o+/ysT+lgupM18uOX71dqr2zG4X9RHwCKSqMmBTtaSkMk1Yb2paqGoqic/kdn6qCxDgrzJc77/9eX8bXvP15/5cZmbi2dgSESOby+WHj383EFEi0ttH3uSkRxdqtsL7keltmLnIVcmSn1ObJnBa0bTDNkirWNWqtxDn78YZ73/vHT6/21J8RO0/NuCu+78XYgfrFiA1E2tupTw2Dsu3U7SoE48q1RDQssu7EIPd32o1vR06/54KnX+vgIis3saNNEZE0cxIxEiw4i7vSEW0CDLEj1uEsTVWcWOzeH51ZEytWXWibd2fmW1FbGz8dufeCTrt2TaxJM/ZM6GssV9a/oWRN26+fKFExEDO6g4Fv/K9hrQhFeuas/Pk0iL6SklVbB31m1q/Bjc1zfptXhmVFCclouiJwpy170Jc0BsxDEP0G/qzVtn5t7mbYQ6s+42396XMexF76kuQorByR7MR1dkcKPsUwWrOa9jn84pHc5VKmvvc27wldGMblWWi12cjCtlpqn5O36M59O2SvNcgeqomTydzZMnrsYsb7+93qOGycxnAnX/fFL+cf7dAihSW/lq8CHNFLcaB4zDaETOTUs7jy9v+CIrqD8CisloCwTPagELL2gVSobX48JX7I1i2mFsgy+sF0Dk/Gv76+rrlKbd2+zTYYgaqa/VFhFJSQAFWBc3yEVyVjumtFswvN7kt5dWHLqVEIkYXZGH5txpU8hlGoSF/0hxwvPQgpIQMQKWO7YGNfwDuMKKKFBwfZdd3ZtTV+1KlvfogPObjMBqraSOOrxS8DHahKiotISYd7NH9t8NjMspt5rsCCe8IrkswLHEgLh3HXLc0Fe7f8Vz68D5FsBqG1IAtFW1LUZ4pKGHOvncNIQXP9PL+32Z4fh6aUY3D8gxFJN7zbIqOS39m1ly2AYgX7OVdPqfx0Pn3HdH5dxXOyLcrHNHMKHEWO1V7uRf7Pw9NZ53p/K8PAkOjF2PJ6at3Xl58RULa4xobeMsAjhx98kG+CybipBZntpNCoIVB2kgzYPIx6rbDccvmSSlps6rlHQjY0XSq2IQhhdLO5JyLks3TVPJG3YwwCxPzBIotCeZT51Z1yRsRdR6uNd4BUC1LHm0V/4mGsEE5ONmuFk8Fb2dkXIEPtZ/5YBu4mSOW+iTVBPIyB32AAYzKpYkQCxUEZi55HZfL5YE7r568V9JZS4qiv6YyppSKd+1zqdOxVHpylqjBLC/7Idzr4+LVRPmxM5aRKDMPw2B7lPGanHqgkas/UdW//vprlGz72fqE93D790Ln3/dC599VxlHVr2FolDbaIkICSpxpfmdVAf7+++9xHP8dL1qDM7nwyLnUPbLYIsFL5DbKq4iMYxYRJTDINiknkppvSVZF3GoIa4w9FiFQ3jisEFFNXTNpaXIsplNe5KI0rbL2d/HvOKaUhsUuTbGymn91Eqn4EwgUTAr8O14GEaskxMyQcQpUioJWLNxbLIpmfMJHGoaBiMZxzDlfcbma1Xg2j2wKRddShU2TKYh9p23iwcxjI0Xn5nexykg0gcAkIkLCzDQvtrzwCGhKlFKq22OVC2xqXs4LGrYx8wndLmAm/w+Aao6Gt9/Ehzo2Q2tS2ye5naNeISIpJarx9mjBJmIlznnaMNnON4afjeRy+ashbg85G/B3ods5LXkXbKwSsa1CYmYEfwoQ8l8AAH/+/Mk5j+OIahU3Hp8X41lrgM8AorIsG4sptpCszfTvPfM+jnf0nv4Qrm+9rO+/xxe4Ozr/Xscv5N8GsYT7A06W6T6wrYBhO7XiHfjU+n29y0pQmrLUovrlm+h49rjnkLuJ66qJ/W3q06qqMm0pcFY2drmntMdIP1gquvEgIolmUmv3Z0WDJ8b5d3/Qk9BYEd+2PFbji7bKjanj50GUXbiBBRopNwzD8ldayzV7mNd/ZQPVmLurz91yYVe/2NlcKLtBa77bkgipboy8cE9MrHeddC1TA2+bFN1oX81xw7lXhsKdBc0UcxT2NIDdukDNnaCr+4i+DEsdmjYI/ffg2SMQh/oMDO89jROtXl3jutdzG0fXaamu8+8b4bfxr2t+bj655sE+Dj9oJ2vZqRWCXOsCnJPAiCiBEjySE+KrNdAXIQRAoUoymZ0e0GBoIjCVLWuzZLdyiYi1KnbZy+/qZGxIkZ/RDDaRUW4S9q1FMML3G4xzoXgKCKoiWQF8Jaa6zhNMqkoaiDmM22MRWlYwUaaiYdv9V+98TnhocUrNxTVGNhomYiIVCr6qBaeeM+JtoAAsrAtr83r7KysNw7Bqu47VKnOTzAS41GdNzAggJDk39ymzf3CBVcH7486fEkvLtp7PRCbGfBBiPrn9F8s+rXPbMJjJRyb/dLrXO+2rHLVoO1C1RKFaydzVhjCcJosYkBD1RfDLvLAHLZ4YATYuOtYztzW40bHd8WycQY+kKb+Xv3XX7f5on05e9tCfo/Nvh+EM/LsE2ZaVoWnuwXmswQmElACIlKoz5+w45iLl20ZGNmkYx0SiL9BwtSzGMJf3mQ7WEnqba5rmERFhlk33SWhsBgAZOltyGbJaIh62Ud2AtKnNPRfvEhF1Z1acl2+hamZOMG61Yo0nZdVVeJeX5/1gsjC2r4kuda27+GLOdL5gIZ684kp267d5xMNy9S3gpm17Mq5fDYNZEvU3vBhLVIOZKRQLeFpv9odu5OxE5kUkqo3ekU6VcWxhPw6dZ3czgCOr6I+X7O+FrTZEt9aK8/AXIPLtLfPNB0BVOThHX0afFCLAboSfgTsiOv++F34h/0ZM+gRm9sZ9N4le6npbZrbKyWce0KWGGqGh8pJSsIT8ZFCarWQ0gVQ03sHkgNlR8RFUM0T8jNTbcog9Nhme3s5hGCAZYTHw23kGV6FhsUY8ny3mTczAUDbvXYnbPwwbPVYiYgmzjL3rM8d+Hc7LyxXj5QKdXe3XfHFixcXy7Rdx7zOD1LYuLwULiEqqlUuh6cqFcdUcR/aJtivCLIntRJ6lnFt6rOzAigjYdnGfB9tVYWmPlT3NLGsXZQ8zatb62q++e0BZ1k6kRBnIquN7yr1o/fo+Xqg0RvpNKpbrw4eHf/GkCHDU9Y/STp3hp5YsHF2rXp9fi30VkWPf/hJOANHN/JrnEk8M/xaqXuffd8Rn8y8WywV5ri7/fCo11dGn558kVD8bj1j7UUcJAjDq0M5l0S5trd/5gWwsktgy0VNKSiX57d4uvCPqIlUgZADOLqgHs1oxNyO+Sl9Z90ZYxn6vX0+1KrIRWEop481oSVUVM0t1eQEqIdzL5w2HNsyONTnZzLDO+zSPMJfzp1gUtT98BLZgxNZc04zqlSk4Eu0kPAF9k6rayw7SPNMed85KngFxrEr8LAP4DPuUaM21b6q6oWHp41p4IFaF7/Oc8Yd7ejBfeBMk+3Pfv6rGzfdwjqG4js6/58cv5F/HY6sYrq8JpJpJEP3T53RXsaIWFv7+dZvapbaxpzGLW7b1mshXXP7d3AAp4pavVq3oqGTjtpTXk8PaL4szliRe4sCqKSUKnW2t34eea7duih69i1uQQsnieHLzB6K+E49P4iklL+r2LljyRfvRLli4nPyjzpMOVpkosuHqqI4icbqfVc9yB5k9btti/wBsGcANWTYz7F0TbnMrZh6ILpc3o1sD1djvEBb0eveuyHPTh/0OODrZ8Fk1AqJX6UBcIevXrwU9G17T95OMcHRw+slnt40XYauTjMa36Px7fvwq/kUgBkbxfJC2FPKT1qqqbRpk90/VGjwtbmHPLadb9AZirkNHpTmGgJqTtzdyMlTW9gM/g5zZC1FsNkPnZsZWZ42e78XqGL7ReLZ2+3dYkmjC5t4zJ0ekE7XFCPVVjiLZ9ikK5HQjv9sA2W/9LxFJ+Farv8bIMgdskegn8ekS1rVca1g1fodGi4s/jNR7JWbA882uKOT8A48w/oGwLifigdNd8ofn39Iijev1uDsCTNXQZ+bE07ufiyQGl73a7r//vb+YftW4UYkIlAAiJKYBluhvl1K4Zmud4UsUv6eSvhKIVOo+hAmEuqzr6+tvzCfpx6gwioNc7sAALvlfsFXDlKwKo5Dna9NX1gIR2ZZ7AhHYemBieTLrJZBlkvqLtnE+qkZl59990fn32aDqMM4igAxfX38GViKGEqHJ0r4yCEtem1EIlSWpiSxoR6OoSDZGWKpBB87ZQhAVlfynZpHZAjYRuYzjOI5KbCvWskiaG6/2r3WmGTizg1e9CVsuBlXlDRkmIAJlKzpodxAFgRWXnGXMFHL/TDvHWWv23o5212jVDAKoan4YR2FlGsrWyd5f0Qf7rjISlAcWyUQ8DPzvqJTKzc4znuarKsfB5/JnqCroNkPNaoyzzk4wyArMDpxzFqttbpW3Le/0bFV2RTkIkymoyERAzvnfcRQRcD0vZItvLeBW8qJVJYvbD1afvezvLaImFZlVAYKICpSIs+TLZRQog8AEUakeG4BM0AmQwMwDIETENU/EBvwtg5Xfoe4Pz5csAmLmRAwiJgZBNVstBKpiU7QkXDT3uT43rtqHRPQ/f31dcpZxzKW8OcnGuqPXrHKPFnzsYdFzNJsmwMSJNJGqqBX38yuVQIm3mJmobCNAREzETGDKCstmijOCFqp+bod/mgI9MfDaeTouQbEhuK2h/GCflkFCp5fu/J/jFho9TxDpELBC6aSU1vn35Oj86yAiqxyDhS95r/ujDggDiUiYRRR8iu5HrK68opoWkS0wflzzMMVCZy0hBYgSSJjNueYk/eFs/B3OY6k+DzQ3/HbJ33E3Sly2oPPc4LOh6Xvk1Bp+BNlmWkHQecncEqvM2Ut/I4ztJY8w+aBENFXAu+RRRMx4UyKSthK7mxzGmMxgZjdsPEpMurn191vDBrCEcBmsrEykxcPekO6+j05EYLZn6+kXL9h2Rz9hXlq4WZnZBl6fPNRL3B8BXuQAYN4lIooJVveW4/85d818yUwKjCpQ+apV97CxAOMQPFuaLD1PtKjDseMjrp88G17WyPOMRufffdH59zXQ6nheJeCfo3E52yAnQGSy02Jjdm/AjdC6kVtKyZqM2ng3gM0KwHMG6vZ2zhXsCfYGmXm23/LJ6K1jd/gsE2kVO9XgcKKyDczOJr4c3s64E8SqDzp+ZVUwzDzzMXR4HqmqjuPo0iCKymVuc+TPaI1L4UpCSNxFTfGls0XUd4U7GrSutQHBy7YXYQvi/XbxiLN53dDr4AyjK4jU+1gjl7/yJCb7eItHfkc8EgFetc5jx86gnkZfgu87HV1iLj5wqlKne8NFoQGeha8AACAASURBVIigHu+oQEdiqAN+3ukn6osHPv31j/62GZ1/z4nOvw4i4pq0b9h9smzcz8xMNFskcQbVhCYHvDavz88f20LMKWr5VVS4D5eHHa9BZByjgZQSZNzl5rONBqEuNo9m1hVMJkTwuF2HW1+NzewRbwC2wpxqJLO5bfyhf3Xd8F5qCB/Pqj6S9tF2w3NXwpMkP9WyixRcEqdFcF396CbxgJnrPmCTg+ynDb0NdxvAOts1oczAscWmkhpb2mKGnZu8DZkf0zyzSAif7LzaAGtZusBaZFgiTvuVd6FFsn6wTE6EGX1WcfYCNttSAY+KeHT+fS90/nUsDeCnP850vpOtX3CFLNq5bgmfxLZ0a/xAWddxHkRqnAj4h/ec32Cyga10xVmNtYZJcdUnHl1ymFsOWiPDbhtrSKBt3NnNz7fOkC3vTKkp+GAGz9fbVi2+Ed5lj5YToabbtG9tx4cWdfTofTeuQENulDf4gSkmpnxIKGhnuRus00rghvKfhMcjwO5qW+asn0F/WkpbIsqqKVywVCM+D2u+lp2VSJoHD1UnF5p9S0eHEw1LqnxNq+oAHD8Chs6/b4TOvw7focPP7DgOWx1MKWWdLSw8Fdp3N//qkCYtn07z4EkULycc0o4nwY29uAXovq/fbeDD9/C7Ed/SvxLKSlQ/E83deuDGyVKKRUMiur/9W//Kz9j7MdeV37xG/T7ZAI4wErpAvwAsyi48Q3AVw/Ics+0qfr71RtO1KBP8473L7n6CuyMJjfrljLe8ZndF7QpkHj5y2IBGgdu08DXNOxy2xYLFjvbdPGZ5q1Xz6fcM9XUcLto6/74jOv8ikO63YZMfIo6AFV9tmvGk594IrVi2x1X/kzQSa+S0NFEOl4odz4YTpMXTTIg9bKYqLYoviFhtHr85KfDsPR4egnNEI9C2Lhao9VcJfmwHYLL/yoCspWvFidIft/XE1fb8TvYs5qjqJedLzuPTtqt9C4cghaW/fvLhRGgbWw413oxt7YaMssfhC0oj7pDJ3fAMzfHzJv6kbbFJ3172kYiyj3YqvfgtzhBCPCHONiadf8+Pzr+GVYJ86lC48+UWPfXFWH1BjVV5LGvE1YkRjfV7toHteBLinPLzNYRLeCD08JnrWzR8QTcsLo1BWvd/0TyWjlAwYvm4OHf4NfHR0TZuYsKosuVd4uq7IIp9K4L9PDF1u0PkKETOpVBl7d77bM0IR3Hu3SnQlqtNxdk208YmXlqLKWHu+rryiFV3iB83I2jnLTFSlpkeVvJdJOfsbbD0jhsbcxSWnGBn7lVxZMwc9pGzk6q64/yzFJQ5Z+LpfZ2Em1U1ZyGiVKsO2F4Ce93cDrYo3zTC6SUeRHWdf1+Dzr/7YhgGV9eerShMtFo/nkc1ic1ojk2g5ZytyEFhkIO4w9tjelMcN2ZOSOM4Hj6YL4DrdvY6nuTAsjtn1XEcdyxRuzs8QuveJeh9KbVbOdM+qvYIeN1jtFsiHTs4bmH68l2qxatzzpdxVFWrPSAbYdjYncaRhKu9W7U9mmO7T845JbL7RgObmT0FmuoiZPwgEnhmhC4DgIj8O47DMDAzMWMnKjL1xmhAiXLOqkeqNLNJthJYnP5cHwiH990fc8JLlZJ9qH1qSCnZLgzPw4P7AEdHkYMWqwuYudlGwvt/+zteuqMarb3Rs3VtnUNxYOj0K3NoqSpOVi1h2d94fmvclhLQaWiZurCjYnRdqp4QkW53FzRbN2ystcOHqPPv89D593mgG6IlvwHVDd8GZEyTPsmq+IZKVdsyKogi8ahWHgH6ffseN66r3dFMrOf0imJjeVHr1yu8c1gjDStDalNzcIo6R3+qWI7aiKtMuvfa9fOjZkI99ynOGltK1O54pAp0PDaKWFXrzaAnnVKhYt82IcrzPA0TBLY9dzkTbqCqCrXFD/Z2qJ4ngECJOIG4ypOZJ8MadkurnoblTEiY2QN+XFo4V3q82RJGuEglJgB/hgHLiec5hPyYT+iV8JduXrd9GXrrbsFUOx6df/dF59/XoI7AzDtwlyPmYxCqK88CjORZjoEvjm5sC1pkXX42omhdWj774rTMa6CQhfskzrVdj6xiL5gvx2VAbIHmy1jiAU37GAf+PeiVrr4dCj7xrWs+DEpQqG0EkHCNdMs+Pm8+JI1+iPrS66SjzVd7PdcUvFwfZ/cXkWe7gR4xgGOMovHyzvjZqtco36v9z0e8KNPjOKJRfKN3SgvlLZV4CjjtDBHpyQwPS+NZKtAiI0I3mwMXoz50dp/m4ie1XGui7+5P2RFu/WJXz+UVWTANywmEY+ffZ6Dz7yvxO+1egzNUc14tvdZYRs/7EhsF61e9R3r+Gv4z+7DiAsLdb05hXxa3JIuTaG1mOQpxOkMQ/t5sVdUzLbVtTB0TLzEz9swk93NEGfXZPXXoIinPl5pT2BHwKQ6swAVVZ37uBPFgBLjQvdW6qLpavMYVuHtXpBBRsrAPp6iOcxp0AbMoJDy8Sc8YiJnq0n8FFLYmZKZVHy0cSdRjX8yl46szpaoizVIlveXNMoymR0/tYNSeReTkIsIN4NfUE5IKZ2YteUTHoPPv7uj823E4zmxJLok5qpJVFJy3/T9BtPeiY2t3NKN6NtBG5PN5YGZWzfl0AxJpYNUdcGZX72S9A6hUd2bhswvKZE2TM0VMOzq2Wc+E1jTvVZHlJ+8l1Kj4NtFyVSVFAiFsZkZPjho9sga4of5Gk5u+CuHs5rIrDJMwK7ftv6J5yK7xQwjNEvT9KYw26yY28wx8y1oSGt3R0vS9QTOFbNFffEfPaPbqg6zsBMAHGnhbKEYdJl3/BdOMqopMG5McbqoZOv/uiM6/r8cZ3vtRaBhq+a3zzrFvsGmhq1NLOfNL3qapjFNJof067e+6vn06oQW1lIrWyCe9exvtUkSHTjHtNogGRp3aWheGqj7bAPgWDXt6ihCF2O/Hc3HDUJ/dWcekhoXqm/GCJ8kZihkcT8aDRbAolIDTECOqMq5cpnVhEgArI65hzdKVm/s1y8tck46jw4BChWdxFSKyrH2bH6xlLoU1BNkPnDB8iFJKkdT8Wz8upsJGekxMSvEhwvMVaARiqO9LmfmVm1nfCw1rgJ/HYzbyxaggU1MKPfN+VQQfQ+ffvdD59zUobask80tUkFVYwUxToBs3U92qZOf1HTvC1X0iQvSLHd2wJ6HSLbmDzKaBJz7ulNzR+DEfbqFJz2XkzaeMeMxEXrX4JGjt2wX/mpQ7nCNWbVqdb2bhOCG97QVlUnNzb8RCPwxLE9cEl+bWHH2GEHPh8LKh/lEEGMHlvOSKIoaYy2x9277nMs8y/3YUXNgREasKEYkKUUL4rWdb2SOgqjq6wncoSWfo1xQ6Ku5htb1e5miME8xfxDCsvMrGsEEQtXuRFxEJAFWZ8mFAYX3LqWDqV7Y95Ks594wH+cir6izF9wS+0s6/O6Lz7yvxYouOcTI3QEXx3/FM3XcXhtrKhaMbuYQSoFAms0om6/eUxLYLnIQ4CDTjsl3gIVR5OXfchWZJyOQN3FV6NwZwc+8zTL5RMVg2by7wV9zHr4Q7bmLbcs7Wbl8bRYc6oF+AZjZ8EgmdaNn3Nkrfq+a870tvogWFrnZ8wBoe2QfYmYE4EbOAL1mHYRAtYQNT/RJIqEzVXsrlhu2kRZlBIlYulTazxrM9iMriQNgaPICZmICwG4TvaQnVEaSiOUtWVZDSwbE46y8NBIag+v+YBAKAaVJ5TRxxnDEUwE01HpZ+na0rr+ToTy0Ox0wpS86jjCIKojQAaDbieOVKiev7BFooFgQFLlkvefw/f/9ZHZyl7WGQjd5Ex7aqita1vygTnfGG20hHrR7p/Ls3Ov++AiRKUFsdRAoyPhJB2vXty5yLocRTrsQ5IIkoMZgUmPZsND41N8oljzlfmDkxbzV86QVr3FWR5BqHTvSaAVNBwXhBIgaUiIlIiUSVCUwktgxFCUyQ6RHH0Vg7QFuBjtJlSthGMwgMaB5TSsOQvlKapqD9vBOjFNtSVASkk6w8Bq4WU80ASmTZMQqoCXxAIQJ4PYQ7cJ1OGqJV4M+fP5c82h4E0WY70GATkYE5xQQo5jyqZKhSnYTnM8UL4YauTfouHEwCfH19jZItry2KykOa+gKQqBt9EKW6Sa+txdrBPlMmkAAEEhElhgoRZUsVjBe+hBxScNIlYtv3GKKplmABQIqiQ9/fqs3rSSz1DFCVnJh5YBE8ewn/j1KgUXV9IvJtTiJXFC8XofnqCmIZ0lWPXRReYi8seg6sTM4aZZpCM45Z4I7y453QW8Vyonft+h1iR16PrGIDG9vwFgLRWPHff/+1/FUvUGlYRvDqz2afGq+2/3yqfXXKlJnOv3uh8+9rYHm/WAvs7AKqqblYdD/6ws4wMpN3fK0xNw5PYwlsWX3OXznnaOiGVWHtQ7UGB5YtkXBzV6xvae2zESl/6xWXazYaHDwC0xkLxSeiNB+fnVoNsTdY9sPabPkrcYY2nBlbpTevM/VRiO0x8qKAY9v2GviM0KhGu3e+KlufnE/+AHx/kCfhwRToqCtIyMoreYCNVbD47ZWbuwmx9Wgs2HLpKbOdu2IDVNUmCU/hOAmu1yK27ES4OzkYZtMgHCowzRd4Kql9FyykGQX6dSVY5z5oP8+hcp3ds0SNzifOOv/uiM6/r0FDVJP9ttPwFXaY38288rvcfy8QkQDDLJm28BRVX5JHukxlXb2PruWwLcnA739HlXJRADL3IZp41crvraF4GksYgbRWm7S1RQ0vnEf2eRiGFPTm3VvLzOYQ9AT4w42o5m3+HmPpFniVxMZjMjMszzda0avlL5TC1lNHN/AVePa+IeefhT8PD26DtDwT91a1RfywOYDraoarmrEj2iFX5mOf7K+3MAoatXWDS237UB6OZWO9PQgGlcPmN6u100wwB7Q7pMosX+s7yURmAOM45pxjFd+mR94dptm2QH5s+sds06NTovPvvuj8+xoYWxUHzRPe+JLfVVXmGQ3Ntzs+/S64DrraBvsqrHT4aUBYK902Kns9WK+IEy+LxjmCMLmn08/FolPtsYN5PQXaL47+CAZ9JUYYz93p1gb2PEPaEMnZxMjh4LoVVjNtndxNEAm4YZYzN/vnoFpbIWqGqrtt23a75Ol4Bh4xgJcTXpS/RDQSsf0PpITGMLgyedvPmVmJtqZu27l0+riYrY00x3H0G9r5qspMeVwI8vpABTqFbQz8vDFejM8UQyWoOHaQFt7lW9YBbuH69e79ntT6k0VI7gURSe0JVQ3bCxphbtEBZhu27lu1yOR8QArhvbg/36Hz777o/PsaZChUUlE+oIBie53C/dgipEj2ez3rJ/jW1CGiREyEDBGRrVa7ndbcikMsCpXvoJAxNz9nYsyXi5dVizWRb1n4Vyr/nkfDY8yK1fPcubCilW4s+7Nh9qFz7iaaFa5/RhdcPj/j5h27Y8l6WouiFYpBPH+M2PFS85irQNWR+/mmbwTDhGqr+ZSk5Z+xNYUQw8+a2XE3HkmB3tKhUS0BP0lEWnWIZnHg1s1dOmChQGtlPglXeonaeBkWCjTcl8+JQgpo/HsIUh0lDUkmPqXVnTlnvUAdcJtln52YsYSrzlFLeFNp2NirNuxUy8lgQSFGfd5xPyhbCi3iAGfbTgadf3dF59/XwEbMVqK6ebYvGmvHyNXWSO/+rJ/A3p2viMY87Ea1XI3IN80OMm1K+k010OHykOYbfraWIU13kMDIVlVh6aGwQtCxDccObyT+xnaNF2CSSxsp0JPFO7+JjMuLd+x1w8uHc7HLwIlsTi1XXg1jqOWsZ2hG7MC3ubTHqCZx2FeHU9prEIXqM4SVj2Q3gA/B3QbwCtOWbTMAmwIBCpGiuEDlFp7RCvtARL40XEVVNOecw4SdS1m2WXoVrNhiOVW1BOK4oPok1FbMADsGQJRVichU5zhuZUYxhaOGxJhZsxLRsF8wZBVx2nf9Xm9OsTstBJPqA6efEPFwoi0HspoHOMNMeTrZ8HT+3Redf18DG71RBSqJE+rejPs+wg4kZBycUC8RkZHISiu5mVFcKma1Bkvsyn28X1RdUcw8cEKQh66s218nG/+txYHLDufhaVx3xvaLs2l7TM1zD7eBuXYzGrHMvNqqPxuViyXs4w3UKqmquhjnfaEB0ew80D5pHl0J4D3kzLOxJU9OKGcaRBr7VracFnelSVjZDlLU6C8BoCpmHbvEgSMB6H4p1h3X8aABvORVCmEZX0+IeYrU1m8jos4RScB/KyI5TDYqM8en/9zXLOHqRPvUyekWLFtFIRyHkFWlqgJl4gxljYNMRIQnK9AOb1t5TbVtr3n6M9CQZY2fFFHZdK3ZnCAS3nLityue0eaH0fl3X3T+fRm0iXRpa3Q941knHBj1CPAib0ItreBmdogk2qxmj8ougnxoEiPD+omJ8VHN6fiUVRxOe6QKorgRgJ33RBi0g7k+sL5RXMP+Oq+vvrjbDmhsp2OH9PAXenLE1GIsqeU0Q7c0casBzI1MWGo+nwQqShy5AkOdyD8IOxTBWp60uvw3/raBQC3oZBP5dL4WGYJvpkolYNXc2dXNW577etYlKpVFU0opJU9ms94RERMp8J/LBXPDAIXxCCCBOZkhYiaKiozM/MWJma3MJilU9bF9MmejF1JVLa613Ay2GcY3EojLpkb1bgUbw7m8vkjMnzVvd3T+/SE6/74Y7l+3VlkWdEoJbLH31gh8DB4ZME3Hn2Up9839D9R+yoZVxkrBaWIOo+jU+EpDIv53nFW5d4XVWSyq4EQESNjwNzxYQSXHwW3AanKTFUaYvGOqZcdmLFgb82GMGaH7D9YCUbbbsZm+wzDEk67fL39ONFvRMPVluqYeGd0uDObHehpfH9xnQfTPP/9VWpEzDzxiFzQ8YtQ1juPX11/R6msufkYzlsTmBy60X49YBMvOVGJjAKw8jqNWcX2lndHsXA6s466hLteotTN5O/1VMpEJD7/+cDuw8SD4yeayyTG3wRpLm9b1N5MPK9s3NI/4Gc/FwST6YTh5B1CIhTDzCxRZCvXGUPenePYO8Q/uA/w8UACu0vQHgEH3mkhbKRwmLgVhBQ6BmBV54xfXMBvtqgtqL7bR8R06/15H59+H4dqYu1FobY19o/iufrt1AdX12zb7nkERaRDVr6VlGy+zv+ajWQZqtiy9e9WNLe9AtNPit3FpwJ2P2gGN4aF1Hb633EepqXpN1YvU1Hp4JRrjVlXzRprSCXGjQ3MvOGHrYg3/sTORc4QhcqXPmy7Tvm3qFUuv+bh1q3jeOGLpkp7adkNlgRcjTmdxJJvaLt+OpEn7yFwmo75S8tyQZ9Dt9dnqWBzi4Hgxez7FAI4a1sMTKgC1KWp+Z9m4+H3hez03LjfHLb6lrEIgCMxhQ7CUNos43cFgFCSyz64AxnFURw0CENHpQpxPxqk2oX0SOv/ehc6/L0BdOw2FqmSGJkIKAeBbY1+2hn/tKvd5X/J4+6L318NpzOrOp0UjjePEMntrFfflfXQeCr6OreHd+q21QedXquqYpWGQo5Q/6/tyW7LGkm+OS15GvYMfbPVir/mi8W5oWEtyTu25ge0y2Cy4eJJREdEsWaew0ucQrFaY82/dcdzYYzfiyvVL/t2k2HJ+9pqmOSW4UM8gHt1DOZvLVMPEMGunXJ3wGn8E6j7eXKPBuxOr+dQax7Tq8WuAVYsfxlWGF6DxRb7giaeLACNkRp2BwXaH81jt4IO5pqu/EpVGxFPVdJt5/RaPoCvMCPth2uePfDUdu6Dzb+ff3RGtNbfolDWldruy64NfBmH+E4MNUbNz1WnHSeLG3XNEEk3McTkrtm0AVdUs2CjydAvBbF3joyoiSr5B8WFE6LRERJiv1PBWNfXGnepsN5QjWt0yfl3LsEyyPiMKuQYm3XcYV23pVTX6BVb3dax2XGtCPjObzY6QcXDXTW58bvTVxq/ms1s79TjiJmdXHvpsrIr9pqexj1fmTe+a9Z2ZE3Gip4sp9doWdDxxNphUiNcKmZelCO1mAO+VV2fUkG1qKsUliyCYXkY7Z70l6uxKACBKHuW46vzYishR9VGJChTMrAJSiQx8XQQY8lzYta4pAuaprR2fgc6/96Lz7yuhi3TfYq+iLUx6y8QZh9RGx0ZqlGnbqlMpIg6qtcQVCrPViShs22aYSPA7VnNyrQfrad+NY8UPKHy7dKzYh4uIrzynNO3eFN/m661K8v2igIkjbAPzIr3KKmf/CtWEa2hD8SIF0UfMo0ZE6RUP/jGKAfzClbc6bVmrzs56T9bDk1qlqlgUuXA+Yma6beu1yD7+0QtSeH/t7+pa4iXTUT213JxvstPOBFoLoVNIgXZclzNlKne/oe/iJiPCMD6jC9OSkPNNOj7Vpg3H6JMe+n4G8I6YMkPmOf1xUE6roNwF2khBfKBrLg2p5keV41qFstmocOsROofbLWVPi3lNS1OY7m1qx2ej82/n390Rxwehm6OWKh2ru84u4QXYppsAqGtTs2SE6McJSTQanxKcArGGc+yXLAqeaYgP/6QBmAeTjbr8yVERbxpAGyHoV8LGjZmbDI7Gzvd9vH1XJwkV8l8sxPy5q3XsmivPRroujpb7Vz/pcZYirjV4FYXegbRXJsdtBmRm1pUCckvEa3yC+Pr6Wsp/zNfKRjSuAQA0WZEnlYERUaOwETACi7tIxMuadJgIWuyFtnzE7u2PBRq8ubTuhHwFZrNDJSEASK9ztC1zwp+H+7dBsrzwpwmQKLvjsUn8k3PjFWx5quL8u2S528e5SLFqeKgqAawqOgU0nKu/VaDjQWzYCWfWH+JeSfPua4A7/z6Gzr/HgudVhV05c2+L6dbRR7B1KxuXSUespo7qLFIkdKgmchsmQzcUBrOvGJDKd0uyobCFiZvQKaXVlH4sFOhIUdNfhYhknSp52iNyfRCa6PH8Ji+GdVxrwN9bZQfjOEY9zHJYzMXiqvbrG4ygHd6VHHsGuESKbprntdbcBKs5NwfKQEut17WSwib5aV647pZ7UtjHy/kOc/eTz7/+Cgr9L6JtkbyX1/uUF6XxsbBWRQ/gFaJK2w5fCl5mALZBI9ZutUq3xo33Zji4i61pyVFZWrpIkag28NMN4OaJqkrMzx6G00WAo5JnZwQg01EWg6EnXqN1O7Rq0QSYNvaA60NqzVLXlVH1N/fM39GktaQabClHHR0VnX87/z4Drv3DTRcbJWJRZdVRJInY9h1g/kpJqhHofwEIVKEqOoqQ6jhb7ltVHy2qT+PgOANm+igA4y/bQCKQjvfXDeDrloZrkNCVCIkSJIsSSAEmBgmUQZN/p6wD0KySc86qSSSrMpDna+Y1dGGpbL0YDNLF043XxnG0j7bBr9as4xJlMn9B+MlrzE4iEkBERk/Up/aCFzTjAbgrBKqDhUB3NYD9JQqQiMa6656n3C/dZ4cgRvzsTDmoNEhEFoONuQZb8O6YAZxSypfR+FQJDAIRg8A0cFKCZhGocXEiVoKMWZL6ebeidU0OrLbnZcS/BBWPATXG/+pbto/NUpH4bfQaLHsUPQL70m32tCzCLS/92ZjmC5oGM5r3Tw0C5SoorP7nswNO9+8DvNGg/dZ22J1YlYRIUKRDVlKiUPMTJ5b264jaVZn4CaLExCBzDYISC3SUEXTfiJbMIgChYpuqAvwIDQWZ7CGD+++yA4zxUoxd6BS+8C0Qicjsq3vp8NkMpkQiwjGHU0N+YH36w+2/vz3r5zv/fovOvwdCNiJ1AgKRKMAQhSpEVCVfLtkVQf8bUc/Xwjxm6gayJD2jwyCu+XTCUEAFNkiUQIqsYkotFummUZOLHCgiQsIoKxfsW2aGcla5jBchkKgQEkiZBmJlqqK4qPUiojaqSlrfy4wOF2nGzxmnCTaDxOroDBo4pVqOi0J/iShnHceslX8b9skKqJIKK6Sm3hOX6YlDcOyxfbxJphR9mMVbM3izSB7zKFkFSrYHWIszROQa1OWtSQAVVWs1g8BmrK7/aqMjNj7llU2ziWZo9eDIv5fxkjMEPHw1gcrDpxzmQZVGgVXvk2wrOFKW7AFMBv0ZvjLxOI5L4b+MNBo9M0jGnEgFYDIXmIqCARHzQSMRqHyrpFkVDCGi9JUEoDK1KTTzokRWcWHkDGqnwqeOmGuAUjeJ5VqhOoFSIg/9mtFO5f8oQrFCFbpWM798W3/lM0x7QSCh1S7bG4k8Gd8dhfHUMJ7/5tE2ZVCrJFC/OmaX6rm7HFSGQ4H//c9/h2H4M3z5DtXWKb6zegzFbebD+CiTqOScR8kQBSfoboVpruB0EeAo+Kgm9DM/pAWeCauuHVUFE2z65LL4AkxXqv/9TjRUMR3QdObASMJd8KAHhR3/3qLlt6Dzb+ff16Os6b3h7/JXnwEL4GQIxrr7Fb6JVDTWL5HFdWdQ1WyxT4vxEgBkKClGCPJsWxG19ZYW3NsY8/OAFYR2l+3JXtpoeTE/TAVkqMK2LqsK7uziKOEfg9/SIvmWXq4EAj2WcnkstJZIZGUQUeJlusx1g0rjOoVw3iaamoAgMA/X3u3fBVrXa9RY64xPo4OVmfPVdCI3q0QkoSzhLR7o2/4qkWX9ss5qdkTjNj5lr0F4DJE2WEF1ycvWxWcjAKr25OQuPFsTN2A0MEpmKDNTYl0y4W33wZq6WwbEvNAvnDtOZwAjpBmcsOjcT9CIOZcm1kfXsD+pyz/HUodrxud8Um6GFdM9ZrTS4uJzd+cWdP49qoUdvxYUUsT9zHXr1wnVrT4R8QrtIeyzQtIT8c+jHM3BORFHpjn4Vsufko8qQEqhCrdbDo8pcIJZcqyPvKVky2QR1za/m7SxSSFVIN+9lfGqW4eIrOpV3MbshKD5stsm+yBeVkz6cZ0aVTWWRWis6K3nNne4vbWvq0q0gWbyVVXmFEtWNZdZsr3/fOr+QaJpOfhHj+h9oFrHp+gpswAAIABJREFUNKX09fU1CxTfg9mkE9bKieS71r3vhTMawEasLsiuM/a7oIlSatgaMRKTCTWrlHBsg0+ConDUYzupIW8Np9e3HP7qsRDowMomIm+Kzr+dfztejCmpZBG6Wb1eV7XDYBxK3cqbsOnWUVWeV1s9PyjAzyDGZIpZ+z3/Vmu55IpT0Od+gsYccv8azh1RvxGu41ofhwWhXp/TZ2+NZvq0iIx5jEbFCSnTu2/liBuaidPlLTXtG3fM7bTXjHY8XsYbrCCcWr3AO5f27AvvrxFPSsnXAVwnm5MoikXU1AXqInLvUqkD4YJoWUl7yWhXXsQ0N4XfWoaLPFI+5Uc4owFsKElZ1VV2izh4IzgbN97KB2TZ70G7is/y7FQtnQpn9YibLqOqtno5qlalJvNhTXsiOv8e2LyO34ZowS5PXoFbzvHnRSlRLemRzDPFhUoaCxbqux+cjf6vGFSuHDvzXrnPUpPOKlDQWAaKmb3S7AMGmMtJVc0INvla8zdOnxSNmVfLs00uiZvuUjMUfGRLWv445pxdgY5kfEK4/WNW3DAMz27q1v2tRKWNaQkzlGW0BCtrJ2L10AtTH0RwOt/KOLic2jXeq7bu9PHZ43x1fCQ42iTs0XV+aPWuOufa6xh4Nn18T8YcFGBVVR21uAOe2PptnNEAjmGWs82jD6PpUVQ4lrz6Mb3+OcpQWEUWq/xRDYzo+0QQ32eGv1z3Ypo89I8nNODvReffj+l1x7tgqfbdHvSI8be8qBOzahNe13hOTv9ucS1zZSdjeOO3uhaeVdVxHM2YUfVllXTlPtdRtGSVafe4U4/o94gkQTXFQFUVmub7eN9ouzpZWsh+HEe7W5xhzzwBucZPoeBzbO0tKbJOrvdOOn4xL34V/UHehmlUb3/G00CLfciWXCnaGsb27VYRrNdAQz75gc14GF4ByxexZ5pFNr4lwtk7EhGRUcKW5jRd9hr+PaMBjPdZTfRzLGdTXE1d+21glEqmVm3T002ZOWfbcaNIuqUoPwMorNXxzfoQTCmrm2pVZugcE8zP0fm382/Hu2DyIZqD307Wr0SmlH6t1Urjb/34XZi9sRYaNes65zLKpm7NDS0kXhL5SKaKvncmvohkVO1QYxmFuZAhep/UyYBm3CyBXMqeAbN9vLfuQCIApG7QImEbM7wDBVp9xDgOIjKOo60hb8yDZa6pgxbLFq73PW/y6ZRxUDwSgGX11+GFm8mHT2r20k0PXLpU7IJchy76rInIdgyh4Wv1zs/mJgntjyvA30VL8JgTQi60qpJO/pGlE2cJ41+P+noEa/VtvgCnM4Ab793HhJLcCnI4D8TyOR/Q0yeB6m5v/hGecXp6s9FFAzPbVBdnL8lnb//t6Pz77j3teEcs6bOofTforFMwTUQIbofYVzlfW/S1fO4HgLarNy+HtBi69byv7Sw7Bk+7Bd8Ei2RikdOui+WabydnnMyWFXTMw2KCNEaDV2+CGvV1HwE2Mv9POETOVkYexeWUc0rJlQS3CkTkeuR/8obUu317ZdMY+4UGo3GyzRbvS29bG/8kLA1+VV02Zxq6Jm+LjyQGmmcsTmb5gW26E04YUdu5ZPHXEdl2i/WMxswA9isbb87TexJwOgN4dSBOKMjuxVI2eafiwQf09Fs4/2AxkUfu8oktpfTvv/8SEQ2kqgPZHjM6EP/XViMktrnztKqYG+pERHVJFzOPWhbK5pz//PkTV8xGKRPvE91sJ+xv59+XNqujA8CGKLjR+o1S18/TvAAspZlB4nR+QhG0ChOzAGIODgDLJELIyxVRZr5ieKzyuKBmKVet1h7nN49AGDdXiLEYzGY94VvLlmiAzeYItenMroElQ+GeHUCp5ia8BYweli6Ay+XSkIfON0psYCa0x5NFxAKjvgrabex/x/Fyubg2Nbm3mIgo54nwtLwBBepuusYU1ob68RBEyim9wFT2T4zBVWNWIDBfMa6qqv/7n3+YeeBkHgdXGu/dVOwWg81unuurlFqifNadN2HqZTeLIoqERznXUGiPZh+3Hro7TmcAd3w24sSPINHc+zsMQ3Qj2dqqaBBKXTF7UA/2QZm06polz46O9TAsOUrq/u+NMYz3jAN0dHScGVGqLGXOB2A2B9UIWBuR2CmrKD5ry3f5eSPccS+mousxtU31etzSlajoRonf6nwdrz8IlnoOECW83Or4Ca437xZ55cGVmHLfqKNY49NbGkMhcu6+RWZ2RS4+ouNwdAO446VgUNlXA7C/BKK6pokUDEpU0+oU5qhjTMkiy0gvaVsg+mwgLV2dnaRS8qr02gqoKAguf9W+AhFN9zDHW82LO6A3HR0dH4uYyGCRIn37Gkytim89ZGbFzNrf51lxsMzqqJmmwLrI/rUK8btEbvfCVn8VUJRdLeqZqgpcv6GqxUKLcUWzr+DrZi3mTABQosQW1t2I7J3ZKRPb7PHVJpNia5ztt1lFREklpZTAbgP7ffzjjc1YhVal1SIZU/OoVQXfF+/Ov90A7ngpVqWGhvWi8OioGYdptsbMPWpnFtC3oHgfgyDUxRIy/2pp80/nuwnc0dGxE1YV4o8xz2KQzQ6EZHHBzk9cPb9Ur89veHQ8D1uG6BVMscQYGwg/d5twldJQMu/aVN4zUyDN6z83+s9qGHyJGJ4FQAxVLWuwF8kvW29h67xnMhKRl+OKsd8rv+14PboB3PFSeDZOdE8CsPinzosuEFFWmdxy0u5Ex4oTi+sWrOB5HJi1XQNWN9IgX96jdQFJc7ciTw8t7dDR0fFJ8GIKRCTQXPYTmV8Tjt+oFrFbmEWWKgBkTPW9qtf1FRJ1qQSf2fDoeDaW7o9vHSI6T6pHKGoVPtYlZjHTIayM9SpSNxLfgfzuGcVbI7Nl8EcIAXVYEqCqlzz69SlkRG9FHb5ppPkgtCh2uaJUKZu3S9eKeHW8Et0A7ng1YnjTRUzcHiAKskbE3+jkOz+8p/YxdjN+FT0C8UpM6lpHR0fHPvAdjwBo2Wzmo3Q0ERmlFCMEkJGbEPe+8ZlljeJV9OjQL0dMf8N2zpcjGre2BVe8lVtxfk2kqvmd1x0xZ6PD2N8SBF6wzO2aYfmJhp9YcGVegfzeQVBVTqmJ+kY9tufrnQ3dAO54KSgUfKJ57YEoMibrjlsbGB9R/Cl2IXocS83VOoGh7h7cbJNgepV4AlNHR0fHjxGVSJ3k03sLW8wtCs8nAiCQxgAGHp9cliVQeSNa1Uxn1+7wWFM63goNhXzrEGnoR1WFRESI26VkJd9hsTbYwMuKKudm9q107pnUuqEH0YRGzXzJVfmMW8HdCK1L2KIBjLCERLVW2F7sH9FxFLoB3PFStG68YP36NVRX+ZawME/n8Slr0mIyj0FVIaVYxTIo4ecRlFR9nzL6Hb8ZpFAqf98XsdLeW3fkCpahJ5NFyyUY74UVLT+RqnIogTOLwu30fm+ZqmazwD6P7Xgz3KvSxOABAao6qkDlCyQA1+Ta7FS9luNARPqGLnRrvxCwYerelb3s4QcAowipJqKsmojAPDALwMD1v1nVjmO15y0n1wfEbz4GpzOAn13O91MVly3cO55PHx/WnC9//gwMkSzMrGIZaRBkYgKryKgmgDQDmiipZhEBDbAahmRiS4iVgKxZVRJITMM+zzsmJQWpgKAqxASqx0TWEQC1v8gw+WtVCsUWDYuK7SdHqsRs7kll5HwBn66eYOfffXE6/r1ho79Zep7o33//nYhGkUSk9av//Offl7T2pxASEmXmv77+DHUrMmbOqkT0//3zvwAGTmEf8slRJZhSEGf3DMdni++ZbI1nlomFZ2vzdSxbq1RzEQkAK1C2Pv2xVrryrDtXqZxtbHtE+myw8Xe6siCBqBKUEo+i4ATQKDlf8igK4qZoKPvhO1R3j/11uQoYv1KWYkyKalYITCPiLVdS7LvrTlMdMYICWaGiWVVJRmIlMMj+gsmOs6iSKaPqfz1lxrY6WbbgzKNtmsb5Z+R9cToDuOPjoVSE2vXtiyxetDXdasR0RoiHE8kZgiKbQ3bR3o1f1F7Hi5SQFPrdiHV0HIWYs+dELiJfVBZU+d+8cYfTQgjJNC6ddh5zDnWmtsJ9ppypb3dRI6j3GkIdHR0dd8GSbBlUpNBp9KDdEZM1YiLhPjen6e8oGYBYOB0gmWUvT4l4tr5Xe1bzm+F0BvAHM+0h+NTxjAuDqZ45XaqeItVMb19VwjWOdHTjnoJPpbej8C7jGXenMPySIm3O1BwiwAjVj7oB3PG+6PHec8KTbJuFpi6Ho+T5GOHj3fS5JvbXL9uxv/RdOszWlW+Hd9E09sXpDOCOjluwFEx2EAsmnwL6K8yAjl+Or6+vhiVzzjLmd9qm7E5orVE3DAMAS5DOSqjWb1aJV3Z0dHQ8D6qaUlo9//bm2doGUbG+1JNcjUs9c2skdw9Ed7wA3QDueEvEktEaCh6ezPyFhF3XtVZvfvfZqOPXYisDPxH79t2oq3+V5FMNYA3156zjtoO3O9JFhAS0tvXF2WRUR0fHm2K2OFZkHEc//iRjzEPZWrcIcf+jXRCrLu/43E8aw44lugHc8a6YaiMDRLTq+zwcRS0GELKgj21SR8fuiEvcncJP6JDaC0STKyC6t7Sat3EoPiAC09HRcSosg5PRAMZZd/R9DC5Ic845ZzeAPf/5SZnesbbF9St7bOMd8esM4HtXiH6qAvfuMEvS9hNWIhFJKeWch5OlQOcgqVNYrNI9i4+h8+9pESuC/BI9wLUuz0DRhYeLQbLftjodHa/Eu2/9db4q+vvDHXAmhZZrYj8DXlgRa0ug45U7JkJvLalb1po554Av6f+9KPzZ/PvrDOCOz0AMq2o1hk9oVcYdCD6sIkVHh8Oru8VKb0T0qSnQS7jeGbfyPqdW1NHR8dZYdaOr6ulqoOyKuO7XV/wuh+KpoWDDUrD3wMY74ukGcEMWV5LBXhM6uCIebs92eBmabBassdlyhPFQF94udGMlH1TV1tnmnJmZziaA5uXy3y4ZsvPvT/B5/Pv3338juHLM0P3Pf/4DW/ValRL305/lTewNVeWUYrDFRkNCpOJ//ud/ysk6Mlnl33//9Y8erunoeA2c9uxjEyvzjy5MmDnnXK4XTSkR0eVyofQehpaJqa+vL8ubte6Y2rDMofVfxY8u6A5p/xaWMwjONPHtDp2XvPKTmA/FM567+5U/h6thTQzcEyGd5mMApizSofWwtkW0z0XlQJQ/pvCb/PGCI5H4bYa96/5PN4C/dZzc8tVr4P6kpdr6ejjhNhNSk3qxTPb4dhj9Vvf+8LSIQ3S2FOjJEnjPxKTOv4+h829HR8fZEBMTVtORYlQNwF9//RUVUN/D715F8yiYojwMg5UIMW9USumff/65Yje+XTCg47chZoCjOrY0FAb7+vpi5oGnvEhbPi3QpfJwWmzJn73a/7oU6Bu10ntzvu/F9ZBEFHnHkkgTM5zmLZlneuh08aocX7G7/EVg/lsFUdlC/fyIvsB4fELG/ox5tPPvXej8+zvBCgJUwWvvgfTpDNLRcQVbk5Er0I1yzMxGyUQ06rWEhXNGkKL4BeBmcDM7uLhejWx/xgze8QEo00ed++Gx3yywBUeiUCWiREyMgVihQna5igiJYl6T4syuLA9WNwlT8XhiXqJ7a228zgCOEkfXEvcNTM8VoXRVh9Z5hqcel7DqNeWsdLAXEHb9yR0hTVUAv4OPrf3Odwxvfu7H5SdvJeqtRxzf0aI4wbFYZqos39RboPPvXej829HRcXKYzImyxQV72Vcmi+uaWnP7c87g9xA0jVu8NH7R8WkiY7KOv90E3fF7EPXJSbWoJqIRsP3NkgEoL/SKNyFvKy25In+qXuTn7fh0KdANXNB4o2OIg4gYtOo73wXy3UuPzVPbxPU4OjHiNvhAcW2Qa8B2fhxHrK0M+eK0pUAjkJQhQ9+FMRBGwHy8te/n8kFLHuP+qM1beDt0/r0dn8q/bG4IQAGuf43rlud/M1ixmoVACgLI3PlvLAw63hJRX7QD20whXuMiJUqkBIKi1Dm31JXTU28M//oZANZlQ7w+67THLNb8kh0dZ0BRJyqGYaC6wMoJmKgUoWQFEWngBaPvcwWL1rDUiFwdSin5Yn6qJkD+97933f+ACHCrMYcICYD05HdyRYduYlzmeDhqrYut9o4yWqNgBrC2nifuBm5DOqQhDrhB50slA1cYNb2sl4/DOptztq1HMM3r59oNOOeLpV2p6vDO+wB3/r0Ln8q/v9ym7ej4MLiYas6LCKRkRM9EzVoBgreA9VREPAV62XHVnvDccXZEBjRTUGudtiblISoP7nO3L45o+N1Yyh/MjX+v6veYUHpFFejokHA0e0VMxv2TBeuWeaRavPGuSgphZOR8jAI9DAMWUf5VeJkHc//YX+MKZo4pqVs38dcBqEWizg+qxWZlXlbI3+M5oIB6Xsr5/W1LdP59DJ1/Ozo6zoZGTXTBPosaBX8cANKp4s7bmb7RHvD2W9e8oA7COHj3oxn8dr3u+GCsOmg89otFcllz/oUt3Q1L+WOhAj82/ecBFftFEWBSKIEUxJSIKfHAyc4IlBQKhZgOe4z1sgy1oyj0x+T5MEgJbIveRWGjh0192sKMTgFUkwR0wwBo7kBEKaVUUzGf2mtSCJAAJShhq2qPNUA2bB63uyTMWyET8yTQZgOFbwWQ9zr2wUaM6oi9vnudf+/FB/PvjnC6Ou3fksZMgHEfirzakkt34RBe7vjNYE+9n+94pKpWnqAEeEO2IabCBe+HxlqIljBqB12Wqiph+mhfsQlteY/MuI4PRsOHs4huo/aEuESkdldG36VYZtDtV75qNkmafRs+XeHc5xvAkqHKgIIGJmIamMBEmrUuhWJA1KsqHPNibJBV1cQ9MTEBoMvluc+1fSOTPV4UwDAMX19fDBGAoaJ1fOwHdZaaoOUvQ78SDZxQUpXENO9VhIUAM/yfv/6+SJbLmN03TOtmGz22CkgopUGVhFiJRlGAoWBmUoaC6oyj5ZUIwKxMIOhkSkpG4q//yAgwEWed8pqOIqFVqK2FLN1kQoLyYmkgA6rkf2GaNqlCiEBESUQUJAKiJCBVSekr5/z0nNTOv1fx6/j3x+Dytxj2cXxO+FdVuWZOjmXSpew6R3g/1XUh5nUREpCgyCwhEIEEAoiSgAhE0F3s6Eew6jA6EDH8+ErYW1uGSoaQTxjR2I2uWcbfxvNbHs+olcZH7wVVTSnJWDYCzTl/fX2pKmlOhKxKCmZb66vAFwME27M6M7FCc74wkegIto5I8eFBVXOUG3FZioQ5+nAU1lNNpJaExQBICZJINV/Sn4EgopKY61oq1TySaiKGCqkkIpGcCEp0uVxSSlYoi4aUc04H8W/Hp6LOi1OVY0YxXEXFgiMWVxnHnHP+668v1cwM1WzXq2ZAmZHzCGZRoerqERmzxjsvn34y/pWRUeWPacWk1lPrjqoksxdMHxUV6J/hS8dp328ekhn8sVK96T9PN4AtURJAmleD0UkTmv7+ZhCVcEACJdC949OoDu4AemBaZYUSGd/gCRMzFskYS73nrodeCSO/F9xW0UXhjcZRPV325BhS598b8Uv4dy/8/fffRzfhJoxhiZGdkZ3GUwhCh6nPS3qzg2OpZSn3Dnkure3X7Vc2Z7DhTbjekcb63R0xOlTSQ1IC8IdJSqUAkro8h4jMeRy36SLFmYzZV4ABJTKXwTAMKWwsb4Vny2ZR9sZteI/3HXV8IGLNy0ScUkogVVUurhyqyfwxk/8jcWOpyJKxxUyEP2lQTqRg5qxCQ/rnn39Wff1PN4DtDS2roZ4Tqwkzr3x6zFJ4+A67NKNmT+ws4mPRdswViytmsAVQfgOWqpifbM4bqTybQDv/3vX0j+ff3wYzG5wNj27OsxCNpUMacBKpYj4nO2q/upoxsdX+rfMNLT2btMwGhoV5TXUmAqY1sU99+htBi3OAbLbz6biMXq+w0PESzFiSQERWDcQM4HK6Mu9d/GtZS5+az285gDV6gJSSCmhbJXvVGuCNSoPnxGOE9ZPH2UG0Me598lJ9eaz9k2VVfZy6q3Zit1quVveJZ68HfQy0FjSOJ32bWX1J7Lvz7/XH2cFv4N/fhrgq20/SZxXFOVtfGi54zUOn0O71CxZtu+K3vf2hu2PLWSkipvtqWZ7jzegiAghvxCTnlmNo8nWei3U6Pgdas/wEJCIlnwtTISgN6FO8QVVtMwwA0LJp8JWxeYUBTPNNLM823Z4H1e/IDw/RLmM7RZCe8KJs4yJebEBvKnt0bn1e1MWSHnl+psFSa1FVGzS/ANUqVlVKTzdKO//eiN/Av8/GO1ZKf2u0AkeeSzRbkYfJ/qRZFaKnNgZAWoi1yIMcC8sTAFBNOFxl1eVNDlRMmwlUm1XHRFxf/QOyIsbDn56G9EK48GRmf3PR3kBdbtVNjo7ngec1CCZ9eM6oq06uHz13x3v9GA8U3yMq651RXXrXx+f5a4DnKa/nd1dERf/1uv40ad05QqsRJNwvpu1Xvr+W32SvoYgRYJoXFDk5YRwCqrs9ebG7FyuInX8fePoH8+9vg2/3hY36BW+KhjAO5+jVqO8hosbFLBFZ+ZnYBqlxF9+y2xFnMReYljq7RLNtye69mDykc58yhZLOMYL0qRFgvrM8yGTlqmI+dM1lSwLo6NgLkbRmfqvFZZ0It1DcWCpHpkB7WiDe8G29oLWFrOvImC9WVe+d95fs8Zjq0PqJq/Tf1wBu7rycXRrvtUGCv3m5KlhCZaazQa962OO3W32Pivjstzu2cg2df6/jt/HvXtiO9J6Lg3Meoz3zdthyolvFNsJk7NnBscNfrbEQYn3yqC/5wqK+QxqKDTw3gHPOCgVBid0KsibbmnsCKIjNTQOYxI1P0cmUesbavC3SDdbvo3cOP/2YVYVLA9ixGoXr6NgdkStnUSJoe+aqB9PE+ZJej9oD4tnQkAItvm/wtoh7ugG8nELOqZCdCnr0nnNPVfhi8GFJGPGyQyIAx6LRSFZ9z/hO6u2Izr8P4LP5dxf85z//2fjmXAawajYzJnqCPgDDMCBEBd0APoqvqa7bF9uZR7XESJ/83KWwpdmoTI4/F7l+3lpo9YGbvtgm3leoJaXknV31eP4QTRfi/SmE/W3lETM/O/X9EDyQQrms9UiLihKzsf3AYes4Ho3GtXqBneeNDdt+J2i+aXnUllfxRAPYXo9NtFF2XG/QUWjmfq15p892QZepqEpeE7NE9Pypfx1ul04xASLPv93rEX48eb5tGgZshfCkbST+d7zYnGRfZaiIDMMwjiOYVBSqzHzO1YMzbYkAWwmsWhZCg7y/l8tlGAYN0QBTsML+xi9dWtb59xb8Nv5txvmB227x6Tm90YSyBmEYBt9wIrLkKpZ8unT2PYM+GmtHVZlmjXH9fl7QTlECC8/fVnzrvBjRIqWy63Kxgem5G0VxjagYwyRmc3aoKqBco32+pKxSqS00gA2qSW+7SUppGJLtxqG6OSmJ2B3sRXDOeRzH2F+fNYyXHxC5cR5xWxdTmB06mfabN6e6BsfvoDkPzOOijOVTCHoPpJREJLzWlRqcDh+NMkRxQXhlf6u7ccJJsMOxpahsTViHqFhXoGF/Iyt8RSFi5Eavnbkyv7tkUxGIDMyX+iusZXCclotvh+s/mr1S7CZeVAX6/Gi05zAxHMAGByrQDfT5O836gwyNR5wS55w1i1fJiq7Z+PGc8Am1UX+9qLLOgx7OtAhjgqPF8fnR+XcVu/Ov646RYbsuuIXG7p2pWS/haJcehtPuZLaMeLy4kTcOTpTGWvfLcW01/vw6U8RZzO8DW8gzX7j74579CI157KM0bC6rO1cGB2R04yHywtHNehaO6toJp4DVJn3bzrsG8EZmPxwu/FWVh0FrtCmiGsDn4l/a9iHugm4AF8TZy22SFzw3iubzcNHzWrIZ5ymra6DVMV1OZ3NYAbUYE6oDzCEAnWn0IoyGrLlRXHo6pXcqq0rOZf8crRfTNDIdV9D5N+J5LYlr0T089fD+WOeM+v4EW+6qVb2KnpxCSURQTdVoOYP1e51QJscfoIA8J07ewEUHB6/k5jRVMz78L4hAhJRQBbsnyuv2Ep7ZeXt6SiORZLn+wxcjtuQWA1JOVsfd12A3ZvxBzXkiYtigA3cOyKrX6UYf1upNTgiqriAAeRkbr/kir27WoegG8AQjD6l4mSjRWj/jNY+7HZMV+pKE2zgCrmfHSVdVbcGVLhKZTjh6hiiFNRRNcVnp7n/B/8/eu+zIriRbYmuZM/JUXbUakEb6CA010v9/hoQG9ACkUQMt3Ftn76Db0sDcnc5H5M7IjAcjkwtVPLEjGaTT6WZubwPJ1AWq9RfZ7QPuBwf9LnAP+o2JbdkKj7Q1vC4epnauF2Fqel2n/e5wreJC2hv1CCtJrwCzWnYundk7RduUpqoAf/xdr1UyM+O4kYz7xPfVP06/bb0KmpGuH/Y+1/8X8S0f6ut4X5vd/OtHZvKRsvFXsDDQT4+272EHHuCMPhTggsn23OM11sld8GB+ugi1wqr4hLuHbBD/LEVE5PU17fc9qfoTHBo9U93DWrfq4uT6k2M/uwoH/S5wp/XThy00282lUrfvoNdqZt2w97TqP7EB/1FDIBlB6Y8h8CjF1BTgPzKWe7tcd+jzJ5nIZLYuWrUxGzZ7d80+u+hj/0f0Vs5GU1au46+oagb2FUC5L3ZyL6wtKQfesWGho7tGZZvu3M3v+78u8A0mf2/0e28cCnABV1UoHz+GJrQ//tZPx8IUt8nT+z8VVzAmQWTP3Kc9jrtT3dNN9rgpaq4/v3HnQx9+Hwf9Pgy9EvW+lPDqcOArJZjaOlTtx9BnUN/bNjM5FVeO331yS62ibR8Dq4Wv+pCc93/CVcm9T3jXN89MKXnekfVzbZV+1kg+h5ad0bjWw8IxHoY9OLf3OaXrmekpd3P5OwulAAAgAElEQVSuepX4Hblrn8+7xsLE1r5Zh0D/TBwKcEEIKznnJrU8mE3uZM9rNN+8aA+bhHeizsonCVWkC1Gy/CkGzF2XsFsEkg3DIMnRsaetuJpX4bNPx0G/gXvT799//10KmHc06O6n0+mm93lVNLFJtQ55XzLaH66FfkIxeyIWg9T1/bQ/gRYlPmO/F9oCXZrGhSVIH4iF7sXr9tnMTMssmCcaQDnPQsI8CWL/iAK5ixfxErTwQSxEhSMbJdC3eYtvesa7wJpOuer+uEBp0tbZgrF7R0X/yK3k3g/HT1SAHbDVEdI5Z+WcJQNEJnKKXr0bSqPqPZnknTDJHzucBePedgWsE/drEIuk3Wq/bRH1wkThQ12IluZ+obUM9NhR7xcH/b6Pu9KvyJjzEPAdSLUDWfhLoyKdX+MHN8WY8WCe80d8RcaXNLpn9yTFmoxZIql7Bmb2S5G1lt6CjexnrTas3b+qZs27gh0uScOXftj/s21D+Jh+xVX4JUlEccR7kkE/n7FjUhuGY6snrGMHwqzT9utNbryTY3kWs2EYIhegKQBfn0nTWh65FyITfn00UICBMBooItE2z7z3MZ/HJ2Y3rMdzSkPMD4yljoAr/uqQsme5snucDxjoEAWQBtIs0WC8NJ8+5riOd1e+a+yXf6FgYjPIBvFmKZHvaL9Pp9xGv//4xz+uFewpOJEAEeIsC2K9od9FAdblwPr73athEfaw2PuzCKNAEBIEjdkdGn+PIgiDQUHSwiPszyhcDK6MDACFU5Nk4pJf32pKy3Xmdm4RToAcxzx6FoFOw1xc4bb87s/uX9T8q4h8rhHDiGW9P5Eu0I9NXd6vI9YgN8/EU4XUg36vwo+iXweZBhckECZidIiWRSZzweFGA5lzdhgAMYF0gIj0V5FctFswgPdvQvsJkElywKISvRSqvZmZu8rAi7eP7i7SwezONJyzpzRIEFyV1puYlHDLDMW4OwVjEZSS2XAa0MWYfATPkmKLchLTGLaDR3V3Fykydz5cSdfKsrySdff0uPicUhrHsf/n5/p4k3RCRPStzXIDofBryUBBhkQoIUmCJJoAyiCZLJpgo7bALaEf6TSecxMmRbh2egRg8Jzz29sbgBj/++7ryAcnSSaFrarZNbyYVaFgVinf2oXWVHQ004xcElWWJGlDMpFvw7AHFaUd/zn829lLL+uIa4sg23TvLdgzyURmiRJpf72dbBjCo2KQe8TWwQCvWwwNBqNxdFfOY1RKKzKYvQ0JZnFNg3v323Z8G8wBGM85u+cxu5Fygl/dxIpJvQ8qMXoRewUo1QU5xGIGLKXegWQIlR5q+0ItszqOo4sw81VxwaZn7oFyG/3GeFifqz1a/LN/gvY4QURj6AhEhiz6uG/tti/vAV5vDN1GNp0wxTqQCvVD8L4qb0gnq+Pdxz93ByyM0L3D8ObayCX3mCSHLsnNBw7cEAf9fhpPpN+NeTYW32a4JkgYmczH3OTONrz1qJoz6oluhEvgHL1Fhl1D7xIWDrXXXZYuIZfsvg/2nRj1rXx0PxnqMFkzSXQJxpKQPbjo57jTJa67n+O1NqbwkvUce7EfoZtbuHAjuu7Z9cyYEkyeHCq3aYylqQF7OEpKoEcpuAeyo6G0LVMirWbyxzxujpOkSSATICCRbjaEcaQWdGS1gv35qcnBLLfggrttYeWlJzI7a/KRuoonV5k4eVk62gPNfkV+W0zFHx05L68AL3CJ8Aov607TU+vlNPQi8sRYV++svchbjVY1wKy/XWgXqnoFOvXjJjc9cOB9HPR71X33Q7/tjk2YVpex3yuKr8VMmnihztrSP6O7h78u6tKLk73jicyzqetXawBPQq4z9jmp7sA7eIepHjO8Rkc7S9yPljd3jWa/sA77FMkat5fknjcf5x5oW2oEurf+fO/cujc0tHab8ZO+GN77aBy+lcMYx1Hut3rihQ29t7r2f/2jgvfT0BNvZ7X+MQrwYt30D9/kMxF9O9Y9sJJenGoNFUi2GKQ7ob84Se+k56fLcAd+IA76vQr7od/z+dysAKxdYXLOFHLO/Wv6tLtpJ+gHH881jmM7wtjiRdU73x4yMM7/+YCb3hw9UUt3r5X9XRE02AdGxpRmKGGSng8BeoFNoXmhhKBO7w33nrXq215N6L3FM7nXNyUptHNJVCmOSPLeedJN++07vX3kJ20mW1R8aL99sNI76LXouJSZ8dYP2xaeug4CrTEBV3EKB3q0XfidynDfSgF+x2gXayhL7oj4QMwp4VkLKELmQAhQ7XPr7tFa01Gj+e8fkByT0jSL+93owIFNHPT7FTyXfvsGP+1JJQ1paDb13jTw4OF9Guya6DapF/Ux2z+b4cPzFEKJBy5LrUK/XmiSGxYFlg58BQtBv33IkRYOSMqQoBxx+wBKEQEIcP5E40Njnj0VBxbW2NuSdlN3F5dtfbx7a6Z2HBzx4IEF4w3dFR+YnDa9/Wkkw3vcN83CB56l14FDdb4t61qr2ZC81lPMkkt59cghdfi8FNwPwWLb/aPQ9a0U4AW3UofSJUXyreoW95ZN/4ie3mL7r7EZaFa0e3C9hXtNwOh+yB8HnoKDfq/Ffuh3LWejxj+j25Z2Lr1tYmGAx9zG0fuL4j9rr9rDnpc1lm8a1etYMnUEP98Oa/0t0PSEp6zP/aPnYz0hL2ay8YQoMHbbW6PjKilZz2H2z0IfvxE392+zSvzRi9tbaeNDtE1CZ9r4yAwvJJZFzMVXoHkIwLQawX5lrveaH46eWIDS4z126k28vAIspt6o0x2nPl01ZRyYld3tLvJs6bm8MCs8Lqo+NoNUkCMwFUC7IVgLYMYk5Jzb93j2zBz49jjo94vYFf0uFHIAv8fzWFPC+lqyd+0YcUNERVPJ8+i9GOruA5QV4dxyyMLLzQ9F0N0cr6vSNIGxV4DNLDIdXuYx9o1gSgBoqWlQ7cPTDYj7QZuNvhQWyZi9u2qea22KNUl1/dc7jeHT6PVz1GoUD0CvHH4E7MKG25gXe+VVV+tHkshxvL31uROBRHmo2b0Cj2eLQPsBSbELEnS4HOKlklovrwBj5SxqgmAvT08rnsu1soeloz4ysBP6F8a/m993QepNPD2I6sDDcNDvp7Ef+l2/FHXlW9ps9Eb3h43tK1io9O3YS0v9W+j/hG7dPuB5Off37lBK/iPmAvRrrJB9YsF5cs4lLV9jfNOXC3oVYvwErmpIji5vMCrb9QULQg1uubhX6V3Xgquw5/anfZYSLJs4lrvAvXnQumbVH18KV5Ht7Z9tH28yyaWLLMWSuxlHmixRSmnksSUtN6PMzW+6H1wVxe1Alss1jmNMV8zSd/AAX1pev3//RrdxtmPPtvqL7G2xLIYHINq9jeO46N5euOGNnkBB9t3VIvlqn+z1wKvjoN/vTb9rKaR906LCWnD4/l7jn9E/YDxdKBWoeWibZwYe8LxlVut91AVpPwXvy4J5NSG/fv0CIJYwilzr6NxtgAXN6NakWD1kifYms8mqApjRc2btdNLS5q+9PmswfFw81U6hRlvTYxtDX948+g+H9UrzxP7X0pmjyXNjlVkyMscDSkaKHGNOJBIhNPe8tE1CEFTMQJne242TXQZNrI3IKl0+zi5nvhheax+p+FK6exG72GEx10jfQT97688TE7hmkvuT397efp1/x5ppNP6JuOiF/NOu0FTu1t035zwMwziOjduzhjC0GtftucwsBrvPVbRGsZ4HxQWPkkL4ydKQkiSvdhbN4zViHt5n5i+jALcQ/2ae8YKNZ3tF4/cC8YzxIlt1O3e/VWPx3rTZrJ7uDnuazHTgG+Og34N+D/wcXJI5Fj6TVrH8oYObo1eA8Sjms75LSKn9hNzJobTQYNsbad/05sjF5LwcFoNfPOxi7fWLE1vhHo/Ea8352lON5z3CfrS7u9JOc1b3t0NHtkCxiLbvm8D1KqvrHf6jPjK8SpXXXv9lFOD145XWW7A+zII2Y14vDKNDyMUc+GnHTpgo34lEkZTl2bPLHfppVeMOPAYH/eKg3wM/FZNyNbfaNNw9VvLywHp5cVOOv+vd+3+SHMfsc6ffbQezqaKEn2Qd49DiGnrN8FVE50CvJLBDCzBePFSWIgxBRKntH4UAHvjQC63mVTDTu+7v+w2sNcDnTt1aE7u5CWnzar0nfK0Y9+v/VjFoj8Sa/zT6bbyr51cfx8sowP3+FFtmznnsolD61//Mgd4IJN099sK2Od3j0dw9ez5qbx64Kw76xUG/B34q2sr0zkcxab+PEpfXaCOZpMaHCIhcJSICcCnnHLaAh9Fyc6T0WCTtqw8R16taJ9VFyrSdaHGOP/Xp2i75cjpw7He9Dvzgu/fxC0+funsPoJ/hRqqYR0pznsbcGX/uOrQbY4v/FINCS/H4ER7gfgpyzpGksfkyX4s79wx4Yb4I3SDLOY6Sio3ny0/n9eIAsjyriiAlTvWLlz9wYAMH/R70e+AHYkHjnjOqCewpsvIaTSN6Vsr0Qra764yIAAkyfJvh3hw9K4+Lwbg7XOTbQrW4uUfrrpgckgA6Tall+bbnLT+wpJVh4pF4lYldoBmS+m9e9Fn2jBYpUxe2S3CfFS2PAgoOoStCJs0YzKu8mrVpIx4halz1ZcA+90SvpADHh/AddWaP7c4or472UtvLRsQ53O4W4aFq0vOrkMSBV8RBvzjo98CPQVuNvfiCmuPatN8Wz+ZPqvm8diw88u4Lz8baGX5vA0EfktOiVDptcBYFXeMM2Upq7R8Lt1frC9p7zGaObjwtzHvtrNuDeeiD0LyJ94NH/lybxRr35iQ9U4013BTgvkq5DGnVlm8P8/NxbPEfi/p8TZnvCQe8Lgr6ZRTgher/7OE8Ds1rFAvdbmSlDiUka5KenQD0Mg06D7wUDvo96PfAT0Ov1xXPWy1bMp1DgHhWz6NWnC/8gZL4EOfVmgf25XMXbskbahSXHq0VjF2PKrqaY15F9lXQ2xfimxbu3p/TvGebD/dgy0gbHslX6QU25TK0VfSQhbIw/j5du+tXWuB+Ycf9ZRfp+qihdslmvgdJMaJXkcG2+E8JdsP87cc85ysf6+4K8FV9nN5B86WM7pC8sTYuT4sPr/KCP4LWbMPdT1cK0G1+4kU0s23Nvpp1m/hOk3bgJjjo9+s46PfAN0Zbmf0xAVmiNLrDfXSnlLdK8uKp67YZ5taS672xuF1x5thDFe+1KNw7VUj+69evnHMiHaDElMg0juMn6s08BV6b+q77gvZBOgsVhV3+5FNCA4pMv0t2vknvkjJUVBQAjyq5FKxmgWcpeP0G3UZyp3st4jWaIQ91zZ/P53Ec3ZKk9o7cXbRXIV4Av3796hXg8G83/vN1wryZAtwPZTGmj8fKGAAZVZoBlk3JSPI8jpJcdBBROXaLwF5OBPzTSjTMJ/A//v57GIZhGPoVH4iF3oOktzsYAUo+jmM0eQdITtzDXmzmDtwSB/1+Dgf9HnguYnXFKhFdiDBOGmi3FqH7lVyFEoqIu2aXCAki/v7XLxGM0QgiCcJ259ByUDQQWfIxJ+GUhpSGqN8e6CdRdmXo7+W67KzMMru7a8zyam7cVEpvgoXse+lGbQvIAizF+wXgApSZXofZWCIwukAD4QDTEFbDiJWJBwlVuP2on5b7efACPf3GvyjCM824v90wiyIAwuguh+I45jGqZztKN/JQUO49ntC5VXfPzW4LM/q96ZssPRqaH9KY8xita/sSTbe8JSJSo/wj7gygxvInd5CJRM4iUxYABk8GyXTRwPasOvzvI/hP5UrIAiSmoX3TJlf4TBjRTkOg25IiOdZqkZIiU0gM0RARPPWjQNLdo+31ooTDmk+Xvbqu+dGn4kMvp2kceCEc9HsJB/0eeHWwNrVWyCKSS/IpCRAohK3VcW9YqHwhsLr7ptp6W6KLgNu4XVRzuRSC+3Ts+Q1+V9jT0gIuYqq/GBnUUKP757YxK2adZ/jqsYpk2eHWfFDuJTxCAb7K3U5SKOuYXd5gqffFcg6w9FP9ELQdWlL4kRYn9CJ1jxC7YxoPHPg4Dvq9IQ76PfCK0Lwap1oTozzl9PbHF6Vu1SIFZvetCO1FiSh3nKox7U7rOXBgQrPatJ29r6D2eETqPjrz8SP1z7ViuY6hOLBn3F0BvjbYvF83ISYGjVW78jJM5Qeushbo3/xI/V+7+rrT+a307ktLJwcej4N+b46Dfg+8HNrCm1TfyK70ZRmSwKtUCV64jMKjJWngdlGoW4G1CvGMPeJHMsQDr4DQMGOdtlrufeXnp4wqBrCOpXrYAHr3b96f7/fA+9hdCHS/0Z49NwKLsMmNk3+YLOgQrcaf5CwpZOhIKXRAndJC0l152Xjm0VUND/wcHPT7Pg76PfCKaJ4WVNsNIqcszfqmtpy3112f8QijnGQSSE5+HvJWcakkc87jOC7o+qfxwwMvgV7N82qQbcT+xKJKTQ9PKS12z+mc+5NUGUaZkUMNfhnsTgEOlLBJz828tC09/1S04FKfN07APJMwjFLNxtyiUp8x5AM/CAf9vo+Dfg+8Ilo6Q2/n6v/6vKHdBiG+hgebJMHmXLotQoWImeyzRb5nV/QDr4Z1ZETYZ7OmNIHGBJ67K6n2MOMD2y9tDiPnrHnnqomuD8PWLrE7Bdg5xQX1xtE1jaUfuaSi7mtwHlEgJY6jA0aW3bqV1pA05rH/+aub5w/sHAf9vo+Dfg+8FkqV2lratOlsYlTBmc78TsuypDWaCTISt6uy7gSA5vttiCK6t7nHgQMfw6VEBXXB+G0zkuSYVTZ+Osn3SRnR3SqKa97bJd3kmdBuXRoj2I3Wn3PnURz4KnanAKNLjGmOo03z0jt/+sZoJiW0mu8uSefzOei/NR0NA7NDi7ysp1vsDnxvHPT7Dg76PfCKiAaq4zhOAR2MuOhSLOrbLMiWnRtZCbhPxkHtZNYHP6Pd8cCBnaBFKhWLdlccro+LftLoSrDGIpDqwakEqnB3ptv0pz3wGNxMAd4McextRf2Zvfmk/xLAf/zrX+0bsfYU40Zgw8/cKnoXkFrDCRIq5XPi2KIr+zP3wLAO7BMH/T4GB/0e2DOqd5eN/CMq4devX5JghOASSlL/yxtiFnyPtRGR0VqoZ2TpOwkgdQasWejypSbqLgDRCx2RPn2earkvshNffTIP7BltobZmuZLA7Wrn7nmW1gpEyv/eFmgrIDeO4xRCJYVCnLreZripS7avd9U85AsmsB8/+YFLuLsHOEupejA0XzSz9RpNPo4N4AsoJqg5zR848BUc9PswHPR74OlYGFzYacLr034CmnNpMxl4LVivJspIOgtFt/TpAwcej0bRi5WsDuj6me1/G+ofpO2ea3ps39/wcZpJqy/SsevJOrDC3RVgdxdpZlYXh8J+TEaagWqvlBo2mY6uzZ9AhEpizrB0VJU88DUc9PsYHPR7YA9Q59Js2m+E4rdzfoL2q1rLRpLkchiUivNsy2+8Mg6Wzzaxzcj7jb/6USr2wAMxW5Nd8cXsWdxWgAv2Teti6a3oEN0xN1T1daE/x7WCet8RaSRlefZcguAOsn4pPEIBbkXSewqMohqtEGKL9zuk589hER45WbyeOagDL4+Dfh+Dg34P7AfNDzz5N6pk90Pi8BcKbQlaNpijDyLd/G0fCSlMvt8Wrilp53rFge8K1YReACJzVtuy+/W86U3dMyRln2qqbwZr3PBZFu7fm1//wGNwfwUYCnNqWxsh342efd4FvoRTXipLdwDAvGrfZsczVavVgQNfx0G/t8VBvwf2jCZBTmXYQrzDzyo/3uYBVTEozlsopZYUsiyF0NCbCVpJ/O9tMjiwf/QmLQAi3Yt7cx3U0CvAbZ3vkANM1jpIclup7t5GLn29OnSpik/mnM95dE2lOiIC7st3OPA43D8HuHYMWxT97/eDedrb03pqvzTaZtzbvkgeXbkPfAUH/T4GB/0e2A/U1X1tUu87ma7fGD1zCyE7vo+a7QFdrn+T8yxFsEWVH6kNBx6MWUBH2HQkMm0GI7yQ+3fBi0JQ6clzdtqNnmizj/dNrnzgkbi7AqxaIW0RJzBJe/MNY+1AOgTqj2CT/I5QqwNfxEG/j8FBvwf2gGbtmpqLWGT7b0Q+S3oFCfkziI5Emza+xgnDFYxqveq9vu20cZwMhcWNxptJ4QcOfBwL7Td27vdtrAuX7w714bXtqX/Alg/MrdJfX8G6j7fX2TzwQri7AjwM5Rb9doKl12j65sDn0KcO9t8ce+2Br+Cg38fgoN8Dt4UDn4jGI9kVtCNJ8LJ15vuiCdOY1851lbBmj+9TSmTkUTpgQJYoje61k8wslNrdUVsiHTjwSMRmnSMM2CxqWG4WY2PXc37/ZL7QbOMxQ/tdq8dXX7z+KKi7qbytk1kjbRoBHAFbr4UHtEGaAvrCiNwvw/WaPPxF7+PS/MxYAMtXn7j+tRaso+jR52CYrJWsVVXcXZwa4aBjr60SVa9wkkzpFNvVOI69e/ZWMpY6+l1f8qDfa3HQ7/fGpaqhl1Ljv04v8xqnCZAAB43mMOPszhfSFqaIx7//9asuP6uOS2yWgv3eSlzfhRv9vKUh5swFjU4h0WAcbAAhQVDOOQue5RCNigzqcBAdER0H3oPVo0EGCbyyqEYmSdhkvoke1P/6+18AAMKS/pRXc1tn6V2xkXNrADC6DEqEhNaskQLgayvzJSO+JNjQAjcEumrkcyHkzj1+VD95QdxdAT5w4MAaUV05MlVClS35JLZhsIy/hp4c3LyD7d9Ge+DAgbsiZNYFKxAh1+K0/p99Vmp4hx4x1lfGJA1LTtAdBjozCdXgZ7m7izjU3QMPxtp67l39jrBtxbEUc3rGIB+DCLhgV1yjuLwvl6xbwAHUkA0CuU8MOfAtcHcF+BsT2LfE4RF6DEJgTSk182RNG1u6aIpPz0WjgclSn9zih4x1oMNBv8/FE+d/4c3YRAvHbW1O2m9zzqP73vt+7gwxb72jOIJ6dJTGOfAU2NTHG7U50A/U2VQrt6Om6+PdKOhFKZP2pbTsCXdQ9HfC4QE+cOAJCNW3lVEBEN5dR17ntDRVOaXUWHkwYktpzZRfJX7pwIED90Bz6voFG3QfAt0XfP62Va1ujV7pbey3TfvBgQ88Eb3OFmrbT1uQs6x7AFW+eucnFzzDk3OitY/6aZP5jXEowAcOPAGhyi4CllJKqg4ERD5h/dNgFe0nUvhrFol8Bw4c2Bt6yesx7pgQ2gzK8+85P+FoUXsV1srtwqN+MOEDT0STBNz97LkZx39aZNDCwBdfSko2I9LedLW+gmIm5VHz+Z2TD7woDgX4wIEnoC8NqloHi2TWiHm3oZLpW1N/0SvMgIq+fHDkAwd+OtZiX0qGCwLfRluUo4vHNVg7gcPF1MJzDrZ84MFQrQXQdzL7gXTNWra9xULHPzNTXzVwQaqLyDsBjqnfLw7z1rfD3RXgnvJ+mhXqwIFLCI9BH5MTvNXM3J0qhEMyVfcvqk94IiOj162ur2eDg1MfOLBX3KkuRu+BbDqwLLVMtuAN058kiYDVugOUjhTgP2BdQrZ9v7YyHDjwYKiKBC31txq2lmvye1fnaTS4sFLlDA93QmOV8dfO5asOo08C1UHX3w+HB/jAgSegVXXGXHgqNbEw8wBbpwAvcswO9++BAwcCvZRWBLhxXASb9FWaMC8EHZd43vBfCQsJu+fhDYfQfODBMLNxHPts1bIIfxhZr1MVghJbOnQrI9pjXc1uHHN/5uFd+Ga4qAC3TXEioa5B9qWf9CGagXaF+EeT5rO8j84/8GBsxn6wa4Den4kPW7XbadGFfH39QyBoiMSSYRhCuQ1yOA0DXGc/xzkt8xc1JgeEsVhvXfr167e40fzgwPfGQb+PwTqqYm176r+JeXuHEtXqusfFu1MWORHXDrW3hbWfj543TiVQoyKLa4iH6nsd1i9oTRo/jVgOfBo962hSsbvbqs1tYHPHl/Qf//Ef0zVD6MaP036xRZ51xgAwZzU2a2WKe6eC56yc3d0tFdHr0mUPvDTe8wAv2LdqlstaAlhovP2vQvttv2qf83iovs/EmqSbYWxxwvoV91iI2ot/alXQ+Fbj/zbo+5H0NNI0mXgjvWITXSjhyjqI6IfioN/H4JJWszkVzWrwDhaOwl6Q/YHTe+DAgQV6lk5us4W16uvuRx/vP6Lx23DwLkLw4su+LMJzR3vg3rioAC902rYgBkvNJ+zuLpdUGr53CYrN8TuYNa+vE9gqyBH49o25d47yOjqPQU//doEXXOK5C2/J8i4HAFRG3KxCZuaeo91RY9AiRXpUdKiZKi7J8znno23JgcBBv/fDOppuFtk0r1q3+El4Wtv5JGnTDyMS6iEPceDAgVcCSYfQZyh0KlwwkSKKS2MJe+ZRaucdhPNAEgSSBiWCoNEkuUqnX0XQ+CFcfXd8NAc4Nu6UktFKmuK80/TCUdD2+mEYmqBQ46APa/fzsRDXJvY6T2pa+Jc2roMpbO/Smz0MaWuw29VqvdaEGgrVSKwZm3rPnqRcShM6eSFG6sC3xkG/j8GmD7yosTWsad1GaKYYdwGIjbQnn8N4xlY09YEDB34UlnGUDGP3xJkbFo5f9TWfL8VMH5ijF7364PNlVfxDT/nW+EMOMDoJoHQu1RQwcGmJTJbuKiKUJRW28BrASSwr00k6jC4PQ/9+25sabGhl4vsXvZmt7cCQBm0h5+KJYpdA/qAHeyk0J3B5EUCEWAxm5/qCJMGm4oQAXO6ruo4HfhQO+n0wesEopdQbghcaLOdOGwDNEGxmQ8vhv/+MXpsjcURgHTjweCysbIE1G+kNmn0T78Z8DpngI+hNw/1mN9mRf/xm90PwngeYqxwwM4PPKqP0CYqL34aIsKbemdfiWGZPQp9iyhqjTnLABrfFBY5AIOrr96aQzeN6Lf1wzKigywS2Ltk+bLnBnb2WbYhfOauz79jxfiQO+oLHj5IAACAASURBVH0keitAzHbsbuik1Yid60Wr9lvWSKj4J2pQdJiyogzVj53bAwcO9AibuDjZ17DSkAH0fbybufMQB97HwpjbZKqF+bI/+cA3xh9ygBeCkbsnWrNOhZaLef1JdFKCmSE7hVaoFp3EcN8nO/Auehd9i8oDSpm8QP+aLsln7r4oZFo8UcOgGlKCToa+1/O8LJpVqAZCM5ThlJLItsNF3ERGDYqO3z515AeeiIN+H4P1vDVbQzthXb61/3lfyD0wOY0PK/CBAwc6ExuqMOD03prWvMFN++3jdXsseNAR07HGYjtbzCFX0a8HviveU4CbVQmV3nLOaZjaPBQ5ILuTdDlhQqt0VX9ccszbZfuQg8DPFK2ei0SDcbDEZAa2uPSFO6ItgM0XZIDHGxZExHXi82DJIQqi4GrfHwioy+/FLOrJWkqwAU0BtiEBGEBnKSR7kMxPxkG/D8Pao9t8v81jcGmem5l49v20t8JrHyJ0trC7Ps6BAwf2iV4lyygFLhf8p483wZzDizis4h/EwmPXf+59wge+N97LAcY8tUnSOI7wnFJ6GwYA7tndjfjrlM6ezQgXoGTpNBgMOZ+TDAAdZJHSQpHu19wf3RQPQLjdep3ke6B5J1T7T4YA94+3wUMClhMofgiCKwb6/mwY3BXXQbuOBErJ7HRKlpHlozsB0vxHMuiejgJOFYWizodD7jk5LSUA55yjo338CtVR18Iuq4rz8IfZJQ76Pej3Tui3p5b3m2gA5CXseTBSdBcAJNKVczZwsHRKJHzmcEiM7gme/dKNbjX4w//zXLyfg71+O7lzOm3KSOuft7DXS/apfgw/cz2sTUuGjW0iJtCnc4Buekk6JMlrtzlJX5/PuEITDwCAEHDO4zmPp9OpM49PHmCArVxO4xr9BQ98DntQRr4B1GUDzeiul2e6gPO+G2j7OQDvYh+sO7mPqPoKPloFuiEGmnM2MwpWZC6SlMvdYVVzjuSEZMFBHIoTNsuxPB3vu0peFx3HBIAowcKabtofP/1WbPNYG9gZILNU8934I8v097FMqKWe2+f+QytLyNoNeOlTEshp89sjLT0DB/0e9PsAqJas8xKHMXO2TwQrmVniFPzcy1Xxabdb4YEHoHiZtuTsxY4QuCSOT9pvU4wOwf0ymmDdvHzr+A5s7SBldgkAqZKw7l+0NSzgvU9ypiofOLBvLOSxddugSwJbnNMrxk3Gu+Hi/4wCHB8SMJgRpVK7mY3j6FCiRfoimp0sctNcOeezl8iNvUlRi3pdgTV/fDn0jN6ifIulCKF9zACapufum1vLDwG3igy1P7XPC19xX2jn0nXvOeqXwUG/d8JBvwuJuZiAhT6xt4U6NwWYrQrGnKjbRSISCjwcNj8R6QJf2vxe0qU+3kcuzAex2EN7D9V0QqXQhe8XbTsmw+dLMj9kc1lkC+JQfQ+8AhbeCM0z/hZr+B0OZoBVOm2lN3ihq8UncLUCjE4IUAjoEoCU0ugZGWaGbqBjdgB0jfLsuRUv3SfP7nWPb7OvtAdp5VhICkvGeic0LQ5b3PznYL2cGo30OzG7cnFrpa4Pgupt0kfcTuCg35vjoN+1uVoSMK20RsgDU7Yc4c19SEIfshX0OxWw+dH0+nOxUL3+ePKlc/qUh9498m24303Q74/9ftvIOT7YFjXGqSml6WdGAMz5LN3bJrje0I/3e+C1oKnmxSTo9gapNX9rp0X3hEQTS92T5hm+ydiuV4CNLiGs4GaSjHDJklk2SaoR2w5NCrCQ5S4XZGbYijN5riV80zLxDdSJRfzArULnr8JUM8b9p/Ht0vu6TyOksZZPx0qGdh/ZtZwJhUdS1NFZI2/N53dS/z6Ig37vh59Mv+8EaLVq7eiU5JSSRuXevNWZruNX+UL51gM/AT0Bzzwk8+XQEz7eWYfojKEuksLSM3nEGPQILho5/K2WMiqD9Ug17PJ+E0hysERSrZgr4e72sDicAwdeCps6baO7ug9OjQNdy5jg+D5ZMrMEOpFAMcpnVLn6y/LdZzzAJKHyDOh2+pSSA5LGcZRK45b2XJsS6q7Q2+y/mXTCrlNovLtHeh7aq08pjeNPTHvrnbrxFpoCjDlRLHxNTQ1uf+WiSuHoldC+26K9Fgf93gk/mX41D3TsP7e6a31R6Gax6q0V7FqYRORzm9JvtUwPfBi9B6P3jPRrZvFhE61KYq9L6/VTP+4Bdj3JkiV17c0394tyfuc2VmMIrmYCe/BT9FL3gQO7BbuA557u0GUCNza4dl3E+QMtKkyZJKiUobuddPcZBRhhAIMYozcjmaUI2cw5ZzmAENTEYiBHs2UCuEX1vNui79aYc17vKy+KdfBPMUs8in/OnJ/2lWI9L4w2+ZMa06En6dSFZjXTEkLabldDqYPlwDBY8BGXl7IqAH5eaOVBvw8YwA+k3043mX8JuHvOU+3x+JOBBoJmNMVuCGC+5TcV5VCAvz3ekXPi9ffrh2Qrcbc+efMi53lIobvbww1kr4K2BaeU5F3IRhXENXdDJdDAPnyjaMDxUl1wlQ37bljvX4fqe+C10Iu+vWm4j2Rc/ySlZGZwWVRFF0L5hTv96QpwKQrqjXFHmpOZhXm7N4o3ab7xkRuWsb4VYsajisl3Lc75LNY52YF+Hu9ukm6fwImVHXeSoZUX7GAdOtE+J8CG1OzQPzmu8qDf++En02/b4No+3Zul2pdrO0X8JPp495f6fuEJBz6BsinUxlptX7Arl8bpdEKn/ZIsdYPvMOZvgDbVrins2WprlsWZ/Qml6s28dOUDGPKm9Q1HDvCBl0Kjo3wemyTcaCoUxraTtg3UzLiS5W5LdBcV4DVTqIQ3xWG2li1xdPdxHEMKj06/zcLdnrNZ3bAqQ/9cwo6RtAbF7h6mwacM5uYIq+fkpjB7WBEdzJfs6XQ65zHm2eYNQl4avaEnvokFnwyDMSWrFh8P2aQajrtn7/KO3r/XbMbcExk3CM9nEKBFjlOXIdbI9quPuksc9Hs//AT6vYR+V1qoviSlEoMaxpcwBIfpum2F7VL91o6mCf88m8KPRe/utw5lXbkkXasBT/3gO11a0jiOAMRlu4HvTa2XsNia+60wcpHCbdN7g1NKpzT0xN6uoBL9kSWt+64/5lkOPBdrzegj5z/LhP0U9KbhNl3DMISLorlLUaMw4oQQddpmal20lJFBdznnW5HdRQX4j14UsvT/XXzJ+EPF+wbv/ucHYd8PVdh69jgAzE2n3+alX3LbDlbkkjvZdxYCeugkk+Q9f+PfZrZ/Gg76fRYuCTq977ftlTYv9byenG8/XQfWYFe1gXOX79cFYrq8u0bT00osjKbog58cetAevymuiROpspbkaLFU7NBOa9cpDcx+mD5zoMe1r/79iNfvR5hrebjYlboiWD3d9U6a2T7Lmd3w5kzsogK8tlj0qnzffh3uqoY0DxE8grUJRA5MZ3dkPTbPcH/xA3dCL5A9l2ebGWv0US8WPHVQN0MvZ5Qk/nQbQecdSGIYs0GjjQYAzReKY59+fRz0+3QstqrWnHD2akjUsC62rdqoLsQLc0/gge8NygkSJS/XjClFNdRQtABEXqlAkNetDRFCjp+QDGU31ukw2Di6jy4JxpC53N3sk1lv3wBNCnd3G07tS1Qf1Pl8tiHBSNDMZBRAn9y/Tngk9ucsln5IBw78EZcUnLa0vrEGdInuSjZ+V0yOXapg+zWMIFVrtmfo68WfGy5yw02ZJhzRqNt/E31U/dSD2djUAIZslCRRs2jMdv43fus7xB5E1bWNB/sY2BfRP4JqzEbiTPu992oPITti6EqtnZUN69Xn+SdjD6/vu9LvH9GIt2xhFxzCbSNfX4FbOYSbbcwOfBuQG6VQb7UpUBu5vr0TOITLUjzmp1pC+6lusnhmSSrprdVrk7EUpVyLActrVr9D0A+dzwOYF33oP3yQnH+O4tPmJ7TccRwb3QVZzYrMddJFMx+DpDDKlfPZlyVyvogPmQP7gJDENCnr8VdNGm/owD5bH0kSXTkYSbOYr5zMYb/cV2msA7fGJdHw8SO5B5plp4k7gFBr1rWHfMf0c61xiwoXwnTlJBLMxbmgn6CcHHgYvjf9/hELNRhzq667D2bRidXMOFeVJ4c5euXnp0zdDwfJYRhiS3B3rLaAz3W27NPNanHiKZtuGIacs8axhS38FLm7Q9uR+y9zzq0sbTtnGIbRswPJGN5dklHzOXy/kdjvKM6bLKUfw/oObKL3Ar5z2uKcTfvXd9pGe6LrnzHnnEBLKTK66BposDSOo9whmCVTqW3gofwSo/vo2b00GLrhRP1BAW5672S51NT6jN0RYY8kgsXn+swJBkJUZDOP8qoBl7rzP9k2+WDsZJIXw9jJqL6IhSGwGfvl42NMxf0AzMxk0Tmp0dfPMTp+V+yEUr4l/X4QzfjbGthgvtm3eFQzi07fi0JEQDFXlS9/0uz9QPTu37JItmrDfJ2IpjXWrckSE2S2KEr6c7Bp/2WtptPrISRtSPid2zn9hzi/+H5rwLncD/r9mdgk2GudDd9V+30P2Z2+0I1TSo1BsavKbmajZ3nJum8VDW6I90Kgl6pvvCFBrYuvyqG9eAqCSKaakQKBAsHQ5k9iuILplORUA7rt4cBt0d4mgB3O8DdQz/pHYNfWApgJyvHNDR+2tx8tBgDAfVYr+Kcw2W+Hg373gLYhkrRi+J2Sl+KcPgAkvEO9T6/sdK6f3LHsR0E11c0qR9ZKuWIXwvNFNBW3V7xnlWaOLaBEYZT67cMwtNdhrbI9mSVB7h6mriidpVq9JtfA6ac9w4F9YO352Dyt5/YLzn8PsfDpuGQgsNqnLeiusamIVSlGOinIDVD2PHpxmt6jC+NFAo4O4EOUpI7m7C5l33ywHpyinEWVnV6SgY0dB8wsxIjg2baD+OfvaiA1NIltd/hOWlmj58S6trun++OTvh//RoFuDItS/Z+QEbYmOjoeOkT6cbeeu7v7bo77xB5mZnY00IqMPL3rx8PKAGZjI/n0+fnw8QoUX64AeBwNNMNg6VQq2026btVklLu6u7HZDZbM7G04DcNwSsMpDW37I0n59SPcw0ze+BgzvIeR3PzYVkhrUd6k5H5HaNFwn8AymnpRsK36MCSt1tv3PqLNQw90TuA+fCOE3t7lO47j79+/f//+PdYwcoZu3C6yTb1Xc5sDr4Xegtn4fHD4zeNfp7e3t7e/Tm+n0yk+vw2n0+mUaGb24GIxj8SM7lwyjlrSXeew8Zzz+Xz++/z7169ff//99ziOOWe4s8sQvuH8DDbPYmr3+Mfb4IABUWZfinrOQNeMY5LXt0JrSoawKSo1tBMoEEiJMnPHOUvyLEGg2bW9Pi5xmrRaTFVG8TZyJ1SLBlFRsFFSE0rolOk9i87C/IP9rd14vwY3uJVyk9uJZw+zPvSLDfubsc+hiBoQgUQkyijVxTYVK/nj6pY5EevaQn6KFSir7qTyokzuBEjRUX9CgpKi3KikMEdFylk0LXOBDmEPx0aGPawGkfYTC2DTgjNRt0A5ohCBnHKWKnzvva81/e5qfiJuBlQQr8GlLGyHyTyIfkkoUy5kAqA3Tvn0ufrzcW5jWvRXWPhyCblAiYZTMiQbOMhEF+SJVve0QtwEopCvI6OadMufCGUXEdubWfm/E79//5bkOQvZOLTBXCowy6fP4deOLqXEfB4tRXq0//X2F00my8i//j7Hma4xDW85Z8Pzx/yVoxGnxBRLobxSb32z1K/JyvA+R5RtIcetElHjRQTCEin8ltdgoefPzGPoHZymtJ8lmJGAfBx/A4OZkZDcDBTcs+eq4VjwAs/yyLhO9U25DKAIF0R53BdoYmlt6mzTa/6uPpZvCik34xF8MnyEDbSv4RSJnwZ3hd40O4YORYCo3xMODIM5QGmMrmVRpE1CmoJz4/phdtlbznmvf60lkCoVT3K+lGHKyr/zb6RoKiH3bMnebDjnPObR3UXYQBqVkcjIrl2och8cw/uYhUCH6jt0b3RxvDnidllClMmWCN6kyPVarSpe6KKUhFoyIfzP+sCTbvr0dqvF2Y7H9i1BsjApF68vahLoF6FCu4htvLilHIDDRYi2oFEVowchIxLggFQWKsUc3Ru0gyMAh2FrefbZMShnFgU+WsPVY2GOgIkWekz5DNOWtFFpVtikX2pH8yMr2SMJ3Vv+CJe6CxygqGkH38UsXXGctjWgk0hbWareJMdYQ6lGPsMAmEzT/H/0LYQcbOvFKCQ7SYJyNE4iCdg7FxZ9P+vzE8dYvaKj2vU2j6ozHK9sDyP/HP16WSdPIdiJ0QEiU1hiY7XvYX4eQO/NAroUmh1S2U7DHBERHXK5yz2+LD8pYjygeTkPKywR6BRbqyfXUyqjKacfeCWwa2zJqiJx3s07VZ9kuqA3/fkYelD1iC5CQXRlavEO0R7IUWez+oFDQyktjnJ29yxHiHZOwhp93bD7UcNSAQ5v/gOmu73UVoivmUW/iJny0NkMSn5y/TLk3/bXq0b+zvd7W6nr0T53hJuBXreNang6SmjHZx8o3ESV2h1ANgBFZBS9mpkFEBpWFqPYdCEOIqWsYnyMRW+oW/EejsBynnousLT5qdpZBQcSGNcRKdCRWKQaOZKQfPMddN9N9XjrpkOm/cwPAIRfAcmRABOEz6+sG8BlWQovObv5h7SHGfvIelug/TUyBjoGRTOzoQSnKRZOuOxuJ5GklFwCPecc+UJkijAO377DjtbnJ46CiORg0/KFE0AXBKm+Ioc7BocFhe5h5J+jX8IdKSxYDwaL9zOWrRwg4eIeZuZx9F6JaMv6JAMEcxmRSCNgtMycNdYid0Uh6X41wYQEt55UlwGD7L40AIIfTuAXQvP9ouwHU0Uk1j44X0Efdctivi9Be5IcszDJvSkXH8c08ulBWdr/1vhn1M23jwa/NwZ0W37fp+4BCslCByYp99s++OY8tqe7So7ZnJD+CvtcnZL6RlvPHs6UO3HzaP6nI+Jt+/JXnwCrCEj5zGElqwHDBhT/Z/vzhnMJCAuagRlan9B7pZ549L6Px8azbMgvCRTCE6eIrjEBRPHNCT6/S7nA9kqrga/tXjND/pOPgEsaaAk0gX4PG+gVcMLd6RIQnlGLjaPOPF7huIapC9YSoGoLHjiEkDNfSMRy0X4aMiZGjQ1koFSZjbDVd1njHmbyE0cJpkKwzbQfk1mKGrCcaZPdbhcj/8QxVLDyvA8H61qt/6KT0C5m5nHrzdj+udgCNK+mMdVv79aekZLcZ4JiJ/I5XXH9tblKxf7AWVz0of2+FIpyVDvWNu9g0dnmtdy/iLhytO+OQFW+rPt3NuYLTrhw/EY5jH4Om2qwmcF2W11mmPz7FTe57h/R51yVJuOf8gBfssE0gWbxXKyyTp8c8pFxxorv50cV5cp71ege+Vr/iG9f/vTrs11V3xAHg88aIs9eZkUNjk3dEzJb3Z0yrxNNiBkYAY9NeIfMNK3WQox+wZSKDw6oITRl4+GUesk0RUaPCecE79sg0wq3aTfapN+8p8VpACQzN4obtoINXCtfXaVSJ4WGlsMJXUIpuw+vC6tx0CTAqGuCREtwaSql3rbkj7yLj8BzraRFN+aM7KSkdcb7Z3bHPSJW8kgUVmas9lnIeC4nwQkR+Vbz/BRYVe/54bd3Q/plkZ+rAEMfkIE79BLZMUL3XEiJE88HKDIKLMhIGpGQhdHlRqMoCZp4L7vYLpK5JdFML8KrMhwar2sSNZl8uCy0HtgfXARYa/f2vkqszKCfkP/X6lzZDgwlGbjCdhkp+c5SlqYUtDZslSjECBlTU3RnsX6KH0ySHlu1/HqFD47hj5hlWj/YVdi79ePutmEs+DxIGmcRC0CEYal0M+9H8q5i0PvG209UI9fVYW8KBurcPnsUBbOF/o3QeNPMfPWZZ+zdfFaV3ppEpJIxmwrVO1mrQAdkk6hstAiZjvA3o9xL4HApWbSD4xqVVZI0YyPfUAmyXIKXchQqcakCWUMsQcABR9HKVGOXeIF+Jw4sIXL3djEzMqeTitGDH3t31+KaFSpYjqrjIq06N8rduYcZ+/z81C24+H6jjLvBPbP7FVspjluwLxFyrztVZEOZ5JJvvJj4Yg9z+KVjdYjFN2jOsfLZ+zf1wTW/16PTw2p+k9WyjXcuzMoAi/QjiB7WnGfPzMOONdYv5qMpsdWfUZtvRv4vCRolpNQLwwvFYxLWswyWiiA5OYHLHi2CZTeXzGMr9z9FdhzYG0j2dfubaNfWwddF2YUVHtXfJk2Zoa8lMJdhV7prg7eUUOkOmOIlY9sdhmF63jDeKeahCoW3m/PA0MZX+hKZ4SGKXH/95gQ2IOevsoewEwxpqKaUWUiqpSR3ACrVrf98OwMTLdlEAEAkLMmMovVq8N4M1usZwFM9gb2x5/th8lZWZXhtr3ofapsoEOITwFpKxVH6hbQt1scBuaaikFMOkiSjyeiWsiAjSScQJ+/muF6FmQBwshSCCczC+V3dcEnuYkdxZd4sh05GZlqmgVaJ1JgSUiqXqmFLkmAqIW5NDw5P8w5mJnzWZlBKbgkkZDXiW9UgsDrek6wFjGAGYUYKNEmgkYpQw6fP2J+PF2BDkWxK39SUZCY5DGsT8w35p4wgMwBSRh/gOecqH2zFVe5gDr9wlFHkaJHdayCMRhNkos51VWcYzLKMOxjzV+hX8OBF+CBuS78shQKD+WfmTNsPf3vAUXKSbiSZpv157hIQigaMsDmTltp7YI3VRBc01LYegdPL1YxZONwUfYQd7uxisw+8Cppm1LsGGVxptQV8QrJl1ee6b4SqAEfs/SsKzOxU394BmdJM7yvbXPzbLJHRtHyir2JAWuJWfHKYOWDjNT9KAe7fa/MAR5fkr+N0OsVl459tQi0Vzueuj7ibDZxNTr1U/1LLBhNq8E1Gfzv049wDIe1hDHeC/hRH8DHMdtP4BMLkoFMAYSoSVV7cTTb7p1Eub7Gzisy7dos9HC/iEv0Gf+y/eR9N3PkI/Y5yTQN7/vwoZoCJpJgg/bHq7HtOzguIVfGRIwCXLoz20vd7O27PT2+0KoZgIIMRGTnN1U3ZVwQntMuSifRJLFhRd28de9mj6luweKjFUWHH0dPHeYNjrJV2/Ah9fQIfpd+wzD57Th57nPg/yVSrGGFhw/JqEmX5vJB+wygWG0fzdrh7aRCKDLBptqy7cJIBluQgFQUad+YdOfBH9NWeMY9a7T98cV9YXEeSJXuim+rrYOfg7SuHRVkTYEO06/WUJpildApaa6QXpbP8RilXQ2Qht0RkdzdMjdrvh8l103n/U0o5K8vbFKiaQy6tMM5TWswsDSmlVEoANq5U/o+cHUXZFrI3KdqSuXu7UeF3EKnTKZFwH9uQLJwD002nAZzzJME8EiHBAy12ongz/np7689ZLL67jmcyOpiRzDn/+v27pm3OKyu+vlYsKaVk3aOV2b5yprNkNvh5HAazZON4pomQMxMuOODFLSUTIm2prL++oVD2bA6DvTGNkEtADiXpNg98I0QmMzCVEBuGIaVUO4s35lAkmjGfo3M8wVHKnlljVqGczNwz4cmgSrBDSkMi4J4dhc+WKxc+azAyA3SMOYfi0bPjx2xFC4MgALr++c9/gm5yB4xwwmI2pPjcH+On1943ovIWR2SH0YQMGSgjsv8ez+YlCKFEN5Wh7y3w5Xpkp2TkyVKioda2SVwU3S6L41a3lSujbf/Rdzg6IilFzOREAuXjherQrwES8jEZpGygmVF5SAOAccyDlSIRNMrHHfKrq2DCaRiSWQIzRBeM8TmBa7r7HDbply6vdQHpkiF2iyT49Tay/YNdbGpR9SVkDZYsYZ6/5lJYtWptyDlBbdGX6vbEZOaOEMOlPOo3SYBGAmYyOAEOdopgRrOBUJYru+ieuNmc71XQ5jmk5SgKFZ/7+qaLD6+LufIGNMsKgMWWXePeP4MwwdTftik9kRRGzyHb71AfbhSHWt+nxPCktHA8xAmp9SzpNKiF/t9sVwByzo2i2xqTdD6f8enZ7jCsv9rhLP8RzWDwxxq8rAk5kwuoszcsfps+Jtexi6hJ6PqGPXYml8vIrJXX7r9/DNb3enVW+BiYGanwc+acJbiYmU0OuHMEEP4TAyD2PKCfYMooU2zJMCpkr/29Bc/VPMVEGsxk3JZBAMBo4SSTlKK5iBA/MZrJooWMyeKakugR/A0rjqbllY3F7BVNyIvGI6DP/nrgtEliCTypDdKBDx4/V0RnfR3ASg/WSLAWs2Sy3kX+reAiaDQWERaxl1+bwnAtmFKqa68MgCSZPQPwoFzU0iAA8Nrz3xuVoKhMUCY8WFa8CGoyPz15xF8AhcKsrGRW0KM4Ae9Nvx68Ky5IRqoHndRuyoHcFqp16VR4tUUdd5s2iMm/NGvwu8KW1FZKtdUrO12mDHO408trVZZEGmQ5n909zJZFg0pGqznYrwyWWNaUUhqGIbbIcRyfPa67oJfhn8KLJj1ll8xwoVww9Kt5n+S54+26R+j9o70uEx7K3Oq/frbsztDPLx6us60RM/iJN80arJ8+9ghrdRdbgdnRerQPUlIN5JpOA8Kr7GbK3qcEP3E+w5kGbVRdfphlrrf9VLvA65lXHginIJfZAGF0mA2W4GK2ARjFEyJKEJaVKBvk1tW0bP91OWQq1fQAkLVWx65gtQxBmJOj3NP2qRHBISctxJ34nyQ5BYNFv83I/I1ntkQOHEJV7isKzsgcBCGTEjSeWSQXAJ1cdX9MAxMIJkspJWPiVaR6I4ZTevQBaAU/Mj2zda/5ZojwyJDq2MVuUPft4KrsZb8rMQ+EktFyjVUt9XuCqMuQ7jqi+6LXUkygg17qQXtpcB7KMKczXxnG08AhspwXcW3buBGziQp1rDnA8Q3Yqkh8NzRPVJO7omjLKRUfT8wF6i5QMCeodxxKnl197KvCg5yQEpC9SFlhoKXetQAAIABJREFUbEasYzvZYCZCUvZ89uzZ39LbxXu8AhZLd6E+fD8URa6qAAvclpR6H7JpMoQbKN3A23k/VM/tpPq2flFAaSpW0D1FWOL6cJS1bc7gNdZsSpcmQVrO2UeXxBQKmSQnN3y672DiDlf97H7oTd3YklYXaH+aCjX/yVKieQbg4jqb/9wc5wYvAE5pOGNsTuBHojfGxNOllPjlomJfh2r4/rMH8hLwnEezISrBmplLcsizU6VGdFFlSSkjT0ayThG22HprgGU7Z29GxJxL3H6TXfwy7cR+sLYrqWL9pXf91XoBtKffiXA4ZRA8Zbm2SUA1CuQ8AlN/p/ePcY1rb7p5tUQr1zTKlVWNerd94N0g1xizfschiTtXdRiGpC4ESUQSWohXg0rFnW+CBb3OrFGuPv7j1Vdc1DQZlBxq9NV/XtHv1bjIDYyt6nZkt46eX30+L2Hht2jS4IyNd/m9s/M/oAC32hPtFgBIZDLLHNnllFNeCjFqdKcLY1ZsKzylN/uH/x5f2gPfb52xSz7Mm/IUNM68+PJhj9xSU+8di/Q5LOQo64AupfnrNyres7pBNyoOuQSddHcVpirQWAmIXx/0J/A5e1IiB4u6sbOcvfWm4s0Y0d2kPXX/qlQj03B5xS9l7uIJtqcowJfQK8aLD4/BoQB/HOltyHBSLiQaJT//sqSUut2Z0ZnQRcgmk37NIpv4EeF0J73VZNldFcokRO5UkiWZiX/SszwaxVFCFnLQmg0DBipBknyURgCiD5YsedS2bxPIlarZSUXWkcs8GOSekGRmgMxKehXpZoo0tXWO3+axPtx1aC1o+iMpl0rkC+U5y7LgthtT6efQOmwvYWBCBPTFF3VJ3Hc8o/9Cv9cIiLbdA8r3HdPmnkzVn0MkQJbQFABJNC89uuVIxY1GTme+NpKQxKRSAqlWtaa0prvPYZN+Lcx5QK5UDDoo241YcnNEUiFL05riCinO2HjoBMwV4E2jw6YanH2sd+n4g+yffHMlJzPCRwzE/WQgaclOKQtZPjqz+4m8O0+5J/ryQN/e/Rt4lsFCKk26SiDxPE94J6DQ9zpqSb/FJzxf6c27+ZGn6OtjVw8zCHhnLx6GIeeMnKMg3bR5fxhFAe6H+EcP6l1hZvCMKhF+ZCSLTOv3wTkDalLFwi64mJMPDl4SiaYAP1jlW0vzOefUZSM/y1anWsbt8bd+OcQ8OSFpMBBuOv8P//bPf/37fyXPhkw5FfmZgwNjctWeh9QkSoVpNjve8nkUABcN8LQzK0RY1k1mbiXxrzNgrZHdh6q7ppprACAhmdek95xTLSb/djpFXnGjjqIwd1aq/l7eFRvsDUYP2ObZVfynmJCSktk1fS+b+vvxPpnbwrNLNGXAhugenc8Sh9dPYPMSYLZ83pROJqRxiJY8pTFPKQF2xz6lZgY42M08DMAv/xXmGClUGHca4LYz+r0WMf+pZjkZwvCVAFjOVu2kJPM+DXZXYuCQmAzDoCxFze9CX5t0x2v73F6gXyDSjm1QbndM+Zzyt83VbIw9MRlKIQnWPA50UhCaSL12kFxg8607yyyGU6YRcnjJfBsdcgBKp2H41688Ou30j3T6R5STN5A6b9/gRbCQ4r69AsxITpkLAA8QZdkF8+95knulo/WLaoNX1Y0/fX3WyZ+cyV1G8cJz+RkFuM3vwvn5Kh5gMxtq9iD6ubgwE/3V20fOq2eZWWKUILo4D5doIFjkIpDyKZPp7uM4St7HJDwM/Ypq6gTtGxugbwCH+ZgFk1PyZDKMp3T+n/7H//w//6//S8K/En4ljSY3gRpEZCKb9wJ9tGFgiqId5hpzMBCalIed5WC3Kn+L7y/Rrw0bbZAW+8RMd83emyTbCY11Lja2dBoW4RtrJfmu6Jk7yZzzZR/PZR/SlxWzZKdQ/0IVzH4un78HVs/rY1QHMimTyQwS3Ucw3VUBVvZQVMJEpaKu1JBLmZA96JoJ8JeOn8SC4lzNb4C+ToRx4+TXRM45pRTvUU6aiFTivO+5rhZGHJrkdI2LUN5vg55j97Jc31bzokzYfX/JN7XeEQJvpxRlpQWTKNgIyxxGvf1v/+X/+t//y//z3/79X2fPxtOANxvS5CV+TSzm4RtQ6PsIUWEtPD8skZ7zGOPdBkKvI5/XUp1qFN77FbNn9LgyuKhdqmKKEtfVjUivyxi+N2zVpfF9pyWFZMsmn9Xmd+EnZGthZEICQRhYCnHE92bK8sthz5M1Yq6xJyBLIBNN/FRTzi+gH0/TvSUfnuH7ndlsortPDPI7c8sZPvekhhMSkyX9/gXA8zgo/6d/+zcrDX2dyAYn3VC29uQzFSg4RD47zQALPx5NcBMy+VAt5o9NPhJnK3biaxfO1+/4g0UbkUl5cDa/R0JTJBxSKw2NmtHgmtrILXIc/Pwrmg2RIqee7I/e5uvwBuCDCjCnPrHdFT52jH112l0FP/8KVZAGwMxHMk2Rqy8PQ4Sg1uPJEllXIGgyd0fONqSrZvLaIwnQi1JU2tZkAMq/yzhjNZrgRhN312keVxloGoFLmvKrS75S3wekr+p5vQFoN0iEIYNwd5eXWsQ3X0Ur+pUiZrIadACRQoa/tgfyEkJRidXiZwhOJs5L4hSxe2XQ7NfNR8iLVqUpup/PoEcHA8GkBCboLdHG33//+vvf5faPv/45ys5j1lms7ORFsdBwnj2cu6Pf+u8hRV9K/n+VuW3zs+lJbU/x6Xnrlf/NP5Fs0Rnufq11aTillMhSRQtFTnywt3ABA1slWFVlNSY6dRtnTPfb26md2V/konXBlWhG5Jw9+2CpVEvuVWbJzAYgQpY63gp0k7P5dgdDlhMYjGkwjK1fOt8Z1dfRFuLMXBT5PyTMYIZOwZgt0w9YQC/h0m/PWaRJGsecs8MScLPu1TuEmeWcSQNMTC5HRPrhiqhRk6U0/P79O8P/envTePbs/91//5//27/8N/8T8U/DbyIbnfJIGSRlmAXBBul4DSUWMmCUyAT7TGviKzGz+bSiLHBNntjaZLUUKVGlPXbW8YuDjDjppOh7rRB0lElSCamEjLIow1PTxf6Cm+xtunVRSCCT5N2otqjjvqzSx3NKNBukTKeQiWQpukfNfD5f6CSKkMn7+oNMCfAMuo9hQCnmgD1qGddiFXQKz1kpcUg1MD4cNQ+wD7O+RxT6LUHCQ8o5Z4GU2QC4Rw7pneef8j+f1OFkyTXGaqyl01J4OzdD9JWI6hdl4jiOsfkG4p+K5J2UANC1HTrOIe7SPJxEAjDWRNB+kO9Fcl05oZfmJ24RDC1Mz8Ufkn3iiHd7d2v6BU3KTksDyZTzuZgX7L7c//5Yzn8weKebWWy4TMXHHsUUulO74xdRNlnnSQ4JllLKYnaObuDgdvqd/u1s/zgnkAYSBvH1G6Z7RptIkXIKkAySXCEqo6YZaoNhvc9fnrW9LETiRs6NO31Qv/gENi8l5HCfSYiEKEiu3Zn5pPw2nFIyEoSzVBxohriKJkGtrrB+nn5C1j04mvYVtwdgpKUE9185X/ta9uUBfgBUKdPA4rDvYqfjr6WQN+mSzbtgfwRWjyGbe7npczjfLEx09eX90GJN3T1KUdZaHN8Tm1Pq19f2VPbBSiOWUS75//cfv8//73/9P/7P/xvMlKP6fkMUI0qRj+ZrbZ6W7C73HPYXlDr+Ej9ST/gLR5+U3s4DzBruGPFirAasf7795fSPF3li1cDCmOJchjygM1G5ewI3r5+qynjpmCF6vALmPqa6e7q4G3Cv+QSQEtPARCPpXaXiCKLcVHk/MpOL385J07xsLnL3PM/er8T8qsdeAOtpM6V0GoZSLM0VAaQfn8kbHiMzMec8jqO7izBQbAbvdNf1dklA3eRvLIJjNgHJBhqSBWUNtM2nO5+zgPF8jqSj7P7X21vjTuffv2kGKbu/nU4ATqcTsEG/yN4olK747ER0DsFcB343gsM+MT89Ry20o2hqzOwen0/DUDOzPsrfrj0u6LdS8US/QKjFGnOOYOD78//n0C+AoN8IcQr6zdAf+fwXj6VmI2EcJP4efXR3WBr+8evsYzZY+p2Vlc1OwzCM+Xt64F8dTfjvGcUD3LAlFvXet7kbPth09gFokYO6ZkR7VIDfUc969ya3QvOvungJ5+hKRjVnr5lFwYpN7fePsRDN0WpmfHb9pxZL9uCwir6SUPNOv0pox7XoDQ2zCPmrrkIfs6eUQGQfYUr2lyP/+3/8nYbEUhKYUpo4J4foo+lAHMuVLJ01Zh/DSxICRJYPw/BAUb7zS1iNbY6KpIq8EfyNVAq5fOAIwGyIKY5igKr5DpKy55yzmQ0cSloIxsGszUx/pLR5l8EsS4SiEvIoz55HzymVSJP+6RruKODKk6fBEntjqECozckCV81nWS3zbcMFMsV85nkjcbNtxeZVjou3Nn0mspJF/jwlMBnLSvjwfN7kCECEnYbMcRxHJxJKRahHrLfr4HDRmEimZCmFNdmBMeftpxvMod/jL5pRUMIw/CNSGRw6j3+LIJDNLf1FqvVDXlzndEpBxZI859Ed9NGdw7Kz4x83388onJeVNDdRsCFZGpD4O+fN8d/kuDkexF9tCD+MCLmfNWZlSSmlp9PgPejXfcwaBg6xxUz0e4HP32b+5QaPgBE3yjFqHF2jMP7Ow+kfp7fT6HAHzVwp/x7NrjeKvzIWYYmoyt7Oa/k9Xlq+NIz4sNvMoxb5jOcFxq9zUT+OPSrAa2wqnJ9eoyqiM4wGIIejI0cdP2cpPIOorbUILf64CteCKCI49hPjvBXU2rXNx3bXm8Yri1l9/bCrK/BVVsXSWc/lJCwlIGWjJEVcbvX6AhDNdYoovoVnkkiZ+cxzphIoY/hJxgjvxC0z0DaPi1moqZVUUeORLCUCNgAlTPwjx1K92RkhlzKXMyNT/I3fwAnEG96SETIwn8nN68Rr2vi+VocuVA/5OI7jeG4zO3+6jqjucISn6DPJITjJxIU0jXmNj89ne4p4vmkVyc6W5XmEgwg/JIASsn6n533gmpxLof6XnRBFLFXYY4T6XVondzoWBQYAbMR41hlVJUbIFi1J8S7rrdzrwx5RN4LkYIlmDgMYFY7Ntj2Nscn+EpC9xGH4mxFRru9vf2sFoqi/zIqRen2dc/ZQm0WIns3ds5tc1aP7AT/51TNZYYJvHWPsCSSSKyWwT4O5x7E8BWf8X4wb12La8rNGh0s6P4r/P5h+T8M/dDppGFS76D2Afik3OFm9C4kJOWM0xz/eksPOo4/ZyWTDQNl4dltujN8cu9Xc3sfTXTVFSamfnziS97FWgB+D9QuqGSjXXWd3CnDvPet5xSIyoemW116/vKp6sVy7npzziAgiknK12n66ZGIbbX0r/sQ13BRgRDj3aihXxQx8/KbNF9q+uf1tdoZ45EXS+FWwYXBkQTK5pPFsZmSK8FfvylwBEGys/+o9SACkPObx/2fv7UKl67b0oOcZc1Xt9+/7zjl9zunuaJNOE2ITiMagJrRJawJCEpSQKARaVLDvFJMI3noRBDFeCRJIQAJiSLwVTaQvgrkQ8SKJSlQS/MMoSZTu9vx8P+/etdYcjxdjrlmzVlXtd1ftqtpV+1sPL+utvWrVWnPONcec439kecTMEQbIodRdKAvojpc9hgMoon/NkqVeOkwjHusDIhIYWcies7LymNhKGPKQYGaP+ufs+6q6QgEkszCAmUbbSDFVW3zmTTINQ6YrZU+godQDkE7sesRG9Cp+BMRK7nJVSz5kZrCbzyI7igwt0gqWELF663iVy7NBdftOKWW5K1VOqPBDRxlqD4J2ufha5caaI4Bw/IWZzERmiVTxsNjleWHdwt19ofHeNpSSrXRPuUuAIRGQLzoYh4in3b5PSorof7JU2U0ZkUhvV/t3Ho8fohC8m2NEclOAETQkc5pIZD+rxW/tFMINKgZi6iqHeh8SIYRG9baxm34FgVkoXuhxDXloVtiDQCTLyUCwEKmQHDYg54fMJGOyhUkcciZ9sUx4pWWo9qKpXrvBFUfKyZdr1wTb6/yEfX1ZXFVjWrQZ119EZVD36CpqHfTzqxOAn4jGBfqwDrfG5MHXqE7CMdVyzjZej61X+7iTdn1ENc2bWc4vNn1bkexirh0txdYBuQavknOjtR8eA7oiR1RK8uKE2nXJkgFocxCFhSVUQA4EX1O5m5zdLIwh48Sm7FK1qffN9RiUYAhJZniX7CBetNBXGl2DgusURBkt/KsEOWQQyqgdiUjjllIiuRqG2qsNQ8Qz7v8UpKYH44q3Xn9OGDvEMStU3Fakubm5kRjDjwXosrXNT4597265LBGbkmqttgsLwG2Gkz5H2GaWhHHRLt6d58S+u+9+69TSOqnEFAztmj8qpyfHcb/NIZ5Jcs8lQ6Q0OR+ZpLDrPjlnlnzZZat1FAvzxGzy+Bs8/u1u6gM07nEmkwU1SZ67lOyci0SspRrDIxoqppk5FH78NXziMuv/+bCXfrsuePHI24JLMRvJOgAUHJnkmNHR4zyMndngriFLIJJ9k/yfW7Sv4zplucBOb9OXwg25QKvZNF+kGSgxrbcvAD9xBIssd+Bot++pbMVyFXUpHEK4EkmDe5YWKW1Lv59cW6sgXQX1l/KCri2pGRE9NPpnfm4VgC3Kv48C8NVS8vMRs7HVNRxxk5gn8WOyY0qRMWoojMt69Ex0OHzAVmwUAB96VFY+BE5AI3NwbvierpuiDTRTl5gSc14dtGZFkpuYSNndc9bolVtnVvhIk6Zsi+6w/lYDG4v3oEwktOCaftvendsgV/0oXGbogBSyQvl2q+X+jMprxewZXgYAhpXnoah4xyJ7ixu3AO97d/QVmRDE5uvFat9MPhU22lCeZQAWJJnJDEJjCAnJc5dBOrS/yyTSzUa1LwsvkksZpykW1jlcaQzel5bN5/b8wtwM7rvvs0wbQo4kUSKY3XkAE3Yq+uVYotOoruQPAQj5Suc0dHFc25uWjCteZE4bBg2DJBklvVb6TQAj/ZgUCSa2rz8DbIBIo5ThBEU43H0ws1UevHczY4Kl2o7rsgHsk8f3cS+HksuE35DUOlJdYfKndum4EoPNNfPMrQB8eYepQGsEPvS31ygAPxFHC8DtrunugkIwqDIbx2g3Sd0ubeIjb7rKGK0G2sz2x+tdApf3oKgSL/eWdH2FaC3/xyFSfdCVlTlOvOLBXjDOXoqlYBg3XPtEERiytnIdy6xmDz73sTRybBVGzwgTAJlolCH88g6yABOkiVmSR8kjmJDMytCHB2s4XmVPXTpoUXS5mVmxr8fQmgzeF9e1nemCzjeSC9oAp8uEJCQVV9hpHGNtybEM1vpNoZjjCHSggUbLRHGqLGaul0+Hc5JUT/VPMySHJVaLK0su2TOvXuEcqIiyjjfBSL1lHhHusHBpbTads47PQS7E9GzkmJEedfS6PfNQg0OOPiucqgkOzmSRoo/DmEMeojkN3Z78EcobUiXbdUZgWQXGdrLIxPtcoJ8/bnRlOV3eJYDqkMCQOnlWmaeZP2UWxfrvihreGehAN7KUp3md9LtcdgaCLhQtTEn6eM7BV2y2dJkowWBkSnRP7sNikciuOBgiGxIQ1emvUO6bYj9/e9h9qgBcBSQdLERfAmvmv6lq+9KNugHUUXpx49ZxL6ybKDz4EtHM9ekAHh4e6mc114RgySghSOu6Lhy+D15LNn1QJAlrp2WOSWVrk3LOy+WSLDXl4sMjQ83RXRCbk6Prupyzy1uHgQtMmurdjYbIw0KGcSXeEFZP1J4x8lnuzlQKwEaS3pPc/zpR5dUoaGlmRpusrY+rysiURn4OQAndGqkhsuPUi00wJsnGXKzmkGdld9OCAIXIOllyT2p65kzHipZBLA4IOZvZIi2TpSiZdNgIw6ISJ2V0MgOSGZmD+WsuFSAM997SL6bahCkSAB8ZynGYISzsTWR0G+PoN+j3fCPprggrJIzeRRWc0CZgLCq5Qb9+rKKtCPyjm73UAdCgQTAzS5Q8e01KdIFZdNaZWTpdl3rvyLQOUicNMafOi1gKIrvduDgTgNzpnYloY3N8VHWfc3z2CXgwRj7q+LxMXUopbacn0mN2IsJyHhKX7kpmqesMBg89k+4WqR8G95zM4Mmswx6X3X3v5e3irvfs/TDIDSzlcKTHRamTjF5HkJAjZ2Bw0Uh2aV1GsW6+J+etY/6EcjPWKyPz4MMwQEZnnfk8XX9fin43WDUXyZQSPWw5jZ44JuxZ2SsCGDUxRQFDKBslQNmj4QnJQVPrxX9ptFOuciBVoYlmVCO3TpTjxijBBkszDANZdr1q+ps8qDKQZpZSirzcPr64Gm+Yc66ipg5x2TgrKofv7ovF4u7u7qVitoshjawJelH4jRdpzhqtSWa07aE278LNqB/q/EkpDZ5bkefxhr28BfhQoWsf4c3YiclEmXzg+OHkC9D2a+JRZatuF2Pm7fXATnQ9O7HmyIOx3LzQAOcAGYqnq8mtsOuCg+7KrpxdTbK3yx83xmHkqkGaADPSIqMTBESa1KdDxNrtoyoKuH7K1K2RQA0ztubkY/Dm+1HMJECFGSU8RFjsDDjrSFoNLoxeBE1JzSyymFqF/TpwPJt+CiMPV+jXSButZVSI4Wfu7wVm5oaHAutoUWs7ogD6+QNuMTLsXl5lGOCrFzBUBpwxwwUknJeuAy011SPLmMAJo8ksctkc5IUVgxxmYkudWcKo7CYJ45jpPJR15CECw+i/QJnREWHrGZisD9trxclHknWtULyx9futIsTT+/VJZCDikDGuVy5EbLbUSoUF10CJz6bfQgjjghzqu/Vsadfws8GbY/U8t+KJDUSVaYQT0YtiqrFtvCC5iUly2fYCM5NyPf+IKr/ep6qRuY7SXCfKCWH4pWW6Ao5+vAAi8Yc2/LVfAGpwhSLPFTbpUHTt+L7UQB/6xHO3MGb9cWzkPoz6tlPe80mwDZ61NqZkFd60A5/27YcK0N0da43j1Sx3Z4TGrGM5Z0tcG3CeYmkfA/4EgN5MQh+30nCILHpnB2mFn3cpu/fKjtHI2ey755jVj2CydQgSzCNflyXR3EzKHFmZp95zvDYzUkDvcKFesz7Ba44892hJ5xOfuCESJDrogxHEWq/Bczt0VR2Kw3L4I4cM7kUAj3aOs8uNT+3dBNvyD2DUwuUuIcLqiJdMZ/9sqJk8qLRgDsAgIzwUGqPMebGuFpGvUU0OLjd4tjL0Y4TtWUOAH2H3Sl2hGBkCNDC5MYLkD3iEJCJ8gqxLbAwIwS4ndmU+M1RkB9zcCcFoYVRam00eWW8PDc99el8NNMosohKKkI9C0WdZNdq2DXKHZ1Ewx3pbv9ycPgOKJCzlUfkYSRpg6OKrUDZcbI+DYa1vNSg83VyCih+NbcrhLp43K/g+VA5/clLKiWZFXLUQXAt/yAiEIUFBncHAPu8mgMreoJV+yaAwKw5GApESJTgYGf4ig8daIOfLawpIppSiBupLNaMaMENH8FLNaDExq74OdNqq2nL57lXx4JFHl2tOZwG+cDLEUzX7aNQXvW2G/aSfwBFoVIYaIzNfg8boKYjOxmj7uKMcunZwi0niusxvnbwuM6coOOQ5D8oub0Q8ry5/gYttL1MFPJGRDYDBTTJ5yTUkHBKTVhHZTpzSWnAoaPvoVDYlIJtIOQHJ7dPRZRvPqjoJU+Y6kClY6+eO1OMgM2WChw5BslL2WWGiRUyq8saZccB4TrDxyowAmMCsDFdNPnbLHPT2nDSVGehUDumSkCnFh1A9nDOasXKl0bZYJTLc4Q4XEfMtWovz0+9eu9k4GqWRCTI5w+f3EIQ5lKQZEkW4e1YGkMaMiYTJHbah/3sKRDi8isyuMm+Ntk9RddB4PtGoqDHW0cGFIUMJxY3cifbzqeZSqZ28liIw9IMkx6hibBOs3SyKJ+249paYXyI2gvV1m4vb+aORa4EGjg5HGp1HbNy2aor3q8jCXfmxqC8fCfD3Maj14pRSvz+ZKxvX6PXdtpIDT54SwvbaQHLCTh6IKoaE9HtETZ2TN6Z6jDcnX6pFrxMdGuXNyxro9LQaLTtFuENRH6NRztjlPHlKtDR/yUFWk5YpwyEqq47hRG/Hk1JYFYDDz+U16Y22MTGeV3VD2NjTZi7xx4Zib5rXmuF908uLErOy957lORet9PgfoWIYaX5yEezsReHSOhPzaEcNT4R1Ox85btxcAjI4AKppcstTxmebIJpoTkYadAEyB/n4/bfbT9LpblnVQAiA1PmWjKYlGSLDduAUSVqysFVO6Ddc1A4dz8njABCJFDqBYnaV6jJ8aVe+E6B9YXUQHE54CbEmvNkNnzKSxx2x+ZRiG5QkuQ9OlJRxuxp8eWiMCTSz8OEABeWD3ATDKEQKlCiXXJ6VJYmpsw4Ek8wEZB2R0pzGSMsLmZRzLhasPQLwEeP5SYIPo31Rj0XIXLxZizULAminmUWR27mk+x+3mByx+5K4Xh2O7u+1QWOkAABZLfK3Eas52SzOR78mw/aaKPNSNWCtqt7889JgDbjd5D3M1rbf9Vq0iz/Zd4f6bXuH+tlI+IYncbkA6MzIYge+HuaQjfm6aJZfCK35tzGfvCQBt6/pZe15p4JNTK/x+fIdq9qOT17ZmlKfSTaXdPBvm31h1EVNUm4wDEPfYBiG09ZqqrrAxh/mG4SRkfVWjfe8eWvTf7H1+pBzVu4lGdwEkqZwN3YiErQ6C2MPwE3nPbZP5ObTE5Qi84WAyHQ9Xv/JY70/gTEK2gGEAaAeTWFmRoT+HXT/9T2blgMgVf5t9ejcIwlFudMsSUOvIcfR+1Xf933/EMfcD577I8bTtD4WpUp0kEpQR3S0jkhgveZ2j1tv1k1ucklQhlTPtzPhTMf6FNXnKqPwPVnKQb8Xm2/tTNh5TGCCOlqCTKDnbRr/5NESUiQHdM/ee86uIT7nYXANBGiK6lsH3RkAPdOzqawzHRF+qE0sAAAgAElEQVTtfKRfJ1nZpi1RhhSV2qAc7zdoucy0U88lo2JVlITs9FzX/zqSKAGcV0GJp6Xf7fMXod8y58bNqGzrzrL5Ag4O4ABmsJflF/RBXzsINDJq13Whna/2z4lRZPsOk/s8Akltd9ubV21aNbeeoovPgsbo3yr9vizLOnkXL4vXyr13LzvEamKPVfS1u+vUsYQlnEz6/XTbeMrF6gX1JRPboyKKJm8kM+CY3bq7uzvJQ+vbMbPOOJEDXzdaLamP5u8nagE2jR7NrlBiijaeY1DO2V0+hLIyKrgmd3EjmMYmR8rsnMcdT2RyFxkpsBIFOg01Scb0+n1HypJQQtulJCuuhJvX1BEzmMkIg8zGMST09CdGkCjJToLLm9+WIKkLjSQhgzws58MQDG5oMD0kc2V1d93T+0WVsRonSxnb8IsZLZRmiU5zh/sg8awz5wVmZtBU5LqW1blBRDqmA+bJMUeRMImE4ok5Sw440zrAm/Ei2hl+jvH5xGwBIDPQkBIpjRaeA/sLM4MNLg3K7hElQtGzywXQzEQaLFaMg+4vSSCZACUaIIHy/Mh9njl/xufGCyqfo6fRYYyR+8akcj3xqdF+4nE9S+VkksMdOZfWFiZ+fJYkXmT9Pyv9Rn+DThWhGbLH387Zjo4qCY9uI85cxN3R6A6gSMiKGWJ4CUzE2mqZqGcqJuJfq7vfvttOTH+rcnZyAaVEKiUAxQD2ckxyMMAhAF+J5FmawfWfeFEL8ASvQCruAGQpSf5SdDnC3fPUmfETsDPPB20o+m4YrXOLmpOTD+d4LoAEMpECDKc1Ml8PNOaHqZtHnHGM+gZpAcAskQ4klKig9ghg+tcUkzdFDXIB7hKTQUiSoLFc7Po+W5yTznuszxJRZa3wGjOF51gptPoM/iNDBmgH7x78kKIsbpQ+q0fnIU8JnpHlbxudCgv3iVFGOutIkoysKioxGzRBlkzITBFVGA6R2+P/lCMFsRxR+RUATCUa1hZZ2dn1yueeORebmePRxz8233sj/bbj88jxiDk8yrftc4co7+cSmcIrGqUEzHnpdy0TCl5y603bbLIEmiK2JeTKp/ZXNEmhh6Ize/YMgyCDKMnpKSdRcX8VGfLp4wnJDISUkEgnu+zZPZJtGVD6VY/PGaWN4yhbolkTQHN3xhplRoCxPp9OBgutBAAyQRAis+AodWitYVSzEh7R6+s5KnaTcZ2Ps3WeHLH6HX0UDVMOsRh+RTSycYT5CPCXTQfd2n4j91X8iU0pd5+fc8vYtDesHybW40ijHLsJWWZitf3W0N82HI+XdcycoHosrquHvpAYrOLxtR7MaxDIA9fTkuejE5NDq8ENwyJ1Zh2AwT1hTRul1EdMcTtQJBwJvkpZuUTwRZ0ruOTuOcsjDeQWAcTvRx24DEpUcZ5MB4esymOKRxpkhaoY2BvZQzKHnttsiCRSj4qLGy4fDc+S3buu6/seknUpKuJeZCbF4gIglrZ1RyttNS3Gw8NDSqmWWVatF7cnNHXfamXFU2itCFwkmuy1CsBlES8BYAAAUgCZJEVRCg3OhDB8EibChfbY3m9y/9Sl2CFaW7rGTYNMNPiYHgQvkW78cYiAkRApmoRMwuzgIL+gX5KSOwRL+9ZjH/fdLNEIWo4KwPaYY8c2/QYGh3VL9R/V0K9fKkZoMqkAOEqilVDSVQ/Lo+l3uxYOAK7fj1JHk/UPh8V83gIMgAuDQ0RKVjlCSUWNRPgTjkdATJEkEAJBdzlMUQCIG0v0JSm6mVEbWCR2nZlByoJSd/AWRnI1DGNlS4MlCRrXTxfkyH1fHCO7TgfmoTGDwiGWTEYBg+RyjA4xLb2ccia3+Xvqliq4OxOtZLQWENZg1jqo5UI1TNEhyJ7HoSsZLt19cB8ltLUjB0pqrptH5AyOdPQ00pJoWeFh5+uKxxfxEySTFz+vmMOUPGehdcBSaI7ij/MKwHv8x0DBzITs7gS71C3GtCTbQ6RN79/2s5n1fe/udZeBO4HOLOeSIMOAuPdGLcYxdru0c0z8DpSdbZFSZ7Z6GFRy5JlD9bKsDXX+ORDdDAaVYx6vWub5TLBmeEeTSQ2NJmAa64fwRfNjb0+J6rp7Vp/cfQvWmm+R2urNOWc06QA/advrwqIQhQeyPBZyjnJS6dIp+rUenboij+db59jHKjFIG30TeGzTXpMO44QQkaUaF44nTKB9mOzulLJ7lppUxt8gBH05QfewXDq9alsZ2tHYul071/m+77UFbMotVz6wE/p9DooSrblTbFPtwG1/66iG3JvHvjqZh9LvRnqS5vM0biLUlK932fSivHKIYRgJ+ZPl26ceD5pdxT2EaxFXjJa8MC23M+q0MlPLTo6cMRFJzkGPIOFmiTt0GCbmqTFkamQ2LrtabkdRbVvPTut+JQUPVwwDdYvBlRmRjkaltXabdKirWb7G8xOW/UwIdWC1o2yO8HVtNXW+JTI1RHHoTci2ytHaobpuE60T3FOe0l4WErWXUIbLTdr1gtPksk4p7Q7IPPWjt88UKwdOv0ScCq3oi0aFd/nW1oceMVU6NKqy4gQfASsnmnbtDFaT7jIe+vTQ0J0X6BkWmCcO1lrSuP3N44nIkjX6uVEBBRzFDKkxWuYri2G4ALY5nlAxtsxZJYdHLHVtzPbGh6tcHLcx0+/FMNPvcWi3odYQd242tmrTrzxRwram/4TtHFezYg0PVgRAevb6dm3sY+Wz489WOj2iqds/GafT3gteB3byqGxCvS4s8LeSgKQr3JelMNCihv4eMeWqAFwLW4TCxbYkkKcM/uQaju7QUcAML6G4qYl4L5Oaq+1dtamGJTNWQuxaeF8WE6F38ue5seWktnbXOlIALvcdqxBZ4plGfFzry58vvt8fN2SvHu4ewlaVzSo7MsFOJfpkJ2jfskuwC+jUrhHbBFWnXzu2e10+tvYqXtwx8tow0+9OzPR7NKK/le8haeecYDWCMIY6kvNf7ZSeWFNPLlkxvL4bPOdWdWlt23x5bKztu4TV+HDal96WMH2OeeQmsK9fxykUnt+Yax5nNck4jxYsbSwdjFFcjLtVqfjpw97KfkXhFTbXHGn5L+THjm2PxbFH8EuE7LVzVWP1I216zF35vGo/X4buuGlbLTjwyV17r8LucF2/NHLIVOd96eCyl63jf618CCB2+jg6mjf9tNe8U/834yRQxN97BGVzn1tpRevVxhqjGBzziMm331jUBX2iXPzk6rZzTWEppXt7mOn3fJjp9whMdtNWDD7sPocMUES7adQFV+n3wkaPJ+KskuSGXP2Mrk+W1ioAv+xwtox+e2ZbXjp0hCfXa8wwFJSqTb/cF5EJL4OdXbtMf6u8VEWXcz/xCFQ1aFvk9ojBid8WO22Ti8RSwqbjzHGNNKMk01qDc3mMhrqXUZy1G25FXS6uh37bVaU9f+EW1jHJxYJ72NO79g+NLpqSQpcjbdjfSR5kc1Jzef1t1XZrtDkfGhn4zCGWhAM5jOtc1M6Hqg3BpxaCvEmTdUev77eeKZvE+Rt/tWjtEhOWaM3/7fntzhmoZ7gQvyBm+j03Zvo9AnWbq/zHBVzgJLmimFkZ6uthcSZgk6/15I1spYj6uOc8RU2MyYnaeAyyxDG4bCKZ46QjWUWaQEo1lPJVkay2vMerbBDf169ehJS2NRrXgyCFKv0ed5Ma+qvRUzfOD1IYb1t+5rjx55jL7ZJvsN3m6pmcc/for07yXGxuPRstuZqtYHt9DsTK9pzXfZK24djQg433yzEut+7EZmYcg90F7LEhPI7R8Ato/Y7LMXzcm1zBn7zbhF07tMO7Fs3HcM0r2pnAxh0AAIsqRNgdDmdoXl+dPO4xwpx4gX2TnXbbiTTRn62X3X0/3pzmazbxetbIp2Gm33Njpt+jMTHjHLGjH7o/unseDe26bm/Vq5XMH8fIt73U8y2L7nDIWut0Xb8nFicfnvMwjSaLYsBwPGcy3xDGPq7PXKa/dbFF44d5hYpCja4BVYeFo4YokjPDy/5SdYVR/WkxBgbjaW4s9RqtY7ZpZoYYw5dRCNZdAECXzqsDrYIlNgNZJ6P3UgqdbbQN0+gq1XbhHA/dt6tGkQY1OJQdXgvA7TuIRXPiKXGc3ihDwaPXO3tTwaXNCF3Xjt1dPecOxtkhcwvaTOi38xrfvF67fCanEsvLk/DLYDKB233oCFzDUngQZvq9MGb6PQjtKFWtNskjqxs9DT6+pom540p4nW08x3b0OMpttfnns+95ARv+U5qBTacMNNVW0IRQ8kSlTji6kk6Mped7fS+OKkG9lLxUm3Hhpz8dbPA4s70P1cG0XbXQCEI4XFRrmX+M9y9r7wUHs77EdsvLOeNSArA2UdtQ23NVutG2hW2DX3aF0eFVA7r6y/U5I0H5WgwOiKTRlKbX79EnjSOibdEXIdOPP6h3e4RsqlMExngGSEUdtQvtK5mcnFDvdndahJtH3Z9qOw99zdH+lNIwDFFE9KCfXwyK2ujGeE9ykbEojHVuN82YPjpabUS/jFyjMAaBXyM7d1FM5vaVLGQXw0y/l8FMv8ehZS/aCDezrk6edstvJ8C+udROXfd12bO6IWZoGAZxevEVSr9t6CAaZ7EjmlrlwJYMx/EUSTyD1dvZwuVyeX+/OuJuz0erVdkX1si2rkzoAZ6REXo0iYCjHbhx6zjmfV0Vdra/yCpA5GC6pOBUndvdfRiGyjNfW24OSVFaG41i6AgSkzTkoWYriEJfccPYGbuuSylxrHD7xEesdX+ucDvtuk55qAvFud/pRKKr54dhiB612qsTIqUULEolVXdFTSlck9A7aUmrq91mw04oBu+TaPOmrBur6xGL22Mu7tGH6rEcd1+mHT/ZtyoBGPKAxq360PY90rDnXPz02dxSRfvWn96A20WdANsn6wc1eTsv38IZt4iZfi+DmX6fj95zAjUqgtFIVp/8bTukleOs+2kIwFdeu/tx3Lo0dVUootQpzJhVALbR4teGa75KVB6Vzdg9fyQr9vH0dX9p1bu6Pk+ZzYE5HhNOvt5UjSk4NAKvYztRgws8a/Lh+lE1a9iUii/z9Ik5hIeHHuwVgGuCSkHQaAbYSt7Tfm67XT9P6peSPG7LbzUiGyf3323f8hebgbs/sSUbaysLw3joanKjLKakwbOhNJ6jfnp9ATfOzCzRjJ2Y6fdFMNPvM5FzdtKg+EcWg3oNN3x8xNb7YMNKbThDndPF+oS4HlvEbeEpa1SkRgGInFN3mGtJZcl2LrCt28IJzTLXCUnuqv4aJ+9s9d2of2KLBT/tE0+IUy3sbU/L1IoUtq6qby06FxKHF1Gv6oPJ1D1J449Aa1o8a0uuefI8gnYyBCbGhtM/EUCzsgU3GF5+pxSAq4tX+2LcXTrA0LyhKNrkGI5+3wdxopM3QdKzr2m4eWH7kvHUBS7+TE2U/3EtJ686b9H2Ttl2f9uvp71y5p5nfBIz/Z4VM/2eFhPLLcZR6roO+zXC27rgcBqsqD+5Fa5njCC4lfbeEqrkIHKnS8Aj4lwr/bbXtyEPN6q8OxTRy/P1dHsYQxG2Vsi2FrwrW0vX+l8Az5Dl6nTa/nndi0/yCiYC1fNveBOoKvob2ou1meX+Moq2Kv3W0JLy0APH7bAs3yRpTxVfQ08O37A27DbpNJ8f1xi15PeUKTK5JnSEa+27nsrzVQv70frFydJwtSS9UUir0eGVgRq/k8TRKaC+vqd06UpDJ2dcBDP9nhsz/Z4Y434nSI2jlw9PspnXebKxSbca4WudSBNM9FBXO/9vBRMetzKRW268n77P5Awby2QIZnXBvCGu+jg8Ip6d5M71z3r/yoJfOUWcRPpt71Y/R8c5nt/Q7j1jTGKnfnG//Yni4Hyo/Mkt0mhQRyRJwUU06SRzzhF1j9Gz2I9OgrWNdu5uUz4fteJOyGPyp3b56jwdT1/gtrnnYKBrA9Q073FK1ajFxxjcf3TLj/jhJTHp2oQeJ+0X1w4JOy+YMWOCmX7Pipl+T4ttlUc7l/BkAXibHbwtgeTxHX/G81Hn1Toh1iGYkHC45WbPNV9RtaeduuHXBT2t/vkRt40PE242NAynesr5UIWrZ06AOoviQ9Xrhc9yXdOOnmxxT40uJ69+xk52ATOzSULK60arbovJcJn8oNXzuU7FsWjWYfc5uM5z3trFJxcEkcXn045E3NnHIAOjPTJL2hejJkjD8/rbag9p2zxBPCLSsoVKNRjoUHU8HS33fP1UvZYxpGD0tl9lq2xpF74r79qMl8JMvxfDTL8nxxOZ6SkvXMWS8XNrMIF0Kxb1G5LVbw4t0RUl3SFM5B5FoUty3YBsdhKoKRAQwQY1a91JUAeZm46+OZ8yveslcZI216nrkJEEqzqgDMsz1o1rWHOC8aiBMGdtUhi9rZld149W71Z1bWeSgdu1bGL7BQEd89y9AnDbsfat+1YOgJ0/L2pIgMa1p+IzJk+7STiQUAopPcWFrOWhIdPheUeq/ltSPzLQDhjQHoFp0ov67c5W1XTn14N2nJ9C8JXVPnvLZtwyZvq9DGb6vQwmhqCnX3OjQ30Szcg3RRp7AirdVbuZxkjgWFXateVxRaEDiXSAUh5F32FwjKvZN8S/I+w/YZA1aXlqQtupaIjsO2i2GIzeSVeF0R5+mnaN9uRGLgijpYCJs8xRb8Eih7lOacM/DlmilKTKCVRa28k/HI06ntwTKHqdiCXdxoHyKBi5NTLPGZ+dPFito64mCQLJQ1e4J7lAt0hPfDft3s+xmOSexj1laEY9EyHIBaiLIAFfBwm0K1EMzTDGwLg7QDCBUx63KC32PXdMJoEx+Y0DEB76zGSJxmShf6jOmRttgFwQ8dDfA6h1xHEiluLkKFk4nkyB6/lQ+36GVs24dcz0exnM9HsZ7Hv1tnlR/Xgro7qdj6PNEy5SkrUuA80wtITZWDKKX1q4aUgUDZbcnWNKuVYCxEizDopWbZgareXbjpHbbaitJUnYpG1PzzlyPmwnGY3xNHZy5kGQwktlYg6aMsfJSOTsWa44FsvbZfpxaex9XxGrj/Ui/9Bn9PnNYsnNIvCPm9cmLPXm+fLZPVJRqMzbmHLXUS89jW7Ja6OlYGYpEXDGvHiGfCURsCpxVDVOnc8kyKQxG/ehWi/ChZxSyj5Iult095Je0FPG0uDy1SDCQBgNFKHsDsFlXVqkjsnG+XAAS2AAZLU0g1MkF2YLSw/s3Qs57zNGXgMcofeBxki0hz5ryHeLJSz8/KK2eaGX9Oj4bDNggwPGoOuwgoSd2Rv3v+bnB7f/YBfoK4FDWa4tq3dd3bwpt9iuZaequ5jlzJKJ8hKuYMUDhCxFMmIvyrfj0D9jxmUw0++MGa8YlZDDGlb5Nh8TFW1fv/1zd09PCHN4SmOO++HlkSFr8obWxKo7vQmcyHlAHa5R+r1CRvnyiJ1iHaTaGC0f0V1uB/Ru2znrrpRxM2XMbgghIhlwPXWrHSIYEq/IUhtWCqksy83Hhe7AOxsoTJe+qrKRb+hrrpaoiw6oOfZ5oNPNTDbqIUlQedh5h52EmSXSBGS5xuynpw2QvjEBuHVljAyHi7TuQlXd1WF6XNv3HNSnxGRtE1esNdmNxuIcbZgx47Yw0++MGbeIiUx1ECvWXtzmZPrkE909pbWC7CCfi+qGelvEGxbFjHAnXRdE9WZtRF0qXYPndr3CrfX33AhXyXAsr3mVHvtBmtoafZdCtlXuXBVa4qqfr1ZwuiFMqKyiakwK/3CgsXpDuF07Y5UIiM7YVti6TqeznYjQgKCUlu7So2G63AzgiqNv0t0Tt48n4sYE4Ir1QITjScNYn5VvrmhdZWKOVgZ64mxzgcbMmHFbmOl3xowbwkgCOtoS2yq2tu9cBeyWAco5d7ZBkpNrntbsm+EasbkuVV9WkiHI1a9qj9oQkhnbyJBpPfcqL76TgXaC2r0ZbStkiyv+dVfGloRZAD4R2mVk4hcQk8HM7ETTYQz08Dobb+slRmur2mjtfPGoBNwu/pIc6LOjIcZKvKda0m9eAB58Qx9wcg3B09tT8zduv5sb0tzMmHEBzPQ7Y8YrwL6QBJWYfyAi7BsRYvuynb/FmIK1Mk814con2zBxGL4h4nWsUwm5i/KJJ2jLI+KKvSKvBz7uLZDoRZDYlzBWWtcS3akApdXb4cql38BsAT4VJsPYKuNq7rpD7+lY61PKGTaZxrFjBt4Wphzd0xR29Vd57Hcbv3DC5t2qAFyxb2a0LPUln9tquOsLmxnoGTN2YqbfGTOuHyMTAxyuD2ptaE9+UCH/qIuLS5WXfHFM2LvK/m7nSti+fl6jttGac9FY0vYV791WpkwmJDezZF2bbLlzDlxbI28a+5xQtJmz4InYadqt6vis4vp7o29we5Ty/qLZ2x5AAGjTcpWnXeVuRgDeXm7K55KCr0GMI9d/XnJj2LkszjvTjG84ZvqdMeN2cSgT1rI5VfrNOYPTSHvsyoBSr1kXe6yiC4BDsjfflv2kHZztYZlc1uKG+nhJiOEGvM4W+3hkOLfSGNV0ytMrr14ruklNV93UG8JEQqufS06TxWEiVajXnc20VLNgyncyJNePnRo6oGT43wZryoZqEm/Sy52P0G5GAA48sg1v753tnyfHRLOIZruaPPTKV8kZMy6GmX5nzPhmopgyttiabWXThufFLsfpV4zqKF5l/p0eKN+cAXkmnqI7mHzbGnh33gGP6iauDTcnO90EtvmToq07SgAmp+GvcbcoAtc6sV//fAvsnHWfZP/aUdVmVohP6gSPw80IwJ8k408y1qfF4wz6i0zTp4/A7fpUzLhRzPT7Scz0O+NqEVk9w2GjeuWllORTj9AIuUwpRQRvzWIav9g2/GKTxakGt/GGSULOcs/xxEjnW771DdIgo5CZl3RH5VY+DLtrb1whguHF2h4C7FyLqkfupRr2avD42p7rt/tW4/Eu8f+1+eUXi6K7xkzC42Zx2I6mzfKz9e455zZGur240qzavEea3ra2c99zo9kkjQxCDn/gq8LO9pNcrVZd13VdR5YEziQfCQ92AlhbfddVJ4yl6jCA25F7H8ehTODOzQInHY2bEYBnPI5tW9b25xkzZlwnZvqdcc3QZhJdjGp49928SLBxk7Ixz3l6fGjLumJL/JMU5FKqaDYG1VlSnPHNxCgDH/ar7T3oiVRcJeGdWtpXv50N7jam7sP+DGQ1mqMp3V2svmj8gWecG7MA/Eqwb62ZXadmzLh+zPQ745oxSrMIy0xj8FmHDHhj7xmGobJ0IoQjfRbC3CQJkqlQRJiCAWSAZFt6RI0HtZc63i5pn0Hv2nBtFsVvGm59/M/hHFSJ/ZEMRq2HalWW7bsbnryR3dx+J2lwV84pJY6uHNqyv2scyZzlGNfJ2wz3vWnMAvArwb5lZacry0xjM2ZcFWb6nXHlUC0VllINTN00cRQHyHqlnm/83WzAxLRSH72mkSqNu+fiT3iix8+YcfXY3hqOtgBPrLjVPvnIT7gZwmpmtrWvPVFEr+vGPmPydWLbAL79uQJAHisdYY5segnMAvArwfbatI/xmGlsxoxrw0y/M64ZVaoEYE1RotEou479a9k7cS2RHmT5mTy3PAuKmsIAhmGI4DqSTtbkvYZ1S8bwY84uhTO+Iag6qbVMBVZPjefcNsIZnmgjrzJw2lUX6Obsuk9HeLtALodBNR57nwCspu7WPn/pGefDLAC/ErRMxiRevC6IrZfFK16DZsy4Ocz0O+P6UQTLxljhTQqrNtx32zb7fLS3ClG85tpZRyZbifut4cfcU3hjxozXh30W4EMF4HZ/aSP5n07NQaFpLHs2ufMjy0Jp7lH6shdHNLguQdiyYO/s0fYQzZLwZTALwK8HoRFv85SgTc45cgwv2cQZM2bswUy/M64c1Q5cJc+swuThU9zqcbzs9q9azrhlLgvJ+Po8ZneJbzwONf3rxufLlByed5+qeG3USY/9JEJdK4XmnN3W0Qo1aOKJS8E2jd8K6voTqNs3tt7LToXFuZv3grg2epwF4FeCNuuAmVlV+BEwVr3UbDuaMeMKMdPvjOtHTL8IqzXJgYlLZOV0d2pqjmBkd9iTBTTVkupt4/Mgl2SA10rCgm4nCdaMGdeG1vnoKQJJFYCroiy0utis77r7WWMivRtV9E68t/Apx+aJoXve3C+MkwnArY97/ZNk3pzu7Y618z5HuyuR04KEbcNaTHQzt6hh2kap+ZYHsmOjpyOZsyRBAlzK4RXmDCZmx50u2OqXR7vOtj0fp1OwU02mUxCbk+3WZ05gpt+XxUy/M64B+2ZPycYMYoy33elWKZSiljs9Lo8g0m3nwM3Kv+Wi5qSBpW0l+SqnNV1nCvnm4NYtuoei1ZAWKy4wDIPZ0swQOtbs1cDrnLpvBMVZsoiiHwPpQSablvWdYlwlwhAMJnvoc0opAYmMqraR9Wlbk1s5ELNEUlAehuyStC+h9FVi3dS66qgsQzuwcxBeMa6NHk9pAd7HuV6YPZ04WuzzPdh55nUgSLAwBYQBV1dH/OoxTtqyoiPscmZ9Xrv84XVNoZl+rwQz/c64flwbK9Pimts2Y8blsbGNNg66VfyaOE5HGbNq+D0a1Yk6PoQo+5iTtjHySFU85+kzZjyOkwnA2zN12z2p4hyc605SmbThtXLMj6AV1R7vfjDcM+vQooyYFG48Xdc5cpMQ4vUM1ky/14mZfmfMmDFjxnPQypPW7CMT96664dY63nieXy7HrAEh/caxchQ7HIbH0IbNzFvzrjbjLDhLDPAG5Zhtz/XzoXX/QKNq2qa0bxSK/DD2W3tc1Ga0kBRhbtZkJ7JxPgcmIRyvAzP9Xhtm+p0xY8aMGcchLMB1J107FW+W56kyZ9TxrnjO7l95icpXTCzA22EOXip4zxbgGefFKS3AlbraeMJz881t9I/aolpje2r8fcB3OVe8eg1T9aJkic/YGT34TcQjwSWSEIHSjN4AACAASURBVMXck6WUqg/PxDXodSgpZ/q9Zsz0O2PGjBkzjkOblK7d1KkN6bfaXcu3p9hYWw+y2oyU0uQR1Vm6Nf8+/+kzZjyCUybBYmMow6j4GYYBlzLatJaikFXasiKlDdqo0HWBVl0JEhmVK/BN6vXRaL10YhYh0vCmjiPwiqbQTL9Xjpl+Z8yYMWPGEWituzsZmIla+bQ65Q0VdrN3s0H5dkvB/eq12zNeECcTgKPgtdGSpZa0Mosrxbm51UpItUBCNR+1JJQs1YWg/vACzbtmHFqb6xsBl4FMKaW0EbUiGJhoJKqS0njzQzjT7+3i5iffjBk3jn00OMfkz3hZlBlojAzt7jlK8258226gkTX9bPX21JT0Kw9sRVzbeO4s/c44K04mANcIyXbKSjJwB42dGq39qhVXtp8bLqwzXc14HGGBTI3zM5oExZNI4FeAmX5nzJgxY8aM14eUkjZRvrCp+niyt7a7LU8hFfORFNBAxB5PzMKvjNeacT04gQBcoghMYSvDOF9NcLLrOjTlOmthsX2lvUolsZHqKslVz40JMXSd2YYrBQDnOlZuAw7kLJIppQgzQOOM8fyheEHUEUaTuxjj24llbiLb4JBe71sHJ8+9uTVLTexrtfECEBACcHV+RnTQRZIpxa9qqoYojulYD8sLdehgzPR7DZjp97Qg2Vb+qN289XmyDyfhTWccgdgvzGy5XMass1pt1ShiGIYIJJnf0YyXwkYZpK0lcHtV3OmBfIHZ2/IVM7HMODdOYwHe6YVI0iTf9HOodcDan7RH7OKb4w6t4qqYisBunc3uSYRqoF5pHdeKR5hd7lz/xm8BQBCnsRmVfdSYn2CixtvWGp6lY+fEpM2t8+0+/WhlrCei3c1Nqpl+rwoz/T4fO2fIq5wtFTt79wpe5U1jDk+YMWPGjOvEicsgmUoq14bBys3GLLOSVWhk7OjuCisHBKyZu7BLASjs3KarhhHJaPvsUPtBUlA1H+1k/W8U5EaJ8/a8Nzl1leXuMZ7t9myAAymVFzdhoIGSo89BjZkDIcDSRgNuDe0EKNY2kmQ1hwIwQBNO2pVAo5mhb+3Dmze/OYvTTL8viJl+T4htm/ZrmirbeK39ui2YAJUM7f6pi2fMeBG0M/PQ/fdQzDHwM64Zp3CB3mS2Wkgywjd5kdYogTGor1qHqsxQedywFXVdpwY7H/lJJiAkmfZxrw/t+EytmoCZtZLDJKNsIlO3nhIToxxLTqjifdoWars5SW8n2nk1pumXtLGGt6Ma4puhmU43OAYz/V4VZvo9Cdj4PIe+5nXX1ZiI9/XDS73WbXXD61ZA7IQJ/qqoasaMGTNeD54lAKuJ9OtoNrL/4aSIcMfjqGQa8+Wuf1uuJnZ5Pzrpo9dlJMbBuIOud3dthAp+cq8RN7jnyiG9Av6vZX3az9EvG21FifTgoX2DNSGZzEh2ZpMblj+Bahg0M5GJHNwHXw8mbtCItOGiNgplNReUbUeiepm3JFVnvmGVhzruE6PT1WKm3+vBTL+nRSsARx47jBlWXjGqkPni73Eigb9ijVXAwvBLYNxTqCesaDNmXASzP8KMGds4WADe3lwnMsMGXOLG9fXn27rh+qEe64ewe7SXrQ0Xh28yE8vT69uY2x6tP7tg5U2llNpseyGhpF1Gp4ow9LWpFFJKXdd9fOh9DDDE7Q8mR+fnyVDstI6imZ90Agh57hoY0H2Y6ff6MdPvqdDmNtdYCfOlG3UW1DcbePH1R42XRz1zzQvjjBkzZsz4RuFIC/AjnFYwtWuzzNZ+9wgLIslAjIGIicWaQRWr1Hr7LAl3jtlNK8u4kRnvtWBq+WncKTU6BMZX3EQY95R952gQYJN/qFiTyK7rcgnJvHklYytOxJmJWUxSOwnrt2bWQe4e0akv0fbDMNPv1WKm35MgFC7h8h1nOCYPf9mGnQmTJWtigH2R9rRqtap9eK0KiBkzrgGlhsXr2Q9nzDgjnhsDLCmy3KD14gtuC3Ss/UXX1wej3BRcmd5w0zkzds3t9OjrC7hxfoLtNIwkE81fXSnXiix14S9KwDcEtomM1764R3wgW3aq/kSSXCkliBREwXWLdYBaVHFiH6OsXQJwFUuUwyUXAqgb2Idm+n02Yp4YUPiObABAyQDKAWSu+/540pEwiGfJAGNx+Q4ZIj7vo1+ro2esc68eHTJBhJEwxhls0K8bBM8OZiQnUqP5cKq0XFx/Lq/GJ5N85MCelV1lpB13wrRxKwedMGmpFQVn57AItmxbIskMXVJHp/sAZkvolt73R7SsTkKxOhMSgAlECQZwumAUTQY4qOp4SJVeOKl2POHlfrJys3JrJYeIHDQCiHI6MB2NijfLO0dZgZXdMYqaHtMBTnOC8M6V5KIDcJgIwDySqLE0OLkByOXhpetjv710vJywdqbFEUCXUjtRx+xr6vMA0WkATA4qyZ0OmWgOogmKMHhSoS+HDUYAyaNNcVlDfWM3UeapFnLAHYbSzfo24ylu8GizoxPCiSc8mUWt79z+tp6l9gwOvbwiOZUMhOhB2nRBSesRjhnQPqIKML65VlA+TjNAZphFnRkzzoJ2NZvxupHe/lN/4KAfyORwyM0Y6UQ7Y5fCAw+AAJGAEZTgRAIikJDVYEZu/gkjTA45UmdhrYh/scsIolFoUs2SIGiUKMZ2TBeya8g+ZO+H7ILi0bR6R8b+HTuWXJ61I30vEGYr3FoYDxkCjUSBtMT1MJZucs+/8Q47/7G+juYVAADkJLqSk9bdM4FkjFlw/aNnlEGQJ+Ny0XXJCMmzEcS6RHCALDM3/pWwVkrwLlmZTiFLQHHElSkCZvo9KRxwQBQIo8yZhoSBNMk8p5yTUYv0cRgsRS/WRDT55yopyAsVmzF1GPNcqZyH7STQ2lmZkwTbo2jxGaIHRz5+K2VCSyOHfuE9XXn5ts/WhWaCyRnd8yQDzO4W98MqGbzvO2OX2PuKHfu86hYJ2emejBIsMcMPdXGPjoS84pZFQUbRkknqs2uxGLq75cI+e/jxXf/glihLMopiiMEuavDhw9s3CwxvmdmvaPalvcmL5RJunuVZ7rQIYLeJa643LyXG1uAmEfEIZmO8hzQK+m4+mLuB/gZIHdPD/dfLu47meVglcOHJRMCcdMMoDveL1Of+44LdIt25OhcNtMHfiMk5mDlTJwDKlnPK5V3GPHInsOjSctElAkBnJJFCK+Iul2Ut0524XDkeumRdt3y4v/O+Y09kMERrigIlek7ZqDeelmnxw49fc3m3SIthyFlunamD+9B17Ff3SyCp1OvujCnZsksp2SJZl6xLloxlFYUi63ticvdB5PJd71gukvcPaXhYLigh05wpFypxUMbhjeeUB+99cffmoUtilwYsZZRb5BkIfZ1IJDGJi2xJy6Vyb/dfvaGy5+XyLjLHOUExyUww5A79nfoO/tD74u7dQ6alJSjkoUN5SyyEVbYzp4NMgomMVRIE0aU05JUZbJHu+4du0ZkEF9Gl7u7j8JDedV88fLV8s9QwJGCRkWICqrk3RMeyW3751deLN3ekfby///z9h6F/SBQoj40dMDAJRhN05iXuZdDuvFUr/bJNug1w95b3Ca7vKTd+da+geFSBRntzt1h0Kf4tu9SNR+wqIP/KxuEcmITAVOe16zBarHGwBZi75JrJFHGAkkvZ3bRxGTddTLFlXdy2vMX5nbYmSQ6Djzp4eflXAg5lKCz8xg3DEct9dPLcff/bhRSWWAHqmnjL+Pbk1BvvMpEiOzMvz7qNNWItxh1ckWcDdW53gLvXe12bHnGm39PCGVVPYkAMAIUF8qJ/+Kn37x9+/dfNoHfLt567h2QgsTGkO8EmED1sTtszKGye7a3GmXbANPbxLZhn+XBHfQT/7ldf3n3+baxWoJfCLmH3lXXyhx/+4Ltv7945PfddXol4q16ZkpZ91iqbYLnLkHr7ynNevh+OpSxxPZdiXqWUxG415OHjj36S/XL1cUk4FuadYIN7ttGGmdLy4UuuPi4Ny7S4V/fj1ddp+e0woGvTGfeRJdFDF5QNY2OK5ZFIsjAhWmgp6IBB+Q6JDx+/m9D1H8Hc96s7W3S5Bzone8NgAodOgyGnzgfJ+iH3Dx/74e23vvVx9XG57NRnB0QT4fFmSwMcWDt1k0xkZxZeAIhM6WQiZZYoAsPqwdPdouu8gz989WZYfXfBob/PhNMyU2aHYlH0FYcE2kcZ0m98//7HX39U6u4WCd2yz4OoVXZIb+7epUE552QJxjHPHSup7qx/K3pKzP0DVx19wLD66beL1Y9+YF84Fm8HLjMTgKQMDgCSvHMlJty9+X+++NHD3fLtu887Sn2PLqbH2k7r8dA8iDlnf8fhZ94tdf/x62GAD++5cJjoBBY5UYLdEz2GldLd+w/f+/s//nH39vN+tVp06BIhByCYA6NyKezGo01YZXYYHELO+bPPPwzD6v7rj59/9tmPfvSDDx8+H4bVcnh4a55XH/v7h9/8rc9+/MNfe7+444BOiTLBRq3N4HQThlVeDHff+fDui6++cuIn3n34/37919LdUkkyihCsWos9zNuvFK+JJbs5fDMH37Y+zHW8j8PEqTD+vML4o+NdoNXUC61n2gtKsY2R04ijmaWRb6tjVL8yM4zJcjSmbNlOz1NY58hoYp2kNj1sfVxcQ25kqeWYDeWVBRBOZIDonaQuTfM5tQ6oJ3lu/RDZVmNwb2VQNeaJbafZEYOjJj6znYhXOw4z/T4fDhOQaQRNluAmT1l3efWzn73/4//Sv/gbuiV99fVwP8jfpEUSoN17QLthVNWpwrHWfHsb3ikAA7bPRXZ3+4m0fFvyaSWshv6/+zt/58/8yl/9wcMX6/htrB083+b8r/2hf+53/NzPvKepzx3kkKdwz85d1/nKE2iWBnl2/L/Z/+0/9+cHu3t6k6oP7djLIvxHje5Eeh6Wlr737e/+q7//D/8j/+D389AnR5cTgCH52gV3cWdUx4Hy+4f8N/63v/MX/pu//oOvfwQzpQTA3bMiJ9bjPA69ODkb6OFXEwZqwosvSGQocwOHpfpFzt/y4Zf/hT/yM9//9vtlZ/I33V2+D22CZYM4EN55FvGQDOw03H2p9Cf/7J/5Mn/s+3u7e1fSVQsA+gSA5tYV49+aVKvkGZRS509KCWZUfvd+ef9x1Q/DoKF7yD/R2R/4nf/YH/wn/vE31odnhmhQRyEJ4JDp1iVxAXRLu/s/fvVX/4O/8Od/PAz3A7PUvXmbuuRDtu4uJ+86Cjnm6kSBqPGtbQyl3Pjw4c7l9+bDz37+9t/4l3/pu8nvlIcVNXqzmwZDBpDJvlsMafFltr/4l3/lr/39/7vPK7myHMbcPrC4kfhb9Mqrzvg7f/63/NLv+V3fIpi6wWXqHAAHk5l3Jnd7kA1YvLm35a+t0p/6s3/ux97L891iuVoVFWYe+8KxL+HAnAlPOTmsXIJsdKB/GD5bvu+/uH9/9/7L+4fP3y6+8/Dx+yn/e//mv/4G3n/55fs3b1Z5ECiarx2zHQy3A18u0jC4vOvdFu8+/+GQ//bf+3t/8S/9pR/09wMEJIwCsI/+Na8SOxWmL9KSbya2d9XT8o23gm9af0+IdpPClpXlSnCMAEwSjWQfe7DaqL8NHneDS8bWlFqzuaN7ZZyvlSptBJrbBiTV4Lt2feTot+Bykk7Yps2q/PyIzt8CYihiVGsdwjrsp91IplzXaFO9FbQT7DnEORGAr7ngyky/J0UYvWq6LyUMS/UfvP/dP/ud7wILvB8AAN3hXmfVF7fcfM9l7Xkbz+gJxwz0xQ4MEgMwdEj+4KKlBWRQAhSCn8E7H37ztz/84m/8/hvAgFSdt6uQMHpoC1gB/+cDlj58hQMEYIzmtY2gTWBhSRLFhz770K++Hn7TT/7Ub//p7yyBJdBFCOvYDAArQcLSAGAF/PBHX96t7jtbYLkcqi+WYtY9tiuHqOtU1TWUGGt46BpM5nCTmSB46tyGr3/qs8/+2d/1274HLIEw4t81LzR6tAQcuAdiejwAf+W3/fx/9T//j3dv0oN6pQ6wLjuAbKCwyF2Su+21SWjLT89o96t7p3eLJTzff/waA3/uez/xCz/3E4tx0OorS/XFCZlYOd4A//Bv+A1/+3/97f/lX/8bOUPd3TB4t1im5RsAYE53i6FfGTdCRR7bX+jybEb3vMjDsn/4hZ/57nfGN1jfdW3JAHwE7oGvgP/CHF9/7d3S7G757u4rX0VUc4lGJhxYyJcLYpU5DD/92Zt/8jf9A5+N479oWlHN1APwADwAvwYsPn69SHe5SwAyRJoAH0fIBNBT0esKdNGzAXITnNZ1dz/+8Zfffveh//jwplsgpZUP/Rc/eqf7P/kn/q2f+9Znb4T3/DYcMqyAHCbrscsYp67Be/QJdz3wA+B//4H9lV/5y19+9WO9uSPDKdtMkcEOxKvyXNuJiYr22hjobw72Zf34BmIehKdgzU9e8XAdUwYJDcvFpsjE5LLCwqKkG43FWkQe80FWs3h8jqRNtfJqds/u7m6SSWnTcFQ58hC32me3hikvtqk2jGTDyhRtPXQQrhDb4x/HjLUv/lk3j7h5kaWkWxlUa/D8RnPkrYtYeJImnhQz/Z4QJgZLGn86HAZjhvdvllwCvsJiocSMSGkEE9LT3RZrZeZPek1jtFCJ8DHJzyePBiwgAEbrgRUk9QP65fvPVn2OIFwDXD6qKTL7j2+ABdBVwYPofYBZAuneWUL1D+37U7mQ9X3vuV+k5du0uLt7++7+y28vlyH9LpGXkfsrMmQJgL1lCvJbRX+llWv57u396JUgycrcnT6rvp4qr24kJaJTZgoL8DrPucky8bV/XKT8i7/7d30beAvcFRP6QBIwH4WdJKc7ZMsuCcCALxN+6ff/vv/6f/hv0+JDFj3Vq2tiKiYZyAEZxYNjqpyaSAgywhJkXVp0WNgd3qzuF5YVbxAapV+aYBLkcHWkOrpZEhLwy3/k9/+1/+m///JhxXcfVl/0dL59/8bdmZJ7tpKADLUB281Ytwc2IH18eFjk9NndW4MvgQXwvvp3r5U94aCC95FmAVj0X7/r5B186L9a9b5MYQGO92JefCK+6vtELCCnJ4DKd0wLAAIlNwfAWI3YJ+AOy4/ACngH7xMe4F999UX35s6Ri4l1pKwxOh1OJkVkQs5Fl+jDqn//5n0/ZJoxdQ9ff/n53eI7b9/9qT/2x37+8/d3wFsCgwCs7u/fvns7YD2jCAGDIGBYwAfkAWmF7le/Wv37f/o//EGfuw8fMpJAcymHb7bcijD+Kp2g1ST8izOvuIbZjGvGtsZ/1sJ8EpLCrVJSzjlsJK8hBri+fo3lUoq33p6ObctdE/615YYlVQa6rndqPB7bp1QFA1Dqr9b7Y4/iQaO+v5i8rtUufxJE9/vsadxFaubYc8zCyY41DFfn7r8TE+fnozGxvZRpf2XUjpl+T41ghUOIqj6ZAr784kcGvFuCrkRlPRiLxTR9wue2BVG1FY+Ls/W6knZob9aTyT/5amkdgRC43qVFZykPAliTzRoBKJuLvkglAVRluxPcrRjyk6WxwBU6Q6LAg9eBKm9UiFouU+5l7j707tLDwyLnu2I8lKkmXg+BUZQbjQmLMLGmbgBXLmmjfHdM3P1TiGN8qRsVLgdWJG0zZwjGipR/AoVl6t4m+2d+zy/eAe8ErDIscxE3z1aHreToF+6/ZncHpHfEb/v++9/y/e//za+/WixSnyN5sRMaFDnoUhWGo/0c079VStlBqi53z6sVJVpO0tuUwuLaIScg5lAk84M8shVjWJl1sLTK+fvp7pf/6D//7/wnf77PD+/e3vWDDENGXqTlx4+rrtsov4RNGt+CMb3prDPX0Evy8COgHNV1v0xNhSk4ybvMZWdvqI5KhBs7phUEFQURBSvZlS0t3lKGDGYzoKMtJEJwA2TV7MrQXTnQL7FYABruB9ri/fs0eLdc3PeFqELZYUJSjfZ3CkYvXsuEuXXd8osvvvze937y/uuvfvjDX/vJDx/erB7++L/yS7/18/fd4G87Uz9wGLBcLt/cQXnBOvYO+RhpEA9dfgn/X37wq3/yT/9Hv575w4GL929TNjqIAXL3nJVjmPk65V9gpNCqn7021vl1Yx7tGc9BUG7UHbzC0N+KI12g2fCpLSOLON+YHLfJaJvbqLt4zrkJHmWkio1tYXzcdLnneIeWYjWWXbFxDW39Nzg663r4qb4u6ZebWa9cLpJSGOKqxe9UjsobtrixASmlGxKAJ0zkc6AxGjY+XKcj9Ey/p0Lk0E3AQCvuyhE6SN69/xDX+AO0NEtvAGTPNPoTBOAxebILMWTERqGZ6TFYaVEO18hKf/IfgKW9oSvq7bzrcDcsPtj7H+UUtZOSJ8BdyAbRB8MAGwATEuAD0gIuA02lBTDCM5ggIBcL+SFDuidl3GoYFoZFl/IgyeE5PzykMlZpLCajIgODoHG0EArovUP3pveEMiXXTvV0uI+m2T0Ykx7BEGJPJHGWwcUoJuQAkqwb+PM/+7M/88YWOWT4JHdEeZwSv1tMmqABwt0SdAy9YfkG9kd+3+/9W//Zf577j8vuA+WdC/RlFB4iXJbHoFOSRmv1UztkeFmSLZRSSpSElfX9QmkZsaSjfs5BwBMEkiHQegezByilxdfD6vf+1n/or/6O3/5X/ubf6j68tYHCSrmHZ0sD2EHWrvXWNGOz+BAgu//ifrF4u7DE1f3d3V1xpB+c1dBXrN4cQEJL+qKzFeD0h371MXPBd7YwyAkV0dSRPEqOmbt5NmXkHgQWKGbSMlNkgkEQzNkBWcODugUBWNEIuvtXX31cLBZjm5GK9CsB2VzYnCxKgPX98Pb9Zz/88ou3S/7ET3x4c//xT/zRP/oHfstPf8vBgUjAosuLrh/y0pKxUWWEtkoR07/srfsR+Helf/c//k//L+eX3Zu+W9LeMKsruqhBBnMlDVLUWniFMnBE1ydashQvRXDhVA4lL4aDOqDWA+QMWFcP20IKR55W0130f6+KWz4Us15ggn3zuUspWSJImmjhPgi/upT1By+da+vWE2ZDvaxF+xUaH1Q09DZR+LXMevv0alyatKTy9CHvtUJOe3LNA70WGbgVZlqRJgIywxXh5MrUVvevJhT2JlDnxjMxuUk1tj//zqfFTL+nBcMIJBdDFhprs8DuAQG2sGSp9yR0ZndESmD61NEAgxmQIIOMbhD3H0nFYxOiuE96yjEhEfC+9EU9Hr7qE5d33Z15MpFNyGkYu0Iw6JrqRhHHXczCoxxaBueo9xJRnTbmlyqld409/KHvh2GwxLu7hcFZBLnxKZZAIrFyacVHPiR2W7SJ09jYlx5p52iO3ljQ4j1nIhO9IZs7Iy+0fw7+wd/5C98C3groAQOXqc/DaKFmiL/FcT4xZweAjvfD/Tvgn/4d/+hytfrO8l3nSApTqHfuUbl3MNQCv5MurNvWwABTgkODlGGZGDIHWAkATvEvlZnQEZ0jZRltMfgQPf28Wy6AX/5Df/h7Rq7uhRXNLcnVd4dzw2/fvjch94OkruvCE5gLK04FhloVKAy1ob8YgCxPXbd886brFkPvlCXR3FIZqKha5JCWafnh7YdldxfWXgkgy+yMjHpR/goJMOsWDgzhWNKl1ZBTWnx498Ec5kxuqdS881q0OSovOQxKVII6x//P3psHSZdd9YG/c859L7Oqvq271WqhHYQ20NYNaOtGK3Qj1EhClhGgQIONxthjPHgCAhgHE55hwmPGZmxjD8FMOAKE7QGDPQyIRTYITQghISEhqQUIYzwyMpIQSK1Wf/VVVeZ795wzf9z3bt5cqrq2XL7u7xcZGVmvMt+727n37EeIw7htBrUMoNXe7jff/Yp7nv3EbQUrSMjUFVCAg3hyDJq4YRBIAAECqDoA/Zd9/OCP/Pgf/fmD7fBKlC0JW+Nxa5ZUW4B0+21FHLBIQ/lwwWEr/JGDFUzuYY+QHuUm+cichRs4BUq+mg6Js9sEnEZQsS7NLyXNXE6B091xzmXFJuUyKb0MUPd0Ud3Ty4nQiw0zxDbDNC/kp2dwhJhX3gEPL6XOAimFCdwNkRXQXpjIUuupdzeaRmpGYpTznWndAQClTOV93qaqqs6rSYm3LgchCWnlSptpzLpwg37PG54sfEY9fwxuVCugiQAjAsxkgGoSaZh87t1Aztpod8WIHNDkHbr45c145gq5krOABTjOexp3rgkGKDigHgz290YUgtSDZBQjSgISCwUy93ac7IcwiAAGIQggMHFNC0IYpJ3/6ilcoFOjSjNbKhUDIhdCJa1p9Oh9wemJBzhZX6PbwApCcktngKih9qBOXtnTS6hbgeazKYuJBETTAdjWGxSdiYQbmFEqVOwiLE1zs7X3PvfpO2mIBIBFG5OIwwHlIlxWKUlEtQENmEPFjtsqvPR5X7EVTVQ9RiIPzBaVyNuAVsyKTQw9CWRyniElJ1I3YziLuTsTc0ilc1Iar/QiA/WfOUUaO1c0GIAG4AFwGXjmMPyVu+8NTQNXhXLFbdsmR4xyxKjfImao0r2zr4YKLEZBIbH1EQEKOBQUQZakUnIE7zJjeT+R4DoapdDpQEGck3SaDNZOSQ3hQso6tnbM1tZpJbH1N48OsxS922ttHJLywEWIGsGFqWpGLTv1oi9A5uROZpx2QRjTOGqQIZkIgikrMQXyg70L7ejb7n75t911Rx11IAY2sLF0E8NAKl8MKMgaHUdvQQAxiFvgPz6Av//jP/2n9zeDrVubA9Q+8IM4cBY3UPRUGZudmcVFXNwXp294aArbDJR7eKZEVxOREELiGdLZWrHk/BprbvTZkGnW3Zk5hFBV1WAwGA6Hw+GwqqqZbjJA7uTe64iQP89fX3gFZumiEOUXzzUpcWtVVQ2HwywAV1VV13Vu1RrGa2nIu6UfHkWVFmHmHrMuYF4pczQLXT7rZQByAQAAIABJREFUYbCGS9B09RMRqesa0/56MwLwPH+4joYDZ3Se8QILL67d+dvnHHQf4fC5gMwVLL5NGP9yJRwtep3Xs2Y0AvNfWDtu0O/ZkXxfU/tSqlh2B5mItICE5CeN1uGA5LzJ8y91OIIIDIju0eEg5sO2aGsaqlJqW4d7954DC4/5AprYOhwBqBEZLWu9M4hwJ9MuTJXdiZzFmXuD6nRtYpt7dZaFs1TAJp+SPJP4qJ2c04fQTr4NEDSZ8gAnN4LDQApYH0wbqcu4DBQascTnHbYVJCdbniteparRVOrQQiUwk1t7sMX42q+64wow6EY4gpUkKMySCA/DjBeYw4yTHTAQAvDal38N9q5V4lSzwdWdmaNbhCt7t96OpIgp7ZW4shubiYPd2I369Ok048ubXYX7D8bJ+3fg2Il43Yuf99Rbbh1oHFZh3MSqGrhN6ba0QDnI+YNDiYw4EhlIlaMCClVE7/Ii97WO3chSOui8CjqunoyTkqjrYFoYbJER2YzUKUm86gBg3nnBm/d3T47N5JCpYPYuxzI5c7/auR8MZUSGsrXaDLfqttVhvUXEbWPjVqtBbdo2X/jC47YGdz/3ud/20hdcBC4GBVqwgpMayLigEXcFrA4VcTUyGxMOBJ8c4R//i5/9/U//xZgHjTEiiaNmqsQ5LX83QmSQEBEHlmohI37E2tg05IWaDx2ads3IF9N1Id4YvefpkXmD7D9Fi4BFqnM60sNuoWgxI6JMSdfMIYQkhFdVVcp7M09fHr+0CTjRcvJcxPFwzAzXjOz3cBrJmeW0sHd53W4aR3fWOsCTz4V8n7lnMyNZpztst1JpVnH48FPDHAFKoZhp5cHRJ2Qrt7kjdGCnf+hGwvsw3c5x95C6rGe5OfruMxGzGzzbh/PX1j4+N+j37HCCO1tv10shhkRG7iJdlaCDg7barioycw1UHRr/G7pbAAATOYFg6hw4Rf45plNf1cEJBwfjwdaAkwU3KhmqE+7oEmBonOBc74MOaORDHMQRBdZozARiAtg5eYQ6JcdeOCN4NwjWj0YgeF9RyQClQ7t7PDAlcZbglMJuU4arXhguDjAnKNhhKZ+ST4zIBnDyWmWYO7rg4D7WPXHX3Uqz7v4Fkz1liO6alMzR1Plaxzii2A7BtbWvesmdyfUFKU80ewuKQDXxE0eSgZk6SSyYgM2BGMEBdzzu4pNvufkPRvsWxE3FmKuq1TaSknCwqTFNNJBbS4Xvhrk7mQlZstkyEFyDRYkNwISqU1X0cQTdHYse9yIjAQPCZcJ3vu4Nf/cn/vlnHtwbXLgQrBqPWqlZe3awZAqpqpKDOk1Zg5PE3JkxU8p4hWnXAAd4yqbsYOqqIrERO5PzxOafXQMSJSJ/MIFFNu3My1Md6hLVJ/doYuHee9+EnMk5LZ68dJTTeut8GQLLtWvXtqqBNrrfNhevXG7N9/cefPSFbT7QFzzh8d/7jV+zbQg6pioCcKpzHgjrx5kBYoZzM25pMFDmA+Czjv/lp976u5/+TNy5VA9rbWKoiMic28ZMyAmo03QQKUKs4O5snUtPeaas/XA5KWYE3aSWIiJ29Lm+4H3qB/hEg3/d9TRXvyJyZmJONQ6QVZLJfyLF7BNRTk4wIznM8Gz5z3ntwMx3Zq6LkBD6tDCZhsynd25KYQDkGxfEuWTMcB0znxeIuNZf924XmRnzkgnE2XTEmwEDYJb0Vnk9Z94sLfW02gEgm1QOG9gV40zMLS3yBNgc5C3jCF557Tz0CjAvOSwMvFzqUGyCuIJi2zr3yKJ88Myo+uYj9LAxq+4G/Z4dSRJLIEcwS0GJe7u76eLWVpUsbTUJTA9NxwxojN6fD+4GgAMlXl3n3o0QHVQHBw5idIAr4XDS/dwYUCgzW7KUBmrbUSVObkk55CnbrTuM2NnQp/tCZ4Y1pAxYva2UWJGcwgt/32PDF/2qiEPmlA7qcCQ5UwjMXdAnU3GHI5TTJW12HDlSbK/Nh8qlqPe2bavA1jaidqUKX3Lbo596yy1VZ5NnCBtJakxyI4dxtr134a1doCqTs0VlYAjc+/KXUjwwG4FICU7iC5mt+dHrt/fCFtuatqpqFh3q7MbJYQAKs2JF5TlVmHZ8XC8eOxAxILzwi296yTO/TMajGtwcRCEx7UIqco6JfLjMaAO7z6ZulhzOu8JCKUoHzFkWLwyz6TvlnHnPNVqheVHi5F+eXk75DunOwinvdQrS8H7kbeILPbemrJ8k64YlvcwABGcxvrC9M94/GB3sXhlWo09/8lVf8bzvf/NrhoodQkqO3ftvd7ZrBk9inaMDXNcDJ4yBzwL/4//5Ex/85Cebi1txi6+2+2OMNejYRyZK4i5GUHEPKeMXACITIgmlPfC6My7Nr+Qs/c7oZIlIQGXqB1yH/UXBJJTGwHzMUe+Tkgyz2X006wiOZqUO++8M55NuG7gf6Om9pRS2y/8SPWxjzo8Y0vk1Vuoa5r/Jc1g40cvoxVqQu3NYZhaa9nRYW0MX4TRlkJi73BeEqTz1+Tt5Hax9nuefP3MlUfS6m7lEaFZn985kHfdglhM1LaP7HcFv5MBmglzS/bNqNj3IbGJfXftKu0G/54gkHyZWmxzixGByFsfNFy8L0DYYBlhUIYAEaqgOTTjMkiQAczNPyYKBjmVf9Ggir0UACIGApm1AthXqE3WBIJURcTBVFmBstju6fOvl/XEzdjcYwMpwB3WGbulk9t4WwASd+IqiS0qdUBRJPiaMnL1LBZ2EEzgbpSxEfc5wB7Kki06YIUAYScygiWAZhEkoCc05Mq5nQLuR7A5v733+KeUWSmI9vBO0KOViRjICk5NpDEHEbSCyTcajg3u+/mtT5HRv6WUGhBDAwYuywpTtPQAlrTiDECp2wBX33Pmcn3zHL43GY64G5uwOhoDITdFlI17AlmUW2XKUCxnUOOXpTuKXufQTN78MDVCkEljs4JRQLNWrNUHTYqvCX//L977rox/ZH7XjCAt1CzWo60TipT7EMQ1pafEgJ1enlsVIzKvIAaggdTLYey9so2ifQ/rkakbmZM7WORd0NZ+7cbb+5+SBnMhEgAqgvjSbJHl+biKEcu/NyZShvVIr27vI0nlhFCQwN/vj7eHOqG3Y46XgcvXzX/2Mp/zgm77hIjCIhkG6dW1mgUNpr0Y2QTtDuwQB9zv+h3/ykx/f39sbXmiE2rhPRMOt4Vhj0zSDrSHMkrcFOcjc2N09Gbe5P8zm68xdXyhPTGZmB/I6d7inEI+kePKHQX8zFqoA8mjAwEzqSalWWDLMs3WxY7QWWX3LpxAvSPtHsHnmxK9L0/pZ4d5VyJtBqX1YOCxUQMIkDQoK4TDGOCP6drc9o4/UZqCU/OkQf9LuC75AR7PG9XYaATh/zn2e5Z6LNbHG6Z1X0RBR72dCWLRNPPwws7ZKdmRlh0cpEK7miYehPGWXIfnPawrTge29f+Dax+EG/S4BfU5aB3mSv+Tze/tjINRgByoRIAAkHHH4iccMQAHpP8BtSJAkghTvDmOwJ+kUWktI9lsJw/ER9z8ELViAVsQAGgxFqoP9Rghi7A4jM6gzcZ8srZN7exGCCrYhS1ZJ/DyxPTq538HJp36bugowyDjnUy6/Q+nfADq/4uxp2N2ZYASlXvgE0O9LWXudqHU2P0LXzaniN+xwc5jXQdrRwZaESsdD9Vc8/9kECDEIiEAAA2oQnha6qBgjAlwBhkOYFNgS3Aw8/2lPe+C+P2jgYxAUFSp1VXUmAiaeopkQShLuZOBeeDDnNKwmMIXPGdCp1yZwP3JcVjuh1H2rq6COR1f4jte+5sf+7dv2G9t61KM1qkE7EaUgzG4Yp+nUCUoUybnLV5Zj3Bm5gniaoGyTncig7mTKEzf19K20Ds25fErSaXSW/zzyjBSQn+pPgQBYtjo7qbEpq6b9Gk5J4PJ+GRkczMxttMGgUreDvWu3Xb4QH7z/+U/94h/6m9++A2wDMjC4R3V3qcJUyEMvrgMAApSwqxgB//P//i8//vkHv1DXB6BKmNwqqVIpwToMKqpG42uhqh0eGU7uBGNjF3dn6nyD05hf1wJhyUPDZ1mXLJ9QLoO37hQV5wXvy/4tEgwYQMqmWY5G27bzrN2McIWe9LzP+jmJ/MrPJS5/VT49/7ZszyK92cMBC2UwdyfKZowFiy1vwhPNgnfX8xfSAKYZTMkRrmsinUc5Agu/UI5tqgysqhuiZDlTDHCmhcNmdMJAHBvnznGXG4FZV6a0W7aJpXtYrcZZ5K1w5qLbirq9adRe0uoK2kbZlNojX1n2o4/GDfo9O7I82pftYcAi8YEEunLzZ4BHAbu9oyYBRxhnrZeJIjAAADTAReIKkK4Gz+Q9cUUEAUAIbmhjO6wHu+oHQuNjt78zczIIUICAz45s++ZHf2H3IIiQNwAMrmxExFCnyNB5l1FBFhqF3AESgAjk2U312E0iOEGKH2V7LwhknZVPjJOZWGHCRggADAaYTNxfk9REEWjFG7FGTBzcjeEsj5I8uDCjHOyTnKV8YAZUTgDEUbMgauXEbSutvuj2O25Cci2OwoyKTcGCwOjDhgE270NeRRgwhVMgMQUIDleTEAi498V3ffj3/9OfRSIwWq4CQc29W3LzDMdhJKwUAAJVBnOzSr1R6s3PAdNaAwJCF6pV3IIAGKMF2sa9pu3Xveg5v/me9/G4/c8Pfn4w2EqzhmltWWL1YkoB2rdNCWOxWBEx1eZRKGLR+mBDN0osxCnIXNnSy8TJTftYXjKIJdE2KFsUVTJlm7pxN/iIMAX6vAYtwSTVHwKMTNmVTRnuSiDp7gxJ7gLEAEbjMdeDWEnbtjdduYxrV59x6aa/8+Y3P5ZQwRzqMJBIqCbxx70kPwlHJjSEA+Dzgn/wf/3r/7h7/+e9Jb4QTL1pRZ3M21EjStuDbWqJbQsqkbQJnd2bHcFUjEwIvUA4cWHYAM7ymCjJsHOhpK5qRWlzy+oV652EcX329zAspF93F6DbAguFFwCSBWY0AKpK1Nl6y2Exsu46dZom96QpWvzceVV+vyte90N9GLruJb1/qUooLpbLdVb0TQvVjOYsK+6eC4KU4SElD3b9IlNuJtWk0FlIv2nrzYOwdso9vQCMvldH9GRDCOawUe5W7bpFkaWiNBGUSvplW4DXvrLnUTYpVeaG+YmtVA/1iDyq6YBB0iCC9JCvrRE36PfsyNIvgFSOxYgV8vHPPfAt3/c/bbkH+L6O3f3Khcv7D+5W0knBEwdOYBLxSASYiIwPDi5s77ziec/5wW99bT0/CQ4AUWMIgQBzH9SDBvieH/p7f7wf90M1ZS8+6p0jrAqDqA05AlPL1Z9Hri9etphS+BiQXEwdXXSuoRdHu5Zwn7k3yXlJDMbpV04qPANfkCCEe9aN+zE3pOrH5oB34cPJWsw5j1GKRi7vVmpV4LNceE5iDMDAKR/ZNKPoCpeKR/sHl7cH7bWrl5le94qX1sCw97EmMoMxBQBt1KqrGGToTZKpdG2EBbC6CwsIgblF3EF48ZO+6BYOfxajhorIiJhNw7TBp2//AtfHjp67WlfJbggDqcPgWcnS5Qkru+aFAEydydQAdxWSIYsCF4C/9eY3vfnv/dCVm27as+gIKVl0P2JFQKO7u1vhOOBMJsTm2cW/m0ZC4TFgk5ulirtl2/KPUm62dKY5p4D2/jp6ZclE5sw1kNDFsfd1fXsuiBxwdsApJ19KKdVSDiAGsD28MHZtmqYmp4Nrj9sa/IPv/e6nXkpFm6xFS5Ak6woh+8L302Zp4pX4APgc8A9/9t+882Mfa+oL2LkwHrd1VanpoN6qpB6PWiLXNkJtMBiMLDpzOrGIncwZ7ORuIEmBAlzalzbw/F2I7ig0h5DQJMlzFjm89/ztrpgRMzksixwbwEafDlmImmHGMmkTTfSHpSDh7iGE/GdClq+SSFZmtvdF+bH6D1OOG6WaHtNj219f0mBsIjrlICWXnq7gfPJaZhClnOTCDPJ0DB/uI51tHtTXnuz+XHTMXUfIFp1yncx/If/JyWNsmmVbI/2eWAAOFJLqPSnpzMzn0lszhEDaGxhOdP+zr4buiEstJDNodAQKDBB7knzMzd1T0o604cwLJNf1upzAGT3pgvMu6ZxmLfmqmaUVPFMS9kyPdWdmVQOwMnPr0TAzhocQhACLBJw4Z9BDweeZUXNmYmJnUYeZgRYPRdoUlr3qbtDveYP7NMidNpedHaEhi9X2yAByr3YA7Ct456bObknoA12TtZPQGT/JXCsCUT0GRvUgpn92dsgu2BgACBLYEQGIhAbYBR4cXnxAx3theGwBuMdELCeqQ2uR4B4YGsmppgAHJfGXOpGyk506ERLJL5i6BMz9P04xmtbdC73IzV3fTZiY4GpwInaiJNsFhsGZKAu8sxZqBsQoaKptM2s1TbK9mzORCDlzYzFqJCIOtWontCRBkVOJWzalVp1kWI+jX9y5dFn0jsdevrnTpwUlc1gIXXtCJSnCFBaITRiNtiIVgGGKYhZWQGEMq+CVgwnf/OpX/cDP/7wOKyin6qhCiGrCIUgIHBhm1smKndKdyHqhHR1LZsls5jB3hjOTh04sNpoUU7ae37POJaAfRgUMQWgbMDYQowKe9uidN738xT/3vt8ZXbjpmlK1314IA49KQcxbDoGBKoTA4oQIJyJ2CbChcy2hbVtSq8xC73fdraVesEWK7ka3uhyAi1gQDTxtMjYiBpxScSzPk5+Mt31HrLgnJ1ldqVK0CotQglQWglaVVkZQsMV2UHNszRBJao8aDEKhbbyuK9fxzTUuxL0f/jv/3VMuIzRW1QygTk4eRTIvdVCKYiCFRXAAVfvA/cA//OlffNcffeJg+KhIIVDNaKHKRKquOgYD4AgnpmitE8gtOJwSu41UUIvh7pqGLLlP60YyLjNi3oRd1gggMBNT6ML3HYC5g9BJYd0m4+7G8ESqgZM5yVXVTUkmAmH33guXq+/sUeCOywohCAsAcu+rRC+KUEuKLJ7QRieFUjJ9oxhSABgMq677UM+qPQIzeV/wIivOvL9EvQNHMrCziCdLcs8YJIlal2s0WQUyd5HRs8QQEQK5eSfbOowcMDUPDKoCuat3Sqc6hO4MdSPAPSuFDxkgMwKEkI4YVY9RW1WRaiZBo2EjTKMzmNGeJLh7EOnKSk/ioLrVRflzeR8YMbiSVqGq5kZEzuRF6stl5eZZhNPEAE/2Mpo1JOZhmhj61zeP7v3R2bVkSn0+834D545N2yyTCpSI0nmzGoETAJmDSKaNwOvCDfpdBuZWESuxEtq5vVyMjKCUzgdLnDo7LOVdYpjHCsxo3Lnh0HH0AGA2LRikJ3f/AxpgFKqR+ChUZ+mLpWdlx2B0tq+j03XYYSKvn+A440IOQzLbFvfnjmFzokD9iUsA9bWFkuDR24FLgapzUE9lnB66GVmfrZ00yO6pAhP6ueYgrcah1N6O9veuveovv2YLYI/wgClrc7bgMFK5KmcBBlLDCRazpXqianLAbEj8wuc869Kv/NJeHIfBBWEeX7smdZ0GZ542S7+e5No4JSeSTsyR/dgUMEcy0/YycG+47My/nfKFtY3VAAEQ4Nte8+p3f+TDDzStA1cuXRzvHgRmEAlVUWNgZlAuGtU91DgwzKEgAbGjN4s7F1/zaRVNp1BJRXr7fZtSNWMXBwwMMic3Mkr1e33io1DoaLqM053ChtjB2neWHGLMllqsHMTcDNrlmRIBszNb01CrO3F8S1V9/9/8zmdc2UKrg0qmWOt+zVOW7RMkNDHGUO0D//zn3/HBP/rEng0QtkHuxCnjdDlHzpPu57mZTanlnRFpSp+1eVigGgaAlB2bmVl6LfnR+3nv9gBGZwSet6CWD13/2TCH0sSdPJioj5mf+dqctXby8yOYq/kBXKggnvEfKWVvM+PsYFJ8fwP1CeeFZDmnfhGaGSf2iIsAJCIBugCkMiTpJDJbnn1mrjabZh8SRBQOKfx76E8cyeVKkl/TupOAnUbYPmwvy0hRzutNyTCvq8Bcy080cw8bkIPRFUYnd16OCLFp0m9C9tZY2byXOu+SSV3N049uEm7Q7w0cgk2jX+pL9aKg4vO9f/6Qg4HNDGQEIyf2Lh9SsoFTBBubWYBfFnnVi28nAG7JMk5gKRI7WaqrSYjmYDStEwhk0drOkoMUisqCziTrwG3beNlzn3vBvGlH+814UO9AiSBe1LHLzc5eNp0IfFrSmJhQ+19PQr7dqzqktMwBuJnDt9z72npv/xaW/YNrFtAGGru5QyBE5NTlbUYvp6HYBjeDeElQdfWYCYzIiIQGUOXYkgeRilgadcUIum/jwZCl3X0M0fd+65te+pQn7gDblaSMXApOr6LAOiqCNg3UAGld2rD1BeDHfuHfv/NDH/7c7l4VBsGAJpK2JqrBnU7GEs9LKec0MkvBzOwncF895SFFu4y0yIWoEumC4c1LS9rmj8PMO+bmLvnOlXLp/CG48Lbz8EOQf+LuqYzZzPXyzmmmTtffzcfEJzmZYc00JdrukUfgiGxPR2BmPNOaT37sGZt25pYodTH5iJGe+uZX6dH3oSJ2GslEtCacfkGXWxiKjuUvrHc6F05J1oTNcM+bvPLOBeWWlzB/SDyk8vUUTyz/PK87nxqrl37nG7A5B/MN+r2BI7Bp9Fuu0plD9xyR75+Odu8SGQEAWVcupxNRom/LwJqxaPzq5zz7tmTuS66JlIRGhjGs9wknjwStaUywPsVyqJKtfiIDU8rYTEi+ia9/yUsvxLYia+KYpUoeWzObeTkOZXTZKRRtjq4scJZ+k+g7xSW4wzAELNq9X3n7XU9/ZtjdpbahmkcWI4g5wOBG6q40iRufsTqvXQ8IgMDUx8FYSqhFylBGx/syBY+wqIHZA4itinsXmv3veuMbXvH0x9XWZWvTbromA5VZZ2vauqodHMH7xA8C//Tfvv3XPnTffhjUly+HUMWmRRvJFQxLjpKn7s7GHC7zmFdoJmSJIhP40Qtj5rQqhef5H659gR2GdHiVAu3CDW2GzI8+746Wfg/jPVIzYoxt2zZNE2OKqZGjG/Dwg09rFRd2doZlOun9yw/UV3uemfeF2odNQF5FWCTElg0+TuPnKXd5LT8ap9FkzGPhF06nKTlH0IyryeHfeRiDD5njcmqWx0puINYy45tzeNyg3xs4DjaQfpcq/ZbMJRUWZoaxOzunF/X5tARBnCpCpeNvePGdOwDgYNLkTow++1bvgZt81PeBd3zwoylrdqtx4vjsvfSZHLkJzL4NPOfRO0+96ebtOlTDQdO01CW1Wjw4MzjdOHjpjI3OHTkZt4ncrAUROwJwKfAF4K+95jW3CV+qg7u27h4qcDCDmRlUPRoUEz8jyrEVm7DAGJDeDdsJym5dXmoTTjwxVE1EqkoCsIX20nj3La/+2tfc8bRtYIfBDAUAErA4k2GS64yAXtcRmXeBa8A//vm3v+O+P3iA6z2SMUkTW5hWgSXlpfB4il6UEs7mHDRHoFwAmYE+dbNpWq+d19VhnM964X3qoy4Cq5eBc+OT+1VGjDEZZrHoKCyvpCG1fuNxovIF5vw5f0d7w29ClgA3gTZXhlR3gIjMrNEYfZK2ZvabZ99dp39L6zbJnAJH84fHp+V8k+5DT7ArptkzmfIP6+ombMQlQzN/MeORRu2Y2zSX9JTSgbZUIi7pccfEwlXxiMIN+r2B42Bj6XdJNcx82v+Feg09YH0qYC7jmZk5HrTbTI+/6abbv/RRAyB07XErU0b3P1GYAn9yMH7r29626xg7iMQnUu+M3GlgF+Ai8Jq7XoyDXcQWHKKS0bHcH05NF1Plg1K8FiDo6gITEciIIY4BUAO3P+bCN3/NK+PVL1jTVFUA07iJxEFzw3LqnT4lzyYRLCOnEycYm7EZdZH5UDgBlcggxHakVz9/Sds3vvSr3/K1LxsYBpMQ7Cl9RxGVbyAgiBP2CCPgJ97x27/+gft2q+EeVQfEDTzCeCAcSC0CLDMB/ifECo71U4Pm8jXQtBvkqdtMiyxRa9+pDsOMiS/TaSe+miWhdwalc7J3SZtmJdXDxLP0rHzbtm3btk0f0nsuypq/2bbtjEuw9wbSlQzSGpAE4Bk/8BVged5M54uSSDPFSS6ivmjJHYHyPkLrNLSc+MGHqUBKLRSw/qOubOTM3oHDe/HIgeRcUPnM6LWS54KZsd2o0Z5Ruy4bM7Sw3s3uBv3ewHGwafTrvWH27BzzQz6oeBaSJGOE9EqPTGHADKub5u4XftVloAYCzeUJ632mU2roFnjXR+77o8/e/57f+7gTiKXPLY1JzK13MrNDHXEbuPv5t9+2NaTxKIQQyWfGYUZJMaOVP8VWwzm/92REOjHY3YnRNg0AGPRAtxyDiG+6+0Vf/vjHDuO4ZlLVRiOqVIKFycs2cEooNS8LrQv96AOAk7WMluHE5Mwts5ITeyWRWm12n7A1eO3tt/83937dBWCbAUJrZvAAEvOULHs+o0s02gX2gX/1rg/8619/5/3On7025sFWqGoObBU8oEWMrQbnMJ2l/DQ92oBRPQ5o2gX0BOeOealJcXcG5HB71BL7cCqUIvqMvSvLwNEsWgd1UqdoaNVb9SZaek+vaEhfMLCB1SlGU/X0MkN6uVPbaoxWvlQ99o9BoT1JcuD8hp+ur2ygloSjbYxp/BuNyRR8lniEGVCB8nomgQ1cqyWSdJDyBwlxYEnS7zypHpNVcHdJtt9CkF49Tv/gGeXTwp1r7RxqySgvZOnW3sKV4QglzZJobzPHduFiWB4OM7Gu5ulH4Ab93sDR2MCxpSWkv5pByYszM8iTz7PSbK7vrWE9GI+//s4XVUDbjJDKy6WoX0KZSopABuwDv/G7H6Jbbnn7e377ABgbzD2Vz+h1Y+gzV7MBMY7FcWuN27/kS2+u66gNuCs4vZBhommHutMxVYQ5H2sHgBgjERm8qgNO4RO4AAAgAElEQVTIwAgDQYNtwU3At91772WnWlvxONiqoxmIGBRAYr1ZkqxI3LshMnDhpE5dEW8HOzg4i5E7WYw2PrhA+tVP+5L/9g2vvgyEqHAjIDDDPZdByzNufUViB4+E9oG3/vq7/+WvvH0XvA/evnJ51MbWtNEmelQydQM4oCaVs+igN2ZUHwKUGd++Vm25kx+//TOkOvPDjR0HOgbyN3O/snE4WW5jL7zOKIWzxXgGWCSZlPf3vvQDenPoDIfgfQ7ChzfcPY3zwrzcC4XY46DckxdO8cYu13kspLWSgTyCc5jhMzmPyZp4jVMKwJkeSoJBkYsyEecpJnVhHMLpFodPY+b6KW54HWG+40SUtKciUtd1+c0yg+JJkWa5pGcAM0416Ff52oe9HI3V7DjlIb2Cxx0TN+h3M7F6BcT1Qr/untJmpiYlg8/5tsaLoMT0WUSCVMysBIUrwZngKTuWscWvevrTnrQFATgQYMLipslO3LS5qBC7sgKf2hv94ac+/Xmz9/zhH34mwhlMASADWZaZc2OAEARkDPylV7w8XNsT82RA7X2zp3azPF8zOTlPNAKUmqxauHAD6gBCCMkSPEkLBqACHAF45TOffOfTn77TtlvwcbuPABYKzOIQBzuIyAnROtPSYDBIbVtkNF0dHEBf8zhtelU1kGpozgYaDLYQ2x2hCxZvf8Ljv+/Nb7wVqAAOxATAAlCBEdGVIWL39BfIHK4YA7vAT/3mB37uN971gMIH2whV27buClIRB5taZAoilbcsXp+obFhCptNNlk98WsfaJZkrDsfyjHjI86KzRxVsd6KLSkJpTdrAY4Ic2eezbF42w07kTCbrz8DeHjwRStMOoKpN04zH4/F4nARjMDlB3aJpqzG/upzGTOmVAl9nNHp561PVrJso/1vX9fUlqh0fBs8jkxBjHI1GKTQaxdScrjpGmfugZGCSbiKEkCji3PpzfugMvz21TpJXmZNNiPqYXK7BU8Q18laQKLequM8QkdZYimNfdu/ObcTLLmUlxykWyhG50U7RpBmNy0zzNpmY6RCc4ufpykzfz7Gd81z7Bh48Gatv28xob+b43KDf88UZ6TffZEnNKx9xPdLvylrYz5pZshCmirWOiiweXL33pXeKg2DEXZVa5srNFOAaSkl4ZBKOwDve875dp2Y43K/Dr73vIxFojKw/gg3QbAF2NmBsrVscAM+47abnPelJA1bzBrRIs9nP44xEcYr146pdCSj1VMRWNT2IDV3ArCGJ7enxEMc28Dfe+MadphnGdntYtXHkru4OJbLOj7zkZybtPO28nBPMbJyE8DrIoKpH++Px/pg5tKruWqtW+3tf8aQn/m/f9ZZHEQaenN97QdPL/NbmTArsj/YJpE6t8D7w/3z4P/yLt//a/a1duOXRu/tN20Z3HwxqwEBOMHaIJ0XHZqZtOh/Mb+DLeMTmh1Nmap3nzcrv5K+tsm2JKqkvdzTT1LUnxVwLytxgWMLS3fDlmrEk8SEh24EZU5zeCk75s5ZBKq+Up++pd6KZ0x2nZcjKlsw4hmF6IjeTjfZDcMT304eZNdp9MId1W5uAsunk7HG/1Oue3We1QZuGc1lXJ0V5yG3UyNyg36XipPQ7j9V06nqh3yP4xWWCGUIQYgeZ9fUK2VSsecylC3d++ZPqJNt1LSM4eTTAUz0hD4B5BA6A33jfB1sOLVfXmH/1t949BpQpiz2eXr0d2OAVD4mJgFsY97zwBTTaYx2Tm0/7bqAwr5URfafproMhyQhJQhFoWpMB+5SdtviTELURgkQ85QL+6298nVz7Qh0bgaZGkhFZb1eGGhloKgv0Ao/rFcIAEkoJug8OxkFpm6rtwXBYV+pR0F50e9rly3/3O/6ri8AFQChF+vbCqvdGc4ELj7Q1853htjsaoqvAL3z49//Jz/zs3tb2SAaf+ewDW8PhTj10mFqbiml1FnJjcTKwnnwsNpBUD8P8ln7GG5bcC/eOBszMIJj7qnJ8nBTUR/+Wc5eaqu427cqeTbUzL4MvfJ20MT5X9Wfh6f+IEoBL83jOjDUTKX3uyHfeTIpOnmIVSyDmPnHgOSL0JZbJVzoCp1zQ84tgnmBOt1bm2a/zXXMLB3cz19xZMM92J9eFeevcGTF/K9/gWJF1Mfcz8s/a19sN+t18rFhBUz53A+l3XYFSzEGIGCCyrgKwkzgGTfOyr7xjC9gSEDRqBNiNAHAISPIeAECdGuD3/uzqnz5wlevt1tFW9cc/97k/vn+c6iBxcQp35XMIBCHAYRrHA+Cu5z3rIvmlqioMwFMuZ7TIQ+8064c4JeBSgglswEpIcv9sOwGQSQhu7Y4gKF5/13Oe9+Qn1M3eFhlc3V1Tzugs/HCn19+cBWbwJMbWYSDO3qqN272rD1zerqXZu23AP/L93/XEAS4rAmKZIRvoxXcGCI2riAiTAyPCiPArH/3DH/3Zf/M5s30OkcJge0c4tG1bSVBVcrATO7N1+ugUhOynXeDXxR7o0zXGlnHnDTcCz3BlM1xBOYmrn9C8pZQDOC+lP3Lg1G1WOTv08p61mXr8jHn6Ot/WElGSgVesBThnjU5ud5rOU2iMSoPPWYa4tGbMswsze9Cpn7I80CE44vvpw4ysleJ7lyT9lk+cGfDzfcS5YGYxrAY07Zq44bhBv+eFk9JviRUv1OuCfo9gy5b4UAdD2IVh4ga4EQio3C8zvu5FX9Vasv9BIAQQM5zAwjCPLacU0gER+KV3/ea4quEBHqyqY12//bfe206e0uWZTgm0HBCImzqoCiLAY7bw4mc9c6gNHyI6plmbCb8/zSipgWCEFmgABa6O2xyXSoXQl2BAqpy5xbgIvOUvfeP2aP8CXFzVXQEjgieXStu4VQUwxAABqmqg0WE2ELpYM+89cJO3P/J93/OEGlccNaX01wznrjuYpEZTWCARsBkOgF3gdz599Yd/6mf+LPrOrbfd/4VdGdZS16NmLCJt2w6rmj2QM5mktM9GrhKVT1MH+LpAZpqXx0MnTA4gz/HdG4TD9nYvtFfJwHu6Lc5O8jpjmx8JyHHRSQwuXaXOBaUGs/x8Xvc/LwgmAmrOCH1W79Hp+6xFe3WaMkjpQ8nSlRfLz6dgoEtiKwPHT3qf+QbPP+J04eyrgR2CY/685Lmlx/KWV77thheLWyhNreChM5aZNW5wN+h3NTgj/SasbJ1sPv2WFuCs+Fj66DinwFVxI8R83ovjaY/5oqfdcnGLYd5ArZLQ/Y8EAMMHwowY3ZxxDXjf733Mh9tNEyl6C8R68Nv3fXQ3saFdrV1LRWAVUECA4BWDCCBHAF5/993x6tUAX0i53cOnNUSn6TITHE5ogPv3D37tt94zGFQ50JVnGQY2WCWVxhiA4Hj+k2+7+wXPx7VdcTO4EgxMnpJ8drbO020sSwMLwMB4f9RqHGwPmVRG+4+q8MPf87efchGXAYpAG6u6zh6m5OBOhLCU87nLfMYYAx/61IP//T/60Qeo4kuPuv+B3VtuutmJH9i9ikqoDu6AkRiLBvJg4FSCGFCQGm0i9Z0XqDf/nvu+ne9J11ta3XOg2dNiZqkdoQN9xArAeYjm85A9olAW3lvGCPi0b8jKiPc8z6EZSk6i10lvUg5uGvSc9PJ0TZrZDee5KGykxuUsFiT0Hc+ib8oyh6VtZKltmyyT5EkvjSQrmPdymZUt2UDcoN9zxKnpl3ojySpjrq4L+l3LLLMzO7GbuIMMTCAJTl9350t2AAFai+wMY1ekZM4psacQETwlTHrvRz5+fzNuRBgMtWjWmH/6gQc+/IefBiYBxKm4ThKALUJIUoSsqhHwrMdc+rInPkGmGYVy/dO5xOkRgbvkzLtx/LO/+PMPHIwzF5hDlvNMMHgcGycDITgGwLe/4fVPuOVmBjmTEhsLESGlDE3CXynAY51ZoBls6l13nHlQRcTdvc9f2Q4/8JbvuP22K1eA0BmIBeConlkm8mT5R5oka2ILHADv/pNP/cA//dFrOzsHPnCta6qp1dHoYOvSjgXe29/fGW5Rg6AiJg4y4shQMlAkRD6BZW4BNpN4E2ja/HvuTc3H+iZHqxKRFOt/ht1fvYqc5jzUfM6RZJXtWS/mLeR5g6UyQfe5onzEud/8vJCTVGfmkM5XjWUTyl3lOISH/srxkGcxU46k/BcnRE5Al8dCiJ0w2j9wAvlDB8lw3540STN7rjM5AIdutkKrqiqg62/5Hpt25kp6Z5DB82diFup6nc+DRMCE86Q0d08cghMhpf7cyFGdLAB3dQ9EXb6Z5Tc2FRXRwqnpnPeO88AN+j1fLKRfANpEIJmPDJgkk3B3EAmRO4SdQcyrMJSdK/1OtZaA2vRiPPDxiW8kaaw6a1gAECgwdzV13P1COxZvTtvO48IJBjNyAOwkxkQIppW1r3jB0xkgWJDk2AwSmMEJ6hA4VIUlULgG/PoHPtBW9UEbt8KgdRtIMG33Xd75Ox965TMfW08NW8qx1A1l2zRVXVUBERgC99x51x/8wi9H8uAE6ioSiSlxcvZkgSg5wxyehFKciIYJKSTWHUSot678xbX2X/3K29/yhtcxUAPpdo5UMwRwuPsgDBmm3tQcAH5MhW98xcv/2S/8snKtbE4pdzRTvn0vBDtBJw+eAfdFipZrERWWAwMYFGhQ8bW9q4+7uP3X3/Dal3zx4y4DtTngIFYzgYTQlw8sVQIAgFBVEfjoJ/70f/2xH78mw91GBxevjEbtYFCPx+PhcNg0jbtfvLijqoEYnnZXTtnFQQY/eQUkAOiz9ZxlFFaFTvJzmDs5eAnRWPkA2sBDFr0ny7wWoNTwgibH31J7wJg6jmeMBJiXyjZvPJcNdzciWXn0zaZh2XKpuxMgoAiQA0SykqE+sQDMfT0od49gV3MWIkFfEoqJOjpxkPugqqNpWVgyqxAW3t9iG0IQ5rQPEECu7tge1ok10P7p86a8fD21kwBhyYZ7BUAUDURMTMxu6Deb9a3pNBSMTr3EzMlam5zGuGeI8vtga6DuaRzIPX8WIut2NEqfC6K1VLiBAZ4kHAVw+pQbGdHAIRCxuqm6OuxcBezzQspiBwkGtGruFIIwsVt7mBb2RDjsuI1uBjc365nGwx6xfIdO4Ab9njdORL8A6q1hZ7ruRkIBdndGHzjtXBExcViJ3v3E9Hsol94vbhB6U+ETL279s+/+zpaPe8pkJl48X+CkJVAiCgTA1WB6aRgee2kbXR7eZcHIjIwqcBvavYNh4PbgYHuIV955+wVgADCYO1ENDgMbEKpQARFgaGWCPzW89+MfbykE4ugtkdURYtxuXfiN+z76Xc29VY0ADjA4YC6C6EjVTKu6cigBQ3DruPuFz/o/3va2UId2HB1BhUncRqOa69YNFIiCeG1oFeocjcAuhOP6XzjM2AS8FbkO+JMWu/Xln37P7375V7/8JbddFgPDiGEISHMUPQRBaiIR0NaQmxG+9cV3/NYHPvT+P/kU3bK924yGW0MiaUe2NajUydDVckKynaIrJyTozqVu9aU1sPxd0QyR0fg4Nldvru3N97zsG5/1jEvAEDERrQIQ6d3VeWK5pkk8dCRX0F888MC4bY0HLBybFsINIuqg1lZkzIQ4Jq4g0KReISA5VHvqaOd/fnw4GF1FXKhqq5ZOukRKqzeD5mMCWama5tE1hBCEk5sDA8KUNvWT3f+wwSHr9iZzJqqEyNGqmfnqM+scgXR2GgBPDhG90tlIuKoqiTGaGRE7kZ1cJ3LS77sTuKO80pmKRFBwNXlaq6pqNc6kmt9MXcMpMD96TiAm856BBMIhnT0dxZGrUNrxXGHMMFu8UBMdLZtLzL3oFFVmQiwiLN0/qVO3KYBjHyyLMaV8CcmogTqwkIzbNnFTtuQD4KwW4Hlu2IvQrLQRlmqkh6ST7PuXeO2OGt1BXYFzIdL+m5i7eUb+16wSiwlEoD615brRbX8AgBBCttZmQuLJuzHgfQaOxGKHJLx1XPgEshIRNKfsTzkbDEeJRhsFg6sbQHw2uTfjEJmWzPR09QlWgxv0e0aciH4BhvVjQuQwEDuxuwNM1MVIChET4PAlm7+WTL8WwM9/8uO997Q4znsCFX62SToqswNxJ3oYL1kABmDiTdME0LDe8kZv3h7K+AuvfMFXVIDAGEyTJnSiXFSr2NORboR33/efdt2VGWBQ7FJFI0SSkVS//jsffNNdX7kNmCqzgMgMFXcj4skgCxBsi/gi8LKv/Kp3/t7HokIGw5G1wlzXtWoLFiOwM0zJiBmxE9RO2N8UipzawrDB9ueb8Vt/6e3Pess3DxgDMDQagwkejZg7HQVxctwGUCNsA9/5TW/42N//Rwfj0bAe7o/2t4dbW1s7sRkxM7xrlqdKUZ30ux6fVTPUAQJcgF9i+rpXvuJbXvSCi8AAEVCAHTTRXPYqmcmaIwZMAQIZ8NLnPee3n//CX/rgR6oKCgd30kOSlCtwiod2V2cywIkBEzdypk7APlUvCFiVCvVEcHdCp18uWZRlTPaMGJYMrYcljVsXyhONpq8DoM3L2rUQMwzDGluyGqT07CuYm7UPZklE+cNqWPrMe1AfJmDuBFrqtnbKJFilxaa8Mg+aq+R5xJdRJDuZZXyLG9J0gGvmuaVAssOISB7T8tG+KM5hLUg50Nw92Y6qqjosYNKdfHot5LEtB+GwcVsSErufU+St7LlnQbY0qmqprj739eCL0l+tV0Fwg37PFyek36nWHka/xU+W3rul0i/BBAhAdez39JLilf61BQz6V+0IbmItWXvGmMmH7gIREXl0TkpFbZ90y6Nuf+yt3HUQQJZaOsmIGWYG4tZxALzzve+NIE/Mv6eqN6wEZUTGb7z//Q3gBqYKgJOSGfe3pb5KcLr7FvD1d91ZNQchsHqsDCESQOqULIip8BC7iUOMcUKejcBoHWBUGDNaRds2Mhi+//c/9rb33rcHNK2DQkjGyppz65Jwn831Ajzri6688VWvah98wJu9nZ2t/dHe/uhgUG8ZOB1iSfOWu7awNctmOQ1oyAyogZtHzTd82fP+xitfclPn7J3aJUCQbJ124xQe2FcCBnUyvKsPgCHwV1/3+sftXKhjZNFoY7jDnIwIQkSCMF3oslu9ZYnX02ETNkMUB9z8XjejRT3fBs+fNTOxM+f1oHNHecDN28/XhfnpK6/PyEibPLznghWLgpuAzBauMig322MS47cK/ud0P+vYgoINfUh+9/jxbEcLCflZuQ0zhqOEkmvPW0xuc05ofsJ+nz+8T9tQsvsLMT8shw34zM2Xijyk11GKvJkGz9gbz3Ln8iblMiuHZROG6Ab9nhdOTr9UXkkfbH2akaXSb18iKGU5Pta79L+iIh1J0jKIQRQSwQYBC4mwLHvIVHUw2ILSeDyuK2oPrt3zohfudO3k0mBHYAYbjJMllrAX8PEHmz/+xCdcgoHhlOroJCHQgZbxx3/+F588UE/+m4QID6FfIp00neLEGUANPPu27SfdclNgbbUREJk3rbPU6OLJndzIFebkzHbi812ohrOKtYCRtnEctrdtuPMzb//3H78WWxEQjw4OABg8sw+pwQrW1GhgC3jD3S96yq2PurkOzf5uNazA1JomGc+InMknhtVZRqRzj6bles44kOLsLwCvfO5zvudN33DFsQMET/muKTn2U44Z6hdlrgel/X9EyBvbcjxxm954z6t2rPFmfzAgmLETgwMF5lByk9yrzzr7LdgLfcfJOnIMVeZ6sRrVfL5/eWyVF5f69ONg4QabJd4N0WKgaMzMoM2cEZswpEtFKYYttbObM/XlajwXrvgUDViZ1H36MkgoiMTMUh3DbrCYSl3mjCru6Gk+DitWcsxClF/p9BCiwEzJYDr9cnftsTkFP7IJqBdIlMjLQm2lwFD+0A8Bih8uu/Hej+pMWMjmw6fNs+UIn3EnykJaygc786/17nQ36PfccSL6LQf2CMpdGZZNv+4OO+6rGwNHihowuEPhCleodaHpSfZwh0vKpHO+DZ5rP6kqEQsI1j7q4tbdL7hjCwhJ6suiUQdWbQFApHG0hF/73Q9cjY12An4nU6XgTyOPzA86fvXdv80B0BQE3AtZnaqEASaIu6diSBeBr3vh89vxNWEPTqwgiEvojnIykKffcBIxTxRF6GAmjdYiRqDeYqn4oNVGhv/l2uitb/t3DWNsqOtaYApTZDut9d7CnZPwFvAYwV97w+tp9+pWQGBwCI2aUhcwnKgg6z7mBnM1pG2AMhAivvuvvnnbsWXwsVUAOcNDJ+920q8pJqsZZIBlBwSHDyoeKLaBb7rrOc9+wuMvBWUdixtTV0KTKThxX+K1/zlZ0onYaaXfY+7Ma0HWXa7SGFse6Flv64XZeY1cihdK53IoriMTQm55qZhed6NWhCV1dnMmfaYlJzV+nAtW+dBTPqMkgES3M8au7l80tRnlnx9tICq3qoU/KbePw9jHheeBu1ucMNCn6/v5gnp30IKBnt2gj8Mir5GBvl42bkx78qSWt9pleDpj+8vVmMlBVTs+b25Cz/Kss+MG/Z4Xzki/Th0H3cl7hw/akrBU+u1ijPm4r26REQjkEAcZCOkOwl3+jd6cY0RKSz8jawnNQQOmqpJ4cO2OZzz1cUMMgQq9wOZJ7LT8fcABVsJV4B0f/AANtw0EZ4DZGSADO+CEyNDhzr977/vHSNZOIbhZA6jD+yD3Xi4iF2AA3PPi2y9XPGS4tmaQatDGFFhslEruplByJ7HTZCkRYQa1aKJHCjRqolKF7cvv+MCH3vWxT0QBRMxSvGInB6LL4ZSkOBOgdgwNr3jm4174jKdVzbi5tguA6pBm2RbtihneS50OW6okTIDAm/HeIGA4ILQGoKo45YyczC8mxt6eWid3SC8D1JwYQTEE/vZfefN2u183+5V7SFlkWJxgTk6M0vRdqHDO0tV1MQDzmN/EzkuzfPRD59uQBe8NGZmjMa/SXa+gngdtvhk0F269upatA0cMxcMSM54UK34oVigDn9LfJn3obBruqhpjjDG2pkljP1N84VzGcWaASsXnPDC3WI9gQ9eIaS+d2fPeprPmmpm6q/tMvbI1ulDOOxJjAwS8IzAzUKraqraq0SyapbFNeRpP9HIidY9mTYzpbnqIQ9raNaY36PcccVL67f44W7zfOWLZ9KsnfDkB3gkb2nnVctkadygQGZFgSy6SwwBDALRuxH5R6Gtf8JUBCF64xfZCYC8odZMagQ988lP/3+f+wqoqyTjJ35UnYq0ZcQyDTz+4+/4/vr+p4CkfKwxQkBvBe0GQHCnVkajdQnjZHbdXsWFyB9Qpek+x7BB1JhCxM4z4RIssJYBnMFCBx7Ft3UIIQeqR0Xiw9WM/93//OXAtgpijjrlPfJV6ROBJaLRjC9gC/tab3nipjdtwCdS6pe2le5p12aHmuBADzFZiBCbwzmDrYLwPNtSePOw1NpMc1MlvHebwlIcydzORe3LadwBC7jDFEHjKBfn2b3j1ZYtDeGAWYWYygiId390N0pLo3RhOYwHOpLppG2NG6f8yf3EZz8p/el8VaXNAc+6dWVaf//IaJ/SwR2ex5HpRK5wjlsq2bQhv44eorlbz3JL9IFpFGcizWoBzi2OMCwPzZvLfPuQE53seMfTlFxYiD1y+chj3vF5RBH1sTG7MzJrz3kqW+NQ4Z/Va5RpdiPkw2nW15ETI7cz2z7OHlU6UFKozItyMgLH2UbpBv+eFE9GvzVX9WNj9/N8VHIcbRb9dVGRv5eWUNRsA+szBBOrFhCQhLxvWxrquW1PV9nFXLr7wS59Qz3yDAEzKuZgpgQ7GsQXefd99IwkNyKwvg+VMzlkodeCgMWxf/OX3vmcPaFojJ2ZxmOUCvqWkjVizVykV1sH+oGJUFE2rMOgTUbkxXDwZWk9xulMSwbUVhMAVwAJqmoakasPgP+9e/clf/X/bgD2FQChZalPBYUchHBpiS8AF4LYa33LPPZdAzf416g3S7pN9ZuES977DywfvN6PhYJhyVTk8aiODej4FFwEEFvBUwmrP7urJ/durCsEgEW+6684ve8ytA9cAFwaxOyElP8sFkCY392k1z2lxmCi1MuTNpNxSVrCnzd/2CMFyjViYJNKLHBzlobzOhh6CmVjuDRHbbuC8kKdy9YRTrvyFJpBl4MRHZEm62ZqRjlvMJP5hSplRAeR4yON4pMzzYZkDTn+WVOeWVOVMEILA2Y00emytbTS/NLpGn/eaXD3pzuwXzBByhjEsd1xVk0elqjZNM2riuNVWXdWbpmlim0WsfMNse1oSF5tkknyoEJGZJbOhmWUpZcMjgec3a+ZAJGaI0dpW00vVe308A1yEqYpIxRzSrwB2JzOYYTRqmiYNBsrfzouaa+l4xg36PSPOQr+t6ahtxovot7zn9Uu/XkyQuTEgMIGJ4zjvXQipQTzlgjaBC4xgcIVpXxnJvKsmem6zfxhLR0TXru6S+PaAX/4Vd2ylI5PsMOdY4SqayzDsAu/6nd+lenvcxKqqGdbXegWVcj7zGOE9f/QfPuMIFaMvDtr5Vnf9Te2j5JsisGfffOmpt97KpC3auq7btgVI4U4kVfA6eOjl7dNIIFZLLYArBlwjtgFO5Aeq48HOL/7W+z76ufFIEKRGVBQSrEdPAb0aG1SE/5+9Nw+2LSvrBH/ft9beZ7j3DZkkCYKgKIUTY4rJkJAJMkpKKVql5VDRHdoOUdHd0REd0R12d0R3tB3R4V9ttyXdNmJhtWipJYgIiCAKqSRgyqAIliBkMiRjZr58794z7L2+7+s/1trrrDPc++597557z3t5f7nzvDPsu/daa6/p943WOMUNhJ+449mPH/QftTWYji4xqzTTZjLpVbWIJPthW0l112v/DMS4U+jVw7R0xlfnBSyEoFBL9s0EqIgDkTIEBBaZiWpM1UwBsCM1MOGMh1P5hZ/9uUf1awqTQcVNM1HSutoykzAAACAASURBVN8LBmXq+k4K8BZxWQ688BzNLM8zpSnHCa6/ubPl8PLWqWFjx8sryNFO3Qtb51ySPN2VU98R3vewKOfhvDeIX8bcB5jXhp1gObOyd8EwO68R1hmZn/iuZn3Iz4vWE5mpfNYnSD4zFoQy2bdr3fctx0X+8jjue1QXWt5AxM10qVk67ANerr8VAUvjpnyvfhnvGwrEjydudlgWlYjcfLvl73UpenCE2KzusWGX9zfr6Dd51qP56MFHfqNjBi2JXWPtcp/JfTiibdsQQtu28U3uVyddj6vF6fg9IK5y/JZ1F5FgukIkka9zdMPreMbvrG3KKxs6S4LLvZZ/YkqYRQImZngyVZCaBE9aIXjIkdtI5ccR26edtme3h6TN9OJDr37xHVuAIlgualc+LXggcTUC7v7kfbsBEyP2kaB2T9MYxtyxHTIehXDB0bv+5pMNAFRqpOAZ+bPZawy/5IAhcOfzb2t3L1bOppOdfu2JCMYKE5iRanIDPvRy0FWNCfDmK+Kana9gZnA8de6Bpn3t7/3+OKrfjYPG0FBR+UvWBlN13oOSR3NPMQB+/l/9q+mDX33M+e0wGp3ZHvbrqp1OnCMArRnIz9qz+HfdBnC5t5ZeuQYWYDSdOgdOxs1QZbi+wGMKGNpW2LkgCkZopsSc47+bGQweOM/u8VuDH3zpi26ooKPdiuGJJ80UzGBXZLeaxTm/LMpHuTxpbLLc+aSLMIcTLM/KNbHEiZRqGaVIpfx+YeHYBK6+VuQKLksSHyHYnD65DhzZEpPSG8AUJqZBJR3d5rUUI+3fpit/pSIDSklOWpVGwvIR/W00xdtE/HhUlb1KLJCujNIHqJt9FnP/AjAzMW0lxBYutUlYGwFeuEWmMUd+o2NG1H9mn8zce1sJ5dGEtglt+Saek/t5mcjx6pM6Hj9Ox+/BcTXjN9pJBtMmelxHMRZmRoPIup0j3Vgc0/gtytsVng9zYM701PJnbkIb1KINrXdEMJLGmdJRKwlLXhEFXghhYHLLU77l8T1yZh6QLuhTUe3uyRsHYAK88/13T80RYuYbkClIi2dAMSaWgxnTJbI//dAHmtheXO8T2lrADHjBS259+o2DymnjTExDumQ04432z5xo3aFWhK5aDKBSqs17z9677WHfe2/kqvM3fvgLn3vzPZ+cAvB94gogNY0WIuS8lWphVSiGhuc86eZXPffW8ODXzg167XgC1cp5mBHgVnRyjvmf1k+B2S16dJOAFRj0elBgohgHKEQxAR5qU45ggxNAHE2k9f2eaMvRVMHgYDCFoQK2gB++7VmPOzvcJqk1WDshUwBBU9T9WVtfBbI8C0uqpE3AiRcmT9fx44mXZxnWGY1vDgdeiA0RUZZwQ8q5blhnthB1oeWXR4UF4wXaJOfqYyvJSXX+tWiAF7QcV+lamWFFfN18l1JHVCrllrenGyW/WRAsYWmbkneoC8K2Ul2WG7lt23L8rKOa5fPNT3ZzBuoVY3nUleJYnUeOF73wV5vTr64Yp+P3UDjC8RtU2rbNXHThmkdV4HWPXyuVvmbRZFfADTClQxwNo+EY44oD+QZ+Cj8Bt743ZTcCT8ANOYMD+7USpNhFHTG1zbY0/+JlL/YASUNAydWtC/6UrZUb4OvAPf/4j8pVdK9wzhmZkRprTv+TwXU1hn3qi/d//mGMAhRMKQOS5rt0f8AtxGA1cJ7x/Kc/1U1GZwa1NA0RARwfAYOY2fYeQZd96vGERN+ZnXPT6aSqquH2Vks0rqrf+7N3f+4SGoKADQTyKUqUgZ2zItIVDA6wBj/1mjsf7VxfTadNRURQDW2sXzCx+UbheUnImsDZ1jzmYQbNafIBOEblwRg73N/iF1/7+q9MMApAhQAosXeVdfZ73UUZRCpiGmpgG/ivfvLH/WjnLGPLV6xiIp5cNATALEmVGl9elLOw9Cxbc5z4JLnc5XDSZGn57idYHl2KOLhcpE3YVpV9rPz+xDvYMSOv2qXz8xG2wIIRx1Fd9qhwgqU6nvuuZQORJ+Ur0DDsX+3lX3PGSEWKrRozapTfl8dhy3PkKAfPyihnnCKEYqXuF4iBVFImCTOLmjot/H/WMUmVWpG8e97AEXtYXLYWNI+VX15nS8Lp+N0HVz9+yw6TB1Spj70Wxy+VBLiryAR6CXjwMMfXgQeAB4AHgYeAC8CF7n08LgJj8CVwS7XMJZG5KpRyilLyxcx9do/vD573LU9y0No7U3Nwif0SAOTASApEbf77/vYfH5LQKkzJzIKpkiqZkAorkJiPkgoUbEF0tw1/8eGPhBoBiJrJwtQemTZ7VAzHDA+86rnPO2/ahzEZYGRgY6fkDM7AzHBX0Jdm7WkGM1NiJaqqKjQTmBipev+lizu//567doAp0Kgy4LyHCkzhmEAaBCB4FgkAztV4IvDjL32JXLrU967nuBlPXJf915GbMc9jnUp15r1N0SWYk8mBdY3hcZHwxQa/8H+97q7Pfu4Nf/ruSR87BgUciIAARQyfHX3BDSBi76Jn5xZwy83nfvDFtw+D2O4ON3J++2xo28JqgBUpHZoeLKj5grByYxfispwnVYZNa5ll0flm7h/24nsr9zyb1shHCOry8az7MR2VmuHqkXlEpuXH1j8XbnQMDeIvf8qVYkHKdajK7N/o5bBclqXtc8cTnGiISFWXp5LyY3xj8/YwcxMNQWEwlDNQPD8pzboI9Ude01IxuCED9chBXVyHhS/Lj/nprPz1esLp+F249dWP3+5XIxARIbUA0PnoanIpPXojqGMYv8sP59K0/V9e/8ax7x3wCpEJAOYVrvOKFCJlBHaiLatW0m6Z3jwc/NDLX/Ft33izP+o1LD61bPMfVBCa22952s1AL7E1T1FrmHXBhii3UYAcGuBt73svnT0rY7CRq1zTTJwjJUQLWW9dZQGwqQWAjet3vf/uH3vxs9hQEyOG/gKDIDOarYADorwBT3vMDd/+2Mfd85UHqsGZGISADERwCiVTNgenEJsP5X6AQcQEZXBk7GpkSv1erw3j8Xint933NBCxt3/gnu95xrNu++btiqsQtPIMxyLiwADXvici7Jj7HAAPbAGvecFz7v7He+/6h38Saod1VfeqnEZuLzHGcQz4qPpNIoZO9KAAo4VOmT83lv/5tb/+sS89eONjH//mD77/1jue+7QbtxlwQDtpev1aLTjUIIMl5XXUxFdABTjgJ1754g995OMXL439oP/Vrz4wOH9e2wBIlJUhdXsYQfeQ6NhSAKdu3d90R6ROkHolKamP5O6lYmB5uTlmrLx1Xgv2OeeYQUVsjgXGvnDacZfseJGDgc06zxqslHMv5Wg/Mr/TOEGclHAtN8i6V4A1EuCylxx293yYi6+2sSnnu/zNYUuyDlARApGZYas3AAszNRFp7BXFXqasShwz0o2iI+fAC0ER0sVPujGPBPs31P4d5sS70/pwOn5X4irHb/T2VQK6gL9pv60KQMwIKjBnFtvgqIp9DON3YbVS050g7//UZx6utw5aSIpRrdQrvMIpAxBiJWoZxOg5uOmkP5mcI77tRa94IjA8ujUsP9moIe8qZX1fff9tLxwAgrY1q+FhmeTEqgIAudQNPn3/hX/4whcm2+fZM8GpChwriVHy4O3YDhkh5uGuyTnnPv3lL33k8w/f9oRzXSva3D8AwJzSBIMJQ+Dltz7nI295q0E6n3FHqiBlmBHBMZFjBebVC/v0KkOSOxAhOA0OSjCjixcunjk73AkPj3cfrvygz/5B0ze85a3f/rM/9vgBVDUEeM9ZJksgVZiDAgHmRHrwNzn88J13fuyLr//qAw/3hgMiil1GI98GXBQtRANww5rTPEORszbF2P3s0CmEGQ1hx/N9YfyLv/4bn3jgYZy7+Yu7k61e9do/+N1f/pmf3gJoav2qDxOOo4kIgKT8xepBZAqjIfNZwk//6I/+0r//nQdaGdb9dto4Yu6ItrEqJZGKs/0sGvIcmJE6KiE25olPjxH7C0CPEws7+BMvVcmm8lRs3WyfVr1NMnRaEOMutOfmPOg1oVT/piwUSzuTI8GGjNwFHFup8sy21NPW27vWYgKd2ddeY+MgY2ah6Vf+SSR7K1Or5SvkEbuBPSxG6UyZNYrCL9c9W1NmYlACnZw1qLYxuuxVpDPRVa/x4qoqsY/mSeEan/2WO8zBz79ibLTE/nT8HhhXOH7BsVJqpPPjt1UJKq1I0GyCeTgYndj4XXpA3CpNfb1b9Q961P1R1R9Vw7EfjqrhTt3fqfujarBb98e9wUXyF+F2fX80PHfBWOvewceR7l3NHIA3SjLEzERNVIyIqF/pN9507infcI6CEojJS9PAQJZUWinrWeIyKsAnPvGJgQQ8+LUbpDk73a0vPvRoa86147PN+HwzPteMzra755rR+WZ0rhlvTy+daUbnwmRbprWF99/9PgLaEC/qyp2wdUGhYtdwQCW4/bufesOgRmgANeqUhJY7pBEdzogjn2JJy61sIKJ+v9+E1rMbDAYqQlUv9Af/8JWvvuOD90wAV3tmNqhCAIUZjCpfRTNfZ1o7D1Gn+O7HbD/3KU9+7HZv99LX23Ya+7eHT8w5lb3b9di642CpAjHbkSXjA8QaCGEH+FQ7+R9+9f/+my99WW+8cVeEe4MwPPPxz9//Z3/3jw3AFcU/JVArjQGwpMljitozggEBQ+A533LzC5/5Xbb7cM9TzRTdj5PThzEb4wBpkCJKGqyqSpvumXmCU3e5R9oELCsnMg0mougUEKejYwgBd1ksNJ2b33nm7ze5710l4nNhUHwo6+hICpiZbFIvzTjmsbPQkcyW3ciOGEemAV4QC618v/+XEcw+JmX13oNZO/mTKoJCwUYEM1WLNhq6x6XyLQ7LcNaELNuIItucX8uRJ4Mi1oiIWKCinf4h6gqQZIJGxGWPKDtHzPsIGNCKmUrbCoBhr3+ocpJ3BDM1NRVRMYWawqDRisiBIBYVBWTX78S3Fw7bhdK8SUDBe6OpWwYvnXn8OB2/++NIxm8U7wPQmc2bc8owEMgMylA1MpEQDHTZ9FoGi39olEyzyFXk/BrH755KOWUXtaIG5wwAMdgpsdGBN3KWcuQiMpEYMsqiElK9IzMKjB2jqu6ztv19DCvTiDMtSjwTQ1iSFHB3u9ZUHe2OJ4OqdgHeVU3tJtOLgzB5zfe92gD1HIw8sfOI3ujEHM2UjUCkMWPOGLjp3PZPv/h7eTiwYKrwntu2dZ608/nseI4KA6xK8MQQraTdJhcUPY9EBCPXJUjiZTCFZxjEgZzgxpqf88ynfeEDH6K+B9cCmAqDfNVrgwQ99BOOFt1GJgCUnLKrQCZiCgWZh5p39VTUMU8q/1vv+atn3fLsZ5zFkGBQl7I5KjkPg1MA8ORgQM0GnAV+4Ufv/Km//yDqoL4NcaNvYIJBWygABzgwlIH1Ws5GwUXTNObh2Zm2ZBWEUWEMfFHw3//KG+4dW7jhG3anbWXslZu28v78G9/6rhc+7Sl9Ri9bsjtWwBkYsJSfWkEc71EDQ+Cnf/ClH/zbv/kyJq3WztiYgue2ldp8VTvVBqs4T1JIOxcdGIiImRUIqiEEcs4IyzrDk+JOEk1jllRkItEwbRZHlwxgMshVioP3qSkRhRBAsyyjV3erI0BcRKIlDscl0CAixMoOIJKAEMTUmJkc72XeTtFQ1mb5ljFvtJXXzSwuWb6IxbJ0MjK2RDmiVNfMEIPJq5laPD+EkBPD7nPldaMQ6kn5fZYmu4MvOt0FM9njLvLfTBNghhivvnt8y1fY/35x/8CFvVtsanJVkDhTczTW2css63h2hq6rspkpjGLKA1OH+ZHbiQaUZJ+rHRyxTbR7slmHt26s0QT6ypD71oLsQa8oE+nmYHmaSB1IlUEH0fMfvDtkhyIA09By9hm+nGZPCRJaWwKQNpS29HqKw6JsvSNM9LohOB2/e2HBTtrAWTHJNlNRKkHBoCsZYKratm1rKyxEjmX8znn6WfJuPORGJGo/jAAT7uxh5+7BxhyY2XQWKWpvU6n4NRHF5EBp81GcHKdHEWnVfF1Nps0Z9mLWNM35/uAxbbj1KU+O5LaiClCjnNE30+xUbQIq4PnPfvodBOpcPLk7ceVr9AQFEENaNyJ9Rtuq95wzAMeUuvE0ZqjBExEU3lfAy55361ve95fYwtREBY4cgZqmMeKqqtq2OcSgiwJUmBFn6QAbzISZlayTV7ERC2MCvhjcf/iTdz/5R15Khpqi4TLYucVrcnKPPQsA+M9+8Ptf++9/00MJcFHzaSBWwGy+F60Z3LZtXfcNATBihgE1JoyvBPyP/8fr7724c7GudnfGW/Wwqglqptyq++KlS7//53f/zIuf59k5KETYeaB7qEVnDALvAQQK4Qbf//kf+5H//Td/z3p+p23cYBBCIO+Gva0LDz7kK/i60j1WhJwyHV30+DjTXiurcCotLyk/11Z+MxPVTWufGFdvzijDuuAjICLyzMqcllHde16bR2KwRZ6ePPPHSznnlpcwjmHP8xpREJuykBuFfexZyi2uLclVOJG6/a6c654V9UclSFpuTCICpX1RdI/akAZfKInFbAic5mQiWrfn43GqnTeOAEcs8LS4QYk+bLFfzkRQGyDVOyCykGlR0U/p13UMgBBCbswSe/WwoDPnt/LNhgzO6wDXH+ldxun4PWbERowZ0QLm1B2P5PG7sJBHzUDcbYiZwoKoiAEQMzF1PQemAKiEQd1zo53bn/7UJ1U8ENQuRvk1NXOciH3cHtVIHx3BKc5w4kFx90pAa/C0ggADGAIAQseT+855wEhzeCQA0bDWIe1B2iBUReatzPzUm87/s8c+9uMP71ivT+QJjkEixjWbpZhnND/KDjXkZvqKFIQihmFMzUu1f8/dH7jtGd/20m97QgVPhs4ioas8UrwvosRra+CVt9x6990fePArD6DTOcczuZTzrr/DKuCrSmEmpqq+qqbEDeH+Br/4a2/4xBfvqx79mObizpntM9bKbmgdnPeViNiwftN7/uwlz37Gk88Mt1B5BimDEAggeMyeva/irTwzV8Dz/9mT7vye73nTXX9VnTvfwHrOT9v2Qni4t93noDYV8rySsyUNEnNOULfhsa8W0AX5mzGrLpznUSqrUzzv6FhfxNXfHOQVMOvZOuvapMbPYo5EA/aet+PqaV18r6y3zOy3FDqXr/nPowDCoVvXovM9EeY1gV1gxvW1ykGxwH7NjIrFl0Gz1uPZ8sfFn+ylV4x/FTvnyuQORwKdF48RkcosMEfeWpzkRmJpe5MGEc+EkvvQhytGOXJzsBKitXe6E/cyWMTCPjI3tK6azo5NTnD1KB0d85d7LXVHO3Hn0ZXyju6L5bQKJ7uzP8W1hdPxe+TjdyVWtlxeOU7H7wKsCIId3aGDppmwldCENi63IYRerzfVBmzb3rnR6Iduf9EZoLbo762UAnQnR9Wo8s1msDDuMWqAgjqVHlADTjEk1ED8uPDqGnhBX1EDLKGGwkLUGYJ0dpgSNDJKn/SrbAoGesAP3P4iG+9K21bOQc3MvHOe3WQyWc6ucZBBt2zS0EhK0F2m7DJCa2h61Rve9sf3Aw0AeKQdvQIIQHJnRlJlU2t9oAZ++kd+bIv4DKDtjCoTwOi2n3QcHFhgBGJXcdWbgneA+4Ff/I3Xf/Czn54O+hcujYbVgIOGydR736qEpuXKX2yai7Dfedef7gI7aqAq2j1rp88HkOi8QUQM8Mw9YAj8yPe+6CmPuanSQCbNZLo1GAiksVYa6deDvcqZ5YY5QReuKalWGYEP65+U8m5nfbe4MiyGIZynHJF9Rf8aHGZ95AKuQ1VVVVXVdV1VVRnNOLNlZnbxLWbskZm99wtPZ3nt2xDk6uRa5yosoKqq+LoSzjnvfbzCAs0+qnIuF1vMNjOpSik9t1W51mbCkaNDvmZcYo6nWTaOANs88pd7nXm8pTsC0DzKnwQm6HobHZF1ExOY4tViFiWFiWn+ZuFYOcdt4MR3raB8jsthLcpvjuyJnyhOx+8Rj98DlgpAp15Y8esjfvzG/XcIYTppp5N22oZWTGBgMufZVSmXr5pChNU5ai4+/LQnfvMzvvEGtxuDdqdLsa8yN4sJdDoC3D1xE+/IczLFY4rzrsFk8VWNuIu+pYh+a207je62yf44C8Ejq1RjiobyRBU7oJri5d/znY85uyWTXWkbM7OgoZUQgmh79aMsGufLKrQSdppJ6Pc/deGh33rnn0+B0STAfCyqQSMhFHQKblUA3uAF3/noR3//C19cAT1XtO3M+pnTknQ1RT8Aor5VgRa4CHwd+J/+n9f95Wc/ozfe8LAhMDNzszvuV7WIMIMIo9Fot5VxVb/jYx/788/eZ0yiuT9Er/BC/kXBcUxvBm5wFvjmM/yvv+/l2L009M57H1SrXh1C8L5q21C6DJQXio6XSQABi8s6+BoY1+VMGEyDzdHgw16NbLUqsmwrMc3HlZR4nch0In9cOKFkp/u0T2bR+U0KLi2tSUsmDGWoI3NkntGvfa9yvcr1a1++r7337Crnau8r5/KxsIJjI43to9bXEXt2jpLggJPvhsWD588v61gentkzOyLudmUcnX7XU2wU3PLYyN5hUZYzmErOSlDwhSNEKd175BLgvK3Mr3lsX9PbuFIDNlcXNyeZy9PfmopxZZK8zRyfp9hAnI7ftY7fK8MjfPxa9/hUUy45jaGKzTSKBRNxtcr56XTKnthRc+Ghf/6i2yuAegyGkTGxaGAQtLMBLtrVCAIVaYnivtQANTOVVkQohWiee032jZQ277Fgrq7iJj9ZyxGBGHFjZmwQkILS7sME5yrcCNz2tKdW0kzGu0ElKKbT6XQ69X7OxSnvaC8zDru+vcAerPNVy5ZETdAGuBiaka/+4M/f+7EvX8TAd1ewfAFBFxTKFGQIdsaBFa9+ye0+5t9NN+RY22gVq0sFOHJk+eNYMAK+Cvyvr/t3H/n8F2z7/Jd2Rq6/1dvaHjWNrysi0hCgSkSTZjo4c+bhSfOA0Rv++O0jxNxdQArfFXOlzCKvgYwUbPAEJxgCL3jqt77y1mfvfOX+Qd+Pp5N2NNnubfm6P273C3oXJTjJpv1am06p8x/J2qQ1ld/mTSjXcYurxD7FK9nsobxwF/Z1y2KvkleXBJsj8Suwz2IttvaovPujpOWxkFlnW665K6XwK38qzyk/Xtk++SDlL4sRFyRc6bZ8HVgoA3WLWWn4sybklSU/3/XdK2OzNmoAsroy6yrFNKgs6yrjmdcibN4er1WJx0oLxowrC4u/19X2mQhWnnb4O59iNUoR43WI0/G79/hdW3n2pDSP3PFb1JgKVUm0+0u9NBpcpRCn7EBklnLiSPOkR9/03Kc/uVXAIbAJkQEcI/zmSFr5YG2hMT64gc1IDAATe+drdpUZKWjh1YBgMA+pIQxzTgABB0BAAmfwFsNjddmBKHJDAwiqyRLeKV75/Oc+ZjBwQMykZcQiLRdRba6wFbu/W7k0KKwBadV7YKcZc/1rb/6jHeDh3RaaEkO5zuFZ8hNRBROJbTN6hIrRTPUYTJ1XIir2yaAOXwP+t197/Ue/8MVQb33twu7W1g3TNjxw4QL36+BoZzzaGgzJ0Ibp1pntNij1tnbhP/75+9/0Vx/NHJgMDqkP5R4Yg8DHlMcyCg7YAn7mh171hK1eO77U61U9V1PAzmQ0OLMlDAXHo1wrQlARE4POlFt0wnRkFfZf15Ihhmk0lrEr1WCXemDtEskA3boTZ2bCFV9/fcglNDMFcpT2OELFTLppihyT27Mt99rUUYGFn0qal9+QISpR41GGKSYinZmnIGyASfnCWhYJcNTc5iGBJbZfXiH2nOUDavl9THq0l63BFZc8v8/teQyuUleG5XZOG55o40azmJ17teee7bwE7YI/24L377HY0G3cJjyLRkIIbds2TROF2StP3gSRyQFBRWA9K4To03m0bdu27WXTnxzqvvmmK0VcC1j559dQO5/iZHE6fvcfvwdM9XmA8qQ3ZQaU0/G7D4gIxkEWLawopWwFsw8h1JVTaamZPOspT35UDceYWtNCBKoqFUf73vn2jG66nc7SVInIs4vvzQxdDoyFVxCoggCtqkADVKEMZnD0XYn7I+uIaFQLpyRbBhM4B2m0Zjzz5hsft721VTvVIKa+33POxdDBh3j63YmKOdtjpUR30/vSU4ZpNG3OnnvUlPyHPvVPf/DXn3DbFTiV3wEu64JJQQbHgDgmMrAiNFb3izFhWLvR8wIEAHaAX/q1X//YffdN6t5ug7PnbpqO23417A23yLtg5vu90WhUOQ8mIxo37XgSqv6ZCdVvfMc77xtjOit/sqkGkO2Z0yac4IZeg1TANzB+9odfsw1lafvkoSBPk7B6ngQQdb/54zUn1aJCA7xu+8ZlP9vNQbkZW/61/P6AI5cuFzZp4ToH2ebZUjSm/OAuW55jQLl99cWivJcKJ7/ZZ9+7sAfOffVoi73wseyoG9JX9+obxyNJP/5pbeMIMObjPeTmKKM+lH36pAp5BchPt6xg/pWIjBC9c/eR/B0WeV9mROVRyvbK46Rg82ZdyaElS0NjnoCi0eJPkWnEv1oZ6H8TUM4dFtUDamQw0VwpKmI/UmHPk7vKSVbgkDgdv0c4fi8LAm2YwfVmgJDyiwAGcJdZhJktm6sDiEpgWFQiVc5Pd3fO9aoB5JUvuK0XL8Xe4A1csZuROQ1Rjg8EaAuYhamPSX2IE5EzMCWz3vxNeRAQ592K4YAe0AMqaAXyMRFnUACSCC8ACJi7gJyuAgDXZwAD4DV3vFhHO72KBNKEqWL1xuWAOy2bF/osbNGiMaQidfXJqIEbXHT+dW/+wy8LdgJgjJBYetIKUlT/Aq7TejF8TZ0iPeW7zeruY7KR6dyMP3HvfTo8c6k1o16YoqYegrGhCS0cG8FxparMbASQq+s+tyzqTCPrfgAAIABJREFUHnD0b//jmzrmyghR+2sALATEp49sKQDyjoE+cOczv+O7HvfYfjNBEBFhD6FQmkSiS2zWNI3Cymjzm7NjPiCy37LRzJZ7JcG4DDmx6AjAauk9wEQOYBFrW2lbiQnnu183C3nFjwLibDGUtzrlNmDBhWEZZSeJ8pFl5m/zWPjz8ptotBW/F0tTYhTyTiaTJrSKFRc5HsSnny23zcw5V9d1KS9Y6XyUm4LmefKyrdZyKx3lEGO2GPWqu3uUodO+ApHjxzIhj70id9qmaVKsXCY4jr+WR7bvW32kay4yjvF43DSNmOZZ4niwcRPEKR6ZsCXE78t5isrohZ2/SvnnJ1b6AyDOKQuxCnlefpk3BHu1xilOcYqrQbGyKpJCPkqmKG5Nbjx7VkejR/X6z/3Wm3sz2pKS4nYrtjJDoYCpBjgHo56rHQ655zYw1HUHQeM2AUA77dLXAY5ABgImkwaAFqu2EaKxQW14xa3P2IJSaLa2+tH48+pNZG1ejLWM0LS9qsfMxA5bZ77cTH/lt9/UVmhagDi05hxM4ACZtPBuOa6VLCmcI+iyvspHAoYQBBDyBmdWwRzgnbKLGmtF6iEEJZ6E1pg8ew3qjHr11gOt3P2pT3348xcmSc1bKVhNm/GYvE99h1JKbKEUEKsHJZH/5id//CbmmhRkEprKRQt7ZAOTY3C9O37kxW4h3OsCRVmJfJHSVdUKH8UNXytpXhO+Pw27bF1KukKFznb5D/M55cUX9hsLl9oo2BJ1z9/v1UpWmBtYoUrJDWVZJ7F+aJeNmTpzYttUH/XLIrN3EVkIgDKjzXug3MlT513ctu1J1eWUAJ8w1hRRLYMPeZwUFkbRTOCXIsCQZ1c5X/sqHpXzMfRf6bCxCanqlpEnhRSxsIjFHysSp8Vc5ZXtcLJVOMVeWPf4PcXRQjsCFkMsI857BvYuqJiJtU01nfzAi++I2XpqoAJ8TncUkRS6BhA737ZBAmCVTg89AVG8WNQJK6fDuKprAMxo25YYgIB00I8aoeQPHEskUAN6hBsIL3/ec6t20k522FkrQs7teeO90NUgq8f3IWAMOGKoVexC0EmQtjf8k4999N2fvFdrgKBECniYNK0b9IJodHKORuMGVWiMF01JdhDpYleSvZ3bjwTRmD1EdbcRmXfq8zJIBm/qzbyCDMIQBrxTM1JDaxaMq6p1/v6d3de/5Q8vAIGhhkbMkasHAwTpBCJqFKRLksSASnPOuW8buB//3pdxM3Ykg8rJpLHCvSLF2rYUKee6QYwNEVSCSivSigSNYy9Gp0N+s3xE5VLSfBKCpb14vFqkOnkns7FkOEXHEBGRoBpUS21YXk32KX9JdKmw1Nj/fCxb2xYxOyLis0gMuVPoXbY8x4DMVxeUvcsc2Lp46U0I07aNKsukfV2KQpLqvkdWlMNir12oFRaOsfMnm4hrBUVbxfK3MkubunDu8g52Jn+JRzfL5bx6J7WDOt1Yn2IjUE7KWU4JzFnp8Kpwhdjb/WNzMOPAXZa/shbxpywRjHVZaJDjL/MpTnGdIbJfJZDBGSgqXS3+pOQJpDadPqqqf/BFLwjT4A1kSgaPLi6zJY2wqBFcKyrwVvdD5QOjca4hTA9zNPABVSAfyAtzYARGvMjDrbTMqCqDBm21nai0LvqTUtaQpm2zU8gUP/Syl22roBmTChETXeH6nh3Ls7B/r7k1WjSbWSNBDVT3m8H2v3vrH39dsauwCgI4U+8rgM15BWvUfBeg+Q+FI/B6/XIioZL4SI1ZKJrqGmCkIHVqzpShABQkRK6qQ1ACelVlSm1Q5/v12XMf+vQ/vfWvPzkCtIJzTuLlKYo2UuAy7epCgHeugg4CfuCFT3/qNz2x1qlOJkyQtl1Q/F4fAtDl1Tkuc4kEdlXOa99eyH+YN9Axm/fCHmBjV8y9qFr8WErA99/SUKHAzC2zSG6Lu5SXooUYUcyI8bdEmpAwR042wKF6QVtbEv7ljhFt7Mta5I+lOI8KNfK6y59LmHWhOOkmvTKU5gNiWnaYgzQjEcWRG6OlnHga5Mv4GJziFMeDUskwN1lb+jV68UVHX+3ynR6nEcsVIy9mcVsZ9U6mSmZwlCdEZl4py8wXOfaCn+IU1xti+Mpoz9xJnqCEadsOt/qyOx16/6wnPelm4IaeRzuFc3NiYgIYBnbMCpCrW2AE7AI1wP5wjI3nDX2te9UYO6pyO4azhApcu4qdziXGJbXojtxR4kGNb+3V3/G4b/jbBy88KM2gPjtqWndYJcP86WYmprZ36DZpm+FwezSeOOeruh6Nd7lyn/zKA7/5jvf+3J13MLCNSJFVlYnLC/FcUyW9fAoZTTGfkK3dDFq6QmTVjZkZE0hdDHdqSmCm6FYKVbEg3tWVrydBWhVuTRzGW8M3vuddz/mu7/iWISrAgikpRw08RVKtgDLAYBiIXDOa9vuDG4Gf+qFX/3f/5y+3Cvb9lOY3TvhMtmrmLzvYNceMF6pj0f7BTNXINDFA0J46b100k87q8YUrb3LLdOowoBAEzCQddOVBpxRsWNxCxJjTBUkuqLKpwkxVTLXre1gih5uz/TCzUkaQXxENB5asbQEojABVoTgLZV9iAF3Cur2qd/W9KE0v0YdWZS/X92sIZWcQEc39SrUUVK2ELdml73/+unFKgE+xQaAiFlT8mAmwzUcmzONnw9nvSsyU24Uot1QFo4hvcS1W8BSn2GSQwZmCFBZpGHcKOpXp5M7bX1QB3oCYzzbHZ4r2ygQFGBC1AGoZv/qHb7v36xdkClf3gk6NDvpfsuiMCkfiSMljFOHpZPfGM0Pfjv7Nv/7Jxw/7QWSbCa2lzEKRi8EQw24BACrCNvCq217w0d/9HdRbVJMqriYcmxGy2G4v1N6H0BCjqn3TNMx+HILrD3//rrue+5xn3XLTWQYADZPGDYdqACXan8ktze8yo52wA0pF8NqgBstRudgAtZjCSQGCcBRoEHIYL1OLksppOwkG7z2RtUFaos9euPAH77vrv3zlCz3Qdw5EmG3BGSk3VCeBUa57A0ytHtAzHj38gRfe9sZ3/kXjmaueLVDE63f+J0ryH+v8UaOCiGjPuI9ks+1B99VizKe1lvlIQJ17P7oChxCiiJ8oxQnrlv7VAzhthzoGWGqDy7tkCw4tyEmpMRYLyLpTWL6Czsd3XFdDXClmu8Slp7+gX43tmdtHVHLvKtth3QVOqn4VXYwGunFtuxLLmpgFEYkdzKU5664Wr3BCzXBKgE8Yy7KgTZZcrg+UMpGw976coRikq4LFlwNy04SUJVbOC1GKCaQqxffe+1IJTF3YvWtdXnh943T8XlswAmBsxfbOwABXfjydDpm/4dE3P+vbvnEIWDsmB5Cfrc0MdG6cQIq/vQP80fvvvuAr0ToYyGCkZHyQ16JcbIgcOF5ZSJstsmq88+0f/dsfef6tPVeLiHMuxVCKVrlQgLObb9OgV+NFtzz99e94++4ktCF4XwPNlbSSGeIWLUoA9iYk3vvxdEq1N9N2Mj179vykaSaYfo1Gv/J7v/26f/PzBmnbaTXsaefylshtAeq+icIFy8OK1j71lfRbKecwIkCNootyqrmLQcSJiTFVFRVP7MkZs/oqWBjB/d573nXHLc+87eYzEAgJuyhBiWAHSY7blp6fOQPICX7mFXd86B8++/Evf63tVFvrrviJIOZvyB9pabbMm+n9W2BRjZw1gUsb6U0LzZDkH7F2RRWtDElFACAwg+3lxG+F5XP82zJxBoom0i5/74IKIf0KydmSo30JJQnNim2VmZ3UJouKcZE5fO4lNl9IM8uO4tb9+ULXinuwMqz0Wsvftq2ZabHudD1hrbddF2b78KI/lLXb8w/nuy6QnM/phBjw6W7tFBuBkviVoZ4XHH3zm3IIbSb1LbFS6DXTYOus4slDOLZBCnRzmd3AKa4haNFVadWXmJ+Uc4BcS59WoDSdPX7k+0Z73LJIwKE5zMKGtfvEXWSRWai+2S3KfeTqAhYXNCYjBRtF50w2sBA5RyShr3r7Lc8aAg4gX4Fi/F7LZRNKRsumIMYE+JMPfvwB4ofITQaDke+N6v5u3T/g66juj/1wVA0v9foP9/uXevVO3R9X9bjqN4OzD3E9OXf+7R+4ZxQtpWMSJmQ74TJ0LIJaXYMVN1V43tOf2o9szqmRgVQptSEBbNyxMs7tm2JQGTott9piX7X4CHLkMABkkEZr75l50kwHg150vjPnJ3X/o5/7wjs/+ncNnK+3TGFd0+VtKSE6IHLpEjwLx5j0rjMbbpoF7gaMyThaLcfSxi+7czU69xpgcx1zZqJOS3Ef0zSbUgQawEaY3/Irx9mY4XqeKyci0+nUxLzrq6vHvnr9H/7hw4C56AFM2cTagckcjKCceqWBap5OmxsctoGf+9Ef7svUWTAThpqJWcx/RdwVU0mVYpw0sBFvGr3bG7REUZLWsdDX0R4xIPcBOvpX7g0uy59PEMsbgDk6N58n+bK+3+XWaGWV80+z5iJE7834uleLlS1c7rU2CmSQvc0AbR4oKpIdyJdJ/lUiB3OarYkAgKzJKBtzY3vpZbHctij6zD7IUW9yP6cTjXGw9hvvFc1vr+ORhs2Jw3w8YBiZkilUoEKmXcI+MwlQYVj+3iSYtJUjaGCoI4tvGEomjgxQMwEb2BSygfK0XFmyFOM1aXpIQQoNFGshwTNpaE0CRwWBiiODCjTkJirbLTbRSdfvkY7Djt9o15l8UA1sXcBJxEi4YEs/xa2ydEahOm8TaqtDpF594psDIbEjSqQk0owuw7Uiuk5mG1rRmPg6/e3SZmt+8lejLiOQAcacDmKL+QEp3j3apzLm26UrXsfYEokzMiUFUImvpBaiNl4SHLgK7INKH7o93nn182/1QFCAfEfHNT6Azjo3OLRMEGACvOejf3vJ9SfcU/EsLiUpxYFeYRzDYgZGcBKcEKQnqIVapUk9eNBV/+mrX7/3gQkBEiQnZWqhChJw1ng5VgYMosC/fNnLBs0UMm5tAmqQMiWBDU7hxEUCnIMSd6GnAQCkggBE7qVNM3FcmNukYPux2HAKZ4BQEGFPQiHI2FcmplPyI7f1ure8+7MjNACRV2mAkDx7u6dOFgNZQxjGIMAbaoO3JJ6Acaq0KZuygYzYHJvrTKhjpDIIkXVRv4QgpAFokVXlXU8oegkVMgAzElFmyiSVjElrWK2oFCQsxkIUSbcKJCAIW83Om+PWaetHqD/46c+8+x/ue4jgneeQascATYGG0fpIgEOFpsK4bYa9mhVD4Lsfe+bHv/e5VRiTtY7VkZiJAlBycGRRKR1ArbPgVZ16Mr9xKs59wSlqGsWDgfg2T59mZGkW2y9PxQKrmW2gi4yjmxmZn5Q45y5mZ8SatgJkxEYMTg3CxqR7ViARuS7zaqxy4qtq8UDJrruwxooY0TedT+R4NseyQ/pYPoL8RIgOH1X+iEDRNt4Q03+YqIk65wA2cszejEQsBFUQ2K3sPGYUWzg2tYKCWhOkCQJ2+ft8AJz0E1GQGJdm0ELmkTIFSVCIkZEj542cGFrRaRvixcvGjK19Uu15VFgYv5c9xBC7+qzBDzDe14frnnCdYrMQxWB5R5UjFpQCXVzLsrHDgpc+crTP6V6JyNEsVlY8LbbPqXX0tYuZrqrcnmNFEoVucUhMYP7LmCQs/y2tOxNY1NZRVMQZYLlgOc89I6qnIjfZQ6tzqHum1332s6UhVqczJKOoEuT4Pn2pgBqZdc2uAJnWzAPIM775CU/c9j3AMSACymmHGEkGkRTCBmuBe3fwd/d9bgrqbZ1VNdWka7WDvSqlx6iZp5E6M6dMrjcVC743Ar/zvXcJ4CuHEMqaElyXPSgGhA410wB43JneU5/wTX2zgXPOutSySNr4eEvKLVsYGOTm7jaMi71xlhAlqV6Tg2xnzh1JrQJKXDfwXxpNf/OP3jkCAkUma5ZO6G5qs8J032jybu4KOiPfQJSPzCdb1vSXxh0z564DdnXEXvmZZw0QJOXRmT+BYK57ZAA0Z88C4rPWdBWluhqgGuyAfvPtb/1qND13bhb82UfD6mi3jgaiUOcpku0ecBPwE6946bc++qbaNIQ2kLp+HceORmnETF2/uTn/TnGCMILDfnOszr9eZ7uHg2waF3TaWetexjHeX4e5//Wdc+TYCCLSSsiRtI+ifqc4epwS4FOcAMpsQNnaecEyJHG8626aviwWRADZbmSh0U60jKc4DpByBbikc4siU2SlMBmzMhmTpkS1bvUu/8jABlb2QGVgTYppUrgkzmVErYWCDQ5wxtwV6cCmidnaedEyPF4msjDuzB+W7K6ZI33r+HnmemzMBuOg3BIaUBAORurQehOML7rp+NV3vPAcwKYeihT+yQkcXCJQ1LW9EgnwvnvueXB3t6760oammbrq0BJ9ZQjBxbRMBgAtQwisxmJOocB7//qDF4AWgPNRdVuDK3AV2zw+CHPRNpYF54A773hJb9pWo2kvwGvibEIqrMISnVw9lCzAAmI8MFYjhTGZd3CcaG1Swyb1EUEIgTWma2oZwcE6y4Vsf0PG1KrnqgHe8f67PvzFhy4CoMqABmig4ADWrMF1BhcLowE5BSxpfoYGCKuwamcdsOw14JJJxYwGdwy6s+5WJviFPU8cTAa0KkGkheqM5KfiJaOMQjgVLcnZNEmCADBNNew2Ezcc/tP9X/qP7/qLS0BDcCAfw6W5OEotZpSuQR5amcEUpjppKsPNhJ981fefAbiupsST1sSMvQskQoCxU3bqDF6JjQMonPLgRzgWuFz5U6kkP5nCrQFXb0JM89b42qXdLnNxlefn/LflsVfS4HhxKfDI0eVcizjdRp/iWBE1Qt77qqrqAqeMbh8wc9lWVVXFiFnX08J2ihWIurJE5BQrVtITEhAt9LvoO2nFh0xiC5uFnPxgnz3BkspRlTSpagsD76wBE0AougdkU+quQWixnEoq3Ao30dBSGcIKqLdmCLuhdi945nfUAEKbIiEZw3zmOBVQAQAJOAAj4H333OO2zzBzM5kYGx0ypqQlw3XMzImzdXcbhr4vrbqqfrCZ3P3JfxqjWK6T4lTnqkkEKCR44AW3fOuNlR8SvCL6PCtDODHY/HBm5uOMAJWuTDG1EkdRQ1RWg3IW5Y4fqpEKmTDI1CU+m3StFVhbtV5/Wle/+h9+ewRcbFVRxaYTZFfbmdK4e/wGQmS/CtWilNo5Jxsp0Nlzzgyz5zpPfD/3/GfK5Gghn6gvuqegs71sMpjP6JTh3P1xdqhOTda2U2L2vf5IRHr9t91112cuTceARn9yMoEqizgTCo21gDiAiKMZOtc1glTA933nE15xy3fXzbRm54xUICKctNhw6lm9wAlDWIwEpzhFwXXz1Jp1m9cHAVt2UV749WDS1T3FBNnCTubI656q25UKYTFrJZRcGthcD+pT4HhsrA91nOK6B83nYc/q3zxN0CGD8l1/9mBWxI4ugweUOJ1VHwlQAKzgkF27ZnMlqUYPGkZ0dxRe74Y4MpCkNOOYgSdpDgVBOURFIgjGJoCQElkZ2s3RCvuFhcl/QZ0IYEaQAHSO9M40tk+AtkCb/JBD57MFI4AgSCURVuEgLNHnSImiL64R2OwM4Y5nPXMLIKBXVQa2GANY4WI4IwWJkqoDAzwF/tP9D3/2K1+dAG0rnl1/2GuksUMG/RKGkjLmNMCBwaCaHImJcTsc/PFf/tUlIHBnMU1BIQIVCvFBGEnQCViqmgnYBl747KcNWQAoeSUn5AL5lpNjuSYW2ql4AQFLsQJ3ZvnFJNMp80u2GTXYnQJ2Zozv4Tz7S9NpM+j/3Ze/9Nt/+QFUPAVSwIZoSt+5kVun2QdHs2424hYIBUGN/2b/8AW/7xRHi1RJjYKRKIfuHO26ZVAEQRCCEAQqkMLOQAEjMiOb09qQZq6bPPPnpTDxGAwGbdua45awY/TVSftbb/+THWCiSl00rBY2RtMCQtGpGSAGOyUGofJuANwA/Pz3vewpZ24Y7Ey3XeVBpoGJKoUXIq1glRAHhlIAhUeegdQpEkout8AAlSCwBbcpXKd77HKwXnbfuBdPpiI4VmawIQSLwejMCnEdjEjMgmo+WpEmBBFp2zbGu5qbQk63apuK6284nGKjsSyhzD7A8Zsr8hK83jCLXdG1SZnevWzDky3nKY4R0TkSBW1Q7Y6Zseiax02K19V5gSJ9jFzUkIJgaeKBpORdNPeIiPYLVVWtvPhe+7NUr4IGZ6vU7ITJHTNyM5JiSCF3U+SsxDMBMmL1TitWB8CZ8sVLP/rSl3tALCR9qqvARYQtQnbnjOzxvX/94SlXEzXnKkccQjjsaFSy2FDURT5D5PcEZpYQHEiNxqAPf+bTX7ok01gMUqREOoYZlSX2DmYEMdMK+BevfCl2LzKgcDBPymTkYvDkGShFZ565cM80pZaCh82V2RmccXwl46zBzmG6rTMCdM4pu0uidO78b7z5Lfc3CAADHuzAZNkvN1rTsyQaGyk+5yIt9YrczVKK5iwr6fSxZfXiXygs9pO5tB1zDVG6+VEMPqXl1ebFrESFeT9gjqEW2jZQ1RdfT3399rvv+eC9X3HMgJdgLllfs4EcvAchGIxBFMSmAjOwoprim7fwX7zqzhsk0HgEC1WvCiGwwimTsRILsaQYb6fz/yMUpXwcBa8TzPYGyxuGax17bQ5L/n/wypb+wLkZSyVw9A2OiMw2E+P8ZuHjgsQhX/MIKn+KNWDjCPDK6GrHcJzi2FBOVSttVxYmd+xt6Hn9STSX6x6x0FbX06p2in1QdG9iLPgJJLawEB9r3UiulYU/ZPlLR2wYSDrDBYsPz87RfqN2YUKOjBo5689MxaoE+HgYvHENrkEUg/gmm112gAOcklP2wpVQHZyXXhV6vbauQ+2UK8XTbn78d94w6EeCokpKcIXFKwHUggQkAAS4ANz9959oqxqux+Sg2jSNd1fyEGb+Yx2XMyBmR3TkjXgM2jF+zz0fHgPRFxRGhJgmbaY452iBreot9IEnn+l/++OfyEqsno28ul7wdXB1cB6duXIkpMokqA21oYzsrRRJYCd0iOxX40FVoEpnMoj4uDtzZWby02nbH265evDli5ea/vCXf+t3dwEH9BSULBZi9GckQ4KO98LgOoNz1wl8uPDF3SfYfzwnnh8fPbQLcy1MsTMYnMEjneBSFCsjk2hHv9f1rVM+z27XFW/34qWtwbCu62YalH3r+tLffuNb3vb1McxQScUT9IyHVtdwFRjKbB5TwOAq8h5EIMBVwBR3PuOJr/6e7/btjqNWSMXEGTvjmIgLaYw8omXEp8hY4MBZYpW2C9GwosD1t2s6FPZRriwQbDNrRVvRoBY0vY9Ro+M3YoivCoqvy/z8dKu2yXgkD4RTnABsKc5etJDMJ2Sx3IkVcQOw3Ag5JfKCwPLEiniKY0PnidppxoDEkTgrBDscw6jp8rDGe1nU2vnMxpNeNofNlcUdwP4bgiLK7hzPydebOxkx5UUOeRUziKV0Y10S2BQEK4Z04pQ8xsMcmYuGx5Xqq26/owpgwDMzc9w4toA5CKNFEAS4AKcGBOCjn/3K5x++0IDJudG0YXL9Xu9KBf0pZRQX0liBsXMAjJwQW6//1ve+bxRDYaXI39Q1OAwI0UPVCOR67D1QA3fecYeLCUWTzXG05s2az24nrNkdGSn8cvbIpdiUMeSYRj/YGGycu2RIS0HL2AgC83U1GU9D0GpwZkL+rr//5Ac/8/XsZrx3Y6TnnK7c8Vi2uejHNLuKFkbMrEQp/vNMPdv1CmOog/lOd84ESt7OAFnM4ZUtGxZpsGWjglX5dYbD4XQ0Dk1bVTWomghssPWxT9/75x/5u0sGqkAulg8uOji3AY7gUyoqTRbgUIRBD33gp17zqsee7dVexpNLrqpi7YSTPIiBLivYKR6h2MuUd5mDPRJ2UwdU/y5EwFp+v9CAe7mbLWtuFphz/vXUnnGTcWQEuJRCzXWLPTSuyR+M2LPz7Crn4+E9r/Wona+dX4YjJtsgac0+2tGrMRJeec3jBDOLSO4tca9ZRgsoE8HHbejKVT5eJzoTxuuQgQ+Ui/sEkJ0eL9vyueIL2aFim8Tmim2Vq3+KDcRhx69zrmka63y/mVlVmXxmCjHucr6WAmKwqPu0LlKu2Lo5sJGPdCslnzEoEDSycRe7pmoKUGTwsS4o3Nrjm4PZ3ShIyQwwsxh6mQBUVdW2rVHHUKx0zyrUG12cKAXaoGDnq15LJI6FeCpqTFSxhEm/ohfd9nQXCQgEFsgl2jcFLtmkhUyhU4QANOAd4E8+8AF3/vxu2xLccDgc9Ptb/a1hb9ivBxGqGkcrFbuihTBgrmuHzmibo2qdIh2qXCuBmZmqSbCvjSYfuu+haVQCg82cGVvyggZFzSRVkdZ6oA+88jnfVZEO+q4NI6qUahInwtak6McqyT+2U2Wm1gzRTbj28BQJpgGpnB1YiQHOpc0/RUv0lqw1eK4qVCyuNddsn/mlN/zGw8CuIalfGWA0MrV9bPgNGkCANVpT5QwO5JgX+k9MZ2UEZcd1bzQNVFUp0XGn1u76RFfLIs8wA94cC9W+F9o2R37u+vysXgsxomcFCFJ5Hy9iYo7r0VRksP36t73tcwEXo8O8ATGzLwQ1ZwV87sIBGtgmmDjg5gH+83/56oGOPQWwTUTVM9jMxKWE8MTm5w3ajx7L0qtrPa6SXRcmqXF6ydunvMcol5W80Kx8XteWHjhve0o6uqwSoKOmmle2YV65xK8V5SqT3yyP1uMs0pFg3fPPIcNW7o29Wpk6P0YUtnAlJcDiU1nv3BT9dpYTbCRWZpsyuR+kp9Ie0qyrvOw1gXJiKgfJylC5JwiyxO3Tx+ul/U+xPw4+fqMLpqrG4N7tdCJRTbcgSSxeAZiAHQASExZHHgb0qppGo6OuyjwkRO/MaFyqkiywDWB74MADAAAgAElEQVTALLnNcuIeVz4YFyL6eueCNDEIUiDtbw0VLNHGddkXkgBCK4BPLrLkich2J7tgcuxV0d/uj3Z3h2xDj1uf9u3DCjWgyXiauxBRDKBPHmgN2sIAPwVa4BP33vfgqGVfxRUNMAuwVCBgaRFc/jKCDUpkZDmStgOEVIlaBCMSUYH1q/44TP7sQx96/je9wisGhLgNNECj1TTBDFFYAAjDecATXnn7C373rr/cGmyNdTJtJt4acYKk7hXCjHR2eZ7M2kCVE2s1uGY6aW3gq0GwEAtshMSYOyvqmBw5OxCzqVKkajEbL6mykt8xVLD/94/e9V//85cRUAHeoNJU3knSMEdJSfc0LfpbO+8BoKoqERESNpPQcsU6sxFQIwZUidtmwp7rXmVEAkwEQxcdwFPhO9OFeJfuf4CI+v3+xd2Rrx0xp9y7HQxzkiWjpCjWjlxHzuzSfRiAkU6duz+M/793/9l/+6qXeKBvYM9mQhwbX3IOZ4YazIBGp32uPVqn9v3f9dS/eOIH/uozX2xE/NaWgrQNqq0nV3uvZm2QwnZqLVjmFdfuElbWZUO2eUeIuAvK2oUIIgKBiK51zr8sRszvSw2BmRFfq/3zarD8fMvenoUg11y3X/f8c2QEOGJ5pTeNEToi+01Ht3ZnzN67tU+vhNkuBejIcAxEbIoNF3AetmwHFP8sC5A2EHGIR8FJVK1EMUrsM9IpVU6sfKsgYrGQ3Ub5FI9odONr9hqpT1bvm5lz3gEEpVmYnaiPnEntvUPQ1jHMQuUGGq2QNay18GxgUip8gB0rjKuk9I3xlLpRCTgShkbjVdgKUw7qyFtGVB07m53AWSZq7JwPFsbTZkraqgagjnal5oEYHllhALGBg4mjGP8X/Zq8U4dgVSUURMVADU16KlW788oXPMcBCnUwmEBjIiAjEJSISFSd84paUDHw4Y985sLFXfQGFbkg7f/P3rvGyrZl5WHfGHOuVVV7n3P73qbphoYO4IY4QCfY3U1CeDiisYzjxw2J7CBwLDmJ+BE7SiLlT5REivKQIlmxZP/hjxXHVh7YRsEK2A6dONAkGBxsUADjgMEQME276dv33vPYe1fVmnN8+THXmjVrVdU+e++zq2rVPuvTuXVrV61aa665xphzvEcUOucpoqoGpkiiTiljG8iyvvi2UrhRIMrkvVSDqUCZVFg2cekcREQag/dLdT/+Mz/z5F/99vd6CAkSFpzzEGWXKwtJXYohoKefAt/xbd/yv/zIJzl1QSlTqcwFaa6AOue+EpAI0XYfTKHUgBfvgNlkdqFuWTwapr5T0j6dbidN4Qn5Fs2krRoGilBMdC4A+X2f+t9+3+/75i+dzl4HpgLn0NUt05YVWn3UIEyByV3V8bZElqrzkMiWNaTw0AI2m6jYoqpMMBfAOxoE1jit2tBu0dUlwBgpTgy4WjRhRhFX19PGmjQLa+nmSLHLmunWoCqdUi2U1M0YIFQIgzZOY6X/8//1o9/29V//0S98zQtqoIlL532r+IJouy1bMiNUOk2lzR6reuA/+a5/89/6L/7rp17fml8ugKnIa5NpRFzMGyOqakJGYO9b9pClguuRXS+99w8MWfsNXRnRrCjK4apD7BHp2RkthIDiUbK430ylu5zerwI2yfsBTMX+buHeJPLeEMsIQBHJhUBbPXP3wcdCGVzBASyUeWD5k82YinL8u86zK+Tymp+cBKToJ1y2FK4GhnJIifiPPXMjDoG78W+MEV3McPqTAFIrH5KITGU+k28sNpI8cWIAfNKi93tbqbQUYrQYApCE+LhqmpP8ZoxgKlMdX7K+YHLxKRAbA0kVV02qyTRC/HQGIIKGLlsUJEihgRGAS42RYkRczC/D/MoLvGpYzCsyLhePz+tJhS997fG/8KEPuuwNZAWtIJVAFU7hhc6jElTAJMV+f/JHfryqH03qGWBNs1QV55PHcxWelx8ru3SG8vP8xHNqKzoNEwCESeumiqtcpdVyGVhNnsznn/o7P9UATfq1tjoaU6nmtjByex0ANfDlZ/hdX/5l7uqyCo3EsFgsgrFudaYuU9oElAA2EIpKVTfwgJsvTV1lkMVikZVlE0S1qBZTv+IuNDppoSnZ2LXJRJ1PRkREqboUbWZn/9X3fm8A5sCFNRCPVLesbXCkq1a8oEHMYQkYsAS0qkW1m0lBN28FjVEtStNgsWyWc82pwiomMaD9lyqqGRhAc7IEAgDvjVJNJyEEawzUrhoWC0W4XzjTUhmvrjJW6wdme3wUBKmfhvgXv/8HGiAIosBEAQnpoikjuzUTJauXQ1QECrVu8OFH7nv+tT9iT5++dj6Z1g5moVkgROecVnXc/2aSybV0DJycOzHfQq7xe+wR3Sey1NprY1s+u2OP8X5AMtdnTjdrBY49umOiFPLLLaZ8xTBUm1th3+vPXuSl8gF47yvn0j+v6kSSF8OJpH/l+wO47zYrP7f9/QqT0r7HcCuUtMuiS1DW2K9PNpAN5M8PMfp7wtZMYOkKaLVdRhMKWhrCP+99r3nv9QaLEQ8MN+TfMpvdzJqmQVqOAIiDOkgqXutSxCSBqpoS4tQnnyVeKuL4hlBQCTinoh5ofa0GETgiBd4qxEFACNSVbNvv7tuhp1F0GlAX9Z1qRjinqqGxGKOrq6tFE0UbIJUlTv1jo7gIF+ECXADa3rTgFK5W5yGP/GQScMbqkXq/DH7ZVPP5Jz76sSkgqUUtK6ACPegJ3xX0ArQm/CIiCn7rOX7j7afzxkKwYI06q2oBLEmcq5sqVqe8Rum6hpw3ckeotfmlqfByjMF5hSLG6EQZQOfl7PzH/u7fu0JOXNU2TLidvLYyVpoEAAI8At78PZ+YLmwa8MjPZjp1qNHG8zpIBamgjiqEi5Ar4BK4giwAq6qrSDc58/WseI6t0pwLRLNLtE6ndaRj8shbVEaxKISIp1NWS1a//k/e+cGf/JkGcFoROr8CUIGuzQYQgQjVRdQN3BXwLGIBXDZhwWjqLJk8tsERPvCxq6fqp+IdoNAQDeJTLS1DZXCtog1nqBbABbAAYuWjc4sYlyFq8tCuo9Xw2xprHeWKGCSKxLbDUmuI6TqBqWc9rV7/+//wV//Xn/p/F8ACUDdZBBCVoaI4wEEcpCJqQ01TiAs6JZx3sIA/9A3/zMd+51ddvfuWxGU98TRZzBtCfO0M0fbcwSI38U7ItRj3etH7xVY54diDun+k/aWXFpv/PPboXhalBNUTqFBssr0/XzWU4n3bc+HE5c99rz/3FgIt67Hm6J7BpGovUc77ABmylE1zXsERsXUAd5jDTVrfagQ6IZYoUdq3hhkCnejqdC1wI+6G3fzb1teV9TSQVNTEOScUCxHkZDIx7+fAM0Ch1mkeXoCU1woF1AHqMAeeA08bxn2SVlCdu8kT4Azwrsv7hRgcu2RI7bxhDbCo6ii33mKsSFGRLktWAfU+NLZomuh8LbI0GnAJuK47FIGksqa6UA4QKKERWOgk6vTpRaiqauJrMzrnlsvLLzg//wPf/m0EUmav17b1TmrTQ8AphFBBBBYOAfjBn/jZ327ConJRaE4ExthEE0a4umYIVAJIwke2aKArbNY0TV4TSCZdKl8iSnvvZjat6xjjcrmciq+qKpBzyM//5md/4Z3F17wxmQkc1EQJUGTZhux6AhFtF93ku/zY7/7w63/tjWeXl1fzAPqF+ecAgSVQC1LnpqZrSyTd1M2BhcPF0ha1LYjKSdJPk6eSoCBu1tHRrqaXOJqqkSapULhzBtDNOTmfzf7y3/jfv+njH/2nKgBwM3+5HgbfBlrnaGiHJdB4twTMCegkgrAUHg+u/LOENEFFzFHn9EnhbNQnw0DbMDmHi3dXien2nZuT8xjPzqcWQnooxaZIISCF3bzrSJTMFi5FMBfHJ6d8MIfgeP7GX/qhH/r6j3/1BxQTQLxfdCNxirQQpOwF9auLiiAoAvDdf+xf/9k/92c/d7UM4iazM6gumgZi6h1u3Xz6dqiqSrocyyTRJWI+FYdb1n7L+pEAFovFsYf2UthU/EoRrifOsSjFd6LgejXBzcKKxxzcAFDKmUmLyRafFO+Q9JrT0n6x//XnnnOAM9IDyCaH3lfYxqJ7Gkkf5TJRfi4QSa341hJij75w9Hy2PVUqv9k1zlxgOb/2MlFPix8yNpf7dFc6pIwXyioc4uiENOIo6PNv6ynjBiO3H6kIgbquSf7jz731459+NokLgUEZRUWcj15EgjWikdaoao1p42e/FWzxxvuXb31uf/eyVPdrV82Pf+bpTFxFIkRVRDUDjVQRGCt1IRjFmdfPXFwu9XbOFgo2fFqixGKxrCa1qvMeAnf++LVf/ke/Mm2+eOk94dU8ALZut3QeVzkXmgsRWTbyC595Mj//wnmIy2ZZO1mQ1aSGsn79/P97cvHpZ+9OJzUNRO2kqgKD2Nwt6DGBWogU+noSg3tu+mO/9qvPHp1HFXM0XMUQYtNU4nyqy1SOu/Dtp/c9F3GmDWegILrkTTUATkELSLnIBu/93MJS/Gf9+V/+uz/7DR/+HV848bUSwNwMUIUIjGJRLKoq1UcPypLRZmevf9mHf/PTn35+9ZzO/+bl8v/5bDC7dAzO2qa4BgRnBCZSNc3CV3JB/saz5eSN9y5k6gzGxpEOSTO0shx0LiGdYrnT2WA0R3OIyUdPukjSherRpy+fy9nZ9/7VH37zX/rGGeLV1cVkMjHtqkLDKGYSqNHRplGWAU9RXVrDqgop5IDEttTGKF7Oz5ciEpvPLv2P/aPPfdGsbpqGgig+3SOoykoIQaOyQDOP1eRzrFHXUQXqTGXRLFNrvjYFvbtSbiWVCnEDIFLutAGpAlbrHG6jGOCWCzmrH3+OV8+a8Oc/+alv+bqP6PxqNp1EqsGnVkaOMEFQRg3qwBArc/P5/PHjx0/mF1Z7efz4az/yT//0L/7aZ99+Ht1k4muSDaLF4LtU7j0hlxpGp0yelsDALrvtgRXg2CVXY4fPY1P82Ky/MGQkAzG45vPIlfZ7B4/ilhTtRdMUnSj973v9kTf+0z97n6crjBCV8845WJD19NpSH9gk030vr2IrOiiZP4LOOTNbNMtcSa/lumOgNXigHyopIhTAGGkwGpheW7v7ttdWplZRSHqlIDYhfZt/CyMF6dv9QWgkZ7NZskgli06a7fl8LiJ1XUtX2wDJ2ufdxcWFiMwmU+zY7S0Hew9se2YRc6I7lubL+Zzk+fl5jNEVrWJIptY40+nUivjYtApcXV1Jbno5MFxDjQd+PRZuxr/RQFLSk00xtAo6ovZucfH88WRSh4U3UwGUFCcinq2yFy2AjUWIadDJ4uzRO4u5q6v93bW3cK58fTINFxcT9QoTwTKGRbOsJhMnohBVtSZSBd69fXE1r2d+9iiH1YhIBAHM5/PyzPl5RUlKlChpYgCUDq2fjZEg1NTNlldfEp775fyqqqM41ynAlhVgiqqyWXjvQTevZ5+xSmdnPgaFLRjhIBrq5fx9FibNkoyki3CqtQuMDMvaxNNFxthAUdeTiX+0FP8ULvgJgai8DM/M4uvVbObq0GgMRpfikzGfzyeTCTrHLzob/HK5NLNUDiDGCFEBnJGCpbPUDRiAF12Exvm69lW8XHjvL6yp6lpEFu++86HzRzJ/zmZR1/XlcjmZTBhSWDIpRlFQ1LwCqmhErvz0XSPOZ97s8eXcLa4qj+TCFbbqd5o6ieZVjA3qyaWbPDO/0An8BGwco2MAUr2utkZUWn9Ss+UUca4kgIaNVRKdMxBRKmpNFwyYTJaLq7pZvH9ah2dvTwVn59Mnz565qk6hEe3T00Axb5xFkhLr2RP1704mS7oqai0uMgioSdduhySEb8x5X4fl5esOry+e1cs5nEIkktb6bDWZS0SWjs2Egc4/0/qZ1PH88fMQEUPlnYtRAVAtBfMLDVBYyu81aLqitZpwIs9V9m+iZMJ5OQNpvNJw+R61qllMAIYYnCOcULUtg4WgFtXEs1nMH/tZCKaVNnGpXi5CkMn5RRROHgF1uJw7L9VErpaLSqu9KsCTyURVhYi0JD+kqIT9XfF+YWZtn0vnSvfXA/AA96xp2PCIXu8dPS0FmF2ry1aUKvo/9Y+UV1EBLs0fJJ1re7223TQJ9S7FH/XqhA8c03qSVLDITn7Ytv70WtbdHLf2AF/DNiKSivmrauUrL0Vrg3XP+zXGqn2DuuE6Z6pZKimrHkaFqCRLw94JJYdeA11HiwSLouqdc07XU1ZIEXXi4BQIZkJGMiyXJFTaOpXG1qNUeU8Rr0oRJ5IFl8m0ToU0IwmzJkYIg5nAQVtnRX7KIhILL+v9InegbDPY0IaESc4rY1vbpbx6mrRF0yRR0mhONcSoGFB6DwUW0xrdCnbqnG6J38i9Y9iLS+gdcXiQG8ul9SMOyvet0RGww76WtC1kMAMtRBO3ryCXbn5ehn9d6KKSlsulACqiEAiaaDKZXBChnjmRrEGn+UYrAKUCSGRkiFzExjknxv3xbxS1qn7XzM/Or0gYVcUqzuGm9RRZLBOIU5Lz2qKoF4MI2ldJMTjZVdvOlqRnp0IohUjNgdp4ZiTipzjAhEoz79+SM/GzKELRrhuq9TYm8dNu5G5SSYwLobVh5GYwgUzelcpVk+4XCqh6mKRTmXiaBlWtq/rKVdEY1YmAZpWINnDiAbcIEUJ4pZgIhFSYE7ItS5Y2b1AoQigtafpiIkIgtoHQ2ob1AkZUWpkxLJfiJDB6VYZAYHr26J1oWk3F1wB4NrkARHXj9jVv1kHhnYtNY+SVV+dmV2lUXeqwFfefJtsEEc58Ou9Ck3mii7Nh2uqza7R9PrkYGgSV0hBERYRQMCKKIobLWuHq6p0Y3ezxHPZuBM5e32jiQQLi8MwbqFEkqMKkAhwYGdIBRsUqO5eGUKvBmtpjwfhOVTnfsl5LRbKaFsAppgIDNahE8aFpKghUYaSosW0NlVOOrWv2lChT2wruKWQb2n3e3UGqAzdPlxQ3uTRTX12ScK3JIM13MnmYJAsOMJ0tTVCDAugUgNUwCLwiwtD42kEYgl2j/WYFqR8majEtR9nGKiLJUrPVwKogLKoIU/NhqsvWgFNQn5zAQuMqLzSauc7gvssQT9HFYtFOmrVTt9IZVADEwn9zLIP7rgjKzci4nWcY/LMr0e5oaCWpmCxNmZU3Dj7g0PaCln9t9Viz/RxAMqEmspzNZr0HPZ/PLTTVpI6hUVWAToU0ocFSxUrZXDcGaBARwgnBKCIEaSaa1x9Mp9NsWHfdcnc57+vGrcPVbV8n9yIdtsVOhjSVL4SIKJmLA2YT2sGWt0JeBYDae8lh5KVc3bZdgIqQdCIEHEDnUhMV6QIpJZUc62RnlS5sq3NFpvdOxES8qgGVCE2SW7g3tn3f/lZol7W1iaRDhhBijBSYGZzGGP3tcw73irRZpqn2Ks45FP7t4WNznKWxWYqKFEf3wGuh44mIiUA19ec5AF6GfwlUnYOi5TURUS8i0Tnrtr6Na3bCvZo5g5kj98q/FDVVg8YkjmjbumnhorgKWUzpPg96I2Y0ya+WGz+1GtWG3UeJZN+7dBP0cb3xy7KDrqvFJYRr1DVbDnbpewWplarCVc45EyOT49GEzpmKyMqqKn097oboVLg+dNu3FDRuM/32xXAkgKAabvfbrlntuoK3la16GniKEu6+IroGVyYwudEwekXUgMLavzEGbbN6268WNzB+9TZ4xdrJNx9nL+Im2ws20S5EaTwEoOEG0WTpjprdB+qq29R1Z9vVFxTtIt3qxi/cibR4w2t35IeEQtVar69bHECBGIdWc2TEQ0LmzWxwAbhDGNiOkn9PI2t/A6n4wjUrj3aHpfipnLFSTFpfIsq4T20hiYC3ejzDgQmMLGXQw9zFmnW20CuqKoVppdnsH9M7g4hUVZVr36PLwX5h3x3psoKlC6+PIU1AikcrHPV7m43t9qgXQbrQ4rQVxRhFYLaKgRwIrJAwLLVIvRODWCd/HBibnoREb8mNIAXaPw8+wnKo5XsRAWm2X4Ft5N+7obQ390tDH87q+GJs2g5OcXcbDgblYXghWm/8S5zh6Pe7Sa6rbXOk5Guxy26Y9sQhrVIjHhrYtY7fcOmvKSkjekjzUkpl169y9+8ukyLj97TQo6rDU1gR5yA591hEcup/72AU5oaeIF5WDM8KzK7rSmkVTh3VuPqqnZaBPdDyriFIJdKBPWcw3x4ulcDZlq5ztDHdBj3iUVUnmhS28qtVQ5cB0MmxtPGRf2+O9na25GwPjC8Ks8UuE8aIEUNDufhlcs2LTI+S8+oxIk/R5jbNch4HtpyOeJDoeePMLGXT9ESCkX972BSZDhECTRLEiWq/vRLhB7OPbtJuKT2jm9X8leQPiwOyDJ0nPwvW+aZKRrqGYZIf6SZi93FRmsHYfXLcIV0PFua7Y4/lFigXWSeqXchzGWKXqtweZ3wdjrUZjPx7W+TMi/SnASqr16EpwNoV0szbwQCndMS9YFcW3BDLDN4MeR0oDHNret0pdkbZK/JsqGqOGc+fW6cFjyrHiL0i5aXnIPzcSqBLPGdPBhuRkde6xLNymBDocqk9RR3YOmD9Xrh/gaw3ddeX7JcugzQLuPkTdOIvCgPw9XJw73OSqo6kJk9SIZoPebEnaWZKNbNt3TGOiWxQQS+b6ES2T5a5vqIpKHere+G46M1qS7eHuvTIv7dFXddbPx/alp4fRM+ocXIb3IhXCuUik1bsti8oVgE7JFOP0BE9pOlKLRVzy9kYIy0CYLksj+vAiD2gtLOIiPe+q9NGEcm9cJMB69iDHRCSqLrZ93u+3F71/d5zgFfui1N5MG0Jlo6YViqKoK1HfCisNA1tC3L1xKxNU21PUN6lnPQexzWPph1AulRnQVHVeG91dLbPqKVavjc+T5bs0dUT6pTLYW1I6WZ7br1bwXZoBS197hkKEYiKOnW50hXyHZEYhrMxez5RMMWBtZRXgX/vC96vtp6yh8HQFOBN9/6xRjLiMLi+Gupt6XMg3mPp+oKm6sdpJd/aReYlMSj+vfPkK8SJ5j0lW1fb2QMwsDsd8cDQUl0RO9a5Fe+fZ3sYDmHr7W+UpN6m7/decoDv/ZwHQA59Oe74swzNrvJ+loh7asYNx7lau29w/C49TUQwMAF6q2BaLhkDwbq7D9aFrZwQm0hRSzzfS7oP3XCRDcHslcdw+MGM/HtDlOFbvSZ+w9mAM3pxpBgGnY84PE6lmGqW/3oRzqPL6OZgBymyWgpT+xDX1REPA50CvELHuZZ9myM2kacLG0vfVtybAsyiUXVeI8zs6HL+po+FZOxGmCJbcvAzVNpgcVn9ZN9IlJ0MtG1XWzMth12M4raK0x1uIQ3Gex+bJfeQbCAiV4v56k+2H5K01M01RWySqXl9jDErV3kw+fGx6/E12EUhbZZpqJ17sOXM3H5QRNJtqjDGSBGIGGkAydSZEOt+iYOp0KmpupR5AdzS/uG489+zXh3SmPWq8e8rhc35v8m2OnxsMshxFfu8mKO3tu+fhUuJJV9XRbdYrFSyA7CHtIyXahJuECJb3t39zny6o9zUNzUONTNZDyeRF0Xq9Q7Iit+uHw3E452RSYiFyHddigohXHsuLrVzNnPOLZdLIUTFzJD8w4e4iRGvIkiiWJc6mpSSpAGo6qpP9e5T9Zb6a5h+OCx8h8StNBspwSoLP9dMzrCapu4DW9f3TEDZuHLwcW0Zz3Bw9PGkrcXMuC5xbnq3ThTZWYdCWiJpbLOzBnKbPZVy4GCZ9XpARWUgDytjaOPZRCmD9kKgh7MB40TI/ibo6bc9VQ2lzjYAHNKAVe4p+fazSFAu1CCwYSaQLnu/PMMLx3/gBeoe0dkLFDhUlYWXQfFwh78qjhixD6yxANc+WR2z9r9B4ABjebAKcGm5LNWn5PtFF8ZpZjGmFf1oQ81jO/IIAKzP1WGGxC5CFOsxnEZq96Q27dCnKDqU2Lyj9IYiVuQdrSw1R6KOXkG71gEyvOIfPQ8SutJohxzAwa51DU7FVBRC2Pr50FzV5Yp0istOjq/pauUDbS76lsUHd0q7uiWutW+kGebKX7ereud9oe1E3XXqLg0E0qV+uO5bE1gRlViep4zrKc1wfseEpkPLgOTufofFs6V7vLzxtozWsAa7BZna7qAGK0G2Yriy/2D0oPVhRoy4C7ZuWMnV0vvw+toHR8EBSnc+WAW4RM/7n96YWQp+Pr7u22HgMushUW5XfVXw1GTQrSiFiVLIBjgoMkgx28MX/TdHePjIjkE9uIFjuVymN9blVQ4zuzJ59nJb5mMP59boOX7zh6WSVtLt/uuFb5/DMq7vwHmqyTqQV+NcyH1TAQYQwawDp3Gm15Stk9fzXDTB7+g/GWNkF6W8Zqkf9gJSzhIGJi5vBWNraBtOUNWIEccFSdV+wdlRAX5Q2NxB0/Jnnf0yxpg2IeD0mjYdAIefk/YBdR0a8kZbqjEDV8Nui/J2utL2Adkb0GU7H2t4WFfqZIcMUa5TR19A2VUd6xL7jz2gI2Gwa1pi5lyVmgJy9TqwCGgwRnTZRCgcYie3EGXdLMG5VgAqFWARgW33zN/fOF7wfElGwuRwYS+lOzxn8rduT6PIeg9JgRNFO7yUfQejMRq68TpVp227ON3hJpRMTl2OrplFbvgZh4cyFGLz3gbXbw3A7UsPjhjxYLDVdbRl/ypChAaCA4zlwSrAGavFuiOBLvI5ljLBAfr9Xj/CAS7N5dQdxjLNriZZdpAmuTMV80DhLD05AbSH3o1ki4xZyCLpENzda3L/sSvlXINSxGGBAyjAI//eAS0htX3ziteBaQDSFR0Z4PO9IXqqb+vVdCsPQHlr+7/N7efP182LnnXRWQezqSXHb9lDEsUKXC59aRrL9zmkv3Qgiwh3GBSkyBzONl+QwuPbEHsoN2IAiXhCGGC4xhYkOt/YFEaMeIWQJXGqdN0AACAASURBVAFVdYJTYQLl3g1qD18BTlgFLG20/DXgiNpv3kRxCOHjpjiChqkp+2vFmnm76k3LafDui7B5a53abz1pm5KC9AZ018Mh1IySj3jAKMqRf++GUsq34r1yAFEEGbJZPHNLSYIhIxeZL2N6e8eUWoGT/cocLzy3dLWU8x69x9FsXDdVcUeq/buNEpUAU5F+CCAQp44kxJIUoaJOVCEgaCa7c4DzopHVaSdy7HKcfWzOfxrtdFpj2/wIoUPijMDArhjszXlW010MZh0aMeLOWEXwtet/Surpq35p2R8U8wLYd17UQ1CAe1lk6TXZ7RWIpJDBDGax06myWCAigr10hH8Z8KihUCZbSkfsG+XmVPo/y0djnZncACcyMFHhprBUTDT14lqvRZC26k337xGl7UHxxQshqcodELvZO4oy9YD5dx9VmpUwSVvvsOKfAZBiFmW9AtAJMQW7LqalWxKd17GUjURECSIea5zlSNpxHsYdakxXzWnepYekF/OS/9wcMDoRM81zq8C/6OLZEJ/7Fe3hDu8TUnR76vmrh6b9AkjR7DmRavQAj3g1ISIO4KpYPSgt/w4zbeEwuHcF2ABBrmUo95yDF9f9PAAATfljUDGCAusWZQPNGGnoXg0UEYikzrGGZJE+ZvhiqemZo3MqRIwxbYOJWg8pxJtAVAmEzlyAYiT3gevOlO60yy7qnpSIiqhqJFRE1YtKjGak+qqz7CoiVAYnQLuikDVUg1FBEXHqBIzGSKp3sNZiw/XbP8qYs0zWxumlT3cHP78Mfd5K3NOUgtcNIeXmpSFZ6yeHARYtGEHh/ifwVeNfUqwtGgQRjUSMZlCDIgUMI6VUKkGDKlPap7QkDWmJez0XVEthemAbsoNTanptI6JNlJr+CUSLe2GKZBGF+kgRUagzC04dW85yShEIUnzXPdFGpsMyZwGAKrzCKVRTgas22sl1EcerU3RxUHsm1+0cz67kgYqKitFMDDCgX6zlfiE0FaiK963jGeuFJzo1d/1X6zFJAKq6HKcREL3u2W7q1c45AWJsUie87KvnUdtTpYFlSzRJMVMAbAM3+sw6MLu0EALEptEk+ImocyBTDWftHmxiYBleHT7Z2HY3P1nHfu8gPfRNM0eSGaj9semLcv5ffkR9o6Rtt1G2o1KXR4v1WJ4clJc9EGbmbrkYcngiqHTJHCBFM/3Akum59zQHxr/7js09JQ9wJvQ14laVLASDIIxMjcvzztGZ7oclV23FcYeZaX84VtK8KpWu4NJH2qOK4Yy8BxZVQwE0xVBLEWdozqWhLefCYt6KitmqQtLAGKPRjuWDffD8Wy6/pdfrZU/L9nU44c8JeqfnmW0i6c9cbyJXN8AeOH3zoYtItTvyebA4pMrXaj6F1HuwS28fj2qikfRn3v6ONZ6tm2yCci15YcjIK9WxB3JrbJIiry1JYLZf0pW2QN2Ob42ZJA4TQt7jjhxzsSkWSleqI/O4rGeylLOaPnfOwa6LiNk0TAwNwlZMAloPQarkEju9d2ghGwfGySjAm/VwS1LuAUCMfcIdJoGWLNTudgNIPdmflHZblAMow8NKdbdc4w4+wFsgz2oPp7s9vzzupjm105hcEOnpAySj5dLuB8Krxr/z+VyKVFh0JRXqur7fC506rAPJEEJ2zK5ci0kC29sAkjyXklpL7e4kcLChssg6OcwVr4eqKlia7487nl0DOBXVN+G2D9cEJnuOPbgZNpfxXWt7+tPt0wPZNc3udt510kjtwYRIfuBDEkjeibCeQ5GNsyvVQF1phczIZoVsckoVAXYRes/BtvIn7/tW7wrpeqp3RuZCri79iYce15FxMgqwFFmRJeVZtN4n5TE9ZwUGsKNsRVbhtmtIh8UwRtHi+q2r91gHqAOXlshdPure9nbI4Z0c1vha2k+k6HvU00gPQw+vFP+W5y+FjAcJu2WKVJaHMkFKF9x7GJSPJuWj4tSMa6WIfwBu2vSQH5GJVVW4MpEMbUfLhL0ru2RocXaJAXvx5CeEXWTZ4+v85tq4+/tBDtLpMaemFQ+tDnyYqe6JVSKi0tZyL7/FSkSUuF4SvLdd5h0tl03Yet1kZ+9aLWJ1iSFxK9Al+pJQSYGxaF3B7ZZtsjUPZijYtzvhZBTghE3CtY0J4jbz2EmgE5gGIU32FoUhDGMTvfiWQw3qLujtVT097ThjOkFYEfacch8iiK57lnWyY453OujYXgH+Lbu/5JPf8PyWsto388eGvVSbANK+Em0uc7qX/LqJ0iaSPmERu3jvm9RWs1p6WLIe2TvYnXHNinRAU9Jw3L9ICrCtueuPrgP3NiySMcawMzR0WDmErjPPnaiRTrGiBCm8m7lcOdY5WrjHIna9R1tOqIiEtsyYAYAdqIk3CspUiErbx7v8VlI1BBEDRMSLy+thjDFapFFVaWzLzjhXTO/2VWjVKrwrd7fnu7w7WpEJINnEyDajcO2YwqgxIP5VYFpP9nqJU1KASydPpuCcdL6ygXUxD73fHnawNwXXy5bwSLmL5XhYDGY4ksFWrBwFJzJUDF4MPSG0JjCuYk3LoOjD2EReNf4t26djJOZtWJNHC+RPDrMZtZ55HrSZ0L3gkJv1AN2DvYc1tGfHtpjFrlENYg4zorUVxdKfJ8cLZVhvWcsdu+hkn8Embl0H7iUk+jTJEWbGQ6WIl8tpcvxm3XVlROuMgCptXcyS31f2hc6yUFaDv+a6JbaGVQ8BUgR1x06BUtWSf1lapYd0CxF7L1J9AgpwYrlOyl1FOVIgKj0X+WmtbiWyqb4TqY9JiCUzH9e5uuuBnooHtTf+cla3Hj/kexkC0rzFTsXLC0JZIy1rZYck3VeEf7NTUdbTrnYdb6WzdHOcp7pa7wSzCUaFgvQPKlChkUnukJY4RPfY37t9Rlzz1Q/WrHksg3VpnsiEPS7CGT1qERFrm3FsRN7lINzBQAhstPW6Of2bgF0VctvoyZDaGR7gbmUtIndlrNnKMvsez+b52yLDYNKBO/sIATjZe4klaWNykBXX7A4RWTnHsDIQlBZbEYioM0iMMU2vU6eiINJazWv7eJfms82qQ0OAFTaLlnIEhp2h2oOqYn2ABJgTUIATsrCbRa7OSNM/LL05RQVjmDak42Kz8NUulbI8ZrDo3ULPBonBj38gKFeDLNOLCGSNiXK87sFG9eD5t3ePtu5gGbEVq+iAQ10urzPlgpMHMEwd+IiQ9Tzt4ejAR39MmW5LojrukG6O5D7KNo6BPNNbQbpqTDmff5g2rNWem94boWnOD3H1PEuJkbM13G2IW+V4sgYLIMYo/U7gfdmsRGlkz28GSGBr0lGHgz2X4WNwCnDrSCmsXOnhLZdLpBXNraJZAGxaIte/HToy25RcambeK0kUi13vsJdEyRUr4awzZYUQNtnmKNgcwGlpvFvxAG7htkh70uad5lqbvf2mdFuVxzeMvUiQtIcZyK6CQ/7JAYoPvYL8W95OVn3n8/mu480siSZ5SGZ2Wr7fHkWRdM6FEJxzMcZUGbs9oPD8s+jftulJw31vUiXLZHE5j6R3zHFRDiONLQXmpekKISR3ymFGu/lcynCSAyPlAOfB3JlC0vizBVBVY4zee8Z+mcAXjgcARaAaN1Sv4XOxiIQQqqpCl67ywk2BsuZXiWhrAocQxKnFiHSeNMn3xMIlh5arunfqVXTVxxtdo/Xt192306x84uW1hFARqCRGTkea2b590jFG51xVVW0XbzMAzjnZQeSdT5rtfwIROBXn6/bYFDLQOfx3EbiokmQqsSaizinQAMFWDPLydgrpgqvzJgKsaFiKiLNdjFxaf9pwpLaR5GpgJT+cuiXbzFzls8iR9+tdxw9OAd6UDA5ZQvPoyLSeblrWxZp7FJh689z+WZR3L4d0Xxcd8cpilzLWi6HtvWEXT5WIMEc+D5YmR/7tIfeY2ZTwTgi9wZe6ZfkgSGJHyNyIEpskWvL7cQdzXNzXYEodvmS3JCvzFMpGHh49ypP1MIryw7QDkXT3upTlk2e9xW8kqA/5qV3vNd0Htu4mPFwFrv5I5J6KgGzuOGX5yZIyh0wPh0dmHNxM0hicAsyi3VE2x8YYh29rvDN6IpSxFaAT4WNHGMPLX7Sc5/xnWUo34+VNWSNeceyin5Rjs20JX+m6WQdml/zfOTwhkpKAjrkHvFL8e4d1mOsdqlaP76SQbcns/LoDL/55EsgTmNwaeVYPJtgdXmR/ITYH8/LDSzwYY1S0/nbcLJg2LSWbRzxgeQyAgZHG2DrPy20Ie6tznR8EO6d9bsPTt7Jds58e8Lm09Q7Yvk9/HpiVcl50XjGO5cOUNh94df/ycsVZScpKrc7k1/bVkyL07IZzLtweIHDqXt8Sea5ws5i7wSnACaU8lxqcPGDLeskk2bIYI3Mrs9IadO/rS5bL2faSaQM383ju93IjXk3sIt3e1p6PySUl1lTfZNpdj3M+Okb+vQY5ljUrNjhUi8h7RJrbXAE7vcnIMoocpG/tQ8KKcQolLX/Fe3KnXI/SkHTvhqq7DeblGST7QPLZkhyVFOByfRjOQjoctGtpsdF0T4Vkm1W8j6nrbRZOtLzC8JdNkvHgCnDJsInWD0bSmTbSG+dcjIxF4f07j6S8o5QVIm1Ab6v6lsH8ox84IymN2YT6QiYdnALMIhoqLdkPW7DYRbitjWdv1WXKXT87NGKMpCR/2rgvjrhHlFLdmseSZlhpv/mwfiSktL/EwCS2kX+vBwtzrIECaXOsiuENOgdJBYSRqb9lp0usDPAQQEAcuf3VyaEkAK7XtDsw6fZY+Lii5P1evVR02UYuxNJ3hDGQch1ZmzKzXDF4JU93hLk/O2b+s0vjt9bFSpYJNbtinvbtAd5cq1s/MARtefBDDGM1hi5EPI1n66yUysP+Bpaen4jkQXQq692LcTKHla0SwVZbz92WSil2qgcZx5FFo3LOc+moHganAGP9qa+yvQfWX+6+0CPizD/ZHN4zcd3jdbHV0w6VDWf7QITpEQ8GieqCWQhhq1Sxa8PoGVaPLreN/Hs9crqsyLo740RQqgpYj2rrqXD5gIOP8fTQ49/S2H3gkWSjW+nMOaJCWBoKX/I86c3m4pPvtPf+4eEObpNNfl+zF6Qo33LG7o/fe4+sfXCFNpWPHKbBYiW3d4Mmue/lcDVRh8V2q1mKguY9rGMlBa6/kR5xbg5mRLlBt/asHfrjQBXgLM8xlRXp4h4fHrZyr4gki082IN07oZciSJI/ViJ1d0xvMxgx4uWRKbnj8e0FKzap7ibq8eEx8u8NsRIfB/Ps7oCtk3nSd3RgsJcv0Dk3Qgjpw76gf5AhHd7tvAv3pQCXJ9yqAN/9hHKd4+ghhertUq7Y1TK4x5uVImJTiu6yWzHYBaek3rKL8l6xSd7XGwhulcJ9w4ikHCOQN/p9tAbM57z5epV+IF0Ina7f/qZv/NT5t+TXm0zR4BRgEUmScU4e44AZ/uWRrRR57RCs5INg5kQS1d4vP2VGjSRjDGbSZejJxoQP0+I44oSwqQG28R160+T+nsOtZxk9Fn2O/Hs91txr3ScYjFp+Q0gRdVbeUY8Ih7ZODlOaMcAlOYwMZjALXevOw1OFHURGvzlyJaGXnIocdZkJsn1TqCinxYN3g3XLjt3gFVkNaL2vK5Zvvy6db4DovbVBKrHJCOXCctz185q97CjNWkpr2gufxT1G/G5yaKISkX6DgLuh3HHWP19d7ibnsXK9PdIzeklQINeOPN1gerhWTHm5Zd9bCPQuGkqN5gQq4gya3DpOPBG3b8Par/ac3l/Nl+0l1OHB+n37WJsHgCDUGQmCRoDqNRlxhLH8obzQSM6V0ah8dpaq7xKRMEMkhEJB2T9tbXEZMeIGSH191xTdRESEiIrmbFUzg4i7W2pDTxl+yTG/PEb+3QltPb95BJtiweDyfjfA9Vnd5VI7yjwnyaCbQyOpEIUITe9bBX7h6fIMaFH/vP2tCAVQD0GIFmmMFmkwGiDO4xjbPUUjBQYn4iAq0mV+FvEmSbQCcHtavSb/MJNNLKZouVhgXSK6Gza13PaN87lyTr7Pq8VyyynUETCIqhIwmqhSxGK8ZhqGllVoBu+rYFCvEDFSoAQMCsXlfJkcufk1g2Sb27+RQOgKLeQeRggAUOanQYU4gUq7WbBXYkDWltMDgyYqopBUzD+7rKliIYRgwZiUQD3IEMvVONev6/Xx7tHkvWw3W7cAAUTWor3ubBLNUQZljD3R0YE6Q8uhl/PVioFWDxfnfRPN+8rMDEKDemX6Ca+L2x8a/0Z26w/a9SdapCjWV628zG4Zf44924Z78wBzm+BlAt2huZciY/afRG6Ph3w1UUyLwQSqIqJ3rbXSIwO27qPkhutCel4Bk/CIfeOaFT/R8yvSP2bk3xFHxOHNCmvC6Lom3B2BEGMSnc2MHd0e185toJJmpnJd3Om9Y9OVd/geyC9EL6A0B+gOcKhb0dJkCjPSdvmV7GnfeB0OdpV0Oi4U3T5kRLHjpD3dsOYXfflAhpPDsQSba/p+o1CnT0/u0q5tBIHd68+dmXcvIdAsQuG3fLvNDprCBU9lVT0ApMgoyNOSqLknZCSy3iVYbwaLotBDoq3qbO/zbka8KtgaqZV5nF21m1zc7ngj3S9G/h3x8NB3ka3rt1Zu951wnOPekxATQiz7hR43njNfui1UrkJS0msa9v7HxS570AYp/6ya33YS9mnJ0HluMQBiewDo0UD+M+1Ehx/P0Pa+gdAYixqc6bkMc3l5Ifa9/ty/B7h0/aewva1xU7KeVZW7IECGHxB3CPSmMdOuqWiRgXZzasixlpmejtV2YsSDx2Y8SE/7ffBUN/LviIeNa9IQSDrn8v7eeofMIhk5LMeWpBZirSlKD8ZNeWUorVoDlFCbpimHmlKLY4ynsuZk8tuc8BF3Q97aRFe7W9sa/eC8vfWZHvERb/f57d9m1IulRdf3W7pWTKdovcL+15/79wDnB7D6ZNtQ012FbmvMr2M3xQRyrc5K3h0VSpFUt2Mzz2HT1kBB10O1pf6IlSrCVd7EsIphjngAMEGqyISOgDsrF1fdUx8oRv4d8ZDQ8/lkNJ0skukw/S90jSuzmaYVDHRQNadWIBloDiI5++5eTrvjPK0ZC22B1jxRQ3MAZJ0865AoFreTQJZIS7l0H0V6XwVYzkbuMnICbeX+PThRbFqRrklwPQDK9K5sKTjY1ctLlwyLQg7pJTUMHPtef+5TARYREHmru36W1wTi4Rk+h4YcqRWTyLteJf8aauiFTZKMtCRAI5UxHDHivtGJwqsVOVmIs5HrhOSne8HIvyMeBkrhwwDnVkXvykBTKxTgUgwYmiOivZ1uqABUD6cd5WUhT9fQHADXJBaeEEpb5NAo8LSwxv5m16fhHGCXL5/jC5WOAyArvQc2EpWKbk+0KEdycsS/7/Xnnj3Am5a2XMU0I1WFjSGaMf3rrMYQebguoVsib429SLMYTVVDai4KiKxZjLfYmwmknmwkQeMWi8Mu6/6IEbdFLkOfxEqsC8TJfnxaNsi7YeTfEQ8JJWnFNc5VCriuxa2x9kbdt0ExPrvmYegU+KgK2VJC7H51vpKBN80EQ8Oah+2kcEM74yuL25aJT4eboHRgHZEq+qvNsWFmebk7SqDE5kUfgLi1v/XnECHQW5E9QuWHIvKAoyJvhRz4TjJ1RU+UbTHmA27LXaXXveUKAJ2YLidV3XHEkNGjzFIsLkMlT3pRvh4j/454SOj1lc2vTQz5mJ43BtvqQg+T5UtuPZgnNntjtlgNBoPeqNI477B2DQGZAtOafOzhnB4oqy73Ke83bzfH2tOHyTWHx66+3z19+OSErn2vP/emAJcza2ZN06iqqlJX+19pMWoPzt+2r6f0bPYKrtfYXDl5nCdgBrPoHJxz4lxqwpx/u9aBzWkbqRJjttUlm3c+Kl9llJ5HYN3eVuZdYGOf67k3y5MkHl9VvZKUNXRiETh3xsi/I04RPX5Hx+OhM7JYwdcAdmmKp+IzLGMCxSmBJoYmhrPpJEspvuhp/PKCV2bRvELmycwmreFgqzfpWIO5FzyAW7gDdu3UOeZo02a99TwkQ1nNo5vP1IoPB2d2diWRysd6ADVPRHLgd9p/zSy0lcDaA/Y6gB56yzUKUW3rYaeCfa8/+2qDlNOBSsEurfi7EgZG3BZZ3u1FWq4OELDIvSyZ5MT4YMQgsan0pqzUktM7j8rI732M/DtiaNiq/ZbfcvDxuveCLFVjbykGLCqE3fvJR4wosYthyzCEXd+iWBaasmDtAMAuwSoVIyg/PADKJWI4czLi5rj/Nkj5fdpCNmmCAowC3Msh2dsEIM0iAUyqOn0lImXD6xCC5TArjBvtiNthq/B3zW7KQkrurMSkDK22y5Ex8u+IYUKYKqmufyipmnvnsaQZu9YaJ76RJ0FkM/e+iUFVvToRMYCkS0kHLyHjbub9tmEdnUT0AOZzxGnhGnoutV/Lncys3bxYlIM+buRmdkSnVKPDeKG50eWhc/uNu/Mp4Z49wJsBVNiQoXtW1RF3QM5Zwrq5ocxsSWtWsIhxtkfcN17oI2obA3Zq24gSI/+OGCZKSuvZvJgzGvjwY7hS5Jqhlarv8Wazz2qV1NCp1iRHAXrEPrCZkrA17mDTzG0FIgl1u5aIY2EVZVZ8su+BschE5VptjoG2eRuxFfcfAr1JeSufhgCAFHryZsraWJrgesSUdbAxz63FuksI7JUoGDHibrg+/K9XXwFADKuQXQNTo9rer0qifNX4feTfESeBTJ9tLlOyarHVftNXD1JhSywnqZQJ6eC8OlXFjjDRm5wtIwvrrSkBFJVSORmAQjHiIaNXv4M9d1RRJ6x0/A5N6c3IWnpSR1NvhQOjrG00pLkZ8WLsJQcYO2pg9IxPI+4RSVaO7NvtxOmDt9aPGAISBa7n/R6tOOTJYeTfEQOBSD9jISlspSj84Akyu2RFxCA5CPxlbrynVOAVmMYRA8HW/TenLGG9Gnmmz5LfW1odanG7XEejDYQ+FLL7FyM7nyD2pQBnttnS2RLANt/viJsg8ViaPS0+ae3KMDOmPK6hrVAjThHXyHylkasQ7NpPeifZ8zBPBiP/jhgyNpm95O5SGo4gehXLTxxrOboqJMSS3xsA5KUFaxZVr8p1Nf85CtAj9o2eFyqSKTxzZbYuK+FJp/HmHPWB7ea9RGUAFMk9gfYNjnXsThz3rACvuEv6TX1vQhyvWjzkndGuUJ2husxGIJkrjI2etxEviRQA6UQMUGD1KmKAE4mkAMGMMYYuB6azFq+20nFvKDEc/s1FgEwMrT6TOixJGmF3kCVaMFFQHVvNx2T1WwCu/b8CiMkeTwUsnSEmomDqKiP58puFiLKBIE8FZaWeCJWSjumkH4GQ6XiFWXs2RXGG9XO3p2/vUQiYCZTpVdNrPt66rUnXT9gNI10ulXZsf5ZGIoTQ2qHA0m/zARQYtDxJmoR0uXwL5exI+1cqQtVNd/fUKAq0cXgG5HS0dK3uHte2WYNGgaPV1ggQRQhVOCTxDq1MbBDCBCYiDjAK1BsFML1Nkr8Vu3zv0RASRSHm2QAWRQl11PQriHVTm56CKQCqSTtmR9ty0rui40qgqLJTO3errIRe1SsUfrYyNKZsJzNu1yP2gaQT5vCi1t5KRu6k5622sLRelrvScXd2yorjWwVY9RD7ZnfXsZvJVCRvdOydFm6tAG/m760JBEVfXxbHbGLUde+Gdt6u7e61y+s+YjhoBaz1VdrAcg0teWRTQepyeNa+za8vvy2l8wSjqqo4cSoQFTAaQUIINtGCRRgjTShQl26otXwVilx55leZ9wfFv9LpsVEsaZgGOIMzJ6hipJ/6+fLKTyUs505TPHYNqItwhBBR0TijmDgwmlAmrloug5/Mni6X1WTKqNY0zjWosMRiOpnNny0mbpoUG0oUmjcACOqYbCZiFAUAQgmBURBhgcYQz2Yza4xwUbA0Vn5GMjJYc/Wes7N4deVA79wSxqRsE2oCwBSQaLZ0XhHVaRUjmmCzR7Or5QXVKNHEKDAq4YxJf46urkI0MyhETGpxMDaxUe+WILwaJNIAsRg9OJtMbNlI05xXFWyJ5XJaV7ZcqNBDlBBSjQKLonOqOQ+nQRjBKDAndL4JEc6LSKSQEFFQFfDmoLxqLlFBFHXlLp5dnk9naACIUSEwIIAqMDEhhRAqYFHbu1Oqr5RkE2nezSlnGmcXTxzDxWQWtPamMAlAcoAGYQCMOKuchsj5IqC2R68tjRNeAXEHffWRDBNGOApAhQFQA6CiGuv6ncv5a6+d4+K364rPKCa1RAXENJqYUnPOYkVKtGWzrM4fBVfPF8uZ1hOHJi5vpQOXvLa2LlG7Su2gIBKxCctlmE7rXadaZU0XCq2IizQzizFpHUiZId1VAEjRLfzmAx8xYgto/aoc6QNSkh0sWoyx6E6qd9mNh2TO1tw0IWUrBIMFc86RLONTWjOr3k5FFdPOMtVaA9OfJkgdvINFGKDOCByqBvWI+8JdPMCl0WUr7GaH9bCrIcGIEQ8PL6wp1UPWkXpxcmlF3p9FNglzAVDQyor/XfxPK9SNnHuCyL7HTmqyUiCigJS6cuHZsy94VLmwiFdX5kzM1xFKKBHVlmamuLqcP57NuGwk4LVqMr9YTGazJxfP6WaPHz26vHonxqaaVk+eP31P/ZozZRtJkC5kSVO17BVeuYdbRNB79d5ZEyzQeWfgdDptLi5nqmLhUeXtnbdrMS86j4vzyTR5O4XqDRREUUqoPJ8/e4rqHLUz6uxs8vnPf/7Ra+cxeVXTnkXJ/uEQTLxV6iKMFCoaxhias7PzEBo1W17Op+dTJ3p1cfne8zPMryZXC7X4/tdf/8iHv+qD7//C89qd1fWXfOD957Pp6+85e6NCnSpBAgb86pP4bLF49913P//kyTvPnn7282//ym/8xq9/sBVa4QAAIABJREFU5jPRKQRRpaFEeIg0ZiGYKi2Es7OzhssmLq+ulnVdi7golqS95HkGxAS9ElUsJvTy8lJEoF59TeDq8tmXOvrlAkszXVahUmpDi7RgFkSormkWfr6oyImrY+U/fXlZzWZ3o7oUXBkFAlMoYIv50qmb1LNwcfHByi2eva3VtJ44aaISwQUTU/OAF8LRnC0q5+OkerJ43khdT6Y+xtgEuZU/+vYjDyGIrJWGzh7dconOPwm21sd7DMgasVdcE6XMolhxPvjUybGNFdoIhNY7KfZbsWJbWTNyJZUYSdNJm8bI3aeGuyjAN2Sa2/LWKECPeAXx8g7bTcHrHkOAVqk167lDvXyhe7/uiAPAANM2WD05CJIHPyqMZg6huXzjbPahL/nQn/ru76yfP3/Na8Qy+xha77GaAeJEgJrCxio/eb5cvtMs/sx/99+/4+qnF0/Mm68nTbOcoa7EN6Hx4rOdNIj2NguXo9pSGLWYqoYQK/UxhMrVFAmhcXL5ulx8oKr/5Hd+1wfPHk2bOK20ETZqC0aDOKqy3YlSeO208nPB2+I+PV/8N3/+L84pr33h62EZnTmlQlL4tBpE6QFMZm80y0uJ0YtFNVYu+or19PPPn71+9qhe8j31TK7mtnj+vlrx1lsf/Yov//jXfs3Hvu7rvuKL3jvtnIo+hy4jTTYEcACB197jBGfy/jPDBwWIwBz43HP83D/8lb/zcz/3Uz//i2/N55yehaoCnKv0Ms7Fq7MQ5k2t3tWzRQwXV4uqqij0MUKMre9coyhAB3QDiSZtXPSjs3MANAm0ivL62eM/+onf+9Vf/F5XqTP10alJQExCXoTATUTpZam05dL+wT/+7H/7wz/621dzVtVtN25KipyXqOm5wBkmszosl4+8fOi11//j7/zD70Ejk/NmESYWBSFqpKRb8YRCDFxqXX2+sb/+t3/yx37pl+d6xWZpRtHpXkNMQghJtnZurd/JphWyjTJtHb+vUP2wEUfENVtw6iyQqtmtIvBPv0lhLlDXBnjTSHalsFb+glRY42681ynAq7PlLo8YOfqUsa8iWCNGjHghSq0yRUTvWqF7lt38Rp1iQwu990FuZr71Phn3gNOEAGpijipAzuylsEGsphM29vz5u28/e2fx1juf+Nr3n3dppU2hyyUYQKDulI8GmAP/4GMf+as/9bNaTS2l6C5wXp9rBENEpQoYERUmEKo3Ktt04iL1FzGV9hQgNjGa10pEQox15b3Nz5qLf/kbftebX/2hGTAjhHjaWDXR2CmZ7Xk6X0ETsXR4Avzg9/2AWdOom182tU7VvCB1pYFRVTTl8zCILbXyzlcy53zeLJqwdK46Pz+bP33+Pl9VlxfvP598/Os//rv/2a/82Nf+zi9SrQAHSNpcCe2MDAAsZbOmEhnAmqpmEiPVKQRf8Ahf8dGv/P0f/co58KvP8Mmf+Im/9RM/+U/e/m33+LVqWjU0xOXUVWYEXYyhnk7NImgQ65z6q509hWKVC4vAFlcNYF68tQ7j8NVf9uUff/+jGvCAx8pBn94sDE6h3Uw6J7J8WskkwMUbK5zpiQu7t5JDD1CJqMQqhtfMvvnL3/sGACAGTB0giFh5s60jtiXwFPjJn1a7fIrpVJSTyWzZ3HAsd0S57mU/cG/1y2t1inxG6UQaMeIYSG23ktqWPnkwWzZJFBn16QZjjCIpVmNVuy5pync5f/ptCikvmh71zAcca52cGu6oAJc73qbIvioeMmLEiG1Iq6oWy2W2Mu4SJ1P2b1ru87Ku3nG9Rus+VuHrzzwu+ieKpO4q1dG0zcYEBRCYs4vlRe1V1Z5fXHz/X/v+b/nKP/W4wpSA0KmkHDIBHKhZSiDM4L0qoMCf+CNv/p+/9EsW9d0QF1fLM53awpyrK1cLjW2ppuSbhTd0ylv2LSNKKqZFGOp66oJUXi/nVxScTx7pxcWHXjv7njf/0DlQLeEqQFHXcEANeq7SakJXNOvM4RL4P37xl//eT//fOH9NvapUGjQlylIspQEn37NSbb70cK6ulpwbOalqZ7FSkeXlGzN/dnH15jf9i3/8D3/rB6btrkfECk46HVgkAhAw0lTSrIBAhCEajF4d2pRRda7NfK4FmlzExFc/xld9+zd+17d/4w//rR/565/60V9/smikcvWjwKjT88agrhKIMKYs3y4E2DzNmdvFmXVdx2ahIjP1k0lVXzyZGh0wATxYMVkDALGUo3umadixgQVUqrgKc3nt3Mxu7nEVomKrjUdBSNXQoCZ2Mb+YiheINldnwDR0Kq+lTO4GMLEKdJBUfhoCTABHOOe0ns3n8+UiOFfdcDB3Qy5blbxMzjlVVdUyrBSlt60IQs9uN+wIUh0x4iVRuiWzdYld3+mW6lQgYg+CAjdTwNL+lRRgOCjhUSQs3Pb80hbsaFcjs8ZitiMQa9Xs7u+2RhwIr3I9mhEjjolkn3TOJSnqejUy715J3nLOee+rqsoS2P4GuevzTe/HuAecHJyhMighpsV2YNN6AlgTo8wqnE9+7XOf+Z/+5qcu0yFkBaR/NcyDanSEMyjVq4KogNjMv0Dw3W/+gfDkrQlYQR1qMb9smqqqgLaIMdcykFsI23/5gxCic1WkNUYKau94cVldXv2x3/8H3wBcROWQzuZEI5cVKEYYYRSyAiegB66Id4i/8H3/45zm68lyGZbzxXQyyapyKmptYpAACVVVqXfLGC4urwCcV1XdNPXlxRdY/NiHvuTP/Ef/4b//R7/1iyc4B85hE87PkNTcIAzKqBCFAFA4QgQ0GEEP9a6uqkpUxXlR3yVfGyzAosRmAnuPYIbwCPgy4Ht+7yf+/H/+n/3JN9/8oHOPmuVMzcLi2fN3ptPpYrFI05QUy9Zzy1UkeQ+UtmI1osVmYcsFls2EOAcmwASihAqcmhMTNYGhiWLwZhVUAao0Ik3KOL4NlCnqwGQ9SWoynfqJI6PzqXi3IWXYaTKHUECIAQa24foweKCWSqWmqeiZ+v3GP6Pz+nbe3Zj0itItnD9PX+XPRyvhiANgMxas9FhuRis8MPQy88t7f/mTp1Nlvn54vvRXELf2AN98e9msEZ0w5vqOGNFqv+qS7rrqO7/reLY/SVjtZMWWlk2/e1JEx4X+gUG6bNuk+LV9d6hCXD57PplVUAkSnwnxePo//OSnPvYtH/+m9z16LIqV3iOtUT0AMaJWEE0T/MSfV1MAf/Cf+9pP/o4P/f3felf9LASI9yGa0qCWe+LoylVrXM8HzgoWIcE4t1B5ukonquHZs2/5mo98x9d/1M3jZOIALNrGQnBSk5AyQs0EROPwRPCn/8oPfHpBTt/TBJ2o9xN/8fTJpKqp1qiZ0sSU5gwGbUSC0YnUlfdOmudXZ034yAc/+G//K29+04c/kGpATZLD1sxLnfhYpdtYI6ECEhRRgbRfJNEMRu9d+yQEII1RnULoIMZQwdXiAcRIEZk5/2/8nm/+9m/85h/62z/1l/7G31z6+P73vX6xeE4xiut6NaWIaxVmt3bxwFMsNLEMjfPixSMiGMHIZulaZbM9mm0fKYKEcyAgVapVtowq9VmQirfUOCmpF5Rr9XNTpQh0sVxQpaokeF4AE11WzgEIUIMS6iDJk5M7THhJ7bZ8XKAxqps47yOv7qsT0g6kMPA2AyBJwmaWUoKT+63L+xURhw1/72glHLE/WCcUZMJb0wBVysodD8Bv6bY5YFMyWU7dCgolVFTuWvXLBCSNFi1eM2OjgHRyGD3AI0YcB7fyAGevr/c+HZ8+Z4H8yT0OctfZxqy2BwECRrGobBTpXxKhZq6aobJFY0vD9OyZ+rcr9+f+yvc9A64UqVqyEAJJAXXwgtoDsBCriTcgNMsaOAP+3e/67tliUS8awK7Csj6bzOPCxFIPYaE6k6SHtx07Cj7QTjesXU1SKkcVMkpYvs/pn3jzO6bAee3QejWTFglBUu4FXuC7LwQN8BOfefLJn//FpzpZSsUgaMwRs2lNDVGjaTQJFIMYJc2MNdaI2tSLWyxmy/knvuZr/vR/8D2f+PAHHhvOgEeAa4O1HUxUUv4wUjOiVlcS1/O9qKr36mvHNFRF8nKqqyASLQJQUUn2BYOjKFEb3q/4ihp//Fv/+f/y3/t3PjhTPn3LhctJBYGlwleABz3Y67W8phWmdkSR1sTQWKNeJpPKGJEFAmtf2t7Qq8rg3RlMxU1ivN0KkObT1PIjbp8vZTaZkjRKAAlQXASa1MsKEDhCkcR6bX8WDBEwM+/qyk9qrZrlct8iTdYcsqMpxhhCyN9m9y/WqxKWZxhXzhH7w1YvaM8E82CqN+Wb7WUWpM/vxQlccnrucIZi9kZ2Pl3caLcoJWwhYMzRFOxMnWXvO3T5isltlQT9qqpSxCZ2UIyNacMjXhnk/LG0RouIc66qqlKPTZylEBiznoz1qlT5E2DlIj7A+B98MNWrAAqCY6NcKhbeFk6DKCFKqUyxiFPUjlUMGqVauukvfPq3/sKPfeodoAFAIBhoRAhcQP9/9t40SJasOhP8zjnX3SMi8y1UURQ0UNBAF4JGgBACIZZm3wU0WppumUAmWm2jsdbIrGds2kyzWLfNTPeYukca0wg0M5JaSCAKVYHEIkbsFAIJJFZRCIkdsYNqeUtmRoT7vefMj+t+44ZHZL589XJ/8VlYvngRHu7Xr9/lrN/RqKlwKQEKaFVwBT8CHn3t2ef90OMrXw8HTkWnYQo3U8cYcIpICR3DoRVsrLFgI1n7rfqgqlwWdahLR0Uzed4P//Cj7lOVAEgji3VJqIA1QgFVeE9+gkkgbeu4Mi4Cv/K7r9scntmiyltJJg4UmtprbawBISBI4YjIK0gKJZ7Uk9GoIgrabJ1pJj/xhMf/rz/7E/+QsQaMWB28wBcgNgERuNVXW5omoPWQG8Ck1n4TYAYEUwMCY6Koo/JPFHUn4QLGsCwova3KBFEMFPcEnn7D9f/HL/7Cw++xfjpMK50KTFUdl6wFmXivNeC51YHZiLoTEglYlEVZPIVAmDT1tJloKufbKZ0GH/sErKAGUJCPycklE3tf0OWpm0poRKdOa7GGzSjGHjAbmzfHBdrcZ8QWCFyMtHdA0Xr3tftSo09ayUNUrQ5ai9BhCRHT6XQ6nTZNExfztCz3rJNYrZwr7B2WJiJFJNNMKyow5fVyU3T0gTd5j9GbYjM1mMlodtcpZ2GpIQAZoV3//EyNhqZp4tSefd4yGa504OONXe1fyVUVvU+5eQndmMtXfMxnKibZfTvWxBWOPmgbHHa7jisWXb7JVISFCKU0d7BgtV2tvCvsBjvMXyMYa4qC1lZl6pQkFTKBOVhZc/WHt976dT/ZRHSxsjVNY0GZDQpWsFpbhid6GW0NOgB+7seef20h04t3VQPx1pBIrFIbr+UUEl2OFJW0eK4W3HFTF0XhQ10JiZ+cIvvnz3/GMGqFFAzeoK3yaUpQA8Y2ZXINtDE0jPPA69/9we9sTC9ONJiLqbccvbOOFAFspbh6MrUANjet1ZSqqirFmnO3X2v+X//kj/3ijz/3nsBQUcITAmFh9lHr0U3vDVDDeFJHXVQNZEYxV9l7ApzM2JVJ4k7aWhNimnT3viWFKgiDgNPAI86u/c6//Tc/eN/rT08nZTMdAH5aA6xG1WCt9j5Y6wtPTUO3RweYhzWmjYXGQgOd6ezdFRWm0AANUGMDK6hLFjcVvZuxxkowypJj078Ww7ZZAAETWKJxw1pGscQ8bm2rEIAuWzuA/MqEvsJVhZ76Z2Ypo2qO9eoqRu4Gz/sk7YDpgMXQDO3Ys1c9eVJxCQU49yzNqbIx5CoTx3MFmEFCHU8PS8FzQZ7z7CbAyvd7tJEvE4s47NYde9h80E4qL0lEMdoCQLQ6JY2FDQKKWsHShXuFFRIuNX+VoKJwChcQo5HJoG2xVgBgYxekDMJafGuz/uXXvHYKbBGCgsoqsi41QMheaT0nDaeAexd4xUteuM4N15ulWOOnBo7qLhnErEfX1GYjQ7ljwxKyZjpxqgMob2294qUvfsA6HBCgdfRIt79s1SSFVlQx2AIp4RzwqXPnf//975vWQRqtwCUY5gNqj1oRlOC9Z2PxsuZGw2IkPBBXwcL0/J0PqKp//8pX/sTjv/9awPyEOdaBIoMEuACOibUw1BZq1sAIMRJZoAIVlIMy3pIYKBAaQ4BjZ3XgqOCZKrzBlCzAWrUTGuOxZwqwAwDyTWW4DjgDvPoX/quffOKP3MuwZuqASTMJIhP1iNElnY6elg5TBENQ9Rp8sEZDrUGtLZFp1HqbQ7cva/tMyZI+3+Vm8zKOjx0QlWgX4BRibXZvPlRhFHvDgUW5bYShbRNxbEAaZtbmjauSKlmrLu8nkp1ol68VVjgwpKU++n7bWrVX5TjMJaLIp+c1eA1e1asGMwWMKP0NZunD9ImZee+9hniGtiejb3mFE4FLKMBJKE8u3Ph+BzcUzWc2IlOSV6aU44iVfrUf6KWmJOU2Ta60meUfRuTvLcxxkOZBGSusgB3nLxkie7NTiHJMNO1KAauyBtLAQKsDM6nD4NRHP/fld9/2lQnBCoAgKBSaaioRWMCSYnZjJaAaL37Cwx/9oPuXzRj1dODEqOVYyhiw4icUWZtafympkRnBm1aFk6bmjY3HPuQhL3r8owuAfOSRJo7qWBfOBnABFrADFyIbigZ41RvfcoeCXDGEOAAwRQgwI1WCc46MScmRWK3jjbEoo6lPE93Dwn//M694yo33OwOUVg+dAR6ImlhfgxM2Rgg29Vr7UKvFwr9tb4dgzOBIi+UNBuckqpFCKNr9eEbeFT3h1lFTWZu07akQ3byIoKcVp4D/5sXPeemTn3hWm0rr9VGlWntTGHvfim4avUPWDYbWq6HeNKgGWFhwZXcaJzNc271wgHQyA5OB9bKzLcS4UHbKom3dae4MLpbrrpb9nbUIMUCAwAzu8oeZjLk9le2z/rvCCkcai67Oqxw9+2/O3J6799LxPY9xsDmdZSVZnTBcWgFOxLNAW3TLLaku3c9CZObkpIpbL+kSt+HK93vUMKdcrTy9+4Y5G23WvUIcX7F6Sh4XDYDU4pzKjUq9p7N6XlczLnf+srJTdoGdUvTLJXU0sHkxzyFwLAukAIVQueq63775zd8cowbqGiV4aGVUOMUg1qrTrQPUGBbWSwyBlz3raddYs45Q8kzFRVS2STXpw6n9FJuBhq0clH4yvlc1Wq/Dv3jms04DAitc9BY6B6Y8hNeY1EkNBFgAM97yF5/7yN98KQxPs0EQ1JqG6kCAI5KCiKzWiksyclyEpmENawM39M3prY2ffNIT/8nDblgDhlHJNgAcQE0Xp912GgHwolOHaUlacSiEBCrwEvU7AjMFhRnADBdVfCAEhNBW/dHAgGsVPMdgbhW/jJzZDAxeG6KeQDFUnAF+/gVPedT97nP90El9kdFUTkzVe22C1hZ8V5VWvcW36g1KbEwkAiGSOWFAQYoSroCUEGeFUyEFlKPvN4bHJ3PJbgensSizRtozEkUMukd8eKTKFlhnNoP8DQDleKwYnHEBlEAR2IV2ALOuxNMVrgpst6QnoQKI1sgleWqava4SzPJ9sgJmqaPmEoI67dd7H8ntcofEod7ECnuPS1tw8wdvZqQWfcI9rp3ohkrUPts5rLAaSUcbPWd+/vk2IZQr3B1ExXWRmAFATnaVa7+WFTBIv12FQK+Q4+7NX6NZiqURjEzJYjlcYzUy42CkRmAZbtb4+sWLr3v7uyYASsBARpRUFctkq+hBFBGAFU958A3P+aEfos2tMJ4ArJ2zNzCiK5GMyJhtFmSmBM9QVhM09YQ2Nl7wwz/yIzfeMALEakNoSZPay83IohAUjs1QC/5e8Vs331KduXZj7L2pWVBWz2gcGYsZWa0IcCTaeENwlZxaG6Ie8/jiEx50wy+++FlDoGj3OIG5ZquOqqnMK2gggBwgsNZfauRquE3wRdAF4HbCecZdgu863CW4S7DhsOFk4mRKriYXuFKTWOKHrAt87lipFLEgUQHAvKKootrsgAHwb//rV1xb6GkEN5748bgsBkHRBN+E0ATf+BZR+yUFaSvYMUi6wsCabqQNEGBoR2rdDQ8FAqsSLlffNEJogwwYxjYbnwZ0tZcjC3TMgu5IwC0X19tM79mjjlaSQLh8h/QKKxxLLMZg9ny/Kxk7oeerw0Kx7tk+mKnHcX9M2u+htHyF/ca2dYBT+GU+DgCoKjMzMTNH2Tv/ScvWA+rJ5L2zAT3BYYUjh97MX6lYe4tEVpEREs3S6c0sFdKYW767kIq4UnsNqgpezaUV+tjV/CV4IwNCq4oi5gMTYOQB5VbtYCUEZhhP6ub0mVObFyd/8L53PueJP/iYe19bAjAFENrKPe2ZI0OUEKaTyWBQjpgF+LmXvPhDt/3t1wM1BlB7+hBzP4nImJO+F5tN2jAANNPx9adPn9mavPyFL7wW4MakwFbYrGRNAKKoQHf5v1AqYMAG8+3Ar9/yloscNrempZRq6hm1SC1AjMj1xoFLVxHxFI3XaSVEGuoLF57y0Af9u59/+WkgAF7hmH1DJVAMTiHARZKqWYodUyxBpFAgCAJQAxvABvDh2774zbvOff5rf7fVNOc3t86dv3j27NlT66Ozw+of3PO6h97/hofc/773H2AIDIlVUcRzapcAHMOYQarKUo43J8PRCAYwpkEN3AD3JPzSv3rlL/3nXyuHa9+dNls6luHQhy0xIyNRGNQiI3SXxxtd2tzaHQixchPBUXI4a5dDzKmUlAe8aONqL6Up7caM3p0LXsBMTpksev4hZq1v17TziQMIiDnLBIU3BIESG4IAnMwBHqidr8VPHSkTG7PuujUrrHDMQR2Zc4rpVbWeywqZ+H21obWZJarn+Q0x13tpvmZS/DztoUl5uWp78qRiWwU4oucoICKz1tNLRGQtEwiIoG3Jlii+mFnL42OmBDYLmGdaW9lUjjAYZFHQYCKDERhkhPg+/QUwK4HYfb7CbtD6dTtVNmfhj4akaIPsBVN0DL3wpnG1NgJW5t4V5rHL+WsE772CkLHyKhknR2DrZ1OAAysMjout8ZjLAc5e8x9/+zX/5X/8b9cBZ5g56KhTlqImqlYNBgbPUGr4PiX/8+c899ff8vaGi5qJYEoI3O4jnJQuGOJoN2ZjkJYM27zwoqc944GnUQDMBvBAht1FNWaHAm0xHwFq8Bj45Ne//fYP/0U9PM1SqiGANHKfdJuaOHbC3gdmFGXJCmgjOn3QPdZ+6ed+9gzAtS9KZ4xaURQUADSQqCISwNrOSrABPsZsAzXwd+f8Rz7z1x/4+Cdu++KXm6Kw0WCzbsrRmjmZTJvhxpaeO+/rKYfbZOLXmR923/s+5Qce85RHPuqBZ6kCKkDAXW/4GNToRJqmGY5GAMwQAkTYAwPAA4+87ppf+Gc//su/8/r1tTNhUFxopqUjUhAErEQk6PpJDSBSI+JuU06CnRp4tqJw7FsDkUGjuqsUIr3W5S/4FDjWR1SjWcqu0iyaOgseS8MyOt+7xkS+rrmYBRgh7HcV4BVWOCjopZxEKWR35rc0izMgZb0CV7v3MtdXDaC4IWZhdPGNiOR2hFlEdKYqr7Tfk4dtFeA0RFLKuHMupvYaAhSFEIOnTQMzEJGpkBRCRDBTYgJMNYCdmkbOSbO4sc4m5Gq72m9YVrE5fhKLM5sFzHMmxb/OOQBCZEQMpL/R8hHFsfQXQOnKuEAEMzIL3WIRQqBYGLMLjzcmZk7FJq8SbJdmw9GaSHEVDhbgyDnnLHhmJrKWA9risUC3EAdTC6qwWGubSFLy4+JsWqSEWVkojhf2e/5WUppSzEBtd3oNAIdgzGxEMKhqJGMWZgsTkWJzooPRNZ87f/633vWxf/Psx55mJkAQvNVCQswI4JY9i2AIBADDgsnwz570qD/7i49/4u/vPIdGBuXGZFwMqqooNi5srQ+GzDweT50TlmKyNV5bW7PplDWcKfx91tzLn//EIWBQEvgarqhAqqpgBoxqIgdinpqWxFPgAvC//8Zrwuha7wbj8bgYlGqk4LbwUkv2qQ1QO5jyqWLNT6ZlQdW0fuULnvt9JQ0BcQ6AwVcMAzwcFcBExTHUEBounYLI0Bg2GBPgTuDmd37oze9/73kfMFrfWBuV1QgsrmQjItCgdFYriBon08DD0ajx+Pj3zn38zX9y03s/+PynPOllz/iBa4BThMqc1lMuncfEoQRQFBIfIBFclhossAr8wsc84vNffPwffvTTd/kxFYVoUjKZNShrQ94IDsrGBIFxy4BFSoADYtZx6/eNw4TUQJEBK8Z2FwpWJstTti8NBpxGs4FHNKxQ1MjZgPgUyYQjtxoAY4r1ojryacB1lGLtCaVLYjdlu8y6xAeAlFHfw36nX263F6zW/52R99K2e3d3ZBRor/CKvPC/YICaYxKW7Ur1MrN2wnmXRdUarYxgMBCSpN1T247aHNk/RGNA/klLMEhtvJPF3jbz2jpyEtV88g7jqjci7CHy0bzdONzNMXuFbc+/GEGXxwagC850zPEsIsKZwtxOOeY2MAOz9MUVDh3JsU9ZhWfnXFEUjtkxExG36WEAQFEPA3p/ATCIQczsmEWkyCo/JzNkMqedgMLre4g52+Q8Ypp9URTRMFnXdV3XTdM0wYcQWl2FQESrDr0Kscfzl8wxCkLJVDLNyt1BSImUBCIgJQTzwvC+lrK62Kiunb3pHe/97O065pbS2dcNgYL3UX+BghghKIHVAgyF4TTw089/wWDr4jozoK4qnSvvuuv8mfVTTdM0TV0U4r03s6qq6vGkZDlbFm5j41++9CWnAcK08WNAnSvgod5mpbMFCJiOG0duDN4EXvP29533OqVi3OhgbRRC661ttSaFGEAaWMkROa7runKu8uHGe13/wic8rrS2QHEsXssIXYYqpGIwoAHOEQhwtaJmbAGvee9f/OvhvVxIAAAgAElEQVT/5Vdvevd7bjcar62fJ/bDUe0Kz07ZwcSUklIKcuyqhoqLARvsNqvhZ+8894b3/+nP/btfe+/ffOuOgC2ClVVdhwKDpL+08lmU4hQCFCDTqei4Al7+0hffa1RxmFYEMuWZ2sMAAmvLajaTNFIAfMq6jU8voxUjKJRmxygZ3w35RNr033gTYMsY7AkwwUylYFB+q9nlZkdEYi2IsRhkRYK1wv5gKXPN/ulFrV93ngY9z5bK2YznfriaASucaOwth9ROG1iuA1tHII5McE+Ez7mS02tfCipYab+Hi/Qc038pK1gVBehU7KqXRrLzs8vX5VQrK8YL5PmrkQl8P2/xeCDKcb0HAQBq6mf+8diNRJQTNmxX3uDuiKIrHCschfkb1UBVlIMCbBfOn0Mhv/q615wHNg1AMaiGQMsNpTFylgCogJ0V8VTO8KSHXf+sxz+Wty6G4I2lrv1oMPJN44hVVUSIBCEqSSrk/eb5Jz70Yc9/5MMZYPDQlVADQQXqYvg0tyV5HEaDQoEJ8Jff+Pabb711QmB4WENEXUAF2CAaC/C0SaNigA9mwcGqun7Z815wisCEEG8hSyKLtFtNUBBQOPMeYAUmgvPAq/7ovW99/wc//61vT5h5MAoeIdCoHBWQgrhTp6M+acFIxypBSiqEmIjKtYrWy9ub8dfGG//+1b9xy4c+uQGMAS4HAqEYBw1tlddumyWDaRhwUbBr/PQeDi99/vMHk2nlG2n5ozi0CdLcVjDCrCURubq7wl7h6FRhPTotOS5Y3FWlMynuK1JUc1Ru0+KcfzUjtFsV6VnhuGFneXWHb/d8hG/bjORhyP/bpRnMWpOEpJ5ANhPcu8TylQJ8iFhMCJHMVZtcKIsr6SWfWnJG9T7v8YGvnn4PixEWUb9NzyJnI6R5HGa7VzgMHJ3569XKwWBa14YwHA6tch/9ypdu+ehnGkIDAKwhEMOgjZ8KEEydc60GBgjBJjYAfuaf/ui91qpS1U/rYTVkY/OBQUTk1UpXhhCaplkbDqip12E//YIXrLW+R27TPc1iUVhFGx7rQxPdl5OAO4Dff+d77graiHjzVcGTySTyJwORwDj6MNvbJY+KqCDSrY3H3/h9z/7+B/lgrQOSgHhREHXMz84xCI2vqaxgHIDvAf/b6/7oje+/9Zub49F19+bR6YlXo6JyFVQdSBRkIBhIjaAEM3NUkCdSiEhdTyb1mArH62sXRaZnzrzqTX/4K29813lgCgSwSIlZTWBNTmAYHEuM/x06R8DTfugR966q00ZiilbfjoRSMdWWYQtb/yqaZIUVtsF26+T+XS53OCW9N1ZP9N7njqWVcLXCVYI9H/A7KcCYl5/ie1UNZsFM0VY2BLMRGVEw86rxVXtfdxN1scUrIf5QQNYmEDJzHqjMbSyZzeqFLzz93YNTyCWzY3Es6XH3SmddDeCFV0Sryxoib1xMKAohQJXMhEgyWsKZ7mv9tN6V7/fqwaHPXxImKaaND75xzEZ659amP3vmt9/2lq9NUQO+YaYCQNCmKiukpd4AoxjuOqioNDxghJc979kyHp8djZqpb4IRSbT1eO9hTMaFsMAXzeaPPvlHHnO/s1VABVgwqAMLmAK8hweAEAC4UqbNZKpQwZv+7JO33va3OHPtmKBQJ6Zm5ARopxBbpN0igMkYasOiLBBOCf3sj77oFDBg9NKRKNY6RhvfPfYTV5Zb48YTLgL/8bduetenPt2sn5mWo3Med47r2pwbDAtXMpjMxKyL/oUCaqQg4cI8e69ExAJv6jVcmEzGXNxFMjl19pYP/tkvv/YtF4CtgJiFG5O4FQhROc+iov10KrAKWGe89GlPpbvudBoQFWCGUhtIvFC8t1WSV3L0gWFxR1j8fDev3ZxzhStBb3U9gCv2NN6lSAevZOkVjhF2vzotHmnz4s1etWdbLF7GuhTf1Jrk9Y0u36ZpUr5iKqW1MlAdHaTnhW2Wzt4gu6TXcekB1HH2pCD51TK9SySXb15qO+6Fq3m0wmHPX2Zxk7oZlJWQTerp4PTpcyF8czz9f970lk0ARYwRBhFRmzJKBkABAQHwAaYOKIGXPOmxj7zh/ryxWW9tVlUFAEwkTOIit3zppLlw4YGnTv+L5z2rAiqGMxTs4BVgRWCwg2PAyEAKU1cMasZn7th447ve6wfrU+IgDgU1oSmrohMcFdBIO0wWSZhQiITpVqnNYx/20Efdd1A0GBIxlFKwMTGsq4hrUCCWIHPD6iLwX97y3k9/89tb1WiLyqYorBrIcOQGg8ix7Igo7qc6c+MHmFeb+sBOYkVcYh4UZVVVzExFUXOxWVT12ql3fOxjr33Xn08EU2qZpxOSgm6NwuDKykwdcAb48ac/4fqqKlVBqqTaebNjseXegIiUzop9J2daYYXji4MRY4hmlkyfIUnUvcbsPt5nhRWOL/Zj9l0iBzjPPYgfdoxzSB9Gmaxnr1rJ60cEycGYZK9ksEBn2uzJypcVbasdf+y2DWB2LELMIKxygDs/HtTQRTD1OjxtcoVIIbL4LFpP4II3eBGpQEh6rXC8cKTmr5lNgw5GQ1bzk/Gps6cu1hMpBrJ+9i0f/sj/99mvjiPNppEQIyiCUvxEOm4lDeCgqCvgGuCVP/ri9cnk7KgKOiURJQQCCSvMMdj7axz/+D95ygPLrrqRNyjgGFDvPUEdWIPBEVj9dBqAbzb2e29/5zfv2hqsXVMHEDsDe1UiUvUgVYKRxSK0bReCjU3reqjNi578pAEwFDAagjGUAR+vP+MGBYBBOTJgE/jkN+5432c/+63NeiLVlpkH+WBNHSITvkF9qI3UOF5UEd8FeA0GUOHMcWPqvU4nE0zVKYtyE3xDuABt1tffeOsHPnuXP482znxu4zYAIGEEgyoTeV9XwPUFXvzUJxfqZ1HQxDCCMRm13MtkORXW7oflCnuIK/Hcrry++4HFvTUtp0QUiT93ucDuEmkNT5eLHwbTYBpX6XatznfzOJVX+/sKxwS7kVrzI/MXg4RYiB3LXrVn22VzcXqnEGibRzwyabwpeQzbW6RWuvEBI7caJo6c/PnmB+xeesYCfXHufUpvksi+eu4JveAIyviH0M0ydC649G2P32iFqwRHZP4GMxQSFFpPS3bT6dSMVHniwfe8/lV/cPP3DFNGEzTyG0fHIhGI0TQ1oCjJ4GOVmxJ40oOve8ajHllMxwXZZLplgNegUBQkwkUzufH6e/3UUx9XNBhI5DvufKDMhROGoTFhAVEAZDDcAD7yxa+8/1OfHt3j2osbEwQGuAlg57yvnZMYgBw4FxYZgA9hbVQOgz7+xuslILJaMwJ1btHO6Nv+JsYL18AG8OtvuPkLd55bv9e9i8GaKwoiivWGRSSS34O5FVW5rXxm0WMdQIV51LWfspPBYMDkOFABQdC1cuA1yHB4LoS/D+E//L+/fRHw6DoAIOhs/1a0HQ04IQKGwFMf+wNVCGKtxzvebDYsFF1p8RVWWGEH5Ivq5a6xl3uhxesuHtaTH1ZY4USiJ9gkMXivzt+Xp/PrxQmWF4aOLYgcdGYWRTGbJ6yzrrp077Rpuh5lCb7XtiPbzrsBIorEOfEZxZwWLMRA9oTg3Zx2KaRLTeRMu8vNIpR5O09MPy92JtSS+SpZjgEURVGW5aCYvSpXDIoyaTixl0RkUJaDcoaqqsqyjBWS0pGpS/PfXlWgeef5/gkoh4UjMn+9BgCOxcFIzRFTYKZqC/yNra3fuOWPNwDjApGvWCgSLwEoKgYHkCqxggkoFWeAn//Jf3oPDoUfOydNVDUtKLxQU423/uWLXnIKWGMY1AOIFMwxtDr+aatehgBcAH834P96/c2TcjSuw0AKB6IApjKYEJGabwmogEBQhnWB0AEBWj/r8Y87AwgDGmJvznfWLP6YjRRogJve+f7P3XF7OH3mrvHEzAZOCii8LxnCplYbm9dGSVVMGcG09k2oGwtwxNDGzIuwmfnGiByDWTEg8uPNkjGdjou10Ra5r5y7cNN7P9G0jWICTEN0sCejQFRvhchBHXDjfU7/o/vft1JV3xCZDwFAKY4N0ROus9u52wNzhZ2wnXA1d0we0dPtF/1dY8Ef0js+90n2DFgnbzG8e8hXxcVKjVE4mesotdzvVLpiUFbDahC3YBHZw322t3+tsMIJQD6qk0Ar0gWEAgAigVTKviFql7v4QzaU4qqqKoqiKIr4BpfjSd4Z3Jty262Si56BRbF7O2AhmvrITvLePZ6YurWHsgX2t/luj7mqkLM6W5fcW5blUo/uZSktKdQiBcRezVbhnnHthHXF0Zm/XUYvALBCYqVc47FXOX3N2z/2sU98+46aAZagbeVcIDpOLaqVHqxgqAlQKm5Yw489/cmDyWblVDUIjDQwBZtuPudxj33ig69zHkRKUIWGXjUX4xjDNJ02DdwYePXNt1wkNyVnBIKKQZQBgcUasdGXy5GEOdYHau+ONdSTJz/20QUgBDiCGZFDp/ZSZJzimQ48VdwJ3Pqp25rhaMJsTGYmZg6hhApDYAJiBjlqTINqY+p1xmBNUDJleErOWGMjBqDeM8wJMVntvVbFOa8f+NgnJkANABDAMSEyW2WaubV/VAAHPOIfPaQ0K4ULoSiyJwYdA4y0TZ9eYX+wG+EqfUsd9YN06NU5W0S0hNKCHwI9XW4Vdje/b6YO7G3QWBZNs7jJHuJdrLDCcUEulaUIx7SypVUrn1O5XpkfuU/yz0whueQ10le04GzJ2XpyHMdM4HwfOkkK2yyY1g7C3p8PpOhHcgv6Xtqn9701hwSiyKGjRNHOZcwohOLLMVgQ6yPPXtugl+U1E4y4fcUUawv94IurBDQfJY4TJ6kchfnrmAVGRMowYiFibY8UyIVpc57dr9/8pg3D1GAOzSzBVGEIbQRvCuAFExzwimc95aH3uqdMNysOhapNJqcKPsX6My964RogMfgZADh0ucBtuwhgTKZWVqMaeM+Xv/Luv/rM7RfHRTk0AqCsKga2dvb0iI6TLs1QF8KZYfnoB17P8QKkqinWGGKQrv2zScr409u++LnvfHdsUlZDDaFgI20crGQqCKzB1EPVzLz3dfCNhmAzOVsUAu9M2TTaswMjsHoBOYCUgmeQek8kKMsvffs7t33tLk8wxFxAwBRzCnCmoAMC/ODDvo/rCWtjITAZGSyoLPBAk4EWCyOtsA9YdPMmUS9qZM6xCMVXeh8/X3zNqcqJaEMt+o2xjQv6KoJa3tsxgTCSGvS2znhYm0ybuYULlviKLH6pD2M67gorrLCI3lKTrE4iUnD7Zmdl0xEXLEVRMDMbBBRfiye/Esz2vEUfb2p67mtKmmFPyswPyxMX96qhBwYiiobVoiicc4fdnL1BUg8O/rrpTduGORLTk6aqLToeo0memWPMcwphTQfssgcWD+vZ1XoR5lcbcru+LGMOO9Y4IvNXKK77FkOIAQiIoSAVcgaxtVOf+ruv/8G7PzIVbLZ8yQCSX5INTIi3YbGaTwWcAX7mRS8Y1uPTjNL0bFn6O+/4iWc940GnBbXBDAQBM9h6TMXGSuABTYEN4Dff+OZzXBbrZ6dNiExXAKjTLbtZwUAbPZUCgMVQATfe74YKKARqtUFZCgvc5gLPTSkFMFFMgbe+71YbnvJGIRgDREZscS5CTUMIdWjqUNc+BAsKDQhmahZgRNEFy2j17HhbGgiBTJkM8I2WUjKkqQOXlQ0Gf/z+D9Rofcix+FObjky55hvfqQAPveHep0ScGtSTziWbaMcOnbDiUjoA9KLnklwY//I8Ljnxo56WJJZe7QBcrdtBD0mhTe7c+DnNI+/n/OBel2LVtyuscCn0IimY2bGQGgBZSL1a/HnSN3smvL11bPQX1vzsPbd1CrkpnYthNzkDYVUU8TUoy/Qmz1TsnfyoIXkjezvQYbdrDzDbazsLSg+7ZxW+wgZQFy2Pq2bzaK3IIoWIY5ZegO68fbqf37V4KsxYf3vzNLdMLe3bk13jJHVCrv2eDAX4KM1fK4gcLDA8KBArQcnYlMkKKc9vNTo68/p3vfsLF3XSeWsZADEgBGEUsZQuiECqCAJUwNMf/pBnPubRcuHONYKMp//4+utf9rQnVkBVkpGaEYwd5m/eGAQleMIEeO07PvC579w+laIYDms/NTKN8b0Aw7MpxZ8AZMxd1quSKoEV6yqPeOADW/9p24+MfP03CCDwAAJhIvjyBf/Zr349cAlzk43NqqDgJ0ZQYRNnYA0IwdSbeTMlKEXCbSUDQ8nApMwGx8ZkYARQMApGWntlNyBzjKKSoSqmdROE/vwzn7kT8AC1bVODhiwmnDI9loDrHP7h9fcaOWJTmAqZECG0K0FyYfG+DZ4VInqiWx4NmByMgjmZKlWgTXVoF18xHkRAjjjXpbe77lWOtC/0PDfp2/xIR+yI8+PZED/BVSPArLDC3UBP+urNu9watdS144hj4n1eMwXR3qdGe1dNpu8BBuY8S/kyHSVst+BuapeGTvju6ZCFuNy0mS89RwqLKrpl6VInBgfW+b2rxOsm1eQAGnDoiHca4wjymR+/ukK5ZKkOnDs/9+oujgtSx2I+oeuE4dDnr4t6ZwzWJXgGoCBD0HrqB9XaJNDtsFfdcnN0VFKMdaaosXEBuPYTDRpYxBQxW/XlL3zuvUqh8ZbUk3/1kpdeDwgQrFYyhcUytUW3Y+WNa4BPfPvc69/xHrd2LWR4x4VzxWigSKVBrI19NgaYjMkgCjFL52HoIOiN/+B+BAR4Tu5Y6q5FwMyZbB5ogL/87N/UJsFkOp4OpHAw5mgUKIxYQabCJgJHJmwUPcRR51RSIw2MAAkQBTOUMMsHBlNRlDBpJt6MnSuUMLFw3tdf+Pb5STRmiQAIMcF6Lgp6VhnHAf/4wQ9i70kt6vwMQveT2DUcrQTLbCsr7Al6kpWIxH0hrdhxfm3HOWLzpfJy9BKAicg5lzgm8qvjxMVb7Qb5bmgZkD0Unk9HBOb8U1joQMvSrVdYYYVLIq1vRJQsrZLZkiiLNYu2vMUpuR/zbs6aRQuZynkKcv4zyrI347exZTaPdM5km8wdwkcKvWanDw+xSXuCpRaHA+v/HoOlLRA+n3hjqoi4Bad3XAVi9tfuT9Xbmxe/Who0gpPu+43IxZorNC4cKRyp+Qs1MWPE2GNuhIOQEaCmqoWIs4K4mozW3n/bp975sU8YwPCA+ui0DKDQjsWABkK+DswIihJ46NnTP/b0p7omPPMJT3rKjfc7BQQ0NZlHEHJRASZF9G11Hkw0aDaBV9/0hnp4up6ipLKxAMdGULCSBlaQR1sxiABio+QtN4KRiqKqw8Me8EADFJEdmWwWwI0Q/apBox3aAxPgk5//W3EDZwIlIfbNxDE8wzPX4GBsJESOIc5EjEXb6GttSySrR6jZeXZRKxYLTqNhQQsptAGbQ5DgjaVgx1YwRoOP/+1nNeVCUxuRnoWFzxTZqNQ+/CEPsaZmDSxtNWlmzqofaWwV20oD3kckfTXpvbkL4QpPnp8hLg6R3mlRB746kevAuQxtHS1lL3IqScJJ7M5PoqohhKu8S1dYYZdI2m9UgLFge8oPpizpY05gjhUFOzVzr9oWWT2R/hKRxFiaKEsTExGDzCxS7PQ4u3JNeMnZu4qmcZUpxMUzc8smeoTQU9rjXR9BRf0KcWCr9uKFToxOsjNmU6OtTgEsTPXWEnb52m/CDibqth5GdvhJiONfAcCRmL/daDJSIFIWAxr5eCbjsRFtBdX1U6952598IwQPZ0BItXRnBFJMMFeKr4NjOKACfvo5z3zAWvFTz33mOiAKBzGYgyD6kNG35XjCBMWbPvjhz3339k0lsPi6WRsOGz/t2ghLxX6MyHg51RMFNn/fdWnMMxjGQBspnPKHDQBxqzEDNfD5b3wDTmrfrK+PLm6cNyNVEMRAZtYzBrd3HfdZtNZAdPeUEVszGbHBzMbjsYgM10bMHELjfa1AI8Vnv/JVA7wiBN/2ZVTvu4sk9y8BA+AhN9zPAa4QEQkWgvkwOyz1wIGayPLiw5cgdTsROzB1vnfpApWxwBhKd4szpVelEp161jobsr3gqElcB4N8k80FcSx4fdoe7AzT+d6a9uukD0cF+OTJhyussCfoybdp6qXljq3NPoiJgdHhi2hzX+Yxijvknvs2HENVlcwAKosihtQEM4aqghApSDo2TMLSHWmHBkVNHmaR9AQEdqxgb3VIThuaOTqI5LJuYHFZX6Tm2+XenvReqAFGanwStl91MUxRvVJr5FfTudG5D3fZbsboJL7uIyZm43wHOl5IjqP+59ESZGowU2Xm0kki28CCkf5K7jwax7r/hW5SWkuwKyTimtD4aLcWNjMy01iT6Vj1eW/mMgDo0r4jgxDUN0TEMGgQEdMAOu7q/xGavwDABO84eJh1Xkg2gllwwuyCEcpicNfGVEaj//yGt/2nn3oJwzVqAyYwYsVa79U5ISgUrqCANgq6AG76D/8TEUoDMxhcoiQoLCiU2aHpyLMYPtRjV/7VFv7vP/nQBioPcoWYqhiZUqcvM3e6K5mJtQMqsBq1apeRgfz97n+9AevUqiYAgWKI8Uz1FuaoCgvhHHDnhWlNgoLG9aYULiiZsSMys0BgYSW1aK4mxCJJsJi2jLjNESgWiiKGmRhktrdrqCrxmHjfaswCZ6pj6Je++T0FHEO4BDRmKreTYp7mWgBV3HC6KEiC14ZrKwoEY4BVlBgUf2h2UApwPlbZwPPqGR0Iw/lBgmGqygCzK50AgAWoUi5MtZH2dyffKo1iJHtGPLV6xySFcIB67+MVifUkiDSXAUWIg5xaATqEEDPbChFxTGbBzByDhEJQa7P5wLE8GJGxEZOxWfdjVSUyEMzCyrx8smF5XEBn8siDBTCvg1zuQtque3mEAiwOwm1+cTzGW0+2j3NHDQyNAReRCsMxk5EFMzOGEeC4K4wiICDu2AbToKrqTRWmXR7WdtL47sEApOPpIaJI0hP/cjriinudF87GHSFQRLLGXdl1rhStpTbbho+73ZS64Ni8bw+rn09wIK5laUXSzaPD6ud2fnXaUq+RxxrHfT5eLo7a/FVwVzpozofYNA0xxHFQD7AbnLqjwUc+/+UPfemrFwHHtLVZA4jWRYkkPcYgBbWRugKUhnVt1swXBAYEs9o8zJ1k34CAydSrKy8Cv/mHb/9ew1atkSuCqveNA3E25rVtbETMgzWLjFTZbZ09vS6INFdpR1VDkxTKNhO4s6d89WsXNqc+EFRMCi7Lkt2AUJCBTIXADJG2mAMXs8I2sVZNCiknUzI1s1gGzSjr14zsCC0fEnvjjXF9vsljno3a9mn3jNJXcIADhlUFQAlGqq1LnNmktauT5ozdB4l82TyRaImsootjWfbKfkNasz4QI35PbE9fHnqxlMkP3AsDRDIFaj/4cYWrAT2/xe4P3vmwnicz/+/diwQ5FjCazaO2M1UZKJ2DKlpHbHdwFxeDbvb5LqxqD5dQti4+OSWlHMwancJOsP/7326qO5zMEbdjtP0Ke4t8Nz30VSzPMcOxzbXuEaJehTgu81dE4uYUnSSR+O3vL1z4nbe99Tyw1eD0qPQNEL2d0dlFmhxYbQQvAVJEJbNV6kijQRJgqKKAVQAwqNwm8K6/+usPf/zjzjnvfdM06KbeDuNc57swpTdfd+09ewNs8STd9IYB3/rud6RwxaBKFWhoPocwL52QYzelHXZ60MaTyeSOOy5Y156dSUGi6rO2tsY0oxAnNco05RNslzx0pNjmA94OevL0EV899hsdH97MWRSXqaYLZY4vMHtVjX4/IgVCF7cZj/caogNqVQH4qkJP/EgrduKSSCJfIW7nl2NJb9ps0PnKIGQ4EZGny5FiKJA50uOGmHMnp8UqwLypN22iCzj9cGFG3z20Gu9S7px9RbrV+N8j4gE+kUjSc+reVT/vK46CurIo9OysGKxwZHEs5m/UQgEURWFm3nvnXHnq1Ke+9o3Xved9UiAA7ABG0MYsxMiEmBtMKZYJMCCAAQV859I0I7YAMAfSGh6EKfD1qb72rX/iXVkMqqlvDCBhCDfB56kH24G71J6Y3XPNmbNdFFr3l4i64NRsFgEEBTbHW9Vo6IqCOqacWGU3dx/xMvQIJjEf/7Zzmy2GUpOcv7hJ2YezA3o/II2NP72+FlOMaKGocUQsB3UAWHqPaWyfyAWKu8IZB+/+xbw19kR2792DdcnAi07gNBRDh5j0G9/ktqojuA6vsN/oxQhwViY2UbvvgHRMKtydl8g58SNKOx3YeszP87yA2mHpvNtDOHQPMm3ee+ti3g7tctNaPQ6iZkluwrl6bN6rxfogYV09sEMPYmmXVJ1J5Mcr+3eFiOMyf+NeFXf3pmm892YWGDo49YZ3v/9p3/+4R95zfV0Ag4amLIoAs+jeTRoZIZEbB5gzjcwRxAUAYqqbCZdOhbcUE8JN737fF+88H6pTvq7FOXbiTY0QvHdlie0qymDGYsEp71SxPhzFoOvsuIV77A4w4OJ4C0St4k1QVYI44kZDqw9vo9bmu2239dnSI5f3s4GdbE3GABQsQCSUzEdHt/S06VNEOHv6NH3zu8RQMyaOlB/trZAmBqxDWSBasY8tcYSeMByKPTS/XJSzVltAhHWMBhoTAua1jlSzcCZ2t8nDJzxWf4WlmCXPzD96x3lOQwbbRSZ/7pYQiUKjdbEGrZ+TT+BKiFiAQLUJIbJNxRRrUwWzhmCqIavlEX+ByEVCnVF6YZ/Kd/rLFbs5qd0Ri+FY+4qe5eOorS8ngJBjJmkd51DYo4/cmtWzKB0KLKMVXT3u44vjMn/TLl7XdQyBFpFpwJiKSTH6tdffNBbUQN34siiDNqHVdVmQSJbbf61LgQXyeaXBvAIGnjA++KVvvfUDf461s0HK2jck3GhogmfnSGT3pQIjTzsbRtUAC9vn4llSCze2NhWmqpBWtx4nuhgAACAASURBVInsiZzJyj3MXTdVB+QltQZ3eL6qakwbW5sKqKkBscBc/77mmozT66fir9kyDrl+PughmIVzF8pJXax6UY4H34CjEJF01JA/kdzxE4NHctfTDtm/J2+srrAUiy7faOrdoVLs4hmWDqF8Acxdwft4M4eKNO+894lc3czS+q8ZbL5o2X50yyw454AFrHS5K3zkeSz47iPCeeG1A1Ke2G5eRw1Lt97Vwr3noIXK2DjUfrb52hh5q44djvL82m8cl/kbV3JVjYHQXbhvwTTYsuoT3/rWzR/9zCbgCgcDGceHKTHJN7sbaqvXCkgAgXEM4lVYWQ0Y3ADfAX71ppua8tRGDXIFOQmw2jdxhItIsJ10ufTdrPgfUFXV/P3EHNn+ebR7TSYTYwJTcq+JSKSXFaLF/WXxQ+laK8SRGWuu5PJ2jSeY2ebmpmXBz7Q8Z0xhMcC8zQGet+celSGUK8DHdIG6JA5+O8iv2NsIripEyjelheT/6OY1DRmzTuq0Vv4mJEfcnF2baek5VzipiHm5DEoZvLnSG0lzSdssmJ2xcGajeVWoTUc9odJONJQT0SVribXdxbTUGa7Z60qwRPk8yIXyal6aDxI9D9IK+4qjM6R7LTkirVrhcnH0528SIqNpPIQwnU41GFPlubhYlq9+483fGPuaEJRYHACK7l/MPMCRoyryPUOjyBHzgZVgBm7AU+ANf/pnXx9PzjfBFYOt6ZSEweSck6KYTCbBdLsc4EXzaDJ9VkWZ6CjavOR5fql8ozVgMpm07DjW6vyFc8AS/pLeHMw9TpxxYezyyTrnDJhOGwAM1rxtbcLyknsclNXy89OVixCXh15XxM6Jtz8jBDnIBu0/8gFwuKarI7t6HBZ6fjmaD7fJs5mOzp6+wmGBUtiOc9tN5MXAn0XHb/owr4ubD7ndcFgcU+T0V1EBjv/thVrkQRn7Ou+W+z4PYKonYxvtT6Dm0ngDi2UA1NDV+J2j5N6mnfnu1RND86fVWgfnHen5De4raMFTFNsTwwySk/8AhlTepHTR9GGKfDiABhwk0nOPZHJLh98BI7cu5WwfRwr5yEQe8drVicHcHtHPltzNQMrJA9GtOYvnzOcvcNC2ueM+f/MlMfa2iBAJNSQ8HLPbKItf+b3fvQh4EYMTOAHBd1m/3gOxGJIKci9t/EcBU/AWcNv3zt3ynlsvcOFJCCLOBTOvakQt+7TNlf7aJU6dOpXuJOmwjt12x0+nUyKKqn70Xo7H46IoLnmh3oZCamxg5rIsi6JIO8V2HoDoZG6jxaCLPupFKFCWJUJWfyK0T7C9XEeqeQAwsxgpgE7uoc4bEN/gZPG9xxmUej5N8/2+blpO4/xl5si7s9/XPSzQNojeOV6oLx0HnhCTIX86c8EI3e7TWwa3O+fVAJ6vFJVW+4hcEsZhm3v2BhrIVISKQopCRIihFhqGpldLo0AK0t1EiXaWXRJq3ch5ZFDc7suyjH5g6IwX+lj3Z5Je4piJI6Srqj0LBE6H5b/t/Tepx1cuZm+7wR8w9lyqW+zBFpYzTl+a2CD/NgkN8YHFr5JqkR/ZU4P37rZ21c78Ez5YOX5npPF6rGfyJXFEehtHqSXbobfezYZHDE+dBwBVvzjRdka7x2SJHkuz8g53TJ7I+RuFS3g1dlYOP/yFL7zn8196zo0PBlAYSAkMBLRczAZVL0IwgwmAWDQ4BkBpQBA0wKtef8sdtU4LN6oG0+mEiitSlxKv1Xg6UZzp2t3db+aMzC9DwHA4jA/FsQiJKjTqOVfwoHbzoOMRIjHrmKWl0bb0Z/H3BEQfdX6StqkahS5FtBPd/bavsBxJSjsiU/ikYqlJ1Dpigp6gPBPMDOiUYSxLCTYzg6Xz5GeIuNrmTK+fZ2L10Q5QuhLk4sfBX/SYisqp5f1Zsyw7L/+kN3+x7CTMvHTamRku8zEdmgLce657PrziA0hFujjVpDCYmVIrBARDQN85poSlSVVJkk5RCpZRt7X73MId5QaP/caipeSwCjBst+Vb2nY6HN9JnmPpBnwi94O9hY/2v8xZET/PtVZHswHseUaTsJtNl0wJYCLhmdGKiIyiYIQUdNP94DD9Tydt/pKKcwotudjYGms5+D/f8IZH/8//w/2A0kAeKLotiB2AQpyaJyDqcgoEgsIIzMIeeMOff+qvv3eHypC5aEIzHFaTUO9wF3PFG6n/oRHIYAQDNjY2DNfnt7GUM5e7v4PBwHxQM2WKOvSVPCNSI4KAQGxsO6iipAZgNBrFO9jxrJ0zGRiPxxBGlxptTJ3t16h931eSV9gPrHaEfcLiXrBE/rY5i2r7YfS/xTUWnXwNGLNlKcHUuk7mhDwz60mKudS3b/d6yKCFsKBkLMj/e0it22PEoVLMUwXPBs/CQ77yOJp4GZ0fqO2g6w+3w8fOA74nzhFRKsJHeQhS90meCtTZDTnqa73SwUyzvrcr0CCOhAc49Y6q7tXEiZOQMzE69jVHxZjbtQ6AKXa2fae1lYh6XB2z03ZhXV7DoRh9e5dLbT5EWrne6J+ZCTDrnPT3ZGwYR3D/S51/2A1ZjmT8S3tq/G8qMxCNVukWYoQ5dfEz8SSX0IGziqwzBTi7nM2TDaaG7c8dL8eJnL8GVFVx4cKFwXpJxWBLwze2Jr/z1nf9dy969oggCgBqirgRqgEMYzCBgWj8JSgknvqLd0x+9+3vGBfV1lY9Kovgp+N6SnJFPWPUZhif37iIBYVSFhN6u7+jwZAMzGzee/NEQsJGdyeBNe9nZqYdGbwAkNrp9VPSiuYBDFqw2rSSUteeCxsXARBJlK/a3dasC6wzANNpc5V5sw4Ci/zeJ0Y3OMpIy7tZKzczM2NWUD2XvNO7mZjefavzYS8zhweSlerEMrftjJ7S2+uE3dimjwVoWXTuAQhUNB9kiqMkUl4SvVGRVDCiue06FyGSdJe+6uYdm1kwjRrWolXrCnEkFGBcgfm8XYQWPrcu+bZXX6EdwTH0pV0W511A27cwJ0VYnPmtT5haDn1kwv3duK8rQa5IpJF3WFoQzVt0rJW65nCM5vbOOJTHvRsQHVFOwbT8pUEr1EZYEBEbCASam7zc8e7uZkgzIMwzq9Us+M2YCICImFmIJdqPxkA8OfOXrG42q4HU40m1Ptya1LQ++qNb//RHHv79z37IfUZVXLijIxZBzTExBBafuBKU4QLggS3g997+zjt9uNPXg2o43RoXhSiUdu2y126biF5foCNxJSjjwuaGzWuvZtabyjNBGTg9WhPmyhXNLL2cvPd8ufQlagyyaOAnUBvvYH4bNdgJ20TXhiMCHMHYNLYzcw50d8opl/rChQsgiqo+U+un0DZoOtob0DTNZTZ9hUsjTeEkPR+8cfxqAG1jeo5e3xgA6LYJpUlpcQZDWmY5ZhkARMhOHphVlVTV1MxOar3WndFTbLDM334y0Bs2M7F//280F3WOV8fGBue2gxmTnKksjSxDK5vNpmdcKknMTCDazrpZwN7sWXRb393oo0OL98ufKM37vvcEnKE3fGeS3IKBdjtQhsUbye8l6ttRfE/fHthuly7Uk56x0OEH054EW+ZkS18dcGP2AyfjLg4e+eBMFqsdWBDTtF2ax7v0/LnRKp/7yOZ1vKhjZhymCeOEzV8yndbjauCkdBc2NodrZ85vNLUMfv9tf/ztCWqO+b8tE7EIg6K4CSNVaYiVoQCmwHs+/bV3fuxTNlgrB6OiKADlQthdtgE3dVxU/+JLkSnAndc0q5eb7awGWMurHOrGVKl7HErYTmu9dKtSnFs2XJccZhCQ+npYFU0so0yci2ILmxPHPObzFzasi/+MbYyzID1QJqeqJ4l96ohgpegeDJaotd3CntdrXTqz8hVsUcPJpb6oDrWbhXOL+1Rvfzl5yLdOZi46HG6r9g9uXsNf3Iv3CT0FMn54BBeT7QZ8Ur569Y15XgxblMfSJ7Os0mwiJyy3ZF1+/xyVLW83WugOWCzmEJenvEOxTaiezMsQS9uWt/CSAne+1B6YYWyx93YQpA4Ai/aCXN5Kn58ww2F+y0fhpraz2hxBUI+Bc95chc6Wn6f+7tJqlsqrRkLFxMSYfxIpGQ+x/MBJnb9VyePxRTcaQHi6Va+PznqVv/naN//y81/YBBrVxk8NIcBr1EQNMDQIHoEQCGqKDY/ffOtb7yqLiTfHfO7i+cHaUBxtjTeAK6rKnqrHX9zc6G0iizfV3TMIuOc9roFaqBvLCHLuxvixLEooH9jbHR+0KYri7Nmz6FIRl25qvUZvbGyELKVZVTvO0e6ojoF5hb3F0gXqWCzIxwtpCuSTiCP3tUjRZc6k4+fKbnfWxjzcBtnCktc2IyIhiudMgvhV9UDz++1ZaXE0xJ49RB6+MZNDDsD9a8aXI+QcEaTpENXU5AjEgt60VAHOv21PGKsrq8U8uKRROxbHIsSLdQcvC0dCAd6P8eSciyTjZoagZiYgwWy1yi06lzvC8tW2Z8CAGnVhnAfMXd67C1pgSzustYmINDVgIWTohK2YRwd6HJZNBlIheCF2LD0pZHHdxI4RGT0sneBLN+xc8Ygr0gGPzBM5f4nZmM5fPFeNhoWUW5sTGY2mxN/47vcCwMyFlAJhCPNyBhH1mHp86/z5uixMXNM0Z86cmUy3Njc3z6yfWvKDS6AVYthA7YNmmJuM69nXAlBUMGceZpp/d7/73HO9cg5WgB2cBpgFdsvr6ur8a3amzMukMJAGBGODwGiRUFoBhfdrg+K6065wFE/WSkhdwCYDnEQ0AggB2Kpro27YkwGQGGtuTEZmpMQ+tCaIhBmJFqXPNVZpJuWuctLSO1uCVnA00uRkB2DcVhDp/k8W4+J5FpFO6QTci3WLPwvUTpMjuOAtMaMcqr50MMWuDgW9nSLaNF2mP+QOpXRw7wH1tobkjOr9Kh7puPWd5BLszg6SE4PUM70qgycMvKxE60GK9EfcvLLdaC/ESRvT1RWDUIvKUS6SpRuc06EyA9ai/pzU4JmguDAHd499zwFe1LC7vbndsTXasLXdyy93aJGFWQ+qJdsDNKT9m2J2R0z9Iih1WYUW4sWZwWoGE4KQMZQBYyOYdedv600A0v5c48k7RJEZBJiRMKBgIWqzRZTZmZminxW8t3MpHyVJoLcuxYXzkRfbe8Uza27pp/y9hLYcqDMgqPfBwLJUILjSRhwBdIOQzAhgzFj7Dtqv0uoqMKGWP6CreUiqiqPW2xq4XezIMQjaBqDGb/P0KwIAJu6vuUwGkLDCWDgqaewkcvwQEZgsxtZ2/MXWpVwuYjQoa+/VvFeNT5Coze2fNTk7fm8tiCds/hqxVybwoADqBhAp3Niaws282wSBwhGUWm5CMyta4isxo7KEv6gKA7tgakR1XQsXDG2aBuBddgJ39xiDgMmYoUoMIzIZbwS0T9aDgAAnTtt851ivqdsBCAY84LpRqeOShoHYGiv+f/bePFi25KwP/H1f5jlVde9b+vWmbm2NaCQhoRUBEjJtJGCwYCII24PNAOOxHUHYM2bGJmJMTNizxSx/jB0eQzATM0w4kBEGMWObAYyFCNlqIbQEIMmIpdHqbvWqVi9vu+/eW3VO5vfNH985WVmn6t5XdZequu/VT6XXdatOncyTmV/mt3/O76EiCDFYu7KgTvZCFAyQMAGENiiUNZIKKUwq9FTXoXSeiDSKiESp+94xyde9/GUFAK2VFKIgl08BjQVHKEEIFbCzP6TB1iiEsnSqkQANyiAPhpCyk0A1I6af6gR1KCAghtgBx+CX3HVvhNYaiJVULFUJqxqxEDi2d+JG4yAm1oJ9iOI8OUisiZgF6hgEJQIhkEYGoAikCi2bEG9WsACufTqlWlEQMBxVgXmkum152tZAxss1d1YmmlrXFVv1p1oVIt8ZGhmPyCLAg8RTanRpOGjvbZe9AGBix1w45snaRYbmkzT8bXaMieT2rXMFxhQxm0/rl14AjbEKsZlfYhHBUs6L5UNA0IaoGWovhTI0SoQIE8Ey9zY6ubOkC+how5NgNsGx03jNnAaSfKSqUHVEamlKtFutZh1g86uthohTnmCNquD2sEMTUz9BRhPH1pRveUunuUrLvgAAR3COPLsYYwgxRHHMII4LjtDq6fEEe0CZw0DKdzKnemBax5PrCHOudPribjdUVdVy63ccb/Kfn7imsEOr2rosmu4//3CZGqwkg62cLzltrEpNeBBUdf3H3BwxHZGf2903V4vOJCL7JEIbhnhBnYtJZwdlTDk93KL0SwCzwqJ5xYobcfNFAwUUpCII499oY8tkABQErDRhDz+qK5okt2dqjKWs4GdeeDGOu6RNdWAZf5SfvgDOAS+/55KHls6HEHUqdpcVPNk9oa5ThrY+2Pa9UzhtTKnsHYiCSlVVIQTvfVmWpLrt+YGX3A2ALVZ6pv9zw0KJABXw/C5qRVTy3osI0UR0ma2oOoa94X7MmPV2bJv+tIW5FRq9NlqH7HnFtcHzllLInr3hiqCO2uBjsKqSRLLzWhmAmJebRpB47zkbZ206wNIOFwTQ5v8CDOtKCORMQ7EuDGLHoDH9fjnIW5QzJYocGWaYnZlo55TAjftS169wgzOH0zNN3cLoaA1cW5Ng+t8TRzIXJ+pblCVYvQCMTCA88s91Vsj4UfpApNS4saXb5pfNIwCnK3NL/Uzp6ARpbCb3HGOMMU5zzEug7TR02vrJbDaUZeIQ+XDdkJPJnD/J17nF8VpAV04FrON1Pq3DOvzm09XOFn+sxbCh32XC5PD2eUQIX9u99uQ+ABDGzrc2G9o5JRUe8MADL38ZOwxDrYXbryvnHGp1wk6ZlUmZlJ2wfULKrJxEYgGUJTICN+oAL/CCMqKM7AUMp0oE530JcDMFIdL+8I0PfkMBeLPFAjyurdiKiNTI7QpUwBcefyIQKbElPCdyRCSEZKR1IAaFqub2JgYai/8mAHMjr3OjGWFmUnZwjRM7qPUtV6iQCmmTyCSqSqMZjmgUHK2CQFk1leumQa+vbes87kA3QZdNkwDD4RBKjW/00t1tZiLnCBMRLVko6kjguUL/FkZiAlP+l2U2Oj9zuMHaIucQNlM5PyhTAS+N7jCVD3XRm6yFAIxjCIT5k3NW9Gj2xYfePk1hci63JAqLTmrObacbYinSSM5GG+caQogxdo7kZSbXWbLNaoMEzbIWYV1385ziMJ8GveOI0QkIQU53B9TIOcxrt73nSpJPbOh3CWjyP5vEBGFFJIxK/qMvf6kxUoMiNHO/b0EwQ5oDCuCt3/i6UFXKGlm58IhW02jC7SjLo9NNzSWAkkQ2h2whhRc4hVOwsievUYi48CU7H0SjwDtH+/vf9HUPlAABarmsFAiN2NqYa1uTsv35h5//ohArEYk6kJlJVVVUwUqk7MgxqiocPGbMWdIsgYXuRhVxIMBDnCqRkMm0lm7DEVtUf3MoMyuTkJBEVuR6KygTOVUl0X6/ZyOUSb/ZDGj3073hyN4sX8g8CB2TyKp61dlMbnkBOO2NvHTnHZr0mN3gjKIj/W5m86bIJZ0209xS6e6Ygve6CMDHhCU8mNYEZA5m+cWz7jDJiNtHYM5TmS1KEtRimmFNnPr8d1sUuelGV1eR2KxYt9VWsiYPO71c14RBzJHzK/N0z5Jm2YsBK0pRFAW17pdt7hNnnHf+23nod9p6gxVN6IZ+TwNJ+p0I6mZUJX/mS1+wXC4Cbj1+mwsmtu/WAvzNr3/1+Z7vl64Ko3LQD3UsXdlKucnk21iDWeAyU7J1QKjbE2pMx/DsCvaIqOtaVZ1z5J0nfu3LX/bAhabqSHdSUmGnzAI8Av740S8JMxGFEFwKoWcSi7iFQlREdnZ2kMy/1DypPb3F/RIAYpBTNDZfhJqUIZbHqvHFMFtwWbhe4XqFKwpXFIUv7eWoKdwsmS6AWFnQcDCDwcCisRnUUK8yT5qj8z7uD4cAIKpthO2aYFqJRqsrAnxQDbNbCR0DxtIazZteAl+3wQZrhVVpnTpWxqOpn9bowDgykvotx6I3yUuwJHVpUmwkw/JCMnCaobxXHd+kk8Ihd8ubXrIm+NYzHx2EzjOuwyOfCa3/tO13fjE1ebulm9hiy8l25oYwz5gcU7O4KDb0u0xIY/4FAJBGlhsav/zVpysTTUVZ2aSG5I5LQJOvmAWKHnAX8I43vUn2d/u9Yri/55xTheVOTK1YQ5wZhLnThzbuV7O6xFAOIVqRlaoKROS91xDrvZ33fMdD5wCNAgU71zzD+BgXyXIyR+B5weMvXg7soqoqGXUIKCrEMpIwmOFAw1GduYtkg6WAssuyiAEoS2z3ehSEzJkbTMTkmJuSq0Z7zG0WjIZH8Y49KXdSMbE0vuZM0K1BT23EFQcHrlp8OCKwO6qInANDV5nhaVrVSG0kBU7t0D8EeUNn4iA4Piizty/5YdOhsxF9zzRyMlmJxvksIueU0idLaBQt3eUC4KL3WSMB+Gh7VuNGle0+ZhqauPOUHZizlyGdVRZ6F0LIbS8d1+jDB7rDsGKWl+apHkjTPVwJJetk9ODRNDQbHA0zJck13NCni3Xj0K0gGY6S9NskXRBBGzSbtsWZpHr4IkzXU+bVc4znOwo29HvaYG3ql3CbZClAn7t29YmdegQ4dk5TFiyrZZfCgu0lBdAHvv+hh84rzjGH4b7zXElUgrZRxPYyMdhyek0m7hJW8SKW8DoSKseV40gMIMZowbrOkWOSauRjff/FCw+97U09wOdy4biEECYrEnEE/uBLj+6oRCIR8d5re1uTt41yGAB4WNUxl3ynplqkEe8FGAB3bG31jHItB5Vj8o68Y+/IQTWqRkhUjaQKacRvdkicUudQVkQPPdfvceOHPpZ+qVu2uPlvBPbq0bRyebWgqeC09PnSepgPiE7GwtyqSHza8rWEeetreMgeAlnwdcujIwOvtjNnAouGsJ04bhEBGEeWgU9C95aGL+WeydPPHG1rS7TU2RyXszt3rEb550tzFUsM9GYrWQnWhCM8BEdYGImmOi4bkiHfiFMT89NdUit2VJvLxIZ+TwkENA7JCkBBooSiN9ir6i8+/dU9tG7EqmTjrGPZMlp2ccApSuANdw0evOtOunH9jkEZQkWeTdyNPH4lMTjZgS0e2AoROwUL1H5CiK1TtPc+QmsE8syQuHvj7rL39te+7uVbYIFjB0IwAzVNCKupmrKCA/C5rzwlZT+ARKQoijpGWzxNbR4SO+/qut7ZG+0BsU363B00nciJ7YALpR8QkJaHd/COPcGBmcHU6qObR2ZQkymaqZHATTHd1r5y0BKyVXp7jKlZa+sOmrVYKQA1MAyRiFxjaI2r5dJz9dmaWJByreI69Of0kA94Ml0soVFM+vqddosbnB465+wKe3JWkDillaggZ7J5C2FlAnDi4azfJm0e4RlEhCdTVR10k6b0xaRlTNtIQlMc5nJvjLGqqlTjm4gWZQfzUzAPJE4s7Cktlw7TnFLpoPU4XY74neY0KWXXKkbrZJFrT9A6FCx/O0g7QvJfyM2hK5SH876ZsOqcGwwG0106nI3IKTdRoq1wI09z30iz4L1Pv5rfnJszNGkBH+Gpj4YN/Z4qWOEUToi0CQkGQBHE5ae++IWhXTS2prZ/avNPAFkiYx+wBfzon3vPuXq0JXXJqoh1rJREPdQjEgI0MqJKKwM3duCx55GAFUKIhMhjo2it4kqnBQsLtDrvaXs4/Ivf+a4e4LkJ9wU7QZudSqxGZyOihiARqIFPP/JI8GUQ9a4UCd77uq7JeVEKKojiGBD1Zf+xp5+22+i4JOqE1ccC6rUtufqON72piLVjcOGVCUy+LCJhZ38vTkQ1JxlYACFS51wVBezgaBhG0daVhD47Gg1fes+daIzDAtKZorDV92bguX34ft/7cjAYxFh3TMrLtwynYr/mvh5CyJte5h5ifJElQTCuZskdWDKSPtROAVNcLsHune+QaCPpzpC93fyn5n8dhJnK5WmVROdoy/9cB/VBzrHPry4/pZ50Plltfw5CHn+b+LHlM0vU+uulpudUQa6MoTmpg+GkaGZmxRHjAlMOmBM5UJdM5NMb0HLandncGhLwyaKzxS9/rtP6XEntnEPQoZ0jj0znfJLM7Tk/VpMp+KR6vqqzeUO/pwEnkzWFgdKVdcQffvnRK0AFAKjqmJk80aZZJgs9BeAZZcC7Xv/y7/2Wb3G7N3RvxyNevHBOJOzv70aRqEGgrleiGCdj45QjGo3o2ykObN9GjaNQBVTD0U6BuqyGP/Td3/OW+wfFuEssnUrDBAaihcJ6XwGPfPXaMy9c3RvVSIyCY3Js9DKu3EsUVfZUrjdWXrIeqLZGV/N/BoJEQBzQB975ljcXde1jJIll6QaD/o29nVFdXbrrzlqi5fdK/t6NGDzuqYtKkVD0y6Lnpa63vK+uX73U86955csJCDIj/LdDgQK8sHNNiAHUw9H2+XPTSe+wdORasxUqjPJNUltH6FV1ZgnI9+d1kKNW24H5MfOI1Kmci/McgvlR1fmcptL0zH/bDbAi1+J5sCZdOrIOZcUC8PF1LUTUUWLd5PqJKKwx6rpOAnDyzhJM2ISPQ6uapUlY8qLRVVTyvCVz58yDXPhcwkR3pMpcAJ4+29ZnRo5OBUzmM4nW3l7HWMcYVUNm9FZVMwV3FG3zNDqtxVit5XNDvyeL5JSbckOQstZSFIPHX7zykT96rCKA4Ao/+bNGABMrYatAREnoRfxnP/ie19xz153eDTTeuPxi37tLF8/X1ZCZB4PetZ3rYm1hLOuaC7RJicKAMisXAi8gCEi2twchDlXD9sD54d63v+61f+3PfeuWoMn/bGmS2441/xIIcGAB1cAe8KFP/v61qhZ2RdEjIhFhbrS6quqcY1KrVySKPdHn9iWmezKS+VdUGmdwVQYI4oDX33v+G+6/91zJPZbS6c71y1uDnve8P6xATtsDmSczcjhiCBE5NYM00wAAIABJREFUEEcNAUE0QqNWw7sG/Zedv/Caey46gAgEUmhX6m1haoirN3bVeVEiIu+9PR0m/USwxH2YJrEOAvAtTMg50vOuliNfE3ngOEjqkvxNcihb6CawcyQK2hTxpMjfWwYfex3EmS8f60Av+Q62Dv05CKvVX9y06ZsO3eotwEegrhx+KjT38Pvk3+bi90wLMCbpf84mDkKu7lqyRqfD0y8Tt5uGbyXiykEd6DCCK0RHPXz8oP1EmDNHO7lDpxCGvPWFukpZsPFxOnwcbOj3ZMHm4kxttiiFCgl5Lbd+48Mf2QUqByWvrTyYfIsZ3BYEaoJve8AF4Cf+yl85F2ra2blna6CjqrqxOyg8k45Go7L0yETfjr03tn1wWZVgUhne2PEae/XwQox3Mn78h/9yL2KrNcdSo+3NZGBGqKNCmVjAFfDUEL/9mT9E0SdXMDM0ioSgIgCYIMpkNXjVgSJon/ipFy5ny4uIWaHJEqsK73wdRg7C0AL4Dx/6s71qWNQ1j0Z3Xzi3d/3a1mAgoXG4nTHsCgenQR2YmWtIXY9iXfW960N8PXzozW88b0NLECBmJmjzx9ZsLhR4/srVGiIig8Ggqiq4JvaYVp2wbR3Y1pkHwa2KVe3PHYULztqGOW2SydU3KXvrTUP2pg9NNNYpzjE9OGu7MtdkHtdch9VZOViWUDM9IJ35mnPTW31MV55s+Qg/P1r49UHapulFT1ls5/EX4vKJKhfy7ZPb4ThcIdZEAE6zvA6beAfpfD3CEEXVqGqxifY+3YSIzD6c3Dc6S11bJ4552s1vm5Ptkqd1Q78nDrP6itlR2wPQFeVeFWsqHn/u8ie+9PwuEADHDkCTNYsEYAf2QONo6wCpwegDD9xx7m/98A+9fGtr//kX7xps0XBUgvrejYZ7ZVkqDqzQowTLtZWOJCUBUJKeF72f3LnrO//z3/4vX3Wxt9W02lhlzaOYmvBf6ySJqgARFIF/9Tu/99SN3ZqKEGKsakRBu3q9K1WJFCzKUQFW52vmx555WgGNitAssAgVgBr2FwAcMxB7kAHwrm95w12Fv+/cgPZ2sbt/7x2Xrr7wfFk47xzAUFawuSiPex6iUzjyquQcFYPCUXQx9CSWVf0D7/6uPuAFGsGASej5U5sMrEAVQcCXv/KVWiEEIhJauKj4CaLDeyV9+jL70EF+Eq0JN3966DDix2Epj9M01kZwmhPJKmtvHLFnVzhf+sJevaLsFWXhvGe3kEeDEWNRFGVZFkVRFIXPsM4nWq4CWFUfNIunXavB6WBae7L8PhzEqs2DVbroUJsO5zjnRK75O5q9K+2VMweO29pIx1+INJUtbfnLZWktroQLWRMYA7QcGThfSNrGxB7E9KzJdBynXMRBmr90twlh1TLlLj4L09v6zMW8Envs0hq69ehXqKnra2bYyCmxMdcKOB8iynPn/8Vv/db1lA4KALIqSAqv8AoRVHWFEtBRoXp3ge/6pgd//Id/5KUXLw4vX9lyzoUQR6Pz24NqtG/rJKVoahQ0Tf4tzkRfCCMyQIL94WA4uk/dP/yJv/stL3vJBSCGOmLUiIImiyZRHFDAeSYi839+rsavP/wROndB2ZEQhBwzHAtiVFFVBpGoE4YF/TDXzF966kkFnCO4loKgTf0jAjMU0TFDI8e6B9xd4L/4638dN3a3CTrci/v7F7fOxaqGWjqv1labeZtDtOd6TL4eVczc65UqMezfcCH+R9/3npdts6tRUBM0PUlfiqwci7Gmjz3xOIgc+/39/bIsVTVV/z6hJbMAko9GSkywQgE49aSjAVxVf04bHRPlqjYuWqIR7ESQK8qNdrz3RVHYAZ3Mv/Yng3i+FcRTIJqwBaeyo8icrk/tKRdDkn5XnvQxiUjrMzgdrAlfhKOGqq04RqVTs+T4rOoh6JxFM381XTFYMyzU3EFdXeHWvMzdeSXRzqtFet7EfCyNAUrqJOO6OgnV10GJ2NHSHScLemddpYj9DuWakLPo3jInka5EdbWh3xOBSZ5K4yRLpKhCzWXJvqiF//jxr3z60ScjYP7CmmdDtthTBTNc6QEJMiIKLHoBeOjV9/3dv/mf33/HpS3yffbV7r5XKp13syJZk0Sd0mJZGaRIAPR8Wd6J4n/8G3/7oQfuvRuQ4T57K6qkzY/zF4mISewuQCLwwY/89lNXr4WyZ/lwCzYffm38I1SN/BjkiDSKsqugjz7x5CjrYUQ0IVaR045AIlScgiPe/uA9P/7X/mpP5c6trVLVoTXeZo+pyW8bcMQORMpEznvPEGi888L57/y2t/+l73qHC/Ay4Z8lGLedvyHCC7vhyvUdZWLvVEk1KulBnpanjY6cuXK2VbVbxHtVPVkOOvrKFY782do2VZUVnrhgZy9P7EBsVeKiIAqJkqjDvAJGOuItKd00C21p0tdZBk6C+qo7suzkl4ti3Zb6ov1ZzQRbOSIA2qauOY5UuWjTMz6cdMbo6BE7vPuiPcyHOPe7Xv6aFkCThEZjV0BMaQeOgINKUGAN9LJLRoTGKf/bU4I2qVohZnk+VFOzPuNvSS8gR1F44VBKTMNuuuojG0CIxr6bZjFLd1jVqXh26df2vYapsj8p67LdlcwfeaL4UMbVTiiTuPlnwaloEzKl0WMLACaw90HFe75y4/rgzksP/96nbwA192LTEUy0JSCFSq0Q5z0gJasT9IG33lf+w5/8G+987YPljev3DQq3e8NXVYHICKAgLMKiNJ4vJXOuFqfBa92T0bkwulDtP/TqB3/2f/r7b3vF1nmBG2Gr1wMgUGnzU42t0tYjsrpHVKHYB37t4Y+ef8l9O9UohEAKYjNLKin7VhhuVxEFUhBF4ecuX33mxWs3hnXTgljAc1NORhUEqqsA5+Ec6rDtMADe/ep7/86P/ojbudarRluh8vVw4IgRAVXSXDklBLCrYoBU24W76Fx/uH8X8KaXv/Rv/fl3bwH9dkrriAgCTeYhw1gfUQF//IUvDUMchhhIfc/Xw7pHnkFmqlpsYZw0Vin6tqNtfUgrbX02/w3WBKQwsTaX90x10lEEmzTrvW+LoB18zzGSH8n482T+Ncz031wtsv6vZhtpNsyURWz5PTiz6Gxx83Dg7ty7vg9T+jMiakOMjvvSmBKHsILUEjsqMbkgWocoxudQ84t5bC/a5tEpisLNckCfeRPK3xGklRMELAoRBQjEREzE6QkUZGnq2DnHjohJSRXTLZiuembvCUhmKgAEVRFttfeHP++xQfZc9rQgInLsvCia9HvMqqREqgCxohmXvGed8czXRvJ0k0mbhPHq5EghqqIqRGCm9djljgE6bMZsdokJZo8VcTx7TdIkxp8fQHdM1MgD2iwcsv+5QolilDrGECTa0iTOj6k10UkTEakwwTF5JiYQFtZ8NcOvCltVItrIqjOGjZQ8UyoFbAppObTeOLUrWMfNqUKZHVRVmvVr5zYvY1TPOv0SNVmNiJQdwJB+rL/twQfe+vUPlIAjgRLQyIE24NY+iEmViF4cxff/zsf2ihLU6EpJySk1iZnnnoT2arIHZyVWApkMqv1BOdrfOzco4mj04guX73rJK++/54IHoCMmV4WqoAIAFAgBDHYpCpcBdkQeGACXGA+96bVveM1rrzz3zOXnvlawktMq1uKUC66lVsAX3qxzQWNRFhJHfdaLLMXOtW99xUv/6//kh3/0nW95WYEtmwwGSJmY4OoIZh7XcAoCD4UoUQ2twbvA//6rH/jMV56+UQ5qImK2BaxkShybaSUoGAoSgjJHKDtfVNXFWL/9jd9IBDAkcOFck6CVbL8xImKQgpmJe0AJPPiSS29501tkf+/5555VCVFrIo0UhVRIBKREpDZvEI29gs45ddcv3+/4Lz/0HT/+F773bmAbcNqoNZQRwJbp2pkpniBtvrAIVMDP/ssPfK2O1xU1OwVtifcBUUUJngmAxKgSCcSTnpv5Uj9BAs7ZD25rY5bepe33+E5kB7WbN01EAgxHtRivxc0ETur0zips4833XgY5dia78YlO6JwYT24zEc3Rny7I196qjuFGcaxG+2NHNefATM4xsfHgKRdf+6LxS6F1qJjQfkXsHDEpECWKCjFHESKUZQFtkt/zhJOWEhQqBHVM3jEToKISud36cx330vgWZraE1Y7ZO++YoVBVPuX2Z2qZBSD2oghRojEdRK1gsjLkviRms3StET/nuoAuv3HaXRq3SCSioJuEtebwMUZTySTBsnnOE+pivvWDxkMTzEMH444exw68zkjxXQbGwRlRThnJI5dUiEihqmp0TiAT2yBHWb7Taqrc3QVtELWIrEPeteXAZjyEYDtFhw2aVk01w36AhDHTCkdEUUSgTcInOlw5u2KoqnEttgKac/bUKP6YNRVIJ2jWVjgRkShO+1Q8AGeUfhUgSKccTmOkat1ZzWBv4g8IBG4JgYAmLxQg2kyF3YqPph9P/XBWiEhJGXWsq6oqe76qRue3z+1cufrTv/D+B/7eT771IvWoEGjh+1WoKWpRlCg8IBACNd7N1lcPeAVHFB5vf+DeV//Yf/qnTz37e4987vf/9E9f2Nu7vrenbnSuKKFa39gvRLa2tqKIXL/aJ9x34fybH3zVd3/r2978ynsHwBbQWD85ZUJmAgqHURW3ChdHgQAuPVRGo0p6ZSS/B/zrT3321z76idH2pd26pqIHkVajAIBbQbCxrSvl4wEh/vCn/uDH/sL379W4o0Dfk1YiJOOKUMrNsJMV+Q1OfU/hGG96ycVX/dAPfP8L7/7wpz71oU9+crcaifPqCnLelFUWbAywU+HR3j393ne84x3f+2fe/rp7LvSAvj1vu3KpfXwHEGCaxFhXRdEP0H3QsyM8fuXqtboutrdDiBLFc4FawWrZsxxRWLrir8POEtHh6rbTQJ4XcKa/2wYni85Rvs4Oq8DYgGQMiXMLJI1jwLObzi6JWTIPkcnUNxkKatNhNr1agkloFpJRLWFpHnyYkn7TV0k+WtsVtYbc/EJj5asQvPcpbCZVDWkLJB63N7nCID8eQgidIJlFp3lN7FqLYrzdLHFNjx0q2jFPFJ5zuszsjjSiORlMeioSsYtG44AaB3s7wRRM9p6msqDlSEqiBaAaowiOVUhsyejYK85Aj1uscLc5w/Tb6P8gJFBn1XeFoOAIREDADgAhwgmUwAT1aKyVjRmiCUkbOzCLZYxafPVwW/mo89vBYLA/GvJW33n3ws7OpfNb9d7o//i5n/vpv/NjpeMosWDAe+cJQLW3X/YGyaEaBEAEAZZnyxGhKIE7Ce94xX3veMV91Xve/bknrzz17LNfe/HylZ3ru7v7o6riwt9z6c5777hji/gtr3vd19/bcwovKBUqIIeIXHY10y0T0C+ckLo+Q4Gqgvf9cqsijIDPP3/9vb/yr3ad35Poym1l1kXSEFTsntrf+9Dnn/jeb3xlBKo6lJ4dq6Ii+KZ6VJOBipVEgKCVY0dwHthWvPXu82/8vu/6jx9614vXrl2+sffsc88989zzV65dH1WVkHjyL737Ja+4//7XP/iqr7u3NwB8lspLITCbvrKzhggQhSfHrDGWRb+qIspCgY//yZ9+df9G5XpErkcqIjUJvCaRL2OszTq38FJZCNPcS+OBLJK0SNPWnuNj2mygqgeVodrgtkXDgU/KWsycBGDMtyyZGSJRrBIbJWtxYyTGuLTvTe+VTq7kmRVEaN40WyeMdKomx+ylcVMH2UI0yyMw/wTdzsh54Dm5NY+2xg8yff8JDvTMg2Fmeob5G03mYqPok+rqLQxqCwNgUueUeOh0gfPuZGcfQNrgtA1YvY3ArG1uqun8h5h72XfIxCYrqgbRfGapdR9a273yjOqtVouzS78CMERJSBmZ9baRouxP0/wQp2RRBIs4PWxzV0tndTSBf+q+VVWxL+sgviwd8OLu7ksv3f25J5786X/6/v/mx37Es6uAHmhY7W2V/XJrkDuLAwAxINr4bUMQPJw3yRhQ4NtfcUlecSkiZdFCDXigB3CFnoOzkY2AghwUollYDYOTe6doMMVRVY3Ksg9wFVAzng/4X/+v915VHvoBev0oEqpQLJLHJRLruUvv+40PvvMb/6YDLpUeqBU1gRRMJgBrO6nEEeKYFZGhJbikxjX7gS1+5dYl8CV67cvSIxs8wIBTFCb3CkQjkRKzeTi7PMLZXAIkEDOJIlBR9i8HXPf4zd/93WFZcLm1P6y3ikF0cRRGZb8ndW2Re0kANjezGTFLJ41pJtV2fs4qM53GtpzLwLYJrLb80u2MscJl7dE6fs423h70CLlBC5NixrQiZp6DPgkdAGiSduZ6jBPCTO3VEuSLjgkw/zwvELsRgGfi+Jxko+qoQqhCiGmw035KJ/Oy+pwAVLWWWMWu+Tfn6g5/1FxsPnOc9PI7nGtEZruptGkzMZmUGxPpaCbveUDeXQNnr1zJZ/XfTuq5zgqISImsaG0QCSJ1jFUIQSQvaWv5jezKQ16xEXrbm7RuFLnqa81xRnfzVW01Z5p+BVCSaCZfEpAwhBROwQoHeIAEiECAj+QVXuADEECWbFngFCzchhi1yZgJQqrHcyBoMjADpAh1FBE4HoWayn50/vndXb7rro8/+sT7P/EHuwAAr9gu+wQJUkeyekVIgXImy4tGBhyEtHYQhnpFCRSCUjEAOGgZsQ1cBM4D28BWAedQaxU41mXc9/WIpGqVBR5cgL2i3RqEVQgIsSp7hRKu7O6PClwFfuaXfv3x6/uXA8VyoK4MIbgFffUj+Z0KX3nu2vs+8PEADIER6pFUESKJEcziAhisiCIREIIAMdYVQ/uMAWMAlEBPUEIHwDawDfQVfaC0DQAKFnZkdYYtV8g4wZmZhpliCFCAC5AfKcTjl//tJz/31WdHZR9laQ4wjiEetQbN9pbc42Zp6HCxnc35lDrTYaXO1tZ6i+FMjH+qS4RZq/RwzFzMOUPe0dXO05mVZ11OPY8xhhBijHMK8CfbAUMu/S6tA7cGFh20sUOmtDjxcc+biC2mL1u00TNqSlqTbk+Pts3+zAK2R1sPnYN/TR58yeiU5BWREEJd1yEE22fTaB8+yIk8EwUdQq3ruW8mrvT2XAkni7NOvybFETINu6JrVtXmX9Ysg3Qm1B/ZziVTz1GWJRGPhnVQ7A5H23dcEu+vVXGnt/XzH/jQJx99bgTUBBGMqpHnNhsJjS3aDuxAJTkz2DpQ4yUooiE6Ais8cM7TtkMJeImFRkIYjW4M6xvkKEIilJrwc3b2MtE3DUuIYIJGgAPclSg4N7gCvO/hz/zulx+7ruy376Cid+PG7vb2tqPFOEoFjVxR+f6vffjhP3nuegUoSs89mDYEmWoEIJgKw/XYs4JUHKhfeKci9chBHKSA9FgGiAOEHkKJuqAaUhNqQlTEYayHobLnJWVSTrOv3CQ1cr1S62ifjAiPXNn/9Y9/TPpb+0GqUegXZV3XQaLvlVWs8uziy9xqDrHk5HS0kGAwDzpCyGZfXTJmSoNre/7qZKTrEVwSEj+THNkyqxkdjeLSHVZeey8XUpY2idOPrK3P4HI6cGtgJid8U1sLqxLAzB7gEKSuYxUkCMRyMOrUa/FuARBCUEm235l9WnTpb/b6eTDTakREHfEpTcc08R9kR2rulqUJnG4oFSpJO8txn+esQUBKnL8EFBVBNIjWUdKr8+dBL/uhgOzOxzl4VoKz0s9pTA/yEs7Is0+/PPVGkIrxAlmicwVL9icsdT4I0ko1k67LdIR8KUKN9CsEbUt6sEJF+kUZRrUn3+tv7ezt746q4vyFneivuf4/eN8/++Xf/ew1YJ+5Vw4gShKcSiQEMwUDEFDwGAoiQxgooAwBOWbvQJMyksIpEZECrt/zRT8CldQE8vCFUilwAoqtwzS1kqc3Ydg517shHF15GfiHv/rBX3z4w0/s7Yb+YD/UGtQr1fvDRXN2C0ELt+9p6Hs/83PvuxIQ4B16TnsEJ8CIMGRUxgiYZD5SaMEoWQsyN2lyvuiJBQM2sOBhJQGBHFMA7ccwUnGuV/o+w7UuLu3ztn/VCgVTUSjhcsA14Kd+8ZeuE0fXYypRw5FTplpFtQnjGg/ycreamSxNLvqeuPQ7s/UzurveGljIlLoq0AGeEfOsHAY8c+Fc4ZzncRiLZ04vR+Sys+NwpBGjNhh4tejYAk+7uekxt9FIh3gS4dZ8Ua0JDlJEHgROSRqMqTLb1MmOtU1ebp2YKZcf4bg6u3v9knue78sdQ1zSvRlyrjp18sjrIb+D+ZacwMOcKaQkumlLTRt9ThdmFk6W4Wnkht90YJwhuXeD4+CM0i83AjanFNAWtRtZlMSEnYaBchAOEQIWdRFOlDUyIiMQhHMZmJO4vmi+lHH9m1YGbh4TKMnduHZ9e2truDeshiPvysFge1gF7g/2XXmV3Ht/8zd/5jd+awcYguvaglNb7YDdwjpY9MBuwlEYiNEML+2pNy5/zREKkEKh2OJ+CccCp20cLMZifuOvTg7slIsRODA/C/y9f/ILH/j9T78gWg96UrD3PtSjsigGg8GiCgslRMJeqPa8e+zK1Z967y8PgdrEbh0bkxVWkUigQkXRRAW35cmkyVpNzfM3enMPOJADWEEOPHD9HpUMbWYlzURSfKCZoxoIjBuEqsAv/c7vf+Frz+378sbu6NzgvCMfaymKAkCoqrJ10T89z4UDh25SuE0tyqzLThAHsVIn28oGtwDycyERxUwu4pBVmo6bTiqTZFLuYM6OYRb/v2SRL3Vg+VqMTtNoKz5suLubYub4zD93bvCu71NAVBVWUJOgzeiLSBMnRgSrsUG5wWCu1/5oWMeQDPrjGWVaKC+FqjrnYozpge3YG7tMzX2fdAfrjGij9QFmWBQskYa9cUbkVndk6srErnRAE/9pMt+KJCZoGet7ej86iK7ytPUTP5msLDq+xmreIlVObe5sm2NUDZ2YituSnjvjfxyB5EwLvUywcxJTdLEoVNVEPRxQQc3+djyh7b7p0NFBf5Al1BFVzWn5iL1fEGeXfqnVdpIy1IFUSUqp3/bqV7356x4AhKEgFdJdHSlRhAqRQCNpAEWQAs9LeP9HP7HvC2rLJJESmVvuIt1RoBGdyU42smrABCi0cE6jOBCa2GDyxKrindup93oXzz3y5X//hSefettb3uS980QMAqKz3FCqTSiwo0AaoUTjSWIiFRO3CUJNAWNuVyjUgz08K5GgoQ2yjNVCjiwnGKmAoMQjUAXsAp+7Vv8vP/tPP/3YE/tlv3JeyUEEKgWYCCGEBT2goYRaal/4Ota9/uCxJ5783Oe/8s63v7UgcGzMz0yRIYAQCTGUOABCYIYIiKERzI1z++SaIzSFEJktr7eAhbh92MCm6YASVIUhIBbgWoAwdoH/7Vc/+Guf+Hi9fX63lp7fklo9iECiEU6sUjpr5hfQ5MFCh5nN358UAR+4Fag2yXadawkt+T4QcVP9y0p9HnlD6VC6cy6EaNSaGOvDOnmmoVBV7y2X/ASW8Ly5G7CdRKaBzLtyGuttUZCdkoBlc0h1T29apqgDEXHOpZ9PG9xMMJ55Ih/SN3ujgHN+oTquJwgiQpvAzCR85xbNonACiCIhBCv5u1Y233w60q6S6pyvZG+xdZLKVo2qylSvnc4c0rcDD8hOwOEhsbud3nQsWkd4quXjEIEkfdVR8d7a6OjADllAHbVi0gKmBbN8ddoGtwnmWVTT5tDbAetHv+1B08bRMIgADxZIHeuIuqSyKRBt6ZFamTxCVdVigNuqGzl3ecRp7WSQtvs7BQEsSqIkqiqKUFPVP3f+a1dvxK07/t3jz/7ET/2Tz16tXgR2CZEcwDEEQMBShf2AaJKNgkRFzVJK0to+QQ7EACEogoKgDAchREFslbAqdaijBmVEiCDawyt4F9gDrgAff+zF/+6n/89Hnnp+SH2hspWnBSTKASRHGBhSbJVeNKAsv7q7t7914VNPP/tf/aOf/2rE0CMQQGAQJGgMqirQEKRNcNnqzVurJyVzLqAKe9TYySNunZTGghwgATE23tIq0Aogj8vAf//eX/63n/2DPV/sKxXlVtJAm7zrDvbyXy3hJ04xUVluK8spS080e3MSzG4TU1Jng1ott7aG3I7Ochk7Qj/zKkFJRkhOo8dfZp07LHMkO3yCZlWIltmHM8ctr0lvj9YNN/iz7+l+RnZoqdWvT+sgOdfJLEx/3my+TOOwrvy1OMzBLy1Q7z0RLWoBTgdS2guiZHXzpjqW6zyYmBrFf2tJyDC/BVhsMA/8xUrRTJDp7gmTW5K28WgzMfYwBOoQYloGZqixCiHr9rwbLBFmAXZWFdM+OgKb3vKOsVG2z+Zx2yUrC6WXXMgCvI5YM/qV1vJMQFv6SPoxvP3rX/WtX//KEugr+0heyTOxagHnQB5mYmUHeND1gP/34Y+NXD/dp31Ubf4799iAxoIhtY66ZqwlVWozV9kTK0UUMqr2tnsDBNLouBg8c/XGH37xS3zhrv7Fi+c8VFGwI4KSkvcMYjAhqkRmIqhoHFVD9q6WOqpZeCHNgdIoAgBqCiWQgFVJnWMiUwQowKqioiN2O8AzwC9+6BPv+40PfOXqbigG7PueC4rqNBJESYU1mh11QXs9QQCpq1HZ63PR2w1Kg61nrlz+00efeN2b31h6MMBCjpiJSZiocEQcQUFEokLYOWIRQKECNX2FkNpQW657gRCpSmj7pgA01uzIteoPAWrIPqgGP13hf/jZ937hxedfVJVyqw5QYSYrKa0EZbUc49o0k5+1NoiqmvEJy7TIJQtbR/ZIbin55ycipCbPMlUVHUu/dICnzFmHPY9ZgHluy88J98G4ykZqMgtwJsXlVy6nQweAM/1LY+pctEPMIBLVKJJeyX+h9RLNfBwWubcCRNxoP5eruTbS4Km2eJZbxinRkT2yHbtmAV5rTgMAULg2HeQqNpZ8ZxOREGPL9cyDZYdLAAAgAElEQVSLw8pa2KkxjxkBrYtF9+frh7yfSQV7uAU4aRNN/F7Hpzo55GppUx4fkplAVZNokUxFY/95G7e1p+ENzi6M1ZjefPIL0jlq7+nQ68861op+xRohQEWJm61TOUUFx5GgsAhgWNGj5kgSwIHZSn8h1kLa/FwbVpMsKnhRBeh02LCStTZ+UlU1L1wVcaTloNzb2yt9H+puVNFvX/zi5Wv/6H3vf+19d/2lh/7Mf/Ctr78IkLIQSGMvUOlA7JidQuw8Lnt9QH0TG6zadJsJFOraqoPDcnIZ20MUgpDjSFxJVGYQq8N14Fc++emf+5e/PvLlrno6d2EYxEcgRk9Q4uCaulOYoaGdC1KHc1vbwzr6cqCer0fZ2hp8/NF//0M/+ff/6g983498z0N3MsJ+fUev5wiom/TQ5NgRO0IIlSA6X0RIcpd3rWDCqpG0mV7nkAR8gNhDmQhRqSIoKAI18MHfe+SXfvPfXO3RM/sjbG2DXL/Xq4e1ibsRcABBWLk1njKmTnmiRT09TwyJOUNGbqrqnEsklhuET6pd8wnkzPv7Vt3xDCIyreVcssC/EpvhnLC1xzSumXc0UJt/0Wy/6ayx9+YajVZYICIsPhq5VHPkfh4NucjdzCYzlijd2cAup60TgclEy5+snLRzvmVR+OkfpV2EiHK9KVSJ6CB+SDQ5Po31r0fo0DKRrNaHX9ZxirBNZB03uROFqkaIWb4mjEiaObERhXb0msFEdgZk89/mm1Fef6XWBuuNtN/Ns+cmGk/s0S1pBpnGOtGvtP86NGY7FnYCUMHJJK0KYp+nRLIsWaJQOIVX8LgG0lH1kOl3SgCawFwGQmMLUftTLEJYBZUQkfc+iHh2UNrb27tw/qKUg8dujP7Bv/iVf/7wh//i97z7e972hnPgHjEXgECimZJZBMRE0KoelkWZjsYmcZZI4YoJX4jQ2IM92EZA2O0Bzwg++NGP/uuP/M4zV/b43IWKvbgiRO0N+k7dcHePHQmxAJLpBLipJTw/GM7XdSy5rHb2Br1BFNkLcfuOO/ak/7MPP/yb/+5TP/hd7/7Bb3mrB/wQ265N1gzAAx7eORALtGiitaXhgBVQJhFiCaSOnTb2Tm6cEmrAIyjEkwA3gIc//dnf+MhHH33menHX3c/u7mhvOwYGILEa9PrDWAPChKhwAiGQHujmsUJ610kkSdi8Rhu7E3OSHE6KayJLtchjcQUrHYfTRsObZXb15XDk+WmSJyBcQ9BU8mciwoKaIRN082J7dkNzouxIv0cWgE19k5AS8SwTLcHCaPOUKCgt1HmscWsII7qOOIrT32rS/W1qjlw16kAL8LTDDE02fHaR60Tn17ho61Cky4+LXxFanpiQJQPLv0W78TUWJ4wJOGnRMKvq5gYbHBmJbPOT46CLkwXmFti4FsXK6ZcBIWmlVjaTnRBVzLuqQ4AZASgAASrLBu0ajiwJVmDUPVc5jkTUWIXbmy/Yn7wyj+hEqmHo2BvQLKgRCiWpIBLPbw+UtIqj7cFWUfhr16/3Bv3dOm6dv/R4pf/4//nVX/k3v/3db/+2d77hDa++Z8szGCgAAhzDgQhU+kFjhVSFAGw2YBZpckIrNSmTASgQgArYA/7k6esf+cynf++RR564fHmoVNx9/5W9YeE84PZGe0R05fqNixcvhmgJbRxUQEqQo+loC/gbu3vnz/eKoiDSoiiKwl29cb3fL/vbF56s6//7A7/1iU//0Z//jnd/5+tfKQwnKEsAiAJHINNxSO3H+iareOVsOBw5JkTrJRAJxmRoDxUQgF3gY3/02P/3oQ996ckn3LmLeuc9V+sg5XbZ37KgdMfY27/BZQGSCFCTzYxtfqW5H5KvlvHTWHUBvmkbRRKAMUs4OT6IyLFLhHy2GOtFkas4V2U8bKeY1tBPkDIgl1IW7Gge5Igp4xBa74bUyqILWlWJGwF4meb0g0hvugMnvrqWLz2eIGTVKQYWModMY4YA3HIr3ds1a3nuZtZzLvNhar04bvKT/AgZK2nW67FODB2hQjOXyPyChCBx5udxVnjerX0Gz8SiJ+HGY/ymyBV+N2U1bCXHGFMk8K3NC64Z/YrTpg6xApElwkeGg3tmtP+Jp1/oQwriUMP3yp16Dw4l9RBFNXrvqxg8tAR9dVjtFTTyXETrl5goS4DSYomOLY2WZD9qPWWbAWo08YCASImxtdXv7dy42uuRZ7187dlzW9t33DnYH8ZisLUf4kixfcd9X9kf/vyHPvbPP/KxO7aLb3rN13/bW9/yja94+T0O20APYEGfSSOJiPMODqKoAcuJpUAEgpW9BXaA50bVZ7/w5U898vnPfuHR6/t1oGK/htJFP9i6Woeay1jHc32+uL21N9y9dO+lG8NKvYN6glUYDm2g8WL7iRMqhO/curgzHLpBEZzuXLlyvje4e/sClKE6ElezfOprL37mn/3CA5fu/ObXPPjt3/zGV95/z0t7hWc4INbhUuE9F6Mq9AqPFNSX9PVqagiqFcqogAq4ATxX43OPP/U7n/mDzzzy+Reu3XD9c+WdL1NXDiXWxAPXH+4Me72e966uK18WgAikzWTGTuCjRahH4jGL37a6yl01uQjmHFH+b9LQzZ+qYKHWTSCxPXPd+LGTQiN9TSb8X8I+n09uKxaesCLjpNBxLW4ttIvdRFXFwvsbg1h7c8eiKhIdAUqOnUJpcTZZtSlHk2Sq5Q9mriPIl5Cepu9YxzJ/VjiUnJtapuIpbysJwMTTYuvN7nPxv/3p2V9Mia+HC7SdJz/xhWKKpRBCOiR6vR4ROV3Y8B1VHZEAGuOors1DsGllqtcTuhlRZi6dd86Buu02ioObtU5EQaSu6zYf5smfeceD5PQPwBEnD5D882Y9OO7sFPbzaauRXeCw+lrny8RGAE5QVUewGgzHWfRVCBpjaJk5pdlFF5p6N6Qi4pldURTO3XSDzudrMtmws3SXIkfJr7tErBH9khWzAYREwZGKSBwJpdQXRjsXnIa9ve3+YG8YuFeMwsiVBStrFFV1nmIdPGPg/OVRfe3cXfu+KKM6laYIsD2tFb6Ztz+w80KbhEyQSQ6Q25RddpxC4DDQEIgjuwitSs/OudGo9sU2u1LZxaAssefYaayrvcIHD+G63mb3Dfff/4ZXPXj/HRd8HR58+SukDtvbg3vvv9RnKFABBHz+8RfJ8Y293a+9+MKV3Z0X93a/8OQTjzz2WCh7I+JAfWFPKKEegQJphVgOSgyHLKHwXIWROh+JhT2UnbIJwCBhRFlQQeCEqFJXFkMX4Wl3f//8oF9ErfaqrV7f9cpQcNQAjR5ahlDEukBVQO7c3n7Vy1722le88kLZe+Al910oyrsv3XF+2/fRFAnWxtG5SVx2dYinnv3as5dfeObyi1986ukvPvX0s9ev75GrXSG+p/BRmdizL5WkLAquo1MKoRIoOWIH1QhIzY0ATMplYAIEkVybALlZzCwiw2qUHjM/uU/79CUdx8glk2/OVBhS2RV/bBk4xUKrWlY3MvK3IvOnIWOvFk1qAI0ugUhaDnYJUCJSrdvTwWriSravLHO9HQTTgxTOp6XYeBzIAqXdBQghRJ1wvwIswNiLBLutHfGw/XZBQSBIExIfVaz8HpYoWbU8w5g8HWlZlpZ/Nw3aySqStI2DiDEOq6p1Kj4w2nS9ILEYk11XzXd6SEtCAAlhVNcMgFkWVLnQpQME4HVD4uGcczbKzrmyLCkeRsDT06DklADRqBLrENs0ifMTmBHJYDBIp5fLHExEJ/rTcJOTweJG2A1LyreXQLjB7QlqQyrazbJNBkNdPWt+ffoqKYOrIALVKFHHZ/BN6ZcU5NizS36GuYPotJKiuVsW7KBMdV3XMdhTLGeXvwVAOrZDChggC64tJTiNSe9oqa2EcnFWARDAikg0cj4S5z7MWU6shfrT3j35P2ffmlt17lzN6pq/LJ9xk9jLElSD2pRLlouYWFUjmYFaxAkYwgpWoZhuKdI+hAlvaNUNCkSGApE4Mikg8M01SqSshCb1l6b0wqLEeQn7ZmGTkh5lcFhJCEpjvbJTsKLf7ycjOQCGmDaBoKxCgP3rxFJSWQVgyfuQpi4EqS19DtnzsrCLhNDU8XXmLe/Ye+/tQZob2ohRNpKNV5oV1sLMR7arh8MKi6+WJYMUW/1y+vNDTE8yJVJ1DM7aRmwa6Fi6x7UGtdHUjthUWSLipqt1HHvrnjALkQsSYx2CRM0c2tfHySgpgsuyLJxL2arQMqXz38oE4CCx5WadthklWCntrZ7Je8/MR9ZBEFFUNY1z1FWeswwtisKGK9cd51Ocd29R6rL7ZDuahBDqGJjNfYZiS8itwmK9UmSlnCDee6vLo1npNdauqZYWjMwhyeIaaDwFzYmpGiRKiNHU4otHpx6WBXo9kbb1Ro91AG3MZKDFNNCqohJjlEX9PzIk1RQz2yJoOjR5T1P5Tvc/dWldtskNNjh9JLIVUiLSzDU3oWPAzP+MbaKmRGU3PRrbA0ZJJBKpWk7aSceWySN2mndpz6C5WtwgR26BbOJbFQAC+7Dg6eMmp+Vowsz0r3jWn+MPKQ8e5UaKoyYUSBGBpvBChAlb3PyaLa1zi+IovR2DVCmOOzY2XDPSwLZfGY4wPkqIbZ/zYZEkeI8/YyWEBf3PTeNb+2BcePo8p/ExfZGCtPHwopmP081Fueby7U2hNFaUH8Rh3/wmmeirU+kSTqPbawJtPcnJEVu5M56RhOlog5Av0TEXDkDbQnEdb8E1Q/7UJ70Msh0n2/H4SMxtG7gPxsrD9oFM896Z05lqd9VFC8912yIiMLE2Tm1xKh/HuhFw2ljyVKMdoTddTIsnXcsb0qlPzBmhkeOOlJvp7AnAyLahGKNrH7uraZgSO9MyihLzU+FoMG8is/sTxsI2T7oUUpaKgzI/qM63G2xwayOnzbT+MUvcbXRVLSOY/ySIxDhOrJEOp5u2S20ksKoSmzJ1IilUvj+km2vuaTO5Xayhpn+DZaKzeNL7g5jgW1v2mB+JqA0zT2rcxsNl2QoaD9JZfOScI5NE33zj6rjm3koYC6WtRrVZaTpxzXHWVUf6pTb7cfJFWmek0+1MnFnaRgrQGmwEOpW+rtOpnLFfVAC2uWCTIc1TnRikliOeGsvnmAlZ1KX8tJFvUMZfWbKVo+VkPrwhnTxeRcREORyDHztLAnCHQ7UhMAvD9FFx0IERYzTzr07lXlsI+QRboE3bVrPFzNTgqk7knT6mxmiDDc4QcruEfUJEkju1ZvlLcmKXjJWzfEqHG2w7jXY3TbWEAllbWa8S8WJy60is5BqcyBusHimh2kEXbNbJTNxUXXWbj5t5luUZoQ8ZEyJSma1BMA5HssI8t8PA5rJKUiLgJLQq0xpbG1ZzJOzsA2u4jE88x/gS0KowVimu5/qU/N9pr4rjD68ZvYnIOacqqSiDNXk0AXtp6Gw1zWic3NwRUVsuUQE0PrwqSVeSM5bz4ywJwB00+zsfpiTqWJCiagiSNqz82yMs3zTl0RyhbYvRJhc8Gg+ZCXnYkHw4z9yWtMEGx0eiOCIS1Zh9YQdevuPndgxVBc04yA+h33xHbm6ooqqVnTQgZgZnThzWdEabQpCWcu2TM6FE32AJ6OhkN7gp5mRTdJLibh+Y50senHkIk6Cq3OYQGXMXIpgsb4Z8od6iHEfOy+VCi3ddA8kxW9FMjRsbG8zxb3zqyFdReor15D+TmJdMwCvcB5IWKS+yhaz8T+L8jzaYYxdQAgBn2bBUnTMhu5FWCKD1nC9uAjlVlWTM1zUKYiYArEefQStr1+gdrAIIVFMl6uxbHEnxdGYE4M4Ipv0uqrr2kw6Rpx8mHjqqxhON5UtGIU1x6rM6k7qRFxDfYIPbCgfxKDMF2o70i4O1+HNSU0cX1sSrtP4jHZtzemPqqtSHzmXreCBtsBR0Vt3M42mDaeSGAkx5jOfj1iq8lt/HVUKzuuX5bjNzRVnJnZmKwnw8b5/VSNlomNASqPEvPf6d0/uGmWwjas7EWdDxWDkrOlw6RtToicAqEieOxd53tim0BnY6jr1axrFdjgiuVfRLKwMfVcY+beRaIbS+J01wKI3loeOst1zrZAaM3PP5ODgzAnCOSU4aSiACc2Mjb8ZZgUx/kxwWzEXZ7pOmxFb5nK1PFEcBFMo6loST403yi7Y7hxBVNTYlEc+eO8oGG5wUEpcmIp6dKT8nleuI0arXqmoyCVv+oRnpKA5pKyluE5tCmWd1TRrRFCFwGB8wqQiQZCUfpnEmeIgNThUz18CZ4IlXgulQgmlyzrVUuHWzFs8EWYFGEQG89zZGOpX8Jg1aCMFSZ+mkw7PFZd1u21POGcJ2eIm5me7ot86CcSaG+oyQOE1G5J2Jkyupb1bYWyKnTYy3SXGWSHe8d6mSiHXS+Iejp+7K6xo4EBPDgYhgKQPXdaWNZ4dJM5kr0V08xl5kCj4h5Kq9jhoi/XkEAj9jAvD0E8bYbHCaeSkkTnpa35w0Eulz2xmPRmPN/XQcKpDrbnMBuNk3s6rFHYvTBhvcDsiVeUQEmdi5OhaMnHIPuuHhdJQq+CFZettfWSu2gYiIOVc3mvK2q2kPOZmH3+CWwzyH7lnhOJeAnJqmh2WGBfg2A2UW4MTkJd5mekCsMBvm2CpvbX4jjVVHBo4S88+PLAMnuXcqqdiGuk8FZk1duQW4I24lxj59mItkmFJULdoW2jbsPw6Nu3VH5FtDjPumTUKslBH6+N3O3Vvy5tJumRpalBLPmAA847xsh3ven2eB1J298ui9ImBSGzH7mqkD/jiNbrDBWUSHBIIeQLmtnNpcmf2mc+HhdNRxlRkfU5M2OlWtrScHdGdcznRj3NtgQdwCW/20gJF/OI1c8WSckIhEkRijGScxi5Q6/E2MMRLMjIDJuDs5IMtox9IFQM+UAis9IsAxJl9oDmHsgTmhIpx7HzpDg3AEdMT7bGMngGJUkZj8VJOi8/D75EMdQkiXZAbA5m2HClZ4OpiuJFGWUWhZlvnsz78SpuUNZJKG6uwywseReZrxN2LPpM1VDalmpsV8VSBbKhbY6L13zuUScLrsELY/3T9tXBZy5diJSEyO9o176xlALunYyKQHBOD9bJEzLdp8cwMwrIaHtILsfMGRtrgzJgBvsMEGG2ywwQbLRLJOYJaYMY1OltRkPVu03Vy7n5o7wn3OEKjNspMPb4cFx+SMbHAQckE3V4YeJADn6OgaNsCtrkZZCDoVDCwiqboEJpVxM8eNiIjHUevpEyIy0VEmK2ydIV+DaZlfm1DQcMj1M/a3U8aZF4DXIQVfOo1n7qnr0MMNNtggx4YqN9hgfljSOMp07Ye7nOWKf53IZrcY4UlW1Sb32DpI9p5pmj4rXCPQxNEZ8oCpaT9Q4s0WdnOMPXfSCNr60ZvrUHJGfB6B+ZZHh44OoUHV9S3YsxAO4hOSVVaNNAlRBQJtvQw66r/0K3uTu55NtNX6po1CQFLBTHqfnQk0dmDtSrNxDrpr7rAUV7szLwCvFQRwq+7DBhtssMEGG5wgcoNkxwlwJjrSb1b+YDGGJreNzJnHqOPteXYteOlhZyoaOrz1BjPRMaB13hx+/U0vvuUx/eyqqjcLyj3TRLcQOpJtzFI5d2g2d/FFKz+rKpKLNRO1wa5BxJKAAlDCmfF+PgATK+FQxWV7ybHC9RfCRgA+IubRYxykPcp/u9ErbnA7Y1Ffxg29bLDB8pGY2jn5kpS0KZd+VfUIXE2SgZGVG5mHvT6LLqz5CN/OoteJozOqBy2JzZgfE0ZsZ4jijg/KUuo2njKTqyjfgrpfEUBQqGXSDSIW9AuQpkIyN3MyXSEOl2UaO3AmwB+0LDrDMtNCfhrYCMAbbLDBBhtssMGBSIFq8+f2lAzH9GfTrA5nyok1E9Os59Fcr1eF+T23T6oS5q2NmTbMI9zktpLoZiJJtmYBnlqot9c6nCmwdVR19iYJxjNJNY8QCdk+mSsab+WEB6vGRgC+CfLaXBtssMEGG2xwuyG3ps6jnjerb2vNGN/kaPKasYl2T2Z2zh0uA3caFRGisxecdLjQtRF9TwNp8cyM4dzgIOhUXdb5vUXOLjp6PbJ6iln+7UN+mMzCqlrHOLYSM4EaU+ltK/oujeI2AvBJgs1lf7NbbrDBBhtscAtBVY1N80QCMBBVXfu+82+MMYhojAJ4Zot4w+Kq5KjKzGS8oIgAXjWq9styZrueKKpS+0kc8+KnMSSni00M8PExHVt4U2zsvTmOPBonlRBnPdnp6WGx1RWiOCJWtcc3zxMBHJES2Y5EqrY32nuZvINmFvWO4zQRTZeBXH/MEwO8KmwE4JvgoAP7EF/8m57x6+bHv8EGq8KGFjbYYJ1hx5koqUJFSUUE5BjEYIAYUBGNKlE0qkBUoBBVImJPBFGoRYIdgdrZCaAKJSLm5m6K/dH/z97bNMmuK9FCa6Xc+5x7HwwJZjCBIX/hDeE3M2HIXyCCIIJgwoQIRu9xz91dysUgJVmWXdXV3fXh6uN1dvhUu1y2LGVK+aXMdxgNZLI4CqTxlF2kXFmu7A65INpLx3BtaiCHknYNPuuEPLdX81XQSmSnlOqehQSAXsqzArCqXEminaEiY9t00OIv3nOWOOgwBkVp5NDRALjwnl00mE22yJnXIn7P1mFGcs8OmZmBYcCyyLa8FK29PP05WO/pKGfSJDKLFMo+XlDE71MW0eZGh6gw0l2amtJAhPtj+av6f8f56g8F+MCBAwcOHDhwFr2/0Sm6i5H4NLdAvj6uL7YEanX8Gtb3mXXsLCejqs0QhOnQWk49cODvgNXWgw1Vhayxtmd+vo5qvhBKoVXtsSyfYMN9cJEfB7POOfV8t6i9JMpP3UkzKzq8FBHORTd+XlMP4FCADxw4cODAgQMX0IuwLdELnu2HnPXtig2fzKH9HvhbommkkmhzyO5lni1mplaeB4gkdvnyr1ZbXosD2eaSNtd41x0KzbClVn6t7cTrWnGBfs48sB8cCvCBAwcOHDhw4Cqs1U4shdoH7KJcZ7oaPryKxHzgwF0RFiuZBi0UwURnftW0Xw11vC9y1cCG7n46KbLWfW3L+uZUs2f081KfKr9XgI+paT84FOADBw4cOHDgwKdxrn7jwx69jtV8WAMOHNgbeq9vfzJDBFJ4VlvYM8/WZTWz8PrmnGft9zr0dXFPpxza74W07Zt3AJChU00R9Sp7+M/FpBxK7z5xKMAHDhw4cODAgWtxTp57mP557kGHoHngQFODSUKlIreZqTMbXeaU4vjtfb8feYzXf0o6uZPMOa+vOYfe89zin1/FrLW2xL1Q/PbfEIcCfODAgQMHDhw4cODAy2OoQ9v27TMlEgIEpJaQaYlwufqyjveVKtxwMUmQWYobmZmZfXArzu1v3tSF17pit/UjnhgUc+CzOBTgAwcOHDhw4MCBAwd+INx90MQueybD8Rtqc2itl7fjnquLS7Pmy8Vn4oF7BfiF0Pb6Dq7gYev14xt2YBOHAnzgwIEDH+BcstnYK9Vfc+SePXDgwIEDT8SsgLGU/5WUc9mRWxRaoCZ7Ltmem9dXEkBYQviEhVbqdxPrVa8siyLA+CtnSR77gdkB3dI5TSnakHM+eY4Ssn52q/LucG7dP+SBfeJQgA8cOHDgA7QcHoMmvLbsfi3d5YEDBw4cOHAP9FmI+3xUfbBxKMC39buug7FR3dED4oLT6RSK+lE36MADcCjABw4cOPAxhlimZjXv/zxw4MCBAwd2BRFZLsFd1jlUDXOl31K5l7hc6+izz0UXHS0IioMGV3BcEOmyJAlae5UPHLgtDgX4wIEDBz7AYBfv1+zhsnbBg1p24MCBAwcOnEcflxRKZkAY003hpnW81/fpdwxdcPMe2u+BB+BQgA8cOHDgA2ymdlwvz0c90gMHDhw4sCs0nXZYmGqhoer1Jfpr1urpZ3Mvn9Njh7LA6+Vy2E58aMIH7oFDAT5w4MCBDzDKDSvT9bFCHzhw4MCBHWKdBbr8Gbpl/eauEUz9fuDDQHxgDzgU4AMHDhz4AM2SPSSuHC44QqAPHDhw4MDe0JTPxdpk7GOS2+kbZqC6vFdouFKrtdWOxfTA3XAowAcOHDjwAULvtQpqPu8QXI67ZNE8cODAgQMHvoNB9e03/W4WMsg3WsI2CiMBqCHQ64XSgCy1Y9ziJi05cGCNiSs614reemvQZ/cAfBbr9lzGurWvhXOWtnU/s5VV+zvhMu2RAkB1ZdMtrfdh/gAL4trr+LVQou/w17CAnTXixq6iZZqoH6ATSqI80YwgyjtCjJFwdz9ld4dxs3M+2/PloS9PuQcOPA7nVsnr19kDB34q1vIDtqQjNeXzIS1ZP5pCIqnt5e+R+sjfDefmzybXYSj3mE/NluGQmQE2xNvvebwOD/CB14akyOofDjrvUvj/AL234UI2xYfheoW2Kec3zCe5HxgggAIBAaZyRKwTz27egQMHDhw48HKYQ6tUjocJeA+4LH8WlXj550vgKgU4tPbH1KU+yP0cjp45h1ZTzswItjDU3hX8Qjx5Gd8sD3ArKjrXped2xv6Y/r+Aa7T9g4sPHLgfDv46cOBn45H6yN8Nl+fPQYqTZLWYs7ujuIhfye1xeIAPvDwi2jallFI6+VzUDjetaLcT7EST3IybQtfhO2nnY3CuLPCBAwcOHDhw4MDrYvBhNBmvKcAkPcvdX0sO+oQCvLfo7Z+Ho4fX+KBPXKzBz8GHZrxcYP3AlzGYEgatb9PW0Fc+OHDgwIGnoF9HjrXhwIFXxyEtPwt9RYyUiuAtKblJXnYkdtjzSB0e4AOvjdB+U0pta37ZDOyObwcM7wctrVTbXjuEeT8AmybAoVU559a8NiI/zAl/DhtFJg4cOHDgwIEDB14cfXxf73bqZe/XEvWmY8/Mc7Fn68ieEZmfwdn9i9ASQQMFSgslzVd2qddCYnNxG4DY53OW/9cAACAASURBVOzu936vvt4Peu1u2fNlZiSibc0D/zdRfdH1j/5Ob33gwMvhWHMPHNgnDn1knyjijQABAoFkZrQoeNFn4YEDr5O67PAAH3htsG5CAODu1SBFDvV4XlwnmaapVzhDyTSz36f3uz63dzL3zl7rOrq/uFkihqT5PxVHgPeBAwcOHDhw4AeDZO9tac6YPtavyYPrQOh94qwCzK7uUzvTzoeHp9c0hp9/oQRrPC76tG/Dh78a2oZdSqWbm8glGebwUVSd4tjC2rCmgVL1FzCzlBjBzzMZZJ/M7M3M7P39fc4I/YJVlOOlEi3ye8XJRhsTzQ3muV3cd1Q/K6Gjt55T1tw9PBoA4UBJMDaou2EM1GJOhNFaC3sbxHf74tlYv0X0RrLUq/rxqY8Jb0fi5TvhTmh99TNI5cAO0a8jsYKciwyKJaPNtwc20ctaWAlgBw7cD31kX1MZBqnjme17ZUQnrmNkSq8KKIJ3SimZmZR78XuaptPJc86KUsBGLrOi7m1ozirAwy6+JpfE8tA7f0IfjgWjvV7TY695YZ7JHHtOoO/jzqOd/YbP9X12iHnByF2wqMqHQxBsOEc/a/djO98UuxaesTeuuxVMeEuTOHNBsGd8u37rvrsu8NqCxTwPHHegR6/9RkdlLeYitK6u3I2u89uHTWnyb2ULO2dLPXDg+1jwUceJYZUapIsntO/VsJa1jtXhwP3QOLQtuHFmkHYOInwAzomCrLGB7UzvIdmnUnNJASZpWGzzA/BbZ0MuexkucM0LDxOoQWtZEADjH2nGPszVQUk551703yE23Uck1XuAm4NdxVX5Wh7Le4Od4FL334PkWmCxeXcw3j3vk/fOoZfG3L06vAHAVgSeUhAP3EViGaUSVpWhMG83e3X7e727zEgrfG+WZt7/EH8TXW0wzMUH1tRrlz29hhjcGplf+9ZdACJcAWVSiLF8Gbr9AthFIhwK8IF7oGQx0LbNNKyHi+t36anYG15oPT3wY2AgzXrezPDBiHzg+9jwA3vRRawJhiBczbbPOJIpWVvWFWbH6gfe4QBd2gNMMlkanD9vb28555xz76hcJMIB8Bla1Cigq5cpBwwnsfLyvZCqU1Q4S1zuVg0/XmTTPbAe0PgzInIvGOubLZ9yd38Vqmi4UhlgpZveStXbSpthqLcoDVYqkn0EB9nU37mDr+XoZR3mH4PKpJF6bXSer6nr3PBN04TOhtqOgw9frZSX/fxQzLU36cCB26KF7fUnJcEYq+0QRHbgehydduDeCJlksnEfVpbH6nmw8APQZEUzC0kvyo72I8JalqUVBGkugR1qZ9OFmG92ea7b+WTjXkScl2AuCPF9XwyiuXXO9HUDyp0BqMYarkKy99bLA1qDzcxAE0BIch7m5xFU8fwPZpFQzWy1g6t5iVn148mN1Ms5J3u3GMne99syMxf3RbxscM2SEST50ixFpN5gxC6xVvsJyUimTc0hgtc3u795e4WfQdKDbi/VDkLx2ZKE5imoXdzKBbylxWw2fw4dmJSZV+Qf0WkX0OgkPvx94r0PPBhNLANAL+x5ksNK9kQutxvsXITYCdYOj6PfDnwHl/WR0L76tTXi/wYf2P5VgJfAMBZN8E4gt5JcMRZxlAjNZsQPGT7SR+8toO1SEqzB96sacx9U2FxG6/DjQbO9gEEyJpmqutur3xcWJ+Xim+8v2yEDnHMTMWsOlO/2VD++ha+CpU1kscFgbQFpqrL7y3jU11akc8TMZbr5tZ4ZrLpgsaoAtzx2fREpLHlWErD4c29s9WC0hXboh94GN6i+bdkuhayWceLDeMWyMd9Hcv/5+yB+konkwD7RAisAoFPbTAvT6rOa94po68XmvHfgwA3Rm1oWgspWeO3ByDdHE2NWWYpHeSZU42ZwXEy8+0NRgNd2l6HFg6mvaSDt/BBlOniB1ugnzXbGzCYaOqF/Lf1vqpGD7L5bBljLecuW77TZT8RAVGX7wTqSbYlmrEFVmN9/v4YCvDYJlfc9M4EYFgmWWIMj0BGTsU9LwGbGao/A0uHc0ySXCvaH7Tczk/VT3m7nvpuAy9iElFK45cO+0Iw1EevBYYv2Cm0UiuEP+P37dP+XeA4ae4ZR/9j3ceB+WARlrIRprISHnz1rfR+DxNUmuvf3+5blO/B3wKYfuLc+z/oF5s9t9TyY9x6YPU8q6h5ZghF7z1MEPMe3LUH3PDRPfIEtXNoDPBhd4iUTzSG4ZDAQ5BT7hAWxuKSUPcuV3aH+fH+M3xroBFxxxlC2UK+bsSl8G+ARp6lXXbE4aBgru8ABrPxpkW1o+Kr/s+/AV8zq2ditdwbO30bIw4reOUQ7L/cDl+PWyUH4u7CEOBBGv3SGH2Fmss39ET8AxXkOpDYK3bfFSkqTgQKMiQaj1avcPZ3h7LXYTbKZefg6leU/i6bto1spDxy4LZodyt2BOjd2Nqm1Gf3AlYhJL1ki+Y6frwD3cuyBB2MtIYsfyy0Hvo9tWXTpSlk7b3Y+ItNGtH316RrM4HA3kkbJ5XW3IUp+LwEGEJjMHDAiS5ZIJ2lZMsABA7JEKUuEBP7xNsEskVnipJO7NXdTTYLcO9f79SnabKAIgwsE3E/vnjPJc2ljnlsJdlOnlQRGJGpc4HKVbZuc377tDQbCYLBx83N5ntax1K+lDpJitb+kqYRgULnt/h1cxNXZObtA47o///yVcz6dTu4u9r/aV3/Ets8USrtnCJZsMrRaRwAgk83Gt8UU02xsbNlPQ74rJ4Miiu10TS+sGbMgGgFkzYuNFAkNCOMpu5lFzisL+VJwiK6wZLnkNRgG5/f2vApCdBYsCxRIC6ZLzLTCvBQMMkOW3t5SzHsOzTvVz08+wzrR+vw//OOP36dTfn8/Za8mVUPdaRPoeXy3PTw7i0oveOxan4yTFU5NxO/5Nbsd6a8k2XjzbKOzxxWTkC+yf0vKXXbi3g7Vdihc+dRz0U/Kpw2RsevYZnkp04ulvs/bu7xK/695oRZUkLvn/A7ADEIGQKJ/2XyG2NY8Nch5N3+LfWIhj5noAmRgIiaDUSQmY4t/qevsSDz7n696cySLfWR2M4bl0wCB3iX4ab9tJLRYOi9GRNqZko3rLCfthr2BuzXAa1rMYQr9Wj88HufooXaLAzQsDf1mBhmUFVmXgFhdtqpmqFMA1t1ybhb9+yBxpMCg/3/8+SeAkDtYN2tGPCGW86GFhOlKZjQm2gl+OuUgxJqv5hP7ZO+Ksx7gzdRT5SsA1TuRqkYa84IqBadQ6UJviV9JkqyLmWFxKVPAVHPY9n6tYc3u20CSRZwvOvYUNUj252S/Cc7NYvOkvOU2B7Cl5bwSDCW7+lqM+yxmQRMvtipgSf9OQDqFqozRa3GBTi5fMIjgcZl1SSaywkAjZEiaOBXVRXJ3K85lmH7g+tGLJpLKzlwr1tBhdgr3eLXTfReJlNnUCY6SXm63xErB08DRLK5g5+v74obVfeamWlRMNT27pWm9zA1mdVzXFZtM1+e36z/ELpI+OiaUlvyqXf4V2Ocrt/XGi/7MWuG5XTP3i9jWkeqyCmIyO7n3/fMzuiJkSwPYGbbcnUwtB03/ppuMfKErzqlePL8bEct8KHH+5KMC81NRHFrhXbv+V2c2VF42T/x9MLDtd6RuLcMYUTybl8tEPhofKMC9GRhL+mhc118zLNtD310wg83rysritaX6ArNlt558BYf7lfhQRVnPqueWnH1aWK9He7v1XP9ZcC724zu3jKpu4mUNDcXyrZsAPURCr2crdjt+h1V5U3QbLlNVsN3d5X1RJTNDlCX4KVLOBfS9FL1R0lHe+b1Vkw6SVOn8V+rqtS437BEaFODI2dZC6L/D70/Bmo8Cb2nqhYnY7TwXilgpVOvPWHbmhede08KgqP5XJW9n/tuVEqkuvkVo37nLwFFGnC/Ycijtdon5JuirdVllUbBO0pOK+fqlKarOVTZ1Ekish8NrndOvPsS5/tmQfjvROiLiWpMkiYoapcNPXrr/r8GHr7kZAdqrJIMyjB/Nv9cgsjdbGnPuXI8Wx1SqIhWRcke4pAAHa/UL82W1YRB0AsP1m/pwf34QNIcf9meGIDEzs5iVLr/xXjGoJWevwdjJm8rwfdv6QKhLfDUQ5GfRTCT+OlbScwqAWs3YzocRHTVwXIuNZ7d3upNOMFBdX4oWgOpGVKn4f4c2tAU4KLOWAZZe0Et5AerSjDf1bCjJcCc0BdjL6BSB/X5PvCsa1UUpgZ6jg3596UHCSwkia0po01dTgHvuy1sCLsmcc2+6+hDnJsZGt0NI11DiAS1a8nXmxluh9YNdYVtaa78fqsE/EmVd5rwuo0bLNwV4q1TKy2AY1uDfYcJP5Pt7xlISK7TUxVZcw1DnOL1lG2JXlqXXgQfFrxkQ/25cDMDA/BmSG7rob9hjH4JzEtbPdU6/eLVofK5CJJ6OS2WQGputFdH+zzXr6sx7XqOe9ZMIO0m9fSDHzYttjf9Ja09vr+p3MrSPWrr1fiqGqf9Tv+2tfb0gmCRAvvvluV/eFvYOFY5wd3V7NiiZZKstfGgltUlF+OXSycZuy1Ak421KLNnV617uu3b3kzzq+5CUR1SYZhW6Z+cXp9Ke/CS1fMVTDWrF3TixrSJWRuSVWH7Bsy6g7GgIuTmorm3yVw3NvWxp3Tm0DNXhHHii/li+WpbgHta7ARc6ZH19uZicOg28b2F8aqRLoMna85SyKjHyI2Ftrl3qwDE2mz6LYSw2Kxe+KAGfwyKa7Py6PC8osQqs+mD/UWmDxLvWM1X3MqaUopR049+W/x8rrrxADz1v9n/GFDmXEtiyW6FWf4j0CRek8Z+HGBRrc5fDoVgrP/xh31GbORd+GP9+CiRtEd/R6XGxsFxBVr3ULcmkvRV4vZQF+jI2ebtf43vq2RDil+h/vmbgkDhVN/c3a/o4H3VR2V9+ryeizao4b9HvJ8pNw8S6W+7Z5LvDKr6pYzRNrMs24aFO7BOSaKPfBmXcywes+C6Uz8Yd7ZpOoaVXqNrs2RXQ7jG3JIiK3eeSs9dRt7xWc9VeO/R26F5f75BtRZ7fHEvSfT2ZpknCbUW0VXr2yCujupOlV8Me2tZvYFMRtcjc1/FjJ9FOjsK2zfCE7+Wub/K6gWYLublNAtqyn0oycGciyn0xi2j1xS8zl7KHwvM3l5XX6zKX36KtSi+rg/XiU9iw2jtWmoEZW37KFnuszr7crr/yoU1QAWBgM7D2wFLSXvxKZ0XHn41EXrMTuJeIsDQ0/CSx+fsgGfEdZbG4yQ2jk/dkwT+rAJeVeEUH73XbUvzZ6xXth+WrekUIxUO0AQczc7P6h4zetSFHZuRIGQICyGZGrgWEKj28Hu0OLNdNZ+ftLl36UGwZtNTWn+UdXguD9Hblr85Znb0Kl0FY2R1f3N1wd/R6woUX98jmzFnaCG6KBMzxM4IS3EWV4NJWmA2Au4B+MWD80ZJoNwJbh7Q1NUYSBDOD2GTKxoj7me++g7XmIOnd8yALxlebZaK+/Fx0c2zZwX6ru98Z/XyFhdwc344qLskEoyELLeSe5P7jNQKD/REAI224jdN7VEAwM0olqokyWwhkXzB2hODSdOzE7QiFTQmvX0P+JlKgCUbm7kXPGR5McBbVrl95A00hGTr5Vej2s0g0Y2SA2Ej+1BaFnHMpUWkvRksD35W9RUu7M8maExruTitJmHszcbnPR1TQc2iwcOXf0Sd0gYvVxQf1/Pt34OWBHxdfdZ0fGkSfhwJd5xevQLd56xVl5u8guJWk1SgtrMxbgWt6pqdqi6I/+XTrJn8Ln1CA4zV6KzV6Y/NFMX1trxqWivjT3YuiUk+6ey6euhLr2cQCLYPNfiQuvF3TjprkPcx3vZfvdbGWMz6rDK9vCMDMWhTrnmHntz0PS+aaBtCt01jGWPbXYGuBPLd8tgdJMrNkTClZtRGamTyituJJr017PTaHQFL2PAwB7uYOYoeX69tGii0Yf/1t+8xlre/Xwubob3AfwOVOhOJlImP2Visnc91c13qYfZyUcv/oayjzx8vKmyhMdfHVTUi/3tDVsGh9dTqdPjteL42NdRkkeepSTtSV+nmtvBFYI6R8uWJKUimKMkaDs2Z6XyTUuEIRXfPv5Ytbe+r9v/WmPx7TNGG5ksafzXvfLzqvuM7eCh3/llQvn/r5JqkPN9mDXWbCUqmQVBMbzGfi0srPANi8rBKq5yk3b1UQk60yf7jnee/cNDUnrqTIqBf/UKt4AQjBIMxaITW543TyaTKjGek6xfR0Op3ec27PenrPbqJ1ZsyMkbGAyx2Y4Rx5e3vLObfA7+BUSVK2mhGq047its2+gJRCnEo563Q6RbeXVDoRJZv2tROnaaRtBONkS0DXC3CXTC3nh72RcltgEOWp6zy4B8GlMV3fqt7QY2ZhvyxEvnzfc3rauWcNH9ZfLe7A+fOwhLTLJJhZrQaZ2xtd3QE7xeZ8QhLJVNm50ZWZqQSU3hKNAAD4ziyp14C9zW4p2DUKKT0WW4bMmr218MKKAvdGWmU+j0qVQs/FANLyT5Kodl2zsqrGn9NUdnwPOlWvzfYG0DhZtz8g6tq6z5EIXCpsrDo2lmJ0ztnlrdkvaoNYQzVzu9W9qYV+6CAS4AYz5JxFNONLWGlSb2iuNatR0uOX+6dEgDFepdp8EK2V9avv5N3KJ2t4sG1HgYlG8m21Lkd3NPImOU2Tmb2/5/ADo0WxLde1x7/UBbTXaSEYvRPINlJbBXu2ybnxF6TlfarVuHDZsF7UJb5uIUaE8aXZ1byhQq93rg5uj4HBXxdFPnSYlXqLklJKreI0mrgoD4Vt7jGQ1UIxTf2aPHNxSpQihZjFbhR3z9lLnYvlhrIdrjtfQz8poXp61341M4tl4Hp5ZpPkJP3555+/T+/v7+8xfNGTOefPKti3wugBXgu17TwuMtLpdGpd1qzXbclht/OwXd/fsP0kfRTAPOjkfbOLGvnxW+8O/YtgOQrxvo0+epvCNXeOdagx8G4nxH5C6RehGz6Cy5Dywti+iE14OjYk3ZUu2pbbJ0KdrIPiAY5VYTQlPL2pd4W0CEJpEswOWey5aCIIzoRUBRpdNcHxQhjLDklr0G/XE/W6zb1Suv4qjKT9z/tpvPmdYoXt/9zULj7bY1zK3z8VJCczjxoBs6W0eHqbAhwnN00CTaM2s2maQoAeBu5F54R+DeoFrU2sSWWTBXbbFb2q2c7Yan/f/OdF5t28W79kDCw8CLTDDXsdeLjP+rmbL/UzcG5yq7NtmQzRTK5YFNHcxKYqQTJr8dVw8U9Fr33c4+ZhYdy06TwYswK8Yvhxnp87Zau1AhzNHaxwEme5HN3OQ3cVusz51BbX9nRx8dSNml0AWH4SXuJWxC82U52bFHYI1dYO56Ofp9gbllLuDDOsifjnX9V9KedoyGggJlrO+d1nu+N6b9JnbTy3xfoVepnj+2DNFhh+FgE0OwHwfQVC9/2goc7Q8vzTibyzRJU/+xHcs7XltmhikCDJ4ZAUoVZ3wit2Kav7N4EQztk5C80IRpolE95rvdz+Vrulrj6ym902qjaRDeJUnC+RKd1ndDnDtkxgS5ls3nXfTRTn18ELU0fYBH+M43dAdJ318fYCXOGaL9FGEXWFOVphKuFwiHRH22tS63lSZCJzzqdlP+5Z8TuHBa8JRk4049mKUdYRsDpdoixYLrJkjcL+mLehjVSnDq1UXwDn5aU+hHE+tv7s/OTtZHxqqhdQ8of12vKahPo/SapGney8hz+L/nV6c/PQIWYGhxlPnkla9f2abexXX4PN9krKLEt+ysO35+T2HwCSqBGpm7J3P5t9WTRvc8IeFvEJKxaq+tXiZHy4sCpatwe4N5j1/pCecNsP+88kLzhwG//39om2mEX4dcR/fPDSz0bjQ/c5peTaWhy6butYW24y6S++/Kx281xtCNLuarQOc8rMhLqlKMZuHUKpMeC9yX8n81oTO/qVr33bvnpua6N1vRaspQf46S18DIbJLSJIw9KE271+U7NfsUsbO5tZlIq+8BK9XJhSitKOLRK4Fxkf1PrPoFcYBrfDuNKdWRZ73ulF3vX79ucHAbH1zwUJY1OYZmIYrM9d87oYDAd9fwa3JhIpxZ99pNXcz+cNN+0R7CIdHIBDHIf4Rbu052LhY8NxL7csemDHrz/wWntlabTBnbvDBb5j55nE0ts8cPd6Kmh3ODcblAuSGUb7+D6nyq/hwrtEIugQmCdjU4A3Z+AL6GXmyRFJiF6ac89hs0OaonGnt27qYb/B81kk+gk3xZpLh2+xnDg2xfeekz/1zm3KGJYldAlsrW3d2SWZDoNd++dSgNwQtrGe+z7sw6YpkfyVpgwWPzDOOvOfjrbq8KJB5MuYzSiFG3fhUB0Q7dsnJa/BLrx8b9aEu0LG+W29hLGEWWDnqtrD0KbrhO2kIguvacxLLhAwknyz5OC/qy+tMe9jGv9ZDGM9SBJY2eA+dc9es+0fsTaHtZW3pJNcidTF0bR6Vky8vefyx1Cv6h7p5mSb+1OQgWQC0FWorkHPnWxzcdQGG0dKCVjEVL8uWLOLl2mtj/3puqR/05LQlOQy6LH9li+SJZtdKq+By9ZM12PQHxoFDrcabF7Y4l8sfY+b02CRGCpae76QxGiHaBNd68N5ka3p60IHZhizlj38NV1umibKI8XdD+DiD9Fc5R9e+bWIUalU91QNY9RTbaxzEqzWvjrSGwGN11DAoKSt322txS2uP2NiHeaF4bbP7cTPoudkXyk5qjmcueRhnHECXK8Dl83YeftWz8Wg54cB/ob336S3eJB2FgXdMCyHw/k9EHwhrZrDI05WzZ3XEOfPAJeeulnnWQko3+mQ+ojnj/unwBoJ/FmKbUxanTDCUsHYJ3XFa25GEfc90Gy1vWTWuGaQkodrzoq/5xvTpI1hDR26cX3Pp8soNwFr+bdQKnp9oPSAK3TgFlM2mwy6ioMfKmy95FNuJcfLphPrqeXLm5LYbaPt057fqpEPw1plXV/TwjuvvGG/cJx74iwudlRkNpdpHX7yY9i2oXR4ZLjqUoE2NB14mDnnC64TlYc/zZI0j+nmxPszEC/1lj69TH/tWeyCW5+4js8eYHaeSXeP+WpYsD+cxAfmH97wMp+f64Vm+cfK3iDtLpT3MtT5hbC0SQ/qbj8cl2e0y4xNAV11h7YURRKy/WCQ86wmTvvsenvZLjVQoKQSZt2Sdtbzz5rjegIobvAaoTfIIoUenq0CzHS7JNd+nVirgj8G6pxybYDW/PhNihp+/kILMPuwSe+totuEO0gY7c9I+Om7L4GslTXZapBSf400zjn9EtCTUL909meG88ND2z29E50Hv+7mUuLdz1+IzK5EmUi3dAZUPzmbWrKyO1y4c0+3y4ma0mKWeC00Oum3MMDPyl3nltEmGe68H3r2GU4OLLaOGmtL8wVS6S0I5wxP7ebBv+2JQwlSLKNV40yzc7Xb7rm3v4CYxciNzAhYitbrmfNrExprdoAXtWF9CjP11k3pflN5WNWeGCEhT6fPMQRaUt3WN5JXYcszHdG/xvBKbfrQ0tY1qIK13y81d31n8AVm1QuIunlvK6tS0MdmRPdaGLqAcnH9RcyqJEsW7o8qHz4FJC0y5bhulZVrzcNF1klGuYG7qqDnwBRyPwWdqPcJDmWDjBCYkU+eVa1DMY73PkJwIPLjxbCY4Ze/JSbW9UZO0CSdkLNylijlIVPFE3r0LnAg9sKVqaxT8BLThJSYIEQPJDLmqb4PrzzG1Iki0FAE/a/WhgH37t6BBi7DwMmmCRNFl0syAcnoefMO7vMaLFeGkijjn9RJp5NyH0P4REPVOUjZFFl/ssF+pV+JKdTg1m8xsbfKk1iaCRZmo4rBKNBL5MPC2qvWJCfJMdcjbT/55W8AEw1GVLqF0R1Tfs85s0tVEsc1Ze4QF9K0SKLcZBOmhNSuaR2bXWuK6vSV+RHnODSR8Tn4HWYOuTxL2d8lrnuu3WGzzffAp8Yxpu7JLClNSvRiI6H1MdBjP7TPDkRcuZll5azcF06P3dHXz4SPwSCdTkgTJyk3HvQOjTtoMk5MlpDE5DLAnCYkIokArO+l4e0mMksWHS6d3IOKWquGCA5syX6hXQgLr1o/dbw64qWyZFomo/Nir+onw/YT+2rQVCKzO4yJhgQKp4tlmV8RfXdRi1xON4ehZA6InVCJJlPbCXynh17G5HQQjOggIZm9JaZEAGwLKgAgR0arWtduwAVDy5oDL6hw5/SxWKjCRhtVpN4sTTTKWTeVtPlhszefrun1yn9A0kkyI7LScsevZ/XmQkkU4k3XBHqBepx51n4BMAq34x+//vj36f10OpFkmkvVPdFTFwLKNE3JGGVC39Kn7RpX+n7bGWSfLE0T/3r/HWJf7DzcuIOAO1ORA6K7+69ff7qfprdJ+d+W//U//Pf/zX/33/7XCf+e9G/CE2hIEtyzJQD+IAUYizN9t9jyLVpH9b8devLHQITNddE74ampFZ9Ud4djrurTrAIRNUnwaDBc5tG/1/sONIClq6FMW67NvWefEmpnkXFVt7YogTurZ07WqkWu2P+IWAFDGehUggimtXvugbwwWREOElJ2Z+d2rsJ6vEvXz+R6Tng5rNssWju/1HwqMa9u8in+lQS6nKBDRtNg0x1myAf06jXj2Nh5/a3VC/qTF3pgfHpnvik68NVr0APQDHAhjbQ2o5NjiyMw5ATPAEQHXTAnMifHm/PP/+1//7/+j//z//7r3dIf/4W7ZSWb3mgJ8nzKWQ5XUa6MDoMxZ89yZXcIvo7vIlgif0lmCe/v0zS9pYQ5r6oi+7iBYnFamlneiqB8IRTFjEmAgyeHY97WlxJzxPG5JhrBPknbuf3q1yCxzJCJjFrB1W/JL9xtDwjiTZVgSkwHkMz+eHvTKuls5Eu41dNLf5JGWiJAuGXP8YDH9+ci2Tx4+wAAIABJREFUBJr1A5YTHLsYmCcGAQw2rbVSXRN4vNjKLMkpyOGL3TKbV96KFkkm0HeWGiGGtSyxAh4S4m6CAwn0HRhKg6pzzp5PeUq/qF+TGd8T/v3Gvyb8O+lkJGRgQoL7e/mlHnEsM1QpGS+qmlQ69kzlkhJVGHXLhko2+EFq8Nqc18407rJvHKkMmGHOj5DnKc6Wa4Y/RoAGZs27FaKb5+fwdwCCuLWm9W93Ge1KgmBxbvRRLR9vy3ksUnpzioKYO+ehIyzHJePDu8MAiK58z+Zv2ezKeJmiS5OVLrXiOzKvIbttiItnqR/35ei/LojU/zErbqNdbzbXfIZ/a4xfEKxV6zbn6nub3HRXbI6jDQtttQhMZySEwTB9uR/QT5Kc/XEk33PeaM+54/37Z2KiGQUhEzWbQzjCZ+0THpYrQcoWGrFcBGXklKHp1y/o9Puvf/3nv/DLf6Vf/0RKxvSeT4v9CBkyUXSWjeJSjcG8KIw0z3NzXbR5ONVwtpZw8H4+vcejOIHhEiAkycy01AhmjrvFezdKjhCPXYUKfhlrkkiP2k26OT88C2MI9Fr7bedjz73fdcH+COqqVLVohyZ0lvPaXUbfC2hBNZJkMrNQg2NVuB99lO6CJHlnWbjbAz9Ab2RtnoeHtafvjSeSjgEelb1cdHqGpinr9J/+lTP+gOBMxgynHOQbSN8OyLg9NopyR1QCmapYUIzQLOpQF60FW3nqXl10bujX3YFo7SbvaA6FHZbOhUeuzRDtOQR408phPTYNtOfGcaJtGj6+hQgrqD3gBNOOxJHwzFe+UBMphNyPIACxFrdLvFhe8LvtWSPGK+ccOzqbTcGILKX01vvouvfaHuZX52L3edEhKeU6DQs9/7Lw4FfQeQ0ccIdcKaV+dHoP8P269IKDZVSA64p8dgb7EtsNU2WWOH2uV+9KbyLcw3MqRKQVTZDjZFZEZVmYSSKnmv+yVPiXMbYmThlv//5XEv7LP//5X2UT0j/eM0/v/i/8+9cUvt15eRxsptcLIJLYRas1p7qZsQbzv5AkfBn9ixQdOFYWSpHJpVUJvakDrNcvAKSU8pOFxBtDNevBw57YxHuc8WU+EhsKcF0JtD75xIb2GFrS+0XXjX8J1PAVlwRq9gPfrb+byuelDu7zi8ouBZFHj+CcDeuphRmSI8JDMgWYZ//L9f/8v//5f/5f/lfDX4YMz6eT5xNgCTa9n/xhcSPePSjoM4FmNpXM+V0qDkhSztndM0pW8+Fut1EO94Q+ROWf//wnbiKusYv7jc2lkKS//voLbUQU7kRQsDuHQPuK2No4DqLYZClwk+c2eW7YPXvaWwp3mwAkqvEF6GjmPBmALHf3k0MS/L7JCM+NVxmbNJsaCUjKjoWHqsWknJkVX52LU3oL0dnMYpM+Ottr4V92PPVZNZizOT6o95Tn/En96Ajg/ftzTQ8B07YO9s8//7F5/WelhUGBCS52d4fONelcO+8KpjcAVI4ZbJom0NtWjmhrhBa/ZylneIRB+ZytFZOQpl//4T/9K5+y2ds/DHYSnJymyf2vtir0fdivj1f27aZM3st1wpOFunugV58AuGZrwpezlH/4RLVo4Ygnv61Vdwd4mHK3VjSeS6KfqAO8TzQrWv/h6ercZ9G4WhHYEfXHyH4KC0PNDR/afJ67KsX3rIHbg32HAiWLgbdklgRkT//pL0/405CgLOgdfgJyNsObpvTg0Qt9208ZgJklpDebzCxCKJv7N+f8rlP2HNmzekXo1b1GC3TCcVkmQZL/n95ucntzR4itce9qJjtNf87P7SJFnti3Pf+YmVLylP7K75d+c/3NrVhYHH7yU656L9O+lrCQjWhKSG+czCx1AY1Kyd1Pylk5JN51ZMTdURXyidOExK42s6D09hbKSc75HCn1FrdX5+WcM51mZjKazCyiWhZr4iKk4nPjNcFUdTxBTj/hlJVtSsBsumq4d39efhZr+uv2579sm78+a6GmdYnNoYyckbNymn596j73RiiiQib4i28TpwSJitruzmKCzMqn7DnnX9MfQFGArdDJBNl7nuzX9MsmIr278ukdabEnelDkhvPXYHAYlA9VB14nqf5JmAVmRhz6nB/7HqG8fQ/Xvr35Q56GB3s3e8qPxz7RZ7mVBXrl4h+UzKejtGQ1YJuNfxU0IogpOLbak7qcVf/LaDat/Vizeibsl+F7Y03tT9SEYxFzeSruo7e3XyQhTie8m9xpTp3gWYlpyjl/L8XSp48uA32a/gG4MzHR7RcMcorZYaRAc717cvHkMNBPuYYR0k2Pa+3dj6vJxkCCyf7cGt4Y49IP1x2Bpd/GASH/Ps2K5ewHfl7flqBsGeBkSqTrLTtovz75vpeOZHKeADCdPENSLkLnDigBBrhN/ygJY41uv5DKRkHAGBHslEOuHBlufmfdsz1r1N2tZmZvSpNKLKUgk/Quufzk7jo5eGEG+Bm8zPQn4M5khNFES2YwtbRVC/dvw9UUm5GkmBVJEu7ASTj9nj1+1sdsWmHxe73vB2MXZzwEj8mIzNvxr9U0YE7YCRSYf++Mf9P0hghRhp/wRksAUbIMl5nWRcGBDNO/yzAK8EhAaDLIvJSx8PBZ25uB7sqsHo610P9ZqWNQgBf3eUkR+FpwGZaMGlNQT97SDzxELqCzL9zqEc9FaFJ30jIuP7fp3ftSgLGlA7SolTtG5V4B1ig4d1dNKcGam+Bc3aA9o03/s320vgvJcNHe43Uiqmcw/GyaFR4Dbm0+770T93vu5hz3LIYkyx72eZe7vQE4uctNMLPpRLzTs4xOMxgMIniXIxVxefMZE0HzLBAGCfTI8+JR1BogZHKHZ7nQsjUCBhIww71a+4TjCokxcCMfdfsJI/PpVccSgxlqcJmHIcHWnpnn9q0DUeCvJIuwlCYSyP6p93UwYl2Go7sAhYejUJjkLgsP8B4oQQRNDoGh3uaSPSpmFZFwwN1zlrsKXzDdsT0b80uhWGWXFYFeArzI5Va2MyBKsIEkbLhzmQF+BC/LAZpnucsMZoBFiZ+eAoHBnHA1PWePBGICoUT32CXOmX/FXqQy4c7zVTdqW2On2IJDTNObGRESn8Yj8Tn+jcxOgEwgDaU8toqusgNKiGOsaxQlnELJSSnemWTJ757lruzKAqcyrxNWMocBiATSRCjLZpaI7O+n/P5mf5RhPy9gXCl+SFpL471mOLuFX9MndA4br2N0qZQhTDBhKqkWgO9FVURkNYC+tpyZVcn9hbFhN3lSM57y3MAsRcVa3Tql17uaZ/JCGaQHoG9bi3NmlxG0NvW1eT5eyrObWbzEPXTg1j9N83x6fw309jDsilRqtKRzMsTWWfcs/zW9nUQBSm8UzJXlICVXlEGCbn6sXSNg/Na6XfcJNNIpMoo6AKDMkknuSYQRWU6ZgMrEd2rzg4/hOaDKf6z7FEx0qh2b8HhlwY/hGDUtEpCBBJxQfBLlmvBfPK9vofJsE5AYO8Ntpp/PvKngW8eJ5oSFOCk7UXT/DZ/74dmUUPnCVFNfm5AKm9BgsBJIZ6UkEkqlwTu2Z628ROMUWk4CnaVMT3xGdpfT69aYiy38AbycLDkckEsKbZUmIaGjwG5+/iznTpYyRDcYCYq1gK6jzBkQK52Xqfbe3Hpm1EqWedVUo8JEC3NTeIv7I/Kn+TdTJoPBRESipqgCuif+JcjSEWGaCnnMIrVjAk7udOWcS2R0kdEKX7GW37HJYjWXe/YTKTGHJtVsKYPv4VNi3iCfq25k01YRUJLYk5DzHWwGjReF370GTvJWjrrBO7Lpp/kBeMobVePCMykz/fEf/0eSRZwVSE4ptaRq5apqRnqKhzC6xzrKC8ellVZ5uyZ0X6+luh7czq+htXyw5hEkmT279Bb7gW+qBjPSkBoRMo9EMzzPv19HFm1kWcKB7wzNdOURSHNmOuDif3dBWMvLvBAysxElRY0kGRIAuX6fTg4lo/mJcBNxh2PVap3b12QKLFeKYtlIh+zZT/m3sscASicDI2svUY53avPDjwBlopRNIEtZ6aH35iPUIumuOobzUJKckBmU/XT6HfO1QYAIRZXWZ/VtoRDlBHv7lX6lN0ZtMTghfup9gciUvD4WeqMHLRWnpSLssLQkRkHwhOfQQwKhTGhKfJsmo8LBSkekmTqdfnvOJJLR/c7tDLWqP9bxggPIkANKpBkokJHiScqSThRpMMH9lCLAu7v/z+BleuFfwCcj5IR+vaWgtEJ7ElH/BT9eTc8x+lb2tWQzGpDzaZ5RCSK0rvbvnu97YdQoOoBssF9vabIJ8LJzWTEXdcfP8q9mLm59kpJ5PkkykVRQGh1mM60+nH9NOsmzUW9pmooFK946eFnK7p4JWUqCQCdkUDsyyrFLDAmLDjjpJKm0KUMMsXgfIqJwPZ+AFl5P1CCckGRyjQpucvsnHrBXcIX5K4tIBLn7lAxNkGM17uDTXdDuP6vZAMnTKX/hbntADViYX83IlFLRAe8scffR6VXq7nbXPrw/0x//8X9qegZBM5tS6u0cVRNpdU0e3cZeAS4BHmD4mswstjuUFClhDHv2Ns5PoSc3Lj+TjO9jRG79UgQAo6TseQ9TZKi+ZpaqKv4Qv3ShbeD5CnCElcWqZUbO/SAWqobBMjx7FnJdbqMgL25+FGoQbv2s7lsiHL3GRKNFQQIUN2jU1irHYtwhOBt8xru96LFYa1D6x8zCfhgLCaH5reskC9RSJ1cdQ34qU7EAuWd3gKLPs/Gyb+/+1h09FBsHPCbllFLU0ew2on3mfVuPbRzZHBwCIAflLpB922Dg8swjj+EyJZmSWSpSKVkIBUWILgyBu7dTqrO66P14kbCYaq35hwUWhcwR8X4AGUtsHBdv+kB6u98xNrwGdRkJOECziBBWpb2ZBwvDfYJ/O66HYlPTKWfMs5+AwW13r/n8wqj1tJGSpZQ4V0a6Ff+ujy3OQM1NGZQ2zDDt+DD+NSONFmzLyrDRU3NkCwAZYADhteGF4ev1EAF4ka/OKMBfQzKmlFLvuogNOIBaGzk7El5DJv4e4h3fpoSlIHcr+S168ocpwGaWYndMoZQ7YjEo1WH5LAV44nK3QO/4HQLEwy3sN62ydT2GyIfe9tOrSSEdvYr2O6DtBwYgAoQ8zPUPTQr1RAyj/Eh7y2yFWjXj8VBk9/GTmRElRIwlxTKTPClDLkZY6M1SPqzR2F2EC1qIaQJAmDFFIuKQDIxGMwjupyJbAAIcMC7u/ANomhabUV2kQFgSk9cgtzEZEXsW/9xjBIFRbcMdVvYU16Ef+vbeiLFrRwAuN7Py+qKTjNRKwGffN95lOKbY5UU1FwcT4e62zOH37PwvAgBLlmBWyKBY1mO8yPRGWD55C8C5c4MIhCPe+vECQCbYJEpAllKpAmSCYJAXx5Erttj9BG5dQ1DUZBbhJRicWTQaOgoEZl77CkJrgmKeDMLo+9Pj7vwKv9wEMb7ZRZoKYRA1nvdzt9ri33NHGIHs2RVGPEOYtIYZZr363AskqrNBTLBaZIFWTxJGmMtdUhL7Wd0BKxmw6hALVlzCt9w1WiX2UZ0oekTnHW32/b8Voq/77Zo/cvr6DtbC9mP0pl1R40TS3Yt/qWq/5eSO1ch5GzAWqZt21bk3wWc3h7wunhJg3z99V8Qzm3joplrfIHLhymlidjj8ntovlmpVifyL84AYrjYA8x42j3AjEgq3dbm+PzYTz8vnkQBYpyGSlhLNYBRr2irORwBVI/4EDAAsMvsJcPcsVpOH9fd6TGfO5rn10ZhSaga7iMD9WtPWNOPlueFMKUZPJkMtA9l+20y6X3i774MOMvYvJNJcGaFqouU1NAeVf0sMqRr31NnLeAFQ8za374rROxqZJYtdCggRn54juQCw5P2fhOiMRsORDruoo4W/Sr2qr92/MYAAwawYI8q3tT+LkQLFGf9QNI6OjaTJjMnCD+u35t/hKILJKHd2q38UTAouXs4wDyC/1BziJJnKVBPaLMBgmjRRJwix/w4yCrKaArrQ1JJgZhfyLdfrIQZ486tdSTUH9oYSh+wuO0tLN8Ral3kufZ4totgzTzSw5lh+pibW2jMrwOzOdx68n6cxRtc/wTj8QDxRC22PfjblGACzGshJQFZs0mJRPOl1U0JICfdqMKtw7qsnhEiXIigbJM3nPBsUyo65JrIs3B3LEX5p0+x7zmzBM13qhP6lllFFn3anNIjwiCpXk5iBx3bguQCgCASgpaDV6jaJd//EK599l0W52tiYA0pmyCremGowmgXox0Nk7PNDKBWwEKjbtyAhj4hkayfvhqXO0FtiqjJMKLy+gFhLmYpyQJSgi27ql2ZeIOaswqBJbMqWKu2ijOAXEd3JElmr9gSIZ/j3vh26fpd5igYMNCZjikCAajO5Bf+ea09Ezbi8xjfF7MHz/XBXknOYkEtCMkI0zlYJiRQtdPdaExigW/XqR6tnju/KaJmnB8SXtmmwSch4tmvhrvhqSNWBGT2pPP7R7fgUTIVhIrqjZxgAXfjE3hhJ86Dty6Jwc1ww8v0wBPE9nhUb5ZdHP6+3KVAywQAzSxa7hiCvntYQoCwZPHvycLjetbvCKL/1jepWLhK2mEMjFNrBkiPTl4JXu1uRDl+ZXwkYZbFpziySgdXA58XRZJv5US8cA0ImkhNwwcNBJYgGQfTyxIb79uZZUcOQjLMCwUVbrn/rs8Qw7AEJxcVoVnJsebvgmbtFaJBcoiJHV+kGZZPFVlO5yzMAU2nyXfm3Vj3a6lnP8Mj9bFBk6PES0+BZsafRSvq9tgYNlP3SzAuAof0LZZ8nFZkHiYGTvsq/dAAEM0SRJaEUUPKN9X34OPfvuDUDACCIRks0IiLg51iB7/PvFkSAmowwZkFyY4zGNgvff72gwRV5sEW4gmVj9HM82ksdTrrHpnnAMr1T2KP5DtzdW7QpsYRU3LmI/hbS44HvYA+ep6egKMDNaOTu6gKh49t+h+1z1zt22arLjuVqwWxq4k9i+MU+55+l2A8YtNDHD+Jz+bBrRvsguQHh6WsFGiIr9EQjEphzddncBR9wewRxgq2eKIo1yt2d+ZTkuewTXgxou21zlL0uzGgJyazETsKt+CB9iPhjyZXyiSO63SiJdLkrUzkBkDkcMBtF2fvGCZ4jCTNLlMGhmr6uY+Tr3/qDpw9BfY434kQJjnh0l9LiVq/8KRiTS/IMl9lU520nkEhJp3xSzmXvngT4Xem/jpdhNVFQgJ8Yxbkj2EMI158rU5HUxwCEd66+IKj5+PpgpPcKE4BBCUhRB5Z9j32Rf6Pbo86s6jbiJEdzXvVe+UfFmLcRXJyMdDhQoqRF0M+t+HdEhBcBKUxD8sINsX9ihQesF0SKd6cyFanRWfkXKOpwjmrsRjv17WwEw7aQR1x0YTYAt/JWNld5L7RI4taWqKfL7Y/Ecms9cPiHL4LFwvkgAhki85/ofA4sKpL1rekFiESGBMZ9cFKovkgWWxDFhaII/DQd+Ce9zoeQWhTegxL7rDZqPhmS5EWBGL5qe25JsqZ4IJy6+viZf2D5Z5iP7Uz8IyNcsvwjFUVU4lhS/yzbAJSwseoe+Uz7b3W80b+3xDdLk2GiGTyqd4QzjZG3rB4BZ0jDwpXHmSTWxMmqV5f7exHX7txv/dgZYCjHFGKi5n8GtVZd/9bn/sG1PhOKrlFPoJ/No2CCCQziL02NnMo5eiN2Ehk8odg079qegIUg3o1dNTdmuCg3sLQfknL8hCRNjU8bt/bH5/f59/onBBqDUwpipikM6x2xfZ1/+w9Us4h1/bl8ymPevY1gG9nKxZqsttDzDfl38x8ASTF7JKrNJ/0MMxzvzS+b/NtGnypeIviJUYYNrkh6UEJfmg7sYN363Yjgdpi3bq7khFnBeFLC2gP7x1qnyI8KPxkTATzXA5yQCMIFwSy9vb3RzIHesySFMmJ//vr1n//1b87e1prs5Lx/0jszqnWXLKKqWM4AmEpekBm21M8RAibAKMbOVJvAqIStGs79/d55AOyM0dfMcj5Rc99+TQ3u595ejM6QJZOUc1YLg//CA24Hcl5TYGYW1SvzXI6hsxud641z79AiHXp+MzMn3/Mpv5+yHCxlyjaJ5wG9Uzb5wkQ6LJUE9aX9UXIQUHTTG21Kf/z7/bdqjnaJUcUp2eQlXMzGo2uaptSVOosV/XQ6zc0Y0gOy7Ph1FJs9ySwH+CtN0/RG0iM7r/F3ziklGB2nLEGwNMkhjC3xPo/xnY8sex4NioxEfEt9hsiAO+G55IPB0iBoc2bNGQCmeh+VO8eN6tO/jZPc0kSm7H7KOmVFHpaYeLfwiP6Msas5cgxAsimqeKvmIQW+uX1yiajtUeivnGERMA0GuBDVh2nABr095pglEWYTbFLET9Z6MiG8p5TkPEWwgFm1N9+tVQDQ5dHt+M4hKPKWxZpLlARjyYgT3T3sDkRN8/74/rzz0SUR2UgBp5qlLKtsfK7kO/fk51eBWFBKeSUHT76RxX3EnWdCbXE0ychgn8DYsRwp7j/7wp8CSdFEiEkllMNAuEzdPKNHrRcndxDkxJSYCKNASYVVi8UqweDulIxwlenHEJLzmTH9kieymAlWVFdtfxNgDBmecI+FGiaklFTKOopbfuFzd34x0MNiF/JiWaxrEOtXenz9hBacGIu+mHNe+5kDN3niXREtbBIOABAkHfr36f2ff/5SjmRPReLx5RaYb+LkYCJpoE6nfHJ3+S3lhE/ibBKsHn3rEmpVHo5qyfZvl/7u/qv+Jk2g9LyhEMYENNwTsbPpija8Itrr/K3cv6haR+hXITneZGTH4EkEzxcbquPrJoZ7IJauGj7aM1rNqCEAzISBpahGmZJj6rduk9fimFJZHgbW++OPP9pzm11Zkk0pzkMCi11ZUkqLOnuFwUlG6Qh30cQcu4M3WyKOZ+5xJClFBQsjafZGkpymtB5rdwLJegW4HVk1f3ST1b0R2ohIQVmeVcNlPyj2c/dejbGLY3GhlW8fOgl7CPS1xtblNj/kCGC2lMSfbZlj21IU2Zbj2/tyAbqnoB81EaDFHNhMQSQjraQzAxaxmzCWFLeINXgP/XzDYwbg5/ed3gRzPvyIiuHGGHV4Qj8EPXz2vb4PR2y49joWNlLp8rhu+U2PBQML9+cByACf175lPz6hD1HnFnQrVF8h4IUcQl9DP9lGKsob3nyttvyYzhwofDbx9LmfeDPB2IFwa4VS7dXFcJObfw0T6kui0xDIsxJWSkmdo5Vdcs4LKFn1ACzVaRW/DKFidL2yr9sMJZ9dgq03fwKBuqhZV7nTFPZ0+mvop+/O/rQRA/21BnNJ3uVBUs7uy91xz+2QRsZzHTIzkqbxMgBGppQi8KE/f+EVUkqxQvQdbt22//CBND4KRVc9TJKmaZJky8fpzB6kJ4KCaiSYmcXrA9jay5FCKWgKcLtk6M9HviFJr/TQzNAPfP6Bz6FJYJERrTFm4Jxg/SxsmaStrezoVHfsY5m4OYaxaDPh/bCTBffAOfQEMMhdlR32q1JuGvp329qboM2oTaS5rQL8d0AhDyHnTDL0wUYxN6SfuHnvaLnJbb+M0QP8oYxlZux0zvarcz8pRNmt/RHWW1ToagwAQIdvpj7oGoYtDVlXu6NfCPFS91uPm6K1t+7qB9qMkfWp//Y7d44Pbbp09xbNsh+pNNDrwJsCaEz7KaVmSev58dxte/vo2uiATgfG0q48mJZKw4YuBaKKY5vank5drQGh/Ubsd2iU64tZYyLrjz++7WPIZierxYErUWWyceJaW9zPLnj3h2r+2Maq/QSiG826rwJGiMjdzBOsdbz/Dp356ugNVYNnZVxknyo2jLby5VdPadKD0UZEEu4sM6N0+E/o27WhJEj8PeepVnO8+WtWz0MRvPcwGW4rwBd+YGaGYtiuU8ClB4S2bDSikGYk03L3PPuTSgyqCcrF+9c3Kc60EE+jGRh5O9Rd0/9kb/rMF9CXFcVD4lh20m9tWndQXBpF5k2Gn75nvUExiBbt9+kseB49M56bsFJK4bGc93J/NI6Uwq9IlBDzYtZePhvtq/hVbUe0waIP4z6djXkxM+wA0ZJQfesG73nQNw3FvW+YrVjr4AReGhHuCq9oz9pP9x74FHqOfu5kWwX6ogZ3DftAaf9hKBOXiwzBYiE9F9vo7bhthxbnAz2W+i37k+qSyzx9ENlFinnvXVpu3pGEH6GwnUNCuBQhAZEKpSVduA9+BgufW31yzgASaSwZPWxF7V+eD0NS9RpBvIduXCjAzZhkdjb9bijAZtYHd11YIyUVvTelpgDHfZKkmjG26cBhEl8rwG0xttE+MYduDtrCS6M54q5Rab4GdXh6jw3DF606eU5cbFjFVw0B/TuGOhEmKB832e7CY9mvZBVnfxIccc2cQkE5a5X/Scs99v1N1r29VsUbcs6iqXqAn05UgS4ktfh+h/c9h2EWuvDn/dBrvzvpzwMfonDimeHaydp/DkPb9tzUG6IXLW57Z3We9p0P/YFAW3w3iWFXI3hNY3bV4Htg0A5ue+c5EGD5uFfH+i0kZTh9tqe087eaFd29KcA3ueE3MfUCrkOQokRCJOko3o+lHZR1l+CgsWw+IOwxQZdTxFWqdmhVWyOrVqp7kAaFJx4UselD/h7o2ZmLV/hsIb81s7Z0O4P2yzu86z7XY3biwkneiyasiWTO/fZs/9f5S+69UoHO4HINPd8bjddak8K1G5OSaTTuhJwdnRPWq8tTlbsbaCmF2s+oxSL0JROsv4Mw7EuIFq7Drmo8+e6EvLb1N6xt6MY3xwX91WGei88hBtVvJK3zF9y7Utfg+222oUMZ3idadIm7m43JaYYreV0GjR7fX1+GBrSG1faMGUCeOBnizoVxi3PDZ+mZpHUqa+A7fuAFARwK8Iug2HDNev1nfVmvFF2JT9Hzh5rcWjRSDchqeC613buwtdVsiqBTAAAgAElEQVR1WZIlC3/J/R4327BefPntRYjlIsUcBbmh2C/muuRR/KxOknNuua96Bfur7/FdbIdAK3JBbsGJCGaePU4XCa5nxfaILsHPQmAvah4XOkk/PL1O2AhxGJ3nLtg3RJvUsFqSfx5Yd6I2Ugk6eYem6rv75tTWVohQ1VDi6nfXq/H+M4WHeai4bUd1fU0YgzI/wCM/c3WB9lwWF/TPXTcs/je2thuvOYNUR71PxGgy22pY/z7nmlsmpdX5e79e79gfpJw7P/nAF9Fx0MytA1fOJ5/EIP2i3EtCwLza9vUOfyrCArGQUg7++hujXxqGiRerjVT8vAHrVuhF4pbVctBqSrN3nLLrVhgUhM1N0QcGbOrAstgSUjaitnqZN1mnwtPpGg36T6TPKceOvtqaaMrv37//+ONtWB2FonBGi3/9+pVz/v37t7unjaKaBfFiqUY+uzuFObVsdeIamZeW8oWESkbWWaxkiGaeaFs6cVMdeLM9F65MX7JntE0Lrf1Rloab+zM/j2YXRJ3WaTydTlH9da0FPR4t8zO6DjQzClnIp3CnqAXSn4vAP/cW7l4dM8F+heRDhRmG7LmrRV110QfOBZdxmswYXBMvkFI6eY7euCb4Z5qmZKl1YFCFdabuQFO0FqHRLO1DqUBT0DzqbB6k+iLf7YvvQVKabDIYnKD39N818t3nHGDTZOhmlQHDq93QLMWl/R5AzvnknrOL6DkX1w30g3E6nUimNPPvbScTrQzG/Z/9tP/ceSxsVYHe/9HPaSktpq9r7onKqqmnvU6RHpbFhn5exSYBLztw3eDnIq3MeVyduQbDC7YPnt3MojR6Y6tN/vpa/NVmP+8TsZvU3Xvb6K1wjj6xDHKJGfW5CltMIJEwsZ0s2XGLVhC5JOTuEQE06BI4T58DYQ2XrTunSrmjfFLmupXBui3Z85SI7SxZj0HPv+tGrmFd6em+c9ZzPko/zOM1TVMbo1stkM3VF2Jnztl9vyx8Pc5O9TJIDrijEHjZuGo4X81njbaXtv3p7hnqSyjvYT78oA5wU4mb4JVXNrAPbQONRQcmbPazQfLG1oKH0VNf6L5VLG3TaBT+vurtr8C5EVpL+ZfH8uyE2GXNDYrpV+Lvg53vdD2hvBCiwS3V07BIDyM+CByth31ZS0avE8rSKBzNqwmQyPpcOoGZbZek27M5qjG1XGOkSs3t1oGnpWDduhd21hb2eLCm3Is/14to1dznn/z+fTKzt5TWvYQV1/B2AWa9koOLfvjdYmjvAxrfiHYQsHaIQUcd2O3yr9pvN5fF4fygWg97+0di3r2fZN1Fa0Hi8vWBobvaZa0s3DVW1K+BNcyoPvfJCt4F3HvO2VTweha+4Yz6HZxTRM+dud5ydG4xOodyNy5+Owt1KtfMvbc0uFy++QPQG+DOSWvr69fY0B0Kk/Zl5+4VLxkztneE+lPRy4Tqhs+KoacbyogsODNeQ/nMpgDvbctqUYDjJfodvzlnM4NZBEW1H8T7tGWVJHFpNg+iPLnDbGry3ZKx8xUktWbpemZ2QNVHfnizT+Bz89R5nL2DOzFHYTUFmDdis017ZGPmmzzirugntZjyBttSR1Mg5yKu6oB+aY9VY2d8eAHV7wrV/cAASGYAQi7J1K81bUQX0QhVw3LtEO+iU1ijiSKFZCJr+IpK8rC+RFN0L4uS/BRsypQ9baDOb14vdveclfMi9KBl5WuxBr0t6n7Tt7q9W5o1c38VSm2s1vf5DRWJc+LmaMDYEzbnXlTmKl6vj7qnnwC5DNzAVlDAlR2u6tMYTqqfOKt5+uYC5fVYr79tIdi8/tz5/j79NdM027p4T52hX41uqF3fFqp7X3sv4q2w+dZNPm7Peq51YJO0zq0sZuZLF86HLV/LsVj1zGKu6/7XKyfroK3hKXOXrjYJPgXXd9GVvypDAE1jkstbrtLqYrIWIuUOuvQBUM2+FP1gYEndVIbmbF+zS/jcb+Pamzhz1gMcYm4w+VRXSnePpKqf5aheFWlnAGAVfLs5QWDl/m1nimmhOgbPyRzfwVpK+PCayxcPF5CM4I2+/beik/VUG2d8mYftiUvOlRgIo23ibReUrlsuFcPP1wLQq6BRe5N3yziq2SU3/PwDRGS1NFWLy+Lmp9Op3Ydk08la8PBobDrvlXo6mowSf67fN16nXdl3bMx+YY1il1jyfmzSa785565K3o669DIkhfB8PzIYZD5Vk1B/vh/Np2Ceqbpu6JtEMqVUyO98Xw2TW5vBhpVi4OVrVqvLz9p8nWdhGO7N8z0+bG3fgRTe0nb2+xuCxYxYZ+89TZIN7Dyx9+iHCwTWROQ6JrtAdEMfkTugtDY2/lzdY1rFr60l3l5WKd8uv+qvaVNB01LaDXsZ+1loHbgWRDevXy/Tw+f2sqGPTQbr7DWDjvB9NLJsks/uJeXboNfIZqrrau7EBeeCVUOSvN98ciucVYCbdJhSSnWXIJZOlZ4bzxL06nSUH1VnlyofjCQ9e5xqj4tnhJsUy/lRnSI3jwpvuZJd5qVBHAHmyPie7S8QgaVU5Owqt5WLb8TDrQHDi/huEpFfhlpG0iFxUSwP/ZWxm9e3Z8DNcbxAt3tDL++iK7erLWq/8F7NntcuC86S9J5zDoVwcLzYvL4i+tk2dIyg/KeHuLCa6rjMmdcuKLWAcwneGdQJGGu2g5IKQhLdp2mKq7GMiLl5s8Oc1ypUvwh5AmUP4eh1vx+if9zdtSMP8FIv3fZgDEvGOQxcHJ9/TW8DYcdMHgZB1Amwa9D2zZvX5HOv93BYF1/GxXq73fLIarFxn1pdoojOs5lmYctr4vVNX2I2HbY/b3v/76M1qUX3PIaLdyuHBP/2KmU7HxxcRH+fY7KuuW2as1bNHkt1sV3tuJjW6hLcNOdYxxslD0/fT5dSaHHaXGLz+jaPYW3w6lTfhmSjxXP48wavsJxpX8gk/QVwJTr2ElSO7aXq9qTn8Q6BRf9zvg92Q5mBswowl5aktjZE8+NMr3xefkyj14FMy5ky2cwXD/eUFBaF4baSvFN47jFl98Pftzxmojb7tEdvKsA4v7chNN/+J+VutyOUYfpej51mHXN3e5PWSm9gbZr9kBS5JYy+Iry3On9ShG0q9Lr3Ar0Hj2SW9xWSGqNtdH6zVD0Ja7W/Z14tw0wGz2FvWZhXV5WZB92L308wbNrvboXCC2CJULiqwPJNniUpLyMnsRvWLvapFTX2pBhCsF/MIrted2JvVU+GbSUa1uv409IcvNBOoirA+zev9DEavebw2fust8xUgQy4M9n0C26T43cIkrGdLebAC5lNbwVJOY9z3R5YODrBlzut1qJIb4e6UhK2DqxGT3WZqxqpBGIUvEvV2ZZpM7OuaOg5Sem5aHLvlSw8xN4P03u7z8zFqJ6AbnK7x1s0A1avB/1s9PLSWni+TPDrgdsDX69xyQPcmv6ec5YiMUwjteam4JY7qL9Po3gHXLKuU3K9lSQ5SCaOexvizucUYDINV+rWilwvtTQ0n+2gErCmSivrHOsd0rZcKBtdxBFwfsNIi6Ez++kVe5orP4VrNv4NS8KaJF7o3b0U5J2X269NxKP8V3tp0HsLzXOs41eImmMOwNuabL4DLq1sAADvtxSsib+9LLiogFq864Sk9/f3tnh713XpRiTUHL/9KruTLr0SqnvIdR9P2sC/XoqZ3cv0+WW09aIPCFdnaglXZgT+eN72WA53a+IjYn1RcaywWpxSmqskNDjBZMPJuG1JNgEN8vd9uuRbSKAt/WYXLrb0QV5PYLbiA0vvxEX0eVKuB7vgSVRH1j77eVCA77qXAZXYBidKcMfTUdlnu/hifyb2MvQIVj03xGaWQAr0Yh8zAWDPgLJuhZqSpCid2gcRxKa5cH8Oz2Jt9m3F4C/DNKr9F+gq2SjPt8+9fAKgGdxXy/0t57FGlq9olf4C1ppXD+8FzsvyZxuL5em9la84u1rEFjjWPWnBn9M0tdjLWVb7aMbqFcX+/kUlbk6PCIq2hWI5LNtr9IwR98RNOb9JFe1drKYFF2GgELUEBZckqmTZadfjokI+JDXBraWQISQ1S/KaN+l1AoB7nNPbe2WmP7P+7eZXO0db0tqZ+NMxc8c1AzowV/vhXPCtN8do3OMxs8NWvW7szDJaq4vZ0K5eQ+unl9Ay+jmnKR75/dSfadd/oVUO2OroOZ/cgzcnM5EGcMW/u0V0hQNZSvW97vegIqFG1nEtzt/nsZ9DtC13GdR6kZQuJKZal+vyfeJDY9uJti49ys63jI5EYyDKOmXFEETBIQMNBJS6CCARBJ2Ahzr05F6lYJgTQ/ZesltN4Pd+wUgN6O6nFle81zql0TgAkbI03VM8KNpvF3GDbnHZQ+dIysK0JXya4IwjU0ptD/M1t31bVUmIlx1ymrRlt5YppYwGKqWoyBBladpK1YsHTrQjn72numm/rbjJ14TzQfiZF2jTMOnF3HvDQKQsQTr129T3scrcFYOovBnTdAHrJQl7cpM0TOfIhGmqRmYymYD37O/5d3dFsS7jg/XD3JEhQBPNZCSjI8tS8O5ZMktgFLk559nbih3qLEHA3J5r3INXQsoRKubuFBMtGUka3BW7JcvRABCCQrCo7NqcT9tdlLbMBzdkMIf1JCgiy0/utLLa9WkMX4Kxz62O1zR+Dyvr11AVjNlrIWg9m5yzDnQXMOdW1O7EkpA2n06xmhfPVezIhzC4gGdrF9sNy9/PVdWa2NQsSkWlF5HdaIjwEzNAXuPu+v5E6T0O/SdBAtPkkmc/eak6aGaJ9lmNP0MwhjffXVn+fsoOqdT7TTS4Ylf2J9abJyLG3eO99P+z97ZbruK6FuiUTK3eZ9z3f9N7z+m9Ckv3h2whDKSSqkAg5Tl6pLMoAsZY1rfEn1lExvQxDJxSSjL+xSN0JwvF2V+rqZNZzWYqOatp2fG9lyG9bh+bqIAgoKxkbbdZ1LzjpdaFgkAfnOiDRsku/jr9Nmqe1jANRV5yDA3nlJvXH1r9diYzy6p9J4Ch0ExuL64//5Qs0KwSoy5p/32TiESE662kJugPH5PfVzUDRRCwAXn/CH/2ZUTGbQ3g/pXCi6vFHc8dBj4qk5U/R1GFgCkNALIC+krtd7tqK9UaXUxMSjwKSPUjrfxgqQNM/9wuOoigpVg3gXEciVip9rk1ne21LmCuNc8VAvrMOhhflJKpZ1YCE9tUJDHzwOM4WhijMR1vGryEIrsdR2ICDmbh8Vp1PFfkFMQMAQgqAGlGiX6BMQr7LytJ6W9QSHhrPp/Lrxv+WyK3RUDCiYeBmcmeSRbbGoKCtMw/L40oMJOgqboYdc3xe0P73aJfCqbw6MFiHnIe8yhZQZzU5K751J3Nq/kUNAu4vKD7f+96TyNLnQx3xAs9CZMNIBwpa/100zJDY4Z3FsuLT0xOp8mcqdUUd9BwA4pIyMU1Z7ax21lnHe8Nd29O1AcglOLElc0Ed+J7ClIU+6pBVBMxBw8kbs6e1L9kFWsRoN56ytj54vOKECiJjIBA/4QQQfvro0Z0FwT9OheKRrOpYGZEQ7irmwRmJl0pJBuXkz+1iGzl/EcLZnSGGP/RKrtEbtV4VCy8UgQxqORIuCQQn6KRhh2NEzU6HF6yfS0tyPbd+rRfhefGacwQAg062Zj8rzccDDGDI65hL9rkK9ljAE+F1vFVY48TphkoEX/b/tVbLKDOz1L3W16EQgw2VessAJ6f71tEVjX69XaGL0EcWwykn3li1mLx4j4/Xe7w54hDauj3Ic7VcX4cpwBjbfVE2tCbG8er4ORKNYMfcy47qRDlF3PD52ED3YZb5h6K1el4S3gKQyOreVEozAXoV43z29iJRUVZZKbRccpVdq/mvG0RXOENUd4jFb9BFJHtMT8+huaE5kuLtVfn095sYlsC6GvRWEmIoKqpKnQAdGpZP1Pwlut2xh895HsbzaVuaINuBUOY2FGEKEUF+LX7wDJp0Mdsu1ijBtgZzUWKAXrnJ+C1fjmRzOMgz7mvLrc41LqvFOoP396v4tFICP4SvdiB33Wv53kGnDNypTsi8k4TRORRkndu4HEqVn/VTO8N+vXvblYYzb+xSIs9QG1rBuy3s1Cphn5niv2aN3gmn7jR8BA0PMVrUjaK+nvw645DFWCsBXdNBHP3JnIwfEtaloVoqML+F/90Hl0iit2vHUnHqaChLhrWGNJ1QWvRJa2B+ZGrxR+aemMR0VjQ+xayzqpWVg3oHezKqwL0f6Gpmg4pODO3Z2l9g5U54B6SU9gYV+CGABQVYirgNE0UtXk9k2K/0GBvr9vV8+MJkQ0tdRide5hvXGcnLEfblLxqxszz/qIT9dWfb135ANDcz4lXzOejWI7KjnzmnOoGxaHnxdZTNH9qNkwNxVNxSqvfUtUxbyqJuv8jYrkFNfLt8vrfZkB+R4TdIO6QOWcBeU2ERsM8AEvxOFYBxJx+7UuzWqJecKSeubolAvC12vGW2F0BdqFHVYUBzBoFjSr5rBJMBCkSrRRF1NomTlUlRAf51sO8YrHfykPYCdP8d+23YwGtHb+bg6hmqVcM6qeYcTKqWpVCVYUg9HBshiur8Z9qwVElmtUcUO3dG/hUv0RA2Q9bG8s4jsLMqmlSWYFtz22jJ/hlrQtAI1yqnqJmbIOovsIqTxGNDFZ8KBGR1RtXgDeq/S+lW1c8bt+0MSujxiVRyPK1izOzh1yJqrTJ/psjOQxUvI6zZRDnVoPljuYNUZc891l+4C1+rfPsQRubVymPp51T91sqGy7YZACqpMqxo8dGKF/0wMcVK7XWaRSQzkm/DWwS/kIS0h97oppThsofoxyItcl0NIS8PL/tA7TtYrH/GXOTQOnxXk94/gcRLSCrJgNHI5SSR3bUTP4YVbE3/RriHujDa8b80xF0nAkHeYCj3YvCwauoZF7D3f7ZGIoKt6tRfwjbnIjgq8rve8OZcRQjXjWYjtdi1Yiz9adLo2gaGv7p3PRbe8799ukb178x/28DWrjKNfRW+bITBgK/cK4xjuOF1mfU07y1DAABRYkwQ5u2z7dV3C9nIIqSFEKCG6UR81xEDcFBSw8qjg35i1NBNcRUF+anXN2JjQIcvZRHLpjGLjO5f7n0bd46+TxY1YE5ZgXn7ITsXYKXP8F8pWl1DLgQ4sEgxzzXT6CqlttiT52RY7uEDCWFJ9z6s994uct4YPveWM38oCzCsnw+m5vaTsLD7t2bb8CfSHXdYe6n6Vo+C1FJIHqtwIxFwuDqIu94AxykAGcVUikloCsmrWyjsMdJ4ATJRroLBXgMm3upIlj3Td86//n4eMngVa3azm+pb9RxG+YOFShRdY0ygQnasl59D/eviQsEovJpGVzfQyO0fUOMc/ng22M4J3QzyJMBiKg5M5YCdAOREUHOi1+wpkicdolOQ1XAA+aJWKuCKio6pYkas7ihCd8WCseFKFkvGGkBIipSEhEbe5CaY3q7TsfBMG0WsS22CfqW7jhO68QGnFWgYCutFAzWUQbfL95KqmXfNT1ZlDvy59prED/A6qiIyBaUP0LOWsP2pz4X8edudRGZ/PNaHKQAmKhGzKxnqJwU9h5HS8M3U4sCBBGJ8hXueL8NpduRXHVCJ+FaN7mYpDDN6mRcABBCJMgX+0v4S33L0zw0cc5xZv7WiJ4pJAol0ACABGNWCtO1K/3GB3H9PORVdLwhDgqBxkyUmYUJlZPObRFsiDluYTNrFpR5UAVrsNW92tzrw6PqGTjzVHccAw1OlbiY40FcXFUjIiHdr37G9yZnqdG9B0muP8I8JtwlPFNglthadcst9JwztmEFKEckJj+rZhGBSiiyQvM86tXrrMJCxF3pcvWPaDI0SIA5spxJOYPTMHhncy/UgZcPH+Vm1/NRR55zjuWaDqOv+N6bQF+cZj5vYIvumgdBnX+vYhX/RGstju2p7b14jV+pXaNOm8PvoBCOG1cdivNjKh4Zz99ab/7XRieUnKPdxBvnGkO2c3zqmt9Grq0v5S9RB65D0tVbyyI3HnX9oDqQYQHhryCWybK2aRg6+7rtuAdHeIDjErdlnUWIaFTRmozkZH+6hSWtnkCldaoYueacLRyLEidAhAASAFTMcUpQ4P/9339TSh+cUkpkurS1hUwzKWd1w1pur0vETYdqEY4s8vmZmz5MP5zhZgC+hTW8YZVx3hj/CzHfr1dm27ZCPyH+qnlxl4Cq/v37d/VPb6D0+uA/Pz8/Pz+3tN9n2ZIfbePBawvm0hNu2Fz/5hGan9oeibgpOC6PnG3iVvRe235RdkVpkspoZedZ1f/tt8PHMNP6VK3r7FRWt8ZDjmJHMtprgRJPHbBdbi49iMrttkayE3QePJlSSimJiIVEip1Qz/R4+CUVUxoUyFlFMnO5FBNHRcv6ltmjLUt0NI+85HfN+Tb/KaVcMWMNC13loWk5DKsD0xqdt/I3f6J4PlZ0+zLPIbV1tuBPxjaX2rvTpP2/IeHlCrz9isdxHKwrrjuBPEypXtnm6jOPOmo0YIVhAU6wzT/92OH8xWVXhBeN2tnIzxnn6XjTIK2hcRpUFQqRSQslmj1Oiovmu420fITu5NV5VLZ6ncKN33a8AXZXgN3WtVQYGsVy75F8G8s9sTnBaenGU7hSSrWgYhU+VtTCxqa4evdVPj3tqk7JT2IwFJyEN4Ya3+89evvLEVXcOOBGn4+WhfjD80s2HR0db4PG7YPTc8/vwR9zi9veA9vSTZy1kPu4zVdD7Yon88btaN6jhWqgpld4ahjEu72Yjn2wYmeh80pNX+LbI2+MgC6GGf1WISxqE+uxQqu7RBzVRMhBso3aLzYiUDreCfsrwFbusmb/NwpDXc+AV7Hbe0DfQiKapRJVgsmq9xqgmBQYVXJWZmYoM7spixYu36YYoCPfDq0JXL+E09BmFb6HsKWTUxUmGgepK/zln+4DOZlI0CxID3SPEe+NEWfrCh0nxN5V1p9DXR0VB1TFfwme+FxbgSrPvcur0GynMj8+ycdbAQfGSZnMpy2SSdvOq1qjElQ1bVi3b6vZhbsVvlac0q79vsFb+Dbe9dmf6EhYPWL2LLuL4HSO8W/ghkXpSyq2qElQJeFKvCaVSXXMqoI32uZtHYwh+jrPNJnyQ9wpRd2C9eY4IgcYmOpD2MEtdUL1dPtnVO10LXvnIYM0dK5QEQ3Vzhddkd8bql85BnI8ayddGsLLsKsCbCkr8RwJ5UanN36ygmfxuTzxBvUBS4h7XoQRblyho6OjYz9EBqSL0lnvgchwmz/dwx+X1mRV/fz8NCbl1ddWr/PlxU2ALrJ4aK9gPCK65e+5WkdHBC3MMZdbQe5IWNVFbzgSGkRTlKpmLXQd+wgQEUI4+p2uiCjGT66sWuH8iTJzx/mxuwI8mUVVhYSkBDCUCASC1uSF03rSGt8m5nEa9hR+wg2PEHnJB0JWUQEpSpG7YKK2k5tUsXiV1cOt3jvd8TlYbs3x1hTKrmARJ3ZmNI4U04Exf8X4KvJ8ebyjowPfyJHeZRTvgyY4iGqD32g5lrhVP7gtvWr+m+ihVcU+2o63YOuNFzrwqJmZkcsEBm472+e/HJtFtBGgtQ/TLCmUSU8syXwDnX6fi60FLFAPjhNy29ZWSYRNnGT+o8y8TsUb+5WK0jzc0q4j5jvKpXzapAaHM7dk5pnGGxITXOOdDFg0o14RWc/B7ngXHNQGCcHW4gowMFVNeKKq9nQ0vBnhWSpDngp43OZ9TTAGAB01VYuyf974+VT8fm5LW9V+8bwIjtVdDEAidk+v13h08aUZDBGdLQRaQ/GVVfOk2fjtvSxLXHZ0dHQcBvdAun5oG9Srx/VMLC3OCDk195gal2ZK+3mWnHN2VzAzL4sG3XDemkbiem9UyFfV9Tuft+P3YKkA25FZ4aV6/FrChpNA9OjoIkqlzMAdT7acCq0051XEP1IrnN8zSL9IQ8Vb7qWOd8URIdCtRQdAIIy9B/BDUG1EtvrXR5lc022MAdGiUxlJR/lmeVNVlXlFsagAayjTP43tSTPs7ytuZ6rKNJX4862kGflMHz7fC1+VXUqThvlTN13sERbA+VdyR0fH1WH6mxdW1RqF++pxPQ2rXG9mOP4qQ9KZ4tIbZpVlWQt/ZOZE0wbeWLojX/PPsUrMy2406Epvx1dwP0EUJLSG4DYnq+pZq+K0iI6ELfEVdxBIEYYBhI4J089deahypuUAu38FGxuIf89z+o0iNC2ccF2oe3scUQUajR8ylk3iy8TKRjT71/f2KNshCCQAqWZVFlGiRCTAR0oCMGCfSmTfdaEAN5pYM85n7Z/WN9IihGc6cC5KvQWlyLw9Y1SVqwJ8xj0lqrj2FDlnLzw4DMMwDCmlaZLFgnEmo0NHR0fH3vjMGcx/mI0v5Co9UzpJ8OMT0PCOiPtFhShVUOObUrjzhxnFQM+ciJz/2tzap3FnUpV5e79oaG7U4C46d6zCFhWqXGeiQ6OJvROsUFxaPO+XcqBPx8yd05yg+m/OAIxyB2aTk11ajlRsR5qSNFFXjwfDfZ84GR2nw+4K8JIte/S/QiF648wzQARKCTwUfkkMwHJe8ziqUsn7EasIxbcVzrXZqMcIqlBCVijh7yhKIEXzuUDtVBbzKMIfHwVp26DcNgiRLKr//M//EEEkE7Oas5ohYl0ZE0RJlYmgGYqPROPfkVRBbIZPi3l/eEy7QqXE5KtCAMmAkmoiaB6ZSPMIIH0MmkffKAdmCHIeVXWZb+aNl4nofGXdOn4vlqYa35EakX2r2vyju/Teu3ojGN02/6+ecC3w8MHDBzjBgoEIKqrEFGaaLyi0mdlRCcQEppLyB2VOKqJA4gSQUobO3LMNpg13+0Vbph8AghWLhipUNKuu8tz6SUqlcfB8SQFGWc9YW+aEup9pGJ1GKo5uLKWQJAUASA+OcW/69fG71lFmoFQJLadpbbfx6PjPBh4+siIrpbJUNkQAACAASURBVGGQLFYEJ6sA7E820e+lCJlqJGMMnSBOYnIts5b+vqLEFGTT9f3qNv1OpyUAolDgM6uSbtOv/ZCmi1NNBg53pGnJPT4F29gOFfzCfRJ/eCF5MhFHm84UIHCy4R+XA3xRNMYhreW7gJkZ+IcojRnu+NwbVxcQ90Yiksqzo/t9thhmCvALB9vR8QVijMarx/IdxHZlqye82YZWok5Q1IO38R3FYpmrJ2jA0+9+Hv77KGz98x3r/5TDn8a/haWz/dKwHDeBsmo0T7wBZkEW8xBogVoBWCfh527L56ffZkKWZtlGQ17GlVxanpwef23N3zBo7o2uAH+B2L64iex9y0inWZ+0uXb3FJxOjHic7pqNbNmxOdq9zhrZ0PEbsRKBsqFRcMjFOjkaxWm5Wb2Qvz4dMTDHvzT9564If5zY48RjFP00z598mxfa4Bv80Qh4Wv8LVff80zUbXvAAI4xc3qJMUZQkUV/NG4iRW3xkdTd+g/3qUSz1hariTn9tzl9+v5A8uVKO12YgtQbr1+5OXQH+Ghoy5mMr4+WqpUUa/RXhu3O0QvVM11XYXHnyM8p0lQXzBoyt472x3MGu5WxpNuHVvStqyFcnSarFkO2fb2aHbZ7O4C/uzR72KWikECIyBXhr/Z9NgSzjXByv/qJJdMZ9uaMnhy9jFylxnc32BhrD3FJc9Ad/g4f9Btxs11j0lh4Yt/35P321XGjra3r1YU3JP0NwR1eAv4BV51uGKMR1ievLVY5U4dKGPel///vfVw/tFIiv2z6tKtgwDP6nrOLLptsNOs4MK1rgfqfL7WPNgOPmjNZ2/g5wSSg+2rVko1W4cOxiYtR7sRCgr/68z0JZ8PZdi/t3Wh5WY+XEobY+flWN3oPyfr0O0ht5SkVkHEcrtGnylX159dB+hGh51NAnLJ6AOZm/bKyvgCmE8anLhOSaPQey06L4baeJSEaRJ/NJ6bjFx8dHNFnaIs85Z42Ootcb3LsC/DUaQ90q6b4TSXslZKo4Lft8IZyAbbow81QgdDV4k1XR8ZYoO1v4px25SpRaszXNAzFmaWl4dbTVs6BzH+nCpXBJNF6C24LyGzzvs9As6NX170uEiM5W1tb3H1WNzrDZY/H7vG5/L1aH3OWrqy/pZvyNB7gx2B03rJNh6fDXugb8CNUud1HduJw86W1EXZxwswjCann5yu8K8BeYxazPw3LqGZW2r7Eyv0CMzKmlm3v88wqafdxYmvMzrb3a32RZdLwRoqdFajfFaenytLajEnzSLUBmlVfc2VVkCEuQrFoA9Fp1VVewKi6/h2K/FARXH+q1HoPXosmwsipK7knhMDMuQ2udKauffLZZo6oATyp6wMznX35weX5Ka3j1oH4Kp0daRHBgTrNv8LDfQLNfhZeeGt+4Y12evMjseb9r/2LfBy69Re2024ZO7F8zqCvAXyCaMbCg4Yba3wNmgvKwnHd6tJ9jacuMXibDvI7LK0fb0XEby/7eVmH433//ffXQ7oJTnAdiODRE4k1c9hrywybWXXzXR+MZcLnZ99iX+wpOCNKq+jIzc6KN9Y8vpMwXwoZkHDMR2xf7k49fMHnDrr7go4PBcc5X8xAadbd5oigpGa7+vI/ClEAEhlUYropNlwUI+/mb8uTrHuFRxCXhVXL++ecfBOalNY10HMeXDPIacW4vxFYmg/0z2r2OH9tOICLPNIsGvEcvElXoZQrE2RCNzTe4rFbfuD/aMAzRQ37ndTo6jgQpEjEpSOFhHc56h2FwDg3RVTbLZ+UWFkxoOsBMnk7JBOgoljXkuRRGT47GZfQe7iMsHqR5NVEKfNEAD4JshFrY6k0poRoLTFw2PisibsAaiFmRQB88W/9nTmowCXgYBgCssPGzIqXkubL2BXXjilLKq4f/AKjWQPaRu3R0aTht3thRo1J37OiOQ/P4wRFSPLq2aG1h+0+Aaal/fHy8gTzpPDc+ezzBHsoMAa79NlN3AF10D3DHLpgRQD2o56viGJX8aGl79bg6Op4J46kNH70QQ/02Gt1JMHv23zADHW8AkxGFWnM8hVitd4UZsxDUiSYz63JqcMe7YlVnc2dSRDHXdv4D4HW+sa4Ad+yCGHmo0VX+2mEtoIueIle0K3d0GGwpL5nwx8eHOVgADDQl5/zvf9dDnc1qdbqu3Y/DxWVzcScuBun3K+Df8TZYUvGf4QPAnz9/1GvUZaEh/R0/mUtkh6NZ0s1fT4itERZVwaJXBnLHL71j6lnHG4B0cgJHlzgxkwKimkUVEIXq+VLyX4boInbbNO2fstQV4I5dMPHpFucSN4m4iUQqG1YXizveCM6SfW3/nhUeFWCvKNsknXZ0nBkxkt8+TXYeOI1UAgjfTCG0Z3RBgujNa690vAGi9usBwNgoXtgREaPo4eWvdd/im10B7tgFKSVLfFdVCYIm67nSXYRmYVSxoVFHxxvAJOUsOaU0EENVMIVDs56tMcpBcDtXF6M7zonoB/YEQvOIEjSLkMxERqPlWOn8WtTN5hKzBsD1iVghVWuIOeGdZjtOiJj6ZzKw/8nYTSFh5sJ9YrcvQMMnAKr+IvvnG6/4VNHw5fz3v7vetyvAHbtg5gGOTqd8+3dHI1akiMJER8c7wapNJGLvbfbe1min5fiYqgp98wfveEt4XTcACTUP1hnWm7IsE4JnNUQCoj587Lg6Om7Bwgm9LuNWvQnVh3OMSN8hL2kVNl1e4u4YI1dXgDt2QVy7btRRVT5ZKdmYb+Df9S0KM3Z0OEpOPkKKu8w8RbRWfvadMoHty2ocWg9O6zg53AMMAFrbilAN7K+drt8pf+c9nqLjV8FDoGdFcObpdQ7gbBmBL0NsD+Y2+lgNeyd0Kb9jL5SSFVfgZMsafa8e0b4wxeYMn++B8zzvVrMimhc5N/wSK8+SnEtAisKD0N5pNXZcF7z4D75QF8Rr1exWPUvHj/y5iN7dyJEZ5LOB+ZNaJa3zV/zqeGNsdRKJB51+vyFnvoExegsukBwZidk9wB1fgOunZSbEnIRVr5GDiP6Oo/UnFCgz55zFUn3OASGAq+MXyjAfNUpoGUAAbz/jMmfDnmzixPtvWMxTq+qypVbPXnRoI2Sn2MhFD/0cmLMqEwRgQla140r76mDuFYEzIbWZEQRW5NFK3oxeQ61gN0n6T6IRl4gGZjAnIqkLhoGsCpGsSlCbBwVZ0FMM73nuCvl//vlj18/V8Kyq//77LwDVnImEJBGBCKRCEBKFWjYhVAAwhEAMQV350Q9MJ8vhB6SSnQ22lNa0zqiA+Lu2FmwEaB6ZCJIT4c+fDytOYm/NZuz/+7//nboidxtxx4Eglf/85z9UcwVr2BT+/fdfVWEIEYmKQkFint9EIIJqlrKh2oZiy32iDqsodb71LIAxXBEqac0AQBh1JCIr0qGaocpEDAVB8kgAIET6P//zT845ESP0B/7379+sdqmzPW/HOyPrCAIRjfL5T/oQycm4joy2gBMpoKQ5W0pw+K3RqlROJKoEMJEdyapspHEeJZhUANSHmAv2JkuQ1SXgImCLyRUEUmguW5MLYyoyqkoiIrKeqbuHfHcFuGMXuBVHRMAkIkKQnIeTOZ1EJENZp7qaR9qffo6o3JZ/zkfemCRfOPtsCob9w5vQ7LzBuRxp//RwQa1N2M1Ag7XQd6/ipqqmGMeAefvVPx8f0S1jf031SZWZLeTYnldEMSUFPR2TM5PAuDfd/jz89DDwwq5n309WoKDj14GDldlK4FyDDx0F4xdLq7QdMaOzn9njSzsuiugOjTjdbkCPRSlXIfuuMw+QTLoC3PEFvheG72pDzlkJIkKSdMyjnkvIpARTgAEk4qZw3/0wK93xDDdmfJUEsBAhZtqv68B4nQI8OTxrlpr5Vw+47zJejoiYkynAXqbCB+bz6R4YhH7RsUiD+42XsUw+/+ZLzDmX5z0dB3sMZ9OWzycRdHScF51+OzrOj5gQ6yF+WqKYTkQzy3DOM43ua3QFuGMvTDoDVESIkCV/WEPwc0AJo2QAKqb5wMvTv3po98I9wL5jxnqh0TP5WrgyOdNF91eAI8r8EDPzx0fygzFAeumbLVGIzAA8QNpmeDVYIKrZflnUPrTyuWIAutaS6+jo6Ojo6DgG7g2W00U1lGoaSg94d8+DrgB37AIvaO5etULDoPNQCAFMDIBp6gPsvchePboHUFQ7ENXuczFnlYOahxcpWjrvuTqF9Ow8zbPgZ1Ei4lQcv5PXt46NiMaNV28GBfcST2nDsQrLQsOPynBRg7NebnVFHGqx+Arnyqbo6LgCzkPCnX47Olbh1nNUl8aZreRe98Rx0oEu0BXgjl3QiPiuABwQ9foYEogIl1VIIkwlc+3ODrqyterePBJNAu0xuzmF/N6ouPo6JCKuIzGTzY3rAJOhpDzCvN3Xlw+VUopBTR0dHR0dHR0djqX87I2UXjSidbjSm145iu/jYQX4ZOrL6YyIe8/P3s+rBF3z0Xo1yXuvo+oh0BoaoCU+F6WMMjIzSqVfsjE/ZGyThfXLoHSEHYxBqEm/ntEa/jrDGSyITZ7t3qBa8oqAmPQrYgVUKTpsV4flxyyMwb6XeVbVB3mSeZJPZwa6G2fbb38brs5fzoZH5/MN5ucNHuG6ONu+f/XF8K70a2JSEyx2BvltCU9pPFt9gXvQPcAduyDmPboe+HIn5BZojnMO8jZMu3N1jkL1JjvhtbtnnNiYt3yAkcBv5zWrsPAM+wg9yxdrM9b8FiG0oZlnU3GX53tqQPQ2n5Ox3YDn/Lz2s6Oj4yG8nGY7/XZ0fIllKdZziqZXp+IHFOBaQuZcshrN+3weP4Dm1mkh5WMubfsPG3Xr9sqe/rqQthv5+4cYhiHnrMzEBKu6Xi/MzN5PU2tlIApaREop5+zal78aqvmWOJ8F1LDUFXXeEWd6g3aaNcghAtE4jqbPABAoVEWFErMcEa+iqimlYRhctbOpnnppnIZgoyJ6WB5so/3aOxWRVGcnnrnq+b9tgl0+xXIviufknM0L/fn5OY5jM4bz4D//+Q/m1Br7ALNC6BSfqtljwzy44LoOdgRDCdZW16k8GAekpTXcrbljTEyIX2KMye19Zotfr/7qhALoFmyoRsU6m4pz0W/cY6It8irz/CWaB3m5/BwJSq2q8DmwxTG/+NXdW9Bz5eS90dDCtQZ/IdyrAJ956huOeORQG6tMZM8NWS7F4ugpuudG/mVXsePz89M183JIJvkgPqmWHr+M+eZyHo3rJ4jyUwxzHYbBVF+twdKzn/GkgtbZOGicl8PBW8psSXd8hULv8Yi12azHSU/xKVg3W1wOMXYDC75wzgc8YFTNLuF3XEZYNOfcs71E3r0lf8dzbtQIOBuihVHDkQTCqeiX3oF4l1gaYk6C2/bc4/Elna4GWOFxaTPuGBfCJGkDWPMMvxZXD+W4VwE+c7ReQxuH6cCNUqq1bdftEX6pGK9i6wpP96QtxS+7/sCJ5r25hRkbTVBv4FzkC9zoSrwqWI+WIQygee8mZuSjKWW5HuwNHXDr7yG6qY+5XWuDVxwSef0FGtvZ2bBktMbqWM/VxkzUolJmavCZJ7bB0qXZcISTMNylmxTHznMj+Mb1Gcf2LAHxHofwmeF1EInIeHmZn/PR75LPXm62l9gi21eR82mndOvVR3pfnbQtO5fvBqvWsQshOn69cObZ3uPWbmuxJ+fHpgK8ZRA92wswHO8EWM5P9M3eCOdYSjy3rx8vvrza0xHjCeNIcs5EZJ8IqYzLob4T7GX5GyIi24bcEGBRtaqaqsCx8B7sO0J+3AbxckQP+WGIs0REc+/mocOIlNVQ93lQQ/onFFuvnsjiqwRiop2DYo6E7yGNIneq5fGS2W6EkCY/Red5N/dc5B7379Kw8uPnOAiWiwR7zMigz0e/rx7FETgV/Z4BjYe8iexoTos0qDfjgf2CS0fUhYjX4c8oIlad5GxPYbO8bIN0FdzyAK/qvfxy18kcSuvG6SNuvTA1MfPACWsM1RhSmcbIdwMV0xzxFqqllFTWfdPb4mTGR7P6t7PusrWdzO0t6aJYFaTsqUUkdjk24xzT1Ce2+dHe45xeSnVNt+eEEZ2kUt/xS4WIEmhV7X3J/EQaPxtXg/u+ZodAOF0fby05ChdL8XI01kP/jALczGC68/Ntrf/VJXr8bPsdNXRTi0ZAExM1ADdJbItfo74FVY38+iT755eInfAQtxo5F/2CZlYG8roh59sSH0Ijjk5qnrzM8NqMrXx5nQGiId5GcdU54g/jPxNNKXjxU0iWvyUieZHh+xuIW9x09GRdVEwFtpC6+JbsLZ5trEtsKsANA/Z3MKRzFY7OOlvox2+dVD2ipQsrbdpBbJAxcdT3et8Lmu0gPlf5p2D5sLfN3g8h3i7CtazmT7HqFS4bMLYKfzUIvZFc5/e3YOc08xbey76DvJwH2EWcYxYJBS+r35qZX75AL/TKHErV4nuC8jn26ZldV5zPJeJ+TnPgEAF6S8GL1BoF08OmvdlareK9803MxV9ntR46ODMiBJg8c0MBdst1ed50DT/HjE+F40LAmehX6yApWHLfA74gZ1T8IgXYoTVT77VCmsstTWuGKGe6tBwl3sjNnX4xJ39UA1BzBRF5ocL/c9AZ6zvW8bi17eWi1SP4Qptd8uAhDa8XHiuEQCoeHmA4hrCdDlG139KERpQWexwRMadChKB5ND8RiGuR2kmSq+weQbcULh5v4+t7PBdtxBP+HT/jhmL81R55OeFHCka7Im6dHv5tDw5faUxEHNcDDlRvGtH/tDNP88Y/hynAZ0OjkDcHz4N///0Xa1WgLdDp5Q1UvPaGyUsc4lOKgeNk83knVpXe+E+I7sd/hb5WgDUkpO01jgCad3lwfHx8NGcaQ2yUYceSXxu3ZVoYw3yPgipTAlU1WuSMO+s6Pj8/jWe5oFB3Gz4D5Tr9plReTRR+zsnCHsIwFMNKS8uMl8jPkfmKiBBEJa9HRB2BaMCKUkHDE538PaQfdVbtChyM2bNlQ6RQEJTY6Xe8jvt3VSSw/eosUXwASOOWeB7F8H5sKsAMUkIiBlMipsRExKCldvdaDJzGGK10FNxCb15fSpzI7Fhi6zNyXOfBPkLXgV15dmWy0Q0iVbNi4JRVIKr7xE+uzqGqppRWJcvZQwEAEiD184oQQOv4LbfB9l8zspjmD4BqRjRRm6OCmb9i3zAQX2BXkfgFICC7TffYkOOrzNIZcIN+yxZ3gk9rJWVtwK5rVTGVgEEgMp47cJopDCjV+HcVMlghWO/UylQUJ6Ep+Oj42SaiRMw8VXKyeROoSSyaBUwMsjnMRAwS5s///gUTKeyvxrWZ2SIlseDXuvDAE5GqQPfdsp7FNF2cyCGE20d+Bsq1z6jYGAnbsHmjPqX9qpklKh2VoFTyIg7GUr3/M3ysKPz6MiXB7QsaE9Zet1va/mZ06sX8fWx2nEFS9pywB1otxlToN9W/YK1yfqNjD4KsG3lip8TsZQEAq+qZtHglJSGxVX3PuGzy73kDx7ymwTaTsu/r5PL6GAYlGpjAnCx0XlVU08mMc6ZCaghS3YMxz2xUantH5pQSITElK2YoWe1Me8duRwYUZashJrY9mmxC5c8/f+xkRbY3AMJ8jmfPwgAx0Uf6zBjHUVQIiYlyOE3m5z+IzV8QYRQFsaVSUmJTDikN4KRmTFfNCh4+VDSr8PCRcxZRgEnq1JwJrMzKpTcEs4CYEwGq4CHlz5HSQCRKxEPp/UuJFVCAh+KFmFsedx+zzpNDzO1F5e4rt//JVvKQQMYAlElrIGLIz88EogSiUXL+HLMqgSmx7hzSI1AlEJNAMxRMqsjQVwXbiYgZE/M4ZhXrC/ncaA5KRRVMRIk555yqTBkXgnt0SdX2FfunAAQS8CUEBWYmVVJNRKbg2JMC4PpU8V2PAuakRGKHeYBqriYtZso5D/yRcyZiel7OGM09mf4JKSIZEX8kNr+GAAwRBQPxE7hPdvgBVu5oUFgZCgISgZg+Vaupc0eoZiJiIxxQIv5INnOFZKSOqoyZIKoESK6jZQiIP9LfcSRVpuGfj6REpKI5Y4NfG4+znZYTiElHRZYig84bNT9R5CAiAaykoqgyETGbF1er9dCeXMpamJa5gBSalABkgHj4zJ+qxJyyCjG/UOG5AWNkOef/+ecfESnykU7EGzfHrIRqhmYkEGRU5oGIssXLwapeMwAG753zSSoASBWggRnMA7MSvYp+t6CqAGWtwsNARERjLS2z531N9xYRzUJEHx8fwzAwRACGiqBKxKgtumbHmUDA8JH+jqOSCvBnSJQ4EVSzBqFyIfu4FwKcwCkB6f/++6kiriZYUPQTI4YYyXTUj/RHBMxDjfMkU6BsAUttCB0ticyDqgKcUowoLHzZTi60cSZsFJZnoIiAUIWyfTINowoURAy17VSIkqrmrCkxUcqqVm9E97dWTB5gNy3UwALbe2ukvqq8RWjKU2BTQkSJyIWt+1elu46b+byTCC3GKxHlqgK90O8RTQPuhKesOo+UO7mj0u0+ImI+JYPoFKx+zsV/tqwp2wqL3ovpu81etkVhhYuIzimQ7QeX5HbyVWrNj0Cd9m9Hq15C+8WDGy/m+xUC4e+9kS6vXIQeU3KIUkqeA8P2J6D5PAbNHQtF03T8JaE9xm0HTxdcjOqLT+aPlFQ1WYz0Iy+aauB0AnLed8sy+qUQC/bzvUIJ0BLZdDZ+sYQL06Qr6mI0HjUkjOAxOww2n1Sl5RpXT3gd/Z4N0cNPRAnECiwoV8I/sZw9ooE5mxmXKFXR91HQ/IdUbabfuNRtaAjb1hpBiQUDsiPOsp1fXyUf/lFlPENXibSpZXMYFc9CoLWWIpgyWjsArG2sbcrufVdwGjBx5zuCaciGqlF/1TL0CricbXpjJHLdrmV6HkSdvLR+mfdAjmUJz/kIu+LRbXhp4yiTRiQiWXKMeTsGvhpP9Qb3mwQKAZw73eINECcnJo76X8sLeuoUrlo8jdtGe+hpDYUvgZnmnWl+b3L8h7HKzv0EYndXIlVRlWYz2eNl/drFMMVprxFfMxvNLPmmN2nIO2+BWrPYGoHwV72yG/DZMLuAzdL3LhVrZfnFH51nq97SGIWfLhhEM7TBxONYOiee3yh+b8+442Pa5+fnZ855JazmMA8wqlrl+ag+lE7MWExC3PJmL+zmFRoZ6ycL3RVgc6h9+zpPgZm74pE4GxeSxXdyzXXoWkTAkVN9kjcbtfGd5GZDnGdPXH8/yIMq6nLhNRLzTptVs/lPltBS/yHFhXGV3fJIuJnge1QTX+s9pEchW9KPmPQuMvv5c9/XsogXfoFAfD/izrmcpeMnyl0RP1Ht3hgU+loVv9p3dRqXeH8yHvPEzvIlnxok74uz8Z3Y92EYmgXccKK33/x9chpByK0bB8tpQxwWhSiO1UHQ74taXMJlyuVK/XLtLnnqoy87CnA0OYFf9lK2DOrxn7tayn+OyE0xJ87GoPvee9NTINCaU0dkWz8BwDiOVokRL3LJ+u2+QXQ7DWaPx18GPL+848XekPCpNSLasyVpHrIb377WKLVI5gdsp76ZENEwpIb3901mCfqZ7whhM/eXe/88N0LqruxMa8eBrQF0YD4hMW7L3o5/P2Akjfbb39QWJuVCvzlLbuZolKjvDcNJjOb9KXaCqb4Nl2lMNhpwFWNKTJVahkOLVQsKxxv+6/YRf17fpe1L1n0N95MHmIiYZpHP32AVvwdU8RAxNzMZf/vobJMVfSnVoF8GnUeCORuguQ8KV+ANtBY7egZ96XKIG72oolb7VEydq3HgkjCxUrd7dB+JXbWs/35+NnUKzfF+FYZ6DMrKFDG7DOa77n7WrrgrRnPzcnhPv/Wl0VgovnGFKGzdIzo3d9Fa1ICZre7RTqYK2yebeI2+HhyNFmTGAuv2FEWyw2YskrDftwvMq5j7GB777erEfluRjlrW8rI/weq2EKWdGCrvZc99GE8fz9nQKLpU4wI8My7OFRHt3bd5QDCONnasVcb8tm/mEUR+bEeWBubVX60efFSFjue/PLjRZWs3y8WDWGjIZ6PtxiKlC3fQ1skdN5BLMVUVlaL6rllDjlkMFGzGB9zu68FgR/lMBFb4NGxQVlGVBWwlUq1W6qnaKRyJqIIi+I7iOU9fmcsLrnqN/K2dbZ98LZo9mX9Q0DjuPF96fprXQQARk7SM/qnvi1Up57YqG5GVe5uqtdvhJ930ZYhtUWRRVVxi4UACqKyAONveUbKxXKNutruOf1kI5ks58Feh2WzxA631279djsfEZh/bM1/WoiKyjTyLiApZbwWm2vYJmsUGQwuP0eVQaHnND2xF9YWKxcrfpse0xy8IovjeVdznHmAj5sAYfrhq3wa3l+ajGuz3frhyxxOQynL3j8qG290vRNWurf3yNf9zRPO8FZ8wBKnuOEHhSLfAPYhC2xMH1hCjffl56tTbIApkXGu3HnPrpXTObN0VgIWOd6ENc2/csEg+dBHM3/7tS8VXcOQ2FavF9mWwhFY0B10RjX9V3b2ITrwvwsbSBLH/csx2th9cpzFzfIMq/QqrjPJZaNwqRGTyj9vdxnG0slikhTv7mrm6Gnwb//3vf6MCbBHH4zi6J6/d6neehgFzacBu6wLT2cQmDUELbjD4zKOncmEHASIyQivj8/HxsXrCjenaOicqA3eOx2lYKmnFzj0HoxEOGndK89QnpOpmqTRy0urxd4XOI4IeoiM/LVvMbZ45flNKq3zvgPmM4zfGYzWHNKQAzQbzpCXqyfmzWa3R4OM46prL4rmYCYJAztn4TTwuIp6eRDUb6kLx0qvKiT2LsVVU+Tg+2jiOVPtA0iE5YJjbBCcEDu8PcsL5jxugGbaO2Qy1VtlttqZvvK24q3+ZJrq14ZvQZuvH//lEbaeh2ea+Zkk0JbmWwBQfSVntYjM2EyuZ2bbjMxjNI5wMbRpTGJiYEQAAIABJREFUSqhcg5k/o7MoMQAKkWUuptqE/MQ+cv9oUbdNZh6GIS4nH9gJtV9f6r5szDAN3rePdzQN+LbGzIrvTNHPxbClHL7HmlkSr237Tq2uBNaYBrUayE7aqyr6Cel3CduaNaSc2Bcjishqqabr28Jo4qGOURaG1ZudWdBvBEoPgHmu0nv7vidU5Do6foLbS3r1r5GFFMkYsJrkp21/ZUMVEd55VD4nUXBHCNjDsTPDG332orEj4rCBPReuobmC2TyU2Qpf9RawWA+XQ5zM6z7F5RBVLzvi9pTlyfZ+IiFfRWTRatqIG1TV86GqqAL0a2v7Tfarq+HgHd4l8zhXur9n/iqgGujhkok783yPjZvtVRjzUtgwC8jZulHMQqBfOI4vsWrpRy3x4szg6eJFXIvlynr2uero+AZWScylrZWT54oTinwGJfemAkQanJ+vhfMYAEsf234MJm4XOWfRHSvcbLnG/o6fo6z12Qu8aqkenx+NlYHmgaOqarZ2IipGd052XFRQcpN0mbjVsQV1ozOMM756QO+FLfq1rUsFkClOUlUHTjqP1iYqm3P8rf/1DPtwRFGQmEoCobEVFMZhJ2QVzSOJ7VdTyLGolKqKdIRi0Bh9rqgAR0WrSLaHD+BsK/C1UJORKolm40u1zB48YkXFstm/3UTqYPzff/8lIsgs6EZEeNg34uBRDF+fcjI0MQw552OquUSzNxFdxxbT0fFNmDBl312KcicbFp5DAFnRWIheLiXEkU8GyLkGrDvHjyBEOrmot+vtGmz12VuaaY8f2xNBa8vVpL3iFj6NAFH4yEXYSLBwFexdn7OjgYZ4Nz8oaHdap11XFO23Zq9MZyXtaIZbmmK91xHz0ND4Mc7Mhv0FD/BFCLjCSfjgeYv2An1175KzwVkzavjSYS76/aCqmL/9E6b2zBTg8897JCFVFSNm6MmH3dFxcmxRENVCfG6PN3tTro6IScAqV5hl692++AFY3rrKkfva75v7FrGjkV4PxFafPc2ii7YrF0KxoFOxnUczJQAwUWKwhe0wM1toqEtjjVen4wYaU1fHkYiyYwxzKB5UIu8eTKIAlM8uyzWIbsl4MBqtziZAX86f6dYrXzavHtFvh25ErcalrvOYpiOH9yWi3BCJs9RAYVANMzCeu3dV50fRhkCflqRvCJSgIyQYFxzr3rH3DTs6jkO01MLdlaoQKQpw0HUxL/ux/PlJtN8G0cBnNScaiYr2aZtRrHXTfvWCyYldHxAUP1JM4XCneVOPQlWtpkvYn4lqjQ3Up2ZmX7aXft7jUTYEK5wTMiBwGo/6e6Ox1ERpjWqNmfJqRFWVhhQNW2bvOad05xGSo0xjm+1IFM9ciS06QJdbbheX0x41+H4P2/pmMQgzZe906/BViNMSydzpIp75ojE+jNjX1xo/2vezxQ2tF8E6MyikMWSRvRlwszRVlUCd8Xe8GaJoFelLRKac3u0afcufHzXwLzC5Oufqn9TslFZX34Gs3bmRc7Z9I2qhOEQZ2+qzp7nEFvpQ3Xe663iehWiUtCP+T+8og2CDIErL9Xm8MnwhhmvQeeTkTqaiji0sd2ADhRMMbOJmbtXC8uKOGe7dENts1NLyQ2h3tbNUBxKEQEQJs53TcAw1Nfr2eXjcnYgkPDGgYxeE/qwN0vtBN7y7VmZ86+D5YfIGVQJ2cj6vBxjnNoovd/MiVhITqBEo90Bcpl0B7nhLxEVeU/1mgm5jD1ritBtI4/0YRRKRFWRQggKlnspuKMrDixiYu4Oihx+BUfk/i+H5ZIxqC3G9NUE6LkDMleSzWGeIiE/JRATg+gkvy6TIJeGoVhQv6WqvHOrB4HnI35FYjZMkIg1tkMr6JwDt/jwZfc76wmj+bN431Z5IVZ0PNSR/DDmfWTZuEOk3fua5ofAYrGp3btTocKg72OY1dyPhX8hsOltpVQFmPh3Hqx5gtf9K7Xw3u0VzzXMFt6XKakdGmb1sF1yG4aMI5dnTGFANgjuK3Rbp5UTMIBDGcRyG/wBQaaMXQPuySAGrdQAGEbGIfOaxsapdw0bU8RLordUhRVVAFmSBSbsr1zijL2Eds31mnmWTFf/9zNZXk5gAiCpj1iD0641Fp9xa+5Kh0VonIjnbfkXMg8eTz65xiFCy2mdPUJ0ANlHA1Tx7MVfKVyYRwcM/q2o/6cP+kwMspzIbpaglRilB8glrYGUlMCkIBAuWtGA2K95mDFeAUqiXdi/pqZRGAZF+JBYt8b2J2PjsUkp52n2jFORObwJqJy1bTpZ56+EVe2Nl3/AC5o1SUcnZcc7yVxz40fI9luITCqBYi5rd6XildOlUfwniPhaHJGCFikJsdEyiUML//t+/tcFUYOj7rwgBFOBolFSVMcf2wzawp+sXrlL6EQDMPEr+zKOco/j/MhbMv0Qd0regV4zxFm68tUmDAygxThn1fooq0HMXRIlbc3+FcxqdJ3q9fMwA+H5BeefBnJA2Oq6FKdjMXL+WM3nGXes5UFUhEJSghZDJpPvvkPNSs9JQMvfl+1XH2fBaM+VSQAQgABGDSFShEFu/akmlwD6q5j0wUkrEQnihE4GIdEoz7zy342WINpcQXwpVAROYErFRzZiz0+8LMVHNITnAq9qvWGhE58UdFa9UgONCXFo4moyLyQ5dV3ANL3/Naja7L0LQ3THsME6U7ykH3LfjvSG14ZH5NLx76qvHtRecaqx0KkLdxS1z7D1XA4pZnYhM9fVqEHhFzlVHxyqW2q9RO5E5WWe2m9cqexObq8lOByQgFQ47D46gUExuuUt0dByMJVdyK7aRsLFyqXHyx8OJRWsjOoAoMTQfc+uIxq3a0fEyBbhhvf7diMSzuZwHxwqfrxhvi0LMYVc5XkrwaTnyph1vCaolB72a6Htjnhc6HcTjEu0qo11qvx0d50FjcS4r36I/EJr9vjq4yVBHQyGO/Yj7Njw9d4bbcQ7Egg6Gaq4m0cLEnX7PYKMJZiyT7Xe/nX9v9IvzKBEdL8cpQqBnZFx1yhjzHCXyNgdjZ9KOoSMxY8AKsmUoH5vRr/P0wk7MHU+BBVmM41iaSXoJ/otUA34UMffGtxdmHnglKfQeEiMiq1NqeajjOE6ycr2mqlJ3AXecAG7riZagrCoCU4DbSKtXcxkreOn/PD6k06bjol1JOt4PTYiWagnPz1UB1loXjZnPYNQ2p5FyiK3YH+0UeU7HvPzyGWwEHcfj9QpwZK6Wg+RuKAld7GJZfDv4cvbjckONkzra/avzyq4dHd+Gh0s513w5fe2NqANrTa8Q8P2Rz/E6BqdKq5SzdVpHx2vRWFFLwIKqYJYbfIY8CDMq2SCZ+fjye24jyFKaor98Tjp+ORpJ2Ok36wrlvlz7dVZrZqxjRIslkZ4qhrTjDNhdAf6a8lTn61Kzd2AB4JTMiyKlx9uALcTEi3t7o3lmr8G4d2mTaLMv8eHU+XHH9yG1tGnj3LBqFS8b1s6IIaC++YhIhprJ/E6akvlZbrwrRuW5P/k3mBU6ToUt/qs1PDIm+qoqannWkxiaoz0uq5AKcTKd+IBb2xerZDuKWB/vaDhrzuzoeC5uyM9ayTbGa4i2XVTwUg9npF+BApqhuN2L4hnY0n5FREMnvM6Rfzle7wF21mtkPMrMc+JkTBtlzV+IqLdP6fVHDSqasjoZd/wQXgtqWktv7QfekgmsPzBCTawbJ2MhZ3jqb5upcYL9qqPD0RTXaP7arGq8dPWaxhns5IdK85bh5CJKNBC8697YcX7EwI24DlMaGjkZr2Y9ywipg2/dHb8dW3iaAhyVsZlfhRIWTDRarRoC3qLVE+m91Q9su09Kyf1FrgA3nqVvjJlCwbpo0mNiz9UsokCXq38ZHnLONGtPRAHLXC9ZvuPn6NpvrHp65/Uviijiz/Yla+2tmoCUUiFDINW2Ey1V1gt6vU1YjwoqDX/x4Pvq6PgGKDQjiAGHlD4aE/NCHOS4Q3gJ2Xjlw55iiWTxz7FKHxGBOLGqImQAkZa+uE+5rydciZfgqgEynYo7DkSp+tYghGtRDIZ8ebRzA6dfVDr9zONnHv/nnz+Yx0s+l35pUfBZREYRVYBajvxynaLjVXiaAhwNonHZWf59o+hq9ei+h2FGapV5Cv3NGt31h485yTQ6K08S79XRsUSzNoiYiKRk1WkvU7yEhspYZttqiohEujP+3lji6XXt2Tp+JyJHcBFZRPI4Y7uvHOIzoLWZijJprb6h1SdMT61HGe0IXhrw8jPYcUosRURjKJ+5RESuml+vC6Ni4km9hz6Tvpb7YZ26a89bx3PxTAV4608CHWW9mHMUGZ81kmNgHh4GuTWOmZlX+pt979GWM2NHPMPw+0Pv+GXQWPCQpz6BXqmYiKQrbAFa68+nlCzEw+UPzJvHeMyzz6QSuvbbcTCcxl31tQWZldSDki7GYwuWWQZElNXiocz3q6pWCuNhw5Pthjdq0qrqKFlUABAfkHrc0RGpuCzOSeSj8HlZfOYxpcRgAJbg8D363YLOu6UEC/XFJ67jqdg3B1iJ8jjmhdOSalVnw+W0XziBaZGVMQ9UXjnzW2i0X3fZNQrwT27R8faICpvns0VLih6Yu34VxC2rIa64lXm9+kiSnR47DkaTXlRLmoM5uXZ3UbOpzhuWoBjvNKXkxPn0fWyKuG4tzp2uO56PxoBlqy6repjwmzGUYsZCZmayihuiz6VfJ2HfD59z6Y43wjNzgJexGao6jlmwIkpehZ5jRsWycl2RLaSYpYmISJsZ+Hn8M+alwn54qY5fiChBrupsHUtEXcJo2ytjuSmq2qMUAHiyL8RN4PYe0tHxc1BoDeDSXhNmFb9fhf/GwVs15jLunAFwoinnWUrpvh/e0aiViXLOn7nUxveZvMi0dVwMGqud136EqBUolrgK/UY0fFBErGkTp2TxKSJC6Wkc0g39JvDU6X3W5TveAc8vghWPFDmbZvYtzJN2tn5+LUyB0GnFA4wfb1g+mc+6YMcvQSME5zyL151qRfTlNEcTQEW1N1JKSWun35wzUagKu/htR8cxcO3XDVtEZAJ0dKpcbmU2tqTG0S0k2OehZK0veleAO/bDMjIL88yFqwvJEUXVlwxA7246+BCi9vv0i3e8B/bKAS6UvEaxq7GCT3GTHoklVzbhg8EU+ojac/1c+w0KcPchdXyNJm7QDTTjoijOe/f7fRRxI2omEKFbsmzUru/Bzx0vQcn4rb4OO6jznLcmNOnoIX4LywQEOygA1SgMYjaG+8SHavqiAxCCPqlEbUdHA6uzOOshb/EOQQG+nJB8A7m2Ana/DoOY+VmPF/N+O0fu2MLzc4AplHfOOYMT5v5eorbBz3ugqhmwkjnPCvYWgAALtBxFns7pOy6NLy0i0XqSVUXaRingFRHz1yK4eqZZAgpRj+PopwFIKYmshLE0VaM7OpYQID3xag6AAe+y4LuD81zDVUh+S2YgIihGyclI1WJYHn8oT5C2eXOiLZReO6aYI52Z0cm6Ywcws7krrRG9uhT91v0ElEDAKDKgVJHF45KtU278VNWsCquDACgRA9JDODrmGJZ1xynETK3USFTGnH1mTA4TIsoiOUv1/nLj753ucpHg53v8rd49lUCfWVk1AVx7qMQHTGht8JqllI8GYrK01NJ/o+T8OWYVUlAafK7jrF1FmrkQTOGRRTurqNjEtRHdhlSS0QiAVVdu4pCflRYOYByn9eNDNbOxV3sWlSywbFXyMsV05cqwuyErQGyz528LVPqCTtFo/smTfOJ/brTfHrPxm8Htv1SJlFiJBUxouwbcBiG5gca6eds//44ld1UJopYrS/Hel+YRtrMlfwRVKClAxAJ8ZlGllDilZLV0POXPf75qcFdVHv6UfEsmEKvKOI6fn59ELdXytCN0dHwXmYgIHJqAJiaif/+OqlBKYDLZmYiJ38rVMaOo4gA2ZRWai8w8MHl0lcdR3poEHlQli1WRZhBENKt8fmYlkJIS2X6oiq79djT4pgd4tiIJquqpcR548E6k+xA0lKpyGjaWvJyTovpaci8B895lWUslfADPahHecQ/KG6n/1NAFZxXR4e/vSdV23R1f3A3ZzuFRRqb9dnR0nAFKeLTxZSR2I+3IakvHlPD5rmjCubMKlFTwh6dYsy893pbMgNrcKKs0MeQdHc9FXJnFY1R5tKqapGcdgSz07zcsRFUVAlRElEGoUjHCRK2KXoV+qfRDUwqRz4ud8L33w47vYfjhsnDea84xrxvxa7VfzBVgzO1Yqi0njsFdmDN1EcnSu/6+BuZj4cXBG0bEpQq6+n35z5/ANdvoBJ4Y6u82RXV0vBl0Fpy/bNLzS2GTwMzDkBAkZp2nXzUTZUILJfYMTK961ae0YxfwLMWm+Dlytlaa0QXye6wwbqknoqylgE7MRbrxW8/hMlq24pTdhtVxJ36aA+xxRiXJMJRc+81cJOrAs/znm7+a+X4li4hoKOnZS+wciCaFe7JEbp8/rXadHd887RnwZRYrhGPuAfZb0/MazXd0dLwQMd7q1WN5DeLObJ855xHKGzWxlhsvEQEzJURC06OOjp0QIzhmTo5Fmbp3XYhLUdaeV2Sqo4ENu1UE1cx/WWnZ3dHxBVYUYCXgjtAsz1MlS1Udx6kHA5dEyN+4ErkqsVAEHTil5AGorEFRoZokWo1eGZqlOtLDH++xh3U8Hc1+upXPWU4rzdxDGA+Fv+4Aqp0D4xEExbiJFXxbjtrR8QugXOpyGI/4tdqvg+Z9FsZxTClhLkBjQ/u1Kruik+/3wIF3/Ea471dEPgMJK62YXVyWeGMs1WCPITWZGTfFJ2YWqLvfNFSs3HvkHW+Ab3qAG75iCnDjJfudSzAanj0G1SNUMS9rifkslVYW5vs1yYYm7RfdMn0glhN+5yuopowSyWN5KfsZL2LUABYeZo+WxG+lx46ON8PS9/s7g62WOyoRjXly4S53v2Y/V0AgOWeXXmIiSUfHbZB+00Wr83I5caHGc54wxEuBiLIIA2bQj2LzFpSgUtq/eem737kfdnwDMwVYAKfoZW6wMVsr6kPVr6Uh25BCiZ1Vcfw3YMZozbtbI6ycnqU2eVNV1uJLD1tiCHue+w+7ZetIuBJLWmop3/CgmtWHU4raLyodRUfNc4miFEijEj0Vdd/yz3nh4o6OjutCAiZui18a2RGNyK70CvCZM4mklKZ9OLh8Y3pIVswYbpVquq25407cX8dOCRbiFw1YjUfEkX7HClzKQkXREBGAVZ2EV+GRp573G9O+Ojpu40c5wFum6O6ubGAKsGm/DT0XFu4JITWKI26Lbpz+hQaFV8GU2CJCadFgxTNUtn/iGWh20DzA+0Ww+3pwK7LdyF0ZfcF0dLwNZkbS4N78tdy2TVGx9nXBFxRnJjqEbQ7NY4y5u7ijYycok9Rs88iyl2d+Gf17aSxl4HK8/tVjoU2s2pqHmPfrMyYiX7qOOzoADOqtQanaPhe0F9OMnGi9amLRfi03aa76viv1PgSbUKNno8wIIZG1ChzFur+wTL/wQd4SWzaFP8OHq7JfJNqJAvj484dCKWYXSbVGtu/Ez1YZSTeUdLwZXAZq3X0btBlpIX5pRCX/0970orPqzZNNE9Kmnm4FQ9rnOI5WpANret0vRLsBltlRVet8LsxTDQ570WZntsSUrf3z6Md4R6zOZxQO3VCLBWfUUIv7tqJ4GCaaBSygD2nWBgXhy9ZQ//33X/8uHpVFRdJb3u43YE5uJkHBdGER/P07AuOfuXzlJa8EK/t5137Pg9VNIG68zbtrzp8ZR3bYlocZS95WXMOwVhIY0AMsv0JUgTTUiJbQrualA/yl2JI+YzKY7bxbovbS1UDzPPDVn/TX3dFxPxrqizrhKhr+6r86ibPUx6+lh+XKCXFLMWlvFLnRhq0DoSaWz3D0BvuRbk3eCUvRFkGW3TLuLLFUek9CvHHAAm0ClZeq/kTpfcn9AB5GV21YHgXz6pHNsbU+f+2rX52QLf//8vy9nalDqeRcFGA4y232moajxFTV3mD6HkyG6bqPG0mPkoFSnjfmKS0tgh17IKtiLd/GNF5b4QMxgUDmrp9azJW83wq4Y0rU8r8t3snfeNd7Ozq+hy3p+YZA3Pwpkt7S3fSMMT6GopvNA6wmELngbNy2ZMdw8vO7m2MJj7dC6UOhUCWQhlk+p+j8ZmiY3Zaz3U3MNy4VJU8r8f1aRGcGaigKtmP05gIzdYH5BrYmJ6tA5ykMsHiPs8zmGYIUzoNVQ9jSGxz3gRvn+w7wdPvXQPOaEMxM2/dzduzR+c8dzRtjyxEh2uYg9Vk9EvdY7Fx9/eAko8Qtl2qqcCTaeEXNK779rgl3dDyE1Yip29rvVvDFPafthGZXEZG0eAKtkZZaU2MmwZo7a/gCy7fpsk3jket89jD4nDfH3ae3enJsnHFC0cjoNxOnhaqPea01V4CzKvj1CvwVIWsV78+2Hl49hJNiKUvfnqstU/VqiOUPMfiFRESJUWtB80Jhq4FDFH2/5qtsdrFo0v5tVuqtZy8bok2SzPJb4jmHjLFjE6pqfl1L8hmIzYkA1ESyPBJmW7C5f4vYOvcrOAvEzaiPjo6OO3En7bgY7bwpJoa9lgA9ig9ASusc0ht7xDwjIooD/818dgtbmm3jTDB0Q+R+iO7QRnJ1hvhl+IbHrpf2GaHe6sFoDCh+UFVzU8m5ODYm1TdORcdPsCpNvRzx5W6lH/+2BXAj2WH1Dd5OjtjP/jVVgdaQLeNkXCh8RsY8mbh+33v9CbrSe0KU+V8sY6varUzO9uxLSim6FG5wcSOcKIJ3dHR8D1tWpC8pK8rQJejmHFRZbMo8Y+0u4f39+zfqAK7P4zQhf6eFLrK34l+70rsrljS1yiUb3bgRdhuCpVoHmL4sSLkzoikKtpPUoIw5kcIDN2Y1insExzui+zZuIJJMpJEt9t2cH7/4D584yYOGsGdrB19uZlbqedEmVQVW5Iben/ZLzOwf2r74PnuvQqHDxXFb8FlDiq+oElJK1qUdN6tT1pCnNv65v+iOju8hysR6X+HAtOjLbZDd+nLfDxeUsVCAV71nKMLBvde3SJbflnB426hBixJZR43rNyKSnvNKi+qPp/m7oABvweDHX/MMc9A8ZltVR8nx6ZxyJyoOtV0MjQbfYzfuB63FzL8WPhi3ibx0OCeF7wO6QFSMl+c3xPX09NvJAywiXtRHVcc13sDM9n4phLL0/rT34Mb8RGbsNo/nzidZuYA7Pn8byjyHXYzqcRHJCG5eQpbMiWNQk1Nm2f7MdiSaoSqSJYMJ5Q6dRjoKOj0+Cgp9uYGpL/eXP2HmRAwmn89d+3LfwPJ2qjqO6wqwR5p4b7zzqAFnRpzJ1T812m+f0v0QVdlE7I02l1HB0dzDzAxiYgIRSGwnhL4w/vkG3IAVFWANCcyYr7HTPcDV8BKC3eLODFKAQWBikBJsnS/PzJ/jr+LvFMJdoz0L1Tm01HhXz3c1GF688KkYEpL1I2MeACiQzSW2mkgDgKFWXJFgFdiavQz72LRUdRiGjzRYed6pOsjJ1tDWs8/olhD3/uUJN14zzf9yg99XiI1KdPaZiARgQlZlIIvSPBB4ujKZ6PaexRus/vM0q/N5VNXPz09V/fj4ICZSUkhKpMrjOALCjJSMdAvnyyqaJatYPjEhRdPg28tbVkeAoapqPU4buZOIwElEBMTMs/KsF4Rb9hubSPmrzqqhoOYIGfUlJiWy76QqRqfzz8Zb4tc3LQ48XbzyiWt7FLbsRE1fblWQbsgQogD+/Bmopg6SmiWKVKHEll5r01UTcdPesvUW4Ru9xABQY6sSvpcz65c7X/D3OKPRI4UsZUrDhYx3XxqaDd/ehzOm8J97zk9Ifuu4GeaNcV6bequCZ6nqpODEDErErMiqBHykgRSf8mkdXLOqUbWIaBYiHjgNVHoQqggxJVBWNXp/OWbbOxFQ5KIox91YGnu/35lrqsrnaMTLN5dBbuHGElJVCQ6PYogkqKrLzEo0JFaij5RW+fXW5z/pj3H5rAqRz5yhImIUUhZFtHVeZb/dQmXTyszDMAxDdbVKJoKqaB6JKKWkhJxHZlYVk5eGNKRUI7bCdaIQ9az5Gb4+peOUiDudzrXo+Dls9wRPKLRtn3Ykr8XoM/PF6fE7ICrNqEwWLJEOUJoHaJk8bT8RmzkojM38vkmLbi435jUGPF+u57NfPYzmeeOXRu+1eUjzyflSjJaPD7/O0nQajabPfrLXYGkYti/f68vtZWRZtUgjskKTV5c2nggTNWy2Syu4Pj8BPyG0yJd/DxKILbRQIcWYbjm9Lf0WXzGqSVqhACtAMP25r8MvMRPbaIrNPKHz/GwgIi/9O0nUao3V6CM4JO1P/MinizqJSJk/ADFFUNrEcrzFfhs5tT+XiAxm/qtZ/U7SxYJfA4pRDQfGr/ebma4AXxLRqxa3vEnyq21phw39Nyoh8QtVRcVFbbaWtns/0ksR9bBoI1Qu3l2oJBAxqUwKMOpcWclov84b7F8/gZsAbCla2Kqz4febHJ3nsZTNWtQIEi7YWfhuaOeAO6RhCmQejaB///61b679vsfELv0VhtiX24OjRL7oy60lvsMkDHP5vsMs7QqjWbfuZX2TpfUTTFLvozNRUmzaw8aW31UpKZsbaloQzeatEu9kvlfAwqStzW+VaUCYNrcgLXd8DWZmYvcu/v3797XjuQQ4xLRqcUCSy3tRl/veUvSfmzBAqp+fWedc7z0WuQtFsWyHf5okI3ULiGbuOM+qSjRJOHtUr+wK8CURiaQEVaaEufcDxYfZhlDGX60splBrccZ1fpndOs6Mh6b4JKNK5G4sKCfPyzz+NmP/Es48pil6d2itssMB04a+OO321WQjuKOpshY18Etja5E0fm+3reRxpkTQ1Jc7nBxOiF2FsB1x/ZvhgovtbHi2zHFFBOlthR5vQLIAE1/4VevdGzP6AAAgAElEQVTN41YAME2W+CIWq6iqJYCgsldmpmBwifpGyQHuhZS/glPrZAf8NUvuJ4imFlSLzMCtUP3zyYxbhyplbZPb32+/nTR8BQX3r0UYRXnJbK/xh1TX8C45wM+9XMcxcBHQTSymm62ctn2F1eNc+w24gleW3VvR4y2UKSMSKBevUYHxE4alwSPPS9QARToq/bHtar+S9RR5cZbbOGMeRMW09x4TFK2bzW7uzjSjo49Ap/fs5kNId5Fwo2EYcs7IEBHQ24o4/lwWZNEEQpe+3EQe2ExEzGCeTYgJF1yZqJ/pX9519p6FN5PG7sdyYSQqoVW4L/VAhtl1dM6Sr57xewOqCp2K1dHHRxQhiIhBU8JwLJMzn3NVzdBlP4WOVVCICuxYovh116an8Sol497h1J/M6tZGMQwDJONNg+NQvUfejsEO0jyJiWpx7xsmm5j/9cSJ6grwJeHabzGazv0/s/XxoOjiqjUC0cpvDRyMs2F8hefWKafb2c9+qbg4oVmNzbYVjQVvBifMP8MHFuLIz3WtyEJQp1TeaCq3rOzWlzsSo30p1ZKh0Sa4emW1hvbQ9X2yA0BTLOcXz88qHwQwJM8rX/nr2nVmEbyqmtU7Sr4/tIZHOf3acWOaSVVCskzZHqPpyjKMdKVsbMcWllymT91DmKUsacZakZ2nTKkVWkg07Q/xLm8ADfnnxRNAJRnJAwM1xNRESds8wx6JGkvtPBFdAb4YNMTWu9H0KQRZaFuEUGrhuV5HRDkr8Ib1AyNJNfZ4I0Imgk4hWClNtv+SxzWPV1GdJ0y/y172KL52jrxFEawIWxUDJ6pBPnbcvqRvBVBFpsjOEuqREvcRpMOrT+jW/Djz833Pzhw4eV9RIrWi3Fv2YzMiL5VkfbuQs+fiF86PVb5wxWy1psY9cyI19NdlXFZW1XEccX1qXcKnh4hKJQjAnncYhhinVopo5BEAgzz90irx2jmiKoXx1uLkRz7M9fEsVe3NsFXzBbMkGooHd5pGVWXQwIkU1tdmOcJLw/c9iqWtor9XhGpPh/gTsZpkCtN+vf3vc99FV4AvCTdQrfLgmWV6Iwe4OTlCVREq+piPJefxKSO/IqInHJWFT6T4RqULngiqpr7VPWsyd77LRo9g14zarz++E9TqD+9ZP4Ux1J8gZPJHHnNpNLM0PVGNIY9uXnMrhbaikwm5sUmZASvnDHrjsNOnIU7yr8WqoZnm/PRLspXaVgqhe4crwO8HnSfYAzA7gpGqSyy+umiczMXRCYZAtpHw370c50+xykp+OSHfCV9j3m0+Guh9Dp/IaolIKr+LdaHeYJ1HZdUWpJmpmclnL7IY/x5Xrx3SgKev5NcrwDNtLVj679QodC1UydnM00f7Wqgqk34kHgYLxRWtVcJX1sV9T9/MUmVaVXwHrGPmnz9/Pj8/pbIxt9RedJJ9wlJYLRr+auuKQQSiKvxgzmDMpG3//Az9Whsu3twRdys8l4aIYL5CGvKs/7z2PJSnEFVVTmyNyv2RjYvC1PztvfvOxWD3MgNMDpEgZq5+jyjBZiebnqgyP0sGTpMdSi3pN2cBkicROes175GIllo8a+aqLiA6ps0waCPvPT+NaFuq3nBb+pVEVeXRMtA1h9CKQ5QOz0T4z3/+lDp2NbSvrMyLG2iWS0UJCk0pmQ9nGAYzWrGCap1i+5VAiUlEVOTz8zNcFKi+oHcymO6BqSOjCA0r1sCOBp4VHLWySXNbzNwTJ1NV2VIk2P1M1c9Zq8lcFJHPFuoWEZHhnz8c6u8Ow6Cqf//+/fj4oBBzal9yzv/+/fQLrvLuH+L1CvCWsropCa2dprWk6vJq70T8RDQsDPPHPKDvC3gLy0LzCE6oDqNARmupit0Lo9nlP7Vfa6wcplqi6G7fveO60Krf0tqL3g8Ng3GefdgAXgUNTbmdAKPSGw0BlSRDfbIXDr3jxPAVYt1T4wLbCZHd/AbKRfDx2sySIqXkrQShk9Hq1SPt+I1oYiqJ6BgDvQZz9nsv/qYWAObRrA3vPmAqXq8ARzTGqocYQ5y4eIXmhKvow6vPTkTW3G2pA+/HQUuma2xd7UL/xf13qiVp0KYzhemdkWip+jxD1H4BMJFWbzmHfq2f+bGIho5rwTUqF5oBqGraeZ8xqsyhBtvbLzCnNfObGddkCBFp7U+mNdS5njwFnV7Xmt6xKxqBIXZVSChBvJPa9mgO/2LVxXZAqB6Pt5F6Nz1XTCqKYL1CNTcAMDe4ldosUaApYV6Vo9Nvx8/hHQEaaGzcAILU5bb/qlNVUhAhgUD8SfrGrPwzjwnJ6qTAUiyJrC0yVPOUzQSB1c9b6W7zRJxIAY6m0OjfeGg1uJB0pwP5QrD5abLzDQc8Hc2zFNzlft2QpKXck2izqNhqNGD8bhkOEjLH7ATBuBqY0PEeiLbbg505cU0e7H8+HiEEY3IiWdhYtJ17CMZ7z0bHs+AEq2uNu6F7bdrldrHq6Vtzh/KEoubnMfuCqhKHGQgVod95LjrOB62mZCJCMGofuQ5NwCZ9Z/5lj6Y0CUtubRSRXD3ARFQ7O+w7nhMpwJEBrLpzH7rIUpG+KKgG0EcX00vQeICvDiM/y/gyoWfwbkZzdxEpOBTz9OPLPrdmrWr6tXquF+bLsuM94LyT+fn5e5EDr3qTLArDlcD8DqT5BXQe5wwgLdpN1fxrhc+b+p86Olo0ZizWqSrEjAYfJPGlBB2pONkdVUl1fIsc/i8hIsgCEEzcF0uuVjOmU6hyj21/XUfHT7C1rtyQfJgKSjW4kGA0wYMw8C4BIQs0GoQFZhFRjQGpxd5VbTb2Hs8pFODGF4egJ7ijfCtGKFpwb1z5ih4SXVQvWD7CYQ/lUv77BGuZoENw7aWJO4hzu3wXX168fOFJc44F3i63Gjtu4CU+2MbbXBTg/Cbk2aB5WPf0pjDlcbfXqO5Se0JHh8GXxOT7xYwLAIA+n8/G9Vw9P29iWV5FYXlWMVAkVgr0E0K5sG6o6jgUkX1P4Y04IgS6CSq0XUj0nfm47QDxeNR+3TMMYO8d8fUKcCM7UrXlrwadLrFUcX0G8RbBRZFTrk7FMU5FEmUm7F8aZCfEJUEBicnSNWmul5JOxFcY8815jn+Nn9mKz9YU/53aeXe8ChSyNmpMQc0pP+TuCGsvpfT5pgow5lbRElApwgwiLQb0kjsUKkbS2xZE7HgiovvXwp6pHsezZWDPkrU17LdOb8QYYiawe9uIiFMxoEda9hnQaq26tMDWcUVQrfROIazvgBBc3wHibkBE1y6usw2qAa3TwwJYuDxVFWqWwX3H8zIFOL7sJvdSoDLmDIGoQCEK3lyGpFACg8DEIEqciMFkv9UsWUWzaD3z0mCQVyE+WJi70x5xFZBaRxQaQifV8qe51+jWRRb5wNHsUv/CtjKViRRao8if+TBnAuN+0+UUTmi0+QYUejAas86rh7MjlvuPqoqM4AEN4yxzUnx3oL66OjbhhFPUMFCNfS4HY7Te3nfHW0gpjiqbFSSqCVwym0kK7U/s/FUW+U4z03E2OPs4npMub8fMkLx68tVBRJqlMUwjFuGvtTyswufeLvjdFWAhAcA6rTDjMENKVN39abICSGLOimHgrCTj+JmFAaKURUil2hOl/qdEBFUmYh4GZgEYYkV5CUgfKSsjyWfOmvOYBZyixQVzj/F5UOIBFBCFKoMSlbpKzZnPJdet7AhOUGRVMIMHGsdcd4prZOhY4Q1SySJQpJQ+himhOs7hA6EvG2tm7gNUcwITc2IABIGqkOULczX6hFaQ54KUsvVaEy/9n+4zcXecFK1DwcxMIsoESmxmVaXac4+0hPxVqSgxKREDY+0ghfoimJlSMVIcUBXwG/CdrbhwnspBb8t8ZYpQ1psAwzBYlME5t7WvIRmNQmtzW/dqfzQ3oqpCJANTSxXA3ML2QzDgn7Ig7DMS3XcRrQP2aSHi0XzQ0KyqKoGIlIl1xfFAKogxgfOgLWejqwJNpfe4FM/FL2xjS5QSgaGk2cQJiyZQAPQjvevGb30abWZSSv+k9PfvaNGPJ6dfr4iJeVAGQTm4NyxkjGcFEnwBlCArYvxhtuNuPNUK7ynIQBYFr+z/Z56oBltVshvKnRD2w2hebwh5Op5sehUgNYcmCYi8f3Uj95K2d49K4NrqPRf9PoqVvF8FANGRKIFBTIXuj2ELSQVZawI8iJRJrrGWAYAZgedOK8qwQpUKU8AgUmqXWMNRN4HlTMBg20uWKAbYLYxbIRDCXHp/7LUd4QF2acWPeMrlEBy/pLAcEZPnEqBEqfxpc0VwrQFj02q7oy1h9hOITDcGc87qXH5z0zkBKFShnKRAkZTeR1w7GKpqKmstPQL6SsF4CmwdkiqIElEu9bTLkM4vf/vyM1LlKtM0crDtg595vEFNtDA8/TN8IGx/qRaDkVgQX14T9XBFXL186pK3+arzEyjYrey7lYO2T/uTR1oWG0GRzkEyaWVHP9v+0KCpOu3EOTSeCyDXv+aczW5lOVhb5iVXdZx3N0K5BLLFPI7m5FPtw0sh9+wwnFD2uAdRTUKUUFURFsmj7ZSjcmxGLGZWzxsk0uAHPrP89ii2HoHmZiZmHobBJxY1mnSyFNxx/bghfKTBr6/Wjfkt5vNRRGHmtbjW5M92+xq67Igc3P45BD4ef/jnz5/mmobPnHUOhF3aqYMmE9jJFOCEKZzdDVfWbuv2cqP7Si5FY1jD+/06AEqrZYuam2+gzVZ+TvgO2PE9lLURVuBhb5zm9mkT5cdR7I02a/Vsb5nmnp9G/EXYwspzSV6d2PhczsuNKjEXkf2IBvM/Jiv4Ps/ZcQ40JEBEZeteC9bAIjS6WY0N7yRA///2rrXrVVVXJ2Dn2f//z+61ZiU5HwIxglqviN19xhprdPa1ipB7QuAyB/xVyCcEUOewK4SeTGxPIYQQUxDzm8+U/Uv5ycyqrFWflqKMr99TtxWYzCmln2gM3CRoEBGhOS1QwhRiANgKRnSWTnbfPzNwdVGIIJ2PMqxX+/abYi7gnjkSk38SjSm8rCzmzNkc4h7MPjoRleVi/QYSF8tl7/cbAKAoVf1WZOqj/tNLA+kRUOIcPBTO9/arskBEN/VzANBz0bK/dsYOTBV28r+pgqPt+uVyB9jKJp0RNXyh8FetIFCfdpkgMnM8u1tmqXvPgYfk0lPkpn3HH/ZBHOBB9FcXMkpy3nsJbMGi5msBpda0Rk8ZclINuizQRQ50qZ5NL7ACUUUHUWh8lgQNxi8eBxvssCRXUohgzsS2Ml/JhgCYAyW/2F78fQsnb935IV80clfUInHOgWwuWHKAcRy5hkJTg2n1x6bjfeNQYZWbDdVHUmp3Y9U1Lfcsz768A2Ou7H6F7PpIvWLgMpE5T+FrODd75Th1RGow2zSPvriauPGE1RVPUSMcEakfSqytkSkzHHhUR9M4HR6EFWVfQ1RXo2RtnC8AKXlVv8j0hQ3jZs6g5X04TJM1HGD97AAdxiDW5ElXiGjrk1em6corebI4RwyCrkOmvu8fJDrVvHDOmW0yP+zBwJY3iTldTWae2nPXFlS/ZravxozlMo0le3IM6UBLBuRUlKufGYABAWLrO/MgGFuBlqljHpiWItw3IgtOtW+ztozM9dUvs8uW9V/G2lGJyh7pFFAWFfAd3i8WmXNB1w1FzTaIILPGcTPI2i0GWfwLIHbeRkSHSKY47e/fv5AK8ss9R22iBYcTcZQBbpYyVeJlEVLvB71QRkK3IiNpJ1shKAAMOw+hebpag7lXENdXbGbr+lrBqApaqzBEw2LSuSj9UxPjO0Dpne/M1hIAILPhqOs6ZoYAgYaj5Xdk2H74X0CkSY7ZnVjem0SES9dAUaEwR/aDlgEAUxU4FBlBrt/3ye0ae4AHGxoHGxoK1zT7if7po4Gy8rUj8zvPPCqQy4zXloH4te3R60D1BNS1LSaDZER0V6HdeuC48go+mTVZvs7eJ7tnZO3FTJHIU0iyj6j1+lW8r3jyO4CmREgt7DLgAuNQ/UcBHi9L8l/wlCzlVqhBnHkpbApHlUnVUmEmmD9Da5ajhwMbh6wymCZJEmZuWcMy811SpTSBRMW3PF0CK+RVq3bOa5qnoK7NUjG7DwB4RALMin53378pZNEE0Ix6F9WfTdigYbRylubun62I/MpNWeNsKqsBgOl/YmPw8XjNEdi1e9ZUG/9usBUzjbNAn/Knue0STKTUPqqASDRpldqOebvcAXaA0fM0vgeR9HYel3xgDBVvcuV1Zte8vKg6B9g5HxiIiSHVlDemcXBc9de+RnwEMIU8uVaRG5fFCCafL00rWtbfzrnX2PsVYZNLtKJkJUNpc4MGBdMFYNYFY8EbAiKk4DeuKPG6ES2v41PQdZ1P9BGzlACQwgpzVRvLARd7GQO7pEwJcNhkPn/S3jNAg0BDAO+cQ+ecY3MqmbWbIXkqalg4gq0HzWSsjsyYKpS6rpP4goT5hkKP9qY5I5UbVe0RS642SHbUMyIKsXnnYxhlqjx+KyazIwP/Oo8MIQSSznZzhfuPAqcTUtCgm3MM5MURKelQyZEtH56Tm9xjOhObnAwFqssRQiCmG0NFVyNz2G5BGQRpH4N/V2yQQdnxO36fubeb+15OCCIjUtRVJqIAtPzzj7jcAbahTc0OEZEbN7/JXoB3VaZlzoZ9tN5KdkroJErXu5YxxOGkC/SXCqAKELN6iCHdJ+yYGXFUtN+s0dON80g24l7aNxkD2giOjfDZG+KinWStgVQ03ih+IapT8EdK74rynEmDGAoNskAgcqueWOU/pt1uzIxfZNlZA7qcDxsy5nS9KZ6cnsDxPU0yqrwMAFJEP8uxNxvA0lcDFWI3JoLanKMC1iRV024IX44v233z7BsGVl1AJjv09LqbTHxZaxmmCs6zxNdAwH2/fH9L6pMXKMdmTBEn/NS3bgecUP+5KlQrP/osqHk2SpN82hGWWX1zr68zYxlBv0zbmFZVgU3iZAe4NEeISdPiYkyTedXytZ1zIQw9bzhtes5y6zLRIcT9XGyOJwXTiSd7CiJ24FiOYfUe5OwH6WfYWB44Mkb6pxFGt/EJIjqJBZrGvM9i29J6vnoXrn1i1CVTI7lF+GYDANMNUkJUXde9vLMXjGxE8729j/5JzRRlW0yVzKpZP0pAMao8ou866rp/370ErayFvU/2bULp8GcxY2uNVVhK64fYDR1939uD8q4exm7YaRTp3XWd956L/ajLb5H9dYES5EoPDhgIBjc4OsAMzjmC/LDrA69YCXqSp27eiwelMCCDxHfLLJK8I6UqDNm+xSls71I6CBAhqWwvZw1qTh7AFcc0qAtEzIgoI+n7XuRJg94dp7aIamxMugcXISvst8bcEavuUii9cVrirusAAKUG4aTxzlnM0X4DllzT+/2OCgUAWrLf5iDcMseP6NCauwCgIaNMFlnKsTXhlnKE6exf9ValT6L/9GmcKpmtVcBTQckHYc4ZkzCO3WgNVbjP6m5IbNV4Ws76okxRd2ca01J4aQNnt/r4LAlXyzdkEiqeuQ+9FBdTauW4CZefao0GsFgLLph0iXWKLaFkW8Umf/txbG5dn60fBLf7aV+GBdFwy0isU4c46pCxHpZJlxl/6ys7AAdrJcm5WHDX9TVvYQ07A4/jTUsndZ44Y/1MbLF7FqxaBMPIW+8zx/CZDW0fuoBJ7d8g7lr6uSndOs/1weNc4l3u+hNZdRLZNO5+r0z5Wse4VL5rnmLvlvVl2DfCNlE6ApVJy05ss3NbWkGZhK88mOOa5VoHWAYnkWM3Zs65n2QXCNdJckD5Gc2RDCt78+QDI3YMHrDDdiP9lhluobDlIT0OJbfc+yIqTRqZTxzHPm2/un13036A+o0NJ0/GYqdvZbpJ6x3sg3YPchPKB1mv415D8ImMqQN2CdUe7XhQAZpsySbwWfMp3PRyvkPnAR0PsXOd1qErbGqzJH+1b2pbZyl2mIb6XLu4bc5n6SS0Oc7WIPTmAYWVqoGZH2G/LYCKwzyQAWjQJs5FLt4Kay5aPp08vWwBLm2/HL5JcvLRsC+eyb1SAVXQ49lytK907FAhzZt1jN3FXqXeP7MngXjHBpuTh1raYb4IHcFqB1h0Ujw2acZ/3p0Bto50C77lJObE2V2DsYt7+3i2IpvGe8d/l6c0hyyqd9AnQdMPUO9cfrMDtl5xvQt9HJnitN+7Ypt0nSGBkZP1H30c1gHW+GblAcDYsGuNK9eDmZ1zO5jLqhjlUPmTlQOTt11YL3vbLEjdFNBkyfSbak8vefYpXGzVBNRd2TKi+kSGnYTO6kEVaY+ikS8lh7TvzmVM/Inx1gyZaZ0F/ioLAUiCyB7u1RrsnOhnJarKPFhaDvusweu7QB8zo5U6mVl2n4I0kU6TjmPXWrBAQ/YkUkBAxA4dAIXWNiel/VSNSHlMuzftrktmPm3Tz/VoIYhgIeNpUN5Zm3UrPKLsz3DOxT3/sqlSJj/tMGRmqQqZO3dlLpin7KCbD+UR1VY2936bCU4pbz4Cmf1RbwIp70jsAQHxndpG3L6U++ABJZuNiECxswHO74oUPah/jcxpTh3T72UDv5oXmbyyfFo+K+7dSnuX2tzblq14nbDapOSPTsUTCFCyr6IjUA0q5ss31ZG0fUYgBoct228fYfcDo+7Ad65D5wCl3RdsfK9XOjdY1bcINeccei8tW1xqzwsr+BfTOIUpnDnebOPrNoGS7wZX4o7qDyttkhJvdGIzwaj0oFPnZoh1mcaO4Hi06EIHGBGls8hk5GD5h2BcfEiKgYj6vrdp4a7rgPKmKcsoM8wyiYFa1M3QjAMsSOc6Nsqiy0B7BtLdk8njirsWxiMfLL3tUAY6yS51GNLOGXpbN+5Rt/X+aI6C1C/33W0TyjEjovdVa3fLwegycewXeMNgdgNN6P1Gi0oUSggBTDAeHuUMZ4Hm9dpwiDKjc4mzbHRpn8wsNWxU4hveqRKOW1EHny4fdNqzEFubnkYWt6o5e3ZO2rffNkFJcfeii+vrxq2V9OYSzFJnmz91v8+WdZCTXwEcVbhAmdGuwHqW/VNkoV29k5FTFrkubZLrYCWPpEP2PfHyDLD3PiVdo/PPuJihLVguur4haHdoiSUjIhH5jXPNqYGYSgf557tVAYpZodF9rDHUvTTKnh/QoFjJYkO32zpqT6j7uuPYrewOUrjhTIZNPkfWBoAtTpvyb+WE56T3iyljBiaydguRKW+2R+PTsK5XTcrPIu76OdYUtOhrrMKozHj70RqIMYEs2lZUrQ1abd3+h7avmHWAG8tvDP6/KeVFrHSsDpo2EENiDUfh0TZhbRIcJy0uBRvatgoFWrXf1gPHoed9YXElG63Xs47KkBYe6Hz6PpmchKkM8KQgfRZMeC7YL6FuKjgLYbdgCs5hsHPGTVKZq7Zgj60rDseMzk8XZOPITPyPYj27Xm7YE0m/ezTFmSGELBa15v7lU+w/Wzum0Krne0UMIoq3oUbiE0VeU2NuajCjDLDQXWrLseM+qoPfIYQQeqLQc2/q54/Qs44Q6mopGLchsCZFFmuvD9LhNURTn6HTaPuc1YRaHrE2Aab1QvuYtFaXYSlZWTIw90QhhHc67i4jeNjOdOrmRanSGCTvLZ/rc7GdVeHfZm1fi0kCqzNyJcWSMp+O8tV23AGSzSxcLPpXNa8y4477M7OXOpHbIr2nIZN7kxq8Dj2L7g4SAmuyUYLCWont8N2RwZyQAc5yOM45IGZm3/n/e72YSY2KWDq7uL7IwGl3R2Du+z4EJmBwXn4aGAAQEBngbx9sKELUtez9nyUjzySHI0ZjRwQN/F/3+ht6ZnaA4FCzSzcWFCKiw3j+k7j6uH1PyFZ4o49DlMIeEXtiAiRA2RjCYskgPOgg4Nu9FAuVuVbV3RJJjd2V0RERInt0nQMKvQN4bc//ipolIgqh74lko6FzxMjERMETeD/kW2aPXZl5skcOoXcAnUNw2Pc9oPfeB1NcafPC5/Kv1ZSyC+PqLPTc/hmC1PsAgJgCAzGKkHwEYvgA2CM4BGRiZu/c5Qzqhx0cg14CcKzprFgVKNWorRWUq1ZCxKhn0XnvfSeqIZYARB03ZiKhH6GokPQyS8kdIgED879/38yMjATQEzCKuOeuc8zsUvGk3BDnz1EfWfBEKO0wu05qudictExQo9ocx2XtmmH7070cgEbjdMPz1VVOBNKoWw7tRmLqCYjEtMkDDbcbmmW00b0cAzMEQGDNI1YQP54D9ACD/UYA4AH7KJltJr9BlPJE+JG4f71efzrhMBIX06Qbil8VPlskEtcRcwihJ2YCAuRYVk/eo/cO0y8REQAZpzPnluRG7aCpf3n06P99U9/3iAjuUFfLyhjRcMq3I6JzHQBgsh14exHNPhA49I4CvcM79MTo0CFBc1WWKJ1WtDybGBE8Ohd9upG9lk3aFUF58YnYbLHR8plNuKoEGnFPD/dJ8KLTp9WV+2JaFh6wh5gQkG+wVinUHOwG/folGXYyAw/ZAMotqx92ojU9LSeWwQG/UYgkbv1FCXohSoN6RnZAwHpGyz64NNQwjpdfCith2Jbv3l0AJi4EW9ftaZDmGZIBvpEfXMObrxSTimB3pkgQpToP26gi5yIEMaIRJc5zcHW038/CYCpAFZlzzhfe5o2QYMTdo3gkKhtIzUK8ArHWovfsEMSTZkJC5xwe4DhMLoZrIC5zEDErzqCF4vJ9tUyJ1m0NGrzVKW2QuTLvbJ8EuLYJ1nU3V2hqVL3Efc/VPWDtZAnti1RjjLm3n9xyyQ+ruGwL7QT4YQh57qmlLG8l+34ZpQvswJXRN4bRfqStN5cPhuV33OYQrLKEovq02hj0odpprNrTT4FO4+B33dpfoAU2XA82e32POMDR+yUKFLImavKnQBJomnjWDpKrH8wVWBrTVOGNG4vKdPSD+LdlTrG6puVxZnBTZ8msIYnsJx6jXKgAABt0SURBVH3fA4A4VBmrElFgmZYTesoM0nvnDe6ETiwR9cQA8Hq9mLn+Dg1EDKbnQrWA/kHY+P8tA8imaDenX7UHuJpqKY2/fbrEutC7Tf/TIb6Edv+qDJ0BbWUEN5n7XwlLqLcbQGxOIDxC+Zi61mXUok/h1EJj9/vqD490q96K8kWEKULaKnn1ACahw5ic7caROVS3Dx7HnZAah+WC4wxbhlGsb2Zp7CCOS5h9UJ2OqY7DnngMt3qhKhLrP3o9Gh/e06FcvGmeMxd3LhiKqSWH1Va7qV1NhVuOPzgFmXDTSSvD61ePxFpE9surn7sDc3H/G4FmY8u+9bqKgm9RcoLdjF1aErf7JCGEvu/7vr/LB4apEMMPZ+GsONYpI8FxP71TBjOZNeKijeS+O9d0gC2sVxDGvYIqD+PRvHmjjphEa+OZRCkx9g17kmLnbo7pNG84LBaskr2LbuWNnHNbW1ufCPvudwmQ9bBja5NN7Kgan8xJZOM/9+ZlnP34I9okg4/IXFz9HseAWtKpVOIH7aKLMKka7hoMnDeeMx1gHUG18MmJz8ru0wgJ8q0ZYA2KlwN4nIJpDTcmHOZQ8tFBB3XuT0fe2ionHXBNblUDQgPqcxH3q4fBJtP+RGBjGdc2VUAGayfBYfWXiaCtPLvjudmAqy39pNwo/br6i66MDK2SnKIRPl2PxufTYmv2ZSXb2muU5k8xPO6KPl+Ekv2VKy+F2g/y9MYnEw9nXM8dTBbC2HGT0xzgScV81s3XPH0utLMVGQ8cHdkBnLLAOx4K49XU0+TKIf1wBFnRy72RP1nZ4yotSxPNeYZncVZ9gpy04G/RB3peK5jTmGoO4CBakySlX9TgfFo1B/cJ5N0zc9e22/KgI2WfW1bZEtsj6jgaH15rwmQrJkug18x5Zq8uz0MmLnbXMLfg/+xDOWZ5EcuDNUm9DGG3yWj1Q/ybsJsgn1rEv4zdy7MpCFcBuq71t1tkPjC0R/Q/nAurgNm0ZNgE6xBOBpsPUpEO8kbetNIWDSoPI5veg5GLW/ATKUdwhPCyH2Z+NRjqOp2objSdVbhpBYe+4L1cLJ+fwg4tj/NxMvAsWOdtjnntwh2k9pZp4CPs5Mj/y2KuOla3lT/QNvVmK34vAZw1UactcMZacnrtjlHaINZ67WsNbtg1Ozze2X97Ri4bg7aJq/BQSPUtRCTbj+2ctMyiC0BE2VANAEKZ1ebThhL089+/fzWvDoaArx7PHEpZv2+tMTXBghkRacX9Dih9StTWOdd1XeV5s0pr0tSoMB7bzkSH8SyjpClhkgVWmjVHTjRhlUmtFLL2XxboKe+wY36UZ9EcJ7b7FTY9F4p0WQjhn3/+ETnMqTFBne4+Ir5EJZUL0Q6UETI6uXVQwxiUW/u+t4O8XZ9+hBXar9cLjL23cp6t0Zt5axnzwnjnjrUq9w1e7nPEzr8X5eRklhicrZ7sPWWxmPn9focQ7Ehu7Eu/jFIh3qu+cZxf2a2vLzkGqc0lfDriYWUVn9iUhXoQSQEAM99la8gzqa6ntB7PZVusf3yBgTr8UXvVap5xMJTwQ4aMGZvizR8uglqc6i/VXPdHVD9aiPa8exQA20uFf7gI36GAxLqmsUA4MYZSKpdvsq5vx+6ZvCrS+VvdE6Fxu90Ru91P/LJFrJ/hyQK60QcmqvP09fgONXYLWM89ruiRZn0jn5gBbhAZSzY+nzZZcfdYngq7xDqZFZrfZBr2WevYzjjR1P09FG1m/tfgocOexEJLyxORzdhPZZ+Ifat2pgOsovy3qOdCRHzNjq9fGaBi026kWolUWULGTZ76mLHtI1hYI7X3jsEeJFhtMJaM6zzxu5HVU7XGnoosmvYjgOO4pZhiUmg0SHWPMAMe2gnfZhrvHstmPHHMH3FdEZDeCmd6o3ylyV0BmlK63wEWPJSfW0PJHnUc4DJGVX75aNzif9odIG0eXfPQJW5k2I/o4/rDMkr7oxHq+uFS2G7q1WJqkwVWzQoQOyH3mukaL7DDaHbeSmTBjhZiuDvwuAF/RBlMvJqo8I7Wtt+K3ULpEgdYPvzy++fiFsXzTSuosaKa1apZnepyYfmNs227L7SckZjEjfOWEVK1GdMDq56yRu3DzuQjJvZXAn0cbA70rrnok/GylrVtm2OzW4oeii/IGD19/DC1FQKukas2FSxK/Atm7xZkpvXNDrC1xn4rei7qz+dXFtdp2fNd+Tpb9jY5vMrjWXh6s6vfpq2fuSIVpi4LWChtX/3cb8VTKtAyQ61NJn0QrEao+VwhtmwFn7KaLbBJZv7eO5gjeMqi/y/AeqeXPgjNiTM/7ECWrbnfAT4LjMAIAHB7TM/dOjtZNKG+lLx9/k+HskovXigCuBoZYJlJOXGyb9L7PWsM30cza1CHQ3l8+1/273RQsYAtcOUcWh7bgyAii1P/52relCr3x3Fxs0PlxzLEWby8Uv8STsi6ffgaKSSMH5jFTrvUkrG8b4m2Wc76Ypx2DNJkwTMzb5dKDqS1DDABEqDEZ+eCJVpZumPM2X2ccw7jAbjAAAB43xFn8ehdAAYGmUNEnpdxerZtthBbffig7+vQofcIIXAfgvde5IKGrKOt8BwJSEQACM4zQE/AgRHh5Sfsj0lKXvmULGxB4BghEAdmChwYAB26PFlXr/TOfBbaEA6NmRAEBsBERc45IFMXOhbWOkthlPZ0gYEAnXMOMYQAwHKmtFp7xAAMDh2iZ3pr9tJOwoJm1bI3TDLBOUdUqUF6AZesZwRwiJ4lE4sTzXWY2cEwDyW3ltA5zxgfkZ0DipRDcg8iQvQnv98xlPJK1gwZgJhdnAsmlSTXRlEc+4HSTPzrTfEcURH9KPPYnkUig2QiTFvI0nHiqwUUAgDIxBPAMAUUFQ1Naw0H4IDlPwZmZEREws18J/TfzvGhwrDvEBjRe4+IZLKLMI5w4cYx2/PZSlsoig4ESA9FaEuf6unJg9UuQeSeuq7zzkvyHBEdIADsoIdN8O7FzMDsnSeEnigEBnCcJjoTH61leIjIe9/3vRspr1mhN0c/bPZCh1RKEL+ZoqBIabKYDsEhMQTgfQ4Amyc+3QcepgsR0PXEzITeOXCIyOO0sL6sLJmHQTJE49vNyAc9qRERxGRiBoA/f/7YwkCu2J91EzBZNfIi79CDwz/+xSG45BNExXp9VgkAKACiZwAiJorWVxzhFlxyDrACEXm1YhYQMCICAvBAeStLBU5hxZEVvnX010MdCcsnGgLI7OndDqoKBWF5ldGcvoTxh8eBgIEJAX06XNlG4hekz9yf7JyoIAsc3UliCiHQtYHFE3BQ7KZXHn0zd09mpkRoal19dAhbgxX9ljeh4I74/fgELL1yeeYn3Ejnoi9UK2d1Oqz/X3/RcXx2tMwhNSfvr8LWANxDaWwlMmteouFWFp1OnzZgDea55z7lOgyDz/ZMXszHKjSYmWxPjTbKBm+BdczmEk6ZWShU99yc+UWINI2MHFNuoiSG6E+2cXfMrzv8HRzjo/15OyYHae0ZXmHPnIsjJtBpDrA1xexoNkXgrPziJN2WdQOmPTxKQxJJ3Rr5Y4cB8nmsINC3QmKHun/A6iGYEXM7niJsj4AAyA4BQI4gRmYECQNhuzw6g8zFFZoJPHQjgLH7unCTEqW1JKvCTIFvOCZnK7LxfxQo9kXs53KH88IrM7MrvMSVA9Axt+AByjCkl2y5t0eGN9fxwmq+OdjbUfqVc84LiSWKRXgSVxq5PYiyq/kjM9mVfkoqqqzFK6O3FRnrGiJkPk+sTno4rOosI1Zg9EX88qTneu+19bR93FMQVVoy4CFWq9V4rvW3h54aj5q9U6Cc6BIXL2WSx8RsxODjWfhcqDKVyZS6Bp0x51zXdVInosx70N9B0w5aZewjpAERucIRWGPPnPBoBESQZbKTtvWpZ2aAT4leOEAwfSko1Xot3LZ0AkUy73h6C8b0MqRfpRjZ1noThtHvz+IfEa+lm9H4LE3CihWl1Tdwl6SPztu+2Zu8f0hdRrMr975EJai+XJ4ILioO1JjObLtySoW1PY508+OgTrh8FqM2O2tahZj33puCc3uTHY9GRO89GNPnWWEpnRnw7hYayLxfZmYYZaS/2AdmE1leqfXYBJqvH+ANUE2q637dm4pJEwVFa1H2FRCl5mGIHafZqzQAvqN1WTuwJGrl2MJPrMPGwxanQyXrXyMeB4MnM+HSX3NFYbYD2JtsnY6YME0obcVGUKpCZg5M7jx7ZgdkLY50tL22BHoHMJXd22MJPjK2KubjfdWsP9kmyiVXhuQUppLvd7xFlmtCRA+OgcH5YVGOjf8WzI2amd8hOGY0YYUFfp6d0hQFhzH1BlPJb3VVawSWSKj4fnGYdg/hAqta1QtGnRAR+DxZ+iyvwxrKw0ulF7EOsFzpu4nk8CZorNghktGa8VYNz1wpmmVmekfe+Tq+O4GpdAAAgABMPK1BH0SHu/HRgEi7FICZAzAzvdI+85oOz3WQdy/3FmWhvej5n0QS2bPsU065/3VQeiCiN4bOYVfRgZf5CcBk6vXU8RAJ800+8Uf965IbtuwAq3ZG7aBx2FrWez6CbtfAMiMmiw4l1YgOAsF46ihmIffLBE47IKwH3r7eYRO8zr6vPAxFlKUbDaBLHODEijtZwp7Lpzdc8ysN2+/mxjLI0VppTRagUlgiAAAp0pA/7HiKSjREFA713otlT0RPrHzLZHQ2jdZFiXs/ClFYfi4foS6QOsCUuOAIWTYO69BqKhLWxa2kwN4agpu0aSOqwrKeNQisUZLmJyeh3daD6k6h2KyisnHY5ZaZcVypJM+uDhERT+eRHjSZO6AzIKp25fUqJ79PlOkkcNoArP+0Qa4TMZjRcELpXGVoaE9kuFoLdSJwQ+XzD2k2kvyf3aJlP6sX921svBfWblFkBKY0z8xd16mhCMdCV5vcnHYgU9Ej+JPsmU3AtOlMF27fQ893gA+uolgk61+MgNFhjE+HwMyxkSMArKvI10L8LIrG0hH3yMtcgNSdNOdM1dSixxHBRbW0raDCGqbppFFkZjY2wXJnyzYxSUiICMN8SoPPQTeAqYTU6+fIe/B44weJPCDg8HP9bTsdUBU25LEmaEIFEabqnYna0cmXlS9DCHbT7A4pZnm2PtDHZjaYQsVxM1xKSsTEurRwTw6w3XP+4f4zvBb9ENmtZHzv9iQWwJQcjtKVox4FAHBu8sorQDE2yASjQsqMVb/T0wMA49BquT4jMBHi7BJoZCekOhlmwAcGQy0QPaRcIjOGMMjwLJ7FzN67E99XZpGIegp2a2tTmCMG6wAH8aNw6fo5bKr7YARE7E1PjSh5p8b8TXngEmTKzUZhrPneJVwUJRHRbnnbmgFzEUahfATR76qz4hYk0WUIALyZ/hEZosB5VlhnMHeTPeOqNDJQvtZNsiDPdTjUrK/GyQ7wcYvB0oFNqny8rdrB33269JwvYbW14jg5qmX/DKach0loRzrJ8rqcOh/I97Hpl4H8c26HBpnuvkq6aE5VsfS54EjfCN5V0GgJj4jAeTRexDIFMnNP3Jl5hqdp1oyislhJRmmUwiu7A5blc4XPlfBaq1iZA6b6FLXG4pd1F1/pVo55y/5UdSh1UQZ811wPd8ebLoLl1rJfg8gxMXadP42/BrXCQ/zlKXOb2RtQxfYFcTZoZCJWeGiz0FVYMxtWL+tPmoyX3oAyHm3jBSP9bmoG7R32UaNzTjyevu/XVOI0BWYmGh3BVX8AwzLtusPJ5wBb58H7znvfh1BODTPbvmf6gQH+/n1LnC/zT+aeG0UAxggMAb/f7/f7/Z///AemTj2NAbDxowHAOQwhBCZJKfOn57YGq4RGzhtMl/JmzDbY6EWbEyGy//799+I3qIFMVY8UwJCys0m3jeXeOH0r+9w2LcgQgvc+tjwrBgyWT81GAzbN6tRwnKS3heeKDEv9oYDH8kEht+2cG5Q94hAFvKmYS/jItmS3o81mQCIsYklnmDUinXFuGcAsCiKyzEAIkgEgIvRthf/mRhMDtwBwfUmendVgmq6FELRxN0FuC7Yp/K2g7vv+9Xr5eMj2xICVGqn4Xua8pyAvznLe/ML+DozHJgcmfr+JSLqhZsd6ZYOEsVMn8tYmOjiV8d8lEj8KK9WGMuyX/zN5k4/Ughh7XSmnq/UmZ4GGEPq+P/AqVRGYwCECCj34BNhyCgB8qiAr9fV///nvyju3JQcTpPhLwm1R8sxoBEGpF7SCQ409EWIr5ZX16/7+/dv9eUG6YTlOu5TRRbRDStq/TVG5A6UUmrMYKdnYUnA6zMCMGJvT7//++y+lOJKKwQbnc86wEepVF3QIF45Nx/VvNJrqsb9m8c8//0DSSgxRf+3AJSXQbFTsXGRFJ0XN6MTH5wwjhIAGANbTweSnDHqXTM+t7E8PAo7j9ERkA9ZreMwyc7xJk13pfjgXnADGLbEXDFQx/lVWiLKPZ9SNlKe4aNMP2dTsShtKeBafkpzXnvRE9teFdymdCk49xtWdaFBxroFqCmZGd85b2NiNrXB2LpqeWZuJJyISP2rMauJdrEYAk+jQ119JOdnNORUBdm60JVifVQa4Ie0RGImap9UWZRUc6/kuWx79oc7Ac0lRiYGZXz4PZ+wWTZmJ+DhRvwZqp82VLepuqXIaM+ULu7jpHYIfb/jSIcEkTXIMWn3riqyEBsUwFQBb22lSs1vTWv0dghGzWIKv8RpngM0BkBl97rvb5D8z1+bAeEe4qgv0wEIu/nvyIjBsHDfxu9lg2NpHI0BxXi6mXcF2Qu1oAwfpBVr66gfHcy7mAgRxqBgrbgk4MEEYSraWiWaSY6N5zXm6+Cn7fn/YhEmvzH5DKXikyk/M6CARul1UgaaZgTLsKKQ6Jl2rSPhRe2YUclCSS4eWgbyUsYBGGtH8kMwVavowM8XUMKBzz5oMTjkxBGAKDrBzPjN8Ya8ctoajBQEHCoECP7ACUF7HmbZzsQXRlM2EiGGs73RO3qHfbUkQMDMxgSNy3cSpewt3HobdRqx5ky5Dhr7vY6pz5U+mzgu1CQBmpmMnedwORgiyGZBJepTYtEcqhprGQp7WRlWsp/do86MUZbaGKLsSytzvuIFfTP8iSKsRhvmJnkHf9+Scl7ap8lwwvW/sUNNx7epmJwX01MDrITgkYBjXSzIzpexBfn1cHVYBmGrf3PiqhznAwvshkAf/SpHBbPDxpTheP4k5ORnGgQMVBWcJgau6QBORxDbmduRiKl/UULSNhh6Hhrc1MpGlUOxomTmEB2ugSYhGevm4xBpGnZRWmW7mWCAnc/gYbvxhN9gAxlUbypu2hqLv+0EYQa6q9z3d/jMzMQdHaLzxiSh65Q8iUE7BwcwO1gtGkip9CGwVqGmbkSb/0VaIvH4AZh7aoc15sGswWXwkFqTNmevTnzJ7XFROEeByCWUyS1DeOipck5Lc9O42icGIIcQDRW0SyT598odXaPwKYIyVZVmuYyXmNK90/eSHnICiUME1CGfE95uUHiwD0sz+RpzpB4kmx6iivic6niC5HZaFIVmqXTfIPb3GqsVMvsfQszhRI/9hG1myqdP82D2HAFwq5jdS9BmS81xYO9lKA2s12Q820K92OCLSxkKwBsGpzKrn3nufNTTd8S6lp6YSRrd6AZ6zxeHCc4BjeQC4SWe9D8mAZmLZfyW7mE5dejUT1QcuDWul4+z7M8dRC5lVp9ItswUXFO07BB7biIzui0Xc1W0H2tyJVMJygbVlY90EDPUaQhWyXU02EOJh+rDqhE3MT/+vvqIbm9FE8SjEBx3NxWNX1n6pnwdvYVzsHZjIbtZIk08Yg/VP8icKl0ACK7LcKrGPuKbWHJEpC6EP5twjG4N4IqIt4Fzi0ZHDySkArSJ9KPx2ExPL823wLFfap4hDqEaeZdvJiX10qhNGcbe1lc/ZN3GKIDo/RNTTkw4wy5CttaUHNvmPubmSeSxfn4u+uM+doo8YvNCxhYapbjHOnokIRE9A9G/Sjwv8OwddNRmAODCTkkHm32PUtsPSPFZ4rkHZRUiRdDCPKFN7dgzXMACQsavlQoxBjdmI4SPAJoLfcyDgjr1zTuwWtzqbPScnszJhNRHPcknOd4ARUdmFEPgdm1rpBfKqWZddjSJICc1x6CZ+lZ72QToSgzT47F0egrkwknX+M/NIr7FWeIwp2ogAPqkk44fdYGYihlTqrCwBReIRNKJ/XtMiNA/Sbyx0kDA+Kvw5PDrAslhZn2JBaS+WmDsj71cnzT1xDnJYA1qdt0nZtQZuXFIe3T9monjsqj7xWcItoxNO1XS+y3M46pRSKpUcRZf2hucz9EQ+Gd/Z/oVS6fNUpdWDJh9MJgdMz4K1P0xBCmZmcBrC02z8g+yNDAMrAUAyJIT25IKumzY19YKMDMo96oKH9cmdQckCmqjI0rBW8Q0EozbrVOu7TUATetZb2WFkQjJeDIMl8FyiPQJrM9twWN8HO1Ew5e/oD5n5LH/nXlgqCpz/acetwMSs2Xi/1vg5BSc7wBq40lH2fV9ayaUnBmcrwlgrSaN8CxbH2DBr2609RU0tQ1ZB9iyVk2z5035O9RnTvk2pfp6S4fxhGWjKsezOFjbBKSvQ0ezvOv5cmDKAMu9Xn8imAPjw82+AuvqqOIfZNjMs/+8pQMGkAMDOzL8Vp41Vayzs/MGxD8YzZ7ktBwjmYIlWdadsulLJZm3rc7XPdRCngsXXFZuDCQBwXHGqsycBTev9Mo6uAcODC5OMWT0IAAA4s2R2G38ZtFLIUthxNkawH6ByEorw/RooNQY2EgyH2z7oEEexqCwV+aLm4vNNUmrT3hbGTUlR8mRy49VsurznsAVgynGJXSruL4zZkEwGjE0AmlPPFzRL4A73gFApkTU3VjoXig2maH8ygf+/AJ0ccc9kigL3MFZqkz9kU+KeyW2YqZ1pE+yQAdxYpOup1N3eMi4jJwdA8tdOnJyrSqAR44HRiMhFMFhnRMXcjjlaOQyrn0pydC5WaE/a0s8yjCaHKjrVGpfyvWZ6OaOwsb8h937KJPxwECUzhjHvZLRxVuFxSWAq77Lv/dTW0MeZ0QLLdzbAacU9TZW2grED7bo8CJlGgCTBfCrZBeO+IuLr9dp0fy4SJgPpFrUGbmYjYuNAE3d/v0d7U9WA6MsgS3GI5SZ7y84bAzgt+DImne6hsIOJq2n6CTzO2oPUoN4y6TKs5rWFo4GMsHUOTbL0QRgRA3MA8OlzduXsCU/jaJR+zrwvGIIO35Axs1DHElN+2wZBKDG4nWo19my4Idm6256u98GxVLR73e1aOGLWnTgiOY+8/FeA7Iaa8R4kVToqG3WGZXqJJgTgg+RhFn8BAGCT7k5lQfApNM/j8LeRk6MKEcxrxo/i/wF3FdaJXG/OBwAAAABJRU5ErkJggg==)"
      ]
    }
  ]
}